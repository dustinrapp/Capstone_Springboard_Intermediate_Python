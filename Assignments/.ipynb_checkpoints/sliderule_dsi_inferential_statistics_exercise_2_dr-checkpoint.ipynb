{
 "cells": [
  {
   "cell_type": "markdown",
   "metadata": {},
   "source": [
    "# Examining Racial Discrimination in the US Job Market\n",
    "\n",
    "### Background\n",
    "Racial discrimination continues to be pervasive in cultures throughout the world. Researchers examined the level of racial discrimination in the United States labor market by randomly assigning identical résumés to black-sounding or white-sounding names and observing the impact on requests for interviews from employers.\n",
    "\n",
    "### Data\n",
    "In the dataset provided, each row represents a resume. The 'race' column has two values, 'b' and 'w', indicating black-sounding and white-sounding. The column 'call' has two values, 1 and 0, indicating whether the resume received a call from employers or not.\n",
    "\n",
    "Note that the 'b' and 'w' values in race are assigned randomly to the resumes when presented to the employer."
   ]
  },
  {
   "cell_type": "markdown",
   "metadata": {},
   "source": [
    "### Exercises\n",
    "You will perform a statistical analysis to establish whether race has a significant impact on the rate of callbacks for resumes.\n",
    "\n",
    "Answer the following questions **in this notebook below and submit to your Github account**. \n",
    "\n",
    "   1. What test is appropriate for this problem? Does CLT apply?\n",
    "   2. What are the null and alternate hypotheses?\n",
    "   3. Compute margin of error, confidence interval, and p-value. Try using both the bootstrapping and the frequentist statistical approaches.\n",
    "   4. Write a story describing the statistical significance in the context or the original problem.\n",
    "   5. Does your analysis mean that race/name is the most important factor in callback success? Why or why not? If not, how would you amend your analysis?\n",
    "\n",
    "You can include written notes in notebook cells using Markdown: \n",
    "   - In the control panel at the top, choose Cell > Cell Type > Markdown\n",
    "   - Markdown syntax: http://nestacms.com/docs/creating-content/markdown-cheat-sheet\n",
    "\n",
    "#### Resources\n",
    "+ Experiment information and data source: http://www.povertyactionlab.org/evaluation/discrimination-job-market-united-states\n",
    "+ Scipy statistical methods: http://docs.scipy.org/doc/scipy/reference/stats.html \n",
    "+ Markdown syntax: http://nestacms.com/docs/creating-content/markdown-cheat-sheet\n",
    "+ Formulas for the Bernoulli distribution: https://en.wikipedia.org/wiki/Bernoulli_distribution"
   ]
  },
  {
   "cell_type": "code",
   "execution_count": 1,
   "metadata": {},
   "outputs": [],
   "source": [
    "import pandas as pd\n",
    "import numpy as np\n",
    "from scipy import stats\n",
    "import matplotlib.pyplot as plt"
   ]
  },
  {
   "cell_type": "code",
   "execution_count": 2,
   "metadata": {},
   "outputs": [],
   "source": [
    "data = pd.io.stata.read_stata('C:/Users/RAPP/Documents/SPringboard Intermediate Python/EDA_racial_discrimination/data/us_job_market_discrimination.dta')"
   ]
  },
  {
   "cell_type": "code",
   "execution_count": 3,
   "metadata": {},
   "outputs": [
    {
     "data": {
      "text/plain": [
       "235.0"
      ]
     },
     "execution_count": 3,
     "metadata": {},
     "output_type": "execute_result"
    }
   ],
   "source": [
    "# number of callbacks for black-sounding names\n",
    "sum(data[data.race=='w'].call)"
   ]
  },
  {
   "cell_type": "code",
   "execution_count": 4,
   "metadata": {},
   "outputs": [
    {
     "data": {
      "text/html": [
       "<div>\n",
       "<style scoped>\n",
       "    .dataframe tbody tr th:only-of-type {\n",
       "        vertical-align: middle;\n",
       "    }\n",
       "\n",
       "    .dataframe tbody tr th {\n",
       "        vertical-align: top;\n",
       "    }\n",
       "\n",
       "    .dataframe thead th {\n",
       "        text-align: right;\n",
       "    }\n",
       "</style>\n",
       "<table border=\"1\" class=\"dataframe\">\n",
       "  <thead>\n",
       "    <tr style=\"text-align: right;\">\n",
       "      <th></th>\n",
       "      <th>id</th>\n",
       "      <th>ad</th>\n",
       "      <th>education</th>\n",
       "      <th>ofjobs</th>\n",
       "      <th>yearsexp</th>\n",
       "      <th>honors</th>\n",
       "      <th>volunteer</th>\n",
       "      <th>military</th>\n",
       "      <th>empholes</th>\n",
       "      <th>occupspecific</th>\n",
       "      <th>...</th>\n",
       "      <th>compreq</th>\n",
       "      <th>orgreq</th>\n",
       "      <th>manuf</th>\n",
       "      <th>transcom</th>\n",
       "      <th>bankreal</th>\n",
       "      <th>trade</th>\n",
       "      <th>busservice</th>\n",
       "      <th>othservice</th>\n",
       "      <th>missind</th>\n",
       "      <th>ownership</th>\n",
       "    </tr>\n",
       "  </thead>\n",
       "  <tbody>\n",
       "    <tr>\n",
       "      <th>0</th>\n",
       "      <td>b</td>\n",
       "      <td>1</td>\n",
       "      <td>4</td>\n",
       "      <td>2</td>\n",
       "      <td>6</td>\n",
       "      <td>0</td>\n",
       "      <td>0</td>\n",
       "      <td>0</td>\n",
       "      <td>1</td>\n",
       "      <td>17</td>\n",
       "      <td>...</td>\n",
       "      <td>1.0</td>\n",
       "      <td>0.0</td>\n",
       "      <td>1.0</td>\n",
       "      <td>0.0</td>\n",
       "      <td>0.0</td>\n",
       "      <td>0.0</td>\n",
       "      <td>0.0</td>\n",
       "      <td>0.0</td>\n",
       "      <td>0.0</td>\n",
       "      <td></td>\n",
       "    </tr>\n",
       "    <tr>\n",
       "      <th>1</th>\n",
       "      <td>b</td>\n",
       "      <td>1</td>\n",
       "      <td>3</td>\n",
       "      <td>3</td>\n",
       "      <td>6</td>\n",
       "      <td>0</td>\n",
       "      <td>1</td>\n",
       "      <td>1</td>\n",
       "      <td>0</td>\n",
       "      <td>316</td>\n",
       "      <td>...</td>\n",
       "      <td>1.0</td>\n",
       "      <td>0.0</td>\n",
       "      <td>1.0</td>\n",
       "      <td>0.0</td>\n",
       "      <td>0.0</td>\n",
       "      <td>0.0</td>\n",
       "      <td>0.0</td>\n",
       "      <td>0.0</td>\n",
       "      <td>0.0</td>\n",
       "      <td></td>\n",
       "    </tr>\n",
       "    <tr>\n",
       "      <th>2</th>\n",
       "      <td>b</td>\n",
       "      <td>1</td>\n",
       "      <td>4</td>\n",
       "      <td>1</td>\n",
       "      <td>6</td>\n",
       "      <td>0</td>\n",
       "      <td>0</td>\n",
       "      <td>0</td>\n",
       "      <td>0</td>\n",
       "      <td>19</td>\n",
       "      <td>...</td>\n",
       "      <td>1.0</td>\n",
       "      <td>0.0</td>\n",
       "      <td>1.0</td>\n",
       "      <td>0.0</td>\n",
       "      <td>0.0</td>\n",
       "      <td>0.0</td>\n",
       "      <td>0.0</td>\n",
       "      <td>0.0</td>\n",
       "      <td>0.0</td>\n",
       "      <td></td>\n",
       "    </tr>\n",
       "    <tr>\n",
       "      <th>3</th>\n",
       "      <td>b</td>\n",
       "      <td>1</td>\n",
       "      <td>3</td>\n",
       "      <td>4</td>\n",
       "      <td>6</td>\n",
       "      <td>0</td>\n",
       "      <td>1</td>\n",
       "      <td>0</td>\n",
       "      <td>1</td>\n",
       "      <td>313</td>\n",
       "      <td>...</td>\n",
       "      <td>1.0</td>\n",
       "      <td>0.0</td>\n",
       "      <td>1.0</td>\n",
       "      <td>0.0</td>\n",
       "      <td>0.0</td>\n",
       "      <td>0.0</td>\n",
       "      <td>0.0</td>\n",
       "      <td>0.0</td>\n",
       "      <td>0.0</td>\n",
       "      <td></td>\n",
       "    </tr>\n",
       "    <tr>\n",
       "      <th>4</th>\n",
       "      <td>b</td>\n",
       "      <td>1</td>\n",
       "      <td>3</td>\n",
       "      <td>3</td>\n",
       "      <td>22</td>\n",
       "      <td>0</td>\n",
       "      <td>0</td>\n",
       "      <td>0</td>\n",
       "      <td>0</td>\n",
       "      <td>313</td>\n",
       "      <td>...</td>\n",
       "      <td>1.0</td>\n",
       "      <td>1.0</td>\n",
       "      <td>0.0</td>\n",
       "      <td>0.0</td>\n",
       "      <td>0.0</td>\n",
       "      <td>0.0</td>\n",
       "      <td>0.0</td>\n",
       "      <td>1.0</td>\n",
       "      <td>0.0</td>\n",
       "      <td>Nonprofit</td>\n",
       "    </tr>\n",
       "  </tbody>\n",
       "</table>\n",
       "<p>5 rows × 65 columns</p>\n",
       "</div>"
      ],
      "text/plain": [
       "  id ad  education  ofjobs  yearsexp  honors  volunteer  military  empholes  \\\n",
       "0  b  1          4       2         6       0          0         0         1   \n",
       "1  b  1          3       3         6       0          1         1         0   \n",
       "2  b  1          4       1         6       0          0         0         0   \n",
       "3  b  1          3       4         6       0          1         0         1   \n",
       "4  b  1          3       3        22       0          0         0         0   \n",
       "\n",
       "   occupspecific  ...  compreq  orgreq  manuf  transcom  bankreal trade  \\\n",
       "0             17  ...      1.0     0.0    1.0       0.0       0.0   0.0   \n",
       "1            316  ...      1.0     0.0    1.0       0.0       0.0   0.0   \n",
       "2             19  ...      1.0     0.0    1.0       0.0       0.0   0.0   \n",
       "3            313  ...      1.0     0.0    1.0       0.0       0.0   0.0   \n",
       "4            313  ...      1.0     1.0    0.0       0.0       0.0   0.0   \n",
       "\n",
       "  busservice othservice  missind  ownership  \n",
       "0        0.0        0.0      0.0             \n",
       "1        0.0        0.0      0.0             \n",
       "2        0.0        0.0      0.0             \n",
       "3        0.0        0.0      0.0             \n",
       "4        0.0        1.0      0.0  Nonprofit  \n",
       "\n",
       "[5 rows x 65 columns]"
      ]
     },
     "execution_count": 4,
     "metadata": {},
     "output_type": "execute_result"
    }
   ],
   "source": [
    "data.head()"
   ]
  },
  {
   "cell_type": "code",
   "execution_count": 5,
   "metadata": {},
   "outputs": [],
   "source": [
    "\n",
    "w = data[data.race=='w']\n",
    "b = data[data.race=='b']\n"
   ]
  },
  {
   "cell_type": "markdown",
   "metadata": {},
   "source": [
    "***\n",
    "***"
   ]
  },
  {
   "cell_type": "markdown",
   "metadata": {},
   "source": [
    "# Q1. What test is appropriate for this problem? Does CLT apply?"
   ]
  },
  {
   "cell_type": "markdown",
   "metadata": {},
   "source": [
    "The CLT does apply as the sample size is large (>30).  The most appropriate test would be a hyptothesis permutation test (A/B test) or a two proportion freqentist test"
   ]
  },
  {
   "cell_type": "markdown",
   "metadata": {},
   "source": [
    "***"
   ]
  },
  {
   "cell_type": "markdown",
   "metadata": {},
   "source": [
    "# Q2. What are the null and alternate hypotheses?"
   ]
  },
  {
   "cell_type": "markdown",
   "metadata": {},
   "source": [
    "The null and alternative hypotheses that will be tested:  \n",
    "H0:  There is no difference in the fraction of black callbacks as compared to the fraction of white callbacks  \n",
    "H1:  There is a difference in the fraction of black callbacks as compared to the fraction of white callbacks  "
   ]
  },
  {
   "cell_type": "markdown",
   "metadata": {},
   "source": [
    "***"
   ]
  },
  {
   "cell_type": "markdown",
   "metadata": {},
   "source": [
    "# Q3: Compute margin of error, confidence interval, and p-value. Try using both the bootstrapping and the frequentist statistical approaches."
   ]
  },
  {
   "cell_type": "markdown",
   "metadata": {},
   "source": [
    "### Try bootstrapping method with permutation test\n",
    "\n",
    "\n"
   ]
  },
  {
   "cell_type": "markdown",
   "metadata": {},
   "source": [
    "**Define applicable functions**"
   ]
  },
  {
   "cell_type": "code",
   "execution_count": 6,
   "metadata": {},
   "outputs": [],
   "source": [
    "def diff_from_mean(data, diff= 98.6):\n",
    "    return np.mean(data) -diff\n",
    "\n",
    "def diff_frac(data_A, data_B):\n",
    "    frac_A = np.sum(data_A)/len(data_A)\n",
    "    frac_B = np.sum(data_B)/len(data_B)\n",
    "    return frac_B - frac_A\n",
    "\n",
    "def permutation_sample(data1, data2):\n",
    "    \"\"\"Generate a permutation sample from two data sets.\"\"\"\n",
    "\n",
    "    # Concatenate the data sets: data\n",
    "    data = np.concatenate((data1, data2))\n",
    "\n",
    "    # Permute the concatenated array: permuted_data\n",
    "    permuted_data = np.random.permutation(data)\n",
    "\n",
    "    # Split the permuted array into two: perm_sample_1, perm_sample_2\n",
    "    perm_sample_1 = permuted_data[:len(data1)]\n",
    "    perm_sample_2 = permuted_data[len(data1):]\n",
    "\n",
    "    return perm_sample_1, perm_sample_2\n",
    "\n",
    "\n",
    "def draw_perm_reps(data_1, data_2, func, size=1):\n",
    "\n",
    "    # Initialize array of replicates: perm_replicates\n",
    "    perm_replicates = np.empty(size)\n",
    "\n",
    "    for i in range(size):\n",
    "        # Generate permutation sample\n",
    "        perm_sample_1, perm_sample_2 = permutation_sample(data_1, data_2)\n",
    "\n",
    "        # Compute the test statistic23\n",
    "        perm_replicates[i] = func(perm_sample_1, perm_sample_2)\n",
    "\n",
    "    return perm_replicates"
   ]
  },
  {
   "cell_type": "markdown",
   "metadata": {},
   "source": [
    "**Generate 100000 replicates.  Each replicate gives a potential difference in fraction of black callbacks compared to white callbacks.  The mean of the distribution of replicates should be near zero.**"
   ]
  },
  {
   "cell_type": "code",
   "execution_count": 7,
   "metadata": {},
   "outputs": [
    {
     "name": "stdout",
     "output_type": "stream",
     "text": [
      "157.0 235.0\n"
     ]
    },
    {
     "data": {
      "image/png": "[encoded data removed]",
      "text/plain": [
       "<Figure size 432x288 with 1 Axes>"
      ]
     },
     "metadata": {},
     "output_type": "display_data"
    }
   ],
   "source": [
    "b_callbacks = sum(data[data.race=='b'].call)\n",
    "w_callbacks = sum(data[data.race=='w'].call)\n",
    "print(b_callbacks, w_callbacks)                  \n",
    "                  \n",
    "perm_replicates = np.empty(100000)\n",
    "\n",
    "\n",
    "for i in range(100000):\n",
    "    perm_replicates[i] = draw_perm_reps(data[data.race=='w'].call, data[data.race=='b'].call, diff_frac)\n",
    "    \n",
    "plt.hist(perm_replicates, bins = 30)\n",
    "_ = plt.xlabel('permutation replicates: frac of black callbacks minus frac of white callbacks')\n",
    "_ = plt.ylabel('count') "
   ]
  },
  {
   "cell_type": "markdown",
   "metadata": {},
   "source": [
    "**Perform permutation test**"
   ]
  },
  {
   "cell_type": "code",
   "execution_count": 8,
   "metadata": {},
   "outputs": [
    {
     "name": "stdout",
     "output_type": "stream",
     "text": [
      "The fraction of white callbacks in the sample dataset is: 0.09650924024640657\n",
      "The fraction of black callbacks the sample  dataset is: 0.06447638603696099\n",
      "In the sample dataset, the difference between the fraction of black callbacks and the fraction of white callbacks is: -0.032032854209445585\n",
      "Assuming the distribution of replicates represents the population, the probability of getting this difference is 3e-05\n",
      "\n"
     ]
    }
   ],
   "source": [
    "\n",
    "    \n",
    "diff_frac_obs = diff_frac(data[data.race=='w'].call, data[data.race=='b'].call)\n",
    "print(\"The fraction of white callbacks in the sample dataset is: \"+ str(np.sum(data[data.race=='w'].call)/len(data[data.race=='w'].call)))\n",
    "print(\"The fraction of black callbacks the sample  dataset is: \"+ str(np.sum(data[data.race=='b'].call)/len(data[data.race=='b'].call)))\n",
    "print(\"In the sample dataset, the difference between the fraction of black callbacks and the fraction of white callbacks is: \"+ str(diff_frac_obs))\n",
    "\n",
    "\n",
    "p_value = np.sum(perm_replicates < diff_frac_obs)/100000\n",
    "\n",
    "\n",
    "print(\"Assuming the distribution of replicates represents the population, the probability of getting this difference is \" + str(p_value))\n",
    "print(\"\")"
   ]
  },
  {
   "cell_type": "markdown",
   "metadata": {},
   "source": [
    "The p value is 0.00005, which is less then 0.025 (half of 5% as required for a two tailed test).  Thus we can reject the null hypothesis."
   ]
  },
  {
   "cell_type": "markdown",
   "metadata": {},
   "source": [
    "**Compute margin of error, confidence interval**\n",
    "\n",
    "For a distribution, the margin of error can be calculated by the following equation:\n",
    "$$ MOE  = {\\sigma}{z} $$  \n",
    "The confidence interval is:\n",
    "\n",
    "$$ \\mu \\pm z*MOE $$ "
   ]
  },
  {
   "cell_type": "code",
   "execution_count": 9,
   "metadata": {},
   "outputs": [
    {
     "name": "stdout",
     "output_type": "stream",
     "text": [
      "Assuming the distribution of replicates is a good represention of the population,at the 95% confidence interval, the difference between the fraction of blacks callbacks and fraction of white callbacks should be between 0.015279538236423938 and -0.015285813390428046\n",
      "The margin of error is: 0.015282675813425992\n",
      "Using np.percentile, 95% of the replicate values lie between -0.015605749486652984 and 0.015605749486652984\n"
     ]
    }
   ],
   "source": [
    "conf_int = np.percentile(perm_replicates, [2.5, 97.5])\n",
    "mu = np.mean(perm_replicates)\n",
    "sigma = np.std(perm_replicates)\n",
    "std_err = sigma/np.sqrt(100000)\n",
    "moe = 1.9599*sigma\n",
    "\n",
    "\n",
    "#print(\"The confidence interval is: \" + str(conf_int))\n",
    "print(\"Assuming the distribution of replicates is a good represention of the population,at the 95% confidence interval, the difference between the fraction of blacks callbacks and fraction of white callbacks should be between \"  + str(moe+mu) + \" and \"+str(mu-moe))\n",
    "print(\"The margin of error is: \" + str(moe))\n",
    "\n",
    "print(\"Using np.percentile, 95% of the replicate values lie between \"  + str(conf_int[0]) + \" and \"+str(conf_int[1]))"
   ]
  },
  {
   "cell_type": "markdown",
   "metadata": {},
   "source": [
    "***"
   ]
  },
  {
   "cell_type": "markdown",
   "metadata": {},
   "source": [
    "## Frequentist test using a hypothesis test for the difference between two proportions"
   ]
  },
  {
   "cell_type": "markdown",
   "metadata": {},
   "source": [
    "The test procedure, called the two-proportion z-test, is appropriate when the following conditions are met:\n",
    "\n",
    "* The sampling method for each population is simple random sampling.\n",
    "* The samples are independent.\n",
    "* Each sample includes at least 10 successes and 10 failures.\n",
    "* Each population is at least 20 times as big as its sample.\n",
    "\n",
    "In this case, all these conditions are met.  \n",
    "  \n",
    "An outline of the method is found here: https://stattrek.com/hypothesis-test/difference-in-proportions.aspx"
   ]
  },
  {
   "cell_type": "markdown",
   "metadata": {},
   "source": [
    "The hypothesis test is again :  \n",
    "H0:  There is no difference in the fraction of black callbacks as compared to the fraction of white callbacks  \n",
    "H1:  There is a difference in the fraction of black callbacks as compared to the fraction of white callbacks"
   ]
  },
  {
   "cell_type": "markdown",
   "metadata": {},
   "source": [
    "**Calculate pooled sample proportion**  \n",
    "\n",
    "The pooled sample proportion (psp) is: \n",
    "$$psp = \\frac{p1 * n1 + p2 * n2 }{n1 + n2} $$  \n",
    "\n",
    "  \n",
    "where p1 is the sample proportion from population 1, p2 is the sample proportion from population 2, n1 is the size of sample 1, and n2 is the size of sample 2."
   ]
  },
  {
   "cell_type": "code",
   "execution_count": 10,
   "metadata": {},
   "outputs": [
    {
     "name": "stdout",
     "output_type": "stream",
     "text": [
      "psp = 0.08049281314168377\n"
     ]
    }
   ],
   "source": [
    "p1 = np.sum(data[data.race=='w'].call)/len(data[data.race=='w'])\n",
    "p2 = np.sum(data[data.race=='b'].call)/len(data[data.race=='b'])\n",
    "n1 = len(data[data.race=='w'])\n",
    "n2 = len(data[data.race=='b'])\n",
    "         \n",
    "psp = (p1 * n1 + p2 * n2) / (n1 + n2)\n",
    "print(\"psp = \"+ str(psp))\n",
    "\n"
   ]
  },
  {
   "cell_type": "markdown",
   "metadata": {},
   "source": [
    "Note that this is actually the same as the sum of all the callbacks divided by number of potential callbacks"
   ]
  },
  {
   "cell_type": "markdown",
   "metadata": {},
   "source": [
    "**Now calculate standard error**\n",
    "\n",
    "\n",
    "$$z = \\frac{\\overline{X} - \\mu}{\\sigma\\sqrt{n}} $$  \n",
    "$$SE = \\sqrt{ psp * ( 1 - psp ) * [\\frac{1}{n1} + \\frac{1}{n2} ] }$$"
   ]
  },
  {
   "cell_type": "code",
   "execution_count": 11,
   "metadata": {},
   "outputs": [
    {
     "name": "stdout",
     "output_type": "stream",
     "text": [
      "The Standard Error is: 0.007796894036170457\n"
     ]
    }
   ],
   "source": [
    "SE = np.sqrt(psp*(1-psp)*(1/n1+1/n2))\n",
    "print(\"The Standard Error is: \" + str(SE))"
   ]
  },
  {
   "cell_type": "code",
   "execution_count": 12,
   "metadata": {},
   "outputs": [],
   "source": [
    "x1 = p1*(1-p1)/n1\n",
    "x2 = p2*(1-p2)/n2\n"
   ]
  },
  {
   "cell_type": "markdown",
   "metadata": {},
   "source": [
    "**Calculate z score:**\n",
    "$$z = \\frac{p1 - p2}{SE}$$"
   ]
  },
  {
   "cell_type": "code",
   "execution_count": 13,
   "metadata": {},
   "outputs": [
    {
     "name": "stdout",
     "output_type": "stream",
     "text": [
      "z = 4.108412152434346\n"
     ]
    }
   ],
   "source": [
    "z = (p1-p2)/SE\n",
    "print(\"z = \" + str(z))"
   ]
  },
  {
   "cell_type": "code",
   "execution_count": 14,
   "metadata": {},
   "outputs": [
    {
     "name": "stdout",
     "output_type": "stream",
     "text": [
      "1.959963984540054\n",
      "The test statistic for a two tailed test at the 5% level is: 1.6448536269514722\n",
      "Therefore the p value is 1.991943418788722e-05\n"
     ]
    }
   ],
   "source": [
    "import scipy.stats as st\n",
    "print(st.norm.ppf(.975))\n",
    "print(\"The test statistic for a two tailed test at the 5% level is: \" + str(st.norm.ppf(.95)))\n",
    "\n",
    "print(\"Therefore the p value is \" + str(1-st.norm.cdf(z)))\n"
   ]
  },
  {
   "cell_type": "markdown",
   "metadata": {},
   "source": [
    "**The p value is extremely small, so we reject the null hypothesis**"
   ]
  },
  {
   "cell_type": "markdown",
   "metadata": {},
   "source": [
    "**Compute margin of error, confidence interval**\n",
    "\n",
    "For two proportions, the margin of error can be calculated by the following equation:\n",
    "$$ MOE  = \\sqrt{\\frac{p1(1-p1)}{n1}-\\frac{p2(1-p2)}{n2}} $$  \n",
    "The confidence interval is:\n",
    "\n",
    "$$ (p1-p2) \\pm z*MOE $$ "
   ]
  },
  {
   "cell_type": "code",
   "execution_count": 15,
   "metadata": {},
   "outputs": [
    {
     "name": "stdout",
     "output_type": "stream",
     "text": [
      "The difference between the fraction of blacks callbacks and fraction of white callbacks in our sample is: 0.032032854209445585\n",
      "The margin of error in the sample p1-p2 is: 0.003322255555574844\n",
      "We can be 95% confident that p1-p2 of the sample falls between 0.02552123332051889 and 0.03854447509837228\n"
     ]
    }
   ],
   "source": [
    "\n",
    "moe = np.sqrt(p1*(1-p1)/n1 - p2*(1-p2)/n2)\n",
    "z = 1.96  # z at 95% confidence level\n",
    "\n",
    "print(\"The difference between the fraction of blacks callbacks and fraction of white callbacks in our sample is: \" + str(p1-p2))\n",
    "print(\"The margin of error in the sample p1-p2 is: \" + str(moe) )\n",
    "print(\"We can be 95% confident that p1-p2 of the sample falls between \"+ str((p1-p2)-z*moe) + \" and \" + str((p1-p2)+z*moe))"
   ]
  },
  {
   "cell_type": "markdown",
   "metadata": {},
   "source": [
    "**Is above correct approach to frequentist approach?**\n",
    "statsmodels.stats.proportion.proportions_ztest¶\n",
    "http://www.statsmodels.org/stable/generated/statsmodels.stats.proportion.proportions_ztest.html"
   ]
  },
  {
   "cell_type": "markdown",
   "metadata": {},
   "source": [
    "***"
   ]
  },
  {
   "cell_type": "markdown",
   "metadata": {},
   "source": [
    "# Q4. Write a story describing the statistical significance in the context or the original problem  \n",
    "\n",
    "Using the sample data and a two-proportion frequentist test, we have shown that the difference between the fraction of black callbacks and fraction of white callbacks likely lies between 0.0255 and 0.0385 in our sample. If the callback selection did not depend on whether the names were \"black sounding\" or \"white sounding\", one would expect the difference to be close to zero.  The probability that the callbacks in the sample were unbiased is less then 0.5%, indicating that there is a high likelihood that \"white sounding\" names are indeed more likely to receive a callback (assuming other resume qualifications are equal).  \n",
    "\n",
    "It should be noted that the allocation of \"black sounding\" vs \"white sounding\" names seems like a potentially subjective measure.  A question that should be considered is whether all the job hunters would categorize the names as \"white sounding\" vs \"black sounding\" in an identical way the person setting up the experiment would. While this discrepancy could affect the experiment some, it is unlikely to tip the scales since the probabilities found in our analysis indicate a very strong likelihood of racial bias based on name."
   ]
  },
  {
   "cell_type": "markdown",
   "metadata": {},
   "source": [
    "***"
   ]
  },
  {
   "cell_type": "markdown",
   "metadata": {},
   "source": [
    "# Q5. Does your analysis mean that race/name is the most important factor in callback success? Why or why not? If not, how would you amend your analysis?  \n",
    "\n",
    "This does not mean that race/name is the most important factor in callback success. It only means that race/name could indeed be a factor.  To determine comparative importance to other factors, similar analyses would need to be performed on the other factors (credentials, wealth, neighborhood, etc) in the dataset to determine those p values.  If those p values do not indicate as strong of significance as the race/name tests, then we can then say race/name is the most important factor.   It appears other factors were evaluated as the data documentation states that:  \n",
    "\n",
    "*Some qualities that we might think would level the playing field had minimal effects. For example, there is evidence that the returns to improving credentials for whites are much higher than for blacks. For resumes with white names, higher quality resumes received 30 percent more callbacks than low quality ones. For resumes with black names, the higher quality resumes did not receive significantly more callbacks. Whites living in richer, more educated, or whiter neighborhoods also have higher callback rates, but blacks do not benefit any more than whites from this neighborhood effect.*"
   ]
  }
 ],
 "metadata": {
  "kernelspec": {
   "display_name": "Python 3",
   "language": "python",
   "name": "python3"
  },
  "language_info": {
   "codemirror_mode": {
    "name": "ipython",
    "version": 3
   },
   "file_extension": ".py",
   "mimetype": "text/x-python",
   "name": "python",
   "nbconvert_exporter": "python",
   "pygments_lexer": "ipython3",
   "version": "3.6.5"
  }
 },
 "nbformat": 4,
 "nbformat_minor": 1
}
