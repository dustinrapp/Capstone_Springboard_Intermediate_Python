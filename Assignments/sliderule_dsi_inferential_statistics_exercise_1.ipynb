{
 "cells": [
  {
   "cell_type": "markdown",
   "metadata": {},
   "source": [
    "# What is the True Normal Human Body Temperature? \n",
    "\n",
    "#### Background\n",
    "\n",
    "The mean normal body temperature was held to be 37$^{\\circ}$C or 98.6$^{\\circ}$F for more than 120 years since it was first conceptualized and reported by Carl Wunderlich in a famous 1868 book. But, is this value statistically correct?"
   ]
  },
  {
   "cell_type": "markdown",
   "metadata": {},
   "source": [
    "<h3>Exercises</h3>\n",
    "\n",
    "<p>In this exercise, you will analyze a dataset of human body temperatures and employ the concepts of hypothesis testing, confidence intervals, and statistical significance.</p>\n",
    "\n",
    "<p>Answer the following questions <b>in this notebook below and submit to your Github account</b>.</p> \n",
    "\n",
    "<ol>\n",
    "<li>  Is the distribution of body temperatures normal? \n",
    "    <ul>\n",
    "    <li> Although this is not a requirement for the Central Limit Theorem to hold (read the introduction on Wikipedia's page about the CLT carefully: https://en.wikipedia.org/wiki/Central_limit_theorem), it gives us some peace of mind that the population may also be normally distributed if we assume that this sample is representative of the population.\n",
    "    <li> Think about the way you're going to check for the normality of the distribution. Graphical methods are usually used first, but there are also other ways: https://en.wikipedia.org/wiki/Normality_test\n",
    "    </ul>\n",
    "<li>  Is the sample size large? Are the observations independent?\n",
    "    <ul>\n",
    "    <li> Remember that this is a condition for the Central Limit Theorem, and hence the statistical tests we are using, to apply.\n",
    "    </ul>\n",
    "<li>  Is the true population mean really 98.6 degrees F?\n",
    "    <ul>\n",
    "    <li> First, try a bootstrap hypothesis test.\n",
    "    <li> Now, let's try frequentist statistical testing. Would you use a one-sample or two-sample test? Why?\n",
    "    <li> In this situation, is it appropriate to use the $t$ or $z$ statistic? \n",
    "    <li> Now try using the other test. How is the result be different? Why?\n",
    "    </ul>\n",
    "<li>  Draw a small sample of size 10 from the data and repeat both frequentist tests. \n",
    "    <ul>\n",
    "    <li> Which one is the correct one to use? \n",
    "    <li> What do you notice? What does this tell you about the difference in application of the $t$ and $z$ statistic?\n",
    "    </ul>\n",
    "<li>  At what temperature should we consider someone's temperature to be \"abnormal\"?\n",
    "    <ul>\n",
    "    <li> As in the previous example, try calculating everything using the boostrap approach, as well as the frequentist approach.\n",
    "    <li> Start by computing the margin of error and confidence interval. When calculating the confidence interval, keep in mind that you should use the appropriate formula for one draw, and not N draws.\n",
    "    </ul>\n",
    "<li>  Is there a significant difference between males and females in normal temperature?\n",
    "    <ul>\n",
    "    <li> What testing approach did you use and why?\n",
    "    <li> Write a story with your conclusion in the context of the original problem.\n",
    "    </ul>\n",
    "</ol>\n",
    "\n",
    "You can include written notes in notebook cells using Markdown: \n",
    "   - In the control panel at the top, choose Cell > Cell Type > Markdown\n",
    "   - Markdown syntax: http://nestacms.com/docs/creating-content/markdown-cheat-sheet\n",
    "\n",
    "#### Resources\n",
    "\n",
    "+ Information and data sources: http://www.amstat.org/publications/jse/datasets/normtemp.txt, http://www.amstat.org/publications/jse/jse_data_archive.htm\n",
    "+ Markdown syntax: http://nestacms.com/docs/creating-content/markdown-cheat-sheet\n",
    "\n",
    "****"
   ]
  },
  {
   "cell_type": "markdown",
   "metadata": {},
   "source": [
    "**Before beginning assignment, import needed modules and dataframe.**"
   ]
  },
  {
   "cell_type": "code",
   "execution_count": 5,
   "metadata": {},
   "outputs": [],
   "source": [
    "import pandas as pd\n",
    "import numpy as np\n",
    "import matplotlib.pyplot as plt\n"
   ]
  },
  {
   "cell_type": "code",
   "execution_count": 6,
   "metadata": {},
   "outputs": [
    {
     "name": "stdout",
     "output_type": "stream",
     "text": [
      "   temperature gender  heart_rate\n",
      "0         99.3      F        68.0\n",
      "1         98.4      F        81.0\n",
      "2         97.8      M        73.0\n",
      "3         99.2      F        66.0\n",
      "4         98.0      F        73.0\n",
      "Mean = 98.24923076923075\n",
      "Standard Deviation = 0.730357778905038\n",
      "Number of samples = 130\n"
     ]
    }
   ],
   "source": [
    "df = pd.read_csv('data/human_body_temperature.csv')\n",
    "print(df.head())\n",
    "print(\"Mean = \" + str(np.mean(df['temperature'])))\n",
    "print(\"Standard Deviation = \" + str(np.std(df['temperature'])))\n",
    "print(\"Number of samples = \" + str(len(df['temperature'])))\n"
   ]
  },
  {
   "cell_type": "markdown",
   "metadata": {},
   "source": [
    "## Q1:  Is the dataset Normal?"
   ]
  },
  {
   "cell_type": "markdown",
   "metadata": {},
   "source": [
    "**Plot a histogram to view if data is normal**"
   ]
  },
  {
   "cell_type": "code",
   "execution_count": 7,
   "metadata": {},
   "outputs": [
    {
     "name": "stderr",
     "output_type": "stream",
     "text": [
      "c:\\users\\rapp\\appdata\\local\\programs\\python\\python36-32\\lib\\site-packages\\matplotlib\\axes\\_axes.py:6462: UserWarning: The 'normed' kwarg is deprecated, and has been replaced by the 'density' kwarg.\n",
      "  warnings.warn(\"The 'normed' kwarg is deprecated, and has been \"\n"
     ]
    },
    {
     "data": {
      "image/png": "[encoded data removed]",
      "text/plain": [
       "<Figure size 432x288 with 1 Axes>"
      ]
     },
     "metadata": {},
     "output_type": "display_data"
    }
   ],
   "source": [
    "plt.hist(df['temperature'], bins=20, normed = True, histtype = 'step')\n",
    "plt.show()"
   ]
  },
  {
   "cell_type": "markdown",
   "metadata": {},
   "source": [
    "It is hard to determine normality from the plot and it looks to suffer from some binning bias, so will try plotting a CDF"
   ]
  },
  {
   "cell_type": "markdown",
   "metadata": {},
   "source": [
    "**Define an expected cumulative distribution function**"
   ]
  },
  {
   "cell_type": "code",
   "execution_count": 66,
   "metadata": {},
   "outputs": [],
   "source": [
    "def ecdf(data):\n",
    "    \"\"\"Compute ECDF for a one-dimensional array of measurements.\"\"\"\n",
    "    # Number of data points: n\n",
    "    n =len(data)\n",
    "\n",
    "    # x-data for the ECDF: x\n",
    "    x = np.sort(data)\n",
    "\n",
    "    # y-data for the ECDF: y\n",
    "    y = np.arange(1, n+1) / n\n",
    "\n",
    "    return x, y"
   ]
  },
  {
   "cell_type": "code",
   "execution_count": 67,
   "metadata": {},
   "outputs": [
    {
     "data": {
      "image/png": "[encoded data removed]",
      "text/plain": [
       "<Figure size 432x288 with 1 Axes>"
      ]
     },
     "metadata": {},
     "output_type": "display_data"
    }
   ],
   "source": [
    "# Compute mean and standard deviation: mu, sigma\n",
    "mu = np.mean(df['temperature'])\n",
    "sigma = np.std(df['temperature'])\n",
    "\n",
    "\n",
    "# Sample out of a normal distribution with this mu and sigma: samples\n",
    "samples = np.random.normal(mu, sigma, 10000)\n",
    "\n",
    "# Get the CDF of the samples and of the data\n",
    "x_theor, y_theor = ecdf(samples)\n",
    "x,y = ecdf(df['temperature'])\n",
    "\n",
    "\n",
    "# Plot the CDFs and show the plot\n",
    "_ = plt.plot(x_theor, y_theor)\n",
    "_ = plt.plot(x, y, marker='.', linestyle='none')\n",
    "_ = plt.xlabel('Body Temperature (deg C)')\n",
    "_ = plt.ylabel('CDF')"
   ]
  },
  {
   "cell_type": "markdown",
   "metadata": {},
   "source": [
    "The datapoints fit nicely on the theoretical CDF line, so this data looks normal."
   ]
  },
  {
   "cell_type": "markdown",
   "metadata": {},
   "source": [
    "One additional test to try is using scipys normaltest function"
   ]
  },
  {
   "cell_type": "code",
   "execution_count": 68,
   "metadata": {},
   "outputs": [
    {
     "name": "stdout",
     "output_type": "stream",
     "text": [
      "2.703801433319203 0.2587479863488254\n",
      "data is normal\n"
     ]
    }
   ],
   "source": [
    "from scipy import stats\n",
    "a=df['temperature']\n",
    "k,p=stats.mstats.normaltest(a) # k = z-score returned by skewtest and k is the z-score returned by kurtosistest. p= p-value\n",
    "\n",
    "print(k,p)\n",
    "# we use p value to test if the variable is normal or not\n",
    "if p<0.05:\n",
    "  print('data is not normal')\n",
    "else:\n",
    "  print('data is normal')"
   ]
  },
  {
   "cell_type": "markdown",
   "metadata": {},
   "source": [
    "## Q2: Is the sample large?\n",
    "\n",
    "The sample size is 130.  The CLT holds well for sample sizes greater then 30; therefore the sample size can be considered large in this application.\n",
    "\n",
    "According to dummies.com:  \n",
    "\"The Central Limit Theorem (CLT for short) basically says that for non-normal data, the distribution of the sample means has an approximate normal distribution, no matter what the distribution of the original data looks like, as long as the sample size is large enough (usually at least 30) and all samples have the same size\"\n",
    "\n",
    "\n",
    "\n",
    "The following equation can also used to determine required sample sizes if varying confidence intervals are required for the Z score:  \n",
    "\n",
    "$$Necessary Sample Size = (Z-score)^2 * StdDev*(1-StdDev) / (margin of error)^2$$\n",
    "\n",
    "\n",
    "\n",
    "90% – Z Score = 1.645  \n",
    "95% – Z Score = 1.96  \n",
    "99% – Z Score = 2.576  \n",
    "\n",
    "https://stats.idre.ucla.edu/other/mult-pkg/faq/general/faq-what-are-the-differences-between-one-tailed-and-two-tailed-tests/\n",
    "\n"
   ]
  },
  {
   "cell_type": "code",
   "execution_count": 69,
   "metadata": {},
   "outputs": [
    {
     "name": "stdout",
     "output_type": "stream",
     "text": [
      "The human temperature sample size is: 130\n",
      "The necessary sample size for a 95% confidence level and a 5% margin of error is 303.0\n",
      "The necessary sample size for a 95% confidence level and a 10% margin of error is 76.0\n",
      "The necessary sample size for a 90% confidence level and a 5% margin of error is 213.0\n",
      "The necessary sample size for a 90% confidence level and a 10% margin of error is 53.0\n"
     ]
    }
   ],
   "source": [
    "#Calculate sample size: \n",
    "size = (len(df['temperature']))\n",
    "\n",
    "#Calculate standard deviation\n",
    "std = np.std(df['temperature'])\n",
    "\n",
    "#Calculate necessary sample size (NSS), assuming a 95% confidence level (Z Score = 1.96) with a 5% margin of error:\n",
    "NSS_a = (1.96**2*std*(1-std))/(0.05**2)\n",
    "NSS_aa = (1.96**2*std*(1-std))/(0.1**2)\n",
    "NSS_b = (1.645**2*std*(1-std))/(0.05**2)\n",
    "NSS_bb = (1.645**2*std*(1-std))/(0.1**2)\n",
    "\n",
    "print('The human temperature sample size is: ' + str(size))\n",
    "print('The necessary sample size for a 95% confidence level and a 5% margin of error is ' + str(round(NSS_a,0)))\n",
    "print('The necessary sample size for a 95% confidence level and a 10% margin of error is ' + str(round(NSS_aa,0)))\n",
    "print('The necessary sample size for a 90% confidence level and a 5% margin of error is ' + str(round(NSS_b,0)))\n",
    "print('The necessary sample size for a 90% confidence level and a 10% margin of error is ' + str(round(NSS_bb,0)))"
   ]
  },
  {
   "cell_type": "markdown",
   "metadata": {},
   "source": [
    "**As we can see, the required sample size is dependent on what is required.  We have a sample size large  enough for a 95% confidence level with a 10% margin of error, but not a 5% margin of error.**"
   ]
  },
  {
   "cell_type": "markdown",
   "metadata": {},
   "source": [
    "##  Q3: Is the true population mean really 98.6 degrees F?\n",
    "\n",
    "**The mean of the 130 samples is 98.2491, which is slightly different then 98.6.  To determine if the true population of the mean is possibly (to 95% confidence), both bootstrap and freqentist test will be performed. **\n",
    "  \n"
   ]
  },
  {
   "cell_type": "markdown",
   "metadata": {},
   "source": [
    "## Bootstrap test\n",
    "\n",
    "**Ten thousand replicates will be created from our dataset.  For each replicate, the difference from 98.6 will be calculated and a new distribution will be created which contains difference from means. The hypothesized mean of 98.6 will be added to the distribution.  If the mean of the human body temperature really is 98.6, then the mean of this distribution should also be about 98.6. **"
   ]
  },
  {
   "cell_type": "markdown",
   "metadata": {},
   "source": [
    "**Define applicable functions**"
   ]
  },
  {
   "cell_type": "code",
   "execution_count": 12,
   "metadata": {},
   "outputs": [],
   "source": [
    "def diff_from_mean(data, diff= 98.6):\n",
    "    return np.mean(data) -diff\n",
    "\n",
    "\n",
    "def bootstrap_replicate_1d(data, func): \n",
    "#\"\"Generate bootstrap replicate of 1D data.\"\"\"\n",
    "    bs_sample = np.random.choice(data, len(data))\n",
    "    return func(bs_sample) \n",
    "\n",
    "#Define bootstrap replicates function\n",
    "def draw_bs_reps(data, func, size=1):\n",
    "    \"\"\"Draw bootstrap replicates.\"\"\"\n",
    "\n",
    "    # Initialize array of replicates: bs_replicates\n",
    "    bs_replicates = np.empty(size)\n",
    "\n",
    "    # Generate replicates\n",
    "    for i in range(size):\n",
    "        bs_replicates[i] = bootstrap_replicate_1d(data, func)\n",
    "\n",
    "    return bs_replicates"
   ]
  },
  {
   "cell_type": "markdown",
   "metadata": {},
   "source": [
    "**Perform bootstrap and calculate 95% confidence interval.* "
   ]
  },
  {
   "cell_type": "code",
   "execution_count": 75,
   "metadata": {},
   "outputs": [
    {
     "name": "stderr",
     "output_type": "stream",
     "text": [
      "c:\\users\\rapp\\appdata\\local\\programs\\python\\python36-32\\lib\\site-packages\\matplotlib\\axes\\_axes.py:6462: UserWarning: The 'normed' kwarg is deprecated, and has been replaced by the 'density' kwarg.\n",
      "  warnings.warn(\"The 'normed' kwarg is deprecated, and has been \"\n"
     ]
    },
    {
     "name": "stdout",
     "output_type": "stream",
     "text": [
      "0\n"
     ]
    },
    {
     "data": {
      "image/png": "[encoded data removed]",
      "text/plain": [
       "<Figure size 432x288 with 1 Axes>"
      ]
     },
     "metadata": {},
     "output_type": "display_data"
    }
   ],
   "source": [
    "#np.random.choice(df['temperature'], size=len(df['temperature']))\n",
    "\n",
    "HypMean = 98.6\n",
    "##diff_observed = diff_from_mean(np.mean(df['temperature']))\n",
    "##print(diff_observed)\n",
    "\n",
    "# Make an array of translated temps\n",
    "translated_temp = df['temperature'] - np.mean(df['temperature']) + HypMean\n",
    "#plt.plot(translated_temp)\n",
    "\n",
    "# Take bootstrap replicates of  translated temps\n",
    "#bs_replicates = draw_bs_reps(translated_temp, diff_from_mean, 10000)\n",
    "bs_replicates = draw_bs_reps(df['temperature'], np.mean, 10000)\n",
    "\n",
    "# Compute fraction of replicates that are less than the observed difference\n",
    "\n",
    "\n",
    "#print(diff_observed)\n",
    "\n",
    "_ = plt.hist(bs_replicates, bins=30, normed=True)\n",
    "_ = plt.xlabel('differences(deg F) from 98.6')\n",
    "_ = plt.ylabel('PDF') \n",
    "\n",
    "value = stats.norm.ppf(.95)\n",
    "\n",
    "\n"
   ]
  },
  {
   "cell_type": "markdown",
   "metadata": {},
   "source": [
    "**Calculate p value**"
   ]
  },
  {
   "cell_type": "code",
   "execution_count": 77,
   "metadata": {},
   "outputs": [
    {
     "name": "stdout",
     "output_type": "stream",
     "text": [
      "0\n"
     ]
    }
   ],
   "source": [
    "p = (np.sum(bs_replicates >= 98.6))\n",
    "print(p)"
   ]
  },
  {
   "cell_type": "markdown",
   "metadata": {},
   "source": [
    "The p value is 0 because no value in the distribution is greater then 98.6, indicating a mean of 98.6 is actually very rare**"
   ]
  },
  {
   "cell_type": "markdown",
   "metadata": {},
   "source": [
    "**Now calculate the confidence interval:**"
   ]
  },
  {
   "cell_type": "code",
   "execution_count": 14,
   "metadata": {},
   "outputs": [
    {
     "name": "stdout",
     "output_type": "stream",
     "text": [
      "The confidence interval is: [98.12153846 98.08153846 98.37461538]\n",
      "THis means that at the 95% confidence interval, the mean of the dataset lies from 0.16769230769229182 to 196.3307692307692 deg F.\n"
     ]
    }
   ],
   "source": [
    "conf_int = np.percentile(bs_replicates, [2.5, 0.5, 97.5])\n",
    "print(\"The confidence interval is: \" + str(conf_int))\n",
    "print(\"THis means that at the 95% confidence interval, the mean of the dataset lies from \" + str(np.mean(df['temperature']) - conf_int[1]) + \" to \" +  str(np.mean(df['temperature']) + conf_int[1]) + \" deg F.\")"
   ]
  },
  {
   "cell_type": "markdown",
   "metadata": {},
   "source": [
    "**Therefore, we can reject the hypothesis that the mean is 98.6.**"
   ]
  },
  {
   "cell_type": "markdown",
   "metadata": {},
   "source": [
    "### Now try frequentist z test\n",
    "** A z value can be calculated with the following equation:**  $$z = \\frac{\\overline{X} - \\mu}{\\sigma\\sqrt{n}} $$  \n",
    "\n",
    "**The z test is most appropriate test in this situation (as opposed to t test). Since the sample size is large (n>=30), we can use the sample size standard deviation as good approximation to the population standard deviation** \n",
    "\n",
    "\n",
    "**H0: 98.6 is the sample mean**  \n",
    "**H1  98.6 is not the sample mean**\n",
    "\n",
    "**This will be two tailed test**"
   ]
  },
  {
   "cell_type": "code",
   "execution_count": 71,
   "metadata": {},
   "outputs": [
    {
     "name": "stdout",
     "output_type": "stream",
     "text": [
      "p-value is: 4.9021570141012155e-08 with a z score of: -5.4548232923645195\n",
      "\n"
     ]
    }
   ],
   "source": [
    "mu = 98.6\n",
    "Xbar = np.mean(df['temperature'])\n",
    "S = np.std(df['temperature'])\n",
    "n = len(df['temperature'])\n",
    "\n",
    "\n",
    "#import scipy.stats\n",
    "from statsmodels.stats import weightstats as stests\n",
    "import numpy as np\n",
    "\n",
    "#data=np.random.normal(loc=3.4,scale=0.1,size=100)\n",
    "#singleValue=3.3\n",
    "\n",
    "# Assuming data are normally distributed, we can do z-test\n",
    "testResult=stests.ztest(df['temperature'],value=98.6)\n",
    "\n",
    "pValue=testResult[1]\n",
    "print(\"p-value is: \"+str(pValue) + \" with a z score of: \"+ str(testResult[0]))\n",
    "print(\"\")\n"
   ]
  },
  {
   "cell_type": "markdown",
   "metadata": {},
   "source": [
    "**The p value is extremely small (<0.05) so we reject the hypothesis that the mean is 98.6.**"
   ]
  },
  {
   "cell_type": "markdown",
   "metadata": {},
   "source": [
    "### Now try frequentist t test"
   ]
  },
  {
   "cell_type": "markdown",
   "metadata": {},
   "source": [
    "**A t value can be calculated with the following equation:**  $$t = \\frac{\\overline{X} - \\mu}{S\\sqrt{n}} $$\n",
    "**Critical values of the t distribution with 130 degrees of freedom: ** \n",
    "**t<sub>0.05</sub> = 1.658**\n",
    "**t<sub>-0.05</sub> = -1.658**\n",
    "**t<sub>0.1</sub> = 1.289** \n",
    "**t<sub>-0.1</sub> = -1.289** \n",
    "  \n",
    "**Plugging in our known values, we get:**  $$t= \\frac{98.6-98.249}{0.0329*11.4}$$  \n",
    "\n",
    "**Doing the calculations:  **\n",
    "\n",
    "\n",
    "\n",
    "\n",
    "\n"
   ]
  },
  {
   "cell_type": "code",
   "execution_count": 17,
   "metadata": {},
   "outputs": [
    {
     "name": "stdout",
     "output_type": "stream",
     "text": [
      "0.730357778905038\n",
      "t = 0.03287004017578845\n",
      "p value using stats model Ttest_1sampleResult = Ttest_1sampResult(statistic=-5.4548232923645195, pvalue=2.4106320415561276e-07)\n"
     ]
    }
   ],
   "source": [
    "import scipy.stats\n",
    "mu = 98.6\n",
    "Xbar = np.mean(df['temperature'])\n",
    "S = np.std(df['temperature'])\n",
    "n = len(df['temperature'])\n",
    "print(S)\n",
    "        \n",
    "t= (Xbar - mu)/(S-np.sqrt(n))\n",
    "print(\"t = \" + str(t))\n",
    "\n",
    "p = stats.ttest_1samp(df['temperature'], 98.6)\n",
    "print(\"p value using stats model Ttest_1sampleResult = \" + str(p))"
   ]
  },
  {
   "cell_type": "markdown",
   "metadata": {},
   "source": [
    "**The p value is still extremely small, but is slightly larger then p value calculated with the z test.  This indicates that the the t test has less confidence.  This would be expected as the t distribution has wider tails then the z distribution.**"
   ]
  },
  {
   "cell_type": "markdown",
   "metadata": {},
   "source": [
    "## Q4. Draw a small sample of size 10 from the data and repeat both frequentist tests.\n",
    "* **Which one is the correct one to use?**\n",
    "* **What do you notice? What does this tell you about the difference in application of the  tt  and  zz  statistic?**"
   ]
  },
  {
   "cell_type": "markdown",
   "metadata": {},
   "source": [
    "**Draw 10 random samples from our dataset**"
   ]
  },
  {
   "cell_type": "code",
   "execution_count": 70,
   "metadata": {},
   "outputs": [
    {
     "name": "stdout",
     "output_type": "stream",
     "text": [
      "[98.5, 98.4, 98.0, 98.6, 97.6, 97.9, 98.4, 98.6, 98.7, 97.8]\n"
     ]
    }
   ],
   "source": [
    "import random\n",
    "small_sample = random.sample(df['temperature'].tolist(), 10)\n",
    "print(small_sample)"
   ]
  },
  {
   "cell_type": "markdown",
   "metadata": {},
   "source": [
    "**Here, the t test is most appropriate because of a small sample size as the sample standard deviation may not be an accurate estimate of the population standard deviation.**"
   ]
  },
  {
   "cell_type": "markdown",
   "metadata": {},
   "source": [
    "### Perform t test"
   ]
  },
  {
   "cell_type": "code",
   "execution_count": 19,
   "metadata": {},
   "outputs": [
    {
     "name": "stdout",
     "output_type": "stream",
     "text": [
      "0.6372597586541929\n",
      "t = 0.1069299349672214\n",
      "p value using stats model Ttest_1sampleResult = Ttest_1sampResult(statistic=-1.2710672359267698, pvalue=0.23557217913478867)\n"
     ]
    }
   ],
   "source": [
    "import scipy.stats\n",
    "mu = 98.6\n",
    "Xbar = np.mean(small_sample)\n",
    "S = np.std(small_sample)\n",
    "n = len(small_sample)\n",
    "print(S)\n",
    "        \n",
    "t= (Xbar - mu)/(S-np.sqrt(n))\n",
    "print(\"t = \" + str(t))\n",
    "\n",
    "p = stats.ttest_1samp(small_sample, 98.6)\n",
    "print(\"p value using stats model Ttest_1sampleResult = \" + str(p))"
   ]
  },
  {
   "cell_type": "markdown",
   "metadata": {},
   "source": [
    "**The p value is greater then 0.05 so we fail to reject the hypothesis that the mean is 98.6 at the 95% confidence level.**"
   ]
  },
  {
   "cell_type": "markdown",
   "metadata": {},
   "source": [
    "### Also perform z test"
   ]
  },
  {
   "cell_type": "code",
   "execution_count": 20,
   "metadata": {},
   "outputs": [
    {
     "name": "stdout",
     "output_type": "stream",
     "text": [
      "p-value is: 0.20370473010472112\n",
      "\n"
     ]
    }
   ],
   "source": [
    "mu = 98.6\n",
    "Xbar = np.mean(small_sample)\n",
    "S = np.std(small_sample)\n",
    "n = len(small_sample)\n",
    "\n",
    "def twoSampZ(X1, X2, mudiff, sd1, sd2, n1, n2):\n",
    "    from numpy import sqrt, abs, round\n",
    "    from scipy.stats import norm\n",
    "    pooledSE = sqrt(sd1**2/n1 + sd2**2/n2)\n",
    "    z = ((X1 - X2) - mudiff)/pooledSE\n",
    "    pval = 2*(1 - norm.cdf(abs(z)))\n",
    "    return round(z, 3), round(pval, 4)\n",
    "\n",
    "#import scipy.stats\n",
    "from statsmodels.stats import weightstats as stests\n",
    "import numpy as np\n",
    "\n",
    "#data=np.random.normal(loc=3.4,scale=0.1,size=100)\n",
    "#singleValue=3.3\n",
    "\n",
    "# Assuming data are normally distributed, we can do z-test\n",
    "testResult=stests.ztest(small_sample,value=98.6)\n",
    "pValue=testResult[1]\n",
    "print(\"p-value is: \"+str(pValue))\n",
    "print(\"\")\n"
   ]
  },
  {
   "cell_type": "markdown",
   "metadata": {},
   "source": [
    "**The p value for the t test is much larger (and would indicate that the mean is not 98.6).  This would be expected as the t distribution has more spread at the tails than the z distribution.  The z distribution can have a tighter distribution as more accurate knowledge about the distribution is known - namely a good population standard deviation (which can be accurately estimated with the sample standard deviation with a normal distribution).  However, the z test is not appropriate due to the small sample size.**"
   ]
  },
  {
   "cell_type": "markdown",
   "metadata": {},
   "source": [
    "##  Q5. At what temperature should we consider someone's temperature to be \"abnormal\"?\n",
    "* **As in the previous example, try calculating everything using the boostrap approach, as well as the frequentist approach.**\n",
    "* **Start by computing the margin of error and confidence interval. When calculating the confidence interval, keep in mind that you should use the appropriate formula for one draw, and not N draws**"
   ]
  },
  {
   "cell_type": "code",
   "execution_count": 21,
   "metadata": {},
   "outputs": [
    {
     "name": "stderr",
     "output_type": "stream",
     "text": [
      "c:\\users\\rapp\\appdata\\local\\programs\\python\\python36-32\\lib\\site-packages\\matplotlib\\axes\\_axes.py:6462: UserWarning: The 'normed' kwarg is deprecated, and has been replaced by the 'density' kwarg.\n",
      "  warnings.warn(\"The 'normed' kwarg is deprecated, and has been \"\n"
     ]
    },
    {
     "data": {
      "image/png": "[encoded data removed]",
      "text/plain": [
       "<Figure size 432x288 with 1 Axes>"
      ]
     },
     "metadata": {},
     "output_type": "display_data"
    }
   ],
   "source": [
    "_ = plt.hist(df['temperature'], bins=30, normed=True)"
   ]
  },
  {
   "cell_type": "markdown",
   "metadata": {},
   "source": [
    "### Bootstrap #1 - draw 10000 means using draw_bs_reps\n",
    "**Here 10000 replicates of the data will be created, and a mean of each replicate will be found.  This will create a distribution of means for which a confidence interval can be calculated.  This would be indicative of what a \"normal\" range of human body temperatures would be**"
   ]
  },
  {
   "cell_type": "code",
   "execution_count": 64,
   "metadata": {},
   "outputs": [
    {
     "name": "stderr",
     "output_type": "stream",
     "text": [
      "c:\\users\\rapp\\appdata\\local\\programs\\python\\python36-32\\lib\\site-packages\\matplotlib\\axes\\_axes.py:6462: UserWarning: The 'normed' kwarg is deprecated, and has been replaced by the 'density' kwarg.\n",
      "  warnings.warn(\"The 'normed' kwarg is deprecated, and has been \"\n"
     ]
    },
    {
     "data": {
      "image/png": "[encoded data removed]",
      "text/plain": [
       "<Figure size 432x288 with 1 Axes>"
      ]
     },
     "metadata": {},
     "output_type": "display_data"
    },
    {
     "name": "stdout",
     "output_type": "stream",
     "text": [
      "Mean is of bootstrap distribution is: 98.2549 compared to the actual datset mean of 98.24923076923075\n",
      "Standard Deviation is: 0.7340585739571466 compared to the actual datset standard deviation of 0.730357778905038\n"
     ]
    }
   ],
   "source": [
    "bs_replicates = draw_bs_reps(df['temperature'], np.mean, 10000)\n",
    "_ = plt.hist(bs_replicates, bins=30, normed=True)\n",
    "plt.show()\n",
    "print(\"The mean is of bootstrap distribution is: \" + str(np.mean(bs_replicates)) + \" compared to the actual datset mean of \"+ str(np.mean(df['temperature'])))\n",
    "print(\"The standard Deviation is: \" + str(np.std(bs_replicates)) + \" compared to the actual datset standard deviation of \"+ str(np.std(df['temperature'])))\n"
   ]
  },
  {
   "cell_type": "code",
   "execution_count": 54,
   "metadata": {},
   "outputs": [
    {
     "name": "stdout",
     "output_type": "stream",
     "text": [
      "95% of the population should fall within 98.12461538461538 to 98.3753846153846 deg F.\n",
      "The margin of error  is: 0.12542128935479363\n"
     ]
    }
   ],
   "source": [
    "conf_int1 = np.percentile(bs_replicates, [2.5, 97.5])\n",
    "std_err = sigma/np.sqrt(1)\n",
    "moe = 1.959*std_err\n",
    "                                    \n",
    "print(\"95% of the population should fall within \"+ str(conf_int1[0]) + \" to \" + str(conf_int1[1]) +\" deg F.\")\n",
    "print(\"The margin of error  is: \" + str(moe))"
   ]
  },
  {
   "cell_type": "markdown",
   "metadata": {},
   "source": [
    "### Bootstrap #2 - create normal distribution with same mean and std as dataset\n",
    "**Here a normal distribution with the same mean and standard deviation of the dataset will be created using np.random.normal..  This will create a distribution of means for which a confidence interval can be calculated.  This would be indicative of what a \"normal\" range of human body temperatures would be, assuming that the dataset is representative of the population**"
   ]
  },
  {
   "cell_type": "code",
   "execution_count": 78,
   "metadata": {},
   "outputs": [
    {
     "name": "stdout",
     "output_type": "stream",
     "text": [
      "98.24923076923075 0.730357778905038\n"
     ]
    },
    {
     "name": "stderr",
     "output_type": "stream",
     "text": [
      "c:\\users\\rapp\\appdata\\local\\programs\\python\\python36-32\\lib\\site-packages\\matplotlib\\axes\\_axes.py:6462: UserWarning: The 'normed' kwarg is deprecated, and has been replaced by the 'density' kwarg.\n",
      "  warnings.warn(\"The 'normed' kwarg is deprecated, and has been \"\n"
     ]
    },
    {
     "data": {
      "image/png": "[encoded data removed]",
      "text/plain": [
       "<Figure size 432x288 with 1 Axes>"
      ]
     },
     "metadata": {},
     "output_type": "display_data"
    },
    {
     "name": "stdout",
     "output_type": "stream",
     "text": [
      "The mean is of bootstrap distribution is: 98.24722882870105 compared to the actual datset mean of 98.24923076923075\n",
      "The standard Deviation is: 0.7302179408501276 compared to the actual datset standard deviation of 0.730357778905038\n"
     ]
    }
   ],
   "source": [
    "# Compute mean and standard deviation: mu, sigma\n",
    "mu = np.mean(df['temperature'])\n",
    "sigma = np.std(df['temperature'])\n",
    "print(mu, sigma)\n",
    "\n",
    "# Sample out of a normal distribution with this mu and sigma: samples\n",
    "samples = np.random.normal(mu, sigma, 10000)\n",
    "_ = plt.hist(samples, bins=30, normed=True)\n",
    "plt.show()\n",
    "print(\"The mean is of bootstrap distribution is: \" + str(np.mean(samples)) + \" compared to the actual datset mean of \"+ str(np.mean(df['temperature'])))\n",
    "print(\"The standard Deviation is: \" + str(np.std(samples)) + \" compared to the actual datset standard deviation of \"+ str(np.std(df['temperature'])))"
   ]
  },
  {
   "cell_type": "code",
   "execution_count": 58,
   "metadata": {},
   "outputs": [
    {
     "name": "stdout",
     "output_type": "stream",
     "text": [
      "95% of the population should fall within 96.79915599004018 to 99.66058830871971 deg F.\n",
      "The margin of error  is: 1.4307708888749693\n"
     ]
    }
   ],
   "source": [
    "conf_int2 = np.percentile(samples, [2.5, 97.5])\n",
    "std_err2 = sigma/np.sqrt(1)\n",
    "moe2 = 1.959*std_err2\n",
    "                                    \n",
    "print(\"95% of the population should fall within \"+ str(conf_int2[0]) + \" to \" + str(conf_int2[1]) +\" deg F.\")\n",
    "print(\"The margin of error  is: \" + str(moe2))"
   ]
  },
  {
   "cell_type": "markdown",
   "metadata": {},
   "source": [
    "## Try frequentist test"
   ]
  },
  {
   "cell_type": "markdown",
   "metadata": {},
   "source": [
    "**A z score can be calculated with the following equation:**  $$z = \\frac{\\overline{X} - \\mu}{S\\sqrt{n}} $$\n",
    "**To estimate the mean of a single draw (n =1), knowing that the z score associated with 95% confidence interval is 1.959, we solve for X:\n",
    "$$\\overline{X} = 1.959*S+\\mu$$"
   ]
  },
  {
   "cell_type": "code",
   "execution_count": 79,
   "metadata": {},
   "outputs": [
    {
     "name": "stdout",
     "output_type": "stream",
     "text": [
      "96.81845988035577 99.68000165810572\n",
      "[96.7225 99.4775]\n",
      "95% of the population should fall within 96.81845988035577 to 99.68000165810572 deg F.\n",
      "The margin of error  is: 1.4307708888749693\n"
     ]
    }
   ],
   "source": [
    "mu = df['temperature'].mean()\n",
    "sigma = np.std(df['temperature'])\n",
    "std_err = sigma/np.sqrt(1)\n",
    "moe = 1.959*std_err\n",
    "print(-1.959*sigma+mu, 1.959*sigma+mu)\n",
    "print(np.percentile(df['temperature'], [2.5, 97.5]))\n",
    "\n",
    "\n",
    "print(\"95% of the population should fall within \"+ str(-1.959*sigma+mu,) + \" to \" + str(1.959*sigma+mu) +\" deg F.\")\n",
    "print(\"The margin of error  is: \" + str(moe2))"
   ]
  },
  {
   "cell_type": "markdown",
   "metadata": {},
   "source": [
    "## Q6. Is there a significant difference between males and females in normal temperature?\n",
    "* **What testing approach did you use and why?**\n",
    "* **Write a story with your conclusion in the context of the original problem.**"
   ]
  },
  {
   "cell_type": "markdown",
   "metadata": {},
   "source": [
    "**Take a look at the statistics of the male vs female temperatures:**"
   ]
  },
  {
   "cell_type": "code",
   "execution_count": 182,
   "metadata": {},
   "outputs": [
    {
     "name": "stdout",
     "output_type": "stream",
     "text": [
      "count    65.000000\n",
      "mean     98.104615\n",
      "std       0.698756\n",
      "min      96.300000\n",
      "25%      97.600000\n",
      "50%      98.100000\n",
      "75%      98.600000\n",
      "max      99.500000\n",
      "Name: temperature, dtype: float64\n",
      "count     65.000000\n",
      "mean      98.393846\n",
      "std        0.743488\n",
      "min       96.400000\n",
      "25%       98.000000\n",
      "50%       98.400000\n",
      "75%       98.800000\n",
      "max      100.800000\n",
      "Name: temperature, dtype: float64\n"
     ]
    }
   ],
   "source": [
    "print(df['temperature'][df.gender == 'M'].describe())\n",
    "print(df['temperature'][df.gender == 'F'].describe())"
   ]
  },
  {
   "cell_type": "markdown",
   "metadata": {},
   "source": [
    "**In the sample, female temperatures look to be about 0.4 deg F higher then males.  The question is whether or not the population temperature differences found in males vs females is statistically significant.  One way to determine this is to check to see whether the means of the two population distributions are similar enough such that the means of one distribution fall within 95% confidence intervals of the other distribution.  I like the simplicity of finding confidence intervals with the bootstrapping method, so will try that first.**\n",
    "\n",
    "**Here, two bootstrap distributions are generated - one for the male temperatures and one for female temperatures.  These will represent the population from which our sample data was chosen."
   ]
  },
  {
   "cell_type": "code",
   "execution_count": 40,
   "metadata": {},
   "outputs": [],
   "source": [
    "bs_replicates_m = draw_bs_reps(df['temperature'][df.gender == 'M'], np.mean, 100000)\n",
    "bs_replicates_f = draw_bs_reps(df['temperature'][df.gender == 'F'], np.mean, 100000)\n"
   ]
  },
  {
   "cell_type": "code",
   "execution_count": 39,
   "metadata": {},
   "outputs": [
    {
     "name": "stderr",
     "output_type": "stream",
     "text": [
      "c:\\users\\rapp\\appdata\\local\\programs\\python\\python36-32\\lib\\site-packages\\matplotlib\\axes\\_axes.py:6462: UserWarning: The 'normed' kwarg is deprecated, and has been replaced by the 'density' kwarg.\n",
      "  warnings.warn(\"The 'normed' kwarg is deprecated, and has been \"\n",
      "c:\\users\\rapp\\appdata\\local\\programs\\python\\python36-32\\lib\\site-packages\\matplotlib\\axes\\_axes.py:6462: UserWarning: The 'normed' kwarg is deprecated, and has been replaced by the 'density' kwarg.\n",
      "  warnings.warn(\"The 'normed' kwarg is deprecated, and has been \"\n"
     ]
    },
    {
     "data": {
      "text/plain": [
       "<matplotlib.legend.Legend at 0x127c990>"
      ]
     },
     "execution_count": 39,
     "metadata": {},
     "output_type": "execute_result"
    },
    {
     "data": {
      "image/png": "[encoded data removed]",
      "text/plain": [
       "<Figure size 432x288 with 1 Axes>"
      ]
     },
     "metadata": {},
     "output_type": "display_data"
    }
   ],
   "source": [
    "_ = plt.hist(bs_replicates_m, bins=30, normed=True, alpha = 0.5, label = \"male\")\n",
    "_ = plt.hist(bs_replicates_f, bins=30, normed=True, alpha = 0.5, label = \"female\")\n",
    "plt.legend()"
   ]
  },
  {
   "cell_type": "code",
   "execution_count": 73,
   "metadata": {},
   "outputs": [
    {
     "name": "stdout",
     "output_type": "stream",
     "text": [
      "[97.93538462 98.27076923]\n",
      "The mean of the male dataset is: 98.10461538461537\n",
      "95% of the male temperature dataset lies between 97.9353846153846 and 98.27076923076923 deg F.\n",
      "The mean of the female dataset is: 98.39384615384614\n",
      "95% of the female temperature dataset lies between 98.21538461538461 and 98.5753846153846 deg F.\n"
     ]
    }
   ],
   "source": [
    "conf_int_m = np.percentile(bs_replicates_m, [2.5, 97.5])\n",
    "conf_int_f = np.percentile(bs_replicates_f, [2.5, 97.5])\n",
    "\n",
    "print(conf_int_m)\n",
    "\n",
    "print(\"The mean of the male dataset is: \" +str(np.mean(df['temperature'][df.gender == 'M'])))\n",
    "print(\"95% of the male temperature dataset lies between \" \\\n",
    "      + str(conf_int_m[0]) + \" and \" +  str(conf_int_m[1]) + \" deg F.\")\n",
    "\n",
    "print(\"The mean of the female dataset is: \" +str(np.mean(df['temperature'][df.gender == 'F'])))\n",
    "print(\"95% of the female temperature dataset lies between \" \\\n",
    "      + str(conf_int_f[0]) + \" and \" +  str(conf_int_f[1]) + \" deg F.\")"
   ]
  },
  {
   "cell_type": "markdown",
   "metadata": {},
   "source": [
    "**The mean of of the male temperature distribution does not fall within the 95% confidence intervals of the female mean temperature distribution.  Also, the mean female temperature does not fall within the 95% confidence intervals of the male mean temperature distribution.  Therefore, we can say that there is a significance difference between the male and female temperature.**"
   ]
  },
  {
   "cell_type": "markdown",
   "metadata": {},
   "source": [
    "### Perform z test"
   ]
  },
  {
   "cell_type": "markdown",
   "metadata": {},
   "source": [
    "\n",
    "**H0: the mean male temperature equals the mean female temperature**  \n",
    "\n",
    "**H1: The hypothesis is that mean male temperature is not equal to the female temperature**"
   ]
  },
  {
   "cell_type": "code",
   "execution_count": 37,
   "metadata": {},
   "outputs": [
    {
     "name": "stdout",
     "output_type": "stream",
     "text": [
      "The p-value is: 0.02228736076065755 with a z score of: -2.2854345381656103\n",
      "\n"
     ]
    }
   ],
   "source": [
    "testResult=stests.ztest(df['temperature'][df.gender == 'M'],df['temperature'][df.gender == 'F'])\n",
    "pValue=testResult[1]\n",
    "print(\"The p-value is: \"+str(pValue) + \" with a z score of: \"+ str(testResult[0]))\n",
    "print(\"\")"
   ]
  },
  {
   "cell_type": "code",
   "execution_count": 193,
   "metadata": {},
   "outputs": [
    {
     "name": "stdout",
     "output_type": "stream",
     "text": [
      "p-value is: 0.02228736076065755\n",
      "\n"
     ]
    }
   ],
   "source": [
    "testResult=stests.ztest(df['temperature'][df.gender == 'F'],df['temperature'][df.gender == 'M'])\n",
    "pValue=testResult[1]\n",
    "print(\"p-value is: \"+str(pValue))\n",
    "print(\"\")"
   ]
  },
  {
   "cell_type": "markdown",
   "metadata": {},
   "source": [
    "The p value is less then 0.05, so we reject the null hypothesis that the two datasets have the same mean temperatures"
   ]
  }
 ],
 "metadata": {
  "kernelspec": {
   "display_name": "Python 3",
   "language": "python",
   "name": "python3"
  },
  "language_info": {
   "codemirror_mode": {
    "name": "ipython",
    "version": 3
   },
   "file_extension": ".py",
   "mimetype": "text/x-python",
   "name": "python",
   "nbconvert_exporter": "python",
   "pygments_lexer": "ipython3",
   "version": "3.6.5"
  }
 },
 "nbformat": 4,
 "nbformat_minor": 1
}
