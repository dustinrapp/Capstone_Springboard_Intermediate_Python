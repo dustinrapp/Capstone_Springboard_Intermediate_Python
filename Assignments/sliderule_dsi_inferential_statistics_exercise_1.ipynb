{
 "cells": [
  {
   "cell_type": "markdown",
   "metadata": {},
   "source": [
    "# What is the True Normal Human Body Temperature? \n",
    "\n",
    "#### Background\n",
    "\n",
    "The mean normal body temperature was held to be 37$^{\\circ}$C or 98.6$^{\\circ}$F for more than 120 years since it was first conceptualized and reported by Carl Wunderlich in a famous 1868 book. But, is this value statistically correct?"
   ]
  },
  {
   "cell_type": "markdown",
   "metadata": {},
   "source": [
    "<h3>Exercises</h3>\n",
    "\n",
    "<p>In this exercise, you will analyze a dataset of human body temperatures and employ the concepts of hypothesis testing, confidence intervals, and statistical significance.</p>\n",
    "\n",
    "<p>Answer the following questions <b>in this notebook below and submit to your Github account</b>.</p> \n",
    "\n",
    "<ol>\n",
    "<li>  Is the distribution of body temperatures normal? \n",
    "    <ul>\n",
    "    <li> Although this is not a requirement for the Central Limit Theorem to hold (read the introduction on Wikipedia's page about the CLT carefully: https://en.wikipedia.org/wiki/Central_limit_theorem), it gives us some peace of mind that the population may also be normally distributed if we assume that this sample is representative of the population.\n",
    "    <li> Think about the way you're going to check for the normality of the distribution. Graphical methods are usually used first, but there are also other ways: https://en.wikipedia.org/wiki/Normality_test\n",
    "    </ul>\n",
    "<li>  Is the sample size large? Are the observations independent?\n",
    "    <ul>\n",
    "    <li> Remember that this is a condition for the Central Limit Theorem, and hence the statistical tests we are using, to apply.\n",
    "    </ul>\n",
    "<li>  Is the true population mean really 98.6 degrees F?\n",
    "    <ul>\n",
    "    <li> First, try a bootstrap hypothesis test.\n",
    "    <li> Now, let's try frequentist statistical testing. Would you use a one-sample or two-sample test? Why?\n",
    "    <li> In this situation, is it appropriate to use the $t$ or $z$ statistic? \n",
    "    <li> Now try using the other test. How is the result be different? Why?\n",
    "    </ul>\n",
    "<li>  Draw a small sample of size 10 from the data and repeat both frequentist tests. \n",
    "    <ul>\n",
    "    <li> Which one is the correct one to use? \n",
    "    <li> What do you notice? What does this tell you about the difference in application of the $t$ and $z$ statistic?\n",
    "    </ul>\n",
    "<li>  At what temperature should we consider someone's temperature to be \"abnormal\"?\n",
    "    <ul>\n",
    "    <li> As in the previous example, try calculating everything using the boostrap approach, as well as the frequentist approach.\n",
    "    <li> Start by computing the margin of error and confidence interval. When calculating the confidence interval, keep in mind that you should use the appropriate formula for one draw, and not N draws.\n",
    "    </ul>\n",
    "<li>  Is there a significant difference between males and females in normal temperature?\n",
    "    <ul>\n",
    "    <li> What testing approach did you use and why?\n",
    "    <li> Write a story with your conclusion in the context of the original problem.\n",
    "    </ul>\n",
    "</ol>\n",
    "\n",
    "You can include written notes in notebook cells using Markdown: \n",
    "   - In the control panel at the top, choose Cell > Cell Type > Markdown\n",
    "   - Markdown syntax: http://nestacms.com/docs/creating-content/markdown-cheat-sheet\n",
    "\n",
    "#### Resources\n",
    "\n",
    "+ Information and data sources: http://www.amstat.org/publications/jse/datasets/normtemp.txt, http://www.amstat.org/publications/jse/jse_data_archive.htm\n",
    "+ Markdown syntax: http://nestacms.com/docs/creating-content/markdown-cheat-sheet\n",
    "\n",
    "****"
   ]
  },
  {
   "cell_type": "markdown",
   "metadata": {},
   "source": [
    "**Before beginning assignment, import needed modules and dataframe.**"
   ]
  },
  {
   "cell_type": "code",
   "execution_count": 8,
   "metadata": {},
   "outputs": [],
   "source": [
    "import pandas as pd\n",
    "import numpy as np\n",
    "import matplotlib.pyplot as plt\n"
   ]
  },
  {
   "cell_type": "code",
   "execution_count": 9,
   "metadata": {},
   "outputs": [
    {
     "name": "stdout",
     "output_type": "stream",
     "text": [
      "   temperature gender  heart_rate\n",
      "0         99.3      F        68.0\n",
      "1         98.4      F        81.0\n",
      "2         97.8      M        73.0\n",
      "3         99.2      F        66.0\n",
      "4         98.0      F        73.0\n",
      "Mean = 98.24923076923075\n",
      "Standard Deviation = 0.730357778905038\n",
      "Number of samples = 130\n"
     ]
    }
   ],
   "source": [
    "df = pd.read_csv('data/human_body_temperature.csv')\n",
    "print(df.head())\n",
    "print(\"Mean = \" + str(np.mean(df['temperature'])))\n",
    "print(\"Standard Deviation = \" + str(np.std(df['temperature'])))\n",
    "print(\"Number of samples = \" + str(len(df['temperature'])))\n"
   ]
  },
  {
   "cell_type": "markdown",
   "metadata": {},
   "source": [
    "## Q1:  Is the dataset Normal?"
   ]
  },
  {
   "cell_type": "markdown",
   "metadata": {},
   "source": [
    "**Define an expected cumulative distribution function**"
   ]
  },
  {
   "cell_type": "code",
   "execution_count": 10,
   "metadata": {},
   "outputs": [],
   "source": [
    "def ecdf(data):\n",
    "    \"\"\"Compute ECDF for a one-dimensional array of measurements.\"\"\"\n",
    "    # Number of data points: n\n",
    "    n =len(data)\n",
    "\n",
    "    # x-data for the ECDF: x\n",
    "    x = np.sort(data)\n",
    "\n",
    "    # y-data for the ECDF: y\n",
    "    y = np.arange(1, n+1) / n\n",
    "\n",
    "    return x, y"
   ]
  },
  {
   "cell_type": "markdown",
   "metadata": {},
   "source": [
    "**Create histogram of temperature measurements**"
   ]
  },
  {
   "cell_type": "code",
   "execution_count": 11,
   "metadata": {},
   "outputs": [
    {
     "name": "stderr",
     "output_type": "stream",
     "text": [
      "c:\\users\\rapp\\appdata\\local\\programs\\python\\python36-32\\lib\\site-packages\\matplotlib\\axes\\_axes.py:6462: UserWarning: The 'normed' kwarg is deprecated, and has been replaced by the 'density' kwarg.\n",
      "  warnings.warn(\"The 'normed' kwarg is deprecated, and has been \"\n"
     ]
    },
    {
     "data": {
      "image/png": "[encoded data removed]",
      "text/plain": [
       "<Figure size 432x288 with 1 Axes>"
      ]
     },
     "metadata": {},
     "output_type": "display_data"
    }
   ],
   "source": [
    "plt.hist(df['temperature'], bins=20, normed = True, histtype = 'step')\n",
    "plt.show()\n"
   ]
  },
  {
   "cell_type": "code",
   "execution_count": 12,
   "metadata": {},
   "outputs": [
    {
     "name": "stdout",
     "output_type": "stream",
     "text": [
      "2.703801433319203 0.2587479863488254\n",
      "variable is normal\n"
     ]
    }
   ],
   "source": [
    "from scipy import stats\n",
    "a=df['temperature']\n",
    "k,p=stats.mstats.normaltest(a) # k = z-score returned by skewtest and k is the z-score returned by kurtosistest. p= p-value\n",
    "\n",
    "print(k,p)\n",
    "# we use p value to test if the variable is normal or not\n",
    "if p<0.05:\n",
    "  print('varible is not normal')\n",
    "else:\n",
    "  print('variable is normal')"
   ]
  },
  {
   "cell_type": "code",
   "execution_count": 14,
   "metadata": {},
   "outputs": [
    {
     "ename": "TypeError",
     "evalue": "float() argument must be a string or a number, not 'function'",
     "output_type": "error",
     "traceback": [
      "\u001b[1;31m---------------------------------------------------------------------------\u001b[0m",
      "\u001b[1;31mTypeError\u001b[0m                                 Traceback (most recent call last)",
      "\u001b[1;32m<ipython-input-14-afe478eb002d>\u001b[0m in \u001b[0;36m<module>\u001b[1;34m()\u001b[0m\n\u001b[0;32m      1\u001b[0m \u001b[1;33m\u001b[0m\u001b[0m\n\u001b[1;32m----> 2\u001b[1;33m \u001b[0msamples\u001b[0m \u001b[1;33m=\u001b[0m \u001b[0mnp\u001b[0m\u001b[1;33m.\u001b[0m\u001b[0mrandom\u001b[0m\u001b[1;33m.\u001b[0m\u001b[0mnormal\u001b[0m\u001b[1;33m(\u001b[0m\u001b[0mnp\u001b[0m\u001b[1;33m.\u001b[0m\u001b[0mmean\u001b[0m\u001b[1;33m,\u001b[0m \u001b[0mnp\u001b[0m\u001b[1;33m.\u001b[0m\u001b[0mstd\u001b[0m\u001b[1;33m,\u001b[0m \u001b[0msize\u001b[0m\u001b[1;33m=\u001b[0m\u001b[1;36m10000\u001b[0m\u001b[1;33m)\u001b[0m\u001b[1;33m\u001b[0m\u001b[0m\n\u001b[0m\u001b[0;32m      3\u001b[0m \u001b[0mplt\u001b[0m\u001b[1;33m.\u001b[0m\u001b[0mhist\u001b[0m\u001b[1;33m(\u001b[0m\u001b[0msamples\u001b[0m\u001b[1;33m,\u001b[0m \u001b[0mbins\u001b[0m\u001b[1;33m=\u001b[0m\u001b[1;36m100\u001b[0m\u001b[1;33m,\u001b[0m \u001b[0mnormed\u001b[0m \u001b[1;33m=\u001b[0m \u001b[1;32mTrue\u001b[0m\u001b[1;33m,\u001b[0m \u001b[0mhisttype\u001b[0m \u001b[1;33m=\u001b[0m \u001b[1;34m'step'\u001b[0m\u001b[1;33m)\u001b[0m\u001b[1;33m\u001b[0m\u001b[0m\n\u001b[0;32m      4\u001b[0m \u001b[0mplt\u001b[0m\u001b[1;33m.\u001b[0m\u001b[0mshow\u001b[0m\u001b[1;33m(\u001b[0m\u001b[1;33m)\u001b[0m\u001b[1;33m\u001b[0m\u001b[0m\n",
      "\u001b[1;32mmtrand.pyx\u001b[0m in \u001b[0;36mmtrand.RandomState.normal\u001b[1;34m()\u001b[0m\n",
      "\u001b[1;31mTypeError\u001b[0m: float() argument must be a string or a number, not 'function'"
     ]
    }
   ],
   "source": [
    "\n",
    "samples = np.random.normal(mean, std, size=10000) \n",
    "plt.hist(samples, bins=100, normed = True, histtype = 'step')\n",
    "plt.show()\n",
    "\n"
   ]
  },
  {
   "cell_type": "markdown",
   "metadata": {},
   "source": [
    "**Create scatter plot comparing ECDF of actual data to ECDF of dat"
   ]
  },
  {
   "cell_type": "code",
   "execution_count": 34,
   "metadata": {},
   "outputs": [
    {
     "ename": "NameError",
     "evalue": "name 'x_theor' is not defined",
     "output_type": "error",
     "traceback": [
      "\u001b[1;31m---------------------------------------------------------------------------\u001b[0m",
      "\u001b[1;31mNameError\u001b[0m                                 Traceback (most recent call last)",
      "\u001b[1;32m<ipython-input-34-60117362e7c1>\u001b[0m in \u001b[0;36m<module>\u001b[1;34m()\u001b[0m\n\u001b[0;32m      1\u001b[0m \u001b[1;31m#x_theor,y_theor = ecdf(samples)\u001b[0m\u001b[1;33m\u001b[0m\u001b[1;33m\u001b[0m\u001b[0m\n\u001b[0;32m      2\u001b[0m \u001b[0mx\u001b[0m\u001b[1;33m,\u001b[0m \u001b[0my\u001b[0m \u001b[1;33m=\u001b[0m \u001b[0mecdf\u001b[0m\u001b[1;33m(\u001b[0m\u001b[0mdf\u001b[0m\u001b[1;33m[\u001b[0m\u001b[1;34m'temperature'\u001b[0m\u001b[1;33m]\u001b[0m\u001b[1;33m)\u001b[0m\u001b[1;33m\u001b[0m\u001b[0m\n\u001b[1;32m----> 3\u001b[1;33m \u001b[0mplt\u001b[0m\u001b[1;33m.\u001b[0m\u001b[0mplot\u001b[0m\u001b[1;33m(\u001b[0m\u001b[0mx_theor\u001b[0m\u001b[1;33m,\u001b[0m\u001b[0my_theor\u001b[0m\u001b[1;33m,\u001b[0m \u001b[0mmarker\u001b[0m \u001b[1;33m=\u001b[0m \u001b[1;34m'.'\u001b[0m\u001b[1;33m,\u001b[0m \u001b[0mlinestyle\u001b[0m \u001b[1;33m=\u001b[0m \u001b[1;34m'none'\u001b[0m\u001b[1;33m)\u001b[0m\u001b[1;33m\u001b[0m\u001b[0m\n\u001b[0m\u001b[0;32m      4\u001b[0m \u001b[0mplt\u001b[0m\u001b[1;33m.\u001b[0m\u001b[0mxlabel\u001b[0m\u001b[1;33m(\u001b[0m\u001b[1;34m\"temperature\"\u001b[0m\u001b[1;33m)\u001b[0m\u001b[1;33m\u001b[0m\u001b[0m\n\u001b[0;32m      5\u001b[0m \u001b[0mplt\u001b[0m\u001b[1;33m.\u001b[0m\u001b[0mplot\u001b[0m\u001b[1;33m(\u001b[0m\u001b[0mx\u001b[0m\u001b[1;33m,\u001b[0m\u001b[0my\u001b[0m\u001b[1;33m,\u001b[0m \u001b[0mmarker\u001b[0m \u001b[1;33m=\u001b[0m \u001b[1;34m'.'\u001b[0m\u001b[1;33m,\u001b[0m \u001b[0mlinestyle\u001b[0m \u001b[1;33m=\u001b[0m \u001b[1;34m'none'\u001b[0m\u001b[1;33m)\u001b[0m\u001b[1;33m\u001b[0m\u001b[0m\n",
      "\u001b[1;31mNameError\u001b[0m: name 'x_theor' is not defined"
     ]
    }
   ],
   "source": [
    "#x_theor,y_theor = ecdf(samples)\n",
    "x, y = ecdf(df['temperature'])\n",
    "plt.plot(x_theor,y_theor, marker = '.', linestyle = 'none')\n",
    "plt.xlabel(\"temperature\")\n",
    "plt.plot(x,y, marker = '.', linestyle = 'none')\n",
    "plt.show()\n",
    "plt.plot(x,y, marker = '.', linestyle = 'none')"
   ]
  },
  {
   "cell_type": "markdown",
   "metadata": {},
   "source": [
    "## Q2: Is the sample large?\n",
    "\n",
    "The sample size is 130.  The CLT holds well for sample sizes greater then 30; therefore the sample size can be considered large in this application.\n",
    "\n",
    "According to dummies.com:  \n",
    "\"The Central Limit Theorem (CLT for short) basically says that for non-normal data, the distribution of the sample means has an approximate normal distribution, no matter what the distribution of the original data looks like, as long as the sample size is large enough (usually at least 30) and all samples have the same size\"\n",
    "\n",
    "\n",
    "\n",
    "The following equation can also used to determine required sample sizes if varying confidence intervals are required for the Z score:  \n",
    "\n",
    "$$Necessary Sample Size = (Z-score)^2 * StdDev*(1-StdDev) / (margin of error)^2$$\n",
    "\n",
    "\n",
    "\n",
    "90% – Z Score = 1.645\n",
    "95% – Z Score = 1.96\n",
    "99% – Z Score = 2.576  \n",
    "\n",
    "https://stats.idre.ucla.edu/other/mult-pkg/faq/general/faq-what-are-the-differences-between-one-tailed-and-two-tailed-tests/\n",
    "\n"
   ]
  },
  {
   "cell_type": "code",
   "execution_count": 16,
   "metadata": {},
   "outputs": [
    {
     "name": "stdout",
     "output_type": "stream",
     "text": [
      "The human temperature sample size is: 130\n",
      "The necessary sample size for a 95% confidence level and a 5% margin of error is 303.0\n",
      "The necessary sample size for a 95% confidence level and a 10% margin of error is 76.0\n",
      "The necessary sample size for a 90% confidence level and a 5% margin of error is 213.0\n",
      "The necessary sample size for a 90% confidence level and a 10% margin of error is 53.0\n"
     ]
    }
   ],
   "source": [
    "#Calculate sample size: \n",
    "size = (len(df['temperature']))\n",
    "\n",
    "#Calculate standard deviation\n",
    "std = np.std(df['temperature'])\n",
    "\n",
    "#Calculate necessary sample size (NSS), assuming a 95% confidence level (Z Score = 1.96) with a 5% margin of error:\n",
    "NSS_a = (1.96**2*std*(1-std))/(0.05**2)\n",
    "NSS_aa = (1.96**2*std*(1-std))/(0.1**2)\n",
    "NSS_b = (1.645**2*std*(1-std))/(0.05**2)\n",
    "NSS_bb = (1.645**2*std*(1-std))/(0.1**2)\n",
    "\n",
    "print('The human temperature sample size is: ' + str(size))\n",
    "print('The necessary sample size for a 95% confidence level and a 5% margin of error is ' + str(round(NSS_a,0)))\n",
    "print('The necessary sample size for a 95% confidence level and a 10% margin of error is ' + str(round(NSS_aa,0)))\n",
    "print('The necessary sample size for a 90% confidence level and a 5% margin of error is ' + str(round(NSS_b,0)))\n",
    "print('The necessary sample size for a 90% confidence level and a 10% margin of error is ' + str(round(NSS_bb,0)))"
   ]
  },
  {
   "cell_type": "markdown",
   "metadata": {},
   "source": [
    "**As we can see, the required sample size is dependent on what is required.  We have a sample size large is a 95% confidence level is required with a 10% margin of error, but not a 5% margin of error.**"
   ]
  },
  {
   "cell_type": "code",
   "execution_count": null,
   "metadata": {},
   "outputs": [],
   "source": []
  },
  {
   "cell_type": "markdown",
   "metadata": {},
   "source": [
    "##  Q3: Is the true population mean really 98.6 degrees F?\n",
    "\n",
    "The mean of the 130 samples is 98.2491, which is slightly different then 98.6.  We will test a null hypothesis that the mean of the population is 98.6 using a bootstrap test and a 5% confidence interval\n",
    "\n",
    "\n",
    "The p-value is the probability of getting something more extreme than what we observed. 98.2491\n",
    "is 98.2491- 98.6 = -.3509 degrees F away from the null hypothesis. So our p-value is the probability\n",
    "of being more than .3509 deg F away from 98.6. This is P(Test Stat < 0.3509) + P(Test STat >\n",
    "0.3509). We don’t know the sampling distribution of our test statistic, but our bootstrap sample of 10000 observations\n",
    "lets us estimate this probability:\n",
    "> (sum(bstrap < .3509) + sum(bstrap > .3509))/10000"
   ]
  },
  {
   "cell_type": "markdown",
   "metadata": {},
   "source": [
    "**Define applicable functions**"
   ]
  },
  {
   "cell_type": "code",
   "execution_count": null,
   "metadata": {},
   "outputs": [],
   "source": [
    "def diff_from_mean(data, diff= 98.6):\n",
    "    return np.mean(data) -diff\n",
    "\n",
    "\n",
    "def bootstrap_replicate_1d(data, func): \n",
    "#\"\"Generate bootstrap replicate of 1D data.\"\"\"\n",
    "    bs_sample = np.random.choice(data, len(data))\n",
    "    return func(bs_sample) \n",
    "\n",
    "#Define bootstrap replicates function\n",
    "def draw_bs_reps(data, func, size=1):\n",
    "    \"\"\"Draw bootstrap replicates.\"\"\"\n",
    "\n",
    "    # Initialize array of replicates: bs_replicates\n",
    "    bs_replicates = np.empty(size)\n",
    "\n",
    "    # Generate replicates\n",
    "    for i in range(size):\n",
    "        bs_replicates[i] = bootstrap_replicate_1d(data, func)\n",
    "\n",
    "    return bs_replicates"
   ]
  },
  {
   "cell_type": "markdown",
   "metadata": {},
   "source": [
    "**Perform bootstrap and calculate 95% confidence interval and p value**"
   ]
  },
  {
   "cell_type": "code",
   "execution_count": 48,
   "metadata": {},
   "outputs": [
    {
     "name": "stdout",
     "output_type": "stream",
     "text": [
      "Min of bs replicates:-0.2692307692307594\n",
      "p value is: 0\n",
      "The confidence interval is: [-0.12538462  0.12463462]\n"
     ]
    }
   ],
   "source": [
    "\n",
    "\n",
    "\n",
    "\n",
    "#np.random.choice(df['temperature'], size=len(df['temperature']))\n",
    "\n",
    "HypMean = 98.6\n",
    "##diff_observed = diff_from_mean(np.mean(df['temperature']))\n",
    "##print(diff_observed)\n",
    "\n",
    "# Make an array of translated temps\n",
    "translated_temp = df['temperature'] - np.mean(df['temperature']) + HypMean\n",
    "#plt.plot(translated_temp)\n",
    "\n",
    "# Take bootstrap replicates of  translated temps\n",
    "bs_replicates = draw_bs_reps(translated_temp, diff_from_mean, 10000)\n",
    "\n",
    "# Compute fraction of replicates that are less than the observed difference\n",
    "\n",
    "p = (np.sum(bs_replicates <= diff_observed))\n",
    "print(\"Min of bs replicates:\"  + str(min(bs_replicates)))\n",
    "#print(diff_observed)\n",
    "\n",
    "#P(Test Stat < 21.75) + P(Test STat >\n",
    "#44.29)\n",
    "\n",
    "p1 =stats.norm.cdf(value, 130)\n",
    "print(\"p value is: \" + str(p))\n",
    "conf_int = np.percentile(bs_replicates, [2.5, 97.5])\n",
    "print(\"The confidence interval is: \" + str(conf_int))"
   ]
  },
  {
   "cell_type": "markdown",
   "metadata": {},
   "source": [
    "**Do histogram PDF plot of degrees from 98.6**"
   ]
  },
  {
   "cell_type": "code",
   "execution_count": 45,
   "metadata": {},
   "outputs": [
    {
     "name": "stdout",
     "output_type": "stream",
     "text": [
      "p =  0\n"
     ]
    },
    {
     "name": "stderr",
     "output_type": "stream",
     "text": [
      "c:\\users\\rapp\\appdata\\local\\programs\\python\\python36-32\\lib\\site-packages\\matplotlib\\axes\\_axes.py:6462: UserWarning: The 'normed' kwarg is deprecated, and has been replaced by the 'density' kwarg.\n",
      "  warnings.warn(\"The 'normed' kwarg is deprecated, and has been \"\n"
     ]
    },
    {
     "data": {
      "image/png": "[encoded data removed]",
      "text/plain": [
       "<Figure size 432x288 with 1 Axes>"
      ]
     },
     "metadata": {},
     "output_type": "display_data"
    }
   ],
   "source": [
    "# Print the p-value\n",
    "print('p = ', p)\n",
    "#print(diff_observed)\n",
    "\n",
    "_ = plt.hist(bs_replicates, bins=30, normed=True)\n",
    "_ = plt.xlabel('differences(deg F) from 98.6')\n",
    "_ = plt.ylabel('PDF') \n",
    "\n",
    "value = stats.norm.ppf(.95)\n",
    "#print(value)\n",
    "# confirm with cdf\n"
   ]
  },
  {
   "cell_type": "markdown",
   "metadata": {},
   "source": [
    "### Now try frequentist z test"
   ]
  },
  {
   "cell_type": "markdown",
   "metadata": {},
   "source": [
    "**Although n>=30, a t test is most appropriate as we do not know the population standard deviation.**"
   ]
  },
  {
   "cell_type": "markdown",
   "metadata": {},
   "source": [
    "**A t value can be calculated with the following equation:**  $$t = \\frac{\\overline{X} - \\mu}{S\\sqrt{n}} $$\n",
    "**Critical values of the t distribution with 130 degrees of freedom: ** \n",
    "**t<sub>0.05</sub> = 1.658**\n",
    "**t<sub>-0.05</sub> = -1.658**\n",
    "**t<sub>0.1</sub> = 1.289** \n",
    "**t<sub>-0.1</sub> = -1.289** \n",
    "  \n",
    "**Plugging in our known values, we get:**  $$t= \\frac{98.6-98.249}{0.0329*11.4}$$  \n",
    "\n",
    "**Doing the calculations:  **\n",
    "\n",
    "\n",
    "\n",
    "\n",
    "\n"
   ]
  },
  {
   "cell_type": "code",
   "execution_count": 40,
   "metadata": {},
   "outputs": [
    {
     "name": "stdout",
     "output_type": "stream",
     "text": [
      "0.730357778905038\n",
      "t = 0.03287004017578845\n",
      "p value using stats model Ttest_1sampleResult = Ttest_1sampResult(statistic=-5.4548232923645195, pvalue=2.4106320415561276e-07)\n"
     ]
    }
   ],
   "source": [
    "import scipy.stats\n",
    "mu = 98.6\n",
    "Xbar = np.mean(df['temperature'])\n",
    "S = np.std(df['temperature'])\n",
    "n = len(df['temperature'])\n",
    "print(S)\n",
    "        \n",
    "t= (Xbar - mu)/(S-np.sqrt(n))\n",
    "print(\"t = \" + str(t))\n",
    "\n",
    "p = stats.ttest_1samp(df['temperature'], 98.6)\n",
    "print(\"p value using stats model Ttest_1sampleResult = \" + str(p))"
   ]
  },
  {
   "cell_type": "code",
   "execution_count": null,
   "metadata": {},
   "outputs": [],
   "source": []
  }
 ],
 "metadata": {
  "kernelspec": {
   "display_name": "Python 3",
   "language": "python",
   "name": "python3"
  },
  "language_info": {
   "codemirror_mode": {
    "name": "ipython",
    "version": 3
   },
   "file_extension": ".py",
   "mimetype": "text/x-python",
   "name": "python",
   "nbconvert_exporter": "python",
   "pygments_lexer": "ipython3",
   "version": "3.6.5"
  }
 },
 "nbformat": 4,
 "nbformat_minor": 1
}
