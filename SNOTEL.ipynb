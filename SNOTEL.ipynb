{
 "cells": [
  {
   "cell_type": "code",
   "execution_count": 27,
   "metadata": {},
   "outputs": [
    {
     "name": "stdout",
     "output_type": "stream",
     "text": [
      "            Site Id   Time  WTEQ.I-1 (in)   PREC.I-1 (in)   TOBS.I-1 (degC)   \\\n",
      "Date                                                                           \n",
      "2005-01-01      415  00:00             5.2             5.8              -2.1   \n",
      "2005-01-01      415  03:00             5.2             6.0              -4.2   \n",
      "2005-01-02      415  00:00             5.1             5.8             -11.2   \n",
      "2005-01-02      415  03:00             5.1             5.8             -11.9   \n",
      "2005-01-03      415  00:00             5.1             5.9              -8.9   \n",
      "\n",
      "            SNWD.I-1 (in)   Unnamed: 7  \n",
      "Date                                    \n",
      "2005-01-01           -99.9         NaN  \n",
      "2005-01-01           -99.9         NaN  \n",
      "2005-01-02           -99.9         NaN  \n",
      "2005-01-02           -99.9         NaN  \n",
      "2005-01-03           -99.9         NaN  \n",
      "Index(['Site Id', 'Time', 'WTEQ.I-1 (in) ', 'PREC.I-1 (in) ',\n",
      "       'TOBS.I-1 (degC) ', 'SNWD.I-1 (in) ', 'Unnamed: 7'],\n",
      "      dtype='object')\n",
      "<class 'pandas.core.frame.DataFrame'>\n",
      "DatetimeIndex: 37019 entries, 2005-01-01 to 2009-12-31\n",
      "Data columns (total 7 columns):\n",
      "Site Id             37019 non-null int64\n",
      "Time                37019 non-null object\n",
      "WTEQ.I-1 (in)       37019 non-null float64\n",
      "PREC.I-1 (in)       37019 non-null float64\n",
      "TOBS.I-1 (degC)     37019 non-null float64\n",
      "SNWD.I-1 (in)       37019 non-null float64\n",
      "Unnamed: 7          0 non-null float64\n",
      "dtypes: float64(5), int64(1), object(1)\n",
      "memory usage: 2.3+ MB\n",
      "None\n",
      "       Site Id  WTEQ.I-1 (in)   PREC.I-1 (in)   TOBS.I-1 (degC)   \\\n",
      "count  37019.0    37019.000000    37019.000000      37019.000000   \n",
      "mean     415.0        1.214698       15.081907          1.032308   \n",
      "std        0.0       23.224964       16.861542          9.604605   \n",
      "min      415.0      -99.900000      -99.900000        -99.900000   \n",
      "25%      415.0        0.000000        8.000000         -5.400000   \n",
      "50%      415.0        2.600000       18.700000          1.100000   \n",
      "75%      415.0       11.800000       24.800000          7.600000   \n",
      "max      415.0       21.700000       36.200000         25.800000   \n",
      "\n",
      "       SNWD.I-1 (in)   Unnamed: 7  \n",
      "count    37019.000000         0.0  \n",
      "mean         2.575953         NaN  \n",
      "std         50.394062         NaN  \n",
      "min       -196.000000         NaN  \n",
      "25%         -1.000000         NaN  \n",
      "50%          7.000000         NaN  \n",
      "75%         39.000000         NaN  \n",
      "max        189.000000         NaN  \n"
     ]
    },
    {
     "data": {
      "image/png": "[encoded data removed]",
      "text/plain": [
       "<Figure size 432x288 with 1 Axes>"
      ]
     },
     "metadata": {},
     "output_type": "display_data"
    },
    {
     "name": "stdout",
     "output_type": "stream",
     "text": [
      "count    37019.000000\n",
      "mean         2.575953\n",
      "std         50.394062\n",
      "min       -196.000000\n",
      "25%         -1.000000\n",
      "50%          7.000000\n",
      "75%         39.000000\n",
      "max        189.000000\n",
      "Name: SNWD.I-1 (in) , dtype: float64\n"
     ]
    },
    {
     "name": "stderr",
     "output_type": "stream",
     "text": [
      "C:\\Anaconda3\\lib\\site-packages\\ipykernel_launcher.py:34: SettingWithCopyWarning: \n",
      "A value is trying to be set on a copy of a slice from a DataFrame\n",
      "\n",
      "See the caveats in the documentation: http://pandas.pydata.org/pandas-docs/stable/indexing.html#indexing-view-versus-copy\n"
     ]
    },
    {
     "data": {
      "image/png": "[encoded data removed]",
      "text/plain": [
       "<Figure size 432x288 with 1 Axes>"
      ]
     },
     "metadata": {},
     "output_type": "display_data"
    },
    {
     "name": "stdout",
     "output_type": "stream",
     "text": [
      "<class 'pandas.core.frame.DataFrame'>\n",
      "DatetimeIndex: 37019 entries, 2005-01-01 to 2009-12-31\n",
      "Data columns (total 7 columns):\n",
      "Site Id             37019 non-null int64\n",
      "Time                37019 non-null object\n",
      "WTEQ.I-1 (in)       37019 non-null float64\n",
      "PREC.I-1 (in)       37019 non-null float64\n",
      "TOBS.I-1 (degC)     37019 non-null float64\n",
      "SNWD.I-1 (in)       27543 non-null float64\n",
      "Unnamed: 7          0 non-null float64\n",
      "dtypes: float64(5), int64(1), object(1)\n",
      "memory usage: 3.5+ MB\n",
      "None\n",
      "count    27543.000000\n",
      "mean        25.202120\n",
      "std         20.708747\n",
      "min          0.000000\n",
      "25%          2.000000\n",
      "50%         26.000000\n",
      "75%         44.000000\n",
      "max         65.000000\n",
      "Name: SNWD.I-1 (in) , dtype: float64\n"
     ]
    }
   ],
   "source": [
    "import pandas as pd\n",
    "import matplotlib.pyplot as plt\n",
    "import numpy as np\n",
    "import os\n",
    "from glob import glob\n",
    "import datetime as dt\n",
    "\n",
    "\n",
    "#import raw snotel data\n",
    "snotel_files = glob(r'C:\\Users\\RAPP\\Desktop\\SPringboard Intermediate Python\\SNOTEL\\415_STAND_YEAR=200*.csv')\n",
    "\n",
    "parser = lambda date: pd.datetime.strptime(date, '%Y-%m-%d') #Dates aren't in a form python recognizes\n",
    "\n",
    "snotel_data = [pd.read_csv(f, header=1, date_parser=parser, index_col='Date') for f in snotel_files]\n",
    "\n",
    "snotel_df= pd.concat(snotel_data)\n",
    "\n",
    "#Look at Raw data stats\n",
    "print(snotel_df.head())\n",
    "print(snotel_df.keys())\n",
    "print(snotel_df.info())\n",
    "print(snotel_df.describe())\n",
    "\n",
    "\n",
    "#SNWD data info------\n",
    "\n",
    "#plot raw data\n",
    "snotel_df['SNWD.I-1 (in) '].plot()\n",
    "plt.show()\n",
    "print(snotel_df['SNWD.I-1 (in) '].describe())\n",
    "\n",
    "#set outliers to Nan\n",
    "x=(snotel_df['SNWD.I-1 (in) ']<0) | (snotel_df['SNWD.I-1 (in) ']>100) \n",
    "snotel_df['SNWD.I-1 (in) '][x]=np.NaN\n",
    "snotel_df['SNWD.I-1 (in) '].plot()\n",
    "\n",
    "plt.show()\n",
    "\n",
    "#print new stats for snwd\n",
    "print(snotel_df.info())\n",
    "print(snotel_df['SNWD.I-1 (in) '].describe())\n",
    "\n",
    "\n"
   ]
  },
  {
   "cell_type": "code",
   "execution_count": null,
   "metadata": {},
   "outputs": [],
   "source": []
  },
  {
   "cell_type": "code",
   "execution_count": null,
   "metadata": {},
   "outputs": [],
   "source": []
  },
  {
   "cell_type": "code",
   "execution_count": null,
   "metadata": {},
   "outputs": [],
   "source": []
  }
 ],
 "metadata": {
  "kernelspec": {
   "display_name": "Python 3",
   "language": "python",
   "name": "python3"
  },
  "language_info": {
   "codemirror_mode": {
    "name": "ipython",
    "version": 3
   },
   "file_extension": ".py",
   "mimetype": "text/x-python",
   "name": "python",
   "nbconvert_exporter": "python",
   "pygments_lexer": "ipython3",
   "version": "3.6.5"
  }
 },
 "nbformat": 4,
 "nbformat_minor": 2
}
