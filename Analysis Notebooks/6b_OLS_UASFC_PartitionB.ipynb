{
 "cells": [
  {
   "cell_type": "markdown",
   "metadata": {},
   "source": [
    "## This notebooks uses Partition A Surface Data with the OLS model to make snowfall predictions"
   ]
  },
  {
   "cell_type": "markdown",
   "metadata": {},
   "source": [
    "**Import necessary modules and the ASOS/SNOTEL dataframes**"
   ]
  },
  {
   "cell_type": "code",
   "execution_count": 1,
   "metadata": {},
   "outputs": [],
   "source": [
    "import pandas as pd\n",
    "import matplotlib.pyplot as plt\n",
    "import numpy as np\n",
    "import datetime as dtb\n",
    "import os\n",
    "from glob import glob\n",
    "import datetime as dt\n",
    "import seaborn as sns"
   ]
  },
  {
   "cell_type": "markdown",
   "metadata": {},
   "source": [
    "***\n",
    "# OLS Analysis of meteorological variables and snowfall (Training Dataset: 2008-2017 only)"
   ]
  },
  {
   "cell_type": "markdown",
   "metadata": {},
   "source": [
    "**We will first utilize just the Copper Mountain surface level variables and run the model explicitly to generate statistics.  This will give snowfall predictive capability of individual meteorological variables (Dewpoint, SNOTEL Temperature, Temperature, Wind Speed, Cloud Cover, Wind Direction, 6hr Pressure change, and Pressure) using an OLS model and the 2008-2017 training dataset. The resulting values will also be used to verify some code which performs same analysis, but with a loop.  This code will then be fed all upper air and surface level variables to determine best combination of variables in the OLS model.**\n"
   ]
  },
  {
   "cell_type": "markdown",
   "metadata": {},
   "source": [
    "**Define dataframe which contains these features with concurrent snowfall events**"
   ]
  },
  {
   "cell_type": "code",
   "execution_count": 2,
   "metadata": {},
   "outputs": [
    {
     "name": "stdout",
     "output_type": "stream",
     "text": [
      "255\n"
     ]
    }
   ],
   "source": [
    "data = [pd.read_csv('test_train_df.dat', parse_dates = True, index_col = 'Date_Time')]\n",
    "test_train_df = pd.concat(data)\n",
    "print(len(test_train_df))\n"
   ]
  },
  {
   "cell_type": "markdown",
   "metadata": {},
   "source": [
    "**This matches calculations made in the snowfall statistics analysis**"
   ]
  },
  {
   "cell_type": "code",
   "execution_count": 3,
   "metadata": {},
   "outputs": [
    {
     "name": "stdout",
     "output_type": "stream",
     "text": [
      "255\n"
     ]
    }
   ],
   "source": [
    "import statistics as sts\n",
    "all_yrs_tt = (test_train_df.index >= '01-01-2006') & (test_train_df.index < '01-01-2018')\n",
    "train_yrs_tt=  ((test_train_df.index >= '01-01-2006') & (test_train_df.index < '01-01-2013')) | ((test_train_df.index >= '01-01-2015') & (test_train_df.index < '01-01-2018'))\n",
    "test_yrs_tt = (test_train_df.index >= '01-01-2013') & (test_train_df.index < '01-01-2015')\n",
    "\n",
    "print(len(test_train_df))"
   ]
  },
  {
   "cell_type": "markdown",
   "metadata": {},
   "source": [
    "## Perform forward step feature selection using the OLS model"
   ]
  },
  {
   "cell_type": "markdown",
   "metadata": {},
   "source": [
    "**Define surface+upper air features which have high data capture (as found in snowfall stats analysis)**"
   ]
  },
  {
   "cell_type": "code",
   "execution_count": 4,
   "metadata": {},
   "outputs": [],
   "source": [
    "variables = ['CMtnSNTL_Temp_degC', 'CMtn_Temperature_degC', 'CMtn_Dewpoint_degC', \\\n",
    "'CMtn_WindDirection_deg', 'CMtn_WindSpeed_mps', 'LXV_Temperature_degC', 'LXV_Dewpoint_degC', \\\n",
    "'LXV_Pressure_hp', 'LXV_WindSpeed_mps', 'LXV_WindDirection_deg', 'LXV_12hr_delta_Pressure_hp']+ \\\n",
    "['KGJT_200mb_height_m', 'KGJT_200mb_tmpc', 'KGJT_200mb_dwpc', 'KGJT_200mb_drct', 'KGJT_200mb_speed_kts', 'KGJT_250mb_height_m', 'KGJT_250mb_tmpc', 'KGJT_250mb_dwpc', \\\n",
    "             'KGJT_250mb_drct', 'KGJT_250mb_speed_kts', 'KGJT_300mb_height_m', 'KGJT_300mb_tmpc', 'KGJT_300mb_dwpc', 'KGJT_300mb_drct', 'KGJT_300mb_speed_kts', 'KGJT_400mb_height_m', \\\n",
    "             'KGJT_400mb_tmpc', 'KGJT_400mb_dwpc', 'KGJT_400mb_drct', 'KGJT_400mb_speed_kts', 'KGJT_500mb_height_m', 'KGJT_500mb_tmpc', 'KGJT_500mb_dwpc', 'KGJT_500mb_drct', 'KGJT_500mb_speed_kts', \\\n",
    "             'KGJT_700mb_height_m', 'KGJT_700mb_tmpc', 'KGJT_700mb_dwpc', 'KGJT_700mb_drct', 'KGJT_700mb_speed_kts', 'KGJT_850mb_height_m', 'KGJT_d850_700_height_m', 'KGJT_d850_500_height_m', 'KGJT_d850_400_height_m', \\\n",
    "             'KGJT_d850_300_height_m', 'KGJT_d850_250_height_m', 'KGJT_d850_200_height_m', 'KGJT_d700_500_height_m', 'KGJT_d700_500_tmpc', 'KGJT_d700_500_dwpc', 'KGJT_d700_500_drct', 'KGJT_d700_500_speed_kts', 'KGJT_d700_400_height_m', \\\n",
    "             'KGJT_d700_400_tmpc', 'KGJT_d700_400_dwpc', 'KGJT_d700_400_drct', 'KGJT_d700_400_speed_kts', 'KGJT_d700_300_height_m', 'KGJT_d700_300_tmpc', 'KGJT_d700_300_dwpc', 'KGJT_d700_300_drct', 'KGJT_d700_300_speed_kts', \\\n",
    "             'KGJT_d700_250_height_m', 'KGJT_d700_250_tmpc', 'KGJT_d700_250_dwpc', 'KGJT_d700_250_drct', 'KGJT_d700_250_speed_kts', 'KGJT_d700_200_height_m', 'KGJT_d700_200_tmpc', 'KGJT_d700_200_dwpc', 'KGJT_d700_200_drct', \\\n",
    "             'KGJT_d700_200_speed_kts', 'KGJT_d500_400_height_m', 'KGJT_d500_400_tmpc', 'KGJT_d500_400_dwpc', 'KGJT_d500_400_drct', 'KGJT_d500_400_speed_kts', 'KGJT_d500_300_height_m', 'KGJT_d500_300_tmpc', 'KGJT_d500_300_dwpc', \\\n",
    "             'KGJT_d500_300_drct', 'KGJT_d500_300_speed_kts', 'KGJT_d500_250_height_m', 'KGJT_d500_250_tmpc', 'KGJT_d500_250_dwpc', 'KGJT_d500_250_drct', 'KGJT_d500_250_speed_kts', 'KGJT_d500_200_height_m', 'KGJT_d500_200_tmpc', \\\n",
    "             'KGJT_d500_200_dwpc', 'KGJT_d500_200_drct', 'KGJT_d500_200_speed_kts', 'KGJT_d400_300_height_m', 'KGJT_d400_300_tmpc', 'KGJT_d400_300_dwpc', 'KGJT_d400_300_drct', 'KGJT_d400_300_speed_kts', 'KGJT_d400_250_height_m', \\\n",
    "             'KGJT_d400_250_tmpc', 'KGJT_d400_250_dwpc', 'KGJT_d400_250_drct', 'KGJT_d400_250_speed_kts', 'KGJT_d400_200_height_m', 'KGJT_d400_200_tmpc', 'KGJT_d400_200_dwpc', 'KGJT_d400_200_drct', 'KGJT_d400_200_speed_kts', \\\n",
    "             'KGJT_d300_250_height_m', 'KGJT_d300_250_tmpc', 'KGJT_d300_250_dwpc', 'KGJT_d300_250_drct', 'KGJT_d300_250_speed_kts', 'KGJT_d300_200_height_m', 'KGJT_d300_200_tmpc', 'KGJT_d300_200_dwpc', 'KGJT_d300_200_drct', \\\n",
    "             'KGJT_d300_200_speed_kts', 'KGJT_d250_200_height_m', 'KGJT_d250_200_tmpc', 'KGJT_d250_200_dwpc', 'KGJT_d250_200_drct', 'KGJT_d250_200_speed_kts']\n",
    "\n"
   ]
  },
  {
   "cell_type": "markdown",
   "metadata": {},
   "source": [
    "**Now use a forward stepwise methodology using the surface features and the OLS model.  Feature combinations which result in higher adjusted R squared values will be kept to train the model**"
   ]
  },
  {
   "cell_type": "code",
   "execution_count": 5,
   "metadata": {},
   "outputs": [
    {
     "name": "stdout",
     "output_type": "stream",
     "text": [
      "******\n"
     ]
    }
   ],
   "source": [
    "\n",
    "#Import statsmodel\n",
    "\n",
    "import statsmodels.api as sm\n",
    "#import statsmodel\n",
    "from statsmodels.formula.api import ols\n",
    "\n",
    "\n",
    "from collections import OrderedDict\n",
    "\n",
    "\n",
    "variables_org = variables\n",
    "\n",
    "\n",
    "print('******')\n",
    "adjRs = []\n",
    "newRs = []\n",
    "dup_var = []\n",
    "max_vars = []\n",
    "f_pvalues = []\n",
    "\n",
    "while variables != []:\n",
    "  #print(variables)\n",
    "  for var in variables:\n",
    "\n",
    "        \n",
    "    #print(variables)\n",
    "    max_var = max(variables, key = lambda v: ols('CMtnSNTL_Upcoming12hrSNOWFALL_gte3_in ~' + v, test_train_df[train_yrs_tt]).fit().rsquared_adj)    #this finds OLS model run with highest adj R squared\n",
    "    OLS = ols('CMtnSNTL_Upcoming12hrSNOWFALL_gte3_in ~' + max_var, test_train_df[train_yrs_tt]).fit()\n",
    "    \n",
    "    #print(max_var)\n",
    "\n",
    "    \n",
    "    #Create lists of statistics for each combination of variables modeld\n",
    "    adjRs.append(OLS.rsquared_adj)\n",
    "    f_pvalues.append(OLS.f_pvalue)\n",
    "    max_vars.append(max_var)\n",
    "\n",
    "    add_max_var = '+ '+ max_var\n",
    "    \n",
    "    variables = [s + add_max_var for s in variables_org]\n",
    "    \n",
    "    #The above for loop naturally will create a duplicate variable, which should be removed\n",
    "    for v in variables_org: \n",
    "      dup_var = []\n",
    "      dup_var = [var for var in variables if var.count(v)>1]\n",
    "      if dup_var!=[]:\n",
    "            for dup in dup_var: variables.remove(dup)\n",
    "\n",
    "#combine the modeled variable sequences with respective stats  \n",
    "stats = list(zip(adjRs, f_pvalues))    # create list of tuples\n",
    "dictionary = OrderedDict(zip(max_vars, stats))\n",
    "\n",
    "#dictionary_adjRs = OrderedDict(zip(max_vars, f_pvalues))\n",
    "#print(dictionary)"
   ]
  },
  {
   "cell_type": "markdown",
   "metadata": {},
   "source": [
    "**Plot the adjusted R square calculated for each iteration**"
   ]
  },
  {
   "cell_type": "code",
   "execution_count": 6,
   "metadata": {},
   "outputs": [
    {
     "data": {
      "text/plain": [
       "[<matplotlib.lines.Line2D at 0xd1b6e30>]"
      ]
     },
     "execution_count": 6,
     "metadata": {},
     "output_type": "execute_result"
    },
    {
     "data": {
      "image/png": "[encoded data removed]",
      "text/plain": [
       "<Figure size 432x288 with 1 Axes>"
      ]
     },
     "metadata": {},
     "output_type": "display_data"
    }
   ],
   "source": [
    "plt.plot(adjRs)"
   ]
  },
  {
   "cell_type": "markdown",
   "metadata": {},
   "source": [
    "**Plot the adjusted F statistic calculated for each iteration**"
   ]
  },
  {
   "cell_type": "code",
   "execution_count": 7,
   "metadata": {},
   "outputs": [
    {
     "data": {
      "text/plain": [
       "[<matplotlib.lines.Line2D at 0xe249a50>]"
      ]
     },
     "execution_count": 7,
     "metadata": {},
     "output_type": "execute_result"
    },
    {
     "data": {
      "image/png": "[encoded data removed]",
      "text/plain": [
       "<Figure size 432x288 with 1 Axes>"
      ]
     },
     "metadata": {},
     "output_type": "display_data"
    }
   ],
   "source": [
    "plt.plot(f_pvalues)"
   ]
  },
  {
   "cell_type": "markdown",
   "metadata": {},
   "source": [
    "**Print adjusted R and F stat probabilities in order**"
   ]
  },
  {
   "cell_type": "code",
   "execution_count": 8,
   "metadata": {},
   "outputs": [],
   "source": [
    "\n",
    "\n",
    "for c in dictionary:\n",
    "    #print(str(dictionary.keys().index(c))+\"{country}: {capital}\".format(country=c, capital=dictionary[c])+\"\\n\")\n",
    "        #print(str(list(dictionary.keys()).index(c))+ \" {key} \\n Adjusted R: {adjR}  Fstat(prob): {f_pvalue}\".format(key=c, adjR=dictionary[c][0], f_pvalue = dictionary[c][1])+\"\\n\")\n",
    "        OLS = ols('CMtnSNTL_Upcoming12hrSNOWFALL_gte3_in ~' + c, test_train_df[train_yrs_tt]).fit()\n",
    "\n",
    "#print(dictionary)"
   ]
  },
  {
   "cell_type": "markdown",
   "metadata": {},
   "source": [
    "**Find max adj R and obtain OLS summary**"
   ]
  },
  {
   "cell_type": "code",
   "execution_count": 9,
   "metadata": {},
   "outputs": [
    {
     "name": "stdout",
     "output_type": "stream",
     "text": [
      "Print maximum:\n"
     ]
    }
   ],
   "source": [
    " # Just use 'min' instead of 'max' for minimum.\n",
    "print(\"Print maximum:\")\n",
    "maximum = max(dictionary, key=dictionary.get) \n",
    "#print(maximum)"
   ]
  },
  {
   "cell_type": "markdown",
   "metadata": {},
   "source": [
    "**Thus the feature set with best capability looks to be these four features.  Let's look at the statsmdel regression results when just these features are used:**"
   ]
  },
  {
   "cell_type": "code",
   "execution_count": 10,
   "metadata": {},
   "outputs": [
    {
     "name": "stdout",
     "output_type": "stream",
     "text": [
      "                                      OLS Regression Results                                     \n",
      "=================================================================================================\n",
      "Dep. Variable:     CMtnSNTL_Upcoming12hrSNOWFALL_gte3_in   R-squared:                       0.389\n",
      "Model:                                               OLS   Adj. R-squared:                  0.299\n",
      "Method:                                    Least Squares   F-statistic:                     4.305\n",
      "Date:                                   Sat, 18 May 2019   Prob (F-statistic):           4.77e-09\n",
      "Time:                                           22:31:57   Log-Likelihood:                -361.56\n",
      "No. Observations:                                    195   AIC:                             775.1\n",
      "Df Residuals:                                        169   BIC:                             860.2\n",
      "Df Model:                                             25                                         \n",
      "Covariance Type:                               nonrobust                                         \n",
      "===========================================================================================\n",
      "                              coef    std err          t      P>|t|      [0.025      0.975]\n",
      "-------------------------------------------------------------------------------------------\n",
      "Intercept                  53.2436     63.982      0.832      0.406     -73.064     179.551\n",
      "KGJT_850mb_height_m         0.0032      0.004      0.741      0.460      -0.005       0.012\n",
      "KGJT_d700_300_height_m      0.0058      0.008      0.726      0.469      -0.010       0.022\n",
      "KGJT_d700_300_drct          0.0035      0.001      3.433      0.001       0.001       0.005\n",
      "KGJT_d500_300_drct         -0.0008      0.001     -0.635      0.527      -0.003       0.002\n",
      "KGJT_d700_250_drct         -0.0026      0.001     -2.024      0.045      -0.005    -6.5e-05\n",
      "KGJT_d500_200_speed_kts     0.0085      0.008      1.041      0.300      -0.008       0.025\n",
      "LXV_WindSpeed_mps          -0.0880      0.067     -1.315      0.190      -0.220       0.044\n",
      "KGJT_d500_250_height_m      0.0264      0.019      1.352      0.178      -0.012       0.065\n",
      "KGJT_200mb_height_m         0.0107      0.005      2.359      0.019       0.002       0.020\n",
      "LXV_Pressure_hp            -0.1280      0.050     -2.548      0.012      -0.227      -0.029\n",
      "KGJT_300mb_dwpc            -0.0420      0.028     -1.501      0.135      -0.097       0.013\n",
      "KGJT_d700_400_height_m     -0.0227      0.010     -2.206      0.029      -0.043      -0.002\n",
      "KGJT_500mb_tmpc            -0.2340      0.157     -1.491      0.138      -0.544       0.076\n",
      "KGJT_d300_250_tmpc          0.1713      0.085      2.005      0.047       0.003       0.340\n",
      "KGJT_d850_200_height_m     -0.0075      0.006     -1.193      0.234      -0.020       0.005\n",
      "KGJT_d400_300_height_m      0.0285      0.014      2.107      0.037       0.002       0.055\n",
      "KGJT_d700_250_dwpc         -0.0588      0.025     -2.312      0.022      -0.109      -0.009\n",
      "LXV_WindDirection_deg      -0.0012      0.001     -1.071      0.286      -0.003       0.001\n",
      "KGJT_d500_250_drct         -0.0068      0.002     -4.001      0.000      -0.010      -0.003\n",
      "KGJT_300mb_speed_kts        0.0296      0.012      2.412      0.017       0.005       0.054\n",
      "KGJT_d250_200_dwpc          0.0567      0.029      1.924      0.056      -0.001       0.115\n",
      "KGJT_d700_400_speed_kts     0.0258      0.011      2.426      0.016       0.005       0.047\n",
      "CMtnSNTL_Temp_degC          0.1198      0.065      1.857      0.065      -0.008       0.247\n",
      "KGJT_d700_400_tmpc         -0.3815      0.102     -3.727      0.000      -0.584      -0.179\n",
      "KGJT_d250_200_tmpc         -0.0492      0.054     -0.903      0.368      -0.157       0.058\n",
      "CMtn_WindDirection_deg      0.0065      0.002      2.925      0.004       0.002       0.011\n",
      "KGJT_d300_250_drct         -0.0061      0.002     -3.204      0.002      -0.010      -0.002\n",
      "KGJT_250mb_speed_kts        0.0003      0.011      0.024      0.981      -0.021       0.022\n",
      "KGJT_d700_500_drct          0.0042      0.001      4.072      0.000       0.002       0.006\n",
      "CMtn_Dewpoint_degC          0.1268      0.039      3.270      0.001       0.050       0.203\n",
      "==============================================================================\n",
      "Omnibus:                       46.301   Durbin-Watson:                   1.998\n",
      "Prob(Omnibus):                  0.000   Jarque-Bera (JB):              108.822\n",
      "Skew:                           1.054   Prob(JB):                     2.34e-24\n",
      "Kurtosis:                       5.992   Cond. No.                     1.00e+16\n",
      "==============================================================================\n",
      "\n",
      "Warnings:\n",
      "[1] Standard Errors assume that the covariance matrix of the errors is correctly specified.\n",
      "[2] The smallest eigenvalue is 6.45e-22. This might indicate that there are\n",
      "strong multicollinearity problems or that the design matrix is singular.\n"
     ]
    }
   ],
   "source": [
    "maximum_all_str = max(dictionary, key=dictionary.get) \n",
    "#print(maximum_all_str)\n",
    "\n",
    "maxOLS_all = ols('CMtnSNTL_Upcoming12hrSNOWFALL_gte3_in ~' + maximum_all_str , test_train_df[train_yrs_tt]).fit() \n",
    "print(maxOLS_all.summary())\n"
   ]
  },
  {
   "cell_type": "markdown",
   "metadata": {},
   "source": [
    "**We do note that some of the individual feature p values are still a little hight. Let's test different P|t| thresholds for which to remove variables, rerun and model for each set of variables, and see what threshold might glean best results using adjusted R squared as a metric**"
   ]
  },
  {
   "cell_type": "code",
   "execution_count": 14,
   "metadata": {},
   "outputs": [
    {
     "name": "stdout",
     "output_type": "stream",
     "text": [
      "0.4596538688721248\n",
      "\n",
      " best p value threshold for feature elimination is:0.3\n",
      "                                      OLS Regression Results                                     \n",
      "=================================================================================================\n",
      "Dep. Variable:     CMtnSNTL_Upcoming12hrSNOWFALL_gte3_in   R-squared:                       0.386\n",
      "Model:                                               OLS   Adj. R-squared:                  0.303\n",
      "Method:                                    Least Squares   F-statistic:                     4.675\n",
      "Date:                                   Sat, 18 May 2019   Prob (F-statistic):           1.38e-09\n",
      "Time:                                           22:57:42   Log-Likelihood:                -362.04\n",
      "No. Observations:                                    195   AIC:                             772.1\n",
      "Df Residuals:                                        171   BIC:                             850.6\n",
      "Df Model:                                             23                                         \n",
      "Covariance Type:                               nonrobust                                         \n",
      "===========================================================================================\n",
      "                              coef    std err          t      P>|t|      [0.025      0.975]\n",
      "-------------------------------------------------------------------------------------------\n",
      "Intercept                  75.3603     58.783      1.282      0.202     -40.674     191.394\n",
      "KGJT_d700_300_drct          0.0031      0.001      2.140      0.034       0.000       0.006\n",
      "KGJT_d700_250_drct         -0.0026      0.001     -2.117      0.036      -0.005      -0.000\n",
      "KGJT_d500_200_speed_kts     0.0088      0.008      1.135      0.258      -0.007       0.024\n",
      "LXV_WindSpeed_mps          -0.0911      0.066     -1.374      0.171      -0.222       0.040\n",
      "KGJT_d500_250_height_m      0.0381      0.014      2.650      0.009       0.010       0.067\n",
      "KGJT_200mb_height_m         0.0156      0.006      2.627      0.009       0.004       0.027\n",
      "LXV_Pressure_hp            -0.1426      0.047     -3.022      0.003      -0.236      -0.049\n",
      "KGJT_300mb_dwpc            -0.0431      0.028     -1.549      0.123      -0.098       0.012\n",
      "KGJT_d700_400_height_m     -0.0145      0.012     -1.188      0.237      -0.039       0.010\n",
      "KGJT_500mb_tmpc            -0.2169      0.155     -1.400      0.163      -0.523       0.089\n",
      "KGJT_d300_250_tmpc          0.2098      0.073      2.868      0.005       0.065       0.354\n",
      "KGJT_d850_200_height_m     -0.0085      0.008     -1.006      0.316      -0.025       0.008\n",
      "KGJT_d400_300_height_m      0.0355      0.020      1.812      0.072      -0.003       0.074\n",
      "KGJT_d700_250_dwpc         -0.0599      0.025     -2.377      0.019      -0.110      -0.010\n",
      "LXV_WindDirection_deg      -0.0012      0.001     -1.091      0.277      -0.004       0.001\n",
      "KGJT_d500_250_drct         -0.0072      0.002     -3.868      0.000      -0.011      -0.004\n",
      "KGJT_300mb_speed_kts        0.0298      0.008      3.804      0.000       0.014       0.045\n",
      "KGJT_d250_200_dwpc          0.0496      0.028      1.752      0.082      -0.006       0.106\n",
      "KGJT_d700_400_speed_kts     0.0254      0.011      2.403      0.017       0.005       0.046\n",
      "CMtnSNTL_Temp_degC          0.1168      0.064      1.818      0.071      -0.010       0.244\n",
      "KGJT_d700_400_tmpc         -0.4298      0.086     -4.970      0.000      -0.601      -0.259\n",
      "CMtn_WindDirection_deg      0.0064      0.002      2.913      0.004       0.002       0.011\n",
      "KGJT_d300_250_drct         -0.0057      0.002     -2.577      0.011      -0.010      -0.001\n",
      "KGJT_d700_500_drct          0.0046      0.001      3.136      0.002       0.002       0.008\n",
      "CMtn_Dewpoint_degC          0.1287      0.039      3.336      0.001       0.053       0.205\n",
      "==============================================================================\n",
      "Omnibus:                       45.313   Durbin-Watson:                   2.000\n",
      "Prob(Omnibus):                  0.000   Jarque-Bera (JB):              106.638\n",
      "Skew:                           1.030   Prob(JB):                     6.98e-24\n",
      "Kurtosis:                       5.980   Cond. No.                     1.00e+16\n",
      "==============================================================================\n",
      "\n",
      "Warnings:\n",
      "[1] Standard Errors assume that the covariance matrix of the errors is correctly specified.\n",
      "[2] The smallest eigenvalue is 5.67e-22. This might indicate that there are\n",
      "strong multicollinearity problems or that the design matrix is singular.\n"
     ]
    }
   ],
   "source": [
    "rsq_adj = maxOLS_all.rsquared_adj\n",
    "thresh = 0\n",
    "\n",
    "goodp_str = maximum_all_str\n",
    "highp_var = []\n",
    "\n",
    "maximum_all_str = max(dictionary, key=dictionary.get)    #this is the string of variables found in previous OLS run associated with mad adjusted R squared.\n",
    "#print(maximum_all_str)\n",
    "\n",
    "print(maxOLS_all.pvalues[1])\n",
    "for test_thresh in range(1, 100):   #loop through different P|t| thresholds ranging from 1 to 100.  Note floats are not allowed here \n",
    "  #print(test_thresh)\n",
    "  highp_var = [var for var in maxOLS_all.pvalues.keys() if maxOLS_all.pvalues[var]>=test_thresh*0.01]  #check P|t| for each variable against threshold and store in list\n",
    "  #print(highp_var)\n",
    "  \n",
    "  testgoodp_str = maximum_all_str   #reset testgoodp_str \n",
    "    \n",
    "  for var in highp_var:\n",
    "    testgoodp_str = testgoodp_str.replace(var+\"+ \", \"\")  # if need to replace first feature in string\n",
    "    testgoodp_str = testgoodp_str.replace(\"+ \" + var, \"\")   #  \n",
    "    \n",
    "#    print(var)\n",
    "#    print(testgoodp_str)\n",
    " \n",
    "\n",
    " \n",
    "\n",
    "  maxOLS_testgoodp = ols('CMtnSNTL_Upcoming12hrSNOWFALL_gte3_in ~' + testgoodp_str, test_train_df[train_yrs_tt]).fit()\n",
    "  #print(testgoodp_str, maxOLS_testgoodp.rsquared_adj, test_thresh*0.01)\n",
    "  #print(maxOLS_testgoodp.rsquared_adj)\n",
    "  if maxOLS_testgoodp.rsquared_adj > rsq_adj:\n",
    "      rsq_adj = maxOLS_testgoodp.rsquared_adj\n",
    "      #print(maxOLS_testgoodp.rsquared_adj, test_thresh*0.01)\n",
    "      goodp_str = testgoodp_str\n",
    "      thresh = test_thresh*0.01\n",
    "      #print(thresh, goodp_str)\n",
    "\n",
    "    \n",
    "print(\"\\n best p value threshold for feature elimination is:\" + str(thresh))\n",
    "maxOLS_goodp = ols('CMtnSNTL_Upcoming12hrSNOWFALL_gte3_in ~' + goodp_str, test_train_df[train_yrs_tt]).fit() \n",
    "print(maxOLS_goodp.summary())"
   ]
  },
  {
   "cell_type": "markdown",
   "metadata": {},
   "source": [
    "**Doesn't like any improvement can be made**"
   ]
  },
  {
   "cell_type": "markdown",
   "metadata": {},
   "source": [
    "## Make snowfall predictions"
   ]
  },
  {
   "cell_type": "code",
   "execution_count": 12,
   "metadata": {},
   "outputs": [
    {
     "name": "stdout",
     "output_type": "stream",
     "text": [
      "60\n"
     ]
    }
   ],
   "source": [
    "\n",
    "\n",
    "\n",
    "actual_snf = test_train_df[test_yrs_tt]['CMtnSNTL_Upcoming12hrSNOWFALL_gte3_in']\n",
    "\n",
    "predict_snf = maxOLS_goodp.predict(test_train_df[test_yrs_tt])\n",
    "print(len(actual_snf))\n",
    "rows = zip(actual_snf, predict_snf)\n"
   ]
  },
  {
   "cell_type": "markdown",
   "metadata": {},
   "source": [
    "**Write both actual and predicted snowfall values to csv file for future analysis"
   ]
  },
  {
   "cell_type": "code",
   "execution_count": 13,
   "metadata": {},
   "outputs": [],
   "source": [
    "import csv\n",
    "with open(r'C:\\Users\\RAPP\\Documents\\Capstone\\Analysis Notebooks\\model_predictions\\B0-UASFC_OLS.csv', \"w\") as f:\n",
    "    writer = csv.writer(f)\n",
    "    for row in rows:\n",
    "        writer.writerow(row)"
   ]
  },
  {
   "cell_type": "code",
   "execution_count": null,
   "metadata": {},
   "outputs": [],
   "source": []
  }
 ],
 "metadata": {
  "kernelspec": {
   "display_name": "Python 3",
   "language": "python",
   "name": "python3"
  },
  "language_info": {
   "codemirror_mode": {
    "name": "ipython",
    "version": 3
   },
   "file_extension": ".py",
   "mimetype": "text/x-python",
   "name": "python",
   "nbconvert_exporter": "python",
   "pygments_lexer": "ipython3",
   "version": "3.6.5"
  }
 },
 "nbformat": 4,
 "nbformat_minor": 2
}
