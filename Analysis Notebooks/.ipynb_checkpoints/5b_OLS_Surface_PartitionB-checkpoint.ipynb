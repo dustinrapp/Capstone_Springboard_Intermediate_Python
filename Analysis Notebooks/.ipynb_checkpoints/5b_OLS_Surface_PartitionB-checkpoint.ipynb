{
 "cells": [
  {
   "cell_type": "markdown",
   "metadata": {},
   "source": [
    "## This notebooks uses Partition B Surface Data with the OLS model to make snowfall predictions"
   ]
  },
  {
   "cell_type": "markdown",
   "metadata": {},
   "source": [
    "**Import necessary modules and the ASOS/SNOTEL dataframes**"
   ]
  },
  {
   "cell_type": "code",
   "execution_count": 1,
   "metadata": {},
   "outputs": [],
   "source": [
    "import pandas as pd\n",
    "import matplotlib.pyplot as plt\n",
    "import numpy as np\n",
    "import datetime as dtb\n",
    "import os\n",
    "from glob import glob\n",
    "import datetime as dt\n",
    "import seaborn as sns"
   ]
  },
  {
   "cell_type": "markdown",
   "metadata": {},
   "source": [
    "***\n",
    "# OLS Analysis of meteorological variables and snowfall (Training Dataset: 2008-2017 only)"
   ]
  },
  {
   "cell_type": "markdown",
   "metadata": {},
   "source": [
    "**We will first utilize just the Copper Mountain surface level variables and run the model explicitly to generate statistics.  This will give snowfall predictive capability of individual meteorological variables (Dewpoint, SNOTEL Temperature, Temperature, Wind Speed, Cloud Cover, Wind Direction, 6hr Pressure change, and Pressure) using an OLS model and the 2008-2017 training dataset. The resulting values will also be used to verify some code which performs same analysis, but with a loop.  This code will then be fed all upper air and surface level variables to determine best combination of variables in the OLS model.**\n"
   ]
  },
  {
   "cell_type": "markdown",
   "metadata": {},
   "source": [
    "**Define dataframe which contains these features with concurrent snowfall events**"
   ]
  },
  {
   "cell_type": "code",
   "execution_count": 2,
   "metadata": {},
   "outputs": [
    {
     "name": "stdout",
     "output_type": "stream",
     "text": [
      "255\n"
     ]
    }
   ],
   "source": [
    "data = [pd.read_csv('test_train_df.dat', parse_dates = True, index_col = 'Date_Time')]\n",
    "test_train_df = pd.concat(data)\n",
    "print(len(test_train_df))\n"
   ]
  },
  {
   "cell_type": "markdown",
   "metadata": {},
   "source": [
    "**This matches calculations made in the snowfall statistics analysis**"
   ]
  },
  {
   "cell_type": "code",
   "execution_count": 3,
   "metadata": {},
   "outputs": [
    {
     "name": "stdout",
     "output_type": "stream",
     "text": [
      "255\n"
     ]
    }
   ],
   "source": [
    "import statistics as sts\n",
    "all_yrs_tt = (test_train_df.index >= '01-01-2006') & (test_train_df.index < '01-01-2018')\n",
    "train_yrs_tt=  ((test_train_df.index >= '01-01-2006') & (test_train_df.index < '01-01-2013')) | ((test_train_df.index >= '01-01-2015') & (test_train_df.index < '01-01-2018'))\n",
    "test_yrs_tt = (test_train_df.index >= '01-01-2013') & (test_train_df.index < '01-01-2015')\n",
    "\n",
    "\n",
    "print(len(test_train_df))"
   ]
  },
  {
   "cell_type": "markdown",
   "metadata": {},
   "source": [
    "## Perform forward step feature selection using the OLS model"
   ]
  },
  {
   "cell_type": "markdown",
   "metadata": {},
   "source": [
    "**Define surface features which have high data capture**"
   ]
  },
  {
   "cell_type": "code",
   "execution_count": 4,
   "metadata": {},
   "outputs": [],
   "source": [
    "variables = ['CMtnSNTL_Temp_degC', 'CMtn_Temperature_degC', 'CMtn_Dewpoint_degC', \\\n",
    "'CMtn_WindDirection_deg', 'CMtn_WindSpeed_mps', 'LXV_Temperature_degC', 'LXV_Dewpoint_degC', \\\n",
    "'LXV_Pressure_hp', 'LXV_WindSpeed_mps', 'LXV_WindDirection_deg', 'LXV_12hr_delta_Pressure_hp']"
   ]
  },
  {
   "cell_type": "markdown",
   "metadata": {},
   "source": [
    "**Now use a forward selection methodology using the surface features and the OLS model.  Feature combinations which result in higher adjusted R squared values will be kept to train the model**"
   ]
  },
  {
   "cell_type": "code",
   "execution_count": 5,
   "metadata": {},
   "outputs": [
    {
     "name": "stdout",
     "output_type": "stream",
     "text": [
      "******\n",
      "['CMtnSNTL_Temp_degC', 'CMtn_Temperature_degC', 'CMtn_Dewpoint_degC', 'CMtn_WindDirection_deg', 'CMtn_WindSpeed_mps', 'LXV_Temperature_degC', 'LXV_Dewpoint_degC', 'LXV_Pressure_hp', 'LXV_WindSpeed_mps', 'LXV_WindDirection_deg', 'LXV_12hr_delta_Pressure_hp']\n",
      "CMtn_Dewpoint_degC\n",
      "['CMtnSNTL_Temp_degC+ CMtn_Dewpoint_degC', 'CMtn_Temperature_degC+ CMtn_Dewpoint_degC', 'CMtn_WindDirection_deg+ CMtn_Dewpoint_degC', 'CMtn_WindSpeed_mps+ CMtn_Dewpoint_degC', 'LXV_Temperature_degC+ CMtn_Dewpoint_degC', 'LXV_Dewpoint_degC+ CMtn_Dewpoint_degC', 'LXV_Pressure_hp+ CMtn_Dewpoint_degC', 'LXV_WindSpeed_mps+ CMtn_Dewpoint_degC', 'LXV_WindDirection_deg+ CMtn_Dewpoint_degC', 'LXV_12hr_delta_Pressure_hp+ CMtn_Dewpoint_degC']\n",
      "CMtn_WindDirection_deg+ CMtn_Dewpoint_degC\n",
      "['CMtnSNTL_Temp_degC+ CMtn_WindDirection_deg+ CMtn_Dewpoint_degC', 'CMtn_Temperature_degC+ CMtn_WindDirection_deg+ CMtn_Dewpoint_degC', 'CMtn_WindSpeed_mps+ CMtn_WindDirection_deg+ CMtn_Dewpoint_degC', 'LXV_Temperature_degC+ CMtn_WindDirection_deg+ CMtn_Dewpoint_degC', 'LXV_Dewpoint_degC+ CMtn_WindDirection_deg+ CMtn_Dewpoint_degC', 'LXV_Pressure_hp+ CMtn_WindDirection_deg+ CMtn_Dewpoint_degC', 'LXV_WindSpeed_mps+ CMtn_WindDirection_deg+ CMtn_Dewpoint_degC', 'LXV_WindDirection_deg+ CMtn_WindDirection_deg+ CMtn_Dewpoint_degC', 'LXV_12hr_delta_Pressure_hp+ CMtn_WindDirection_deg+ CMtn_Dewpoint_degC']\n",
      "LXV_Pressure_hp+ CMtn_WindDirection_deg+ CMtn_Dewpoint_degC\n",
      "['CMtnSNTL_Temp_degC+ LXV_Pressure_hp+ CMtn_WindDirection_deg+ CMtn_Dewpoint_degC', 'CMtn_Temperature_degC+ LXV_Pressure_hp+ CMtn_WindDirection_deg+ CMtn_Dewpoint_degC', 'CMtn_WindSpeed_mps+ LXV_Pressure_hp+ CMtn_WindDirection_deg+ CMtn_Dewpoint_degC', 'LXV_Temperature_degC+ LXV_Pressure_hp+ CMtn_WindDirection_deg+ CMtn_Dewpoint_degC', 'LXV_Dewpoint_degC+ LXV_Pressure_hp+ CMtn_WindDirection_deg+ CMtn_Dewpoint_degC', 'LXV_WindSpeed_mps+ LXV_Pressure_hp+ CMtn_WindDirection_deg+ CMtn_Dewpoint_degC', 'LXV_WindDirection_deg+ LXV_Pressure_hp+ CMtn_WindDirection_deg+ CMtn_Dewpoint_degC', 'LXV_12hr_delta_Pressure_hp+ LXV_Pressure_hp+ CMtn_WindDirection_deg+ CMtn_Dewpoint_degC']\n",
      "LXV_WindDirection_deg+ LXV_Pressure_hp+ CMtn_WindDirection_deg+ CMtn_Dewpoint_degC\n",
      "['CMtnSNTL_Temp_degC+ LXV_WindDirection_deg+ LXV_Pressure_hp+ CMtn_WindDirection_deg+ CMtn_Dewpoint_degC', 'CMtn_Temperature_degC+ LXV_WindDirection_deg+ LXV_Pressure_hp+ CMtn_WindDirection_deg+ CMtn_Dewpoint_degC', 'CMtn_WindSpeed_mps+ LXV_WindDirection_deg+ LXV_Pressure_hp+ CMtn_WindDirection_deg+ CMtn_Dewpoint_degC', 'LXV_Temperature_degC+ LXV_WindDirection_deg+ LXV_Pressure_hp+ CMtn_WindDirection_deg+ CMtn_Dewpoint_degC', 'LXV_Dewpoint_degC+ LXV_WindDirection_deg+ LXV_Pressure_hp+ CMtn_WindDirection_deg+ CMtn_Dewpoint_degC', 'LXV_WindSpeed_mps+ LXV_WindDirection_deg+ LXV_Pressure_hp+ CMtn_WindDirection_deg+ CMtn_Dewpoint_degC', 'LXV_12hr_delta_Pressure_hp+ LXV_WindDirection_deg+ LXV_Pressure_hp+ CMtn_WindDirection_deg+ CMtn_Dewpoint_degC']\n",
      "LXV_Temperature_degC+ LXV_WindDirection_deg+ LXV_Pressure_hp+ CMtn_WindDirection_deg+ CMtn_Dewpoint_degC\n",
      "['CMtnSNTL_Temp_degC+ LXV_Temperature_degC+ LXV_WindDirection_deg+ LXV_Pressure_hp+ CMtn_WindDirection_deg+ CMtn_Dewpoint_degC', 'CMtn_Temperature_degC+ LXV_Temperature_degC+ LXV_WindDirection_deg+ LXV_Pressure_hp+ CMtn_WindDirection_deg+ CMtn_Dewpoint_degC', 'CMtn_WindSpeed_mps+ LXV_Temperature_degC+ LXV_WindDirection_deg+ LXV_Pressure_hp+ CMtn_WindDirection_deg+ CMtn_Dewpoint_degC', 'LXV_Dewpoint_degC+ LXV_Temperature_degC+ LXV_WindDirection_deg+ LXV_Pressure_hp+ CMtn_WindDirection_deg+ CMtn_Dewpoint_degC', 'LXV_WindSpeed_mps+ LXV_Temperature_degC+ LXV_WindDirection_deg+ LXV_Pressure_hp+ CMtn_WindDirection_deg+ CMtn_Dewpoint_degC', 'LXV_12hr_delta_Pressure_hp+ LXV_Temperature_degC+ LXV_WindDirection_deg+ LXV_Pressure_hp+ CMtn_WindDirection_deg+ CMtn_Dewpoint_degC']\n",
      "LXV_WindSpeed_mps+ LXV_Temperature_degC+ LXV_WindDirection_deg+ LXV_Pressure_hp+ CMtn_WindDirection_deg+ CMtn_Dewpoint_degC\n",
      "['CMtnSNTL_Temp_degC+ LXV_WindSpeed_mps+ LXV_Temperature_degC+ LXV_WindDirection_deg+ LXV_Pressure_hp+ CMtn_WindDirection_deg+ CMtn_Dewpoint_degC', 'CMtn_Temperature_degC+ LXV_WindSpeed_mps+ LXV_Temperature_degC+ LXV_WindDirection_deg+ LXV_Pressure_hp+ CMtn_WindDirection_deg+ CMtn_Dewpoint_degC', 'CMtn_WindSpeed_mps+ LXV_WindSpeed_mps+ LXV_Temperature_degC+ LXV_WindDirection_deg+ LXV_Pressure_hp+ CMtn_WindDirection_deg+ CMtn_Dewpoint_degC', 'LXV_Dewpoint_degC+ LXV_WindSpeed_mps+ LXV_Temperature_degC+ LXV_WindDirection_deg+ LXV_Pressure_hp+ CMtn_WindDirection_deg+ CMtn_Dewpoint_degC', 'LXV_12hr_delta_Pressure_hp+ LXV_WindSpeed_mps+ LXV_Temperature_degC+ LXV_WindDirection_deg+ LXV_Pressure_hp+ CMtn_WindDirection_deg+ CMtn_Dewpoint_degC']\n",
      "CMtn_WindSpeed_mps+ LXV_WindSpeed_mps+ LXV_Temperature_degC+ LXV_WindDirection_deg+ LXV_Pressure_hp+ CMtn_WindDirection_deg+ CMtn_Dewpoint_degC\n",
      "['CMtnSNTL_Temp_degC+ CMtn_WindSpeed_mps+ LXV_WindSpeed_mps+ LXV_Temperature_degC+ LXV_WindDirection_deg+ LXV_Pressure_hp+ CMtn_WindDirection_deg+ CMtn_Dewpoint_degC', 'CMtn_Temperature_degC+ CMtn_WindSpeed_mps+ LXV_WindSpeed_mps+ LXV_Temperature_degC+ LXV_WindDirection_deg+ LXV_Pressure_hp+ CMtn_WindDirection_deg+ CMtn_Dewpoint_degC', 'LXV_Dewpoint_degC+ CMtn_WindSpeed_mps+ LXV_WindSpeed_mps+ LXV_Temperature_degC+ LXV_WindDirection_deg+ LXV_Pressure_hp+ CMtn_WindDirection_deg+ CMtn_Dewpoint_degC', 'LXV_12hr_delta_Pressure_hp+ CMtn_WindSpeed_mps+ LXV_WindSpeed_mps+ LXV_Temperature_degC+ LXV_WindDirection_deg+ LXV_Pressure_hp+ CMtn_WindDirection_deg+ CMtn_Dewpoint_degC']\n",
      "CMtn_Temperature_degC+ CMtn_WindSpeed_mps+ LXV_WindSpeed_mps+ LXV_Temperature_degC+ LXV_WindDirection_deg+ LXV_Pressure_hp+ CMtn_WindDirection_deg+ CMtn_Dewpoint_degC\n",
      "['CMtnSNTL_Temp_degC+ CMtn_Temperature_degC+ CMtn_WindSpeed_mps+ LXV_WindSpeed_mps+ LXV_Temperature_degC+ LXV_WindDirection_deg+ LXV_Pressure_hp+ CMtn_WindDirection_deg+ CMtn_Dewpoint_degC', 'LXV_Dewpoint_degC+ CMtn_Temperature_degC+ CMtn_WindSpeed_mps+ LXV_WindSpeed_mps+ LXV_Temperature_degC+ LXV_WindDirection_deg+ LXV_Pressure_hp+ CMtn_WindDirection_deg+ CMtn_Dewpoint_degC', 'LXV_12hr_delta_Pressure_hp+ CMtn_Temperature_degC+ CMtn_WindSpeed_mps+ LXV_WindSpeed_mps+ LXV_Temperature_degC+ LXV_WindDirection_deg+ LXV_Pressure_hp+ CMtn_WindDirection_deg+ CMtn_Dewpoint_degC']\n",
      "LXV_12hr_delta_Pressure_hp+ CMtn_Temperature_degC+ CMtn_WindSpeed_mps+ LXV_WindSpeed_mps+ LXV_Temperature_degC+ LXV_WindDirection_deg+ LXV_Pressure_hp+ CMtn_WindDirection_deg+ CMtn_Dewpoint_degC\n",
      "['CMtnSNTL_Temp_degC+ LXV_12hr_delta_Pressure_hp+ CMtn_Temperature_degC+ CMtn_WindSpeed_mps+ LXV_WindSpeed_mps+ LXV_Temperature_degC+ LXV_WindDirection_deg+ LXV_Pressure_hp+ CMtn_WindDirection_deg+ CMtn_Dewpoint_degC', 'LXV_Dewpoint_degC+ LXV_12hr_delta_Pressure_hp+ CMtn_Temperature_degC+ CMtn_WindSpeed_mps+ LXV_WindSpeed_mps+ LXV_Temperature_degC+ LXV_WindDirection_deg+ LXV_Pressure_hp+ CMtn_WindDirection_deg+ CMtn_Dewpoint_degC']\n",
      "LXV_Dewpoint_degC+ LXV_12hr_delta_Pressure_hp+ CMtn_Temperature_degC+ CMtn_WindSpeed_mps+ LXV_WindSpeed_mps+ LXV_Temperature_degC+ LXV_WindDirection_deg+ LXV_Pressure_hp+ CMtn_WindDirection_deg+ CMtn_Dewpoint_degC\n",
      "['CMtnSNTL_Temp_degC+ LXV_Dewpoint_degC+ LXV_12hr_delta_Pressure_hp+ CMtn_Temperature_degC+ CMtn_WindSpeed_mps+ LXV_WindSpeed_mps+ LXV_Temperature_degC+ LXV_WindDirection_deg+ LXV_Pressure_hp+ CMtn_WindDirection_deg+ CMtn_Dewpoint_degC']\n",
      "CMtnSNTL_Temp_degC+ LXV_Dewpoint_degC+ LXV_12hr_delta_Pressure_hp+ CMtn_Temperature_degC+ CMtn_WindSpeed_mps+ LXV_WindSpeed_mps+ LXV_Temperature_degC+ LXV_WindDirection_deg+ LXV_Pressure_hp+ CMtn_WindDirection_deg+ CMtn_Dewpoint_degC\n"
     ]
    }
   ],
   "source": [
    "\n",
    "#Import statsmodel\n",
    "\n",
    "import statsmodels.api as sm\n",
    "#import statsmodel\n",
    "from statsmodels.formula.api import ols\n",
    "\n",
    "\n",
    "from collections import OrderedDict\n",
    "\n",
    "\n",
    "variables_org = variables\n",
    "\n",
    "\n",
    "print('******')\n",
    "adjRs = []\n",
    "newRs = []\n",
    "dup_var = []\n",
    "max_vars = []\n",
    "f_pvalues = []\n",
    "\n",
    "while variables != []:\n",
    "  #print(variables)\n",
    "  for var in variables:\n",
    "\n",
    "        \n",
    "    print(variables)\n",
    "    max_var = max(variables, key = lambda v: ols('CMtnSNTL_Upcoming12hrSNOWFALL_gte3_in ~' + v, test_train_df[train_yrs_tt]).fit().rsquared_adj)    #this finds OLS model run with highest adj R squared\n",
    "    OLS = ols('CMtnSNTL_Upcoming12hrSNOWFALL_gte3_in ~' + max_var, test_train_df[train_yrs_tt]).fit()\n",
    "    \n",
    "    print(max_var)\n",
    "    #print(max_var)\n",
    "    #print(OLS.rsquared)\n",
    "    \n",
    "    #Create lists of statistics for each combination of variables modeld\n",
    "    adjRs.append(OLS.rsquared_adj)\n",
    "    f_pvalues.append(OLS.f_pvalue)\n",
    "    max_vars.append(max_var)\n",
    "\n",
    "    add_max_var = '+ '+ max_var\n",
    "    \n",
    "    variables = [s + add_max_var for s in variables_org]\n",
    "    \n",
    "    #The above for loop naturally will create a duplicate variable, which should be removed\n",
    "    for v in variables_org: \n",
    "      dup_var = []\n",
    "      dup_var = [var for var in variables if var.count(v)>1]\n",
    "      if dup_var!=[]:\n",
    "            for dup in dup_var: variables.remove(dup)\n",
    "\n",
    "#combine the modeled variable sequences with respective stats  \n",
    "stats = list(zip(adjRs, f_pvalues))    # create list of tuples\n",
    "dictionary = OrderedDict(zip(max_vars, stats))\n",
    "#dictionary_adjRs = OrderedDict(zip(max_vars, f_pvalues))\n",
    "#print(dictionary)"
   ]
  },
  {
   "cell_type": "markdown",
   "metadata": {},
   "source": [
    "**Plot the adjusted R square calculated for each iteration**"
   ]
  },
  {
   "cell_type": "code",
   "execution_count": 6,
   "metadata": {},
   "outputs": [
    {
     "data": {
      "text/plain": [
       "[<matplotlib.lines.Line2D at 0xe12a2d0>]"
      ]
     },
     "execution_count": 6,
     "metadata": {},
     "output_type": "execute_result"
    },
    {
     "data": {
      "image/png": "[encoded data removed]",
      "text/plain": [
       "<Figure size 432x288 with 1 Axes>"
      ]
     },
     "metadata": {},
     "output_type": "display_data"
    }
   ],
   "source": [
    "plt.plot(adjRs)"
   ]
  },
  {
   "cell_type": "markdown",
   "metadata": {},
   "source": [
    "**Plot the adjusted F statistic calculated for each iteration**"
   ]
  },
  {
   "cell_type": "code",
   "execution_count": 7,
   "metadata": {},
   "outputs": [
    {
     "data": {
      "text/plain": [
       "[<matplotlib.lines.Line2D at 0xe197650>]"
      ]
     },
     "execution_count": 7,
     "metadata": {},
     "output_type": "execute_result"
    },
    {
     "data": {
      "image/png": "[encoded data removed]",
      "text/plain": [
       "<Figure size 432x288 with 1 Axes>"
      ]
     },
     "metadata": {},
     "output_type": "display_data"
    }
   ],
   "source": [
    "plt.plot(f_pvalues)"
   ]
  },
  {
   "cell_type": "markdown",
   "metadata": {},
   "source": [
    "**Print adjusted R and F stat probabilities in order**"
   ]
  },
  {
   "cell_type": "code",
   "execution_count": 8,
   "metadata": {},
   "outputs": [
    {
     "name": "stdout",
     "output_type": "stream",
     "text": [
      "0 CMtn_Dewpoint_degC \n",
      " Adjusted R: 0.06294191382646264  Fstat(prob): 0.00023735733638146402\n",
      "\n",
      "1 CMtn_WindDirection_deg+ CMtn_Dewpoint_degC \n",
      " Adjusted R: 0.07112522311348424  Fstat(prob): 0.0003103417479943766\n",
      "\n",
      "2 LXV_Pressure_hp+ CMtn_WindDirection_deg+ CMtn_Dewpoint_degC \n",
      " Adjusted R: 0.08610932630852319  Fstat(prob): 0.0001522844149408553\n",
      "\n",
      "3 LXV_WindDirection_deg+ LXV_Pressure_hp+ CMtn_WindDirection_deg+ CMtn_Dewpoint_degC \n",
      " Adjusted R: 0.09593414905039399  Fstat(prob): 0.00011334916017685017\n",
      "\n",
      "4 LXV_Temperature_degC+ LXV_WindDirection_deg+ LXV_Pressure_hp+ CMtn_WindDirection_deg+ CMtn_Dewpoint_degC \n",
      " Adjusted R: 0.09995663946687305  Fstat(prob): 0.0001372792204373055\n",
      "\n",
      "5 LXV_WindSpeed_mps+ LXV_Temperature_degC+ LXV_WindDirection_deg+ LXV_Pressure_hp+ CMtn_WindDirection_deg+ CMtn_Dewpoint_degC \n",
      " Adjusted R: 0.09800969563190398  Fstat(prob): 0.0002683743918360795\n",
      "\n",
      "6 CMtn_WindSpeed_mps+ LXV_WindSpeed_mps+ LXV_Temperature_degC+ LXV_WindDirection_deg+ LXV_Pressure_hp+ CMtn_WindDirection_deg+ CMtn_Dewpoint_degC \n",
      " Adjusted R: 0.09433342203875916  Fstat(prob): 0.0005615598215326367\n",
      "\n",
      "7 CMtn_Temperature_degC+ CMtn_WindSpeed_mps+ LXV_WindSpeed_mps+ LXV_Temperature_degC+ LXV_WindDirection_deg+ LXV_Pressure_hp+ CMtn_WindDirection_deg+ CMtn_Dewpoint_degC \n",
      " Adjusted R: 0.09087994464476135  Fstat(prob): 0.0010669388396937825\n",
      "\n",
      "8 LXV_12hr_delta_Pressure_hp+ CMtn_Temperature_degC+ CMtn_WindSpeed_mps+ LXV_WindSpeed_mps+ LXV_Temperature_degC+ LXV_WindDirection_deg+ LXV_Pressure_hp+ CMtn_WindDirection_deg+ CMtn_Dewpoint_degC \n",
      " Adjusted R: 0.08675638924953677  Fstat(prob): 0.002002492261907533\n",
      "\n",
      "9 LXV_Dewpoint_degC+ LXV_12hr_delta_Pressure_hp+ CMtn_Temperature_degC+ CMtn_WindSpeed_mps+ LXV_WindSpeed_mps+ LXV_Temperature_degC+ LXV_WindDirection_deg+ LXV_Pressure_hp+ CMtn_WindDirection_deg+ CMtn_Dewpoint_degC \n",
      " Adjusted R: 0.08193058461272829  Fstat(prob): 0.003725754272774979\n",
      "\n",
      "10 CMtnSNTL_Temp_degC+ LXV_Dewpoint_degC+ LXV_12hr_delta_Pressure_hp+ CMtn_Temperature_degC+ CMtn_WindSpeed_mps+ LXV_WindSpeed_mps+ LXV_Temperature_degC+ LXV_WindDirection_deg+ LXV_Pressure_hp+ CMtn_WindDirection_deg+ CMtn_Dewpoint_degC \n",
      " Adjusted R: 0.0769328500226728  Fstat(prob): 0.006615667058824311\n",
      "\n",
      "OrderedDict([('CMtn_Dewpoint_degC', (0.06294191382646264, 0.00023735733638146402)), ('CMtn_WindDirection_deg+ CMtn_Dewpoint_degC', (0.07112522311348424, 0.0003103417479943766)), ('LXV_Pressure_hp+ CMtn_WindDirection_deg+ CMtn_Dewpoint_degC', (0.08610932630852319, 0.0001522844149408553)), ('LXV_WindDirection_deg+ LXV_Pressure_hp+ CMtn_WindDirection_deg+ CMtn_Dewpoint_degC', (0.09593414905039399, 0.00011334916017685017)), ('LXV_Temperature_degC+ LXV_WindDirection_deg+ LXV_Pressure_hp+ CMtn_WindDirection_deg+ CMtn_Dewpoint_degC', (0.09995663946687305, 0.0001372792204373055)), ('LXV_WindSpeed_mps+ LXV_Temperature_degC+ LXV_WindDirection_deg+ LXV_Pressure_hp+ CMtn_WindDirection_deg+ CMtn_Dewpoint_degC', (0.09800969563190398, 0.0002683743918360795)), ('CMtn_WindSpeed_mps+ LXV_WindSpeed_mps+ LXV_Temperature_degC+ LXV_WindDirection_deg+ LXV_Pressure_hp+ CMtn_WindDirection_deg+ CMtn_Dewpoint_degC', (0.09433342203875916, 0.0005615598215326367)), ('CMtn_Temperature_degC+ CMtn_WindSpeed_mps+ LXV_WindSpeed_mps+ LXV_Temperature_degC+ LXV_WindDirection_deg+ LXV_Pressure_hp+ CMtn_WindDirection_deg+ CMtn_Dewpoint_degC', (0.09087994464476135, 0.0010669388396937825)), ('LXV_12hr_delta_Pressure_hp+ CMtn_Temperature_degC+ CMtn_WindSpeed_mps+ LXV_WindSpeed_mps+ LXV_Temperature_degC+ LXV_WindDirection_deg+ LXV_Pressure_hp+ CMtn_WindDirection_deg+ CMtn_Dewpoint_degC', (0.08675638924953677, 0.002002492261907533)), ('LXV_Dewpoint_degC+ LXV_12hr_delta_Pressure_hp+ CMtn_Temperature_degC+ CMtn_WindSpeed_mps+ LXV_WindSpeed_mps+ LXV_Temperature_degC+ LXV_WindDirection_deg+ LXV_Pressure_hp+ CMtn_WindDirection_deg+ CMtn_Dewpoint_degC', (0.08193058461272829, 0.003725754272774979)), ('CMtnSNTL_Temp_degC+ LXV_Dewpoint_degC+ LXV_12hr_delta_Pressure_hp+ CMtn_Temperature_degC+ CMtn_WindSpeed_mps+ LXV_WindSpeed_mps+ LXV_Temperature_degC+ LXV_WindDirection_deg+ LXV_Pressure_hp+ CMtn_WindDirection_deg+ CMtn_Dewpoint_degC', (0.0769328500226728, 0.006615667058824311))])\n"
     ]
    }
   ],
   "source": [
    "\n",
    "\n",
    "for c in dictionary:\n",
    "    #print(str(dictionary.keys().index(c))+\"{country}: {capital}\".format(country=c, capital=dictionary[c])+\"\\n\")\n",
    "        print(str(list(dictionary.keys()).index(c))+ \" {key} \\n Adjusted R: {adjR}  Fstat(prob): {f_pvalue}\".format(key=c, adjR=dictionary[c][0], f_pvalue = dictionary[c][1])+\"\\n\")\n",
    "        OLS = ols('CMtnSNTL_Upcoming12hrSNOWFALL_gte3_in ~' + c, test_train_df[train_yrs_tt]).fit()\n",
    "\n",
    "print(dictionary)"
   ]
  },
  {
   "cell_type": "markdown",
   "metadata": {},
   "source": [
    "**Find max adj R and obtain OLS summary**"
   ]
  },
  {
   "cell_type": "code",
   "execution_count": 9,
   "metadata": {},
   "outputs": [
    {
     "name": "stdout",
     "output_type": "stream",
     "text": [
      "Print maximum:\n",
      "LXV_Temperature_degC+ LXV_WindDirection_deg+ LXV_Pressure_hp+ CMtn_WindDirection_deg+ CMtn_Dewpoint_degC\n"
     ]
    }
   ],
   "source": [
    " # Just use 'min' instead of 'max' for minimum.\n",
    "print(\"Print maximum:\")\n",
    "maximum = max(dictionary, key=dictionary.get) \n",
    "print(maximum)"
   ]
  },
  {
   "cell_type": "markdown",
   "metadata": {},
   "source": [
    "**Thus the feature set with best capability looks to be these four features.  Let's look at the statsmdel regression results when just these features are used:**"
   ]
  },
  {
   "cell_type": "code",
   "execution_count": 10,
   "metadata": {},
   "outputs": [
    {
     "name": "stdout",
     "output_type": "stream",
     "text": [
      "LXV_Temperature_degC+ LXV_WindDirection_deg+ LXV_Pressure_hp+ CMtn_WindDirection_deg+ CMtn_Dewpoint_degC\n",
      "                                      OLS Regression Results                                     \n",
      "=================================================================================================\n",
      "Dep. Variable:     CMtnSNTL_Upcoming12hrSNOWFALL_gte3_in   R-squared:                       0.123\n",
      "Model:                                               OLS   Adj. R-squared:                  0.100\n",
      "Method:                                    Least Squares   F-statistic:                     5.309\n",
      "Date:                                   Sat, 18 May 2019   Prob (F-statistic):           0.000137\n",
      "Time:                                           16:26:47   Log-Likelihood:                -396.79\n",
      "No. Observations:                                    195   AIC:                             805.6\n",
      "Df Residuals:                                        189   BIC:                             825.2\n",
      "Df Model:                                              5                                         \n",
      "Covariance Type:                               nonrobust                                         \n",
      "==========================================================================================\n",
      "                             coef    std err          t      P>|t|      [0.025      0.975]\n",
      "------------------------------------------------------------------------------------------\n",
      "Intercept                 39.1913     17.884      2.191      0.030       3.913      74.469\n",
      "LXV_Temperature_degC       0.0470      0.035      1.360      0.176      -0.021       0.115\n",
      "LXV_WindDirection_deg     -0.0021      0.001     -1.972      0.050      -0.004    7.08e-07\n",
      "LXV_Pressure_hp           -0.0346      0.018     -1.923      0.056      -0.070       0.001\n",
      "CMtn_WindDirection_deg     0.0061      0.002      2.563      0.011       0.001       0.011\n",
      "CMtn_Dewpoint_degC         0.0918      0.036      2.554      0.011       0.021       0.163\n",
      "==============================================================================\n",
      "Omnibus:                       82.453   Durbin-Watson:                   1.916\n",
      "Prob(Omnibus):                  0.000   Jarque-Bera (JB):              289.213\n",
      "Skew:                           1.718   Prob(JB):                     1.58e-63\n",
      "Kurtosis:                       7.878   Cond. No.                     1.39e+05\n",
      "==============================================================================\n",
      "\n",
      "Warnings:\n",
      "[1] Standard Errors assume that the covariance matrix of the errors is correctly specified.\n",
      "[2] The condition number is large, 1.39e+05. This might indicate that there are\n",
      "strong multicollinearity or other numerical problems.\n"
     ]
    }
   ],
   "source": [
    "maximum_all_str = max(dictionary, key=dictionary.get) \n",
    "print(maximum_all_str)\n",
    "\n",
    "maxOLS_all = ols('CMtnSNTL_Upcoming12hrSNOWFALL_gte3_in ~' + maximum_all_str , test_train_df[train_yrs_tt]).fit() \n",
    "print(maxOLS_all.summary())\n"
   ]
  },
  {
   "cell_type": "markdown",
   "metadata": {},
   "source": [
    "**We do note that some of the individual feature p values are still a little hight. Let's test different P|t| thresholds for which to remove variables, rerun and model for each set of variables, and see what threshold might glean best results using adjusted R squared as a metric**"
   ]
  },
  {
   "cell_type": "code",
   "execution_count": 11,
   "metadata": {},
   "outputs": [
    {
     "name": "stdout",
     "output_type": "stream",
     "text": [
      "\n",
      " best p value threshold for feature elimination is:0.06\n",
      "                                      OLS Regression Results                                     \n",
      "=================================================================================================\n",
      "Dep. Variable:     CMtnSNTL_Upcoming12hrSNOWFALL_gte3_in   R-squared:                       0.123\n",
      "Model:                                               OLS   Adj. R-squared:                  0.100\n",
      "Method:                                    Least Squares   F-statistic:                     5.309\n",
      "Date:                                   Sat, 18 May 2019   Prob (F-statistic):           0.000137\n",
      "Time:                                           16:26:50   Log-Likelihood:                -396.79\n",
      "No. Observations:                                    195   AIC:                             805.6\n",
      "Df Residuals:                                        189   BIC:                             825.2\n",
      "Df Model:                                              5                                         \n",
      "Covariance Type:                               nonrobust                                         \n",
      "==========================================================================================\n",
      "                             coef    std err          t      P>|t|      [0.025      0.975]\n",
      "------------------------------------------------------------------------------------------\n",
      "Intercept                 39.1913     17.884      2.191      0.030       3.913      74.469\n",
      "LXV_Temperature_degC       0.0470      0.035      1.360      0.176      -0.021       0.115\n",
      "LXV_WindDirection_deg     -0.0021      0.001     -1.972      0.050      -0.004    7.08e-07\n",
      "LXV_Pressure_hp           -0.0346      0.018     -1.923      0.056      -0.070       0.001\n",
      "CMtn_WindDirection_deg     0.0061      0.002      2.563      0.011       0.001       0.011\n",
      "CMtn_Dewpoint_degC         0.0918      0.036      2.554      0.011       0.021       0.163\n",
      "==============================================================================\n",
      "Omnibus:                       82.453   Durbin-Watson:                   1.916\n",
      "Prob(Omnibus):                  0.000   Jarque-Bera (JB):              289.213\n",
      "Skew:                           1.718   Prob(JB):                     1.58e-63\n",
      "Kurtosis:                       7.878   Cond. No.                     1.39e+05\n",
      "==============================================================================\n",
      "\n",
      "Warnings:\n",
      "[1] Standard Errors assume that the covariance matrix of the errors is correctly specified.\n",
      "[2] The condition number is large, 1.39e+05. This might indicate that there are\n",
      "strong multicollinearity or other numerical problems.\n"
     ]
    }
   ],
   "source": [
    "rsq_adj = 0\n",
    "thresh = 0\n",
    "\n",
    "goodp_str = \"\"\n",
    "highp_var = []\n",
    "\n",
    "maximum_all_str = max(dictionary, key=dictionary.get)    #this is the string of variables found in previous OLS run associated with mad adjusted R squared.\n",
    "#print(maximum_all_str)\n",
    "\n",
    "\n",
    "for test_thresh in range(1, 100):   #loop through different P|t| thresholds ranging from 1 to 100.  Note floats are not allowed here \n",
    "  #print(test_thresh)\n",
    "  highp_var = [var for var in maxOLS_all.pvalues.keys() if maxOLS_all.pvalues[var]>=test_thresh*0.01]  #check P|t| for each variable against threshold and store in list\n",
    "  \n",
    "  testgoodp_str = maximum_all_str   #reset testgoodp_str \n",
    "    \n",
    "  for var in highp_var:\n",
    "    testgoodp_str = testgoodp_str.replace(\"+ \" + var, \"\")   #  \n",
    "     \n",
    "\n",
    " \n",
    "\n",
    "  maxOLS_testgoodp = ols('CMtnSNTL_Upcoming12hrSNOWFALL_gte3_in ~' + testgoodp_str, test_train_df[train_yrs_tt]).fit()\n",
    "  #print(testgoodp_str, maxOLS_testgoodp.rsquared_adj, test_thresh*0.01)\n",
    "  #print(maxOLS_testgoodp.rsquared_adj)\n",
    "  if maxOLS_testgoodp.rsquared_adj > rsq_adj:\n",
    "      rsq_adj = maxOLS_testgoodp.rsquared_adj\n",
    "      #print(maxOLS_testgoodp.rsquared_adj, test_thresh*0.01)\n",
    "      goodp_str = testgoodp_str\n",
    "      thresh = test_thresh*0.01\n",
    "\n",
    "    \n",
    "print(\"\\n best p value threshold for feature elimination is:\" + str(thresh))\n",
    "maxOLS_goodp = ols('CMtnSNTL_Upcoming12hrSNOWFALL_gte3_in ~' + goodp_str, test_train_df[train_yrs_tt]).fit() \n",
    "print(maxOLS_goodp.summary())\n"
   ]
  },
  {
   "cell_type": "markdown",
   "metadata": {},
   "source": [
    "**Doesn't like any improvement can be made**"
   ]
  },
  {
   "cell_type": "markdown",
   "metadata": {},
   "source": [
    "## Make snowfall predictions"
   ]
  },
  {
   "cell_type": "code",
   "execution_count": 17,
   "metadata": {},
   "outputs": [
    {
     "name": "stdout",
     "output_type": "stream",
     "text": [
      "60\n"
     ]
    }
   ],
   "source": [
    "\n",
    "\n",
    "\n",
    "actual_snf = test_train_df[test_yrs_tt]['CMtnSNTL_Upcoming12hrSNOWFALL_gte3_in']\n",
    "\n",
    "predict_snf = maxOLS_goodp.predict(test_train_df[test_yrs_tt])\n",
    "print(len(actual_snf))\n",
    "rows = zip(actual_snf, predict_snf)\n"
   ]
  },
  {
   "cell_type": "markdown",
   "metadata": {},
   "source": [
    "**Write both actual and predicted snowfall values to csv file for future analysis"
   ]
  },
  {
   "cell_type": "code",
   "execution_count": 18,
   "metadata": {},
   "outputs": [],
   "source": [
    "import csv\n",
    "with open(r'C:\\Users\\RAPP\\Documents\\Capstone\\Analysis Notebooks\\model_predictions\\B0-SFC_OLS.csv', \"w\") as f:\n",
    "    writer = csv.writer(f)\n",
    "    for row in rows:\n",
    "        writer.writerow(row)"
   ]
  },
  {
   "cell_type": "code",
   "execution_count": null,
   "metadata": {},
   "outputs": [],
   "source": []
  }
 ],
 "metadata": {
  "kernelspec": {
   "display_name": "Python 3",
   "language": "python",
   "name": "python3"
  },
  "language_info": {
   "codemirror_mode": {
    "name": "ipython",
    "version": 3
   },
   "file_extension": ".py",
   "mimetype": "text/x-python",
   "name": "python",
   "nbconvert_exporter": "python",
   "pygments_lexer": "ipython3",
   "version": "3.6.5"
  }
 },
 "nbformat": 4,
 "nbformat_minor": 2
}
