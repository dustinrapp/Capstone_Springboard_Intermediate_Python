{
 "cells": [
  {
   "cell_type": "markdown",
   "metadata": {},
   "source": [
    "## This notebooks uses Partition A Surface Data with the OLS model to make snowfall predictions"
   ]
  },
  {
   "cell_type": "markdown",
   "metadata": {},
   "source": [
    "**Import necessary modules and the ASOS/SNOTEL dataframes**"
   ]
  },
  {
   "cell_type": "code",
   "execution_count": 17,
   "metadata": {},
   "outputs": [],
   "source": [
    "import pandas as pd\n",
    "import matplotlib.pyplot as plt\n",
    "import numpy as np\n",
    "import datetime as dtb\n",
    "import os\n",
    "from glob import glob\n",
    "import datetime as dt\n",
    "import seaborn as sns"
   ]
  },
  {
   "cell_type": "markdown",
   "metadata": {},
   "source": [
    "***\n",
    "# OLS Analysis of meteorological variables and snowfall (Training Dataset: 2008-2017 only)"
   ]
  },
  {
   "cell_type": "markdown",
   "metadata": {},
   "source": [
    "**We will first utilize just the Copper Mountain surface level variables and run the model explicitly to generate statistics.  This will give snowfall predictive capability of individual meteorological variables (Dewpoint, SNOTEL Temperature, Temperature, Wind Speed, Cloud Cover, Wind Direction, 6hr Pressure change, and Pressure) using an OLS model and the 2008-2017 training dataset. The resulting values will also be used to verify some code which performs same analysis, but with a loop.  This code will then be fed all upper air and surface level variables to determine best combination of variables in the OLS model.**\n"
   ]
  },
  {
   "cell_type": "markdown",
   "metadata": {},
   "source": [
    "**Define dataframe which contains these features with concurrent snowfall events**"
   ]
  },
  {
   "cell_type": "code",
   "execution_count": 18,
   "metadata": {},
   "outputs": [
    {
     "name": "stdout",
     "output_type": "stream",
     "text": [
      "255\n"
     ]
    }
   ],
   "source": [
    "data = [pd.read_csv('test_train_df.dat', parse_dates = True, index_col = 'Date_Time')]\n",
    "test_train_df = pd.concat(data)\n",
    "print(len(test_train_df))\n"
   ]
  },
  {
   "cell_type": "markdown",
   "metadata": {},
   "source": [
    "**This matches calculations made in the snowfall statistics analysis**"
   ]
  },
  {
   "cell_type": "code",
   "execution_count": 19,
   "metadata": {},
   "outputs": [
    {
     "name": "stdout",
     "output_type": "stream",
     "text": [
      "255\n"
     ]
    }
   ],
   "source": [
    "import statistics as sts\n",
    "all_yrs_tt = (test_train_df.index >= '01-01-2006') & (test_train_df.index < '01-01-2018')\n",
    "test_yrs_tt=  (test_train_df.index >= '01-01-2015')\n",
    "train_yrs_tt = (test_train_df.index >= '01-01-2006') & (test_train_df.index < '01-01-2015')\n",
    "\n",
    "print(len(test_train_df))"
   ]
  },
  {
   "cell_type": "markdown",
   "metadata": {},
   "source": [
    "## Perform forward step feature selection using the OLS model"
   ]
  },
  {
   "cell_type": "markdown",
   "metadata": {},
   "source": [
    "**Define surface+upper air features which have high data capture (as found in snowfall stats analysis)**"
   ]
  },
  {
   "cell_type": "code",
   "execution_count": 23,
   "metadata": {},
   "outputs": [],
   "source": [
    "variables = ['CMtnSNTL_Temp_degC', 'CMtn_Temperature_degC', 'CMtn_Dewpoint_degC', \\\n",
    "'CMtn_WindDirection_deg', 'CMtn_WindSpeed_mps', 'LXV_Temperature_degC', 'LXV_Dewpoint_degC', \\\n",
    "'LXV_Pressure_hp', 'LXV_WindSpeed_mps', 'LXV_WindDirection_deg', 'LXV_12hr_delta_Pressure_hp']+ \\\n",
    "['KGJT_200mb_height_m', 'KGJT_200mb_tmpc', 'KGJT_200mb_dwpc', 'KGJT_200mb_drct', 'KGJT_200mb_speed_kts', 'KGJT_250mb_height_m', 'KGJT_250mb_tmpc', 'KGJT_250mb_dwpc', \\\n",
    "             'KGJT_250mb_drct', 'KGJT_250mb_speed_kts', 'KGJT_300mb_height_m', 'KGJT_300mb_tmpc', 'KGJT_300mb_dwpc', 'KGJT_300mb_drct', 'KGJT_300mb_speed_kts', 'KGJT_400mb_height_m', \\\n",
    "             'KGJT_400mb_tmpc', 'KGJT_400mb_dwpc', 'KGJT_400mb_drct', 'KGJT_400mb_speed_kts', 'KGJT_500mb_height_m', 'KGJT_500mb_tmpc', 'KGJT_500mb_dwpc', 'KGJT_500mb_drct', 'KGJT_500mb_speed_kts', \\\n",
    "             'KGJT_700mb_height_m', 'KGJT_700mb_tmpc', 'KGJT_700mb_dwpc', 'KGJT_700mb_drct', 'KGJT_700mb_speed_kts', 'KGJT_850mb_height_m', 'KGJT_d850_700_height_m', 'KGJT_d850_500_height_m', 'KGJT_d850_400_height_m', \\\n",
    "             'KGJT_d850_300_height_m', 'KGJT_d850_250_height_m', 'KGJT_d850_200_height_m', 'KGJT_d700_500_height_m', 'KGJT_d700_500_tmpc', 'KGJT_d700_500_dwpc', 'KGJT_d700_500_drct', 'KGJT_d700_500_speed_kts', 'KGJT_d700_400_height_m', \\\n",
    "             'KGJT_d700_400_tmpc', 'KGJT_d700_400_dwpc', 'KGJT_d700_400_drct', 'KGJT_d700_400_speed_kts', 'KGJT_d700_300_height_m', 'KGJT_d700_300_tmpc', 'KGJT_d700_300_dwpc', 'KGJT_d700_300_drct', 'KGJT_d700_300_speed_kts', \\\n",
    "             'KGJT_d700_250_height_m', 'KGJT_d700_250_tmpc', 'KGJT_d700_250_dwpc', 'KGJT_d700_250_drct', 'KGJT_d700_250_speed_kts', 'KGJT_d700_200_height_m', 'KGJT_d700_200_tmpc', 'KGJT_d700_200_dwpc', 'KGJT_d700_200_drct', \\\n",
    "             'KGJT_d700_200_speed_kts', 'KGJT_d500_400_height_m', 'KGJT_d500_400_tmpc', 'KGJT_d500_400_dwpc', 'KGJT_d500_400_drct', 'KGJT_d500_400_speed_kts', 'KGJT_d500_300_height_m', 'KGJT_d500_300_tmpc', 'KGJT_d500_300_dwpc', \\\n",
    "             'KGJT_d500_300_drct', 'KGJT_d500_300_speed_kts', 'KGJT_d500_250_height_m', 'KGJT_d500_250_tmpc', 'KGJT_d500_250_dwpc', 'KGJT_d500_250_drct', 'KGJT_d500_250_speed_kts', 'KGJT_d500_200_height_m', 'KGJT_d500_200_tmpc', \\\n",
    "             'KGJT_d500_200_dwpc', 'KGJT_d500_200_drct', 'KGJT_d500_200_speed_kts', 'KGJT_d400_300_height_m', 'KGJT_d400_300_tmpc', 'KGJT_d400_300_dwpc', 'KGJT_d400_300_drct', 'KGJT_d400_300_speed_kts', 'KGJT_d400_250_height_m', \\\n",
    "             'KGJT_d400_250_tmpc', 'KGJT_d400_250_dwpc', 'KGJT_d400_250_drct', 'KGJT_d400_250_speed_kts', 'KGJT_d400_200_height_m', 'KGJT_d400_200_tmpc', 'KGJT_d400_200_dwpc', 'KGJT_d400_200_drct', 'KGJT_d400_200_speed_kts', \\\n",
    "             'KGJT_d300_250_height_m', 'KGJT_d300_250_tmpc', 'KGJT_d300_250_dwpc', 'KGJT_d300_250_drct', 'KGJT_d300_250_speed_kts', 'KGJT_d300_200_height_m', 'KGJT_d300_200_tmpc', 'KGJT_d300_200_dwpc', 'KGJT_d300_200_drct', \\\n",
    "             'KGJT_d300_200_speed_kts', 'KGJT_d250_200_height_m', 'KGJT_d250_200_tmpc', 'KGJT_d250_200_dwpc', 'KGJT_d250_200_drct', 'KGJT_d250_200_speed_kts']\n",
    "\n"
   ]
  },
  {
   "cell_type": "markdown",
   "metadata": {},
   "source": [
    "**Now use a forward stepwise methodology using the surface features and the OLS model.  Feature combinations which result in higher adjusted R squared values will be kept to train the model**"
   ]
  },
  {
   "cell_type": "code",
   "execution_count": null,
   "metadata": {},
   "outputs": [
    {
     "name": "stdout",
     "output_type": "stream",
     "text": [
      "******\n"
     ]
    }
   ],
   "source": [
    "\n",
    "#Import statsmodel\n",
    "\n",
    "import statsmodels.api as sm\n",
    "#import statsmodel\n",
    "from statsmodels.formula.api import ols\n",
    "\n",
    "\n",
    "from collections import OrderedDict\n",
    "\n",
    "\n",
    "variables_org = variables\n",
    "\n",
    "\n",
    "print('******')\n",
    "adjRs = []\n",
    "newRs = []\n",
    "dup_var = []\n",
    "max_vars = []\n",
    "f_pvalues = []\n",
    "\n",
    "while variables != []:\n",
    "  #print(variables)\n",
    "  for var in variables:\n",
    "\n",
    "        \n",
    "    #print(variables)\n",
    "    max_var = max(variables, key = lambda v: ols('CMtnSNTL_Upcoming12hrSNOWFALL_gte3_in ~' + v, test_train_df[train_yrs_tt]).fit().rsquared_adj)    #this finds OLS model run with highest adj R squared\n",
    "    OLS = ols('CMtnSNTL_Upcoming12hrSNOWFALL_gte3_in ~' + max_var, test_train_df[train_yrs_tt]).fit()\n",
    "    \n",
    "    #print(max_var)\n",
    "\n",
    "    \n",
    "    #Create lists of statistics for each combination of variables modeld\n",
    "    adjRs.append(OLS.rsquared_adj)\n",
    "    f_pvalues.append(OLS.f_pvalue)\n",
    "    max_vars.append(max_var)\n",
    "\n",
    "    add_max_var = '+ '+ max_var\n",
    "    \n",
    "    variables = [s + add_max_var for s in variables_org]\n",
    "    \n",
    "    #The above for loop naturally will create a duplicate variable, which should be removed\n",
    "    for v in variables_org: \n",
    "      dup_var = []\n",
    "      dup_var = [var for var in variables if var.count(v)>1]\n",
    "      if dup_var!=[]:\n",
    "            for dup in dup_var: variables.remove(dup)\n",
    "\n",
    "#combine the modeled variable sequences with respective stats  \n",
    "stats = list(zip(adjRs, f_pvalues))    # create list of tuples\n",
    "dictionary = OrderedDict(zip(max_vars, stats))\n",
    "\n",
    "#dictionary_adjRs = OrderedDict(zip(max_vars, f_pvalues))\n",
    "#print(dictionary)"
   ]
  },
  {
   "cell_type": "markdown",
   "metadata": {},
   "source": [
    "**Plot the adjusted R square calculated for each iteration**"
   ]
  },
  {
   "cell_type": "code",
   "execution_count": 6,
   "metadata": {},
   "outputs": [
    {
     "data": {
      "text/plain": [
       "[<matplotlib.lines.Line2D at 0xef3a2d0>]"
      ]
     },
     "execution_count": 6,
     "metadata": {},
     "output_type": "execute_result"
    },
    {
     "data": {
      "image/png": "[encoded data removed]",
      "text/plain": [
       "<Figure size 432x288 with 1 Axes>"
      ]
     },
     "metadata": {},
     "output_type": "display_data"
    }
   ],
   "source": [
    "plt.plot(adjRs)"
   ]
  },
  {
   "cell_type": "markdown",
   "metadata": {},
   "source": [
    "**Plot the adjusted F statistic calculated for each iteration**"
   ]
  },
  {
   "cell_type": "code",
   "execution_count": 7,
   "metadata": {},
   "outputs": [
    {
     "data": {
      "text/plain": [
       "[<matplotlib.lines.Line2D at 0xd7f8f10>]"
      ]
     },
     "execution_count": 7,
     "metadata": {},
     "output_type": "execute_result"
    },
    {
     "data": {
      "image/png": "[encoded data removed]",
      "text/plain": [
       "<Figure size 432x288 with 1 Axes>"
      ]
     },
     "metadata": {},
     "output_type": "display_data"
    }
   ],
   "source": [
    "plt.plot(f_pvalues)"
   ]
  },
  {
   "cell_type": "markdown",
   "metadata": {},
   "source": [
    "**Print adjusted R and F stat probabilities in order**"
   ]
  },
  {
   "cell_type": "code",
   "execution_count": 8,
   "metadata": {},
   "outputs": [
    {
     "name": "stdout",
     "output_type": "stream",
     "text": [
      "0 CMtn_Dewpoint_degC \n",
      " Adjusted R: 0.022821562148339303  Fstat(prob): 0.020220970590249153\n",
      "\n",
      "1 LXV_12hr_delta_Pressure_hp+ CMtn_Dewpoint_degC \n",
      " Adjusted R: 0.030307611150164004  Fstat(prob): 0.01987028574767814\n",
      "\n",
      "2 CMtn_WindDirection_deg+ LXV_12hr_delta_Pressure_hp+ CMtn_Dewpoint_degC \n",
      " Adjusted R: 0.0376822661778029  Fstat(prob): 0.01645832991895213\n",
      "\n",
      "3 LXV_Dewpoint_degC+ CMtn_WindDirection_deg+ LXV_12hr_delta_Pressure_hp+ CMtn_Dewpoint_degC \n",
      " Adjusted R: 0.043089652033126646  Fstat(prob): 0.015233532314632085\n",
      "\n",
      "4 LXV_WindSpeed_mps+ LXV_Dewpoint_degC+ CMtn_WindDirection_deg+ LXV_12hr_delta_Pressure_hp+ CMtn_Dewpoint_degC \n",
      " Adjusted R: 0.045211483652293216  Fstat(prob): 0.017675025424259763\n",
      "\n",
      "5 LXV_Pressure_hp+ LXV_WindSpeed_mps+ LXV_Dewpoint_degC+ CMtn_WindDirection_deg+ LXV_12hr_delta_Pressure_hp+ CMtn_Dewpoint_degC \n",
      " Adjusted R: 0.04403614678764356  Fstat(prob): 0.02514805951937907\n",
      "\n",
      "6 CMtn_WindSpeed_mps+ LXV_Pressure_hp+ LXV_WindSpeed_mps+ LXV_Dewpoint_degC+ CMtn_WindDirection_deg+ LXV_12hr_delta_Pressure_hp+ CMtn_Dewpoint_degC \n",
      " Adjusted R: 0.039769621298560875  Fstat(prob): 0.04191256143868155\n",
      "\n",
      "7 LXV_Temperature_degC+ CMtn_WindSpeed_mps+ LXV_Pressure_hp+ LXV_WindSpeed_mps+ LXV_Dewpoint_degC+ CMtn_WindDirection_deg+ LXV_12hr_delta_Pressure_hp+ CMtn_Dewpoint_degC \n",
      " Adjusted R: 0.03493951504133053  Fstat(prob): 0.06726079003320629\n",
      "\n",
      "8 CMtnSNTL_Temp_degC+ LXV_Temperature_degC+ CMtn_WindSpeed_mps+ LXV_Pressure_hp+ LXV_WindSpeed_mps+ LXV_Dewpoint_degC+ CMtn_WindDirection_deg+ LXV_12hr_delta_Pressure_hp+ CMtn_Dewpoint_degC \n",
      " Adjusted R: 0.030090550599791488  Fstat(prob): 0.10105106125059325\n",
      "\n",
      "9 LXV_WindDirection_deg+ CMtnSNTL_Temp_degC+ LXV_Temperature_degC+ CMtn_WindSpeed_mps+ LXV_Pressure_hp+ LXV_WindSpeed_mps+ LXV_Dewpoint_degC+ CMtn_WindDirection_deg+ LXV_12hr_delta_Pressure_hp+ CMtn_Dewpoint_degC \n",
      " Adjusted R: 0.025151056005686345  Fstat(prob): 0.14405161822163245\n",
      "\n",
      "10 CMtn_Temperature_degC+ LXV_WindDirection_deg+ CMtnSNTL_Temp_degC+ LXV_Temperature_degC+ CMtn_WindSpeed_mps+ LXV_Pressure_hp+ LXV_WindSpeed_mps+ LXV_Dewpoint_degC+ CMtn_WindDirection_deg+ LXV_12hr_delta_Pressure_hp+ CMtn_Dewpoint_degC \n",
      " Adjusted R: 0.019876084091903556  Fstat(prob): 0.1984056754868661\n",
      "\n",
      "OrderedDict([('CMtn_Dewpoint_degC', (0.022821562148339303, 0.020220970590249153)), ('LXV_12hr_delta_Pressure_hp+ CMtn_Dewpoint_degC', (0.030307611150164004, 0.01987028574767814)), ('CMtn_WindDirection_deg+ LXV_12hr_delta_Pressure_hp+ CMtn_Dewpoint_degC', (0.0376822661778029, 0.01645832991895213)), ('LXV_Dewpoint_degC+ CMtn_WindDirection_deg+ LXV_12hr_delta_Pressure_hp+ CMtn_Dewpoint_degC', (0.043089652033126646, 0.015233532314632085)), ('LXV_WindSpeed_mps+ LXV_Dewpoint_degC+ CMtn_WindDirection_deg+ LXV_12hr_delta_Pressure_hp+ CMtn_Dewpoint_degC', (0.045211483652293216, 0.017675025424259763)), ('LXV_Pressure_hp+ LXV_WindSpeed_mps+ LXV_Dewpoint_degC+ CMtn_WindDirection_deg+ LXV_12hr_delta_Pressure_hp+ CMtn_Dewpoint_degC', (0.04403614678764356, 0.02514805951937907)), ('CMtn_WindSpeed_mps+ LXV_Pressure_hp+ LXV_WindSpeed_mps+ LXV_Dewpoint_degC+ CMtn_WindDirection_deg+ LXV_12hr_delta_Pressure_hp+ CMtn_Dewpoint_degC', (0.039769621298560875, 0.04191256143868155)), ('LXV_Temperature_degC+ CMtn_WindSpeed_mps+ LXV_Pressure_hp+ LXV_WindSpeed_mps+ LXV_Dewpoint_degC+ CMtn_WindDirection_deg+ LXV_12hr_delta_Pressure_hp+ CMtn_Dewpoint_degC', (0.03493951504133053, 0.06726079003320629)), ('CMtnSNTL_Temp_degC+ LXV_Temperature_degC+ CMtn_WindSpeed_mps+ LXV_Pressure_hp+ LXV_WindSpeed_mps+ LXV_Dewpoint_degC+ CMtn_WindDirection_deg+ LXV_12hr_delta_Pressure_hp+ CMtn_Dewpoint_degC', (0.030090550599791488, 0.10105106125059325)), ('LXV_WindDirection_deg+ CMtnSNTL_Temp_degC+ LXV_Temperature_degC+ CMtn_WindSpeed_mps+ LXV_Pressure_hp+ LXV_WindSpeed_mps+ LXV_Dewpoint_degC+ CMtn_WindDirection_deg+ LXV_12hr_delta_Pressure_hp+ CMtn_Dewpoint_degC', (0.025151056005686345, 0.14405161822163245)), ('CMtn_Temperature_degC+ LXV_WindDirection_deg+ CMtnSNTL_Temp_degC+ LXV_Temperature_degC+ CMtn_WindSpeed_mps+ LXV_Pressure_hp+ LXV_WindSpeed_mps+ LXV_Dewpoint_degC+ CMtn_WindDirection_deg+ LXV_12hr_delta_Pressure_hp+ CMtn_Dewpoint_degC', (0.019876084091903556, 0.1984056754868661))])\n"
     ]
    }
   ],
   "source": [
    "\n",
    "\n",
    "for c in dictionary:\n",
    "    #print(str(dictionary.keys().index(c))+\"{country}: {capital}\".format(country=c, capital=dictionary[c])+\"\\n\")\n",
    "        print(str(list(dictionary.keys()).index(c))+ \" {key} \\n Adjusted R: {adjR}  Fstat(prob): {f_pvalue}\".format(key=c, adjR=dictionary[c][0], f_pvalue = dictionary[c][1])+\"\\n\")\n",
    "        OLS = ols('CMtnSNTL_Upcoming12hrSNOWFALL_gte3_in ~' + c, test_train_df[train_yrs_tt]).fit()\n",
    "\n",
    "print(dictionary)"
   ]
  },
  {
   "cell_type": "markdown",
   "metadata": {},
   "source": [
    "**Find max adj R and obtain OLS summary**"
   ]
  },
  {
   "cell_type": "code",
   "execution_count": 9,
   "metadata": {},
   "outputs": [
    {
     "name": "stdout",
     "output_type": "stream",
     "text": [
      "Print maximum:\n",
      "LXV_WindSpeed_mps+ LXV_Dewpoint_degC+ CMtn_WindDirection_deg+ LXV_12hr_delta_Pressure_hp+ CMtn_Dewpoint_degC\n"
     ]
    }
   ],
   "source": [
    " # Just use 'min' instead of 'max' for minimum.\n",
    "print(\"Print maximum:\")\n",
    "maximum = max(dictionary, key=dictionary.get) \n",
    "print(maximum)"
   ]
  },
  {
   "cell_type": "markdown",
   "metadata": {},
   "source": [
    "**Thus the feature set with best capability looks to be these four features.  Let's look at the statsmdel regression results when just these features are used:**"
   ]
  },
  {
   "cell_type": "code",
   "execution_count": 10,
   "metadata": {},
   "outputs": [
    {
     "name": "stdout",
     "output_type": "stream",
     "text": [
      "LXV_WindSpeed_mps+ LXV_Dewpoint_degC+ CMtn_WindDirection_deg+ LXV_12hr_delta_Pressure_hp+ CMtn_Dewpoint_degC\n",
      "                                      OLS Regression Results                                     \n",
      "=================================================================================================\n",
      "Dep. Variable:     CMtnSNTL_Upcoming12hrSNOWFALL_gte3_in   R-squared:                       0.070\n",
      "Model:                                               OLS   Adj. R-squared:                  0.045\n",
      "Method:                                    Least Squares   F-statistic:                     2.818\n",
      "Date:                                   Sat, 18 May 2019   Prob (F-statistic):             0.0177\n",
      "Time:                                           16:28:11   Log-Likelihood:                -401.97\n",
      "No. Observations:                                    193   AIC:                             815.9\n",
      "Df Residuals:                                        187   BIC:                             835.5\n",
      "Df Model:                                              5                                         \n",
      "Covariance Type:                               nonrobust                                         \n",
      "==============================================================================================\n",
      "                                 coef    std err          t      P>|t|      [0.025      0.975]\n",
      "----------------------------------------------------------------------------------------------\n",
      "Intercept                      4.0081      0.772      5.193      0.000       2.486       5.531\n",
      "LXV_WindSpeed_mps              0.0723      0.061      1.191      0.235      -0.047       0.192\n",
      "LXV_Dewpoint_degC             -0.0820      0.067     -1.232      0.220      -0.213       0.049\n",
      "CMtn_WindDirection_deg         0.0040      0.003      1.464      0.145      -0.001       0.009\n",
      "LXV_12hr_delta_Pressure_hp    -0.0484      0.026     -1.867      0.064      -0.100       0.003\n",
      "CMtn_Dewpoint_degC             0.1407      0.061      2.326      0.021       0.021       0.260\n",
      "==============================================================================\n",
      "Omnibus:                       70.385   Durbin-Watson:                   1.861\n",
      "Prob(Omnibus):                  0.000   Jarque-Bera (JB):              171.469\n",
      "Skew:                           1.639   Prob(JB):                     5.83e-38\n",
      "Kurtosis:                       6.253   Cond. No.                     1.33e+03\n",
      "==============================================================================\n",
      "\n",
      "Warnings:\n",
      "[1] Standard Errors assume that the covariance matrix of the errors is correctly specified.\n",
      "[2] The condition number is large, 1.33e+03. This might indicate that there are\n",
      "strong multicollinearity or other numerical problems.\n"
     ]
    }
   ],
   "source": [
    "maximum_all_str = max(dictionary, key=dictionary.get) \n",
    "print(maximum_all_str)\n",
    "\n",
    "maxOLS_all = ols('CMtnSNTL_Upcoming12hrSNOWFALL_gte3_in ~' + maximum_all_str , test_train_df[train_yrs_tt]).fit() \n",
    "print(maxOLS_all.summary())\n"
   ]
  },
  {
   "cell_type": "markdown",
   "metadata": {},
   "source": [
    "**We do note that some of the individual feature p values are still a little hight. Let's test different P|t| thresholds for which to remove variables, rerun and model for each set of variables, and see what threshold might glean best results using adjusted R squared as a metric**"
   ]
  },
  {
   "cell_type": "code",
   "execution_count": 11,
   "metadata": {},
   "outputs": [
    {
     "name": "stdout",
     "output_type": "stream",
     "text": [
      "\n",
      " best p value threshold for feature elimination is:0.22\n",
      "                                      OLS Regression Results                                     \n",
      "=================================================================================================\n",
      "Dep. Variable:     CMtnSNTL_Upcoming12hrSNOWFALL_gte3_in   R-squared:                       0.070\n",
      "Model:                                               OLS   Adj. R-squared:                  0.045\n",
      "Method:                                    Least Squares   F-statistic:                     2.818\n",
      "Date:                                   Sat, 18 May 2019   Prob (F-statistic):             0.0177\n",
      "Time:                                           16:28:13   Log-Likelihood:                -401.97\n",
      "No. Observations:                                    193   AIC:                             815.9\n",
      "Df Residuals:                                        187   BIC:                             835.5\n",
      "Df Model:                                              5                                         \n",
      "Covariance Type:                               nonrobust                                         \n",
      "==============================================================================================\n",
      "                                 coef    std err          t      P>|t|      [0.025      0.975]\n",
      "----------------------------------------------------------------------------------------------\n",
      "Intercept                      4.0081      0.772      5.193      0.000       2.486       5.531\n",
      "LXV_WindSpeed_mps              0.0723      0.061      1.191      0.235      -0.047       0.192\n",
      "LXV_Dewpoint_degC             -0.0820      0.067     -1.232      0.220      -0.213       0.049\n",
      "CMtn_WindDirection_deg         0.0040      0.003      1.464      0.145      -0.001       0.009\n",
      "LXV_12hr_delta_Pressure_hp    -0.0484      0.026     -1.867      0.064      -0.100       0.003\n",
      "CMtn_Dewpoint_degC             0.1407      0.061      2.326      0.021       0.021       0.260\n",
      "==============================================================================\n",
      "Omnibus:                       70.385   Durbin-Watson:                   1.861\n",
      "Prob(Omnibus):                  0.000   Jarque-Bera (JB):              171.469\n",
      "Skew:                           1.639   Prob(JB):                     5.83e-38\n",
      "Kurtosis:                       6.253   Cond. No.                     1.33e+03\n",
      "==============================================================================\n",
      "\n",
      "Warnings:\n",
      "[1] Standard Errors assume that the covariance matrix of the errors is correctly specified.\n",
      "[2] The condition number is large, 1.33e+03. This might indicate that there are\n",
      "strong multicollinearity or other numerical problems.\n"
     ]
    }
   ],
   "source": [
    "rsq_adj = 0\n",
    "thresh = 0\n",
    "\n",
    "goodp_str = \"\"\n",
    "highp_var = []\n",
    "\n",
    "maximum_all_str = max(dictionary, key=dictionary.get)    #this is the string of variables found in previous OLS run associated with mad adjusted R squared.\n",
    "#print(maximum_all_str)\n",
    "\n",
    "\n",
    "for test_thresh in range(1, 100):   #loop through different P|t| thresholds ranging from 1 to 100.  Note floats are not allowed here \n",
    "  #print(test_thresh)\n",
    "  highp_var = [var for var in maxOLS_all.pvalues.keys() if maxOLS_all.pvalues[var]>=test_thresh*0.01]  #check P|t| for each variable against threshold and store in list\n",
    "  \n",
    "  testgoodp_str = maximum_all_str   #reset testgoodp_str \n",
    "    \n",
    "  for var in highp_var:\n",
    "    testgoodp_str = testgoodp_str.replace(\"+ \" + var, \"\")   #  \n",
    "     \n",
    "\n",
    " \n",
    "\n",
    "  maxOLS_testgoodp = ols('CMtnSNTL_Upcoming12hrSNOWFALL_gte3_in ~' + testgoodp_str, test_train_df[train_yrs_tt]).fit()\n",
    "  #print(testgoodp_str, maxOLS_testgoodp.rsquared_adj, test_thresh*0.01)\n",
    "  #print(maxOLS_testgoodp.rsquared_adj)\n",
    "  if maxOLS_testgoodp.rsquared_adj > rsq_adj:\n",
    "      rsq_adj = maxOLS_testgoodp.rsquared_adj\n",
    "      #print(maxOLS_testgoodp.rsquared_adj, test_thresh*0.01)\n",
    "      goodp_str = testgoodp_str\n",
    "      thresh = test_thresh*0.01\n",
    "\n",
    "    \n",
    "print(\"\\n best p value threshold for feature elimination is:\" + str(thresh))\n",
    "maxOLS_goodp = ols('CMtnSNTL_Upcoming12hrSNOWFALL_gte3_in ~' + goodp_str, test_train_df[train_yrs_tt]).fit() \n",
    "print(maxOLS_goodp.summary())\n"
   ]
  },
  {
   "cell_type": "markdown",
   "metadata": {},
   "source": [
    "**Doesn't like any improvement can be made**"
   ]
  },
  {
   "cell_type": "markdown",
   "metadata": {},
   "source": [
    "## Make snowfall predictions"
   ]
  },
  {
   "cell_type": "code",
   "execution_count": 15,
   "metadata": {},
   "outputs": [
    {
     "name": "stdout",
     "output_type": "stream",
     "text": [
      "62\n"
     ]
    }
   ],
   "source": [
    "\n",
    "\n",
    "\n",
    "actual_snf = test_train_df[test_yrs_tt]['CMtnSNTL_Upcoming12hrSNOWFALL_gte3_in']\n",
    "\n",
    "predict_snf = maxOLS_goodp.predict(test_train_df[test_yrs_tt])\n",
    "print(len(actual_snf))\n",
    "rows = zip(actual_snf, predict_snf)\n"
   ]
  },
  {
   "cell_type": "markdown",
   "metadata": {},
   "source": [
    "**Write both actual and predicted snowfall values to csv file for future analysis"
   ]
  },
  {
   "cell_type": "code",
   "execution_count": 16,
   "metadata": {},
   "outputs": [],
   "source": [
    "import csv\n",
    "with open(r'C:\\Users\\RAPP\\Documents\\Capstone\\Analysis Notebooks\\model_predictions\\A0-SFC_OLS.csv', \"w\") as f:\n",
    "    writer = csv.writer(f)\n",
    "    for row in rows:\n",
    "        writer.writerow(row)"
   ]
  },
  {
   "cell_type": "code",
   "execution_count": null,
   "metadata": {},
   "outputs": [],
   "source": []
  }
 ],
 "metadata": {
  "kernelspec": {
   "display_name": "Python 3",
   "language": "python",
   "name": "python3"
  },
  "language_info": {
   "codemirror_mode": {
    "name": "ipython",
    "version": 3
   },
   "file_extension": ".py",
   "mimetype": "text/x-python",
   "name": "python",
   "nbconvert_exporter": "python",
   "pygments_lexer": "ipython3",
   "version": "3.6.5"
  }
 },
 "nbformat": 4,
 "nbformat_minor": 2
}
