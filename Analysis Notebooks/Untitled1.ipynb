{
 "cells": [
  {
   "cell_type": "code",
   "execution_count": 1,
   "metadata": {},
   "outputs": [
    {
     "name": "stdout",
     "output_type": "stream",
     "text": [
      "\n",
      "INSTALLED VERSIONS\n",
      "------------------\n",
      "commit: None\n",
      "python: 3.6.5.final.0\n",
      "python-bits: 32\n",
      "OS: Windows\n",
      "OS-release: 10\n",
      "machine: AMD64\n",
      "processor: Intel64 Family 6 Model 142 Stepping 9, GenuineIntel\n",
      "byteorder: little\n",
      "LC_ALL: None\n",
      "LANG: en_US.UTF-8\n",
      "LOCALE: None.None\n",
      "\n",
      "pandas: 0.24.0\n",
      "pytest: None\n",
      "pip: 18.1\n",
      "setuptools: 39.0.1\n",
      "Cython: None\n",
      "numpy: 1.14.3\n",
      "scipy: 1.1.0\n",
      "pyarrow: None\n",
      "xarray: None\n",
      "IPython: 6.4.0\n",
      "sphinx: None\n",
      "patsy: 0.5.1\n",
      "dateutil: 2.7.3\n",
      "pytz: 2018.4\n",
      "blosc: None\n",
      "bottleneck: None\n",
      "tables: None\n",
      "numexpr: None\n",
      "feather: None\n",
      "matplotlib: 2.2.2\n",
      "openpyxl: None\n",
      "xlrd: 1.2.0\n",
      "xlwt: None\n",
      "xlsxwriter: None\n",
      "lxml.etree: 4.2.5\n",
      "bs4: None\n",
      "html5lib: 1.0.1\n",
      "sqlalchemy: None\n",
      "pymysql: None\n",
      "psycopg2: None\n",
      "jinja2: 2.10\n",
      "s3fs: None\n",
      "fastparquet: None\n",
      "pandas_gbq: None\n",
      "pandas_datareader: None\n",
      "gcsfs: None\n",
      "[]\n"
     ]
    }
   ],
   "source": [
    "import pandas as pd\n",
    "import matplotlib.pyplot as plt\n",
    "import numpy as np\n",
    "import datetime as dtb\n",
    "import os\n",
    "from glob import glob\n",
    "import datetime as dt\n",
    "import seaborn as sns\n",
    "pd.show_versions()\n",
    "import sys\n",
    "import graphviz\n",
    "\n",
    "from glob import glob\n",
    "dataframe = pd.DataFrame()\n",
    "#descriptors = ['OLS_SFC_0617Train', 'OLS_SFC_2014Train', 'OLS_UASFC_0617Train', 'OLS_UASFC_2014Train', \\\n",
    "#               'CV_OLS_SFC_0617Train', 'CV_OLS_SFC_0617Train_noWD', 'CV_OLS_SFC_2014Train', 'CV_OLS_2014Train_noWD','CV_OLS_UASFCTrain_0617', \\\n",
    "#               'CV_OLS_UASFC_1617Train_noWD', 'CV_OLS_UASFCTrain_2014',  'CV_OLS_UASFCTrain_2014_noWD']\n",
    "\n",
    "\n",
    "filenames = glob(r'C:\\Users\\RAPP\\Documents\\Capstone\\Projects\\model_predictions*.csv')\n",
    "print(filenames)"
   ]
  }
 ],
 "metadata": {
  "kernelspec": {
   "display_name": "Python 3",
   "language": "python",
   "name": "python3"
  },
  "language_info": {
   "codemirror_mode": {
    "name": "ipython",
    "version": 3
   },
   "file_extension": ".py",
   "mimetype": "text/x-python",
   "name": "python",
   "nbconvert_exporter": "python",
   "pygments_lexer": "ipython3",
   "version": "3.6.5"
  }
 },
 "nbformat": 4,
 "nbformat_minor": 2
}
