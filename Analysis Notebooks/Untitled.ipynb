{
 "cells": [
  {
   "cell_type": "code",
   "execution_count": 2,
   "metadata": {},
   "outputs": [
    {
     "name": "stdout",
     "output_type": "stream",
     "text": [
      "['C:\\\\Users\\\\RAPP\\\\Documents\\\\Capstone\\\\data\\\\ASOS\\\\722061-03038\\\\722061-03038-2006\\\\722061-03038-2006', 'C:\\\\Users\\\\RAPP\\\\Documents\\\\Capstone\\\\data\\\\ASOS\\\\722061-03038\\\\722061-03038-2007\\\\722061-03038-2007', 'C:\\\\Users\\\\RAPP\\\\Documents\\\\Capstone\\\\data\\\\ASOS\\\\722061-03038\\\\722061-03038-2008\\\\722061-03038-2008', 'C:\\\\Users\\\\RAPP\\\\Documents\\\\Capstone\\\\data\\\\ASOS\\\\722061-03038\\\\722061-03038-2009\\\\722061-03038-2009', 'C:\\\\Users\\\\RAPP\\\\Documents\\\\Capstone\\\\data\\\\ASOS\\\\722061-03038\\\\722061-03038-2010\\\\722061-03038-2010', 'C:\\\\Users\\\\RAPP\\\\Documents\\\\Capstone\\\\data\\\\ASOS\\\\722061-03038\\\\722061-03038-2011\\\\722061-03038-2011', 'C:\\\\Users\\\\RAPP\\\\Documents\\\\Capstone\\\\data\\\\ASOS\\\\722061-03038\\\\722061-03038-2012\\\\722061-03038-2012', 'C:\\\\Users\\\\RAPP\\\\Documents\\\\Capstone\\\\data\\\\ASOS\\\\722061-03038\\\\722061-03038-2013\\\\722061-03038-2013', 'C:\\\\Users\\\\RAPP\\\\Documents\\\\Capstone\\\\data\\\\ASOS\\\\722061-03038\\\\722061-03038-2014\\\\722061-03038-2014', 'C:\\\\Users\\\\RAPP\\\\Documents\\\\Capstone\\\\data\\\\ASOS\\\\722061-03038\\\\722061-03038-2015\\\\722061-03038-2015', 'C:\\\\Users\\\\RAPP\\\\Documents\\\\Capstone\\\\data\\\\ASOS\\\\722061-03038\\\\722061-03038-2017\\\\722061-03038-2017']\n"
     ]
    }
   ],
   "source": [
    "import pandas as pd\n",
    "import matplotlib.pyplot as plt\n",
    "import numpy as np\n",
    "import datetime as dtb\n",
    "import os\n",
    "from glob import glob\n",
    "import datetime as dt\n",
    "\n",
    "awos_files = glob(r'C:\\Users\\RAPP\\Documents\\Capstone\\data\\ASOS\\722061-03038\\722061-03038*\\722061-03038*')\n",
    "print(awos_files)"
   ]
  }
 ],
 "metadata": {
  "kernelspec": {
   "display_name": "Python 3",
   "language": "python",
   "name": "python3"
  },
  "language_info": {
   "codemirror_mode": {
    "name": "ipython",
    "version": 3
   },
   "file_extension": ".py",
   "mimetype": "text/x-python",
   "name": "python",
   "nbconvert_exporter": "python",
   "pygments_lexer": "ipython3",
   "version": "3.6.5"
  }
 },
 "nbformat": 4,
 "nbformat_minor": 2
}
