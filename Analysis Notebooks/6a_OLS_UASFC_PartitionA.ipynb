{
 "cells": [
  {
   "cell_type": "markdown",
   "metadata": {},
   "source": [
    "## This notebook uses Partition A Surface Data and Upper Air data with the OLS model to make snowfall predictions"
   ]
  },
  {
   "cell_type": "markdown",
   "metadata": {},
   "source": [
    "**Import necessary modules and the ASOS/SNOTEL dataframes**"
   ]
  },
  {
   "cell_type": "code",
   "execution_count": 1,
   "metadata": {},
   "outputs": [],
   "source": [
    "import pandas as pd\n",
    "import matplotlib.pyplot as plt\n",
    "import numpy as np\n",
    "import datetime as dtb\n",
    "import os\n",
    "from glob import glob\n",
    "import datetime as dt\n",
    "import seaborn as sns"
   ]
  },
  {
   "cell_type": "markdown",
   "metadata": {},
   "source": [
    "***\n",
    "# OLS Analysis of meteorological variables and snowfall (Training Dataset: 2008-2017 only)"
   ]
  },
  {
   "cell_type": "markdown",
   "metadata": {},
   "source": [
    "**We will first utilize just the Copper Mountain surface level variables and run the model explicitly to generate statistics.  This will give snowfall predictive capability of individual meteorological variables (Dewpoint, SNOTEL Temperature, Temperature, Wind Speed, Cloud Cover, Wind Direction, 6hr Pressure change, and Pressure) using an OLS model and the 2008-2017 training dataset. The resulting values will also be used to verify some code which performs same analysis, but with a loop.  This code will then be fed all upper air and surface level variables to determine best combination of variables in the OLS model.**\n"
   ]
  },
  {
   "cell_type": "markdown",
   "metadata": {},
   "source": [
    "**Define dataframe which contains these features with concurrent snowfall events**"
   ]
  },
  {
   "cell_type": "code",
   "execution_count": 2,
   "metadata": {},
   "outputs": [
    {
     "name": "stdout",
     "output_type": "stream",
     "text": [
      "255\n"
     ]
    }
   ],
   "source": [
    "data = [pd.read_csv('test_train_df.dat', parse_dates = True, index_col = 'Date_Time')]\n",
    "test_train_df = pd.concat(data)\n",
    "print(len(test_train_df))\n"
   ]
  },
  {
   "cell_type": "markdown",
   "metadata": {},
   "source": [
    "**This matches calculations made in the snowfall statistics analysis**"
   ]
  },
  {
   "cell_type": "code",
   "execution_count": 3,
   "metadata": {},
   "outputs": [
    {
     "name": "stdout",
     "output_type": "stream",
     "text": [
      "255\n"
     ]
    }
   ],
   "source": [
    "import statistics as sts\n",
    "all_yrs_tt = (test_train_df.index >= '01-01-2006') & (test_train_df.index < '01-01-2018')\n",
    "test_yrs_tt=  (test_train_df.index >= '01-01-2015')\n",
    "train_yrs_tt = (test_train_df.index >= '01-01-2006') & (test_train_df.index < '01-01-2015')\n",
    "\n",
    "print(len(test_train_df))"
   ]
  },
  {
   "cell_type": "markdown",
   "metadata": {},
   "source": [
    "## Perform forward step feature selection using the OLS model"
   ]
  },
  {
   "cell_type": "markdown",
   "metadata": {},
   "source": [
    "**Define surface+upper air features which have high data capture (as found in snowfall stats analysis)**"
   ]
  },
  {
   "cell_type": "code",
   "execution_count": 4,
   "metadata": {},
   "outputs": [],
   "source": [
    "variables = ['CMtnSNTL_Temp_degC', 'CMtn_Temperature_degC', 'CMtn_Dewpoint_degC', \\\n",
    "'CMtn_WindDirection_deg', 'CMtn_WindSpeed_mps', 'LXV_Temperature_degC', 'LXV_Dewpoint_degC', \\\n",
    "'LXV_Pressure_hp', 'LXV_WindSpeed_mps', 'LXV_WindDirection_deg', 'LXV_12hr_delta_Pressure_hp']+ \\\n",
    "['KGJT_200mb_height_m', 'KGJT_200mb_tmpc', 'KGJT_200mb_dwpc', 'KGJT_200mb_drct', 'KGJT_200mb_speed_kts', 'KGJT_250mb_height_m', 'KGJT_250mb_tmpc', 'KGJT_250mb_dwpc', \\\n",
    "             'KGJT_250mb_drct', 'KGJT_250mb_speed_kts', 'KGJT_300mb_height_m', 'KGJT_300mb_tmpc', 'KGJT_300mb_dwpc', 'KGJT_300mb_drct', 'KGJT_300mb_speed_kts', 'KGJT_400mb_height_m', \\\n",
    "             'KGJT_400mb_tmpc', 'KGJT_400mb_dwpc', 'KGJT_400mb_drct', 'KGJT_400mb_speed_kts', 'KGJT_500mb_height_m', 'KGJT_500mb_tmpc', 'KGJT_500mb_dwpc', 'KGJT_500mb_drct', 'KGJT_500mb_speed_kts', \\\n",
    "             'KGJT_700mb_height_m', 'KGJT_700mb_tmpc', 'KGJT_700mb_dwpc', 'KGJT_700mb_drct', 'KGJT_700mb_speed_kts', 'KGJT_850mb_height_m', 'KGJT_d850_700_height_m', 'KGJT_d850_500_height_m', 'KGJT_d850_400_height_m', \\\n",
    "             'KGJT_d850_300_height_m', 'KGJT_d850_250_height_m', 'KGJT_d850_200_height_m', 'KGJT_d700_500_height_m', 'KGJT_d700_500_tmpc', 'KGJT_d700_500_dwpc', 'KGJT_d700_500_drct', 'KGJT_d700_500_speed_kts', 'KGJT_d700_400_height_m', \\\n",
    "             'KGJT_d700_400_tmpc', 'KGJT_d700_400_dwpc', 'KGJT_d700_400_drct', 'KGJT_d700_400_speed_kts', 'KGJT_d700_300_height_m', 'KGJT_d700_300_tmpc', 'KGJT_d700_300_dwpc', 'KGJT_d700_300_drct', 'KGJT_d700_300_speed_kts', \\\n",
    "             'KGJT_d700_250_height_m', 'KGJT_d700_250_tmpc', 'KGJT_d700_250_dwpc', 'KGJT_d700_250_drct', 'KGJT_d700_250_speed_kts', 'KGJT_d700_200_height_m', 'KGJT_d700_200_tmpc', 'KGJT_d700_200_dwpc', 'KGJT_d700_200_drct', \\\n",
    "             'KGJT_d700_200_speed_kts', 'KGJT_d500_400_height_m', 'KGJT_d500_400_tmpc', 'KGJT_d500_400_dwpc', 'KGJT_d500_400_drct', 'KGJT_d500_400_speed_kts', 'KGJT_d500_300_height_m', 'KGJT_d500_300_tmpc', 'KGJT_d500_300_dwpc', \\\n",
    "             'KGJT_d500_300_drct', 'KGJT_d500_300_speed_kts', 'KGJT_d500_250_height_m', 'KGJT_d500_250_tmpc', 'KGJT_d500_250_dwpc', 'KGJT_d500_250_drct', 'KGJT_d500_250_speed_kts', 'KGJT_d500_200_height_m', 'KGJT_d500_200_tmpc', \\\n",
    "             'KGJT_d500_200_dwpc', 'KGJT_d500_200_drct', 'KGJT_d500_200_speed_kts', 'KGJT_d400_300_height_m', 'KGJT_d400_300_tmpc', 'KGJT_d400_300_dwpc', 'KGJT_d400_300_drct', 'KGJT_d400_300_speed_kts', 'KGJT_d400_250_height_m', \\\n",
    "             'KGJT_d400_250_tmpc', 'KGJT_d400_250_dwpc', 'KGJT_d400_250_drct', 'KGJT_d400_250_speed_kts', 'KGJT_d400_200_height_m', 'KGJT_d400_200_tmpc', 'KGJT_d400_200_dwpc', 'KGJT_d400_200_drct', 'KGJT_d400_200_speed_kts', \\\n",
    "             'KGJT_d300_250_height_m', 'KGJT_d300_250_tmpc', 'KGJT_d300_250_dwpc', 'KGJT_d300_250_drct', 'KGJT_d300_250_speed_kts', 'KGJT_d300_200_height_m', 'KGJT_d300_200_tmpc', 'KGJT_d300_200_dwpc', 'KGJT_d300_200_drct', \\\n",
    "             'KGJT_d300_200_speed_kts', 'KGJT_d250_200_height_m', 'KGJT_d250_200_tmpc', 'KGJT_d250_200_dwpc', 'KGJT_d250_200_drct', 'KGJT_d250_200_speed_kts']\n",
    "\n"
   ]
  },
  {
   "cell_type": "markdown",
   "metadata": {},
   "source": [
    "**Now use a forward stepwise methodology using the surface features and the OLS model.  Feature combinations which result in higher adjusted R squared values will be kept to train the model**"
   ]
  },
  {
   "cell_type": "code",
   "execution_count": 5,
   "metadata": {},
   "outputs": [
    {
     "name": "stdout",
     "output_type": "stream",
     "text": [
      "******\n"
     ]
    }
   ],
   "source": [
    "\n",
    "#Import statsmodel\n",
    "\n",
    "import statsmodels.api as sm\n",
    "#import statsmodel\n",
    "from statsmodels.formula.api import ols\n",
    "\n",
    "\n",
    "from collections import OrderedDict\n",
    "\n",
    "\n",
    "variables_org = variables\n",
    "\n",
    "\n",
    "print('******')\n",
    "adjRs = []\n",
    "newRs = []\n",
    "dup_var = []\n",
    "max_vars = []\n",
    "f_pvalues = []\n",
    "\n",
    "while variables != []:\n",
    "  #print(variables)\n",
    "  for var in variables:\n",
    "\n",
    "        \n",
    "    #print(variables)\n",
    "    max_var = max(variables, key = lambda v: ols('CMtnSNTL_Upcoming12hrSNOWFALL_gte3_in ~' + v, test_train_df[train_yrs_tt]).fit().rsquared_adj)    #this finds OLS model run with highest adj R squared\n",
    "    OLS = ols('CMtnSNTL_Upcoming12hrSNOWFALL_gte3_in ~' + max_var, test_train_df[train_yrs_tt]).fit()\n",
    "    \n",
    "    #print(max_var)\n",
    "\n",
    "    \n",
    "    #Create lists of statistics for each combination of variables modeld\n",
    "    adjRs.append(OLS.rsquared_adj)\n",
    "    f_pvalues.append(OLS.f_pvalue)\n",
    "    max_vars.append(max_var)\n",
    "\n",
    "    add_max_var = '+ '+ max_var\n",
    "    \n",
    "    variables = [s + add_max_var for s in variables_org]\n",
    "    \n",
    "    #The above for loop naturally will create a duplicate variable, which should be removed\n",
    "    for v in variables_org: \n",
    "      dup_var = []\n",
    "      dup_var = [var for var in variables if var.count(v)>1]\n",
    "      if dup_var!=[]:\n",
    "            for dup in dup_var: variables.remove(dup)\n",
    "\n",
    "#combine the modeled variable sequences with respective stats  \n",
    "stats = list(zip(adjRs, f_pvalues))    # create list of tuples\n",
    "dictionary = OrderedDict(zip(max_vars, stats))\n",
    "\n",
    "#dictionary_adjRs = OrderedDict(zip(max_vars, f_pvalues))\n",
    "#print(dictionary)"
   ]
  },
  {
   "cell_type": "markdown",
   "metadata": {},
   "source": [
    "**Plot the adjusted R square calculated for each iteration**"
   ]
  },
  {
   "cell_type": "code",
   "execution_count": 6,
   "metadata": {},
   "outputs": [
    {
     "data": {
      "text/plain": [
       "[<matplotlib.lines.Line2D at 0xed61d0>]"
      ]
     },
     "execution_count": 6,
     "metadata": {},
     "output_type": "execute_result"
    },
    {
     "data": {
      "image/png": "[encoded data removed]",
      "text/plain": [
       "<Figure size 432x288 with 1 Axes>"
      ]
     },
     "metadata": {},
     "output_type": "display_data"
    }
   ],
   "source": [
    "plt.plot(adjRs)"
   ]
  },
  {
   "cell_type": "markdown",
   "metadata": {},
   "source": [
    "**Plot the adjusted F statistic calculated for each iteration**"
   ]
  },
  {
   "cell_type": "code",
   "execution_count": 7,
   "metadata": {},
   "outputs": [
    {
     "data": {
      "text/plain": [
       "[<matplotlib.lines.Line2D at 0xe0e1450>]"
      ]
     },
     "execution_count": 7,
     "metadata": {},
     "output_type": "execute_result"
    },
    {
     "data": {
      "image/png": "[encoded data removed]",
      "text/plain": [
       "<Figure size 432x288 with 1 Axes>"
      ]
     },
     "metadata": {},
     "output_type": "display_data"
    }
   ],
   "source": [
    "plt.plot(f_pvalues)"
   ]
  },
  {
   "cell_type": "markdown",
   "metadata": {},
   "source": [
    "**Code to print adjusted R and F stat probabilities in order if desired**"
   ]
  },
  {
   "cell_type": "code",
   "execution_count": 8,
   "metadata": {},
   "outputs": [],
   "source": [
    "\n",
    "\n",
    "#for c in dictionary:\n",
    " \n",
    "#        print(str(list(dictionary.keys()).index(c))+ \" {key} \\n Adjusted R: {adjR}  Fstat(prob): {f_pvalue}\".format(key=c, adjR=dictionary[c][0], f_pvalue = dictionary[c][1])+\"\\n\")\n",
    "#        OLS = ols('CMtnSNTL_Upcoming12hrSNOWFALL_gte3_in ~' + c, test_train_df[train_yrs_tt]).fit()\n"
   ]
  },
  {
   "cell_type": "markdown",
   "metadata": {},
   "source": [
    "**Find max adj R and obtain OLS summary**"
   ]
  },
  {
   "cell_type": "code",
   "execution_count": 9,
   "metadata": {},
   "outputs": [
    {
     "name": "stdout",
     "output_type": "stream",
     "text": [
      "Feature combination which result in maximum adjusted R squared:\n",
      "KGJT_d500_200_speed_kts+ KGJT_d700_300_drct+ KGJT_500mb_height_m+ LXV_Pressure_hp+ KGJT_500mb_dwpc+ KGJT_200mb_tmpc+ KGJT_d250_200_speed_kts+ KGJT_700mb_tmpc+ CMtn_WindDirection_deg+ KGJT_d700_400_height_m+ LXV_Dewpoint_degC+ CMtn_Dewpoint_degC+ KGJT_d500_250_speed_kts+ KGJT_d500_300_dwpc+ KGJT_d700_500_drct+ KGJT_d300_250_drct+ KGJT_250mb_tmpc+ KGJT_700mb_speed_kts+ KGJT_d250_200_dwpc+ KGJT_d500_200_tmpc+ KGJT_d500_400_height_m\n"
     ]
    }
   ],
   "source": [
    " # Just use 'min' instead of 'max' for minimum.\n",
    "print(\"Feature combination which result in maximum adjusted R squared:\")\n",
    "maximum = max(dictionary, key=dictionary.get) \n",
    "print(maximum)"
   ]
  },
  {
   "cell_type": "markdown",
   "metadata": {},
   "source": [
    "**Thus the feature set with best capability looks to be these four features.  Let's look at the statsmdel regression results when just these features are used:**"
   ]
  },
  {
   "cell_type": "code",
   "execution_count": 10,
   "metadata": {},
   "outputs": [
    {
     "name": "stdout",
     "output_type": "stream",
     "text": [
      "                                      OLS Regression Results                                     \n",
      "=================================================================================================\n",
      "Dep. Variable:     CMtnSNTL_Upcoming12hrSNOWFALL_gte3_in   R-squared:                       0.267\n",
      "Model:                                               OLS   Adj. R-squared:                  0.181\n",
      "Method:                                    Least Squares   F-statistic:                     3.128\n",
      "Date:                                   Sun, 19 May 2019   Prob (F-statistic):           2.86e-05\n",
      "Time:                                           13:56:12   Log-Likelihood:                -379.05\n",
      "No. Observations:                                    193   AIC:                             800.1\n",
      "Df Residuals:                                        172   BIC:                             868.6\n",
      "Df Model:                                             20                                         \n",
      "Covariance Type:                               nonrobust                                         \n",
      "===========================================================================================\n",
      "                              coef    std err          t      P>|t|      [0.025      0.975]\n",
      "-------------------------------------------------------------------------------------------\n",
      "Intercept                -144.8443     76.230     -1.900      0.059    -295.311       5.622\n",
      "KGJT_d500_200_speed_kts     0.0022      0.005      0.436      0.664      -0.008       0.012\n",
      "KGJT_d700_300_drct         -0.0033      0.003     -1.047      0.297      -0.009       0.003\n",
      "KGJT_500mb_height_m         0.0097      0.007      1.319      0.189      -0.005       0.024\n",
      "LXV_Pressure_hp            -0.0929      0.056     -1.669      0.097      -0.203       0.017\n",
      "KGJT_500mb_dwpc            -0.0391      0.033     -1.182      0.239      -0.104       0.026\n",
      "KGJT_200mb_tmpc            -0.2478      0.192     -1.294      0.197      -0.626       0.130\n",
      "KGJT_d250_200_speed_kts     0.0083      0.006      1.458      0.147      -0.003       0.020\n",
      "KGJT_700mb_tmpc            -0.2333      0.095     -2.462      0.015      -0.420      -0.046\n",
      "CMtn_WindDirection_deg      0.0046      0.003      1.539      0.126      -0.001       0.010\n",
      "KGJT_d700_400_height_m     -0.0381      0.021     -1.843      0.067      -0.079       0.003\n",
      "LXV_Dewpoint_degC          -0.1529      0.070     -2.188      0.030      -0.291      -0.015\n",
      "CMtn_Dewpoint_degC          0.1566      0.061      2.581      0.011       0.037       0.276\n",
      "KGJT_d500_250_speed_kts    -0.0061      0.005     -1.325      0.187      -0.015       0.003\n",
      "KGJT_d500_300_dwpc         -0.0062      0.024     -0.257      0.797      -0.054       0.042\n",
      "KGJT_d700_500_drct          0.0071      0.003      2.080      0.039       0.000       0.014\n",
      "KGJT_d300_250_drct         -0.0132      0.005     -2.636      0.009      -0.023      -0.003\n",
      "KGJT_250mb_tmpc            -0.1028      0.050     -2.041      0.043      -0.202      -0.003\n",
      "KGJT_700mb_speed_kts        0.0323      0.015      2.136      0.034       0.002       0.062\n",
      "KGJT_d250_200_dwpc          0.0571      0.034      1.700      0.091      -0.009       0.123\n",
      "KGJT_d500_200_tmpc         -0.3612      0.181     -2.001      0.047      -0.718      -0.005\n",
      "KGJT_d500_400_height_m     -0.0118      0.026     -0.455      0.650      -0.063       0.039\n",
      "==============================================================================\n",
      "Omnibus:                       78.720   Durbin-Watson:                   1.880\n",
      "Prob(Omnibus):                  0.000   Jarque-Bera (JB):              274.068\n",
      "Skew:                           1.646   Prob(JB):                     3.07e-60\n",
      "Kurtosis:                       7.821   Cond. No.                     5.93e+17\n",
      "==============================================================================\n",
      "\n",
      "Warnings:\n",
      "[1] Standard Errors assume that the covariance matrix of the errors is correctly specified.\n",
      "[2] The smallest eigenvalue is 2.88e-26. This might indicate that there are\n",
      "strong multicollinearity problems or that the design matrix is singular.\n"
     ]
    }
   ],
   "source": [
    "maximum_all_str = max(dictionary, key=dictionary.get) \n",
    "#print(maximum_all_str)\n",
    "\n",
    "maxOLS_all = ols('CMtnSNTL_Upcoming12hrSNOWFALL_gte3_in ~' + maximum_all_str , test_train_df[train_yrs_tt]).fit() \n",
    "print(maxOLS_all.summary())\n"
   ]
  },
  {
   "cell_type": "markdown",
   "metadata": {},
   "source": [
    "**We do note that some of the individual feature p values are still a little high. Let's test different P|t| thresholds for which to remove variables, rerun and model for each set of variables, and see what threshold might glean best results using adjusted R squared as a metric**"
   ]
  },
  {
   "cell_type": "code",
   "execution_count": 11,
   "metadata": {},
   "outputs": [
    {
     "name": "stdout",
     "output_type": "stream",
     "text": [
      "0.6636683592216879\n",
      "\n",
      " best p value threshold for feature elimination is:0.3\n",
      "                                      OLS Regression Results                                     \n",
      "=================================================================================================\n",
      "Dep. Variable:     CMtnSNTL_Upcoming12hrSNOWFALL_gte3_in   R-squared:                       0.265\n",
      "Model:                                               OLS   Adj. R-squared:                  0.189\n",
      "Method:                                    Least Squares   F-statistic:                     3.493\n",
      "Date:                                   Sun, 19 May 2019   Prob (F-statistic):           8.73e-06\n",
      "Time:                                           13:56:17   Log-Likelihood:                -379.21\n",
      "No. Observations:                                    193   AIC:                             796.4\n",
      "Df Residuals:                                        174   BIC:                             858.4\n",
      "Df Model:                                             18                                         \n",
      "Covariance Type:                               nonrobust                                         \n",
      "===========================================================================================\n",
      "                              coef    std err          t      P>|t|      [0.025      0.975]\n",
      "-------------------------------------------------------------------------------------------\n",
      "Intercept                -155.1059     73.379     -2.114      0.036    -299.933     -10.279\n",
      "KGJT_d700_300_drct         -0.0032      0.003     -1.032      0.303      -0.009       0.003\n",
      "KGJT_500mb_height_m         0.0087      0.007      1.235      0.218      -0.005       0.023\n",
      "LXV_Pressure_hp            -0.0866      0.054     -1.614      0.108      -0.192       0.019\n",
      "KGJT_500mb_dwpc            -0.0462      0.025     -1.859      0.065      -0.095       0.003\n",
      "KGJT_200mb_tmpc            -0.2408      0.190     -1.266      0.207      -0.616       0.134\n",
      "KGJT_d250_200_speed_kts     0.0112      0.010      1.171      0.243      -0.008       0.030\n",
      "KGJT_700mb_tmpc            -0.2572      0.083     -3.100      0.002      -0.421      -0.093\n",
      "CMtn_WindDirection_deg      0.0050      0.003      1.751      0.082      -0.001       0.011\n",
      "KGJT_d700_400_height_m     -0.0448      0.016     -2.867      0.005      -0.076      -0.014\n",
      "LXV_Dewpoint_degC          -0.1522      0.068     -2.228      0.027      -0.287      -0.017\n",
      "CMtn_Dewpoint_degC          0.1578      0.059      2.663      0.008       0.041       0.275\n",
      "KGJT_d500_250_speed_kts    -0.0041      0.008     -0.526      0.600      -0.019       0.011\n",
      "KGJT_d700_500_drct          0.0072      0.003      2.110      0.036       0.000       0.014\n",
      "KGJT_d300_250_drct         -0.0131      0.005     -2.634      0.009      -0.023      -0.003\n",
      "KGJT_250mb_tmpc            -0.1007      0.050     -2.033      0.044      -0.198      -0.003\n",
      "KGJT_700mb_speed_kts        0.0306      0.015      2.082      0.039       0.002       0.060\n",
      "KGJT_d250_200_dwpc          0.0608      0.033      1.857      0.065      -0.004       0.125\n",
      "KGJT_d500_200_tmpc         -0.3519      0.179     -1.968      0.051      -0.705       0.001\n",
      "==============================================================================\n",
      "Omnibus:                       78.781   Durbin-Watson:                   1.875\n",
      "Prob(Omnibus):                  0.000   Jarque-Bera (JB):              272.896\n",
      "Skew:                           1.650   Prob(JB):                     5.51e-60\n",
      "Kurtosis:                       7.800   Cond. No.                     3.96e+06\n",
      "==============================================================================\n",
      "\n",
      "Warnings:\n",
      "[1] Standard Errors assume that the covariance matrix of the errors is correctly specified.\n",
      "[2] The condition number is large, 3.96e+06. This might indicate that there are\n",
      "strong multicollinearity or other numerical problems.\n"
     ]
    }
   ],
   "source": [
    "rsq_adj = maxOLS_all.rsquared_adj\n",
    "thresh = 0\n",
    "\n",
    "goodp_str = maximum_all_str\n",
    "highp_var = []\n",
    "\n",
    "maximum_all_str = max(dictionary, key=dictionary.get)    #this is the string of variables found in previous OLS run associated with mad adjusted R squared.\n",
    "#print(maximum_all_str)\n",
    "\n",
    "print(maxOLS_all.pvalues[1])\n",
    "for test_thresh in range(1, 100):   #loop through different P|t| thresholds ranging from 1 to 100.  Note floats are not allowed here \n",
    "  #print(test_thresh)\n",
    "  highp_var = [var for var in maxOLS_all.pvalues.keys() if maxOLS_all.pvalues[var]>=test_thresh*0.01]  #check P|t| for each variable against threshold and store in list\n",
    "  #print(highp_var)\n",
    "  \n",
    "  testgoodp_str = maximum_all_str   #reset testgoodp_str \n",
    "    \n",
    "  for var in highp_var:\n",
    "    testgoodp_str = testgoodp_str.replace(var+\"+ \", \"\")  # if need to replace first feature in string\n",
    "    testgoodp_str = testgoodp_str.replace(\"+ \" + var, \"\")   #  \n",
    "    \n",
    "#    print(var)\n",
    "#    print(testgoodp_str)\n",
    " \n",
    "\n",
    " \n",
    "\n",
    "  maxOLS_testgoodp = ols('CMtnSNTL_Upcoming12hrSNOWFALL_gte3_in ~' + testgoodp_str, test_train_df[train_yrs_tt]).fit()\n",
    "  #print(testgoodp_str, maxOLS_testgoodp.rsquared_adj, test_thresh*0.01)\n",
    "  #print(maxOLS_testgoodp.rsquared_adj)\n",
    "  if maxOLS_testgoodp.rsquared_adj > rsq_adj:\n",
    "      rsq_adj = maxOLS_testgoodp.rsquared_adj\n",
    "      #print(maxOLS_testgoodp.rsquared_adj, test_thresh*0.01)\n",
    "      goodp_str = testgoodp_str\n",
    "      thresh = test_thresh*0.01\n",
    "      #print(thresh, goodp_str)\n",
    "\n",
    "    \n",
    "print(\"\\n best p value threshold for feature elimination is:\" + str(thresh))\n",
    "maxOLS_goodp = ols('CMtnSNTL_Upcoming12hrSNOWFALL_gte3_in ~' + goodp_str, test_train_df[train_yrs_tt]).fit() \n",
    "print(maxOLS_goodp.summary())\n"
   ]
  },
  {
   "cell_type": "markdown",
   "metadata": {},
   "source": [
    "**The adjusted R squared increased slightly.**"
   ]
  },
  {
   "cell_type": "markdown",
   "metadata": {},
   "source": [
    "## Make snowfall predictions"
   ]
  },
  {
   "cell_type": "code",
   "execution_count": 12,
   "metadata": {},
   "outputs": [
    {
     "name": "stdout",
     "output_type": "stream",
     "text": [
      "62\n"
     ]
    }
   ],
   "source": [
    "\n",
    "\n",
    "\n",
    "actual_snf = test_train_df[test_yrs_tt]['CMtnSNTL_Upcoming12hrSNOWFALL_gte3_in']\n",
    "\n",
    "predict_snf = maxOLS_goodp.predict(test_train_df[test_yrs_tt])\n",
    "print(len(actual_snf))\n",
    "rows = zip(actual_snf, predict_snf)\n"
   ]
  },
  {
   "cell_type": "markdown",
   "metadata": {},
   "source": [
    "**Write both actual and predicted snowfall values to csv file for future analysis"
   ]
  },
  {
   "cell_type": "code",
   "execution_count": 13,
   "metadata": {},
   "outputs": [],
   "source": [
    "import csv\n",
    "with open(r'C:\\Users\\RAPP\\Documents\\Capstone\\Analysis Notebooks\\model_predictions\\A0-UASFC_OLS.csv', \"w\") as f:\n",
    "    writer = csv.writer(f)\n",
    "    for row in rows:\n",
    "        writer.writerow(row)"
   ]
  },
  {
   "cell_type": "code",
   "execution_count": null,
   "metadata": {},
   "outputs": [],
   "source": []
  }
 ],
 "metadata": {
  "kernelspec": {
   "display_name": "Python 3",
   "language": "python",
   "name": "python3"
  },
  "language_info": {
   "codemirror_mode": {
    "name": "ipython",
    "version": 3
   },
   "file_extension": ".py",
   "mimetype": "text/x-python",
   "name": "python",
   "nbconvert_exporter": "python",
   "pygments_lexer": "ipython3",
   "version": "3.6.5"
  }
 },
 "nbformat": 4,
 "nbformat_minor": 2
}
