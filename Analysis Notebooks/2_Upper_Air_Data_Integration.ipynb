{
 "cells": [
  {
   "cell_type": "markdown",
   "metadata": {},
   "source": [
    "## Upper Air Data Preparation and Data Integration"
   ]
  },
  {
   "cell_type": "markdown",
   "metadata": {},
   "source": [
    "**Import necessary modules and the ASOS/SNOTEL dataframes**"
   ]
  },
  {
   "cell_type": "code",
   "execution_count": 1,
   "metadata": {},
   "outputs": [],
   "source": [
    "import pandas as pd\n",
    "import matplotlib.pyplot as plt\n",
    "import numpy as np\n",
    "import datetime as dtb\n",
    "import os\n",
    "from glob import glob\n",
    "import datetime as dt\n",
    "import seaborn as sns\n",
    "import warnings\n",
    "\n",
    "warnings.filterwarnings('ignore')   #suppress warning messages for cleaner presentation"
   ]
  },
  {
   "cell_type": "markdown",
   "metadata": {},
   "source": [
    "**Import in surface dataframe**"
   ]
  },
  {
   "cell_type": "code",
   "execution_count": 2,
   "metadata": {},
   "outputs": [],
   "source": [
    "data = [pd.read_csv('asos_snotel_clean_w_LXV.dat', parse_dates = True, index_col = 'Date_Time')]\n",
    "asos_snotel_df= pd.concat(data)\n",
    "\n",
    "\n",
    "\n",
    "asos_snotel_df = asos_snotel_df.astype('float32')\n",
    "\n",
    "\n",
    "\n"
   ]
  },
  {
   "cell_type": "markdown",
   "metadata": {},
   "source": [
    "#### Import KGJT and KDEN Upper Air Data"
   ]
  },
  {
   "cell_type": "code",
   "execution_count": 3,
   "metadata": {},
   "outputs": [
    {
     "name": "stdout",
     "output_type": "stream",
     "text": [
      "                    station  levelcode  pressure_mb height_m tmpc dwpc drct  \\\n",
      "validUTC                                                                      \n",
      "2006-12-03 12:00:00    KGJT          4       1000.0    370.0    M    M    M   \n",
      "2006-12-03 12:00:00    KGJT          4        925.0    988.0    M    M    M   \n",
      "2006-12-27 12:00:00    KGJT          4        850.0   1463.0    M    M    M   \n",
      "2006-12-05 00:00:00    KGJT          4        925.0    934.0    M    M    M   \n",
      "2006-12-23 12:00:00    KGJT          4       1000.0    273.0    M    M    M   \n",
      "\n",
      "                    speed_kts bearing range_sm  \n",
      "validUTC                                        \n",
      "2006-12-03 12:00:00         M       M        M  \n",
      "2006-12-03 12:00:00         M       M        M  \n",
      "2006-12-27 12:00:00         M       M        M  \n",
      "2006-12-05 00:00:00         M       M        M  \n",
      "2006-12-23 12:00:00         M       M        M  \n",
      "           station  levelcode  pressure_mb height_m tmpc  dwpc drct speed_kts  \\\n",
      "validUTC                                                                        \n",
      "2005-04-12    KDEN          9        833.0   1611.0  9.4  -5.6    M         M   \n",
      "2005-04-12    KDEN          4       1000.0     71.0    M     M    M         M   \n",
      "2005-04-12    KDEN          4        925.0    735.0    M     M    M         M   \n",
      "2005-04-12    KDEN          4        850.0   1443.0    M     M    M         M   \n",
      "2005-04-12    KDEN          5        822.0   1720.0  6.8  -8.2    M         M   \n",
      "\n",
      "           bearing range_sm  \n",
      "validUTC                     \n",
      "2005-04-12     0.0      0.0  \n",
      "2005-04-12       M        M  \n",
      "2005-04-12       M        M  \n",
      "2005-04-12       M        M  \n",
      "2005-04-12       M        M  \n"
     ]
    }
   ],
   "source": [
    "upper_data = None\n",
    "upper_data_df = None\n",
    "UA_df = None\n",
    "UA_KGJT_df = None\n",
    "UA_KDEN_df = None\n",
    "\n",
    "\n",
    "UA_df = pd.DataFrame()\n",
    "UA_KGJT = [pd.read_csv(r'C:\\Users\\RAPP\\Documents\\Capstone\\data\\RAOB\\KGJT_2006010100_2018010100.txt', header= 0, parse_dates = ['validUTC'], index_col = 'validUTC')]\n",
    "UA_KDEN= [pd.read_csv(r'C:\\Users\\RAPP\\Documents\\Capstone\\data\\RAOB\\KDEN_2005010100_2018010100.txt', header= 0, parse_dates = ['validUTC'], index_col = 'validUTC')]\n",
    "\n",
    "\n",
    "\n",
    "#turn into datafrmes\n",
    "UA_KGJT_df = pd.concat(UA_KGJT)\n",
    "UA_KDEN_df = pd.concat(UA_KDEN)\n",
    "print(UA_KGJT_df.head())\n",
    "print(UA_KDEN_df.head())\n",
    "\n",
    "\n",
    "\n",
    "\n",
    "\n",
    "\n",
    "\n",
    "#\n"
   ]
  },
  {
   "cell_type": "markdown",
   "metadata": {},
   "source": [
    "**As there are memory concerns, delete unnecessary columns**"
   ]
  },
  {
   "cell_type": "code",
   "execution_count": 4,
   "metadata": {},
   "outputs": [],
   "source": [
    "#nont useful column and saves memory\n",
    "del UA_KGJT_df['station']\n",
    "del UA_KGJT_df['bearing']\n",
    "del UA_KGJT_df['range_sm']\n",
    "\n",
    "\n",
    "del UA_KDEN_df['station'] \n",
    "del UA_KDEN_df['bearing'] \n",
    "del UA_KDEN_df['range_sm']\n"
   ]
  },
  {
   "cell_type": "markdown",
   "metadata": {},
   "source": [
    "**We are going to just keep the mandatory measurement levels.  These are indicated by level code 4.**"
   ]
  },
  {
   "cell_type": "code",
   "execution_count": 5,
   "metadata": {},
   "outputs": [],
   "source": [
    "UA_KGJT_df = UA_KGJT_df.query('levelcode == 4')\n",
    "UA_KDEN_df = UA_KDEN_df.query('levelcode == 4')\n"
   ]
  },
  {
   "cell_type": "markdown",
   "metadata": {},
   "source": [
    "**Replace missing data with NaN and make sure data is all numeric.  Also, set to 32 bit datatype to conserve memory.  This is plenty of resolution for the values within this dataset.**"
   ]
  },
  {
   "cell_type": "code",
   "execution_count": 6,
   "metadata": {},
   "outputs": [],
   "source": [
    "UA_KGJT_df = UA_KGJT_df.replace('M', np.NaN)\n",
    "UA_KGJT_df = UA_KGJT_df.apply(pd.to_numeric)\n",
    "UA_KGJT_df = UA_KGJT_df.astype('float32')\n",
    "\n",
    "UA_KDEN_df = UA_KDEN_df.replace('M', np.NaN)\n",
    "UA_KDEN_df = UA_KDEN_df.apply(pd.to_numeric)\n",
    "UA_KDEN_df = UA_KDEN_df.astype('float32')\n",
    "\n",
    "\n",
    "\n"
   ]
  },
  {
   "cell_type": "markdown",
   "metadata": {},
   "source": [
    "**Set index of dataframes to Date/Time**"
   ]
  },
  {
   "cell_type": "code",
   "execution_count": 7,
   "metadata": {},
   "outputs": [
    {
     "name": "stdout",
     "output_type": "stream",
     "text": [
      "            levelcode  pressure_mb  height_m       tmpc       dwpc   drct  \\\n",
      "Date_Time                                                                   \n",
      "2005-04-12        4.0       1000.0      71.0        NaN        NaN    NaN   \n",
      "2005-04-12        4.0        925.0     735.0        NaN        NaN    NaN   \n",
      "2005-04-12        4.0        850.0    1443.0        NaN        NaN    NaN   \n",
      "2005-04-12        4.0        700.0    3017.0  -3.900000 -12.900000  300.0   \n",
      "2005-04-12        4.0        500.0    5590.0 -18.700001 -38.700001  310.0   \n",
      "\n",
      "            speed_kts  \n",
      "Date_Time              \n",
      "2005-04-12        NaN  \n",
      "2005-04-12        NaN  \n",
      "2005-04-12        NaN  \n",
      "2005-04-12       15.0  \n",
      "2005-04-12       31.0  \n"
     ]
    }
   ],
   "source": [
    "UA_KGJT_df.index.names = ['Date_Time']\n",
    "UA_KDEN_df.index.names = ['Date_Time']\n",
    "\n",
    "print(UA_KDEN_df.head())"
   ]
  },
  {
   "cell_type": "markdown",
   "metadata": {},
   "source": []
  },
  {
   "cell_type": "markdown",
   "metadata": {},
   "source": [
    "**While not really necessary, localize to UTC**"
   ]
  },
  {
   "cell_type": "code",
   "execution_count": 8,
   "metadata": {},
   "outputs": [],
   "source": [
    "UA_KGJT_df.index = UA_KGJT_df.index.tz_localize('UTC')\n",
    "UA_KDEN_df.index = UA_KDEN_df.index.tz_localize('UTC')\n",
    "\n"
   ]
  },
  {
   "cell_type": "markdown",
   "metadata": {},
   "source": [
    "**Create copy of the surface data frame.  This new dataframe will be used to join the Upper Air Data to the surface data into one dataframe**"
   ]
  },
  {
   "cell_type": "code",
   "execution_count": 9,
   "metadata": {},
   "outputs": [],
   "source": [
    "##UA_copy_df = UA_KGJT_df.copy()\n",
    "asos_snotel_UA_df = asos_snotel_df.copy() "
   ]
  },
  {
   "cell_type": "markdown",
   "metadata": {},
   "source": [
    "**Read in most useful levels join to surface data frame.  This will be called asos_snotel_UA_df**"
   ]
  },
  {
   "cell_type": "code",
   "execution_count": 10,
   "metadata": {},
   "outputs": [],
   "source": [
    "\n",
    "levels = [200, 250, 300, 400, 500, 700, 850]\n",
    "\n",
    "\n",
    "\n",
    "for level in levels:\n",
    "  asos_snotel_UA_df = asos_snotel_UA_df.join(UA_KGJT_df[UA_KGJT_df['pressure_mb'] == level].add_prefix('KGJT_'+str(level)+'mb_'), how= 'outer')\n",
    "  asos_snotel_UA_df = asos_snotel_UA_df.join(UA_KDEN_df[UA_KDEN_df['pressure_mb'] == level].add_prefix('KDEN_'+str(level)+'mb_'), how= 'outer')\n",
    "\n",
    "\n",
    "\n"
   ]
  },
  {
   "cell_type": "markdown",
   "metadata": {},
   "source": [
    "**Now create features which represent differences in meteorological values between pressure levels.  Add these to the asos_snotel_UA_df **"
   ]
  },
  {
   "cell_type": "code",
   "execution_count": 11,
   "metadata": {},
   "outputs": [],
   "source": [
    "\n",
    "# pairs are the levels which delta measurements will be calculated for example [850,700] pair will represent 850mb-700mb\n",
    "pairs = [[850, 700], [850, 500], [850, 400], [850, 300], [850, 250], [850, 200], \\\n",
    "         [700, 500], [700, 400], [700, 300], [700, 250], [700, 200], \\\n",
    "         [500, 400], [500, 300], [500,250], [500,200], \\\n",
    "         [400, 300], [400,250], [400,200], \\\n",
    "         [300, 250], [300, 200], \\\n",
    "         [250, 200]]\n",
    "         \n",
    "for pair in pairs:\n",
    " asos_snotel_UA_df = asos_snotel_UA_df.join(((UA_KGJT_df[UA_KGJT_df['pressure_mb'] == pair[0]]) - (UA_KGJT_df[UA_KGJT_df['pressure_mb'] == pair[1]])).add_prefix('KGJT_d'+str(pair[0])+'_'+str(pair[1])+'_'))\n",
    " asos_snotel_UA_df = asos_snotel_UA_df.join(((UA_KDEN_df[UA_KDEN_df['pressure_mb'] == pair[0]]) - (UA_KDEN_df[UA_KDEN_df['pressure_mb'] == pair[1]])).add_prefix('KDEN_d'+str(pair[0])+'_'+str(pair[1])+'_'))\n",
    "\n"
   ]
  },
  {
   "cell_type": "markdown",
   "metadata": {},
   "source": [
    "**Remove more unecessary columns to save memory**"
   ]
  },
  {
   "cell_type": "code",
   "execution_count": 12,
   "metadata": {},
   "outputs": [
    {
     "name": "stdout",
     "output_type": "stream",
     "text": [
      "                           CMtnSNTL_Temp_degC  CMtnSNTL_SnowDepth_in  \\\n",
      "Date_Time                                                              \n",
      "2005-04-12 00:00:00+00:00                 NaN                    NaN   \n",
      "2005-04-12 12:00:00+00:00                 NaN                    NaN   \n",
      "2006-01-01 00:00:00+00:00                 NaN                    NaN   \n",
      "2006-01-01 01:00:00+00:00                -1.3                   43.0   \n",
      "2006-01-01 02:00:00+00:00                -2.7                   43.0   \n",
      "\n",
      "                           CMtn_Temperature_degC  CMtn_Dewpoint_degC  \\\n",
      "Date_Time                                                              \n",
      "2005-04-12 00:00:00+00:00                    NaN                 NaN   \n",
      "2005-04-12 12:00:00+00:00                    NaN                 NaN   \n",
      "2006-01-01 00:00:00+00:00                    NaN                 NaN   \n",
      "2006-01-01 01:00:00+00:00                   -1.0                -7.0   \n",
      "2006-01-01 02:00:00+00:00                   -3.0                -8.0   \n",
      "\n",
      "                           CMtn_WindDirection_deg  CMtn_WindSpeed_mps  \\\n",
      "Date_Time                                                               \n",
      "2005-04-12 00:00:00+00:00                     NaN                 NaN   \n",
      "2005-04-12 12:00:00+00:00                     NaN                 NaN   \n",
      "2006-01-01 00:00:00+00:00                     NaN                 NaN   \n",
      "2006-01-01 01:00:00+00:00                   220.0                 7.7   \n",
      "2006-01-01 02:00:00+00:00                   230.0                 5.1   \n",
      "\n",
      "                           CMtn_CloudCover_oktas  CMtn_1hr_Precipitation_mm  \\\n",
      "Date_Time                                                                     \n",
      "2005-04-12 00:00:00+00:00                    NaN                        NaN   \n",
      "2005-04-12 12:00:00+00:00                    NaN                        NaN   \n",
      "2006-01-01 00:00:00+00:00                    NaN                        NaN   \n",
      "2006-01-01 01:00:00+00:00                    NaN                        NaN   \n",
      "2006-01-01 02:00:00+00:00                    NaN                        NaN   \n",
      "\n",
      "                           LXV_Temperature_degC  LXV_Dewpoint_degC  ...  \\\n",
      "Date_Time                                                           ...   \n",
      "2005-04-12 00:00:00+00:00                   NaN                NaN  ...   \n",
      "2005-04-12 12:00:00+00:00                   NaN                NaN  ...   \n",
      "2006-01-01 00:00:00+00:00                   NaN                NaN  ...   \n",
      "2006-01-01 01:00:00+00:00                   2.2               -6.7  ...   \n",
      "2006-01-01 02:00:00+00:00                   1.1               -7.2  ...   \n",
      "\n",
      "                           KGJT_d300_200_height_m  KGJT_d300_200_tmpc  \\\n",
      "Date_Time                                                               \n",
      "2005-04-12 00:00:00+00:00                     NaN                 NaN   \n",
      "2005-04-12 12:00:00+00:00                     NaN                 NaN   \n",
      "2006-01-01 00:00:00+00:00                 -2630.0            9.599998   \n",
      "2006-01-01 01:00:00+00:00                     NaN                 NaN   \n",
      "2006-01-01 02:00:00+00:00                     NaN                 NaN   \n",
      "\n",
      "                           KGJT_d300_200_dwpc  KGJT_d300_200_drct  \\\n",
      "Date_Time                                                           \n",
      "2005-04-12 00:00:00+00:00                 NaN                 NaN   \n",
      "2005-04-12 12:00:00+00:00                 NaN                 NaN   \n",
      "2006-01-01 00:00:00+00:00           12.599998                -5.0   \n",
      "2006-01-01 01:00:00+00:00                 NaN                 NaN   \n",
      "2006-01-01 02:00:00+00:00                 NaN                 NaN   \n",
      "\n",
      "                           KGJT_d300_200_speed_kts  KGJT_d250_200_height_m  \\\n",
      "Date_Time                                                                    \n",
      "2005-04-12 00:00:00+00:00                      NaN                     NaN   \n",
      "2005-04-12 12:00:00+00:00                      NaN                     NaN   \n",
      "2006-01-01 00:00:00+00:00                      5.0                 -1430.0   \n",
      "2006-01-01 01:00:00+00:00                      NaN                     NaN   \n",
      "2006-01-01 02:00:00+00:00                      NaN                     NaN   \n",
      "\n",
      "                           KGJT_d250_200_tmpc  KGJT_d250_200_dwpc  \\\n",
      "Date_Time                                                           \n",
      "2005-04-12 00:00:00+00:00                 NaN                 NaN   \n",
      "2005-04-12 12:00:00+00:00                 NaN                 NaN   \n",
      "2006-01-01 00:00:00+00:00           -1.400002            3.599998   \n",
      "2006-01-01 01:00:00+00:00                 NaN                 NaN   \n",
      "2006-01-01 02:00:00+00:00                 NaN                 NaN   \n",
      "\n",
      "                           KGJT_d250_200_drct  KGJT_d250_200_speed_kts  \n",
      "Date_Time                                                               \n",
      "2005-04-12 00:00:00+00:00                 NaN                      NaN  \n",
      "2005-04-12 12:00:00+00:00                 NaN                      NaN  \n",
      "2006-01-01 00:00:00+00:00                -5.0                     16.0  \n",
      "2006-01-01 01:00:00+00:00                 NaN                      NaN  \n",
      "2006-01-01 02:00:00+00:00                 NaN                      NaN  \n",
      "\n",
      "[5 rows x 163 columns]\n"
     ]
    }
   ],
   "source": [
    "\n",
    "asos_snotel_UA_df = asos_snotel_UA_df[asos_snotel_UA_df.columns.drop(list(asos_snotel_UA_df.filter(regex='levelcode')))]\n",
    "asos_snotel_UA_df = asos_snotel_UA_df[asos_snotel_UA_df.columns.drop(list(asos_snotel_UA_df.filter(regex='pressure_mb')))]\n",
    "asos_snotel_UA_df = asos_snotel_UA_df[asos_snotel_UA_df.columns.drop(list(asos_snotel_UA_df.filter(regex='KDEN')))]\n",
    "\n",
    "\n",
    "print(asos_snotel_UA_df.head())"
   ]
  },
  {
   "cell_type": "markdown",
   "metadata": {},
   "source": [
    "**Finally write dataframe to csv file.  Use resample to make sure there are no missing or duplicate 12hr values**"
   ]
  },
  {
   "cell_type": "code",
   "execution_count": 13,
   "metadata": {},
   "outputs": [],
   "source": [
    "asos_snotel_UA_df.resample('12H').first().to_csv('asos_snotel_UA_12hr_df.dat', sep = ',', float_format = '%.2f')"
   ]
  },
  {
   "cell_type": "markdown",
   "metadata": {},
   "source": [
    "** **"
   ]
  },
  {
   "cell_type": "markdown",
   "metadata": {},
   "source": [
    "***"
   ]
  }
 ],
 "metadata": {
  "kernelspec": {
   "display_name": "Python 3",
   "language": "python",
   "name": "python3"
  },
  "language_info": {
   "codemirror_mode": {
    "name": "ipython",
    "version": 3
   },
   "file_extension": ".py",
   "mimetype": "text/x-python",
   "name": "python",
   "nbconvert_exporter": "python",
   "pygments_lexer": "ipython3",
   "version": "3.6.5"
  }
 },
 "nbformat": 4,
 "nbformat_minor": 2
}
