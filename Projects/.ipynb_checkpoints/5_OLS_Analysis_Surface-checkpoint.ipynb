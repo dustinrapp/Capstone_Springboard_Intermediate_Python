{
 "cells": [
  {
   "cell_type": "markdown",
   "metadata": {},
   "source": [
    "## Data Prep"
   ]
  },
  {
   "cell_type": "markdown",
   "metadata": {},
   "source": [
    "**Import necessary modules and the ASOS/SNOTEL dataframes**"
   ]
  },
  {
   "cell_type": "code",
   "execution_count": 1,
   "metadata": {},
   "outputs": [],
   "source": [
    "import pandas as pd\n",
    "import matplotlib.pyplot as plt\n",
    "import numpy as np\n",
    "import datetime as dtb\n",
    "import os\n",
    "from glob import glob\n",
    "import datetime as dt\n",
    "import seaborn as sns"
   ]
  },
  {
   "cell_type": "code",
   "execution_count": 2,
   "metadata": {},
   "outputs": [
    {
     "name": "stdout",
     "output_type": "stream",
     "text": [
      "Index(['CMtnSNTL_Temp_degC', 'CMtnSNTL_SnowDepth_in', 'CMtn_Temperature_degC',\n",
      "       'CMtn_Dewpoint_degC', 'CMtn_WindDirection_deg', 'CMtn_WindSpeed_mps',\n",
      "       'CMtn_CloudCover_oktas', 'CMtn_1hr_Precipitation_mm',\n",
      "       'LXV_Temperature_degC', 'LXV_Dewpoint_degC',\n",
      "       ...\n",
      "       'KGJT_d300_200_height_m', 'KGJT_d300_200_tmpc', 'KGJT_d300_200_dwpc',\n",
      "       'KGJT_d300_200_drct', 'KGJT_d300_200_speed_kts',\n",
      "       'KGJT_d250_200_height_m', 'KGJT_d250_200_tmpc', 'KGJT_d250_200_dwpc',\n",
      "       'KGJT_d250_200_drct', 'KGJT_d250_200_speed_kts'],\n",
      "      dtype='object', length=163)\n"
     ]
    }
   ],
   "source": [
    "data = [pd.read_csv('asos_snotel_UA_12hr_df.dat', parse_dates = True, index_col = 'Date_Time')]\n",
    "asos_snotel_UA_df = pd.concat(data)\n",
    "#asos_snotel_UA_df['LXV_WindSpeed_m/s']\n",
    "\n",
    "#asos_snotel_UA_df.rename(columns={'LXV_WindSpeed_m/s': 'LXV_WindSpeed_mps'}, inplace=True)\n",
    "\n",
    "asos_snotel_UA_df.astype('float16')\n",
    "pd.set_option('display.expand_frame_repr', True)\n",
    "\n",
    "\n",
    "print(asos_snotel_UA_df.keys())\n",
    "\n",
    "\n",
    "\n",
    "\n",
    "#delete empty columns as they mess up loops\n",
    "#del asos_snotel_UA_df['CMtn_6hr_Precipitation_mm']            #empty column\n"
   ]
  },
  {
   "cell_type": "markdown",
   "metadata": {},
   "source": [
    "It is important to keep in mind that 'CMtnSNTL_12hr_SNWD_in contains snow depth info taken at the start of the respective 12hr period timestamp.  The snowfall calculated also gives the snowfall that fell in the 12hrs after the timestamp.  The OLS model will utilize hourly meteorological measurements at exactly 00:00 and 12:00 hours to predict the amount of snow which will fall in the next 12 hour period.  For example, the 00:00 meteorological measurements will be used to predict the snow which fell between 00:00 and 12:00."
   ]
  },
  {
   "cell_type": "code",
   "execution_count": 3,
   "metadata": {},
   "outputs": [],
   "source": [
    "#asos_snotel_UA_df['LXV_12hr_delta_Pressure_hp'] = asos_snotel_UA_df['LXV_Pressure_hp']-asos_snotel_UA_df['LXV_Pressure_hp'].shift(+12)\n",
    "#print(asos_snotel_UA_df['LXV_12hr_delta_Pressure_hp'].describe())\n"
   ]
  },
  {
   "cell_type": "markdown",
   "metadata": {},
   "source": [
    "***\n",
    "# OLS Analysis of meteorological variables and snowfall (Training Dataset: 2008-2017 only)"
   ]
  },
  {
   "cell_type": "markdown",
   "metadata": {},
   "source": [
    "**We will first utilize just the Copper Mountain surface level variables and run the model explicitly to generate statistics.  This will give snowfall predictive capability of individual meteorological variables (Dewpoint, SNOTEL Temperature, Temperature, Wind Speed, Cloud Cover, Wind Direction, 6hr Pressure change, and Pressure) using an OLS model and the 2008-2017 training dataset. The resulting values will also be used to verify some code which performs same analysis, but with a loop.  This code will then be fed all upper air and surface level variables to determine best combination of variables in the OLS model.**\n"
   ]
  },
  {
   "cell_type": "code",
   "execution_count": 4,
   "metadata": {},
   "outputs": [],
   "source": [
    "#Import statsmodel\n",
    "\n",
    "import statsmodels.api as sm\n",
    "#import statsmodel\n",
    "from statsmodels.formula.api import ols"
   ]
  },
  {
   "cell_type": "markdown",
   "metadata": {},
   "source": [
    "### Single Variable OLS (CMtn Surface Variables)\n"
   ]
  },
  {
   "cell_type": "code",
   "execution_count": 5,
   "metadata": {},
   "outputs": [
    {
     "name": "stdout",
     "output_type": "stream",
     "text": [
      "                                      OLS Regression Results                                     \n",
      "=================================================================================================\n",
      "Dep. Variable:     CMtnSNTL_Upcoming12hrSNOWFALL_gte3_in   R-squared:                       0.016\n",
      "Model:                                               OLS   Adj. R-squared:                  0.011\n",
      "Method:                                    Least Squares   F-statistic:                     3.012\n",
      "Date:                                   Wed, 06 Feb 2019   Prob (F-statistic):             0.0843\n",
      "Time:                                           09:21:56   Log-Likelihood:                -416.54\n",
      "No. Observations:                                    189   AIC:                             837.1\n",
      "Df Residuals:                                        187   BIC:                             843.6\n",
      "Df Model:                                              1                                         \n",
      "Covariance Type:                               nonrobust                                         \n",
      "======================================================================================\n",
      "                         coef    std err          t      P>|t|      [0.025      0.975]\n",
      "--------------------------------------------------------------------------------------\n",
      "Intercept              5.3090      0.396     13.400      0.000       4.527       6.091\n",
      "CMtn_Dewpoint_degC     0.0700      0.040      1.736      0.084      -0.010       0.150\n",
      "==============================================================================\n",
      "Omnibus:                      102.845   Durbin-Watson:                   1.797\n",
      "Prob(Omnibus):                  0.000   Jarque-Bera (JB):              434.253\n",
      "Skew:                           2.205   Prob(JB):                     5.05e-95\n",
      "Kurtosis:                       8.974   Cond. No.                         24.5\n",
      "==============================================================================\n",
      "\n",
      "Warnings:\n",
      "[1] Standard Errors assume that the covariance matrix of the errors is correctly specified.\n",
      "\n",
      " ++++++++++++++++++++++++++++++++++++++++++++++++++++++++++++++++++++++++++++++++++ \n",
      "\n",
      "                                      OLS Regression Results                                     \n",
      "=================================================================================================\n",
      "Dep. Variable:     CMtnSNTL_Upcoming12hrSNOWFALL_gte3_in   R-squared:                       0.001\n",
      "Model:                                               OLS   Adj. R-squared:                 -0.003\n",
      "Method:                                    Least Squares   F-statistic:                    0.3333\n",
      "Date:                                   Wed, 06 Feb 2019   Prob (F-statistic):              0.564\n",
      "Time:                                           09:21:56   Log-Likelihood:                -569.49\n",
      "No. Observations:                                    256   AIC:                             1143.\n",
      "Df Residuals:                                        254   BIC:                             1150.\n",
      "Df Model:                                              1                                         \n",
      "Covariance Type:                               nonrobust                                         \n",
      "======================================================================================\n",
      "                         coef    std err          t      P>|t|      [0.025      0.975]\n",
      "--------------------------------------------------------------------------------------\n",
      "Intercept              4.7548      0.191     24.873      0.000       4.378       5.131\n",
      "CMtnSNTL_Temp_degC     0.0212      0.037      0.577      0.564      -0.051       0.094\n",
      "==============================================================================\n",
      "Omnibus:                      143.269   Durbin-Watson:                   1.882\n",
      "Prob(Omnibus):                  0.000   Jarque-Bera (JB):              729.819\n",
      "Skew:                           2.335   Prob(JB):                    3.32e-159\n",
      "Kurtosis:                       9.827   Cond. No.                         7.20\n",
      "==============================================================================\n",
      "\n",
      "Warnings:\n",
      "[1] Standard Errors assume that the covariance matrix of the errors is correctly specified.\n",
      "\n",
      " ++++++++++++++++++++++++++++++++++++++++++++++++++++++++++++++++++++++++++++++++++ \n",
      "\n",
      "                                      OLS Regression Results                                     \n",
      "=================================================================================================\n",
      "Dep. Variable:     CMtnSNTL_Upcoming12hrSNOWFALL_gte3_in   R-squared:                       0.000\n",
      "Model:                                               OLS   Adj. R-squared:                 -0.005\n",
      "Method:                                    Least Squares   F-statistic:                  0.001623\n",
      "Date:                                   Wed, 06 Feb 2019   Prob (F-statistic):              0.968\n",
      "Time:                                           09:21:56   Log-Likelihood:                -418.04\n",
      "No. Observations:                                    189   AIC:                             840.1\n",
      "Df Residuals:                                        187   BIC:                             846.6\n",
      "Df Model:                                              1                                         \n",
      "Covariance Type:                               nonrobust                                         \n",
      "=========================================================================================\n",
      "                            coef    std err          t      P>|t|      [0.025      0.975]\n",
      "-----------------------------------------------------------------------------------------\n",
      "Intercept                 4.6870      0.234     20.042      0.000       4.226       5.148\n",
      "CMtn_Temperature_degC     0.0017      0.042      0.040      0.968      -0.081       0.085\n",
      "==============================================================================\n",
      "Omnibus:                      104.994   Durbin-Watson:                   1.815\n",
      "Prob(Omnibus):                  0.000   Jarque-Bera (JB):              456.974\n",
      "Skew:                           2.247   Prob(JB):                    5.88e-100\n",
      "Kurtosis:                       9.151   Cond. No.                         8.17\n",
      "==============================================================================\n",
      "\n",
      "Warnings:\n",
      "[1] Standard Errors assume that the covariance matrix of the errors is correctly specified.\n",
      "\n",
      " ++++++++++++++++++++++++++++++++++++++++++++++++++++++++++++++++++++++++++++++++++ \n",
      "\n",
      "                                      OLS Regression Results                                     \n",
      "=================================================================================================\n",
      "Dep. Variable:     CMtnSNTL_Upcoming12hrSNOWFALL_gte3_in   R-squared:                       0.014\n",
      "Model:                                               OLS   Adj. R-squared:                  0.008\n",
      "Method:                                    Least Squares   F-statistic:                     2.510\n",
      "Date:                                   Wed, 06 Feb 2019   Prob (F-statistic):              0.115\n",
      "Time:                                           09:21:56   Log-Likelihood:                -394.67\n",
      "No. Observations:                                    181   AIC:                             793.3\n",
      "Df Residuals:                                        179   BIC:                             799.7\n",
      "Df Model:                                              1                                         \n",
      "Covariance Type:                               nonrobust                                         \n",
      "======================================================================================\n",
      "                         coef    std err          t      P>|t|      [0.025      0.975]\n",
      "--------------------------------------------------------------------------------------\n",
      "Intercept              4.1343      0.375     11.024      0.000       3.394       4.874\n",
      "CMtn_WindSpeed_mps     0.0662      0.042      1.584      0.115      -0.016       0.149\n",
      "==============================================================================\n",
      "Omnibus:                      105.944   Durbin-Watson:                   1.886\n",
      "Prob(Omnibus):                  0.000   Jarque-Bera (JB):              529.357\n",
      "Skew:                           2.294   Prob(JB):                    1.13e-115\n",
      "Kurtosis:                      10.010   Cond. No.                         21.2\n",
      "==============================================================================\n",
      "\n",
      "Warnings:\n",
      "[1] Standard Errors assume that the covariance matrix of the errors is correctly specified.\n",
      "\n",
      " ++++++++++++++++++++++++++++++++++++++++++++++++++++++++++++++++++++++++++++++++++ \n",
      "\n",
      "                                      OLS Regression Results                                     \n",
      "=================================================================================================\n",
      "Dep. Variable:     CMtnSNTL_Upcoming12hrSNOWFALL_gte3_in   R-squared:                       0.020\n",
      "Model:                                               OLS   Adj. R-squared:                  0.007\n",
      "Method:                                    Least Squares   F-statistic:                     1.500\n",
      "Date:                                   Wed, 06 Feb 2019   Prob (F-statistic):              0.225\n",
      "Time:                                           09:21:56   Log-Likelihood:                -153.99\n",
      "No. Observations:                                     75   AIC:                             312.0\n",
      "Df Residuals:                                         73   BIC:                             316.6\n",
      "Df Model:                                              1                                         \n",
      "Covariance Type:                               nonrobust                                         \n",
      "=========================================================================================\n",
      "                            coef    std err          t      P>|t|      [0.025      0.975]\n",
      "-----------------------------------------------------------------------------------------\n",
      "Intercept                 3.1652      1.100      2.879      0.005       0.974       5.357\n",
      "CMtn_CloudCover_oktas     0.1751      0.143      1.225      0.225      -0.110       0.460\n",
      "==============================================================================\n",
      "Omnibus:                       42.354   Durbin-Watson:                   1.714\n",
      "Prob(Omnibus):                  0.000   Jarque-Bera (JB):              110.099\n",
      "Skew:                           1.917   Prob(JB):                     1.24e-24\n",
      "Kurtosis:                       7.532   Cond. No.                         38.9\n",
      "==============================================================================\n",
      "\n",
      "Warnings:\n",
      "[1] Standard Errors assume that the covariance matrix of the errors is correctly specified.\n",
      "\n",
      " ++++++++++++++++++++++++++++++++++++++++++++++++++++++++++++++++++++++++++++++++++ \n",
      "\n",
      "                                      OLS Regression Results                                     \n",
      "=================================================================================================\n",
      "Dep. Variable:     CMtnSNTL_Upcoming12hrSNOWFALL_gte3_in   R-squared:                       0.000\n",
      "Model:                                               OLS   Adj. R-squared:                 -0.005\n",
      "Method:                                    Least Squares   F-statistic:                   0.04337\n",
      "Date:                                   Wed, 06 Feb 2019   Prob (F-statistic):              0.835\n",
      "Time:                                           09:21:56   Log-Likelihood:                -395.91\n",
      "No. Observations:                                    181   AIC:                             795.8\n",
      "Df Residuals:                                        179   BIC:                             802.2\n",
      "Df Model:                                              1                                         \n",
      "Covariance Type:                               nonrobust                                         \n",
      "==========================================================================================\n",
      "                             coef    std err          t      P>|t|      [0.025      0.975]\n",
      "------------------------------------------------------------------------------------------\n",
      "Intercept                  4.5327      0.686      6.606      0.000       3.179       5.887\n",
      "CMtn_WindDirection_deg     0.0006      0.003      0.208      0.835      -0.005       0.006\n",
      "==============================================================================\n",
      "Omnibus:                      101.685   Durbin-Watson:                   1.897\n",
      "Prob(Omnibus):                  0.000   Jarque-Bera (JB):              457.690\n",
      "Skew:                           2.234   Prob(JB):                    4.11e-100\n",
      "Kurtosis:                       9.382   Cond. No.                     1.02e+03\n",
      "==============================================================================\n",
      "\n",
      "Warnings:\n",
      "[1] Standard Errors assume that the covariance matrix of the errors is correctly specified.\n",
      "[2] The condition number is large, 1.02e+03. This might indicate that there are\n",
      "strong multicollinearity or other numerical problems.\n",
      "\n",
      " ++++++++++++++++++++++++++++++++++++++++++++++++++++++++++++++++++++++++++++++++++ \n",
      "\n",
      "                                      OLS Regression Results                                     \n",
      "=================================================================================================\n",
      "Dep. Variable:     CMtnSNTL_Upcoming12hrSNOWFALL_gte3_in   R-squared:                       0.017\n",
      "Model:                                               OLS   Adj. R-squared:                  0.012\n",
      "Method:                                    Least Squares   F-statistic:                     3.760\n",
      "Date:                                   Wed, 06 Feb 2019   Prob (F-statistic):             0.0538\n",
      "Time:                                           09:21:56   Log-Likelihood:                -502.13\n",
      "No. Observations:                                    222   AIC:                             1008.\n",
      "Df Residuals:                                        220   BIC:                             1015.\n",
      "Df Model:                                              1                                         \n",
      "Covariance Type:                               nonrobust                                         \n",
      "==============================================================================================\n",
      "                                 coef    std err          t      P>|t|      [0.025      0.975]\n",
      "----------------------------------------------------------------------------------------------\n",
      "Intercept                      4.5452      0.183     24.795      0.000       4.184       4.906\n",
      "LXV_12hr_delta_Pressure_hp    -0.0606      0.031     -1.939      0.054      -0.122       0.001\n",
      "==============================================================================\n",
      "Omnibus:                      122.991   Durbin-Watson:                   1.911\n",
      "Prob(Omnibus):                  0.000   Jarque-Bera (JB):              569.946\n",
      "Skew:                           2.289   Prob(JB):                    1.73e-124\n",
      "Kurtosis:                       9.376   Cond. No.                         6.92\n",
      "==============================================================================\n",
      "\n",
      "Warnings:\n",
      "[1] Standard Errors assume that the covariance matrix of the errors is correctly specified.\n",
      "\n",
      " ++++++++++++++++++++++++++++++++++++++++++++++++++++++++++++++++++++++++++++++++++ \n",
      "\n",
      "                                      OLS Regression Results                                     \n",
      "=================================================================================================\n",
      "Dep. Variable:     CMtnSNTL_Upcoming12hrSNOWFALL_gte3_in   R-squared:                       0.001\n",
      "Model:                                               OLS   Adj. R-squared:                 -0.003\n",
      "Method:                                    Least Squares   F-statistic:                    0.2521\n",
      "Date:                                   Wed, 06 Feb 2019   Prob (F-statistic):              0.616\n",
      "Time:                                           09:21:56   Log-Likelihood:                -505.70\n",
      "No. Observations:                                    223   AIC:                             1015.\n",
      "Df Residuals:                                        221   BIC:                             1022.\n",
      "Df Model:                                              1                                         \n",
      "Covariance Type:                               nonrobust                                         \n",
      "===================================================================================\n",
      "                      coef    std err          t      P>|t|      [0.025      0.975]\n",
      "-----------------------------------------------------------------------------------\n",
      "Intercept          14.3121     19.090      0.750      0.454     -23.310      51.934\n",
      "LXV_Pressure_hp    -0.0095      0.019     -0.502      0.616      -0.047       0.028\n",
      "==============================================================================\n",
      "Omnibus:                      122.602   Durbin-Watson:                   1.890\n",
      "Prob(Omnibus):                  0.000   Jarque-Bera (JB):              553.603\n",
      "Skew:                           2.284   Prob(JB):                    6.12e-121\n",
      "Kurtosis:                       9.222   Cond. No.                     1.22e+05\n",
      "==============================================================================\n",
      "\n",
      "Warnings:\n",
      "[1] Standard Errors assume that the covariance matrix of the errors is correctly specified.\n",
      "[2] The condition number is large, 1.22e+05. This might indicate that there are\n",
      "strong multicollinearity or other numerical problems.\n",
      "\n",
      " ++++++++++++++++++++++++++++++++++++++++++++++++++++++++++++++++++++++++++++++++++ \n",
      "\n",
      "Intercept             5.308974\n",
      "CMtn_Dewpoint_degC    0.069999\n",
      "dtype: float64\n"
     ]
    }
   ],
   "source": [
    "\n",
    "\n",
    "OLS_CMtn_Dewpoint = ols('CMtnSNTL_Upcoming12hrSNOWFALL_gte3_in ~ CMtn_Dewpoint_degC',asos_snotel_UA_df['2009':'2017']).fit()\n",
    "OLS_CMtnSNTL_Temp = ols('CMtnSNTL_Upcoming12hrSNOWFALL_gte3_in ~ CMtnSNTL_Temp_degC',asos_snotel_UA_df['2009':'2017']).fit()\n",
    "OLS_CMtn_Temperature = ols('CMtnSNTL_Upcoming12hrSNOWFALL_gte3_in ~ CMtn_Temperature_degC',asos_snotel_UA_df['2009':'2017']).fit()\n",
    "OLS_CMtn_WindSpeed = ols('CMtnSNTL_Upcoming12hrSNOWFALL_gte3_in ~ CMtn_WindSpeed_mps',asos_snotel_UA_df['2009':'2017']).fit()\n",
    "OLS_CMtn_CloudCover = ols('CMtnSNTL_Upcoming12hrSNOWFALL_gte3_in ~ CMtn_CloudCover_oktas', asos_snotel_UA_df['2009':'2017']).fit()\n",
    "OLS_CMtn_WindDirection = ols('CMtnSNTL_Upcoming12hrSNOWFALL_gte3_in ~ CMtn_WindDirection_deg', asos_snotel_UA_df['2009':'2017']).fit()\n",
    "OLS_LXV_12hr_delta_Pressure = ols('CMtnSNTL_Upcoming12hrSNOWFALL_gte3_in ~ LXV_12hr_delta_Pressure_hp', asos_snotel_UA_df['2009':'2017']).fit()\n",
    "OLS_LXV_Pressure = ols('CMtnSNTL_Upcoming12hrSNOWFALL_gte3_in ~ LXV_Pressure_hp', asos_snotel_UA_df['2009':'2017']).fit()\n",
    "\n",
    "\n",
    "print(OLS_CMtn_Dewpoint.summary())\n",
    "print(\"\\n ++++++++++++++++++++++++++++++++++++++++++++++++++++++++++++++++++++++++++++++++++ \\n\")\n",
    "print(OLS_CMtnSNTL_Temp.summary())\n",
    "print(\"\\n ++++++++++++++++++++++++++++++++++++++++++++++++++++++++++++++++++++++++++++++++++ \\n\")\n",
    "print(OLS_CMtn_Temperature.summary())\n",
    "print(\"\\n ++++++++++++++++++++++++++++++++++++++++++++++++++++++++++++++++++++++++++++++++++ \\n\")\n",
    "print(OLS_CMtn_WindSpeed.summary())\n",
    "print(\"\\n ++++++++++++++++++++++++++++++++++++++++++++++++++++++++++++++++++++++++++++++++++ \\n\")\n",
    "print(OLS_CMtn_CloudCover.summary())\n",
    "print(\"\\n ++++++++++++++++++++++++++++++++++++++++++++++++++++++++++++++++++++++++++++++++++ \\n\")\n",
    "print(OLS_CMtn_WindDirection.summary())\n",
    "print(\"\\n ++++++++++++++++++++++++++++++++++++++++++++++++++++++++++++++++++++++++++++++++++ \\n\")\n",
    "print(OLS_LXV_12hr_delta_Pressure.summary())\n",
    "print(\"\\n ++++++++++++++++++++++++++++++++++++++++++++++++++++++++++++++++++++++++++++++++++ \\n\")\n",
    "print(OLS_LXV_Pressure.summary())\n",
    "print(\"\\n ++++++++++++++++++++++++++++++++++++++++++++++++++++++++++++++++++++++++++++++++++ \\n\")\n",
    "\n",
    "\n",
    "\n",
    "#['CMtnSNTL_Temp_degC', 'CMtnSNTL_SnowDepth_in', 'CMtn_Temperature_degC',\n",
    "#       'CMtn_Dewpoint_degC', 'CMtn_WindDirection_deg', 'CMtn_WindSpeed_mps',\n",
    "#       'CMtn_CloudCover_oktas', 'CMtn_1hr_Precipitation_mm',\n",
    "#       'LXV_Temperature_degC', 'LXV_Dewpoint_degC'\n",
    "\n",
    "\n",
    "#print(a.rsquared)\n",
    "#print(a.rsquared_adj)\n",
    "#print(a.rsquared_adj)\n",
    "#print(a.fvalue)\n",
    "#print(a.f_pvalue)\n",
    "#print(a.pvalues)\n",
    "print(OLS_CMtn_Dewpoint.params)\n",
    "#qq=sm.qqplot(a.resid, line='r')\n",
    "\n"
   ]
  },
  {
   "cell_type": "markdown",
   "metadata": {},
   "source": [
    "#### Single Variable Summary\n",
    "**Adjusted R:**  \n",
    "OLS_CMtn_Dewpoint: 0.007  \n",
    "OLS_CMtnSNTL_Temp:  -0.002 \n",
    "OLS_CMtn_Temperature: -0.005  \n",
    "OLS_CMtn_WindSpeed:  0.017  \n",
    "OLS_CMtn_CloudCover:  0.000  \n",
    "OLS_CMtn_WindDirection:  -0.004  \n",
    "OLS_LXV_6hr_delta_Pressure:   0.004  \n",
    "OLS_LXV_Pressure:    -0.003  \n",
    "\n",
    "**Prob (F-statistic):**  \n",
    "OLS_CMtn_Dewpoint: 0.139  \n",
    "OLS_CMtnSNTL_Temp: 0.483  \n",
    "OLS_CMtn_Temperature:  0.708  \n",
    "OLS_CMtn_WindSpeed:  0.0466  \n",
    "OLS_CMtn_CloudCover: 0.316 \n",
    "OLS_CMtn_WindDirection:   0.614  \n",
    "OLS_LXV_6hr_delta_Pressure:  0.155  \n",
    "OLS_LXV_Pressure:   0.550 \n",
    "  \n",
    "From this, we can glean that Dewpoint alone likely has the best fit as the adjusted R squared is the highest.  The F statistics such signficant correlations (at 5% confident interval) for only  Dewpoint and Pressure)."
   ]
  },
  {
   "cell_type": "markdown",
   "metadata": {},
   "source": [
    "## Run OLS model with all surface variables only"
   ]
  },
  {
   "cell_type": "code",
   "execution_count": 6,
   "metadata": {},
   "outputs": [
    {
     "name": "stdout",
     "output_type": "stream",
     "text": [
      "['CMtnSNTL_Temp_degC', 'CMtn_Temperature_degC', 'CMtn_Dewpoint_degC', 'CMtn_WindDirection_deg', 'CMtn_WindSpeed_mps', 'CMtn_CloudCover_oktas', 'LXV_Temperature_degC', 'LXV_Dewpoint_degC', 'LXV_Pressure_hp', 'LXV_WindSpeed_mps', 'LXV_WindDirection_deg', 'LXV_CloudCover_oktas', 'LXV_12hr_delta_Pressure_hp']\n",
      "******\n",
      "LXV_Dewpoint_degC\n",
      "CMtn_WindSpeed_mps+ LXV_Dewpoint_degC\n",
      "CMtn_Dewpoint_degC+ CMtn_WindSpeed_mps+ LXV_Dewpoint_degC\n",
      "LXV_12hr_delta_Pressure_hp+ CMtn_Dewpoint_degC+ CMtn_WindSpeed_mps+ LXV_Dewpoint_degC\n",
      "CMtn_Temperature_degC+ LXV_12hr_delta_Pressure_hp+ CMtn_Dewpoint_degC+ CMtn_WindSpeed_mps+ LXV_Dewpoint_degC\n",
      "LXV_WindDirection_deg+ CMtn_Temperature_degC+ LXV_12hr_delta_Pressure_hp+ CMtn_Dewpoint_degC+ CMtn_WindSpeed_mps+ LXV_Dewpoint_degC\n",
      "LXV_Temperature_degC+ LXV_WindDirection_deg+ CMtn_Temperature_degC+ LXV_12hr_delta_Pressure_hp+ CMtn_Dewpoint_degC+ CMtn_WindSpeed_mps+ LXV_Dewpoint_degC\n",
      "CMtnSNTL_Temp_degC+ LXV_Temperature_degC+ LXV_WindDirection_deg+ CMtn_Temperature_degC+ LXV_12hr_delta_Pressure_hp+ CMtn_Dewpoint_degC+ CMtn_WindSpeed_mps+ LXV_Dewpoint_degC\n",
      "CMtn_WindDirection_deg+ CMtnSNTL_Temp_degC+ LXV_Temperature_degC+ LXV_WindDirection_deg+ CMtn_Temperature_degC+ LXV_12hr_delta_Pressure_hp+ CMtn_Dewpoint_degC+ CMtn_WindSpeed_mps+ LXV_Dewpoint_degC\n",
      "LXV_WindSpeed_mps+ CMtn_WindDirection_deg+ CMtnSNTL_Temp_degC+ LXV_Temperature_degC+ LXV_WindDirection_deg+ CMtn_Temperature_degC+ LXV_12hr_delta_Pressure_hp+ CMtn_Dewpoint_degC+ CMtn_WindSpeed_mps+ LXV_Dewpoint_degC\n",
      "LXV_Pressure_hp+ LXV_WindSpeed_mps+ CMtn_WindDirection_deg+ CMtnSNTL_Temp_degC+ LXV_Temperature_degC+ LXV_WindDirection_deg+ CMtn_Temperature_degC+ LXV_12hr_delta_Pressure_hp+ CMtn_Dewpoint_degC+ CMtn_WindSpeed_mps+ LXV_Dewpoint_degC\n",
      "LXV_CloudCover_oktas+ LXV_Pressure_hp+ LXV_WindSpeed_mps+ CMtn_WindDirection_deg+ CMtnSNTL_Temp_degC+ LXV_Temperature_degC+ LXV_WindDirection_deg+ CMtn_Temperature_degC+ LXV_12hr_delta_Pressure_hp+ CMtn_Dewpoint_degC+ CMtn_WindSpeed_mps+ LXV_Dewpoint_degC\n",
      "CMtn_CloudCover_oktas+ LXV_CloudCover_oktas+ LXV_Pressure_hp+ LXV_WindSpeed_mps+ CMtn_WindDirection_deg+ CMtnSNTL_Temp_degC+ LXV_Temperature_degC+ LXV_WindDirection_deg+ CMtn_Temperature_degC+ LXV_12hr_delta_Pressure_hp+ CMtn_Dewpoint_degC+ CMtn_WindSpeed_mps+ LXV_Dewpoint_degC\n",
      "[0.01660935718263923, 0.037882151029688504, 0.04793113205395161, 0.05306885958083196, 0.056345074523644234, 0.05242327800966984, 0.04981572190103667, 0.04392328126341327, 0.03766829984103626, 0.03101977055391303, 0.024151532427063693, -0.03501695162647689, -0.0654137471584233]\n",
      "['LXV_Dewpoint_degC', 'CMtn_WindSpeed_mps+ LXV_Dewpoint_degC', 'CMtn_Dewpoint_degC+ CMtn_WindSpeed_mps+ LXV_Dewpoint_degC', 'LXV_12hr_delta_Pressure_hp+ CMtn_Dewpoint_degC+ CMtn_WindSpeed_mps+ LXV_Dewpoint_degC', 'CMtn_Temperature_degC+ LXV_12hr_delta_Pressure_hp+ CMtn_Dewpoint_degC+ CMtn_WindSpeed_mps+ LXV_Dewpoint_degC', 'LXV_WindDirection_deg+ CMtn_Temperature_degC+ LXV_12hr_delta_Pressure_hp+ CMtn_Dewpoint_degC+ CMtn_WindSpeed_mps+ LXV_Dewpoint_degC', 'LXV_Temperature_degC+ LXV_WindDirection_deg+ CMtn_Temperature_degC+ LXV_12hr_delta_Pressure_hp+ CMtn_Dewpoint_degC+ CMtn_WindSpeed_mps+ LXV_Dewpoint_degC', 'CMtnSNTL_Temp_degC+ LXV_Temperature_degC+ LXV_WindDirection_deg+ CMtn_Temperature_degC+ LXV_12hr_delta_Pressure_hp+ CMtn_Dewpoint_degC+ CMtn_WindSpeed_mps+ LXV_Dewpoint_degC', 'CMtn_WindDirection_deg+ CMtnSNTL_Temp_degC+ LXV_Temperature_degC+ LXV_WindDirection_deg+ CMtn_Temperature_degC+ LXV_12hr_delta_Pressure_hp+ CMtn_Dewpoint_degC+ CMtn_WindSpeed_mps+ LXV_Dewpoint_degC', 'LXV_WindSpeed_mps+ CMtn_WindDirection_deg+ CMtnSNTL_Temp_degC+ LXV_Temperature_degC+ LXV_WindDirection_deg+ CMtn_Temperature_degC+ LXV_12hr_delta_Pressure_hp+ CMtn_Dewpoint_degC+ CMtn_WindSpeed_mps+ LXV_Dewpoint_degC', 'LXV_Pressure_hp+ LXV_WindSpeed_mps+ CMtn_WindDirection_deg+ CMtnSNTL_Temp_degC+ LXV_Temperature_degC+ LXV_WindDirection_deg+ CMtn_Temperature_degC+ LXV_12hr_delta_Pressure_hp+ CMtn_Dewpoint_degC+ CMtn_WindSpeed_mps+ LXV_Dewpoint_degC', 'LXV_CloudCover_oktas+ LXV_Pressure_hp+ LXV_WindSpeed_mps+ CMtn_WindDirection_deg+ CMtnSNTL_Temp_degC+ LXV_Temperature_degC+ LXV_WindDirection_deg+ CMtn_Temperature_degC+ LXV_12hr_delta_Pressure_hp+ CMtn_Dewpoint_degC+ CMtn_WindSpeed_mps+ LXV_Dewpoint_degC', 'CMtn_CloudCover_oktas+ LXV_CloudCover_oktas+ LXV_Pressure_hp+ LXV_WindSpeed_mps+ CMtn_WindDirection_deg+ CMtnSNTL_Temp_degC+ LXV_Temperature_degC+ LXV_WindDirection_deg+ CMtn_Temperature_degC+ LXV_12hr_delta_Pressure_hp+ CMtn_Dewpoint_degC+ CMtn_WindSpeed_mps+ LXV_Dewpoint_degC']\n",
      "[0.030067899806457916, 0.020058155930394145, 0.015653039655659867, 0.016640386813465673, 0.018526939013490853, 0.03045517727243359, 0.043151484623612256, 0.06858549749820352, 0.10369977744642382, 0.15014392310237756, 0.20755221586852382, 0.5829645980784939, 0.6720261577840827]\n",
      "OrderedDict([('LXV_Dewpoint_degC', (0.01660935718263923, 0.030067899806457916)), ('CMtn_WindSpeed_mps+ LXV_Dewpoint_degC', (0.037882151029688504, 0.020058155930394145)), ('CMtn_Dewpoint_degC+ CMtn_WindSpeed_mps+ LXV_Dewpoint_degC', (0.04793113205395161, 0.015653039655659867)), ('LXV_12hr_delta_Pressure_hp+ CMtn_Dewpoint_degC+ CMtn_WindSpeed_mps+ LXV_Dewpoint_degC', (0.05306885958083196, 0.016640386813465673)), ('CMtn_Temperature_degC+ LXV_12hr_delta_Pressure_hp+ CMtn_Dewpoint_degC+ CMtn_WindSpeed_mps+ LXV_Dewpoint_degC', (0.056345074523644234, 0.018526939013490853)), ('LXV_WindDirection_deg+ CMtn_Temperature_degC+ LXV_12hr_delta_Pressure_hp+ CMtn_Dewpoint_degC+ CMtn_WindSpeed_mps+ LXV_Dewpoint_degC', (0.05242327800966984, 0.03045517727243359)), ('LXV_Temperature_degC+ LXV_WindDirection_deg+ CMtn_Temperature_degC+ LXV_12hr_delta_Pressure_hp+ CMtn_Dewpoint_degC+ CMtn_WindSpeed_mps+ LXV_Dewpoint_degC', (0.04981572190103667, 0.043151484623612256)), ('CMtnSNTL_Temp_degC+ LXV_Temperature_degC+ LXV_WindDirection_deg+ CMtn_Temperature_degC+ LXV_12hr_delta_Pressure_hp+ CMtn_Dewpoint_degC+ CMtn_WindSpeed_mps+ LXV_Dewpoint_degC', (0.04392328126341327, 0.06858549749820352)), ('CMtn_WindDirection_deg+ CMtnSNTL_Temp_degC+ LXV_Temperature_degC+ LXV_WindDirection_deg+ CMtn_Temperature_degC+ LXV_12hr_delta_Pressure_hp+ CMtn_Dewpoint_degC+ CMtn_WindSpeed_mps+ LXV_Dewpoint_degC', (0.03766829984103626, 0.10369977744642382)), ('LXV_WindSpeed_mps+ CMtn_WindDirection_deg+ CMtnSNTL_Temp_degC+ LXV_Temperature_degC+ LXV_WindDirection_deg+ CMtn_Temperature_degC+ LXV_12hr_delta_Pressure_hp+ CMtn_Dewpoint_degC+ CMtn_WindSpeed_mps+ LXV_Dewpoint_degC', (0.03101977055391303, 0.15014392310237756)), ('LXV_Pressure_hp+ LXV_WindSpeed_mps+ CMtn_WindDirection_deg+ CMtnSNTL_Temp_degC+ LXV_Temperature_degC+ LXV_WindDirection_deg+ CMtn_Temperature_degC+ LXV_12hr_delta_Pressure_hp+ CMtn_Dewpoint_degC+ CMtn_WindSpeed_mps+ LXV_Dewpoint_degC', (0.024151532427063693, 0.20755221586852382)), ('LXV_CloudCover_oktas+ LXV_Pressure_hp+ LXV_WindSpeed_mps+ CMtn_WindDirection_deg+ CMtnSNTL_Temp_degC+ LXV_Temperature_degC+ LXV_WindDirection_deg+ CMtn_Temperature_degC+ LXV_12hr_delta_Pressure_hp+ CMtn_Dewpoint_degC+ CMtn_WindSpeed_mps+ LXV_Dewpoint_degC', (-0.03501695162647689, 0.5829645980784939)), ('CMtn_CloudCover_oktas+ LXV_CloudCover_oktas+ LXV_Pressure_hp+ LXV_WindSpeed_mps+ CMtn_WindDirection_deg+ CMtnSNTL_Temp_degC+ LXV_Temperature_degC+ LXV_WindDirection_deg+ CMtn_Temperature_degC+ LXV_12hr_delta_Pressure_hp+ CMtn_Dewpoint_degC+ CMtn_WindSpeed_mps+ LXV_Dewpoint_degC', (-0.0654137471584233, 0.6720261577840827))])\n"
     ]
    }
   ],
   "source": [
    "#'CMtn_1hr_Precipitation_mm', 'CMtn_6hr_Precipitation_mm'\n",
    "\n",
    "\n",
    "variables = ['CMtnSNTL_Temp_degC', 'CMtn_Temperature_degC', 'CMtn_Dewpoint_degC', 'CMtn_WindDirection_deg', 'CMtn_WindSpeed_mps', 'CMtn_CloudCover_oktas', \\\n",
    " 'LXV_Temperature_degC', 'LXV_Dewpoint_degC', 'LXV_Pressure_hp', 'LXV_WindSpeed_mps', 'LXV_WindDirection_deg', 'LXV_CloudCover_oktas', 'LXV_12hr_delta_Pressure_hp']\n",
    "from collections import OrderedDict\n",
    "\n",
    "variables_org = variables\n",
    "print(variables)\n",
    "\n",
    "print('******')\n",
    "adjRs = []\n",
    "newRs = []\n",
    "dup_var = []\n",
    "max_vars = []\n",
    "f_pvalues = []\n",
    "\n",
    "while variables != []:\n",
    "  #print(variables)\n",
    "  for var in variables:\n",
    "\n",
    "        \n",
    "    #print(variables)\n",
    "    max_var = max(variables, key = lambda v: ols('CMtnSNTL_Upcoming12hrSNOWFALL_gte3_in ~' + v, asos_snotel_UA_df['2009':'2017']).fit().rsquared_adj)    #this finds OLS model run with highest adj R squared\n",
    "    OLS = ols('CMtnSNTL_Upcoming12hrSNOWFALL_gte3_in ~' + max_var, asos_snotel_UA_df['2009':'2017']).fit()\n",
    "    \n",
    "    print(max_var)\n",
    "    #print(max_var)\n",
    "    #print(OLS.rsquared)\n",
    "    \n",
    "    #Create lists of statistics for each combination of variables modeld\n",
    "    adjRs.append(OLS.rsquared_adj)\n",
    "    f_pvalues.append(OLS.f_pvalue)\n",
    "    max_vars.append(max_var)\n",
    "\n",
    "    add_max_var = '+ '+ max_var\n",
    "    \n",
    "    variables = [s + add_max_var for s in variables_org]\n",
    "    \n",
    "    #The above for loop naturally will create a duplicate variable, which should be removed\n",
    "    for v in variables_org: \n",
    "      dup_var = []\n",
    "      dup_var = [var for var in variables if var.count(v)>1]\n",
    "      if dup_var!=[]:\n",
    "            for dup in dup_var: variables.remove(dup)\n",
    "\n",
    "#combine the modeled variable sequences with respective stats  \n",
    "stats = list(zip(adjRs, f_pvalues))    # create list of tuples\n",
    "dictionary = OrderedDict(zip(max_vars, stats))\n",
    "#dictionary_adjRs = OrderedDict(zip(max_vars, f_pvalues))\n",
    "print(adjRs)\n",
    "print(max_vars)\n",
    "print(f_pvalues)\n",
    "print(dictionary)\n"
   ]
  },
  {
   "cell_type": "code",
   "execution_count": 7,
   "metadata": {},
   "outputs": [
    {
     "data": {
      "text/plain": [
       "[<matplotlib.lines.Line2D at 0xea61830>]"
      ]
     },
     "execution_count": 7,
     "metadata": {},
     "output_type": "execute_result"
    },
    {
     "data": {
      "image/png": "[encoded data removed]",
      "text/plain": [
       "<Figure size 432x288 with 1 Axes>"
      ]
     },
     "metadata": {},
     "output_type": "display_data"
    }
   ],
   "source": [
    "plt.plot(adjRs)"
   ]
  },
  {
   "cell_type": "code",
   "execution_count": 8,
   "metadata": {},
   "outputs": [
    {
     "data": {
      "text/plain": [
       "[<matplotlib.lines.Line2D at 0xeb6ef30>]"
      ]
     },
     "execution_count": 8,
     "metadata": {},
     "output_type": "execute_result"
    },
    {
     "data": {
      "image/png": "[encoded data removed]",
      "text/plain": [
       "<Figure size 432x288 with 1 Axes>"
      ]
     },
     "metadata": {},
     "output_type": "display_data"
    }
   ],
   "source": [
    "plt.plot(f_pvalues)"
   ]
  },
  {
   "cell_type": "code",
   "execution_count": 22,
   "metadata": {},
   "outputs": [
    {
     "name": "stdout",
     "output_type": "stream",
     "text": [
      "Variables with >= 67% data match to snowfall: \n",
      "['CMtnSNTL_Temp_degC', 'CMtn_Temperature_degC', 'CMtn_Dewpoint_degC', 'CMtn_WindDirection_deg', 'CMtn_WindSpeed_mps', 'LXV_Temperature_degC', 'LXV_Dewpoint_degC', 'LXV_Pressure_hp', 'LXV_WindSpeed_mps', 'LXV_WindDirection_deg', 'LXV_12hr_delta_Pressure_hp']\n",
      "Variables with < 67% data match to snowfall: \n",
      "['CMtn_CloudCover_oktas', 'LXV_CloudCover_oktas']\n"
     ]
    }
   ],
   "source": [
    "variables = ['CMtnSNTL_Temp_degC', 'CMtn_Temperature_degC', 'CMtn_Dewpoint_degC', 'CMtn_WindDirection_deg', 'CMtn_WindSpeed_mps', 'CMtn_CloudCover_oktas', \\\n",
    " 'LXV_Temperature_degC', 'LXV_Dewpoint_degC', 'LXV_Pressure_hp', 'LXV_WindSpeed_mps', 'LXV_WindDirection_deg', 'LXV_CloudCover_oktas', 'LXV_12hr_delta_Pressure_hp']\n",
    "\n",
    "good_vars = []\n",
    "bad_vars = []\n",
    "for var in variables:\n",
    "    idx = np.isfinite(asos_snotel_UA_df['2009':'2017']['CMtnSNTL_Upcoming12hrSNOWFALL_gte3_in']) & np.isfinite(asos_snotel_UA_df['2009':'2017'][var])\n",
    "    total_poss = len(asos_snotel_UA_df['2009':'2017']['CMtnSNTL_Upcoming12hrSNOWFALL_gte3_in'][asos_snotel_UA_df['2009':'2017']['CMtnSNTL_Upcoming12hrSNOWFALL_gte3_in']>=0])\n",
    "    total_avail =len(asos_snotel_UA_df['2009':'2017'][idx])\n",
    "    if total_avail/total_poss >= 0.67: \n",
    "        good_vars.append(var)\n",
    "    else:\n",
    "        bad_vars.append(var)\n",
    "        \n",
    "print('Variables with >= 67% data match to snowfall: ')\n",
    "print(good_vars)\n",
    "print('Variables with < 67% data match to snowfall: ')\n",
    "print(bad_vars)\n",
    "    "
   ]
  },
  {
   "cell_type": "markdown",
   "metadata": {},
   "source": [
    "**Now rerun model with just the good variables**"
   ]
  },
  {
   "cell_type": "code",
   "execution_count": 23,
   "metadata": {},
   "outputs": [
    {
     "name": "stdout",
     "output_type": "stream",
     "text": [
      "['CMtnSNTL_Temp_degC', 'CMtn_Temperature_degC', 'CMtn_Dewpoint_degC', 'CMtn_WindDirection_deg', 'CMtn_WindSpeed_mps', 'LXV_Temperature_degC', 'LXV_Dewpoint_degC', 'LXV_Pressure_hp', 'LXV_WindSpeed_mps', 'LXV_WindDirection_deg', 'LXV_12hr_delta_Pressure_hp']\n",
      "******\n",
      "LXV_Dewpoint_degC\n",
      "CMtn_WindSpeed_mps+ LXV_Dewpoint_degC\n",
      "CMtn_Dewpoint_degC+ CMtn_WindSpeed_mps+ LXV_Dewpoint_degC\n",
      "LXV_12hr_delta_Pressure_hp+ CMtn_Dewpoint_degC+ CMtn_WindSpeed_mps+ LXV_Dewpoint_degC\n",
      "CMtn_Temperature_degC+ LXV_12hr_delta_Pressure_hp+ CMtn_Dewpoint_degC+ CMtn_WindSpeed_mps+ LXV_Dewpoint_degC\n",
      "LXV_WindDirection_deg+ CMtn_Temperature_degC+ LXV_12hr_delta_Pressure_hp+ CMtn_Dewpoint_degC+ CMtn_WindSpeed_mps+ LXV_Dewpoint_degC\n",
      "LXV_Temperature_degC+ LXV_WindDirection_deg+ CMtn_Temperature_degC+ LXV_12hr_delta_Pressure_hp+ CMtn_Dewpoint_degC+ CMtn_WindSpeed_mps+ LXV_Dewpoint_degC\n",
      "CMtnSNTL_Temp_degC+ LXV_Temperature_degC+ LXV_WindDirection_deg+ CMtn_Temperature_degC+ LXV_12hr_delta_Pressure_hp+ CMtn_Dewpoint_degC+ CMtn_WindSpeed_mps+ LXV_Dewpoint_degC\n",
      "CMtn_WindDirection_deg+ CMtnSNTL_Temp_degC+ LXV_Temperature_degC+ LXV_WindDirection_deg+ CMtn_Temperature_degC+ LXV_12hr_delta_Pressure_hp+ CMtn_Dewpoint_degC+ CMtn_WindSpeed_mps+ LXV_Dewpoint_degC\n",
      "LXV_WindSpeed_mps+ CMtn_WindDirection_deg+ CMtnSNTL_Temp_degC+ LXV_Temperature_degC+ LXV_WindDirection_deg+ CMtn_Temperature_degC+ LXV_12hr_delta_Pressure_hp+ CMtn_Dewpoint_degC+ CMtn_WindSpeed_mps+ LXV_Dewpoint_degC\n",
      "LXV_Pressure_hp+ LXV_WindSpeed_mps+ CMtn_WindDirection_deg+ CMtnSNTL_Temp_degC+ LXV_Temperature_degC+ LXV_WindDirection_deg+ CMtn_Temperature_degC+ LXV_12hr_delta_Pressure_hp+ CMtn_Dewpoint_degC+ CMtn_WindSpeed_mps+ LXV_Dewpoint_degC\n",
      "[0.01660935718263923, 0.037882151029688504, 0.04793113205395161, 0.05306885958083196, 0.056345074523644234, 0.05242327800966984, 0.04981572190103667, 0.04392328126341327, 0.03766829984103626, 0.03101977055391303, 0.024151532427063693]\n",
      "['LXV_Dewpoint_degC', 'CMtn_WindSpeed_mps+ LXV_Dewpoint_degC', 'CMtn_Dewpoint_degC+ CMtn_WindSpeed_mps+ LXV_Dewpoint_degC', 'LXV_12hr_delta_Pressure_hp+ CMtn_Dewpoint_degC+ CMtn_WindSpeed_mps+ LXV_Dewpoint_degC', 'CMtn_Temperature_degC+ LXV_12hr_delta_Pressure_hp+ CMtn_Dewpoint_degC+ CMtn_WindSpeed_mps+ LXV_Dewpoint_degC', 'LXV_WindDirection_deg+ CMtn_Temperature_degC+ LXV_12hr_delta_Pressure_hp+ CMtn_Dewpoint_degC+ CMtn_WindSpeed_mps+ LXV_Dewpoint_degC', 'LXV_Temperature_degC+ LXV_WindDirection_deg+ CMtn_Temperature_degC+ LXV_12hr_delta_Pressure_hp+ CMtn_Dewpoint_degC+ CMtn_WindSpeed_mps+ LXV_Dewpoint_degC', 'CMtnSNTL_Temp_degC+ LXV_Temperature_degC+ LXV_WindDirection_deg+ CMtn_Temperature_degC+ LXV_12hr_delta_Pressure_hp+ CMtn_Dewpoint_degC+ CMtn_WindSpeed_mps+ LXV_Dewpoint_degC', 'CMtn_WindDirection_deg+ CMtnSNTL_Temp_degC+ LXV_Temperature_degC+ LXV_WindDirection_deg+ CMtn_Temperature_degC+ LXV_12hr_delta_Pressure_hp+ CMtn_Dewpoint_degC+ CMtn_WindSpeed_mps+ LXV_Dewpoint_degC', 'LXV_WindSpeed_mps+ CMtn_WindDirection_deg+ CMtnSNTL_Temp_degC+ LXV_Temperature_degC+ LXV_WindDirection_deg+ CMtn_Temperature_degC+ LXV_12hr_delta_Pressure_hp+ CMtn_Dewpoint_degC+ CMtn_WindSpeed_mps+ LXV_Dewpoint_degC', 'LXV_Pressure_hp+ LXV_WindSpeed_mps+ CMtn_WindDirection_deg+ CMtnSNTL_Temp_degC+ LXV_Temperature_degC+ LXV_WindDirection_deg+ CMtn_Temperature_degC+ LXV_12hr_delta_Pressure_hp+ CMtn_Dewpoint_degC+ CMtn_WindSpeed_mps+ LXV_Dewpoint_degC']\n",
      "[0.030067899806457916, 0.020058155930394145, 0.015653039655659867, 0.016640386813465673, 0.018526939013490853, 0.03045517727243359, 0.043151484623612256, 0.06858549749820352, 0.10369977744642382, 0.15014392310237756, 0.20755221586852382]\n",
      "OrderedDict([('LXV_Dewpoint_degC', (0.01660935718263923, 0.030067899806457916)), ('CMtn_WindSpeed_mps+ LXV_Dewpoint_degC', (0.037882151029688504, 0.020058155930394145)), ('CMtn_Dewpoint_degC+ CMtn_WindSpeed_mps+ LXV_Dewpoint_degC', (0.04793113205395161, 0.015653039655659867)), ('LXV_12hr_delta_Pressure_hp+ CMtn_Dewpoint_degC+ CMtn_WindSpeed_mps+ LXV_Dewpoint_degC', (0.05306885958083196, 0.016640386813465673)), ('CMtn_Temperature_degC+ LXV_12hr_delta_Pressure_hp+ CMtn_Dewpoint_degC+ CMtn_WindSpeed_mps+ LXV_Dewpoint_degC', (0.056345074523644234, 0.018526939013490853)), ('LXV_WindDirection_deg+ CMtn_Temperature_degC+ LXV_12hr_delta_Pressure_hp+ CMtn_Dewpoint_degC+ CMtn_WindSpeed_mps+ LXV_Dewpoint_degC', (0.05242327800966984, 0.03045517727243359)), ('LXV_Temperature_degC+ LXV_WindDirection_deg+ CMtn_Temperature_degC+ LXV_12hr_delta_Pressure_hp+ CMtn_Dewpoint_degC+ CMtn_WindSpeed_mps+ LXV_Dewpoint_degC', (0.04981572190103667, 0.043151484623612256)), ('CMtnSNTL_Temp_degC+ LXV_Temperature_degC+ LXV_WindDirection_deg+ CMtn_Temperature_degC+ LXV_12hr_delta_Pressure_hp+ CMtn_Dewpoint_degC+ CMtn_WindSpeed_mps+ LXV_Dewpoint_degC', (0.04392328126341327, 0.06858549749820352)), ('CMtn_WindDirection_deg+ CMtnSNTL_Temp_degC+ LXV_Temperature_degC+ LXV_WindDirection_deg+ CMtn_Temperature_degC+ LXV_12hr_delta_Pressure_hp+ CMtn_Dewpoint_degC+ CMtn_WindSpeed_mps+ LXV_Dewpoint_degC', (0.03766829984103626, 0.10369977744642382)), ('LXV_WindSpeed_mps+ CMtn_WindDirection_deg+ CMtnSNTL_Temp_degC+ LXV_Temperature_degC+ LXV_WindDirection_deg+ CMtn_Temperature_degC+ LXV_12hr_delta_Pressure_hp+ CMtn_Dewpoint_degC+ CMtn_WindSpeed_mps+ LXV_Dewpoint_degC', (0.03101977055391303, 0.15014392310237756)), ('LXV_Pressure_hp+ LXV_WindSpeed_mps+ CMtn_WindDirection_deg+ CMtnSNTL_Temp_degC+ LXV_Temperature_degC+ LXV_WindDirection_deg+ CMtn_Temperature_degC+ LXV_12hr_delta_Pressure_hp+ CMtn_Dewpoint_degC+ CMtn_WindSpeed_mps+ LXV_Dewpoint_degC', (0.024151532427063693, 0.20755221586852382))])\n"
     ]
    }
   ],
   "source": [
    "from collections import OrderedDict\n",
    "\n",
    "variables = good_vars\n",
    "variables_org = variables\n",
    "print(variables)\n",
    "\n",
    "print('******')\n",
    "adjRs = []\n",
    "newRs = []\n",
    "dup_var = []\n",
    "max_vars = []\n",
    "f_pvalues = []\n",
    "\n",
    "while variables != []:\n",
    "  #print(variables)\n",
    "  for var in variables:\n",
    "\n",
    "        \n",
    "    #print(variables)\n",
    "    max_var = max(variables, key = lambda v: ols('CMtnSNTL_Upcoming12hrSNOWFALL_gte3_in ~' + v, asos_snotel_UA_df['2009':'2017']).fit().rsquared_adj)    #this finds OLS model run with highest adj R squared\n",
    "    OLS = ols('CMtnSNTL_Upcoming12hrSNOWFALL_gte3_in ~' + max_var, asos_snotel_UA_df['2009':'2017']).fit()\n",
    "    \n",
    "    print(max_var)\n",
    "    #print(max_var)\n",
    "    #print(OLS.rsquared)\n",
    "    \n",
    "    #Create lists of statistics for each combination of variables modeld\n",
    "    adjRs.append(OLS.rsquared_adj)\n",
    "    f_pvalues.append(OLS.f_pvalue)\n",
    "    max_vars.append(max_var)\n",
    "\n",
    "    add_max_var = '+ '+ max_var\n",
    "    \n",
    "    variables = [s + add_max_var for s in variables_org]\n",
    "    \n",
    "    #The above for loop naturally will create a duplicate variable, which should be removed\n",
    "    for v in variables_org: \n",
    "      dup_var = []\n",
    "      dup_var = [var for var in variables if var.count(v)>1]\n",
    "      if dup_var!=[]:\n",
    "            for dup in dup_var: variables.remove(dup)\n",
    "\n",
    "#combine the modeled variable sequences with respective stats  \n",
    "stats = list(zip(adjRs, f_pvalues))    # create list of tuples\n",
    "dictionary = OrderedDict(zip(max_vars, stats))\n",
    "#dictionary_adjRs = OrderedDict(zip(max_vars, f_pvalues))\n",
    "print(adjRs)\n",
    "print(max_vars)\n",
    "print(f_pvalues)\n",
    "print(dictionary)"
   ]
  },
  {
   "cell_type": "code",
   "execution_count": 24,
   "metadata": {},
   "outputs": [
    {
     "data": {
      "text/plain": [
       "[<matplotlib.lines.Line2D at 0xf0227b0>]"
      ]
     },
     "execution_count": 24,
     "metadata": {},
     "output_type": "execute_result"
    },
    {
     "data": {
      "image/png": "[encoded data removed]",
      "text/plain": [
       "<Figure size 432x288 with 1 Axes>"
      ]
     },
     "metadata": {},
     "output_type": "display_data"
    }
   ],
   "source": [
    "plt.plot(adjRs)"
   ]
  },
  {
   "cell_type": "code",
   "execution_count": 25,
   "metadata": {},
   "outputs": [
    {
     "data": {
      "text/plain": [
       "[<matplotlib.lines.Line2D at 0xf072810>]"
      ]
     },
     "execution_count": 25,
     "metadata": {},
     "output_type": "execute_result"
    },
    {
     "data": {
      "image/png": "[encoded data removed]",
      "text/plain": [
       "<Figure size 432x288 with 1 Axes>"
      ]
     },
     "metadata": {},
     "output_type": "display_data"
    }
   ],
   "source": [
    "plt.plot(f_pvalues)"
   ]
  },
  {
   "cell_type": "markdown",
   "metadata": {},
   "source": [
    "**Print adjusted R and F stat probabilities in order**"
   ]
  },
  {
   "cell_type": "code",
   "execution_count": 26,
   "metadata": {},
   "outputs": [
    {
     "name": "stdout",
     "output_type": "stream",
     "text": [
      "0 LXV_Dewpoint_degC \n",
      " Adjusted R: 0.01660935718263923  Fstat(prob): 0.030067899806457916\n",
      "\n",
      "1 CMtn_WindSpeed_mps+ LXV_Dewpoint_degC \n",
      " Adjusted R: 0.037882151029688504  Fstat(prob): 0.020058155930394145\n",
      "\n",
      "2 CMtn_Dewpoint_degC+ CMtn_WindSpeed_mps+ LXV_Dewpoint_degC \n",
      " Adjusted R: 0.04793113205395161  Fstat(prob): 0.015653039655659867\n",
      "\n",
      "3 LXV_12hr_delta_Pressure_hp+ CMtn_Dewpoint_degC+ CMtn_WindSpeed_mps+ LXV_Dewpoint_degC \n",
      " Adjusted R: 0.05306885958083196  Fstat(prob): 0.016640386813465673\n",
      "\n",
      "4 CMtn_Temperature_degC+ LXV_12hr_delta_Pressure_hp+ CMtn_Dewpoint_degC+ CMtn_WindSpeed_mps+ LXV_Dewpoint_degC \n",
      " Adjusted R: 0.056345074523644234  Fstat(prob): 0.018526939013490853\n",
      "\n",
      "5 LXV_WindDirection_deg+ CMtn_Temperature_degC+ LXV_12hr_delta_Pressure_hp+ CMtn_Dewpoint_degC+ CMtn_WindSpeed_mps+ LXV_Dewpoint_degC \n",
      " Adjusted R: 0.05242327800966984  Fstat(prob): 0.03045517727243359\n",
      "\n",
      "6 LXV_Temperature_degC+ LXV_WindDirection_deg+ CMtn_Temperature_degC+ LXV_12hr_delta_Pressure_hp+ CMtn_Dewpoint_degC+ CMtn_WindSpeed_mps+ LXV_Dewpoint_degC \n",
      " Adjusted R: 0.04981572190103667  Fstat(prob): 0.043151484623612256\n",
      "\n",
      "7 CMtnSNTL_Temp_degC+ LXV_Temperature_degC+ LXV_WindDirection_deg+ CMtn_Temperature_degC+ LXV_12hr_delta_Pressure_hp+ CMtn_Dewpoint_degC+ CMtn_WindSpeed_mps+ LXV_Dewpoint_degC \n",
      " Adjusted R: 0.04392328126341327  Fstat(prob): 0.06858549749820352\n",
      "\n",
      "8 CMtn_WindDirection_deg+ CMtnSNTL_Temp_degC+ LXV_Temperature_degC+ LXV_WindDirection_deg+ CMtn_Temperature_degC+ LXV_12hr_delta_Pressure_hp+ CMtn_Dewpoint_degC+ CMtn_WindSpeed_mps+ LXV_Dewpoint_degC \n",
      " Adjusted R: 0.03766829984103626  Fstat(prob): 0.10369977744642382\n",
      "\n",
      "9 LXV_WindSpeed_mps+ CMtn_WindDirection_deg+ CMtnSNTL_Temp_degC+ LXV_Temperature_degC+ LXV_WindDirection_deg+ CMtn_Temperature_degC+ LXV_12hr_delta_Pressure_hp+ CMtn_Dewpoint_degC+ CMtn_WindSpeed_mps+ LXV_Dewpoint_degC \n",
      " Adjusted R: 0.03101977055391303  Fstat(prob): 0.15014392310237756\n",
      "\n",
      "10 LXV_Pressure_hp+ LXV_WindSpeed_mps+ CMtn_WindDirection_deg+ CMtnSNTL_Temp_degC+ LXV_Temperature_degC+ LXV_WindDirection_deg+ CMtn_Temperature_degC+ LXV_12hr_delta_Pressure_hp+ CMtn_Dewpoint_degC+ CMtn_WindSpeed_mps+ LXV_Dewpoint_degC \n",
      " Adjusted R: 0.024151532427063693  Fstat(prob): 0.20755221586852382\n",
      "\n"
     ]
    }
   ],
   "source": [
    "\n",
    "\n",
    "for c in dictionary:\n",
    "    #print(str(dictionary.keys().index(c))+\"{country}: {capital}\".format(country=c, capital=dictionary[c])+\"\\n\")\n",
    "        print(str(list(dictionary.keys()).index(c))+ \" {key} \\n Adjusted R: {adjR}  Fstat(prob): {f_pvalue}\".format(key=c, adjR=dictionary[c][0], f_pvalue = dictionary[c][1])+\"\\n\")\n",
    "        OLS = ols('CMtnSNTL_Upcoming12hrSNOWFALL_gte3_in ~' + c, asos_snotel_UA_df['2009':'2017']).fit()\n",
    "\n"
   ]
  },
  {
   "cell_type": "markdown",
   "metadata": {},
   "source": [
    "**Find max adj R and obtain OLS summary**"
   ]
  },
  {
   "cell_type": "code",
   "execution_count": 27,
   "metadata": {},
   "outputs": [
    {
     "name": "stdout",
     "output_type": "stream",
     "text": [
      "Print maximum:\n",
      "CMtn_Temperature_degC+ LXV_12hr_delta_Pressure_hp+ CMtn_Dewpoint_degC+ CMtn_WindSpeed_mps+ LXV_Dewpoint_degC\n"
     ]
    }
   ],
   "source": [
    " # Just use 'min' instead of 'max' for minimum.\n",
    "print(\"Print maximum:\")\n",
    "maximum = max(dictionary, key=dictionary.get) \n",
    "print(maximum)"
   ]
  },
  {
   "cell_type": "code",
   "execution_count": 28,
   "metadata": {},
   "outputs": [
    {
     "name": "stdout",
     "output_type": "stream",
     "text": [
      "CMtn_Temperature_degC+ LXV_12hr_delta_Pressure_hp+ CMtn_Dewpoint_degC+ CMtn_WindSpeed_mps+ LXV_Dewpoint_degC\n",
      "                                      OLS Regression Results                                     \n",
      "=================================================================================================\n",
      "Dep. Variable:     CMtnSNTL_Upcoming12hrSNOWFALL_gte3_in   R-squared:                       0.087\n",
      "Model:                                               OLS   Adj. R-squared:                  0.056\n",
      "Method:                                    Least Squares   F-statistic:                     2.815\n",
      "Date:                                   Wed, 06 Feb 2019   Prob (F-statistic):             0.0185\n",
      "Time:                                           09:22:31   Log-Likelihood:                -335.29\n",
      "No. Observations:                                    153   AIC:                             682.6\n",
      "Df Residuals:                                        147   BIC:                             700.8\n",
      "Df Model:                                              5                                         \n",
      "Covariance Type:                               nonrobust                                         \n",
      "==============================================================================================\n",
      "                                 coef    std err          t      P>|t|      [0.025      0.975]\n",
      "----------------------------------------------------------------------------------------------\n",
      "Intercept                      4.9280      0.538      9.167      0.000       3.866       5.990\n",
      "CMtn_Temperature_degC         -0.0821      0.067     -1.230      0.221      -0.214       0.050\n",
      "LXV_12hr_delta_Pressure_hp    -0.0655      0.038     -1.731      0.086      -0.140       0.009\n",
      "CMtn_Dewpoint_degC             0.1692      0.092      1.835      0.068      -0.013       0.351\n",
      "CMtn_WindSpeed_mps             0.0952      0.047      2.005      0.047       0.001       0.189\n",
      "LXV_Dewpoint_degC             -0.0041      0.087     -0.047      0.963      -0.175       0.167\n",
      "==============================================================================\n",
      "Omnibus:                       84.337   Durbin-Watson:                   1.940\n",
      "Prob(Omnibus):                  0.000   Jarque-Bera (JB):              352.192\n",
      "Skew:                           2.120   Prob(JB):                     3.33e-77\n",
      "Kurtosis:                       9.105   Cond. No.                         48.1\n",
      "==============================================================================\n",
      "\n",
      "Warnings:\n",
      "[1] Standard Errors assume that the covariance matrix of the errors is correctly specified.\n"
     ]
    }
   ],
   "source": [
    "maximum_all_str = max(dictionary, key=dictionary.get) \n",
    "print(maximum_all_str)\n",
    "\n",
    "maxOLS_all = ols('CMtnSNTL_Upcoming12hrSNOWFALL_gte3_in ~' + maximum_all_str , asos_snotel_UA_df['2009':'2017']).fit() \n",
    "print(maxOLS_all.summary())\n"
   ]
  },
  {
   "cell_type": "markdown",
   "metadata": {},
   "source": [
    "**Print QQ plot**"
   ]
  },
  {
   "cell_type": "code",
   "execution_count": 29,
   "metadata": {},
   "outputs": [
    {
     "data": {
      "image/png": "[encoded data removed]",
      "text/plain": [
       "<Figure size 432x288 with 1 Axes>"
      ]
     },
     "metadata": {},
     "output_type": "display_data"
    }
   ],
   "source": [
    "qq2=sm.qqplot(maxOLS_all.resid, line='r')"
   ]
  },
  {
   "cell_type": "markdown",
   "metadata": {},
   "source": [
    "Let's test different P|t| thresholds for which to remove variables, rerun and model for each set of variables, and see what threshold might glean best results using adjusted R squared as a metric**"
   ]
  },
  {
   "cell_type": "code",
   "execution_count": 30,
   "metadata": {},
   "outputs": [
    {
     "name": "stdout",
     "output_type": "stream",
     "text": [
      "CMtn_Temperature_degC+ LXV_12hr_delta_Pressure_hp+ CMtn_Dewpoint_degC+ CMtn_WindSpeed_mps+ LXV_Dewpoint_degC\n",
      "1\n",
      "CMtn_Temperature_degC -0.005338870324078204 0.01\n",
      "2\n",
      "CMtn_Temperature_degC -0.005338870324078204 0.02\n",
      "3\n",
      "CMtn_Temperature_degC -0.005338870324078204 0.03\n",
      "4\n",
      "CMtn_Temperature_degC -0.005338870324078204 0.04\n",
      "5\n",
      "CMtn_Temperature_degC+ CMtn_WindSpeed_mps 0.008026141442332935 0.05\n",
      "0.008026141442332935 0.05\n",
      "6\n",
      "CMtn_Temperature_degC+ CMtn_WindSpeed_mps 0.008026141442332935 0.06\n",
      "7\n",
      "CMtn_Temperature_degC+ CMtn_Dewpoint_degC+ CMtn_WindSpeed_mps 0.04584897825937595 0.07\n",
      "0.04584897825937595 0.07\n",
      "8\n",
      "CMtn_Temperature_degC+ CMtn_Dewpoint_degC+ CMtn_WindSpeed_mps 0.04584897825937595 0.08\n",
      "9\n",
      "CMtn_Temperature_degC+ LXV_12hr_delta_Pressure_hp+ CMtn_Dewpoint_degC+ CMtn_WindSpeed_mps 0.06270715926790749 0.09\n",
      "0.06270715926790749 0.09\n",
      "10\n",
      "CMtn_Temperature_degC+ LXV_12hr_delta_Pressure_hp+ CMtn_Dewpoint_degC+ CMtn_WindSpeed_mps 0.06270715926790749 0.1\n",
      "11\n",
      "CMtn_Temperature_degC+ LXV_12hr_delta_Pressure_hp+ CMtn_Dewpoint_degC+ CMtn_WindSpeed_mps 0.06270715926790749 0.11\n",
      "12\n",
      "CMtn_Temperature_degC+ LXV_12hr_delta_Pressure_hp+ CMtn_Dewpoint_degC+ CMtn_WindSpeed_mps 0.06270715926790749 0.12\n",
      "13\n",
      "CMtn_Temperature_degC+ LXV_12hr_delta_Pressure_hp+ CMtn_Dewpoint_degC+ CMtn_WindSpeed_mps 0.06270715926790749 0.13\n",
      "14\n",
      "CMtn_Temperature_degC+ LXV_12hr_delta_Pressure_hp+ CMtn_Dewpoint_degC+ CMtn_WindSpeed_mps 0.06270715926790749 0.14\n",
      "15\n",
      "CMtn_Temperature_degC+ LXV_12hr_delta_Pressure_hp+ CMtn_Dewpoint_degC+ CMtn_WindSpeed_mps 0.06270715926790749 0.15\n",
      "16\n",
      "CMtn_Temperature_degC+ LXV_12hr_delta_Pressure_hp+ CMtn_Dewpoint_degC+ CMtn_WindSpeed_mps 0.06270715926790749 0.16\n",
      "17\n",
      "CMtn_Temperature_degC+ LXV_12hr_delta_Pressure_hp+ CMtn_Dewpoint_degC+ CMtn_WindSpeed_mps 0.06270715926790749 0.17\n",
      "18\n",
      "CMtn_Temperature_degC+ LXV_12hr_delta_Pressure_hp+ CMtn_Dewpoint_degC+ CMtn_WindSpeed_mps 0.06270715926790749 0.18\n",
      "19\n",
      "CMtn_Temperature_degC+ LXV_12hr_delta_Pressure_hp+ CMtn_Dewpoint_degC+ CMtn_WindSpeed_mps 0.06270715926790749 0.19\n",
      "20\n",
      "CMtn_Temperature_degC+ LXV_12hr_delta_Pressure_hp+ CMtn_Dewpoint_degC+ CMtn_WindSpeed_mps 0.06270715926790749 0.2\n",
      "21\n",
      "CMtn_Temperature_degC+ LXV_12hr_delta_Pressure_hp+ CMtn_Dewpoint_degC+ CMtn_WindSpeed_mps 0.06270715926790749 0.21\n",
      "22\n",
      "CMtn_Temperature_degC+ LXV_12hr_delta_Pressure_hp+ CMtn_Dewpoint_degC+ CMtn_WindSpeed_mps 0.06270715926790749 0.22\n",
      "23\n",
      "CMtn_Temperature_degC+ LXV_12hr_delta_Pressure_hp+ CMtn_Dewpoint_degC+ CMtn_WindSpeed_mps 0.06270715926790749 0.23\n",
      "24\n",
      "CMtn_Temperature_degC+ LXV_12hr_delta_Pressure_hp+ CMtn_Dewpoint_degC+ CMtn_WindSpeed_mps 0.06270715926790749 0.24\n",
      "25\n",
      "CMtn_Temperature_degC+ LXV_12hr_delta_Pressure_hp+ CMtn_Dewpoint_degC+ CMtn_WindSpeed_mps 0.06270715926790749 0.25\n",
      "26\n",
      "CMtn_Temperature_degC+ LXV_12hr_delta_Pressure_hp+ CMtn_Dewpoint_degC+ CMtn_WindSpeed_mps 0.06270715926790749 0.26\n",
      "27\n",
      "CMtn_Temperature_degC+ LXV_12hr_delta_Pressure_hp+ CMtn_Dewpoint_degC+ CMtn_WindSpeed_mps 0.06270715926790749 0.27\n",
      "28\n",
      "CMtn_Temperature_degC+ LXV_12hr_delta_Pressure_hp+ CMtn_Dewpoint_degC+ CMtn_WindSpeed_mps 0.06270715926790749 0.28\n",
      "29\n",
      "CMtn_Temperature_degC+ LXV_12hr_delta_Pressure_hp+ CMtn_Dewpoint_degC+ CMtn_WindSpeed_mps 0.06270715926790749 0.29\n",
      "30\n",
      "CMtn_Temperature_degC+ LXV_12hr_delta_Pressure_hp+ CMtn_Dewpoint_degC+ CMtn_WindSpeed_mps 0.06270715926790749 0.3\n",
      "31\n",
      "CMtn_Temperature_degC+ LXV_12hr_delta_Pressure_hp+ CMtn_Dewpoint_degC+ CMtn_WindSpeed_mps 0.06270715926790749 0.31\n",
      "32\n",
      "CMtn_Temperature_degC+ LXV_12hr_delta_Pressure_hp+ CMtn_Dewpoint_degC+ CMtn_WindSpeed_mps 0.06270715926790749 0.32\n",
      "33\n",
      "CMtn_Temperature_degC+ LXV_12hr_delta_Pressure_hp+ CMtn_Dewpoint_degC+ CMtn_WindSpeed_mps 0.06270715926790749 0.33\n",
      "34\n",
      "CMtn_Temperature_degC+ LXV_12hr_delta_Pressure_hp+ CMtn_Dewpoint_degC+ CMtn_WindSpeed_mps 0.06270715926790749 0.34\n",
      "35\n",
      "CMtn_Temperature_degC+ LXV_12hr_delta_Pressure_hp+ CMtn_Dewpoint_degC+ CMtn_WindSpeed_mps 0.06270715926790749 0.35000000000000003\n",
      "36\n",
      "CMtn_Temperature_degC+ LXV_12hr_delta_Pressure_hp+ CMtn_Dewpoint_degC+ CMtn_WindSpeed_mps 0.06270715926790749 0.36\n",
      "37\n",
      "CMtn_Temperature_degC+ LXV_12hr_delta_Pressure_hp+ CMtn_Dewpoint_degC+ CMtn_WindSpeed_mps 0.06270715926790749 0.37\n",
      "38\n",
      "CMtn_Temperature_degC+ LXV_12hr_delta_Pressure_hp+ CMtn_Dewpoint_degC+ CMtn_WindSpeed_mps 0.06270715926790749 0.38\n",
      "39\n",
      "CMtn_Temperature_degC+ LXV_12hr_delta_Pressure_hp+ CMtn_Dewpoint_degC+ CMtn_WindSpeed_mps 0.06270715926790749 0.39\n",
      "40\n",
      "CMtn_Temperature_degC+ LXV_12hr_delta_Pressure_hp+ CMtn_Dewpoint_degC+ CMtn_WindSpeed_mps 0.06270715926790749 0.4\n",
      "41\n",
      "CMtn_Temperature_degC+ LXV_12hr_delta_Pressure_hp+ CMtn_Dewpoint_degC+ CMtn_WindSpeed_mps 0.06270715926790749 0.41000000000000003\n",
      "42\n",
      "CMtn_Temperature_degC+ LXV_12hr_delta_Pressure_hp+ CMtn_Dewpoint_degC+ CMtn_WindSpeed_mps 0.06270715926790749 0.42\n",
      "43\n",
      "CMtn_Temperature_degC+ LXV_12hr_delta_Pressure_hp+ CMtn_Dewpoint_degC+ CMtn_WindSpeed_mps 0.06270715926790749 0.43\n",
      "44\n",
      "CMtn_Temperature_degC+ LXV_12hr_delta_Pressure_hp+ CMtn_Dewpoint_degC+ CMtn_WindSpeed_mps 0.06270715926790749 0.44\n",
      "45\n",
      "CMtn_Temperature_degC+ LXV_12hr_delta_Pressure_hp+ CMtn_Dewpoint_degC+ CMtn_WindSpeed_mps 0.06270715926790749 0.45\n",
      "46\n",
      "CMtn_Temperature_degC+ LXV_12hr_delta_Pressure_hp+ CMtn_Dewpoint_degC+ CMtn_WindSpeed_mps 0.06270715926790749 0.46\n",
      "47\n",
      "CMtn_Temperature_degC+ LXV_12hr_delta_Pressure_hp+ CMtn_Dewpoint_degC+ CMtn_WindSpeed_mps 0.06270715926790749 0.47000000000000003\n",
      "48\n",
      "CMtn_Temperature_degC+ LXV_12hr_delta_Pressure_hp+ CMtn_Dewpoint_degC+ CMtn_WindSpeed_mps 0.06270715926790749 0.48\n",
      "49\n",
      "CMtn_Temperature_degC+ LXV_12hr_delta_Pressure_hp+ CMtn_Dewpoint_degC+ CMtn_WindSpeed_mps 0.06270715926790749 0.49\n",
      "50\n",
      "CMtn_Temperature_degC+ LXV_12hr_delta_Pressure_hp+ CMtn_Dewpoint_degC+ CMtn_WindSpeed_mps 0.06270715926790749 0.5\n",
      "51\n",
      "CMtn_Temperature_degC+ LXV_12hr_delta_Pressure_hp+ CMtn_Dewpoint_degC+ CMtn_WindSpeed_mps 0.06270715926790749 0.51\n",
      "52\n",
      "CMtn_Temperature_degC+ LXV_12hr_delta_Pressure_hp+ CMtn_Dewpoint_degC+ CMtn_WindSpeed_mps 0.06270715926790749 0.52\n",
      "53\n",
      "CMtn_Temperature_degC+ LXV_12hr_delta_Pressure_hp+ CMtn_Dewpoint_degC+ CMtn_WindSpeed_mps 0.06270715926790749 0.53\n",
      "54\n",
      "CMtn_Temperature_degC+ LXV_12hr_delta_Pressure_hp+ CMtn_Dewpoint_degC+ CMtn_WindSpeed_mps 0.06270715926790749 0.54\n",
      "55\n",
      "CMtn_Temperature_degC+ LXV_12hr_delta_Pressure_hp+ CMtn_Dewpoint_degC+ CMtn_WindSpeed_mps 0.06270715926790749 0.55\n",
      "56\n",
      "CMtn_Temperature_degC+ LXV_12hr_delta_Pressure_hp+ CMtn_Dewpoint_degC+ CMtn_WindSpeed_mps 0.06270715926790749 0.56\n",
      "57\n",
      "CMtn_Temperature_degC+ LXV_12hr_delta_Pressure_hp+ CMtn_Dewpoint_degC+ CMtn_WindSpeed_mps 0.06270715926790749 0.5700000000000001\n",
      "58\n",
      "CMtn_Temperature_degC+ LXV_12hr_delta_Pressure_hp+ CMtn_Dewpoint_degC+ CMtn_WindSpeed_mps 0.06270715926790749 0.58\n",
      "59\n",
      "CMtn_Temperature_degC+ LXV_12hr_delta_Pressure_hp+ CMtn_Dewpoint_degC+ CMtn_WindSpeed_mps 0.06270715926790749 0.59\n",
      "60\n",
      "CMtn_Temperature_degC+ LXV_12hr_delta_Pressure_hp+ CMtn_Dewpoint_degC+ CMtn_WindSpeed_mps 0.06270715926790749 0.6\n",
      "61\n",
      "CMtn_Temperature_degC+ LXV_12hr_delta_Pressure_hp+ CMtn_Dewpoint_degC+ CMtn_WindSpeed_mps 0.06270715926790749 0.61\n",
      "62\n",
      "CMtn_Temperature_degC+ LXV_12hr_delta_Pressure_hp+ CMtn_Dewpoint_degC+ CMtn_WindSpeed_mps 0.06270715926790749 0.62\n",
      "63\n",
      "CMtn_Temperature_degC+ LXV_12hr_delta_Pressure_hp+ CMtn_Dewpoint_degC+ CMtn_WindSpeed_mps 0.06270715926790749 0.63\n",
      "64\n",
      "CMtn_Temperature_degC+ LXV_12hr_delta_Pressure_hp+ CMtn_Dewpoint_degC+ CMtn_WindSpeed_mps 0.06270715926790749 0.64\n",
      "65\n",
      "CMtn_Temperature_degC+ LXV_12hr_delta_Pressure_hp+ CMtn_Dewpoint_degC+ CMtn_WindSpeed_mps 0.06270715926790749 0.65\n",
      "66\n",
      "CMtn_Temperature_degC+ LXV_12hr_delta_Pressure_hp+ CMtn_Dewpoint_degC+ CMtn_WindSpeed_mps 0.06270715926790749 0.66\n",
      "67\n",
      "CMtn_Temperature_degC+ LXV_12hr_delta_Pressure_hp+ CMtn_Dewpoint_degC+ CMtn_WindSpeed_mps 0.06270715926790749 0.67\n",
      "68\n",
      "CMtn_Temperature_degC+ LXV_12hr_delta_Pressure_hp+ CMtn_Dewpoint_degC+ CMtn_WindSpeed_mps 0.06270715926790749 0.68\n",
      "69\n",
      "CMtn_Temperature_degC+ LXV_12hr_delta_Pressure_hp+ CMtn_Dewpoint_degC+ CMtn_WindSpeed_mps 0.06270715926790749 0.6900000000000001\n",
      "70\n",
      "CMtn_Temperature_degC+ LXV_12hr_delta_Pressure_hp+ CMtn_Dewpoint_degC+ CMtn_WindSpeed_mps 0.06270715926790749 0.7000000000000001\n",
      "71\n",
      "CMtn_Temperature_degC+ LXV_12hr_delta_Pressure_hp+ CMtn_Dewpoint_degC+ CMtn_WindSpeed_mps 0.06270715926790749 0.71\n",
      "72\n"
     ]
    },
    {
     "name": "stdout",
     "output_type": "stream",
     "text": [
      "CMtn_Temperature_degC+ LXV_12hr_delta_Pressure_hp+ CMtn_Dewpoint_degC+ CMtn_WindSpeed_mps 0.06270715926790749 0.72\n",
      "73\n",
      "CMtn_Temperature_degC+ LXV_12hr_delta_Pressure_hp+ CMtn_Dewpoint_degC+ CMtn_WindSpeed_mps 0.06270715926790749 0.73\n",
      "74\n",
      "CMtn_Temperature_degC+ LXV_12hr_delta_Pressure_hp+ CMtn_Dewpoint_degC+ CMtn_WindSpeed_mps 0.06270715926790749 0.74\n",
      "75\n",
      "CMtn_Temperature_degC+ LXV_12hr_delta_Pressure_hp+ CMtn_Dewpoint_degC+ CMtn_WindSpeed_mps 0.06270715926790749 0.75\n",
      "76\n",
      "CMtn_Temperature_degC+ LXV_12hr_delta_Pressure_hp+ CMtn_Dewpoint_degC+ CMtn_WindSpeed_mps 0.06270715926790749 0.76\n",
      "77\n",
      "CMtn_Temperature_degC+ LXV_12hr_delta_Pressure_hp+ CMtn_Dewpoint_degC+ CMtn_WindSpeed_mps 0.06270715926790749 0.77\n",
      "78\n",
      "CMtn_Temperature_degC+ LXV_12hr_delta_Pressure_hp+ CMtn_Dewpoint_degC+ CMtn_WindSpeed_mps 0.06270715926790749 0.78\n",
      "79\n",
      "CMtn_Temperature_degC+ LXV_12hr_delta_Pressure_hp+ CMtn_Dewpoint_degC+ CMtn_WindSpeed_mps 0.06270715926790749 0.79\n",
      "80\n",
      "CMtn_Temperature_degC+ LXV_12hr_delta_Pressure_hp+ CMtn_Dewpoint_degC+ CMtn_WindSpeed_mps 0.06270715926790749 0.8\n",
      "81\n",
      "CMtn_Temperature_degC+ LXV_12hr_delta_Pressure_hp+ CMtn_Dewpoint_degC+ CMtn_WindSpeed_mps 0.06270715926790749 0.81\n",
      "82\n",
      "CMtn_Temperature_degC+ LXV_12hr_delta_Pressure_hp+ CMtn_Dewpoint_degC+ CMtn_WindSpeed_mps 0.06270715926790749 0.8200000000000001\n",
      "83\n",
      "CMtn_Temperature_degC+ LXV_12hr_delta_Pressure_hp+ CMtn_Dewpoint_degC+ CMtn_WindSpeed_mps 0.06270715926790749 0.8300000000000001\n",
      "84\n",
      "CMtn_Temperature_degC+ LXV_12hr_delta_Pressure_hp+ CMtn_Dewpoint_degC+ CMtn_WindSpeed_mps 0.06270715926790749 0.84\n",
      "85\n",
      "CMtn_Temperature_degC+ LXV_12hr_delta_Pressure_hp+ CMtn_Dewpoint_degC+ CMtn_WindSpeed_mps 0.06270715926790749 0.85\n",
      "86\n",
      "CMtn_Temperature_degC+ LXV_12hr_delta_Pressure_hp+ CMtn_Dewpoint_degC+ CMtn_WindSpeed_mps 0.06270715926790749 0.86\n",
      "87\n",
      "CMtn_Temperature_degC+ LXV_12hr_delta_Pressure_hp+ CMtn_Dewpoint_degC+ CMtn_WindSpeed_mps 0.06270715926790749 0.87\n",
      "88\n",
      "CMtn_Temperature_degC+ LXV_12hr_delta_Pressure_hp+ CMtn_Dewpoint_degC+ CMtn_WindSpeed_mps 0.06270715926790749 0.88\n",
      "89\n",
      "CMtn_Temperature_degC+ LXV_12hr_delta_Pressure_hp+ CMtn_Dewpoint_degC+ CMtn_WindSpeed_mps 0.06270715926790749 0.89\n",
      "90\n",
      "CMtn_Temperature_degC+ LXV_12hr_delta_Pressure_hp+ CMtn_Dewpoint_degC+ CMtn_WindSpeed_mps 0.06270715926790749 0.9\n",
      "91\n",
      "CMtn_Temperature_degC+ LXV_12hr_delta_Pressure_hp+ CMtn_Dewpoint_degC+ CMtn_WindSpeed_mps 0.06270715926790749 0.91\n",
      "92\n",
      "CMtn_Temperature_degC+ LXV_12hr_delta_Pressure_hp+ CMtn_Dewpoint_degC+ CMtn_WindSpeed_mps 0.06270715926790749 0.92\n",
      "93\n",
      "CMtn_Temperature_degC+ LXV_12hr_delta_Pressure_hp+ CMtn_Dewpoint_degC+ CMtn_WindSpeed_mps 0.06270715926790749 0.93\n",
      "94\n",
      "CMtn_Temperature_degC+ LXV_12hr_delta_Pressure_hp+ CMtn_Dewpoint_degC+ CMtn_WindSpeed_mps 0.06270715926790749 0.9400000000000001\n",
      "95\n",
      "CMtn_Temperature_degC+ LXV_12hr_delta_Pressure_hp+ CMtn_Dewpoint_degC+ CMtn_WindSpeed_mps 0.06270715926790749 0.9500000000000001\n",
      "96\n",
      "CMtn_Temperature_degC+ LXV_12hr_delta_Pressure_hp+ CMtn_Dewpoint_degC+ CMtn_WindSpeed_mps 0.06270715926790749 0.96\n",
      "97\n",
      "CMtn_Temperature_degC+ LXV_12hr_delta_Pressure_hp+ CMtn_Dewpoint_degC+ CMtn_WindSpeed_mps+ LXV_Dewpoint_degC 0.056345074523644234 0.97\n",
      "98\n",
      "CMtn_Temperature_degC+ LXV_12hr_delta_Pressure_hp+ CMtn_Dewpoint_degC+ CMtn_WindSpeed_mps+ LXV_Dewpoint_degC 0.056345074523644234 0.98\n",
      "99\n",
      "CMtn_Temperature_degC+ LXV_12hr_delta_Pressure_hp+ CMtn_Dewpoint_degC+ CMtn_WindSpeed_mps+ LXV_Dewpoint_degC 0.056345074523644234 0.99\n",
      "\n",
      " best threshold is:0.09\n",
      "                                      OLS Regression Results                                     \n",
      "=================================================================================================\n",
      "Dep. Variable:     CMtnSNTL_Upcoming12hrSNOWFALL_gte3_in   R-squared:                       0.087\n",
      "Model:                                               OLS   Adj. R-squared:                  0.063\n",
      "Method:                                    Least Squares   F-statistic:                     3.542\n",
      "Date:                                   Wed, 06 Feb 2019   Prob (F-statistic):            0.00861\n",
      "Time:                                           09:22:33   Log-Likelihood:                -335.29\n",
      "No. Observations:                                    153   AIC:                             680.6\n",
      "Df Residuals:                                        148   BIC:                             695.7\n",
      "Df Model:                                              4                                         \n",
      "Covariance Type:                               nonrobust                                         \n",
      "==============================================================================================\n",
      "                                 coef    std err          t      P>|t|      [0.025      0.975]\n",
      "----------------------------------------------------------------------------------------------\n",
      "Intercept                      4.9314      0.531      9.288      0.000       3.882       5.981\n",
      "CMtn_Temperature_degC         -0.0820      0.066     -1.234      0.219      -0.213       0.049\n",
      "LXV_12hr_delta_Pressure_hp    -0.0656      0.038     -1.741      0.084      -0.140       0.009\n",
      "CMtn_Dewpoint_degC             0.1659      0.059      2.805      0.006       0.049       0.283\n",
      "CMtn_WindSpeed_mps             0.0950      0.047      2.012      0.046       0.002       0.188\n",
      "==============================================================================\n",
      "Omnibus:                       84.502   Durbin-Watson:                   1.938\n",
      "Prob(Omnibus):                  0.000   Jarque-Bera (JB):              354.106\n",
      "Skew:                           2.123   Prob(JB):                     1.28e-77\n",
      "Kurtosis:                       9.125   Cond. No.                         40.8\n",
      "==============================================================================\n",
      "\n",
      "Warnings:\n",
      "[1] Standard Errors assume that the covariance matrix of the errors is correctly specified.\n"
     ]
    }
   ],
   "source": [
    "rsq_adj = 0\n",
    "thresh = 0\n",
    "\n",
    "goodp_str = \"\"\n",
    "highp_var = []\n",
    "\n",
    "maximum_all_str = max(dictionary, key=dictionary.get)    #this is the string of variables found in previous OLS run associated with mad adjusted R squared.\n",
    "print(maximum_all_str)\n",
    "\n",
    "\n",
    "for test_thresh in range(1, 100):   #loop through different P|t| thresholds ranging from 1 to 100.  Note floats are not allowed here \n",
    "  print(test_thresh)\n",
    "  highp_var = [var for var in maxOLS_all.pvalues.keys() if maxOLS_all.pvalues[var]>=test_thresh*0.01]  #check P|t| for each variable against threshold and store in list\n",
    "  \n",
    "  testgoodp_str = maximum_all_str   #reset testgoodp_str \n",
    "    \n",
    "  for var in highp_var:\n",
    "    testgoodp_str = testgoodp_str.replace(\"+ \" + var, \"\")   #  \n",
    "     \n",
    "\n",
    " \n",
    "\n",
    "  maxOLS_testgoodp = ols('CMtnSNTL_Upcoming12hrSNOWFALL_gte3_in ~' + testgoodp_str, asos_snotel_UA_df['2009':'2017']).fit()\n",
    "  print(testgoodp_str, maxOLS_testgoodp.rsquared_adj, test_thresh*0.01)\n",
    "  #print(maxOLS_testgoodp.rsquared_adj)\n",
    "  if maxOLS_testgoodp.rsquared_adj > rsq_adj:\n",
    "      rsq_adj = maxOLS_testgoodp.rsquared_adj\n",
    "      print(maxOLS_testgoodp.rsquared_adj, test_thresh*0.01)\n",
    "      goodp_str = testgoodp_str\n",
    "      thresh = test_thresh*0.01\n",
    "\n",
    "    \n",
    "print(\"\\n best threshold is:\" + str(thresh))\n",
    "maxOLS_goodp = ols('CMtnSNTL_Upcoming12hrSNOWFALL_gte3_in ~' + goodp_str, asos_snotel_UA_df['2009':'2017']).fit() \n",
    "print(maxOLS_goodp.summary())\n"
   ]
  },
  {
   "cell_type": "markdown",
   "metadata": {},
   "source": [
    "**So it looks like the best P|t| threshold for variable elimination is 0.27.  A small improvement to adjusted R squared was made**"
   ]
  },
  {
   "cell_type": "markdown",
   "metadata": {},
   "source": [
    "## Try fit parameters with test dataset (2006 and 2007 data)"
   ]
  },
  {
   "cell_type": "code",
   "execution_count": 31,
   "metadata": {},
   "outputs": [
    {
     "data": {
      "image/png": "[encoded data removed]",
      "text/plain": [
       "<Figure size 432x288 with 1 Axes>"
      ]
     },
     "metadata": {},
     "output_type": "display_data"
    }
   ],
   "source": [
    "\n",
    "from scipy.stats import pearsonr, linregress\n",
    "#print(asos_snotel_UA_df['2006':'2008'][asos_snotel_UA_df['2006':'2008']['CMtnSNTL_Upcoming12hrSNOWFALL_gte3_in']>=3].describe())\n",
    "\n",
    "actual_snf = asos_snotel_UA_df['2006':'2008']['CMtnSNTL_Upcoming12hrSNOWFALL_gte3_in'][asos_snotel_UA_df['2006':'2008']['CMtnSNTL_Upcoming12hrSNOWFALL_gte3_in']>=3]\n",
    "predict = maxOLS_goodp.predict(asos_snotel_UA_df['2006':'2008'][asos_snotel_UA_df['2006':'2008']['CMtnSNTL_Upcoming12hrSNOWFALL_gte3_in']>=3])\n",
    "#print(actual_snf.describe())\n",
    "\n",
    "\n",
    "idx = np.isfinite(predict) & np.isfinite(actual_snf) \n",
    "sns.regplot(predict[idx], actual_snf[idx])\n",
    "\n",
    "#print(asos_snotel_UA_df['2006':'2008'][asos_snotel_UA_df['CMtnSNTL_Past12hrSNOWFALL_in']>=3].describe())\n",
    "\n",
    "slope1, intercept1, r_value1, p_value1, std_err1 = linregress(predict[idx], actual_snf[idx])\n",
    "pearson1, pv = pearsonr(predict[idx], actual_snf[idx])\n",
    "plt.annotate(' slope: ' + str(round(slope1,3)) +\n",
    "                 '\\n intercept: ' + str(round(intercept1,3)) + \n",
    "                 '\\n R value: ' + str(round(r_value1,3)) +  \n",
    "                 '\\n p value: ' + str(round(p_value1,3)) + \n",
    "                 '\\n Std error: ' + str(round(std_err1,3)) +\n",
    "                 '\\n Pearson: ' + str(round(pearson1,3)), \\\n",
    "                 xy=(0.83, 0.72), xycoords='axes fraction', fontsize=10)\n",
    "\n",
    "plt.xlabel('Predicted Snowfall (inches)')\n",
    "plt.ylabel('Actual Snowfall (inches)')\n",
    "plt.xlim([0,12])\n",
    "plt.ylim([0,12])\n",
    "plt.grid(True)\n",
    "#print(actual_snf.describe())\n",
    "#print(predict.describe())"
   ]
  },
  {
   "cell_type": "code",
   "execution_count": 32,
   "metadata": {},
   "outputs": [
    {
     "name": "stdout",
     "output_type": "stream",
     "text": [
      "[5.00356688 4.97999726 4.76403462 4.56734814 5.11764243 3.42036494\n",
      " 5.07908419 4.11159297 3.85071443 4.96455677 4.30800309 3.99327227\n",
      " 3.33075262 4.95427084 4.63905368 4.26661431 5.4657835  4.3169076\n",
      " 1.6191553  6.54759992 4.58164344 5.38567978 4.50321756 3.1086876\n",
      " 4.42146486 4.95929587 3.90468922 4.27923176 3.71313328 4.54456104\n",
      " 4.90531459 3.11975806 4.41759277 4.62682618 4.65179744 4.93032122\n",
      " 4.580945   4.96746509 4.41150498 3.93281186 3.86571561 6.50947796\n",
      " 4.14728712 4.30112989 4.00265245 4.66840336 3.745328   5.14531541\n",
      " 5.38156394 4.20934986 5.20416856 2.70451822 4.41651981 5.01458748\n",
      " 3.99018619 4.73074861 4.65009671 3.88589417 4.36483123 4.39710738\n",
      " 5.05354975 4.08262236 4.07563195 3.16246372 4.90164695 3.06637889\n",
      " 5.06849421 3.40749403 4.31603464 4.3191256  3.81533965 5.08909448\n",
      " 4.76890598 4.96189237]\n",
      "[ 5.    4.    5.    4.    5.    5.    7.    4.    4.    3.    4.    8.\n",
      "  4.    5.    8.    3.    6.   11.    3.    6.    3.    3.    4.    3.\n",
      "  5.    6.    4.    4.    3.    5.    6.    3.    5.    3.    3.33  6.5\n",
      "  3.5   3.    3.    3.    3.    6.    4.    4.    3.    3.    3.    3.\n",
      "  3.67  3.    4.    3.33  3.    8.    3.    7.    4.    5.    3.    3.\n",
      "  4.    3.    7.    4.5   8.    7.    3.    3.    3.    3.    8.    3.\n",
      "  4.    3.  ]\n",
      "0.43243243243243246 0.6891891891891891 0.8243243243243243\n"
     ]
    },
    {
     "data": {
      "image/png": "[encoded data removed]",
      "text/plain": [
       "<Figure size 432x288 with 1 Axes>"
      ]
     },
     "metadata": {},
     "output_type": "display_data"
    }
   ],
   "source": [
    "plt.scatter(predict[idx].values, actual_snf[idx].values-predict[idx].values)\n",
    "print(predict[idx].values)\n",
    "print(actual_snf[idx].values)\n",
    "#print(actual_snf[idx].values-predict[idx].values)\n",
    "\n",
    "\n",
    "\n",
    "diff = actual_snf[idx].values-predict[idx].values\n",
    "PercentSuccess1 = len([x for x in diff if abs(x)<=1])/len(diff)\n",
    "PercentSuccess15 = len([x for x in diff if abs(x)<=1.5])/len(diff)\n",
    "PercentSuccess2= len([x for x in diff if abs(x)<=2])/len(diff)\n",
    "print(PercentSuccess1, PercentSuccess15, PercentSuccess2)"
   ]
  },
  {
   "cell_type": "code",
   "execution_count": 33,
   "metadata": {},
   "outputs": [
    {
     "name": "stdout",
     "output_type": "stream",
     "text": [
      "23.91694855001773\n"
     ]
    },
    {
     "data": {
      "image/png": "[encoded data removed]",
      "text/plain": [
       "<Figure size 432x288 with 1 Axes>"
      ]
     },
     "metadata": {},
     "output_type": "display_data"
    }
   ],
   "source": [
    "diff_df = pd.DataFrame(diff)\n",
    "hist = diff_df.hist()\n",
    "\n",
    "from sklearn.metrics import mean_squared_error\n",
    "\n",
    "mse = mean_squared_error(predict[idx].values, actual_snf[idx].values-predict[idx].values)\n",
    "print(mse)\n"
   ]
  }
 ],
 "metadata": {
  "kernelspec": {
   "display_name": "Python 3",
   "language": "python",
   "name": "python3"
  },
  "language_info": {
   "codemirror_mode": {
    "name": "ipython",
    "version": 3
   },
   "file_extension": ".py",
   "mimetype": "text/x-python",
   "name": "python",
   "nbconvert_exporter": "python",
   "pygments_lexer": "ipython3",
   "version": "3.6.5"
  }
 },
 "nbformat": 4,
 "nbformat_minor": 2
}
