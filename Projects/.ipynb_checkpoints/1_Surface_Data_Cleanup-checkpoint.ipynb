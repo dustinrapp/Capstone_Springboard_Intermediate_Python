{
 "cells": [
  {
   "cell_type": "markdown",
   "metadata": {},
   "source": [
    "**Import necessary modules and the ASOS/SNOTEL dataframes**"
   ]
  },
  {
   "cell_type": "code",
   "execution_count": 3,
   "metadata": {},
   "outputs": [
    {
     "ename": "AttributeError",
     "evalue": "module 'numpy' has no attribute 'core'",
     "output_type": "error",
     "traceback": [
      "\u001b[1;31m---------------------------------------------------------------------------\u001b[0m",
      "\u001b[1;31mAttributeError\u001b[0m                            Traceback (most recent call last)",
      "\u001b[1;32m<ipython-input-3-a979c85f573c>\u001b[0m in \u001b[0;36m<module>\u001b[1;34m()\u001b[0m\n\u001b[1;32m----> 1\u001b[1;33m \u001b[1;32mimport\u001b[0m \u001b[0mpandas\u001b[0m \u001b[1;32mas\u001b[0m \u001b[0mpd\u001b[0m\u001b[1;33m\u001b[0m\u001b[0m\n\u001b[0m\u001b[0;32m      2\u001b[0m \u001b[1;32mimport\u001b[0m \u001b[0mmatplotlib\u001b[0m\u001b[1;33m.\u001b[0m\u001b[0mpyplot\u001b[0m \u001b[1;32mas\u001b[0m \u001b[0mplt\u001b[0m\u001b[1;33m\u001b[0m\u001b[0m\n\u001b[0;32m      3\u001b[0m \u001b[1;32mimport\u001b[0m \u001b[0mnumpy\u001b[0m \u001b[1;32mas\u001b[0m \u001b[0mnp\u001b[0m\u001b[1;33m\u001b[0m\u001b[0m\n\u001b[0;32m      4\u001b[0m \u001b[1;32mimport\u001b[0m \u001b[0mdatetime\u001b[0m \u001b[1;32mas\u001b[0m \u001b[0mdtb\u001b[0m\u001b[1;33m\u001b[0m\u001b[0m\n\u001b[0;32m      5\u001b[0m \u001b[1;32mimport\u001b[0m \u001b[0mos\u001b[0m\u001b[1;33m\u001b[0m\u001b[0m\n",
      "\u001b[1;32mc:\\users\\rapp\\appdata\\local\\programs\\python\\python36-32\\lib\\site-packages\\pandas\\__init__.py\u001b[0m in \u001b[0;36m<module>\u001b[1;34m()\u001b[0m\n\u001b[0;32m     11\u001b[0m \u001b[1;32mfor\u001b[0m \u001b[0mdependency\u001b[0m \u001b[1;32min\u001b[0m \u001b[0mhard_dependencies\u001b[0m\u001b[1;33m:\u001b[0m\u001b[1;33m\u001b[0m\u001b[0m\n\u001b[0;32m     12\u001b[0m     \u001b[1;32mtry\u001b[0m\u001b[1;33m:\u001b[0m\u001b[1;33m\u001b[0m\u001b[0m\n\u001b[1;32m---> 13\u001b[1;33m         \u001b[0m__import__\u001b[0m\u001b[1;33m(\u001b[0m\u001b[0mdependency\u001b[0m\u001b[1;33m)\u001b[0m\u001b[1;33m\u001b[0m\u001b[0m\n\u001b[0m\u001b[0;32m     14\u001b[0m     \u001b[1;32mexcept\u001b[0m \u001b[0mImportError\u001b[0m \u001b[1;32mas\u001b[0m \u001b[0me\u001b[0m\u001b[1;33m:\u001b[0m\u001b[1;33m\u001b[0m\u001b[0m\n\u001b[0;32m     15\u001b[0m         \u001b[0mmissing_dependencies\u001b[0m\u001b[1;33m.\u001b[0m\u001b[0mappend\u001b[0m\u001b[1;33m(\u001b[0m\u001b[0mdependency\u001b[0m\u001b[1;33m)\u001b[0m\u001b[1;33m\u001b[0m\u001b[0m\n",
      "\u001b[1;32mc:\\users\\rapp\\appdata\\local\\programs\\python\\python36-32\\lib\\site-packages\\numpy\\__init__.py\u001b[0m in \u001b[0;36m<module>\u001b[1;34m()\u001b[0m\n\u001b[0;32m    140\u001b[0m         \u001b[1;32mreturn\u001b[0m \u001b[0mloader\u001b[0m\u001b[1;33m(\u001b[0m\u001b[1;33m*\u001b[0m\u001b[0mpackages\u001b[0m\u001b[1;33m,\u001b[0m \u001b[1;33m**\u001b[0m\u001b[0moptions\u001b[0m\u001b[1;33m)\u001b[0m\u001b[1;33m\u001b[0m\u001b[0m\n\u001b[0;32m    141\u001b[0m \u001b[1;33m\u001b[0m\u001b[0m\n\u001b[1;32m--> 142\u001b[1;33m     \u001b[1;32mfrom\u001b[0m \u001b[1;33m.\u001b[0m \u001b[1;32mimport\u001b[0m \u001b[0madd_newdocs\u001b[0m\u001b[1;33m\u001b[0m\u001b[0m\n\u001b[0m\u001b[0;32m    143\u001b[0m     __all__ = ['add_newdocs',\n\u001b[0;32m    144\u001b[0m                \u001b[1;34m'ModuleDeprecationWarning'\u001b[0m\u001b[1;33m,\u001b[0m\u001b[1;33m\u001b[0m\u001b[0m\n",
      "\u001b[1;32mc:\\users\\rapp\\appdata\\local\\programs\\python\\python36-32\\lib\\site-packages\\numpy\\add_newdocs.py\u001b[0m in \u001b[0;36m<module>\u001b[1;34m()\u001b[0m\n\u001b[0;32m     11\u001b[0m \u001b[1;32mfrom\u001b[0m \u001b[0m__future__\u001b[0m \u001b[1;32mimport\u001b[0m \u001b[0mdivision\u001b[0m\u001b[1;33m,\u001b[0m \u001b[0mabsolute_import\u001b[0m\u001b[1;33m,\u001b[0m \u001b[0mprint_function\u001b[0m\u001b[1;33m\u001b[0m\u001b[0m\n\u001b[0;32m     12\u001b[0m \u001b[1;33m\u001b[0m\u001b[0m\n\u001b[1;32m---> 13\u001b[1;33m \u001b[1;32mfrom\u001b[0m \u001b[0mnumpy\u001b[0m\u001b[1;33m.\u001b[0m\u001b[0mlib\u001b[0m \u001b[1;32mimport\u001b[0m \u001b[0madd_newdoc\u001b[0m\u001b[1;33m\u001b[0m\u001b[0m\n\u001b[0m\u001b[0;32m     14\u001b[0m \u001b[1;33m\u001b[0m\u001b[0m\n\u001b[0;32m     15\u001b[0m \u001b[1;31m###############################################################################\u001b[0m\u001b[1;33m\u001b[0m\u001b[1;33m\u001b[0m\u001b[0m\n",
      "\u001b[1;32mc:\\users\\rapp\\appdata\\local\\programs\\python\\python36-32\\lib\\site-packages\\numpy\\lib\\__init__.py\u001b[0m in \u001b[0;36m<module>\u001b[1;34m()\u001b[0m\n\u001b[0;32m     17\u001b[0m \u001b[1;33m\u001b[0m\u001b[0m\n\u001b[0;32m     18\u001b[0m \u001b[1;32mfrom\u001b[0m \u001b[1;33m.\u001b[0m \u001b[1;32mimport\u001b[0m \u001b[0mscimath\u001b[0m \u001b[1;32mas\u001b[0m \u001b[0memath\u001b[0m\u001b[1;33m\u001b[0m\u001b[0m\n\u001b[1;32m---> 19\u001b[1;33m \u001b[1;32mfrom\u001b[0m \u001b[1;33m.\u001b[0m\u001b[0mpolynomial\u001b[0m \u001b[1;32mimport\u001b[0m \u001b[1;33m*\u001b[0m\u001b[1;33m\u001b[0m\u001b[0m\n\u001b[0m\u001b[0;32m     20\u001b[0m \u001b[1;31m#import convertcode\u001b[0m\u001b[1;33m\u001b[0m\u001b[1;33m\u001b[0m\u001b[0m\n\u001b[0;32m     21\u001b[0m \u001b[1;32mfrom\u001b[0m \u001b[1;33m.\u001b[0m\u001b[0mutils\u001b[0m \u001b[1;32mimport\u001b[0m \u001b[1;33m*\u001b[0m\u001b[1;33m\u001b[0m\u001b[0m\n",
      "\u001b[1;32mc:\\users\\rapp\\appdata\\local\\programs\\python\\python36-32\\lib\\site-packages\\numpy\\lib\\polynomial.py\u001b[0m in \u001b[0;36m<module>\u001b[1;34m()\u001b[0m\n\u001b[0;32m     11\u001b[0m \u001b[1;32mimport\u001b[0m \u001b[0mre\u001b[0m\u001b[1;33m\u001b[0m\u001b[0m\n\u001b[0;32m     12\u001b[0m \u001b[1;32mimport\u001b[0m \u001b[0mwarnings\u001b[0m\u001b[1;33m\u001b[0m\u001b[0m\n\u001b[1;32m---> 13\u001b[1;33m \u001b[1;32mimport\u001b[0m \u001b[0mnumpy\u001b[0m\u001b[1;33m.\u001b[0m\u001b[0mcore\u001b[0m\u001b[1;33m.\u001b[0m\u001b[0mnumeric\u001b[0m \u001b[1;32mas\u001b[0m \u001b[0mNX\u001b[0m\u001b[1;33m\u001b[0m\u001b[0m\n\u001b[0m\u001b[0;32m     14\u001b[0m \u001b[1;33m\u001b[0m\u001b[0m\n\u001b[0;32m     15\u001b[0m from numpy.core import (isscalar, abs, finfo, atleast_1d, hstack, dot, array,\n",
      "\u001b[1;31mAttributeError\u001b[0m: module 'numpy' has no attribute 'core'"
     ]
    }
   ],
   "source": [
    "import pandas as pd\n",
    "import matplotlib.pyplot as plt\n",
    "import numpy as np\n",
    "import datetime as dtb\n",
    "import os\n",
    "from glob import glob\n",
    "import datetime\n",
    "import seaborn as sns"
   ]
  },
  {
   "cell_type": "code",
   "execution_count": null,
   "metadata": {},
   "outputs": [],
   "source": [
    "data = [pd.read_csv('asos_df.dat', parse_dates = True, index_col = 'Date_Time')]\n",
    "asos_df= pd.concat(data)\n",
    "\n",
    "\n",
    "#print(asos_df.head())\n",
    "\n",
    "asos_df['CloudCover'][asos_df['CloudCover']==9] = np.NaN   ## Discovered that 9 values in CC data are actually missing\n",
    "\n",
    "asos_df.rename(columns={'CloudCover':'CloudCover_oktas', 'WindSpeed_m/s':'WindSpeed_mps', 'LXV_WindSpeed_m/s':'LXV_WindSpeed_mps'  }, inplace=True)\n",
    "\n",
    "\n",
    "\n",
    "asos_df = asos_df.add_prefix('CMtn_')\n",
    "\n",
    "print(asos_df.head())\n"
   ]
  },
  {
   "cell_type": "markdown",
   "metadata": {},
   "source": [
    "**Now import in SNOTEL data. "
   ]
  },
  {
   "cell_type": "code",
   "execution_count": null,
   "metadata": {},
   "outputs": [],
   "source": [
    "\n",
    "data = [pd.read_csv('snotel_df.dat', parse_dates = True, index_col = 'Date_Time')]\n",
    "snotel_df= pd.concat(data)\n",
    "\n",
    "snotel_df.rename(columns={'TOBS.I-1 (degC) ': 'Temp_degC', 'SNWD.I-1 (in) ':'SnowDepth_in'}, inplace=True)   #remove extra space in column names\n",
    "\n",
    "snotel_df = snotel_df.add_prefix('CMtnSNTL_')\n",
    "\n",
    "\n",
    "print(snotel_df.head())\n",
    "\n",
    "\n",
    "print(snotel_df['2005-10-30'])\n",
    "\n",
    "print(snotel_df.head())\n",
    "\n",
    "print(snotel_df['2005-10-30'])"
   ]
  },
  {
   "cell_type": "markdown",
   "metadata": {},
   "source": [
    "** Import Leadville, CO ASOS data **"
   ]
  },
  {
   "cell_type": "code",
   "execution_count": null,
   "metadata": {},
   "outputs": [],
   "source": [
    "   \n",
    "asos2_files = glob(r'C:\\Users\\RAPP\\Documents\\Capstone\\data\\ASOS\\724673-93009\\724673-93009*')\n",
    "print(asos2_files)\n",
    "\n",
    "header_names = ('Year', 'Month', 'Day', 'Hour', 'LXV_Temperature_degC', 'LXV_Dewpoint_degC', 'LXV_Pressure_hp', 'LXV_WindDirection_deg', \\\n",
    "                'LXV_WindSpeed_m/s', 'LXV_CloudCover_oktas', 'LXV_1hr_Precipitation_mm', 'LXV_6hr_Precipitation_mm')\n",
    "#asos_data = [pd.read_csv(f, delim_whitespace=True, header = None) for f in asos_files]\n",
    "asos2_data = [pd.read_csv(f, delim_whitespace=True, header = None, names = header_names, parse_dates={'Date_Time': ['Year', 'Month', 'Day', 'Hour']}, index_col='Date_Time') for f in asos2_files]\n",
    "#parse_dates={'Date_Time': ['Year', 'Month', 'Day', 'Hour']\n",
    "asos2_df= pd.concat(asos2_data)\n",
    "xx = (asos2_df == -9999)\n",
    "asos2_df[xx] = np.NaN\n",
    "\n",
    "asos2_df['LXV_CloudCover_oktas'][asos2_df['LXV_CloudCover_oktas']==9] = np.NaN\n",
    "\n",
    "asos2_df['LXV_Temperature_degC'] = asos2_df['LXV_Temperature_degC']/10\n",
    "asos2_df['LXV_Dewpoint_degC'] = asos2_df['LXV_Dewpoint_degC']/10\n",
    "asos2_df['LXV_Pressure_hp'] = asos2_df['LXV_Pressure_hp']/10\n",
    "asos2_df['LXV_WindSpeed_m/s'] = asos2_df['LXV_WindSpeed_m/s']/10\n",
    "asos2_df['LXV_1hr_Precipitation_mm'] = asos2_df['LXV_1hr_Precipitation_mm']/10\n",
    "asos2_df['LXV_6hr_Precipitation_mm'] = asos2_df['LXV_6hr_Precipitation_mm']/10\n",
    "\n",
    "\n",
    "asos2_df.rename(columns={'LXV_WindSpeed_m/s': 'LXV_WindSpeed_mps'}, inplace=True)\n",
    "\n",
    "print(asos2_df.describe())\n",
    "\n",
    "print(asos2_df.head())\n"
   ]
  },
  {
   "cell_type": "markdown",
   "metadata": {},
   "source": [
    "** Merge LXV, CMtn, and SNOTEL dataframes together **"
   ]
  },
  {
   "cell_type": "code",
   "execution_count": null,
   "metadata": {},
   "outputs": [],
   "source": [
    "\n",
    "\n",
    "asos_snotel_df = pd.merge(pd.merge(snotel_df, asos_df,on='Date_Time'),asos2_df,on='Date_Time')\n",
    "\n",
    "#asos_snotel_df = pd.merge(snotel_df, asos_df, on='Date_Time', how='outer')\n",
    "#asos_snotel2_df = pd.merge(asos_snotel_df, asos2_df['LAX_Pressure_hp'].to_frame(), on='Date_Time', how='outer')\n",
    "\n",
    "print(asos_snotel_df.describe())\n"
   ]
  },
  {
   "cell_type": "markdown",
   "metadata": {},
   "source": [
    "** Delete empty columns **"
   ]
  },
  {
   "cell_type": "code",
   "execution_count": null,
   "metadata": {},
   "outputs": [],
   "source": [
    "del asos_snotel_df['CMtn_Pressure_hp']\n",
    "del asos_snotel_df['CMtn_6hr_Precipitation_mm']  \n",
    "print(asos_snotel_df.describe())"
   ]
  },
  {
   "cell_type": "markdown",
   "metadata": {},
   "source": [
    "## Is all data in UTC?"
   ]
  },
  {
   "cell_type": "code",
   "execution_count": null,
   "metadata": {},
   "outputs": [],
   "source": [
    "\n",
    "import matplotlib.dates as mdates\n",
    "fig,ax1 = plt.subplots(figsize=(20,10))\n",
    "\n",
    "\n",
    "tickv = pd.date_range('2006-07-15', periods=6, freq = 'H')\n",
    "\n",
    "ax1.plot(asos_snotel_df['CMtn_Temperature_degC']['2006-07-15':'2006-07-19'], marker='.', markersize = 5, label = \"CMtn ASOS\")\n",
    "ax1.plot(asos_snotel_df['LXV_Temperature_degC']['2006-07-15':'2006-07-19'], marker='+', markersize = 5, label = \"LXV ASOS\")\n",
    "ax1.plot(asos_snotel_df['CMtnSNTL_Temp_degC']['2006-07-15':'2006-07-19'], marker='x', markersize = 5, label = \"CMtn SNOTEL\")\n",
    "#plt.xticks(tickv)\n",
    "\n",
    "\n",
    "ax1.xaxis.set_major_locator(mdates.DayLocator(interval=1))\n",
    "ax1.xaxis.set_minor_locator(mdates.HourLocator(byhour=range(0, 24, 12)))\n",
    "ax1.xaxis.set_minor_formatter(mdates.DateFormatter('%H:%M'))  # hours and minutes\n",
    "ax1.xaxis.set_major_formatter(mdates.DateFormatter('\\n%m-%d-%Y')) \n",
    "\n",
    "ax1.grid(True)\n",
    "\n",
    "plt.legend()\n",
    "plt.show()\n",
    "\n"
   ]
  },
  {
   "cell_type": "markdown",
   "metadata": {},
   "source": [
    "**Based on this graph, it looks like the warmest part of the day occurs near 22:00 UTC (3pm MST), which would be expected, for LXV and the CMtn ASOS stations.  However, the SNOTEL site appears to be shifted several hours.  This is likely due to the SNOTEL site being in MT.  THis needs to be adjusted**"
   ]
  },
  {
   "cell_type": "code",
   "execution_count": null,
   "metadata": {},
   "outputs": [],
   "source": [
    "asos_df.index = asos_df.index.tz_localize('UTC')\n",
    "asos2_df.index = asos2_df.index.tz_localize('UTC')\n",
    "\n",
    "print(snotel_df.head())\n",
    "snotel_df.index = snotel_df.index.tz_localize('US/Mountain', errors = 'coerce', ambiguous = 'NaT').tz_convert('UTC')\n",
    "print(snotel_df.head())\n",
    "asos_snotel_df = pd.merge(pd.merge(snotel_df, asos_df,on='Date_Time'),asos2_df,on='Date_Time')\n"
   ]
  },
  {
   "cell_type": "markdown",
   "metadata": {},
   "source": [
    "**Now regraph.  The results now appear to be all in UTC**"
   ]
  },
  {
   "cell_type": "code",
   "execution_count": null,
   "metadata": {},
   "outputs": [],
   "source": [
    "fig,ax1 = plt.subplots(figsize=(20,10))\n",
    "\n",
    "\n",
    "tickv = pd.date_range('2006-07-15', periods=6, freq = 'H')\n",
    "\n",
    "ax1.plot(asos_snotel_df['CMtn_Temperature_degC']['2006-07-15':'2006-07-19'], marker='.', markersize = 5, label = \"CMtn ASOS\")\n",
    "ax1.plot(asos_snotel_df['LXV_Temperature_degC']['2006-07-15':'2006-07-19'], marker='+', markersize = 5, label = \"LXV ASOS\")\n",
    "ax1.plot(asos_snotel_df['CMtnSNTL_Temp_degC']['2006-07-15':'2006-07-19'], marker='x', markersize = 5, label = \"CMtn SNOTEL\")\n",
    "#plt.xticks(tickv)\n",
    "\n",
    "\n",
    "ax1.xaxis.set_major_locator(mdates.DayLocator(interval=1))\n",
    "ax1.xaxis.set_minor_locator(mdates.HourLocator(byhour=range(0, 24, 12)))\n",
    "ax1.xaxis.set_minor_formatter(mdates.DateFormatter('%H:%M'))  # hours and minutes\n",
    "ax1.xaxis.set_major_formatter(mdates.DateFormatter('\\n%m-%d-%Y')) \n",
    "\n",
    "ax1.grid(True)\n",
    "\n",
    "plt.legend()\n",
    "plt.show()\n",
    "\n"
   ]
  },
  {
   "cell_type": "markdown",
   "metadata": {},
   "source": [
    "## Determining Outliers"
   ]
  },
  {
   "cell_type": "markdown",
   "metadata": {},
   "source": [
    "**Let's make some box plots**"
   ]
  },
  {
   "cell_type": "code",
   "execution_count": null,
   "metadata": {},
   "outputs": [],
   "source": [
    "print(asos_snotel_df.keys())"
   ]
  },
  {
   "cell_type": "code",
   "execution_count": null,
   "metadata": {},
   "outputs": [],
   "source": [
    "fig = plt.figure(figsize=(25,40))\n",
    "fig.subplots_adjust(hspace=0.4, wspace=0.2)\n",
    "years = ['2005', '2006', '2007', '2008', '2009', '2010', '2011', '2012', '2013', '2014', '2015', '2016', '2017']\n",
    "\n",
    "\n",
    "keys = ['CMtnSNTL_Temp_degC', 'CMtnSNTL_SnowDepth_in', 'CMtn_Temperature_degC', \\\n",
    "       'CMtn_Dewpoint_degC',  'CMtn_WindDirection_deg', \\\n",
    "       'CMtn_WindSpeed_mps', 'CMtn_CloudCover_oktas', \\\n",
    "       'LXV_Temperature_degC', 'LXV_Dewpoint_degC', 'LXV_Pressure_hp', \\\n",
    "       'LXV_WindDirection_deg', 'LXV_WindSpeed_mps', 'LXV_CloudCover_oktas']\n",
    "\n",
    "\n",
    "for k in range(len(keys)):\n",
    "    ax = plt.subplot(7, 3, k+1)\n",
    "\n",
    "#fig.suptitle = 'Boxplot by Ski Season (November - April)'\n",
    "\n",
    "\n",
    "\n",
    "    filtered_data = asos_snotel_df[keys[k]][~np.isnan(asos_snotel_df[keys[k]])]\n",
    "\n",
    "    merged_seasons =  pd.concat([filtered_data['11-2005':'04-2006'], filtered_data['11-2006':'04-2007'], filtered_data['11-2007':'04-2008'], \\\n",
    "                 filtered_data['11-2008':'04-2009'],filtered_data['11-2009':'04-2010'],filtered_data['11-2010':'04-2011'], \\\n",
    "                 filtered_data['11-2011':'04-2012'],filtered_data['11-2012':'04-2013'],filtered_data['11-2013':'04-2014'], \\\n",
    "                 filtered_data['11-2014':'04-2015'],filtered_data['11-2015':'04-2016'],filtered_data['11-2016':'04-2017']], axis = 0)\n",
    "\n",
    "    filtered_data2 = [filtered_data['11-2005':'04-2006'], filtered_data['11-2006':'04-2007'] , filtered_data['11-2007':'04-2008'], \\\n",
    "                 filtered_data['11-2008':'04-2009'],filtered_data['11-2009':'04-2010'],filtered_data['11-2010':'04-2011'], \\\n",
    "                 filtered_data['11-2011':'04-2012'],filtered_data['11-2012':'04-2013'],filtered_data['11-2013':'04-2014'], \\\n",
    "                 filtered_data['11-2014':'04-2015'],filtered_data['11-2015':'04-2016'],filtered_data['11-2016':'04-2017'], merged_seasons]\n",
    "\n",
    "    plot =ax.boxplot(filtered_data2)\n",
    "    plt.title('Box Plot of ' + keys[k])\n",
    "    labels = ['05-06', '06-07', '07-08', '08-09', '09-10', '10-11', '11-12', '12-13', '13-14', '14-15', '15-16', '16-17', 'All']\n",
    "    ax.set_xticklabels(labels, rotation = 45)\n",
    "    ax.set_xlabel('Ski Season (Nov-April)')\n",
    "    ax.set_ylabel(keys[k])"
   ]
  },
  {
   "cell_type": "markdown",
   "metadata": {},
   "source": [
    "**These box plots do illuminate some interesting data characteristics to be aware. The distributions of data seem reasonable for all variables except 2010-2011 Wind Direction,  2013-2017 Cloudcover, and 07-08, 08-09, 12-13 Snow Depth Data.  One would expect there to be winds in virtually every direction over a season; however it does not appear that happened in years 10-11.  This could be due to a large amount of data missing that year.  CloudCover seems very anommalous for years 13-17 as the only value looks to be 4 at the Copper Mtn site; and 2 & 4 at the Leadville site.  Finally, the values which fall far outside the distribution of the snow depth data are also questionable. Additional investigation will be made by looking at timeseries plots..  **"
   ]
  },
  {
   "cell_type": "code",
   "execution_count": null,
   "metadata": {},
   "outputs": [],
   "source": [
    "ax = None\n",
    "\n",
    "print(asos_snotel_df.head())\n",
    "\n",
    "#keys = ['CMtnSNTL_Temp_degC', 'CMtnSNTL_SnowDepth_in']\n",
    "\n",
    "#keys = ['CMtn_Pressure_hp']\n",
    "\n",
    "\n",
    "#fig.subplots_adjust(hspace=0.3, wspace=0.1)\n",
    "for k in range(len(keys)):\n",
    "    fig = plt.figure(figsize=(30,6))\n",
    "    #ax = plt.subplot(15, 1, k+1)\n",
    "    ax = None\n",
    "    ax = asos_snotel_df[keys[k]]['2005':'2017'].plot(linestyle='None', ax = ax, marker = \".\", markersize = 0.75)\n",
    "    ax.set_xlabel(\"Date\")\n",
    "    ax.set_ylabel(keys[k])\n",
    "    \n",
    "    plt.title(\"Timeseries of \" + keys[k])\n",
    " \n",
    "    plt.grid()\n",
    "    plt.axis('tight')\n",
    "    \n",
    "    plt.show()\n",
    "    \n",
    "    fig.clf()\n",
    "    plt.close()\n",
    "  \n",
    "\n",
    "#plt.show()\n",
    "\n"
   ]
  },
  {
   "cell_type": "markdown",
   "metadata": {},
   "source": [
    "**Cloud cover data is very suspicious beginning in year 2013, so all data after that point will be removed at both the Copper Mountain and the Leadville site**"
   ]
  },
  {
   "cell_type": "code",
   "execution_count": null,
   "metadata": {},
   "outputs": [],
   "source": [
    "asos_snotel_df['CMtn_CloudCover_oktas']['2013':'2017'] = np.NaN\n",
    "asos_snotel_df['LXV_CloudCover_oktas']['2013':'2017'] = np.NaN"
   ]
  },
  {
   "cell_type": "markdown",
   "metadata": {},
   "source": [
    "**Lets take a look at total snow depths by year**"
   ]
  },
  {
   "cell_type": "code",
   "execution_count": null,
   "metadata": {},
   "outputs": [],
   "source": [
    "years = ['2006', '2007', '2007', '2008', '2009', '2010', '2011', '2012', '2013', '2014', '2015', '2016', '2017']\n",
    "\n",
    "for y in years:\n",
    "    print(\"Year: \"+ y + \" - Snow Depth Max: \" + str(round(asos_snotel_df['CMtnSNTL_SnowDepth_in'][y].max(),2)) + \" - Snow Depth Min: \" + str(round(asos_snotel_df['CMtnSNTL_SnowDepth_in'][y].min(),2)))\n"
   ]
  },
  {
   "cell_type": "markdown",
   "metadata": {},
   "source": [
    "**It can be seen from the snow depth plot there are various spikes in the dataset which are physically unrealistic.  Therefore, snowdepth values >100 will be thrown out, along with snowdepth values greater then 70 in year 2015.  Also, snow depth values less then -100 will be eliminated: **"
   ]
  },
  {
   "cell_type": "code",
   "execution_count": null,
   "metadata": {},
   "outputs": [],
   "source": [
    "plt.figure(figsize=(15,5))\n",
    "\n",
    "xx=(asos_snotel_df['CMtnSNTL_SnowDepth_in']<-100) | (asos_snotel_df['CMtnSNTL_SnowDepth_in']>100) | (asos_snotel_df['CMtnSNTL_SnowDepth_in']['2015']>70)\n",
    "asos_snotel_df['CMtnSNTL_SnowDepth_in'][xx]=np.NaN\n",
    "#snotel_filled_df = snotel_df.interpolate(limit=3)\n"
   ]
  },
  {
   "cell_type": "markdown",
   "metadata": {},
   "source": [
    "**Taking a look at the snow depth box plot after cleaned up**"
   ]
  },
  {
   "cell_type": "code",
   "execution_count": null,
   "metadata": {},
   "outputs": [],
   "source": [
    "fig = plt.figure(figsize = (15,8))\n",
    "ax = fig.add_subplot(111)\n",
    "#fig.suptitle = 'Boxplot by Ski Season (November - April)'\n",
    "\n",
    "filtered_data = asos_snotel_df['CMtnSNTL_SnowDepth_in'][~np.isnan(asos_snotel_df['CMtnSNTL_SnowDepth_in'])]\n",
    "\n",
    "\n",
    "merged_seasons =  pd.concat([filtered_data['11-2006':'04-2007'], filtered_data['11-2007':'04-2008'], \\\n",
    "                 filtered_data['11-2008':'04-2009'],filtered_data['11-2009':'04-2010'],filtered_data['11-2010':'04-2011'], \\\n",
    "                 filtered_data['11-2011':'04-2012'],filtered_data['11-2012':'04-2013'],filtered_data['11-2013':'04-2014'], \\\n",
    "                 filtered_data['11-2014':'04-2015'],filtered_data['11-2015':'04-2016'],filtered_data['11-2016':'04-2017']], axis = 0)\n",
    "\n",
    "filtered_data2 = [filtered_data['11-2006':'04-2007'], filtered_data['11-2007':'04-2008'], \\\n",
    "                 filtered_data['11-2008':'04-2009'],filtered_data['11-2009':'04-2010'],filtered_data['11-2010':'04-2011'], \\\n",
    "                 filtered_data['11-2011':'04-2012'],filtered_data['11-2012':'04-2013'],filtered_data['11-2013':'04-2014'], \\\n",
    "                 filtered_data['11-2014':'04-2015'],filtered_data['11-2015':'04-2016'],filtered_data['11-2016':'04-2017'], merged_seasons]\n",
    "\n",
    "plot =ax.boxplot(filtered_data2)\n",
    "plt.title('Box Plot of SNOTEL Snow Depth (Post Fill and Outlier Removal)')\n",
    "labels = ['06-07', '07-08', '08-09', '09-10', '10-11', '11-12', '12-13', '13-14', '14-15', '15-16', '16-17', 'All']\n",
    "ax.set_xticklabels(labels, rotation = 45)\n",
    "ax.set_xlabel('Ski Season (Nov-April)')\n",
    "ax.set_ylabel('Snow Depth (inches)')"
   ]
  },
  {
   "cell_type": "code",
   "execution_count": null,
   "metadata": {},
   "outputs": [],
   "source": [
    "fig2 = plt.figure(figsize=(15,8))\n",
    "\n",
    "asos_snotel_df['CMtnSNTL_SnowDepth_in']['2005':'2017'].plot(linewidth=None,  markersize = 0.00001)\n",
    "ax.set_xlabel(\"Date\")\n",
    "ax.set_ylabel('CMtnSNTL_SnowDepth_in')\n",
    "plt.title(\"Timeseries of Snow Depth (inches)\")\n",
    "  \n",
    "\n",
    "plt.show()\n",
    "print(asos_snotel_df['CMtnSNTL_SnowDepth_in']['2006'])"
   ]
  },
  {
   "cell_type": "markdown",
   "metadata": {},
   "source": [
    "### Interpolate missing values up to 3 hours"
   ]
  },
  {
   "cell_type": "code",
   "execution_count": null,
   "metadata": {},
   "outputs": [],
   "source": [
    "print(asos_snotel_df.info())\n",
    "asos_snotel_fill_df = asos_snotel_df.copy()\n",
    "\n",
    "asos_snotel_df = asos_snotel_df.interpolate(how = 'linear', limit = 3)\n",
    "\n",
    "print('*********************')\n",
    "print(asos_snotel_df.info())\n"
   ]
  },
  {
   "cell_type": "markdown",
   "metadata": {},
   "source": [
    "### Create 12 hr snowfall dataframe by using 12hr snowdepth difference"
   ]
  },
  {
   "cell_type": "code",
   "execution_count": null,
   "metadata": {},
   "outputs": [],
   "source": [
    "import matplotlib.dates as mdates\n",
    "#fig = plt.figure(figsize=(10,5))\n",
    "\n",
    "\n",
    "#Calculate 12-snowfall column by finding difference between 12-hr snow depth observations \n",
    "asos_snotel_df['CMtnSNTL_12hr_SNWD_in'] = asos_snotel_df['CMtnSNTL_SnowDepth_in'].resample('12H').first()\n",
    "asos_snotel_df['CMtnSNTL_12hr-dSNWD_in'] = asos_snotel_df['CMtnSNTL_12hr_SNWD_in']-asos_snotel_df['CMtnSNTL_12hr_SNWD_in'].shift(+12)\n",
    "asos_snotel_df['CMtnSNTL_Past12hrSNOWFALL_in'] = asos_snotel_df['CMtnSNTL_12hr-dSNWD_in']\n",
    "asos_snotel_df['CMtnSNTL_Upcoming12hrSNOWFALL_in'] = asos_snotel_df['CMtnSNTL_12hr-dSNWD_in'].shift(-12)\n",
    "\n",
    "\n",
    "asos_snotel_df['CMtnSNTL_Upcoming12hrSNOWFALL_gte3_in'] = asos_snotel_df['CMtnSNTL_Upcoming12hrSNOWFALL_in'][asos_snotel_df['CMtnSNTL_Upcoming12hrSNOWFALL_in']>=3]\n",
    "asos_snotel_df['CMtnSNTL_Past12hrSNOWFALL_gte3_in'] = asos_snotel_df['CMtnSNTL_Past12hrSNOWFALL_in'][asos_snotel_df['CMtnSNTL_Past12hrSNOWFALL_in']>=3]\n",
    "\n",
    "print(asos_snotel_df['CMtnSNTL_Upcoming12hrSNOWFALL_in'].describe())\n",
    "print(asos_snotel_df['CMtnSNTL_Upcoming12hrSNOWFALL_gte3_in'].describe())\n",
    "\n",
    "\n",
    "#fig = plt.figure(figsize=(30,15))\n",
    "#plt.subplot(2,1, 1)\n",
    "#plt.subplots_adjust(hspace=0.5, wspace=0.2)"
   ]
  },
  {
   "cell_type": "markdown",
   "metadata": {},
   "source": [
    "Let's check to verify we are doing what we think we are.  First plot snowfall values"
   ]
  },
  {
   "cell_type": "code",
   "execution_count": null,
   "metadata": {},
   "outputs": [],
   "source": [
    "fig, ax1 = plt.subplots(figsize=(40,10))\n",
    "ax2 = ax1.twinx()\n",
    "#ax1.plot(asos_snotel_UA_df['CMtnSNTL_SnowDepth_in']['04-16-2009':'04-19-2009'], marker='.', markersize = 10, label = \"1hr Snow Depth\")\n",
    "\n",
    "ax1.plot(asos_snotel_df['CMtnSNTL_12hr_SNWD_in']['01-16-2006':'04-19-2017'], marker='+', markersize = 5, label = \"resampled Snow Depth (12hr, first)\")\n",
    "ax2.plot(asos_snotel_df['CMtnSNTL_Upcoming12hrSNOWFALL_gte3_in']['01-16-2006':'04-19-2017'], marker='.', markersize = 20, alpha = 0.5,  label = \"Upcoming 12-hr Snowfall >=3\")\n",
    "ax1.grid(True)\n",
    "ax1.legend(loc='upper left')\n",
    "ax2.legend(loc='upper right')\n",
    "\n",
    "print(asos_snotel_df['CMtnSNTL_Upcoming12hrSNOWFALL_gte3_in'].describe())"
   ]
  },
  {
   "cell_type": "markdown",
   "metadata": {},
   "source": []
  },
  {
   "cell_type": "code",
   "execution_count": null,
   "metadata": {},
   "outputs": [],
   "source": [
    "fig, ax1 = plt.subplots(figsize=(40,10))\n",
    "ax2 = ax1.twinx()\n",
    "#ax1.plot(asos_snotel_UA_df['CMtnSNTL_SnowDepth_in']['04-16-2009':'04-19-2009'], marker='.', markersize = 10, label = \"1hr Snow Depth\")\n",
    "\n",
    "ax1.plot(asos_snotel_df['CMtnSNTL_12hr_SNWD_in']['10-01-2014':'11-30-2014'], marker='+', markersize = 5, label = \"resampled Snow Depth (12hr, first)\")\n",
    "ax2.plot(asos_snotel_df['CMtnSNTL_Upcoming12hrSNOWFALL_gte3_in']['10-01-2014':'11-30-2014'], marker='.', markersize = 20, alpha = 0.5,  label = \"Upcoming 12-hr Snowfall >=3\")\n",
    "ax1.grid(True)\n",
    "ax1.legend(loc='upper left')\n",
    "ax2.legend(loc='upper right')\n",
    "\n",
    "print(asos_snotel_df['CMtnSNTL_Upcoming12hrSNOWFALL_gte3_in'].describe())"
   ]
  },
  {
   "cell_type": "code",
   "execution_count": null,
   "metadata": {},
   "outputs": [],
   "source": [
    "fig, ax1 = plt.subplots(figsize=(40,10))\n",
    "ax2 = ax1.twinx()\n",
    "#ax1.plot(asos_snotel_UA_df['CMtnSNTL_SnowDepth_in']['04-16-2009':'04-19-2009'], marker='.', markersize = 10, label = \"1hr Snow Depth\")\n",
    "\n",
    "ax1.plot(asos_snotel_df['CMtnSNTL_12hr_SNWD_in']['11-23-2014':'11-26-2014'].dropna(), marker='+', markersize = 10, linestyle='-', label = \"resampled Snow Depth (12hr, first)\")\n",
    "#ax1.plot(asos_snotel_df['CMtnSNTL_12hr_SNWD_in']['11-23-2014':'11-26-2014'].shift(+1), marker='+',linestyle='-', markersize = 10 label = \"shifted +12hr\")\n",
    "#ax2.plot(asos_snotel_df['CMtnSNTL_Past12hrSNOWFALL_in']['11-23-2014':'11-26-2014'], marker='x', markersize = 15,  label = \"Past 12-hr Snowfall\")\n",
    "ax2.plot(asos_snotel_df['CMtnSNTL_Upcoming12hrSNOWFALL_in']['11-23-2014':'11-26-2014'], marker='.', markersize = 15,  label = \"Upcoming 12-hr Snowfall\")\n",
    "ax2.plot(asos_snotel_df['CMtnSNTL_Upcoming12hrSNOWFALL_gte3_in']['11-23-2014':'11-26-2014'], marker='.', markersize = 40, alpha = 0.5,  label = \"Upcoming 12-hr Snowfall >=3\")\n",
    "\n",
    "#ax2 = asos_snotel_UA_df['CMtn_1hr_Precipitation_mm']['01-06-2009':'01-09-2009'].plot(marker='+', markersize = 10, secondary_y = True)\n",
    "\n",
    "ax1.xaxis.set_major_locator(mdates.DayLocator(interval=1))\n",
    "ax1.xaxis.set_minor_locator(mdates.HourLocator(byhour=range(0, 24, 12)))\n",
    "ax1.xaxis.set_minor_formatter(mdates.DateFormatter('%H:%M'))  # hours and minutes\n",
    "ax1.xaxis.set_major_formatter(mdates.DateFormatter('\\n%m-%d-%Y')) \n",
    "#ax00.set_xlim(100, 12)\n",
    "\n",
    "#plt.plot(shifted_df, linestyle = '-', linewidth = 10)\n",
    "#print(shifted_df.describe)\n",
    "\n",
    "#xlabel('Item (s)')\n",
    "#ylabel('Value')\n",
    "#title('Python Line Chart: Plotting numbers')\n",
    "\n",
    "#plt.setp(ax1.xaxis.get_majorticklabels(), rotation=45)\n",
    "ax1.grid(True)\n",
    "#ax2.grid(True)\n",
    "ax1.legend(loc='upper left')\n",
    "ax2.legend(loc='upper right')\n",
    "\n",
    "\n",
    "\n",
    "#print(asos_snotel_df['12hr-dSNWD_in'].describe())\n",
    "print(asos_snotel_df['CMtnSNTL_Upcoming12hrSNOWFALL_gte3_in'].describe())"
   ]
  },
  {
   "cell_type": "markdown",
   "metadata": {},
   "source": [
    "It is important to keep in mind that 'CMtnSNTL_12hr_SNWD_in contains snow depth info taken at the start of the respective 12hr period timestamp.  The snowfall calculated also gives the snowfall that fell in the 12hrs after the timestamp.  The OLS model will utilize hourly meteorological measurements at exactly 00:00 and 12:00 hours to predict the amount of snow which will fall in the next 12 hour period.  For example, the 00:00 meteorological measurements will be used to predict the snow which fell between 00:00 and 12:00."
   ]
  },
  {
   "cell_type": "markdown",
   "metadata": {},
   "source": [
    "**Include a delta Pressure variable**"
   ]
  },
  {
   "cell_type": "code",
   "execution_count": null,
   "metadata": {},
   "outputs": [],
   "source": [
    "asos_snotel_UA_df['LXV_12hr_delta_Pressure_hp'] = asos_snotel_UA_df['LXV_Pressure_hp']-asos_snotel_UA_df['LXV_Pressure_hp'].shift(+12)\n",
    "print(asos_snotel_UA_df['LXV_12hr_delta_Pressure_hp'].describe())"
   ]
  },
  {
   "cell_type": "code",
   "execution_count": null,
   "metadata": {},
   "outputs": [],
   "source": [
    "asos_snotel_df.to_csv('asos_snotel_clean_w_LXV.dat',sep = ',', float_format = '%.2f')"
   ]
  }
 ],
 "metadata": {
  "kernelspec": {
   "display_name": "Python 3",
   "language": "python",
   "name": "python3"
  },
  "language_info": {
   "codemirror_mode": {
    "name": "ipython",
    "version": 3
   },
   "file_extension": ".py",
   "mimetype": "text/x-python",
   "name": "python",
   "nbconvert_exporter": "python",
   "pygments_lexer": "ipython3",
   "version": "3.6.5"
  }
 },
 "nbformat": 4,
 "nbformat_minor": 2
}
