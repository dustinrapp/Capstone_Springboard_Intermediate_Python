{
 "cells": [
  {
   "cell_type": "markdown",
   "metadata": {},
   "source": [
    "## Data Prep"
   ]
  },
  {
   "cell_type": "markdown",
   "metadata": {},
   "source": [
    "**Import necessary modules and the ASOS/SNOTEL dataframes**"
   ]
  },
  {
   "cell_type": "code",
   "execution_count": 1,
   "metadata": {},
   "outputs": [
    {
     "name": "stdout",
     "output_type": "stream",
     "text": [
      "\n",
      "INSTALLED VERSIONS\n",
      "------------------\n",
      "commit: None\n",
      "python: 3.6.5.final.0\n",
      "python-bits: 32\n",
      "OS: Windows\n",
      "OS-release: 10\n",
      "machine: AMD64\n",
      "processor: Intel64 Family 6 Model 142 Stepping 9, GenuineIntel\n",
      "byteorder: little\n",
      "LC_ALL: None\n",
      "LANG: en_US.UTF-8\n",
      "LOCALE: None.None\n",
      "\n",
      "pandas: 0.24.0\n",
      "pytest: None\n",
      "pip: 18.1\n",
      "setuptools: 39.0.1\n",
      "Cython: None\n",
      "numpy: 1.14.3\n",
      "scipy: 1.1.0\n",
      "pyarrow: None\n",
      "xarray: None\n",
      "IPython: 6.4.0\n",
      "sphinx: None\n",
      "patsy: 0.5.1\n",
      "dateutil: 2.7.3\n",
      "pytz: 2018.4\n",
      "blosc: None\n",
      "bottleneck: None\n",
      "tables: None\n",
      "numexpr: None\n",
      "feather: None\n",
      "matplotlib: 2.2.2\n",
      "openpyxl: None\n",
      "xlrd: None\n",
      "xlwt: None\n",
      "xlsxwriter: None\n",
      "lxml.etree: 4.2.5\n",
      "bs4: None\n",
      "html5lib: 1.0.1\n",
      "sqlalchemy: None\n",
      "pymysql: None\n",
      "psycopg2: None\n",
      "jinja2: 2.10\n",
      "s3fs: None\n",
      "fastparquet: None\n",
      "pandas_gbq: None\n",
      "pandas_datareader: None\n",
      "gcsfs: None\n"
     ]
    },
    {
     "data": {
      "text/plain": [
       "'c:\\\\users\\\\rapp\\\\appdata\\\\local\\\\programs\\\\python\\\\python36-32\\\\python.exe'"
      ]
     },
     "execution_count": 1,
     "metadata": {},
     "output_type": "execute_result"
    }
   ],
   "source": [
    "import pandas as pd\n",
    "import matplotlib.pyplot as plt\n",
    "import numpy as np\n",
    "import datetime as dtb\n",
    "import os\n",
    "from glob import glob\n",
    "import datetime as dt\n",
    "import seaborn as sns\n",
    "pd.show_versions()\n",
    "import sys\n",
    "import graphviz\n",
    "sys.executable\n",
    "#import graphviz"
   ]
  },
  {
   "cell_type": "code",
   "execution_count": 2,
   "metadata": {},
   "outputs": [
    {
     "name": "stdout",
     "output_type": "stream",
     "text": [
      "Index(['CMtnSNTL_Temp_degC', 'CMtnSNTL_SnowDepth_in', 'CMtn_Temperature_degC',\n",
      "       'CMtn_Dewpoint_degC', 'CMtn_WindDirection_deg', 'CMtn_WindSpeed_mps',\n",
      "       'CMtn_CloudCover_oktas', 'CMtn_1hr_Precipitation_mm',\n",
      "       'LXV_Temperature_degC', 'LXV_Dewpoint_degC',\n",
      "       ...\n",
      "       'KGJT_d300_200_height_m', 'KGJT_d300_200_tmpc', 'KGJT_d300_200_dwpc',\n",
      "       'KGJT_d300_200_drct', 'KGJT_d300_200_speed_kts',\n",
      "       'KGJT_d250_200_height_m', 'KGJT_d250_200_tmpc', 'KGJT_d250_200_dwpc',\n",
      "       'KGJT_d250_200_drct', 'KGJT_d250_200_speed_kts'],\n",
      "      dtype='object', length=163)\n"
     ]
    }
   ],
   "source": [
    "data = [pd.read_csv('asos_snotel_UA_12hr_df.dat', parse_dates = True, index_col = 'Date_Time')]\n",
    "asos_snotel_UA_df = pd.concat(data)\n",
    "#asos_snotel_UA_df['LXV_WindSpeed_m/s']\n",
    "\n",
    "#asos_snotel_UA_df.rename(columns={'LXV_WindSpeed_m/s': 'LXV_WindSpeed_mps'}, inplace=True)\n",
    "\n",
    "asos_snotel_UA_df.astype('float16')\n",
    "pd.set_option('display.expand_frame_repr', True)\n",
    "\n",
    "\n",
    "print(asos_snotel_UA_df.keys())\n",
    "\n",
    "\n",
    "\n",
    "\n",
    "#delete empty columns as they mess up loops\n",
    "#del asos_snotel_UA_df['CMtn_6hr_Precipitation_mm']            #empty column\n"
   ]
  },
  {
   "cell_type": "markdown",
   "metadata": {},
   "source": [
    "It is important to keep in mind that 'CMtnSNTL_12hr_SNWD_in contains snow depth info taken at the start of the respective 12hr period timestamp.  The snowfall calculated also gives the snowfall that fell in the 12hrs after the timestamp.  The OLS model will utilize hourly meteorological measurements at exactly 00:00 and 12:00 hours to predict the amount of snow which will fall in the next 12 hour period.  For example, the 00:00 meteorological measurements will be used to predict the snow which fell between 00:00 and 12:00."
   ]
  },
  {
   "cell_type": "markdown",
   "metadata": {},
   "source": [
    "#### Do a test to make sure some pythonic lines of code work the way I think I do to bring data into a list format for the DecisionTree model"
   ]
  },
  {
   "cell_type": "code",
   "execution_count": 3,
   "metadata": {},
   "outputs": [
    {
     "name": "stdout",
     "output_type": "stream",
     "text": [
      "6574 6574\n",
      "True\n",
      "True\n"
     ]
    }
   ],
   "source": [
    "testtrain1 = []\n",
    "testtrain2 = []\n",
    "test_vars = ['LXV_Temperature_degC', 'LXV_Dewpoint_degC', 'LXV_WindSpeed_mps']\n",
    "\n",
    "\n",
    "#Method 1 [more pythonic]\n",
    "loop_idx = np.isfinite(asos_snotel_UA_df['2009':'2017']['CMtnSNTL_Upcoming12hrSNOWFALL_gte3_in'])\n",
    "for v in test_vars:\n",
    "    loop_idx = loop_idx & np.isfinite(asos_snotel_UA_df['2009':'2017'][v])\n",
    "\n",
    "gv = pd.DataFrame()\n",
    "#gv_asos_snotel_UA_df = asos_snotel_UA_df.copy\n",
    "#gv_asos_snotel_UA_df = asos_snotel_UA_df['2009':'2017'][['LXV_Temperature_degC', 'LXV_WindSpeed_mps', 'LXV_Dewpoint_degC']][loop_idx]\n",
    "testlist1 = asos_snotel_UA_df['2009':'2017'][['LXV_Temperature_degC', 'LXV_WindSpeed_mps', 'LXV_Dewpoint_degC']][loop_idx].apply(lambda x: x.tolist(), axis=1)\n",
    "#testtrain2 = testlist.apply(lambda x: testtrain2.append(x))\n",
    "testtrain1 = testlist1.tolist()\n",
    "\n",
    "\n",
    "#Method 2 [less pythonic]\n",
    "# Explicitly list each feature\n",
    "\n",
    "compare_idx = np.isfinite(asos_snotel_UA_df['2009':'2017']['CMtnSNTL_Upcoming12hrSNOWFALL_gte3_in']) & \\\n",
    "           np.isfinite(asos_snotel_UA_df['2009':'2017']['LXV_Temperature_degC']) & \\\n",
    "           np.isfinite(asos_snotel_UA_df['2009':'2017']['LXV_Dewpoint_degC']) & \\\n",
    "           np.isfinite(asos_snotel_UA_df['2009':'2017']['LXV_WindSpeed_mps'])\n",
    "\n",
    "for index, rows in asos_snotel_UA_df['2009':'2017'][compare_idx].iterrows(): \n",
    "    # Create list for the current row \n",
    "    testlist2 =[rows['LXV_Temperature_degC'], rows['LXV_WindSpeed_mps'], rows['LXV_Dewpoint_degC']] \n",
    "    # append the list to the final list \n",
    "    testtrain2.append(testlist2)\n",
    "    \n",
    "print(len(loop_idx), len(compare_idx))\n",
    "print(loop_idx.equals(compare_idx))\n",
    "print(testtrain2 == testtrain1)\n"
   ]
  },
  {
   "cell_type": "markdown",
   "metadata": {},
   "source": [
    "# Decision Tree with Surface Features Only"
   ]
  },
  {
   "cell_type": "markdown",
   "metadata": {},
   "source": [
    "### Now identify variables which have good data capture"
   ]
  },
  {
   "cell_type": "code",
   "execution_count": 4,
   "metadata": {},
   "outputs": [
    {
     "name": "stdout",
     "output_type": "stream",
     "text": [
      "Variables with >= 67% data match to snowfall: \n",
      "['CMtnSNTL_Temp_degC', 'CMtn_Temperature_degC', 'CMtn_Dewpoint_degC', 'CMtn_WindDirection_deg', 'CMtn_WindSpeed_mps', 'LXV_Temperature_degC', 'LXV_Dewpoint_degC', 'LXV_Pressure_hp', 'LXV_WindSpeed_mps', 'LXV_WindDirection_deg', 'LXV_12hr_delta_Pressure_hp']\n",
      "Variables with < 67% data match to snowfall: \n",
      "['CMtn_CloudCover_oktas', 'LXV_CloudCover_oktas']\n"
     ]
    }
   ],
   "source": [
    "variables = ['CMtnSNTL_Temp_degC', 'CMtn_Temperature_degC', 'CMtn_Dewpoint_degC', 'CMtn_WindDirection_deg', 'CMtn_WindSpeed_mps', 'CMtn_CloudCover_oktas', \\\n",
    " 'LXV_Temperature_degC', 'LXV_Dewpoint_degC', 'LXV_Pressure_hp', 'LXV_WindSpeed_mps', 'LXV_WindDirection_deg', 'LXV_CloudCover_oktas', 'LXV_12hr_delta_Pressure_hp']\n",
    "\n",
    "good_vars_sfc = []\n",
    "bad_vars_sfc = []\n",
    "for var in variables:\n",
    "    idx = np.isfinite(asos_snotel_UA_df['2009':'2017']['CMtnSNTL_Upcoming12hrSNOWFALL_gte3_in']) & np.isfinite(asos_snotel_UA_df['2009':'2017'][var])\n",
    "    total_poss = len(asos_snotel_UA_df['2009':'2017']['CMtnSNTL_Upcoming12hrSNOWFALL_gte3_in'][asos_snotel_UA_df['2009':'2017']['CMtnSNTL_Upcoming12hrSNOWFALL_gte3_in']>=0])\n",
    "    total_avail =len(asos_snotel_UA_df['2009':'2017'][idx])\n",
    "    if total_avail/total_poss >= 0.67: \n",
    "        good_vars_sfc.append(var)\n",
    "    else:\n",
    "        bad_vars_sfc.append(var)\n",
    "\n",
    "       \n",
    "print('Variables with >= 67% data match to snowfall: ')\n",
    "print(good_vars_sfc)\n",
    "print('Variables with < 67% data match to snowfall: ')\n",
    "print(bad_vars_sfc)"
   ]
  },
  {
   "cell_type": "markdown",
   "metadata": {},
   "source": [
    "### Set up test data"
   ]
  },
  {
   "cell_type": "code",
   "execution_count": 5,
   "metadata": {},
   "outputs": [
    {
     "name": "stdout",
     "output_type": "stream",
     "text": [
      "[[-3.2, -7.0, -8.0, 340.0, 5.1, -4.4, -7.2, 993.4, 2.6, 70.0, -5.2], [-6.2, -9.0, -12.0, 290.0, 10.8, -6.7, -8.9, 1005.8, 4.1, 310.0, -4.2], [-8.2, -9.0, -12.0, 290.0, 7.7, -7.0, -9.0, 1004.3, 1.5, 180.0, -5.4], [-8.0, -9.0, -12.0, 310.0, 7.7, -7.2, -11.1, 1022.6, 1.5, 10.0, -2.4], [-4.3, -8.0, -12.0, 260.0, 9.8, -2.2, -12.2, 1003.9, 3.1, 310.0, -9.0]] [5.0, 4.0, 5.0, 4.0, 5.0]\n"
     ]
    }
   ],
   "source": [
    "Xtest = []\n",
    "Xtest_feat =[]\n",
    "Ytest = []\n",
    "Ytest_actsnf = []\n",
    "idx_test = []\n",
    "\n",
    "idx_test = np.isfinite(asos_snotel_UA_df['2006':'2008']['CMtnSNTL_Upcoming12hrSNOWFALL_gte3_in'])\n",
    "for v in good_vars_sfc:\n",
    "    idx_test = idx_test & np.isfinite(asos_snotel_UA_df['2006':'2008'][v])    \n",
    "    \n",
    "Ytest = round(asos_snotel_UA_df['CMtnSNTL_Upcoming12hrSNOWFALL_gte3_in']['2006':'2008'][idx_test],0)\n",
    "Ytest_actsnf  = Ytest.tolist()\n",
    "\n",
    "gv = pd.DataFrame()\n",
    "#gv_asos_snotel_UA_df = asos_snotel_UA_df.copy\n",
    "#gv_asos_snotel_UA_df = asos_snotel_UA_df['2009':'2017'][['LXV_Temperature_degC', 'LXV_WindSpeed_mps', 'LXV_Dewpoint_degC']][loop_idx]\n",
    "Xtest = asos_snotel_UA_df['2006':'2008'][good_vars_sfc][idx_test].apply(lambda x: x.tolist(), axis=1)\n",
    "#testtrain2 = testlist.apply(lambda x: testtrain2.append(x))\n",
    "Xtest_feat = Xtest.tolist()\n",
    "print(Xtest_feat[0:5], Ytest_actsnf[0:5])\n"
   ]
  },
  {
   "cell_type": "markdown",
   "metadata": {},
   "source": [
    "### Set up training data with 2009-2017 years"
   ]
  },
  {
   "cell_type": "code",
   "execution_count": 6,
   "metadata": {},
   "outputs": [
    {
     "name": "stdout",
     "output_type": "stream",
     "text": [
      "[[-6.6, -11.0, -14.0, 270.0, 15.4, -8.3, -10.0, 1011.7, 7.2, 30.0, -0.1], [-7.3, -11.0, -15.0, 270.0, 11.04, -8.0, -11.0, 1025.1, 5.7, 350.0, -4.0], [-0.6, -3.0, -6.0, 260.0, 7.2, 0.0, -2.2, 1011.6, 4.1, 20.0, -1.7], [-4.2, -7.0, -10.0, 270.0, 7.7, -2.8, -6.7, 1016.0, 1.5, 133.33, 0.6], [-2.6, -5.0, -8.0, 250.0, 8.8, -1.1, -5.0, 1017.9, 2.6, 100.0, -2.9]] [4.0, 4.0, 4.0, 3.0, 5.0]\n"
     ]
    }
   ],
   "source": [
    "Xtrain = []\n",
    "Xtrain_feat =[]\n",
    "Ytrain = []\n",
    "Ytrain_actsnf = []\n",
    "idx_test = []\n",
    "\n",
    "idx_train = np.isfinite(asos_snotel_UA_df['2009':'2017']['CMtnSNTL_Upcoming12hrSNOWFALL_gte3_in'])\n",
    "for v in good_vars_sfc:\n",
    "    idx_train = idx_train & np.isfinite(asos_snotel_UA_df['2009':'2017'][v])    \n",
    "    \n",
    "Ytrain = round(asos_snotel_UA_df['CMtnSNTL_Upcoming12hrSNOWFALL_gte3_in']['2009':'2017'][idx_train],0)\n",
    "Ytrain_actsnf = Ytrain.tolist()\n",
    "\n",
    "\n",
    "gv = pd.DataFrame()\n",
    "#gv_asos_snotel_UA_df = asos_snotel_UA_df.copy\n",
    "#gv_asos_snotel_UA_df = asos_snotel_UA_df['2009':'2017'][['LXV_Temperature_degC', 'LXV_WindSpeed_mps', 'LXV_Dewpoint_degC']][loop_idx]\n",
    "Xtrain = asos_snotel_UA_df['2009':'2017'][good_vars_sfc][idx_train].apply(lambda x: x.tolist(), axis=1)\n",
    "#testtrain2 = testlist.apply(lambda x: testtrain2.append(x))\n",
    "Xtrain_feat = Xtrain.tolist()\n",
    "    \n",
    "print(Xtrain_feat[0:5], Ytrain_actsnf[0:5])\n",
    "\n",
    "    "
   ]
  },
  {
   "cell_type": "markdown",
   "metadata": {},
   "source": [
    "### Run model with suface features only"
   ]
  },
  {
   "cell_type": "code",
   "execution_count": 7,
   "metadata": {},
   "outputs": [
    {
     "name": "stdout",
     "output_type": "stream",
     "text": [
      "DecisionTreeClassifier(class_weight=None, criterion='gini', max_depth=3,\n",
      "            max_features=None, max_leaf_nodes=None,\n",
      "            min_impurity_decrease=0.0, min_impurity_split=None,\n",
      "            min_samples_leaf=1, min_samples_split=2,\n",
      "            min_weight_fraction_leaf=0.0, presort=False, random_state=None,\n",
      "            splitter='best')\n",
      "0.3918918918918919\n"
     ]
    },
    {
     "data": {
      "text/plain": [
       "Text(0,0.5,'Actual Minus Predicted Snowfall (in)')"
      ]
     },
     "execution_count": 7,
     "metadata": {},
     "output_type": "execute_result"
    },
    {
     "data": {
      "image/png": "[encoded data removed]",
      "text/plain": [
       "<Figure size 432x288 with 1 Axes>"
      ]
     },
     "metadata": {},
     "output_type": "display_data"
    }
   ],
   "source": [
    "clf =[]\n",
    "Y_predsnf = []\n",
    "\n",
    "from sklearn import tree\n",
    "clf = tree.DecisionTreeClassifier(max_depth=3)\n",
    "clf = clf.fit(Xtrain_feat, Ytrain_actsnf)\n",
    "\n",
    "print(clf)\n",
    "\n",
    "# Predict test set labels\n",
    "Y_predsnf = clf.predict(Xtest_feat)\n",
    "# Evaluate test-set accuracy\n",
    "\n",
    "\n",
    "from sklearn.metrics import accuracy_score\n",
    "print(accuracy_score(Ytest_actsnf, Y_predsnf))\n",
    "#plt.plot(Ytestlist-y_pred) \n",
    "\n",
    "\n",
    "plt.scatter(Y_predsnf, Ytest_actsnf-Y_predsnf)\n",
    "plt.xlabel('Predicted Snowfall (in)')\n",
    "plt.ylabel('Actual Minus Predicted Snowfall (in)')"
   ]
  },
  {
   "cell_type": "markdown",
   "metadata": {},
   "source": [
    "Graphically view"
   ]
  },
  {
   "cell_type": "code",
   "execution_count": 10,
   "metadata": {},
   "outputs": [
    {
     "data": {
      "image/svg+xml": [
       "<?xml version=\"1.0\" encoding=\"UTF-8\" standalone=\"no\"?>\r\n",
       "<!DOCTYPE svg PUBLIC \"-//W3C//DTD SVG 1.1//EN\"\r\n",
       " \"http://www.w3.org/Graphics/SVG/1.1/DTD/svg11.dtd\">\r\n",
       "<!-- Generated by graphviz version 2.38.0 (20140413.2041)\r\n",
       " -->\r\n",
       "<!-- Title: Tree Pages: 1 -->\r\n",
       "<svg width=\"1532pt\" height=\"373pt\"\r\n",
       " viewBox=\"0.00 0.00 1531.50 373.00\" xmlns=\"http://www.w3.org/2000/svg\" xmlns:xlink=\"http://www.w3.org/1999/xlink\">\r\n",
       "<g id=\"graph0\" class=\"graph\" transform=\"scale(1 1) rotate(0) translate(4 369)\">\r\n",
       "<title>Tree</title>\r\n",
       "<polygon fill=\"white\" stroke=\"none\" points=\"-4,4 -4,-369 1527.5,-369 1527.5,4 -4,4\"/>\r\n",
       "<!-- 0 -->\r\n",
       "<g id=\"node1\" class=\"node\"><title>0</title>\r\n",
       "<polygon fill=\"none\" stroke=\"black\" points=\"889,-365 629,-365 629,-297 889,-297 889,-365\"/>\r\n",
       "<text text-anchor=\"middle\" x=\"759\" y=\"-349.8\" font-family=\"Times New Roman,serif\" font-size=\"14.00\">X[7] &lt;= 998.0</text>\r\n",
       "<text text-anchor=\"middle\" x=\"759\" y=\"-334.8\" font-family=\"Times New Roman,serif\" font-size=\"14.00\">gini = 0.769</text>\r\n",
       "<text text-anchor=\"middle\" x=\"759\" y=\"-319.8\" font-family=\"Times New Roman,serif\" font-size=\"14.00\">samples = 153</text>\r\n",
       "<text text-anchor=\"middle\" x=\"759\" y=\"-304.8\" font-family=\"Times New Roman,serif\" font-size=\"14.00\">value = [55, 39, 23, 16, 3, 7, 3, 1, 2, 2, 1, 1]</text>\r\n",
       "</g>\r\n",
       "<!-- 1 -->\r\n",
       "<g id=\"node2\" class=\"node\"><title>1</title>\r\n",
       "<polygon fill=\"none\" stroke=\"black\" points=\"745,-261 505,-261 505,-193 745,-193 745,-261\"/>\r\n",
       "<text text-anchor=\"middle\" x=\"625\" y=\"-245.8\" font-family=\"Times New Roman,serif\" font-size=\"14.00\">X[4] &lt;= 13.65</text>\r\n",
       "<text text-anchor=\"middle\" x=\"625\" y=\"-230.8\" font-family=\"Times New Roman,serif\" font-size=\"14.00\">gini = 0.713</text>\r\n",
       "<text text-anchor=\"middle\" x=\"625\" y=\"-215.8\" font-family=\"Times New Roman,serif\" font-size=\"14.00\">samples = 27</text>\r\n",
       "<text text-anchor=\"middle\" x=\"625\" y=\"-200.8\" font-family=\"Times New Roman,serif\" font-size=\"14.00\">value = [13, 2, 3, 4, 0, 3, 0, 1, 0, 0, 1, 0]</text>\r\n",
       "</g>\r\n",
       "<!-- 0&#45;&gt;1 -->\r\n",
       "<g id=\"edge1\" class=\"edge\"><title>0&#45;&gt;1</title>\r\n",
       "<path fill=\"none\" stroke=\"black\" d=\"M715.494,-296.884C703.207,-287.531 689.713,-277.259 676.982,-267.568\"/>\r\n",
       "<polygon fill=\"black\" stroke=\"black\" points=\"678.823,-264.571 668.746,-261.299 674.583,-270.141 678.823,-264.571\"/>\r\n",
       "<text text-anchor=\"middle\" x=\"672.105\" y=\"-282.373\" font-family=\"Times New Roman,serif\" font-size=\"14.00\">True</text>\r\n",
       "</g>\r\n",
       "<!-- 6 -->\r\n",
       "<g id=\"node7\" class=\"node\"><title>6</title>\r\n",
       "<polygon fill=\"none\" stroke=\"black\" points=\"1023,-261 763,-261 763,-193 1023,-193 1023,-261\"/>\r\n",
       "<text text-anchor=\"middle\" x=\"893\" y=\"-245.8\" font-family=\"Times New Roman,serif\" font-size=\"14.00\">X[10] &lt;= 1.525</text>\r\n",
       "<text text-anchor=\"middle\" x=\"893\" y=\"-230.8\" font-family=\"Times New Roman,serif\" font-size=\"14.00\">gini = 0.766</text>\r\n",
       "<text text-anchor=\"middle\" x=\"893\" y=\"-215.8\" font-family=\"Times New Roman,serif\" font-size=\"14.00\">samples = 126</text>\r\n",
       "<text text-anchor=\"middle\" x=\"893\" y=\"-200.8\" font-family=\"Times New Roman,serif\" font-size=\"14.00\">value = [42, 37, 20, 12, 3, 4, 3, 0, 2, 2, 0, 1]</text>\r\n",
       "</g>\r\n",
       "<!-- 0&#45;&gt;6 -->\r\n",
       "<g id=\"edge6\" class=\"edge\"><title>0&#45;&gt;6</title>\r\n",
       "<path fill=\"none\" stroke=\"black\" d=\"M802.506,-296.884C814.793,-287.531 828.287,-277.259 841.018,-267.568\"/>\r\n",
       "<polygon fill=\"black\" stroke=\"black\" points=\"843.417,-270.141 849.254,-261.299 839.177,-264.571 843.417,-270.141\"/>\r\n",
       "<text text-anchor=\"middle\" x=\"845.895\" y=\"-282.373\" font-family=\"Times New Roman,serif\" font-size=\"14.00\">False</text>\r\n",
       "</g>\r\n",
       "<!-- 2 -->\r\n",
       "<g id=\"node3\" class=\"node\"><title>2</title>\r\n",
       "<polygon fill=\"none\" stroke=\"black\" points=\"493,-157 253,-157 253,-89 493,-89 493,-157\"/>\r\n",
       "<text text-anchor=\"middle\" x=\"373\" y=\"-141.8\" font-family=\"Times New Roman,serif\" font-size=\"14.00\">X[10] &lt;= &#45;1.32</text>\r\n",
       "<text text-anchor=\"middle\" x=\"373\" y=\"-126.8\" font-family=\"Times New Roman,serif\" font-size=\"14.00\">gini = 0.678</text>\r\n",
       "<text text-anchor=\"middle\" x=\"373\" y=\"-111.8\" font-family=\"Times New Roman,serif\" font-size=\"14.00\">samples = 25</text>\r\n",
       "<text text-anchor=\"middle\" x=\"373\" y=\"-96.8\" font-family=\"Times New Roman,serif\" font-size=\"14.00\">value = [13, 2, 1, 4, 0, 3, 0, 1, 0, 0, 1, 0]</text>\r\n",
       "</g>\r\n",
       "<!-- 1&#45;&gt;2 -->\r\n",
       "<g id=\"edge2\" class=\"edge\"><title>1&#45;&gt;2</title>\r\n",
       "<path fill=\"none\" stroke=\"black\" d=\"M543.183,-192.884C517.967,-182.677 490.049,-171.377 464.241,-160.931\"/>\r\n",
       "<polygon fill=\"black\" stroke=\"black\" points=\"465.42,-157.632 454.838,-157.125 462.794,-164.121 465.42,-157.632\"/>\r\n",
       "</g>\r\n",
       "<!-- 5 -->\r\n",
       "<g id=\"node6\" class=\"node\"><title>5</title>\r\n",
       "<polygon fill=\"none\" stroke=\"black\" points=\"744.5,-149.5 511.5,-149.5 511.5,-96.5 744.5,-96.5 744.5,-149.5\"/>\r\n",
       "<text text-anchor=\"middle\" x=\"628\" y=\"-134.3\" font-family=\"Times New Roman,serif\" font-size=\"14.00\">gini = 0.0</text>\r\n",
       "<text text-anchor=\"middle\" x=\"628\" y=\"-119.3\" font-family=\"Times New Roman,serif\" font-size=\"14.00\">samples = 2</text>\r\n",
       "<text text-anchor=\"middle\" x=\"628\" y=\"-104.3\" font-family=\"Times New Roman,serif\" font-size=\"14.00\">value = [0, 0, 2, 0, 0, 0, 0, 0, 0, 0, 0, 0]</text>\r\n",
       "</g>\r\n",
       "<!-- 1&#45;&gt;5 -->\r\n",
       "<g id=\"edge5\" class=\"edge\"><title>1&#45;&gt;5</title>\r\n",
       "<path fill=\"none\" stroke=\"black\" d=\"M625.974,-192.884C626.288,-182.216 626.637,-170.352 626.955,-159.519\"/>\r\n",
       "<polygon fill=\"black\" stroke=\"black\" points=\"630.454,-159.619 627.249,-149.52 623.457,-159.413 630.454,-159.619\"/>\r\n",
       "</g>\r\n",
       "<!-- 3 -->\r\n",
       "<g id=\"node4\" class=\"node\"><title>3</title>\r\n",
       "<polygon fill=\"none\" stroke=\"black\" points=\"240,-53 0,-53 0,-0 240,-0 240,-53\"/>\r\n",
       "<text text-anchor=\"middle\" x=\"120\" y=\"-37.8\" font-family=\"Times New Roman,serif\" font-size=\"14.00\">gini = 0.603</text>\r\n",
       "<text text-anchor=\"middle\" x=\"120\" y=\"-22.8\" font-family=\"Times New Roman,serif\" font-size=\"14.00\">samples = 22</text>\r\n",
       "<text text-anchor=\"middle\" x=\"120\" y=\"-7.8\" font-family=\"Times New Roman,serif\" font-size=\"14.00\">value = [13, 0, 1, 4, 0, 2, 0, 1, 0, 0, 1, 0]</text>\r\n",
       "</g>\r\n",
       "<!-- 2&#45;&gt;3 -->\r\n",
       "<g id=\"edge3\" class=\"edge\"><title>2&#45;&gt;3</title>\r\n",
       "<path fill=\"none\" stroke=\"black\" d=\"M284.513,-88.9485C256.343,-78.4264 225.4,-66.8687 198.025,-56.6439\"/>\r\n",
       "<polygon fill=\"black\" stroke=\"black\" points=\"199.094,-53.3071 188.502,-53.0867 196.645,-59.8646 199.094,-53.3071\"/>\r\n",
       "</g>\r\n",
       "<!-- 4 -->\r\n",
       "<g id=\"node5\" class=\"node\"><title>4</title>\r\n",
       "<polygon fill=\"none\" stroke=\"black\" points=\"491.5,-53 258.5,-53 258.5,-0 491.5,-0 491.5,-53\"/>\r\n",
       "<text text-anchor=\"middle\" x=\"375\" y=\"-37.8\" font-family=\"Times New Roman,serif\" font-size=\"14.00\">gini = 0.444</text>\r\n",
       "<text text-anchor=\"middle\" x=\"375\" y=\"-22.8\" font-family=\"Times New Roman,serif\" font-size=\"14.00\">samples = 3</text>\r\n",
       "<text text-anchor=\"middle\" x=\"375\" y=\"-7.8\" font-family=\"Times New Roman,serif\" font-size=\"14.00\">value = [0, 2, 0, 0, 0, 1, 0, 0, 0, 0, 0, 0]</text>\r\n",
       "</g>\r\n",
       "<!-- 2&#45;&gt;4 -->\r\n",
       "<g id=\"edge4\" class=\"edge\"><title>2&#45;&gt;4</title>\r\n",
       "<path fill=\"none\" stroke=\"black\" d=\"M373.7,-88.9485C373.874,-80.7153 374.061,-71.848 374.238,-63.4814\"/>\r\n",
       "<polygon fill=\"black\" stroke=\"black\" points=\"377.743,-63.3086 374.455,-53.2367 370.744,-63.1604 377.743,-63.3086\"/>\r\n",
       "</g>\r\n",
       "<!-- 7 -->\r\n",
       "<g id=\"node8\" class=\"node\"><title>7</title>\r\n",
       "<polygon fill=\"none\" stroke=\"black\" points=\"1019,-157 765,-157 765,-89 1019,-89 1019,-157\"/>\r\n",
       "<text text-anchor=\"middle\" x=\"892\" y=\"-141.8\" font-family=\"Times New Roman,serif\" font-size=\"14.00\">X[4] &lt;= 5.285</text>\r\n",
       "<text text-anchor=\"middle\" x=\"892\" y=\"-126.8\" font-family=\"Times New Roman,serif\" font-size=\"14.00\">gini = 0.77</text>\r\n",
       "<text text-anchor=\"middle\" x=\"892\" y=\"-111.8\" font-family=\"Times New Roman,serif\" font-size=\"14.00\">samples = 102</text>\r\n",
       "<text text-anchor=\"middle\" x=\"892\" y=\"-96.8\" font-family=\"Times New Roman,serif\" font-size=\"14.00\">value = [29, 34, 17, 8, 3, 4, 3, 0, 2, 1, 0, 1]</text>\r\n",
       "</g>\r\n",
       "<!-- 6&#45;&gt;7 -->\r\n",
       "<g id=\"edge7\" class=\"edge\"><title>6&#45;&gt;7</title>\r\n",
       "<path fill=\"none\" stroke=\"black\" d=\"M892.675,-192.884C892.596,-184.778 892.51,-175.982 892.426,-167.472\"/>\r\n",
       "<polygon fill=\"black\" stroke=\"black\" points=\"895.924,-167.265 892.326,-157.299 888.925,-167.333 895.924,-167.265\"/>\r\n",
       "</g>\r\n",
       "<!-- 10 -->\r\n",
       "<g id=\"node11\" class=\"node\"><title>10</title>\r\n",
       "<polygon fill=\"none\" stroke=\"black\" points=\"1277,-157 1037,-157 1037,-89 1277,-89 1277,-157\"/>\r\n",
       "<text text-anchor=\"middle\" x=\"1157\" y=\"-141.8\" font-family=\"Times New Roman,serif\" font-size=\"14.00\">X[7] &lt;= 1005.05</text>\r\n",
       "<text text-anchor=\"middle\" x=\"1157\" y=\"-126.8\" font-family=\"Times New Roman,serif\" font-size=\"14.00\">gini = 0.646</text>\r\n",
       "<text text-anchor=\"middle\" x=\"1157\" y=\"-111.8\" font-family=\"Times New Roman,serif\" font-size=\"14.00\">samples = 24</text>\r\n",
       "<text text-anchor=\"middle\" x=\"1157\" y=\"-96.8\" font-family=\"Times New Roman,serif\" font-size=\"14.00\">value = [13, 3, 3, 4, 0, 0, 0, 0, 0, 1, 0, 0]</text>\r\n",
       "</g>\r\n",
       "<!-- 6&#45;&gt;10 -->\r\n",
       "<g id=\"edge10\" class=\"edge\"><title>6&#45;&gt;10</title>\r\n",
       "<path fill=\"none\" stroke=\"black\" d=\"M978.713,-192.884C1005.25,-182.633 1034.63,-171.278 1061.77,-160.794\"/>\r\n",
       "<polygon fill=\"black\" stroke=\"black\" points=\"1063.2,-163.994 1071.27,-157.125 1060.68,-157.464 1063.2,-163.994\"/>\r\n",
       "</g>\r\n",
       "<!-- 8 -->\r\n",
       "<g id=\"node9\" class=\"node\"><title>8</title>\r\n",
       "<polygon fill=\"none\" stroke=\"black\" points=\"754,-53 514,-53 514,-0 754,-0 754,-53\"/>\r\n",
       "<text text-anchor=\"middle\" x=\"634\" y=\"-37.8\" font-family=\"Times New Roman,serif\" font-size=\"14.00\">gini = 0.689</text>\r\n",
       "<text text-anchor=\"middle\" x=\"634\" y=\"-22.8\" font-family=\"Times New Roman,serif\" font-size=\"14.00\">samples = 32</text>\r\n",
       "<text text-anchor=\"middle\" x=\"634\" y=\"-7.8\" font-family=\"Times New Roman,serif\" font-size=\"14.00\">value = [5, 15, 8, 1, 1, 1, 0, 0, 0, 0, 0, 1]</text>\r\n",
       "</g>\r\n",
       "<!-- 7&#45;&gt;8 -->\r\n",
       "<g id=\"edge8\" class=\"edge\"><title>7&#45;&gt;8</title>\r\n",
       "<path fill=\"none\" stroke=\"black\" d=\"M801.764,-88.9485C773.037,-78.4264 741.483,-66.8687 713.567,-56.6439\"/>\r\n",
       "<polygon fill=\"black\" stroke=\"black\" points=\"714.449,-53.2396 703.856,-53.0867 712.042,-59.8126 714.449,-53.2396\"/>\r\n",
       "</g>\r\n",
       "<!-- 9 -->\r\n",
       "<g id=\"node10\" class=\"node\"><title>9</title>\r\n",
       "<polygon fill=\"none\" stroke=\"black\" points=\"1019.5,-53 772.5,-53 772.5,-0 1019.5,-0 1019.5,-53\"/>\r\n",
       "<text text-anchor=\"middle\" x=\"896\" y=\"-37.8\" font-family=\"Times New Roman,serif\" font-size=\"14.00\">gini = 0.777</text>\r\n",
       "<text text-anchor=\"middle\" x=\"896\" y=\"-22.8\" font-family=\"Times New Roman,serif\" font-size=\"14.00\">samples = 70</text>\r\n",
       "<text text-anchor=\"middle\" x=\"896\" y=\"-7.8\" font-family=\"Times New Roman,serif\" font-size=\"14.00\">value = [24, 19, 9, 7, 2, 3, 3, 0, 2, 1, 0, 0]</text>\r\n",
       "</g>\r\n",
       "<!-- 7&#45;&gt;9 -->\r\n",
       "<g id=\"edge9\" class=\"edge\"><title>7&#45;&gt;9</title>\r\n",
       "<path fill=\"none\" stroke=\"black\" d=\"M893.399,-88.9485C893.748,-80.7153 894.123,-71.848 894.477,-63.4814\"/>\r\n",
       "<polygon fill=\"black\" stroke=\"black\" points=\"897.984,-63.3758 894.911,-53.2367 890.991,-63.0797 897.984,-63.3758\"/>\r\n",
       "</g>\r\n",
       "<!-- 11 -->\r\n",
       "<g id=\"node12\" class=\"node\"><title>11</title>\r\n",
       "<polygon fill=\"none\" stroke=\"black\" points=\"1272.5,-53 1039.5,-53 1039.5,-0 1272.5,-0 1272.5,-53\"/>\r\n",
       "<text text-anchor=\"middle\" x=\"1156\" y=\"-37.8\" font-family=\"Times New Roman,serif\" font-size=\"14.00\">gini = 0.0</text>\r\n",
       "<text text-anchor=\"middle\" x=\"1156\" y=\"-22.8\" font-family=\"Times New Roman,serif\" font-size=\"14.00\">samples = 7</text>\r\n",
       "<text text-anchor=\"middle\" x=\"1156\" y=\"-7.8\" font-family=\"Times New Roman,serif\" font-size=\"14.00\">value = [7, 0, 0, 0, 0, 0, 0, 0, 0, 0, 0, 0]</text>\r\n",
       "</g>\r\n",
       "<!-- 10&#45;&gt;11 -->\r\n",
       "<g id=\"edge11\" class=\"edge\"><title>10&#45;&gt;11</title>\r\n",
       "<path fill=\"none\" stroke=\"black\" d=\"M1156.65,-88.9485C1156.56,-80.7153 1156.47,-71.848 1156.38,-63.4814\"/>\r\n",
       "<polygon fill=\"black\" stroke=\"black\" points=\"1159.88,-63.1991 1156.27,-53.2367 1152.88,-63.2732 1159.88,-63.1991\"/>\r\n",
       "</g>\r\n",
       "<!-- 12 -->\r\n",
       "<g id=\"node13\" class=\"node\"><title>12</title>\r\n",
       "<polygon fill=\"none\" stroke=\"black\" points=\"1523.5,-53 1290.5,-53 1290.5,-0 1523.5,-0 1523.5,-53\"/>\r\n",
       "<text text-anchor=\"middle\" x=\"1407\" y=\"-37.8\" font-family=\"Times New Roman,serif\" font-size=\"14.00\">gini = 0.754</text>\r\n",
       "<text text-anchor=\"middle\" x=\"1407\" y=\"-22.8\" font-family=\"Times New Roman,serif\" font-size=\"14.00\">samples = 17</text>\r\n",
       "<text text-anchor=\"middle\" x=\"1407\" y=\"-7.8\" font-family=\"Times New Roman,serif\" font-size=\"14.00\">value = [6, 3, 3, 4, 0, 0, 0, 0, 0, 1, 0, 0]</text>\r\n",
       "</g>\r\n",
       "<!-- 10&#45;&gt;12 -->\r\n",
       "<g id=\"edge12\" class=\"edge\"><title>10&#45;&gt;12</title>\r\n",
       "<path fill=\"none\" stroke=\"black\" d=\"M1244.44,-88.9485C1272.27,-78.4264 1302.85,-66.8687 1329.9,-56.6439\"/>\r\n",
       "<polygon fill=\"black\" stroke=\"black\" points=\"1331.19,-59.8965 1339.31,-53.0867 1328.72,-53.3487 1331.19,-59.8965\"/>\r\n",
       "</g>\r\n",
       "</g>\r\n",
       "</svg>\r\n"
      ],
      "text/plain": [
       "<graphviz.files.Source at 0xf7eb550>"
      ]
     },
     "execution_count": 10,
     "metadata": {},
     "output_type": "execute_result"
    }
   ],
   "source": [
    "\n",
    "import graphviz \n",
    "\n",
    "dot_data = tree.export_graphviz(clf, out_file=None, feature_names=good_vars_sfc, filled = True,special_characters = True, class_names = True, max_depth = 3) \n",
    "graph = graphviz.Source(dot_data) \n",
    "#graph.render() \n",
    "#dot_data = tree.export_graphviz(clf, out_file=None, \n",
    "#                      feature_names=iris.feature_names,  \n",
    "#                      class_names=iris.target_names,  \n",
    "#                      filled=True, rounded=True,  \n",
    "#                      special_characters=True)\n",
    "\n",
    "dot_data = tree.export_graphviz(clf)\n",
    "\n",
    "graph = graphviz.Source(dot_data)  \n",
    "graph "
   ]
  },
  {
   "cell_type": "markdown",
   "metadata": {},
   "source": [
    "Try max depth 10"
   ]
  },
  {
   "cell_type": "code",
   "execution_count": 11,
   "metadata": {},
   "outputs": [
    {
     "name": "stdout",
     "output_type": "stream",
     "text": [
      "DecisionTreeClassifier(class_weight=None, criterion='gini', max_depth=10,\n",
      "            max_features=None, max_leaf_nodes=None,\n",
      "            min_impurity_decrease=0.0, min_impurity_split=None,\n",
      "            min_samples_leaf=1, min_samples_split=2,\n",
      "            min_weight_fraction_leaf=0.0, presort=False, random_state=None,\n",
      "            splitter='best')\n",
      "0.20270270270270271\n"
     ]
    },
    {
     "data": {
      "text/plain": [
       "Text(0,0.5,'Actual Minus Predicted Snowfall (in)')"
      ]
     },
     "execution_count": 11,
     "metadata": {},
     "output_type": "execute_result"
    },
    {
     "data": {
      "image/png": "[encoded data removed]",
      "text/plain": [
       "<Figure size 432x288 with 1 Axes>"
      ]
     },
     "metadata": {},
     "output_type": "display_data"
    }
   ],
   "source": [
    "clf =[]\n",
    "Y_predsnf = []\n",
    "\n",
    "from sklearn import tree\n",
    "clf = tree.DecisionTreeClassifier(max_depth=10)\n",
    "clf = clf.fit(Xtrain_feat, Ytrain_actsnf)\n",
    "\n",
    "print(clf)\n",
    "\n",
    "# Predict test set labels\n",
    "Y_predsnf = clf.predict(Xtest_feat)\n",
    "# Evaluate test-set accuracy\n",
    "\n",
    "\n",
    "from sklearn.metrics import accuracy_score\n",
    "print(accuracy_score(Ytest_actsnf, Y_predsnf))\n",
    "#plt.plot(Ytestlist-y_pred) \n",
    "\n",
    "\n",
    "plt.scatter(Y_predsnf, Ytest_actsnf-Y_predsnf)\n",
    "plt.xlabel('Predicted Snowfall (in)')\n",
    "plt.ylabel('Actual Minus Predicted Snowfall (in)')"
   ]
  },
  {
   "cell_type": "markdown",
   "metadata": {},
   "source": [
    "Try multpile max depths"
   ]
  },
  {
   "cell_type": "code",
   "execution_count": 12,
   "metadata": {},
   "outputs": [
    {
     "data": {
      "text/plain": [
       "Text(0,0.5,'Accuracy Score')"
      ]
     },
     "execution_count": 12,
     "metadata": {},
     "output_type": "execute_result"
    },
    {
     "data": {
      "image/png": "[encoded data removed]",
      "text/plain": [
       "<Figure size 432x288 with 1 Axes>"
      ]
     },
     "metadata": {},
     "output_type": "display_data"
    }
   ],
   "source": [
    "from sklearn import tree\n",
    "from sklearn.metrics import accuracy_score\n",
    "accuracy = []\n",
    "\n",
    "for i in range(1,1000):\n",
    "  clf = []\n",
    "  clf = tree.DecisionTreeClassifier(max_depth=i)\n",
    "  clf = clf.fit(Xtrain_feat, Ytrain_actsnf)\n",
    "\n",
    "#print(clf)\n",
    "\n",
    "# Predict test set labels\n",
    "  Y_predsnf = clf.predict(Xtest_feat)\n",
    "# Evaluate test-set accuracy\n",
    "\n",
    "\n",
    "  accuracy.append(accuracy_score(Ytest_actsnf, Y_predsnf, normalize = True))\n",
    "#plt.plot(Ytestlist-y_pred) \n",
    "\n",
    "plt.plot(accuracy)\n",
    "plt.xlabel('Max Depth')\n",
    "plt.ylabel('Accuracy Score')\n",
    "#plt.scatter(y_pred, Ytestlist-y_pred)"
   ]
  },
  {
   "cell_type": "code",
   "execution_count": 13,
   "metadata": {},
   "outputs": [
    {
     "ename": "NameError",
     "evalue": "name 'iris' is not defined",
     "output_type": "error",
     "traceback": [
      "\u001b[1;31m---------------------------------------------------------------------------\u001b[0m",
      "\u001b[1;31mNameError\u001b[0m                                 Traceback (most recent call last)",
      "\u001b[1;32m<ipython-input-13-786bc1e7371b>\u001b[0m in \u001b[0;36m<module>\u001b[1;34m()\u001b[0m\n\u001b[1;32m----> 1\u001b[1;33m \u001b[0miris\u001b[0m\u001b[1;33m.\u001b[0m\u001b[0mfeature_names\u001b[0m\u001b[1;33m\u001b[0m\u001b[0m\n\u001b[0m\u001b[0;32m      2\u001b[0m \u001b[0miris\u001b[0m\u001b[1;33m.\u001b[0m\u001b[0mtarget_names\u001b[0m\u001b[1;33m\u001b[0m\u001b[0m\n",
      "\u001b[1;31mNameError\u001b[0m: name 'iris' is not defined"
     ]
    }
   ],
   "source": [
    "iris.feature_names\n",
    "iris.target_names"
   ]
  }
 ],
 "metadata": {
  "kernelspec": {
   "display_name": "Python 3",
   "language": "python",
   "name": "python3"
  },
  "language_info": {
   "codemirror_mode": {
    "name": "ipython",
    "version": 3
   },
   "file_extension": ".py",
   "mimetype": "text/x-python",
   "name": "python",
   "nbconvert_exporter": "python",
   "pygments_lexer": "ipython3",
   "version": "3.6.5"
  }
 },
 "nbformat": 4,
 "nbformat_minor": 2
}
