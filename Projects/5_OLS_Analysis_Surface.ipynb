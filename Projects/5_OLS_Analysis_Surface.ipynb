{
 "cells": [
  {
   "cell_type": "markdown",
   "metadata": {},
   "source": [
    "## Data Prep"
   ]
  },
  {
   "cell_type": "markdown",
   "metadata": {},
   "source": [
    "**Import necessary modules and the ASOS/SNOTEL dataframes**"
   ]
  },
  {
   "cell_type": "code",
   "execution_count": 1,
   "metadata": {},
   "outputs": [],
   "source": [
    "import pandas as pd\n",
    "import matplotlib.pyplot as plt\n",
    "import numpy as np\n",
    "import datetime as dtb\n",
    "import os\n",
    "from glob import glob\n",
    "import datetime as dt\n",
    "import seaborn as sns"
   ]
  },
  {
   "cell_type": "code",
   "execution_count": 2,
   "metadata": {},
   "outputs": [
    {
     "name": "stdout",
     "output_type": "stream",
     "text": [
      "Index(['CMtnSNTL_Temp_degC', 'CMtnSNTL_SnowDepth_in', 'CMtn_Temperature_degC',\n",
      "       'CMtn_Dewpoint_degC', 'CMtn_Pressure_hp', 'CMtn_WindDirection_deg',\n",
      "       'CMtn_WindSpeed_mps', 'CMtn_CloudCover_oktas',\n",
      "       'CMtn_1hr_Precipitation_mm', 'CMtn_6hr_Precipitation_mm',\n",
      "       ...\n",
      "       'KGJT_d300_200_height_m', 'KGJT_d300_200_tmpc', 'KGJT_d300_200_dwpc',\n",
      "       'KGJT_d300_200_drct', 'KGJT_d300_200_speed_kts',\n",
      "       'KGJT_d250_200_height_m', 'KGJT_d250_200_tmpc', 'KGJT_d250_200_dwpc',\n",
      "       'KGJT_d250_200_drct', 'KGJT_d250_200_speed_kts'],\n",
      "      dtype='object', length=165)\n"
     ]
    }
   ],
   "source": [
    "data = [pd.read_csv('asos_snotel_UA_12hr_df.dat', parse_dates = True, index_col = 'Date_Time')]\n",
    "asos_snotel_UA_df = pd.concat(data)\n",
    "#asos_snotel_UA_df['LXV_WindSpeed_m/s']\n",
    "\n",
    "#asos_snotel_UA_df.rename(columns={'LXV_WindSpeed_m/s': 'LXV_WindSpeed_mps'}, inplace=True)\n",
    "\n",
    "asos_snotel_UA_df.astype('float16')\n",
    "pd.set_option('display.expand_frame_repr', True)\n",
    "\n",
    "\n",
    "print(asos_snotel_UA_df.keys())\n",
    "\n",
    "\n",
    "\n",
    "\n",
    "#delete empty columns as they mess up loops\n",
    "#del asos_snotel_UA_df['CMtn_6hr_Precipitation_mm']            #empty column\n"
   ]
  },
  {
   "cell_type": "markdown",
   "metadata": {},
   "source": [
    "It is important to keep in mind that 'CMtnSNTL_12hr_SNWD_in contains snow depth info taken at the start of the respective 12hr period timestamp.  The snowfall calculated also gives the snowfall that fell in the 12hrs after the timestamp.  The OLS model will utilize hourly meteorological measurements at exactly 00:00 and 12:00 hours to predict the amount of snow which will fall in the next 12 hour period.  For example, the 00:00 meteorological measurements will be used to predict the snow which fell between 00:00 and 12:00."
   ]
  },
  {
   "cell_type": "code",
   "execution_count": 3,
   "metadata": {},
   "outputs": [],
   "source": [
    "#asos_snotel_UA_df['LXV_12hr_delta_Pressure_hp'] = asos_snotel_UA_df['LXV_Pressure_hp']-asos_snotel_UA_df['LXV_Pressure_hp'].shift(+12)\n",
    "#print(asos_snotel_UA_df['LXV_12hr_delta_Pressure_hp'].describe())\n"
   ]
  },
  {
   "cell_type": "markdown",
   "metadata": {},
   "source": [
    "***\n",
    "# OLS Analysis of meteorological variables and snowfall (Training Dataset: 2008-2017 only)"
   ]
  },
  {
   "cell_type": "markdown",
   "metadata": {},
   "source": [
    "**We will first utilize just the Copper Mountain surface level variables and run the model explicitly to generate statistics.  This will give snowfall predictive capability of individual meteorological variables (Dewpoint, SNOTEL Temperature, Temperature, Wind Speed, Cloud Cover, Wind Direction, 6hr Pressure change, and Pressure) using an OLS model and the 2008-2017 training dataset. The resulting values will also be used to verify some code which performs same analysis, but with a loop.  This code will then be fed all upper air and surface level variables to determine best combination of variables in the OLS model.**\n"
   ]
  },
  {
   "cell_type": "code",
   "execution_count": 4,
   "metadata": {},
   "outputs": [],
   "source": [
    "#Import statsmodel\n",
    "\n",
    "import statsmodels.api as sm\n",
    "#import statsmodel\n",
    "from statsmodels.formula.api import ols"
   ]
  },
  {
   "cell_type": "markdown",
   "metadata": {},
   "source": [
    "### Single Variable OLS (CMtn Surface Variables)\n"
   ]
  },
  {
   "cell_type": "code",
   "execution_count": 5,
   "metadata": {},
   "outputs": [
    {
     "name": "stdout",
     "output_type": "stream",
     "text": [
      "                                      OLS Regression Results                                     \n",
      "=================================================================================================\n",
      "Dep. Variable:     CMtnSNTL_Upcoming12hrSNOWFALL_gte3_in   R-squared:                       0.014\n",
      "Model:                                               OLS   Adj. R-squared:                  0.008\n",
      "Method:                                    Least Squares   F-statistic:                     2.504\n",
      "Date:                                   Thu, 31 Jan 2019   Prob (F-statistic):              0.115\n",
      "Time:                                           08:33:15   Log-Likelihood:                -409.26\n",
      "No. Observations:                                    183   AIC:                             822.5\n",
      "Df Residuals:                                        181   BIC:                             828.9\n",
      "Df Model:                                              1                                         \n",
      "Covariance Type:                               nonrobust                                         \n",
      "======================================================================================\n",
      "                         coef    std err          t      P>|t|      [0.025      0.975]\n",
      "--------------------------------------------------------------------------------------\n",
      "Intercept              5.2762      0.414     12.746      0.000       4.459       6.093\n",
      "CMtn_Dewpoint_degC     0.0640      0.040      1.582      0.115      -0.016       0.144\n",
      "==============================================================================\n",
      "Omnibus:                       93.573   Durbin-Watson:                   1.945\n",
      "Prob(Omnibus):                  0.000   Jarque-Bera (JB):              340.279\n",
      "Skew:                           2.110   Prob(JB):                     1.29e-74\n",
      "Kurtosis:                       8.179   Cond. No.                         25.4\n",
      "==============================================================================\n",
      "\n",
      "Warnings:\n",
      "[1] Standard Errors assume that the covariance matrix of the errors is correctly specified.\n",
      "\n",
      " ++++++++++++++++++++++++++++++++++++++++++++++++++++++++++++++++++++++++++++++++++ \n",
      "\n",
      "                                      OLS Regression Results                                     \n",
      "=================================================================================================\n",
      "Dep. Variable:     CMtnSNTL_Upcoming12hrSNOWFALL_gte3_in   R-squared:                       0.002\n",
      "Model:                                               OLS   Adj. R-squared:                 -0.002\n",
      "Method:                                    Least Squares   F-statistic:                    0.5782\n",
      "Date:                                   Thu, 31 Jan 2019   Prob (F-statistic):              0.448\n",
      "Time:                                           08:33:15   Log-Likelihood:                -552.55\n",
      "No. Observations:                                    245   AIC:                             1109.\n",
      "Df Residuals:                                        243   BIC:                             1116.\n",
      "Df Model:                                              1                                         \n",
      "Covariance Type:                               nonrobust                                         \n",
      "======================================================================================\n",
      "                         coef    std err          t      P>|t|      [0.025      0.975]\n",
      "--------------------------------------------------------------------------------------\n",
      "Intercept              4.8118      0.203     23.712      0.000       4.412       5.212\n",
      "CMtnSNTL_Temp_degC     0.0292      0.038      0.760      0.448      -0.046       0.105\n",
      "==============================================================================\n",
      "Omnibus:                      128.957   Durbin-Watson:                   1.901\n",
      "Prob(Omnibus):                  0.000   Jarque-Bera (JB):              567.127\n",
      "Skew:                           2.219   Prob(JB):                    7.08e-124\n",
      "Kurtosis:                       8.989   Cond. No.                         7.36\n",
      "==============================================================================\n",
      "\n",
      "Warnings:\n",
      "[1] Standard Errors assume that the covariance matrix of the errors is correctly specified.\n",
      "\n",
      " ++++++++++++++++++++++++++++++++++++++++++++++++++++++++++++++++++++++++++++++++++ \n",
      "\n",
      "                                      OLS Regression Results                                     \n",
      "=================================================================================================\n",
      "Dep. Variable:     CMtnSNTL_Upcoming12hrSNOWFALL_gte3_in   R-squared:                       0.001\n",
      "Model:                                               OLS   Adj. R-squared:                 -0.004\n",
      "Method:                                    Least Squares   F-statistic:                    0.2094\n",
      "Date:                                   Thu, 31 Jan 2019   Prob (F-statistic):              0.648\n",
      "Time:                                           08:33:15   Log-Likelihood:                -410.41\n",
      "No. Observations:                                    183   AIC:                             824.8\n",
      "Df Residuals:                                        181   BIC:                             831.2\n",
      "Df Model:                                              1                                         \n",
      "Covariance Type:                               nonrobust                                         \n",
      "=========================================================================================\n",
      "                            coef    std err          t      P>|t|      [0.025      0.975]\n",
      "-----------------------------------------------------------------------------------------\n",
      "Intercept                 4.7576      0.243     19.566      0.000       4.278       5.237\n",
      "CMtn_Temperature_degC     0.0182      0.040      0.458      0.648      -0.060       0.097\n",
      "==============================================================================\n",
      "Omnibus:                       95.897   Durbin-Watson:                   1.940\n",
      "Prob(Omnibus):                  0.000   Jarque-Bera (JB):              362.433\n",
      "Skew:                           2.151   Prob(JB):                     1.99e-79\n",
      "Kurtosis:                       8.387   Cond. No.                         8.90\n",
      "==============================================================================\n",
      "\n",
      "Warnings:\n",
      "[1] Standard Errors assume that the covariance matrix of the errors is correctly specified.\n",
      "\n",
      " ++++++++++++++++++++++++++++++++++++++++++++++++++++++++++++++++++++++++++++++++++ \n",
      "\n",
      "                                      OLS Regression Results                                     \n",
      "=================================================================================================\n",
      "Dep. Variable:     CMtnSNTL_Upcoming12hrSNOWFALL_gte3_in   R-squared:                       0.021\n",
      "Model:                                               OLS   Adj. R-squared:                  0.015\n",
      "Method:                                    Least Squares   F-statistic:                     3.770\n",
      "Date:                                   Thu, 31 Jan 2019   Prob (F-statistic):             0.0538\n",
      "Time:                                           08:33:15   Log-Likelihood:                -390.25\n",
      "No. Observations:                                    177   AIC:                             784.5\n",
      "Df Residuals:                                        175   BIC:                             790.8\n",
      "Df Model:                                              1                                         \n",
      "Covariance Type:                               nonrobust                                         \n",
      "======================================================================================\n",
      "                         coef    std err          t      P>|t|      [0.025      0.975]\n",
      "--------------------------------------------------------------------------------------\n",
      "Intercept              4.0159      0.377     10.661      0.000       3.273       4.759\n",
      "CMtn_WindSpeed_mps     0.0842      0.043      1.942      0.054      -0.001       0.170\n",
      "==============================================================================\n",
      "Omnibus:                       98.926   Durbin-Watson:                   1.895\n",
      "Prob(Omnibus):                  0.000   Jarque-Bera (JB):              444.733\n",
      "Skew:                           2.206   Prob(JB):                     2.68e-97\n",
      "Kurtosis:                       9.390   Cond. No.                         19.9\n",
      "==============================================================================\n",
      "\n",
      "Warnings:\n",
      "[1] Standard Errors assume that the covariance matrix of the errors is correctly specified.\n",
      "\n",
      " ++++++++++++++++++++++++++++++++++++++++++++++++++++++++++++++++++++++++++++++++++ \n",
      "\n",
      "                                      OLS Regression Results                                     \n",
      "=================================================================================================\n",
      "Dep. Variable:     CMtnSNTL_Upcoming12hrSNOWFALL_gte3_in   R-squared:                       0.017\n",
      "Model:                                               OLS   Adj. R-squared:                  0.002\n",
      "Method:                                    Least Squares   F-statistic:                     1.153\n",
      "Date:                                   Thu, 31 Jan 2019   Prob (F-statistic):              0.287\n",
      "Time:                                           08:33:15   Log-Likelihood:                -148.37\n",
      "No. Observations:                                     70   AIC:                             300.7\n",
      "Df Residuals:                                         68   BIC:                             305.2\n",
      "Df Model:                                              1                                         \n",
      "Covariance Type:                               nonrobust                                         \n",
      "=========================================================================================\n",
      "                            coef    std err          t      P>|t|      [0.025      0.975]\n",
      "-----------------------------------------------------------------------------------------\n",
      "Intercept                 3.2495      1.129      2.877      0.005       0.996       5.503\n",
      "CMtn_CloudCover_oktas     0.1597      0.149      1.074      0.287      -0.137       0.457\n",
      "==============================================================================\n",
      "Omnibus:                       36.566   Durbin-Watson:                   2.062\n",
      "Prob(Omnibus):                  0.000   Jarque-Bera (JB):               76.770\n",
      "Skew:                           1.843   Prob(JB):                     2.14e-17\n",
      "Kurtosis:                       6.568   Cond. No.                         35.7\n",
      "==============================================================================\n",
      "\n",
      "Warnings:\n",
      "[1] Standard Errors assume that the covariance matrix of the errors is correctly specified.\n",
      "\n",
      " ++++++++++++++++++++++++++++++++++++++++++++++++++++++++++++++++++++++++++++++++++ \n",
      "\n",
      "                                      OLS Regression Results                                     \n",
      "=================================================================================================\n",
      "Dep. Variable:     CMtnSNTL_Upcoming12hrSNOWFALL_gte3_in   R-squared:                       0.002\n",
      "Model:                                               OLS   Adj. R-squared:                 -0.004\n",
      "Method:                                    Least Squares   F-statistic:                    0.2846\n",
      "Date:                                   Thu, 31 Jan 2019   Prob (F-statistic):              0.594\n",
      "Time:                                           08:33:15   Log-Likelihood:                -391.99\n",
      "No. Observations:                                    177   AIC:                             788.0\n",
      "Df Residuals:                                        175   BIC:                             794.3\n",
      "Df Model:                                              1                                         \n",
      "Covariance Type:                               nonrobust                                         \n",
      "==========================================================================================\n",
      "                             coef    std err          t      P>|t|      [0.025      0.975]\n",
      "------------------------------------------------------------------------------------------\n",
      "Intercept                  4.3292      0.665      6.509      0.000       3.017       5.642\n",
      "CMtn_WindDirection_deg     0.0015      0.003      0.533      0.594      -0.004       0.007\n",
      "==============================================================================\n",
      "Omnibus:                       94.336   Durbin-Watson:                   1.907\n",
      "Prob(Omnibus):                  0.000   Jarque-Bera (JB):              377.098\n",
      "Skew:                           2.143   Prob(JB):                     1.30e-82\n",
      "Kurtosis:                       8.723   Cond. No.                         951.\n",
      "==============================================================================\n",
      "\n",
      "Warnings:\n",
      "[1] Standard Errors assume that the covariance matrix of the errors is correctly specified.\n",
      "\n",
      " ++++++++++++++++++++++++++++++++++++++++++++++++++++++++++++++++++++++++++++++++++ \n",
      "\n",
      "                                      OLS Regression Results                                     \n",
      "=================================================================================================\n",
      "Dep. Variable:     CMtnSNTL_Upcoming12hrSNOWFALL_gte3_in   R-squared:                       0.014\n",
      "Model:                                               OLS   Adj. R-squared:                  0.010\n",
      "Method:                                    Least Squares   F-statistic:                     3.346\n",
      "Date:                                   Thu, 31 Jan 2019   Prob (F-statistic):             0.0686\n",
      "Time:                                           08:33:15   Log-Likelihood:                -549.40\n",
      "No. Observations:                                    244   AIC:                             1103.\n",
      "Df Residuals:                                        242   BIC:                             1110.\n",
      "Df Model:                                              1                                         \n",
      "Covariance Type:                               nonrobust                                         \n",
      "==============================================================================================\n",
      "                                 coef    std err          t      P>|t|      [0.025      0.975]\n",
      "----------------------------------------------------------------------------------------------\n",
      "Intercept                      4.5482      0.171     26.616      0.000       4.212       4.885\n",
      "LXV_12hr_delta_Pressure_hp    -0.0520      0.028     -1.829      0.069      -0.108       0.004\n",
      "==============================================================================\n",
      "Omnibus:                      128.885   Durbin-Watson:                   1.914\n",
      "Prob(Omnibus):                  0.000   Jarque-Bera (JB):              575.892\n",
      "Skew:                           2.217   Prob(JB):                    8.84e-126\n",
      "Kurtosis:                       9.081   Cond. No.                         7.00\n",
      "==============================================================================\n",
      "\n",
      "Warnings:\n",
      "[1] Standard Errors assume that the covariance matrix of the errors is correctly specified.\n",
      "\n",
      " ++++++++++++++++++++++++++++++++++++++++++++++++++++++++++++++++++++++++++++++++++ \n",
      "\n",
      "                                      OLS Regression Results                                     \n",
      "=================================================================================================\n",
      "Dep. Variable:     CMtnSNTL_Upcoming12hrSNOWFALL_gte3_in   R-squared:                       0.001\n",
      "Model:                                               OLS   Adj. R-squared:                 -0.003\n",
      "Method:                                    Least Squares   F-statistic:                    0.2702\n",
      "Date:                                   Thu, 31 Jan 2019   Prob (F-statistic):              0.604\n",
      "Time:                                           08:33:15   Log-Likelihood:                -550.94\n",
      "No. Observations:                                    244   AIC:                             1106.\n",
      "Df Residuals:                                        242   BIC:                             1113.\n",
      "Df Model:                                              1                                         \n",
      "Covariance Type:                               nonrobust                                         \n",
      "===================================================================================\n",
      "                      coef    std err          t      P>|t|      [0.025      0.975]\n",
      "-----------------------------------------------------------------------------------\n",
      "Intercept          13.9195     17.728      0.785      0.433     -21.001      48.840\n",
      "LXV_Pressure_hp    -0.0092      0.018     -0.520      0.604      -0.044       0.026\n",
      "==============================================================================\n",
      "Omnibus:                      127.855   Durbin-Watson:                   1.904\n",
      "Prob(Omnibus):                  0.000   Jarque-Bera (JB):              556.691\n",
      "Skew:                           2.210   Prob(JB):                    1.31e-121\n",
      "Kurtosis:                       8.935   Cond. No.                     1.20e+05\n",
      "==============================================================================\n",
      "\n",
      "Warnings:\n",
      "[1] Standard Errors assume that the covariance matrix of the errors is correctly specified.\n",
      "[2] The condition number is large, 1.2e+05. This might indicate that there are\n",
      "strong multicollinearity or other numerical problems.\n",
      "\n",
      " ++++++++++++++++++++++++++++++++++++++++++++++++++++++++++++++++++++++++++++++++++ \n",
      "\n",
      "Intercept             5.276210\n",
      "CMtn_Dewpoint_degC    0.064025\n",
      "dtype: float64\n"
     ]
    }
   ],
   "source": [
    "\n",
    "\n",
    "OLS_CMtn_Dewpoint = ols('CMtnSNTL_Upcoming12hrSNOWFALL_gte3_in ~ CMtn_Dewpoint_degC',asos_snotel_UA_df['2008':'2017']).fit()\n",
    "OLS_CMtnSNTL_Temp = ols('CMtnSNTL_Upcoming12hrSNOWFALL_gte3_in ~ CMtnSNTL_Temp_degC',asos_snotel_UA_df['2008':'2017']).fit()\n",
    "OLS_CMtn_Temperature = ols('CMtnSNTL_Upcoming12hrSNOWFALL_gte3_in ~ CMtn_Temperature_degC',asos_snotel_UA_df['2008':'2017']).fit()\n",
    "OLS_CMtn_WindSpeed = ols('CMtnSNTL_Upcoming12hrSNOWFALL_gte3_in ~ CMtn_WindSpeed_mps',asos_snotel_UA_df['2008':'2017']).fit()\n",
    "OLS_CMtn_CloudCover = ols('CMtnSNTL_Upcoming12hrSNOWFALL_gte3_in ~ CMtn_CloudCover_oktas', asos_snotel_UA_df['2008':'2017']).fit()\n",
    "OLS_CMtn_WindDirection = ols('CMtnSNTL_Upcoming12hrSNOWFALL_gte3_in ~ CMtn_WindDirection_deg', asos_snotel_UA_df['2008':'2017']).fit()\n",
    "OLS_LXV_12hr_delta_Pressure = ols('CMtnSNTL_Upcoming12hrSNOWFALL_gte3_in ~ LXV_12hr_delta_Pressure_hp', asos_snotel_UA_df['2008':'2017']).fit()\n",
    "OLS_LXV_Pressure = ols('CMtnSNTL_Upcoming12hrSNOWFALL_gte3_in ~ LXV_Pressure_hp', asos_snotel_UA_df['2008':'2017']).fit()\n",
    "\n",
    "\n",
    "print(OLS_CMtn_Dewpoint.summary())\n",
    "print(\"\\n ++++++++++++++++++++++++++++++++++++++++++++++++++++++++++++++++++++++++++++++++++ \\n\")\n",
    "print(OLS_CMtnSNTL_Temp.summary())\n",
    "print(\"\\n ++++++++++++++++++++++++++++++++++++++++++++++++++++++++++++++++++++++++++++++++++ \\n\")\n",
    "print(OLS_CMtn_Temperature.summary())\n",
    "print(\"\\n ++++++++++++++++++++++++++++++++++++++++++++++++++++++++++++++++++++++++++++++++++ \\n\")\n",
    "print(OLS_CMtn_WindSpeed.summary())\n",
    "print(\"\\n ++++++++++++++++++++++++++++++++++++++++++++++++++++++++++++++++++++++++++++++++++ \\n\")\n",
    "print(OLS_CMtn_CloudCover.summary())\n",
    "print(\"\\n ++++++++++++++++++++++++++++++++++++++++++++++++++++++++++++++++++++++++++++++++++ \\n\")\n",
    "print(OLS_CMtn_WindDirection.summary())\n",
    "print(\"\\n ++++++++++++++++++++++++++++++++++++++++++++++++++++++++++++++++++++++++++++++++++ \\n\")\n",
    "print(OLS_LXV_12hr_delta_Pressure.summary())\n",
    "print(\"\\n ++++++++++++++++++++++++++++++++++++++++++++++++++++++++++++++++++++++++++++++++++ \\n\")\n",
    "print(OLS_LXV_Pressure.summary())\n",
    "print(\"\\n ++++++++++++++++++++++++++++++++++++++++++++++++++++++++++++++++++++++++++++++++++ \\n\")\n",
    "\n",
    "\n",
    "\n",
    "#['CMtnSNTL_Temp_degC', 'CMtnSNTL_SnowDepth_in', 'CMtn_Temperature_degC',\n",
    "#       'CMtn_Dewpoint_degC', 'CMtn_WindDirection_deg', 'CMtn_WindSpeed_mps',\n",
    "#       'CMtn_CloudCover_oktas', 'CMtn_1hr_Precipitation_mm',\n",
    "#       'LXV_Temperature_degC', 'LXV_Dewpoint_degC'\n",
    "\n",
    "\n",
    "#print(a.rsquared)\n",
    "#print(a.rsquared_adj)\n",
    "#print(a.rsquared_adj)\n",
    "#print(a.fvalue)\n",
    "#print(a.f_pvalue)\n",
    "#print(a.pvalues)\n",
    "print(OLS_CMtn_Dewpoint.params)\n",
    "#qq=sm.qqplot(a.resid, line='r')\n",
    "\n"
   ]
  },
  {
   "cell_type": "markdown",
   "metadata": {},
   "source": [
    "#### Single Variable Summary\n",
    "**Adjusted R:**  \n",
    "OLS_CMtn_Dewpoint: 0.007  \n",
    "OLS_CMtnSNTL_Temp:  -0.002 \n",
    "OLS_CMtn_Temperature: -0.005  \n",
    "OLS_CMtn_WindSpeed:  0.017  \n",
    "OLS_CMtn_CloudCover:  0.000  \n",
    "OLS_CMtn_WindDirection:  -0.004  \n",
    "OLS_LXV_6hr_delta_Pressure:   0.004  \n",
    "OLS_LXV_Pressure:    -0.003  \n",
    "\n",
    "**Prob (F-statistic):**  \n",
    "OLS_CMtn_Dewpoint: 0.139  \n",
    "OLS_CMtnSNTL_Temp: 0.483  \n",
    "OLS_CMtn_Temperature:  0.708  \n",
    "OLS_CMtn_WindSpeed:  0.0466  \n",
    "OLS_CMtn_CloudCover: 0.316 \n",
    "OLS_CMtn_WindDirection:   0.614  \n",
    "OLS_LXV_6hr_delta_Pressure:  0.155  \n",
    "OLS_LXV_Pressure:   0.550 \n",
    "  \n",
    "From this, we can glean that Dewpoint alone likely has the best fit as the adjusted R squared is the highest.  The F statistics such signficant correlations (at 5% confident interval) for only  Dewpoint and Pressure)."
   ]
  },
  {
   "cell_type": "markdown",
   "metadata": {},
   "source": [
    "## Run OLS model with all surface variables only"
   ]
  },
  {
   "cell_type": "code",
   "execution_count": 6,
   "metadata": {},
   "outputs": [
    {
     "name": "stdout",
     "output_type": "stream",
     "text": [
      "['CMtnSNTL_Temp_degC', 'CMtn_Temperature_degC', 'CMtn_Dewpoint_degC', 'CMtn_WindDirection_deg', 'CMtn_WindSpeed_mps', 'CMtn_CloudCover_oktas', 'LXV_Temperature_degC', 'LXV_Dewpoint_degC', 'LXV_Pressure_hp', 'LXV_WindSpeed_mps', 'LXV_WindDirection_deg', 'LXV_CloudCover_oktas', 'LXV_12hr_delta_Pressure_hp']\n",
      "******\n",
      "CMtn_WindSpeed_mps\n",
      "CMtn_Dewpoint_degC+ CMtn_WindSpeed_mps\n",
      "LXV_12hr_delta_Pressure_hp+ CMtn_Dewpoint_degC+ CMtn_WindSpeed_mps\n",
      "CMtn_Temperature_degC+ LXV_12hr_delta_Pressure_hp+ CMtn_Dewpoint_degC+ CMtn_WindSpeed_mps\n",
      "LXV_Temperature_degC+ CMtn_Temperature_degC+ LXV_12hr_delta_Pressure_hp+ CMtn_Dewpoint_degC+ CMtn_WindSpeed_mps\n",
      "LXV_WindDirection_deg+ LXV_Temperature_degC+ CMtn_Temperature_degC+ LXV_12hr_delta_Pressure_hp+ CMtn_Dewpoint_degC+ CMtn_WindSpeed_mps\n",
      "LXV_Dewpoint_degC+ LXV_WindDirection_deg+ LXV_Temperature_degC+ CMtn_Temperature_degC+ LXV_12hr_delta_Pressure_hp+ CMtn_Dewpoint_degC+ CMtn_WindSpeed_mps\n",
      "LXV_Pressure_hp+ LXV_Dewpoint_degC+ LXV_WindDirection_deg+ LXV_Temperature_degC+ CMtn_Temperature_degC+ LXV_12hr_delta_Pressure_hp+ CMtn_Dewpoint_degC+ CMtn_WindSpeed_mps\n",
      "LXV_WindSpeed_mps+ LXV_Pressure_hp+ LXV_Dewpoint_degC+ LXV_WindDirection_deg+ LXV_Temperature_degC+ CMtn_Temperature_degC+ LXV_12hr_delta_Pressure_hp+ CMtn_Dewpoint_degC+ CMtn_WindSpeed_mps\n",
      "CMtn_WindDirection_deg+ LXV_WindSpeed_mps+ LXV_Pressure_hp+ LXV_Dewpoint_degC+ LXV_WindDirection_deg+ LXV_Temperature_degC+ CMtn_Temperature_degC+ LXV_12hr_delta_Pressure_hp+ CMtn_Dewpoint_degC+ CMtn_WindSpeed_mps\n",
      "CMtnSNTL_Temp_degC+ CMtn_WindDirection_deg+ LXV_WindSpeed_mps+ LXV_Pressure_hp+ LXV_Dewpoint_degC+ LXV_WindDirection_deg+ LXV_Temperature_degC+ CMtn_Temperature_degC+ LXV_12hr_delta_Pressure_hp+ CMtn_Dewpoint_degC+ CMtn_WindSpeed_mps\n",
      "CMtn_CloudCover_oktas+ CMtnSNTL_Temp_degC+ CMtn_WindDirection_deg+ LXV_WindSpeed_mps+ LXV_Pressure_hp+ LXV_Dewpoint_degC+ LXV_WindDirection_deg+ LXV_Temperature_degC+ CMtn_Temperature_degC+ LXV_12hr_delta_Pressure_hp+ CMtn_Dewpoint_degC+ CMtn_WindSpeed_mps\n",
      "LXV_CloudCover_oktas+ CMtn_CloudCover_oktas+ CMtnSNTL_Temp_degC+ CMtn_WindDirection_deg+ LXV_WindSpeed_mps+ LXV_Pressure_hp+ LXV_Dewpoint_degC+ LXV_WindDirection_deg+ LXV_Temperature_degC+ CMtn_Temperature_degC+ LXV_12hr_delta_Pressure_hp+ CMtn_Dewpoint_degC+ CMtn_WindSpeed_mps\n",
      "[0.015493750436263887, 0.046706785825847974, 0.04707248180100265, 0.04727040722613729, 0.052168676951357074, 0.050480447150988206, 0.049524956805427456, 0.04436246248141673, 0.039061878927422744, 0.0334661093680122, 0.027639843556920396, -0.06782946374326193, -0.10921363475159662]\n",
      "['CMtn_WindSpeed_mps', 'CMtn_Dewpoint_degC+ CMtn_WindSpeed_mps', 'LXV_12hr_delta_Pressure_hp+ CMtn_Dewpoint_degC+ CMtn_WindSpeed_mps', 'CMtn_Temperature_degC+ LXV_12hr_delta_Pressure_hp+ CMtn_Dewpoint_degC+ CMtn_WindSpeed_mps', 'LXV_Temperature_degC+ CMtn_Temperature_degC+ LXV_12hr_delta_Pressure_hp+ CMtn_Dewpoint_degC+ CMtn_WindSpeed_mps', 'LXV_WindDirection_deg+ LXV_Temperature_degC+ CMtn_Temperature_degC+ LXV_12hr_delta_Pressure_hp+ CMtn_Dewpoint_degC+ CMtn_WindSpeed_mps', 'LXV_Dewpoint_degC+ LXV_WindDirection_deg+ LXV_Temperature_degC+ CMtn_Temperature_degC+ LXV_12hr_delta_Pressure_hp+ CMtn_Dewpoint_degC+ CMtn_WindSpeed_mps', 'LXV_Pressure_hp+ LXV_Dewpoint_degC+ LXV_WindDirection_deg+ LXV_Temperature_degC+ CMtn_Temperature_degC+ LXV_12hr_delta_Pressure_hp+ CMtn_Dewpoint_degC+ CMtn_WindSpeed_mps', 'LXV_WindSpeed_mps+ LXV_Pressure_hp+ LXV_Dewpoint_degC+ LXV_WindDirection_deg+ LXV_Temperature_degC+ CMtn_Temperature_degC+ LXV_12hr_delta_Pressure_hp+ CMtn_Dewpoint_degC+ CMtn_WindSpeed_mps', 'CMtn_WindDirection_deg+ LXV_WindSpeed_mps+ LXV_Pressure_hp+ LXV_Dewpoint_degC+ LXV_WindDirection_deg+ LXV_Temperature_degC+ CMtn_Temperature_degC+ LXV_12hr_delta_Pressure_hp+ CMtn_Dewpoint_degC+ CMtn_WindSpeed_mps', 'CMtnSNTL_Temp_degC+ CMtn_WindDirection_deg+ LXV_WindSpeed_mps+ LXV_Pressure_hp+ LXV_Dewpoint_degC+ LXV_WindDirection_deg+ LXV_Temperature_degC+ CMtn_Temperature_degC+ LXV_12hr_delta_Pressure_hp+ CMtn_Dewpoint_degC+ CMtn_WindSpeed_mps', 'CMtn_CloudCover_oktas+ CMtnSNTL_Temp_degC+ CMtn_WindDirection_deg+ LXV_WindSpeed_mps+ LXV_Pressure_hp+ LXV_Dewpoint_degC+ LXV_WindDirection_deg+ LXV_Temperature_degC+ CMtn_Temperature_degC+ LXV_12hr_delta_Pressure_hp+ CMtn_Dewpoint_degC+ CMtn_WindSpeed_mps', 'LXV_CloudCover_oktas+ CMtn_CloudCover_oktas+ CMtnSNTL_Temp_degC+ CMtn_WindDirection_deg+ LXV_WindSpeed_mps+ LXV_Pressure_hp+ LXV_Dewpoint_degC+ LXV_WindDirection_deg+ LXV_Temperature_degC+ CMtn_Temperature_degC+ LXV_12hr_delta_Pressure_hp+ CMtn_Dewpoint_degC+ CMtn_WindSpeed_mps']\n",
      "[0.05379135723415213, 0.005766179258162408, 0.009984716475325534, 0.01490452446942609, 0.01431395070727962, 0.021264126310746083, 0.028321649206723375, 0.046710536033780524, 0.0725367713500018, 0.10775108063350666, 0.1532608315607606, 0.7989568576074173, 0.9193381975058257]\n",
      "OrderedDict([('CMtn_WindSpeed_mps', (0.015493750436263887, 0.05379135723415213)), ('CMtn_Dewpoint_degC+ CMtn_WindSpeed_mps', (0.046706785825847974, 0.005766179258162408)), ('LXV_12hr_delta_Pressure_hp+ CMtn_Dewpoint_degC+ CMtn_WindSpeed_mps', (0.04707248180100265, 0.009984716475325534)), ('CMtn_Temperature_degC+ LXV_12hr_delta_Pressure_hp+ CMtn_Dewpoint_degC+ CMtn_WindSpeed_mps', (0.04727040722613729, 0.01490452446942609)), ('LXV_Temperature_degC+ CMtn_Temperature_degC+ LXV_12hr_delta_Pressure_hp+ CMtn_Dewpoint_degC+ CMtn_WindSpeed_mps', (0.052168676951357074, 0.01431395070727962)), ('LXV_WindDirection_deg+ LXV_Temperature_degC+ CMtn_Temperature_degC+ LXV_12hr_delta_Pressure_hp+ CMtn_Dewpoint_degC+ CMtn_WindSpeed_mps', (0.050480447150988206, 0.021264126310746083)), ('LXV_Dewpoint_degC+ LXV_WindDirection_deg+ LXV_Temperature_degC+ CMtn_Temperature_degC+ LXV_12hr_delta_Pressure_hp+ CMtn_Dewpoint_degC+ CMtn_WindSpeed_mps', (0.049524956805427456, 0.028321649206723375)), ('LXV_Pressure_hp+ LXV_Dewpoint_degC+ LXV_WindDirection_deg+ LXV_Temperature_degC+ CMtn_Temperature_degC+ LXV_12hr_delta_Pressure_hp+ CMtn_Dewpoint_degC+ CMtn_WindSpeed_mps', (0.04436246248141673, 0.046710536033780524)), ('LXV_WindSpeed_mps+ LXV_Pressure_hp+ LXV_Dewpoint_degC+ LXV_WindDirection_deg+ LXV_Temperature_degC+ CMtn_Temperature_degC+ LXV_12hr_delta_Pressure_hp+ CMtn_Dewpoint_degC+ CMtn_WindSpeed_mps', (0.039061878927422744, 0.0725367713500018)), ('CMtn_WindDirection_deg+ LXV_WindSpeed_mps+ LXV_Pressure_hp+ LXV_Dewpoint_degC+ LXV_WindDirection_deg+ LXV_Temperature_degC+ CMtn_Temperature_degC+ LXV_12hr_delta_Pressure_hp+ CMtn_Dewpoint_degC+ CMtn_WindSpeed_mps', (0.0334661093680122, 0.10775108063350666)), ('CMtnSNTL_Temp_degC+ CMtn_WindDirection_deg+ LXV_WindSpeed_mps+ LXV_Pressure_hp+ LXV_Dewpoint_degC+ LXV_WindDirection_deg+ LXV_Temperature_degC+ CMtn_Temperature_degC+ LXV_12hr_delta_Pressure_hp+ CMtn_Dewpoint_degC+ CMtn_WindSpeed_mps', (0.027639843556920396, 0.1532608315607606)), ('CMtn_CloudCover_oktas+ CMtnSNTL_Temp_degC+ CMtn_WindDirection_deg+ LXV_WindSpeed_mps+ LXV_Pressure_hp+ LXV_Dewpoint_degC+ LXV_WindDirection_deg+ LXV_Temperature_degC+ CMtn_Temperature_degC+ LXV_12hr_delta_Pressure_hp+ CMtn_Dewpoint_degC+ CMtn_WindSpeed_mps', (-0.06782946374326193, 0.7989568576074173)), ('LXV_CloudCover_oktas+ CMtn_CloudCover_oktas+ CMtnSNTL_Temp_degC+ CMtn_WindDirection_deg+ LXV_WindSpeed_mps+ LXV_Pressure_hp+ LXV_Dewpoint_degC+ LXV_WindDirection_deg+ LXV_Temperature_degC+ CMtn_Temperature_degC+ LXV_12hr_delta_Pressure_hp+ CMtn_Dewpoint_degC+ CMtn_WindSpeed_mps', (-0.10921363475159662, 0.9193381975058257))])\n"
     ]
    }
   ],
   "source": [
    "variables = ['CMtnSNTL_Temp_degC', 'CMtn_Temperature_degC', 'CMtn_Dewpoint_degC', 'CMtn_WindDirection_deg', 'CMtn_WindSpeed_mps', 'CMtn_CloudCover_oktas', \\\n",
    " 'LXV_Temperature_degC', 'LXV_Dewpoint_degC', 'LXV_Pressure_hp', 'LXV_WindSpeed_mps', 'LXV_WindDirection_deg', 'LXV_CloudCover_oktas', 'LXV_12hr_delta_Pressure_hp']\n",
    "from collections import OrderedDict\n",
    "\n",
    "variables_org = variables\n",
    "print(variables)\n",
    "\n",
    "print('******')\n",
    "adjRs = []\n",
    "newRs = []\n",
    "dup_var = []\n",
    "max_vars = []\n",
    "f_pvalues = []\n",
    "\n",
    "while variables != []:\n",
    "  #print(variables)\n",
    "  for var in variables:\n",
    "\n",
    "        \n",
    "    #print(variables)\n",
    "    max_var = max(variables, key = lambda v: ols('CMtnSNTL_Upcoming12hrSNOWFALL_gte3_in ~' + v, asos_snotel_UA_df['2008':'2017']).fit().rsquared_adj)    #this finds OLS model run with highest adj R squared\n",
    "    OLS = ols('CMtnSNTL_Upcoming12hrSNOWFALL_gte3_in ~' + max_var, asos_snotel_UA_df['2008':'2017']).fit()\n",
    "    \n",
    "    print(max_var)\n",
    "    #print(max_var)\n",
    "    #print(OLS.rsquared)\n",
    "    \n",
    "    #Create lists of statistics for each combination of variables modeld\n",
    "    adjRs.append(OLS.rsquared_adj)\n",
    "    f_pvalues.append(OLS.f_pvalue)\n",
    "    max_vars.append(max_var)\n",
    "\n",
    "    add_max_var = '+ '+ max_var\n",
    "    \n",
    "    variables = [s + add_max_var for s in variables_org]\n",
    "    \n",
    "    #The above for loop naturally will create a duplicate variable, which should be removed\n",
    "    for v in variables_org: \n",
    "      dup_var = []\n",
    "      dup_var = [var for var in variables if var.count(v)>1]\n",
    "      if dup_var!=[]:\n",
    "            for dup in dup_var: variables.remove(dup)\n",
    "\n",
    "#combine the modeled variable sequences with respective stats  \n",
    "stats = list(zip(adjRs, f_pvalues))    # create list of tuples\n",
    "dictionary = OrderedDict(zip(max_vars, stats))\n",
    "#dictionary_adjRs = OrderedDict(zip(max_vars, f_pvalues))\n",
    "print(adjRs)\n",
    "print(max_vars)\n",
    "print(f_pvalues)\n",
    "print(dictionary)\n"
   ]
  },
  {
   "cell_type": "code",
   "execution_count": 7,
   "metadata": {},
   "outputs": [
    {
     "data": {
      "text/plain": [
       "[<matplotlib.lines.Line2D at 0xfcba230>]"
      ]
     },
     "execution_count": 7,
     "metadata": {},
     "output_type": "execute_result"
    },
    {
     "data": {
      "image/png": "[encoded data removed]",
      "text/plain": [
       "<Figure size 432x288 with 1 Axes>"
      ]
     },
     "metadata": {},
     "output_type": "display_data"
    }
   ],
   "source": [
    "plt.plot(adjRs)"
   ]
  },
  {
   "cell_type": "code",
   "execution_count": 8,
   "metadata": {},
   "outputs": [
    {
     "data": {
      "text/plain": [
       "[<matplotlib.lines.Line2D at 0xfd745f0>]"
      ]
     },
     "execution_count": 8,
     "metadata": {},
     "output_type": "execute_result"
    },
    {
     "data": {
      "image/png": "[encoded data removed]",
      "text/plain": [
       "<Figure size 432x288 with 1 Axes>"
      ]
     },
     "metadata": {},
     "output_type": "display_data"
    }
   ],
   "source": [
    "plt.plot(f_pvalues)"
   ]
  },
  {
   "cell_type": "code",
   "execution_count": 9,
   "metadata": {},
   "outputs": [
    {
     "name": "stdout",
     "output_type": "stream",
     "text": [
      "Variables with >= 67% data match to snowfall: \n",
      "['CMtnSNTL_Temp_degC', 'CMtn_Temperature_degC', 'CMtn_Dewpoint_degC', 'CMtn_WindDirection_deg', 'CMtn_WindSpeed_mps', 'LXV_Temperature_degC', 'LXV_Dewpoint_degC', 'LXV_Pressure_hp', 'LXV_WindSpeed_mps', 'LXV_WindDirection_deg', 'LXV_12hr_delta_Pressure_hp']\n",
      "Variables with < 67% data match to snowfall: \n",
      "['CMtn_CloudCover_oktas', 'LXV_CloudCover_oktas']\n"
     ]
    }
   ],
   "source": [
    "variables = ['CMtnSNTL_Temp_degC', 'CMtn_Temperature_degC', 'CMtn_Dewpoint_degC', 'CMtn_WindDirection_deg', 'CMtn_WindSpeed_mps', 'CMtn_CloudCover_oktas', \\\n",
    " 'LXV_Temperature_degC', 'LXV_Dewpoint_degC', 'LXV_Pressure_hp', 'LXV_WindSpeed_mps', 'LXV_WindDirection_deg', 'LXV_CloudCover_oktas', 'LXV_12hr_delta_Pressure_hp']\n",
    "\n",
    "good_vars = []\n",
    "bad_vars = []\n",
    "for var in variables:\n",
    "    idx = np.isfinite(asos_snotel_UA_df['2008':'2017']['CMtnSNTL_Upcoming12hrSNOWFALL_gte3_in']) & np.isfinite(asos_snotel_UA_df['2008':'2017'][var])\n",
    "    total_poss = len(asos_snotel_UA_df['2008':'2017']['CMtnSNTL_Upcoming12hrSNOWFALL_gte3_in'][asos_snotel_UA_df['2008':'2017']['CMtnSNTL_Upcoming12hrSNOWFALL_gte3_in']>=0])\n",
    "    total_avail =len(asos_snotel_UA_df['2008':'2017'][idx])\n",
    "    if total_avail/total_poss >= 0.67: \n",
    "        good_vars.append(var)\n",
    "    else:\n",
    "        bad_vars.append(var)\n",
    "        \n",
    "print('Variables with >= 67% data match to snowfall: ')\n",
    "print(good_vars)\n",
    "print('Variables with < 67% data match to snowfall: ')\n",
    "print(bad_vars)\n",
    "    "
   ]
  },
  {
   "cell_type": "markdown",
   "metadata": {},
   "source": [
    "**Now rerun model with just the good variables**"
   ]
  },
  {
   "cell_type": "code",
   "execution_count": 10,
   "metadata": {},
   "outputs": [
    {
     "name": "stdout",
     "output_type": "stream",
     "text": [
      "['CMtnSNTL_Temp_degC', 'CMtn_Temperature_degC', 'CMtn_Dewpoint_degC', 'CMtn_WindDirection_deg', 'CMtn_WindSpeed_mps', 'LXV_Temperature_degC', 'LXV_Dewpoint_degC', 'LXV_Pressure_hp', 'LXV_WindSpeed_mps', 'LXV_WindDirection_deg', 'LXV_12hr_delta_Pressure_hp']\n",
      "******\n",
      "CMtn_WindSpeed_mps\n",
      "CMtn_Dewpoint_degC+ CMtn_WindSpeed_mps\n",
      "LXV_12hr_delta_Pressure_hp+ CMtn_Dewpoint_degC+ CMtn_WindSpeed_mps\n",
      "CMtn_Temperature_degC+ LXV_12hr_delta_Pressure_hp+ CMtn_Dewpoint_degC+ CMtn_WindSpeed_mps\n",
      "LXV_Temperature_degC+ CMtn_Temperature_degC+ LXV_12hr_delta_Pressure_hp+ CMtn_Dewpoint_degC+ CMtn_WindSpeed_mps\n",
      "LXV_WindDirection_deg+ LXV_Temperature_degC+ CMtn_Temperature_degC+ LXV_12hr_delta_Pressure_hp+ CMtn_Dewpoint_degC+ CMtn_WindSpeed_mps\n",
      "LXV_Dewpoint_degC+ LXV_WindDirection_deg+ LXV_Temperature_degC+ CMtn_Temperature_degC+ LXV_12hr_delta_Pressure_hp+ CMtn_Dewpoint_degC+ CMtn_WindSpeed_mps\n",
      "LXV_Pressure_hp+ LXV_Dewpoint_degC+ LXV_WindDirection_deg+ LXV_Temperature_degC+ CMtn_Temperature_degC+ LXV_12hr_delta_Pressure_hp+ CMtn_Dewpoint_degC+ CMtn_WindSpeed_mps\n",
      "LXV_WindSpeed_mps+ LXV_Pressure_hp+ LXV_Dewpoint_degC+ LXV_WindDirection_deg+ LXV_Temperature_degC+ CMtn_Temperature_degC+ LXV_12hr_delta_Pressure_hp+ CMtn_Dewpoint_degC+ CMtn_WindSpeed_mps\n",
      "CMtn_WindDirection_deg+ LXV_WindSpeed_mps+ LXV_Pressure_hp+ LXV_Dewpoint_degC+ LXV_WindDirection_deg+ LXV_Temperature_degC+ CMtn_Temperature_degC+ LXV_12hr_delta_Pressure_hp+ CMtn_Dewpoint_degC+ CMtn_WindSpeed_mps\n",
      "CMtnSNTL_Temp_degC+ CMtn_WindDirection_deg+ LXV_WindSpeed_mps+ LXV_Pressure_hp+ LXV_Dewpoint_degC+ LXV_WindDirection_deg+ LXV_Temperature_degC+ CMtn_Temperature_degC+ LXV_12hr_delta_Pressure_hp+ CMtn_Dewpoint_degC+ CMtn_WindSpeed_mps\n",
      "[0.015493750436263887, 0.046706785825847974, 0.04707248180100265, 0.04727040722613729, 0.052168676951357074, 0.050480447150988206, 0.049524956805427456, 0.04436246248141673, 0.039061878927422744, 0.0334661093680122, 0.027639843556920396]\n",
      "['CMtn_WindSpeed_mps', 'CMtn_Dewpoint_degC+ CMtn_WindSpeed_mps', 'LXV_12hr_delta_Pressure_hp+ CMtn_Dewpoint_degC+ CMtn_WindSpeed_mps', 'CMtn_Temperature_degC+ LXV_12hr_delta_Pressure_hp+ CMtn_Dewpoint_degC+ CMtn_WindSpeed_mps', 'LXV_Temperature_degC+ CMtn_Temperature_degC+ LXV_12hr_delta_Pressure_hp+ CMtn_Dewpoint_degC+ CMtn_WindSpeed_mps', 'LXV_WindDirection_deg+ LXV_Temperature_degC+ CMtn_Temperature_degC+ LXV_12hr_delta_Pressure_hp+ CMtn_Dewpoint_degC+ CMtn_WindSpeed_mps', 'LXV_Dewpoint_degC+ LXV_WindDirection_deg+ LXV_Temperature_degC+ CMtn_Temperature_degC+ LXV_12hr_delta_Pressure_hp+ CMtn_Dewpoint_degC+ CMtn_WindSpeed_mps', 'LXV_Pressure_hp+ LXV_Dewpoint_degC+ LXV_WindDirection_deg+ LXV_Temperature_degC+ CMtn_Temperature_degC+ LXV_12hr_delta_Pressure_hp+ CMtn_Dewpoint_degC+ CMtn_WindSpeed_mps', 'LXV_WindSpeed_mps+ LXV_Pressure_hp+ LXV_Dewpoint_degC+ LXV_WindDirection_deg+ LXV_Temperature_degC+ CMtn_Temperature_degC+ LXV_12hr_delta_Pressure_hp+ CMtn_Dewpoint_degC+ CMtn_WindSpeed_mps', 'CMtn_WindDirection_deg+ LXV_WindSpeed_mps+ LXV_Pressure_hp+ LXV_Dewpoint_degC+ LXV_WindDirection_deg+ LXV_Temperature_degC+ CMtn_Temperature_degC+ LXV_12hr_delta_Pressure_hp+ CMtn_Dewpoint_degC+ CMtn_WindSpeed_mps', 'CMtnSNTL_Temp_degC+ CMtn_WindDirection_deg+ LXV_WindSpeed_mps+ LXV_Pressure_hp+ LXV_Dewpoint_degC+ LXV_WindDirection_deg+ LXV_Temperature_degC+ CMtn_Temperature_degC+ LXV_12hr_delta_Pressure_hp+ CMtn_Dewpoint_degC+ CMtn_WindSpeed_mps']\n",
      "[0.05379135723415213, 0.005766179258162408, 0.009984716475325534, 0.01490452446942609, 0.01431395070727962, 0.021264126310746083, 0.028321649206723375, 0.046710536033780524, 0.0725367713500018, 0.10775108063350666, 0.1532608315607606]\n",
      "OrderedDict([('CMtn_WindSpeed_mps', (0.015493750436263887, 0.05379135723415213)), ('CMtn_Dewpoint_degC+ CMtn_WindSpeed_mps', (0.046706785825847974, 0.005766179258162408)), ('LXV_12hr_delta_Pressure_hp+ CMtn_Dewpoint_degC+ CMtn_WindSpeed_mps', (0.04707248180100265, 0.009984716475325534)), ('CMtn_Temperature_degC+ LXV_12hr_delta_Pressure_hp+ CMtn_Dewpoint_degC+ CMtn_WindSpeed_mps', (0.04727040722613729, 0.01490452446942609)), ('LXV_Temperature_degC+ CMtn_Temperature_degC+ LXV_12hr_delta_Pressure_hp+ CMtn_Dewpoint_degC+ CMtn_WindSpeed_mps', (0.052168676951357074, 0.01431395070727962)), ('LXV_WindDirection_deg+ LXV_Temperature_degC+ CMtn_Temperature_degC+ LXV_12hr_delta_Pressure_hp+ CMtn_Dewpoint_degC+ CMtn_WindSpeed_mps', (0.050480447150988206, 0.021264126310746083)), ('LXV_Dewpoint_degC+ LXV_WindDirection_deg+ LXV_Temperature_degC+ CMtn_Temperature_degC+ LXV_12hr_delta_Pressure_hp+ CMtn_Dewpoint_degC+ CMtn_WindSpeed_mps', (0.049524956805427456, 0.028321649206723375)), ('LXV_Pressure_hp+ LXV_Dewpoint_degC+ LXV_WindDirection_deg+ LXV_Temperature_degC+ CMtn_Temperature_degC+ LXV_12hr_delta_Pressure_hp+ CMtn_Dewpoint_degC+ CMtn_WindSpeed_mps', (0.04436246248141673, 0.046710536033780524)), ('LXV_WindSpeed_mps+ LXV_Pressure_hp+ LXV_Dewpoint_degC+ LXV_WindDirection_deg+ LXV_Temperature_degC+ CMtn_Temperature_degC+ LXV_12hr_delta_Pressure_hp+ CMtn_Dewpoint_degC+ CMtn_WindSpeed_mps', (0.039061878927422744, 0.0725367713500018)), ('CMtn_WindDirection_deg+ LXV_WindSpeed_mps+ LXV_Pressure_hp+ LXV_Dewpoint_degC+ LXV_WindDirection_deg+ LXV_Temperature_degC+ CMtn_Temperature_degC+ LXV_12hr_delta_Pressure_hp+ CMtn_Dewpoint_degC+ CMtn_WindSpeed_mps', (0.0334661093680122, 0.10775108063350666)), ('CMtnSNTL_Temp_degC+ CMtn_WindDirection_deg+ LXV_WindSpeed_mps+ LXV_Pressure_hp+ LXV_Dewpoint_degC+ LXV_WindDirection_deg+ LXV_Temperature_degC+ CMtn_Temperature_degC+ LXV_12hr_delta_Pressure_hp+ CMtn_Dewpoint_degC+ CMtn_WindSpeed_mps', (0.027639843556920396, 0.1532608315607606))])\n"
     ]
    }
   ],
   "source": [
    "from collections import OrderedDict\n",
    "\n",
    "variables = good_vars\n",
    "variables_org = variables\n",
    "print(variables)\n",
    "\n",
    "print('******')\n",
    "adjRs = []\n",
    "newRs = []\n",
    "dup_var = []\n",
    "max_vars = []\n",
    "f_pvalues = []\n",
    "\n",
    "while variables != []:\n",
    "  #print(variables)\n",
    "  for var in variables:\n",
    "\n",
    "        \n",
    "    #print(variables)\n",
    "    max_var = max(variables, key = lambda v: ols('CMtnSNTL_Upcoming12hrSNOWFALL_gte3_in ~' + v, asos_snotel_UA_df['2008':'2017']).fit().rsquared_adj)    #this finds OLS model run with highest adj R squared\n",
    "    OLS = ols('CMtnSNTL_Upcoming12hrSNOWFALL_gte3_in ~' + max_var, asos_snotel_UA_df['2008':'2017']).fit()\n",
    "    \n",
    "    print(max_var)\n",
    "    #print(max_var)\n",
    "    #print(OLS.rsquared)\n",
    "    \n",
    "    #Create lists of statistics for each combination of variables modeld\n",
    "    adjRs.append(OLS.rsquared_adj)\n",
    "    f_pvalues.append(OLS.f_pvalue)\n",
    "    max_vars.append(max_var)\n",
    "\n",
    "    add_max_var = '+ '+ max_var\n",
    "    \n",
    "    variables = [s + add_max_var for s in variables_org]\n",
    "    \n",
    "    #The above for loop naturally will create a duplicate variable, which should be removed\n",
    "    for v in variables_org: \n",
    "      dup_var = []\n",
    "      dup_var = [var for var in variables if var.count(v)>1]\n",
    "      if dup_var!=[]:\n",
    "            for dup in dup_var: variables.remove(dup)\n",
    "\n",
    "#combine the modeled variable sequences with respective stats  \n",
    "stats = list(zip(adjRs, f_pvalues))    # create list of tuples\n",
    "dictionary = OrderedDict(zip(max_vars, stats))\n",
    "#dictionary_adjRs = OrderedDict(zip(max_vars, f_pvalues))\n",
    "print(adjRs)\n",
    "print(max_vars)\n",
    "print(f_pvalues)\n",
    "print(dictionary)"
   ]
  },
  {
   "cell_type": "code",
   "execution_count": 11,
   "metadata": {},
   "outputs": [
    {
     "data": {
      "text/plain": [
       "[<matplotlib.lines.Line2D at 0xfcec4f0>]"
      ]
     },
     "execution_count": 11,
     "metadata": {},
     "output_type": "execute_result"
    },
    {
     "data": {
      "image/png": "[encoded data removed]",
      "text/plain": [
       "<Figure size 432x288 with 1 Axes>"
      ]
     },
     "metadata": {},
     "output_type": "display_data"
    }
   ],
   "source": [
    "plt.plot(adjRs)"
   ]
  },
  {
   "cell_type": "code",
   "execution_count": 12,
   "metadata": {},
   "outputs": [
    {
     "data": {
      "text/plain": [
       "[<matplotlib.lines.Line2D at 0xfdf9f90>]"
      ]
     },
     "execution_count": 12,
     "metadata": {},
     "output_type": "execute_result"
    },
    {
     "data": {
      "image/png": "[encoded data removed]",
      "text/plain": [
       "<Figure size 432x288 with 1 Axes>"
      ]
     },
     "metadata": {},
     "output_type": "display_data"
    }
   ],
   "source": [
    "plt.plot(f_pvalues)"
   ]
  },
  {
   "cell_type": "markdown",
   "metadata": {},
   "source": [
    "**Print adjusted R and F stat probabilities in order**"
   ]
  },
  {
   "cell_type": "code",
   "execution_count": 13,
   "metadata": {},
   "outputs": [
    {
     "name": "stdout",
     "output_type": "stream",
     "text": [
      "0 CMtn_WindSpeed_mps \n",
      " Adjusted R: 0.015493750436263887  Fstat(prob): 0.05379135723415213\n",
      "\n",
      "1 CMtn_Dewpoint_degC+ CMtn_WindSpeed_mps \n",
      " Adjusted R: 0.046706785825847974  Fstat(prob): 0.005766179258162408\n",
      "\n",
      "2 LXV_12hr_delta_Pressure_hp+ CMtn_Dewpoint_degC+ CMtn_WindSpeed_mps \n",
      " Adjusted R: 0.04707248180100265  Fstat(prob): 0.009984716475325534\n",
      "\n",
      "3 CMtn_Temperature_degC+ LXV_12hr_delta_Pressure_hp+ CMtn_Dewpoint_degC+ CMtn_WindSpeed_mps \n",
      " Adjusted R: 0.04727040722613729  Fstat(prob): 0.01490452446942609\n",
      "\n",
      "4 LXV_Temperature_degC+ CMtn_Temperature_degC+ LXV_12hr_delta_Pressure_hp+ CMtn_Dewpoint_degC+ CMtn_WindSpeed_mps \n",
      " Adjusted R: 0.052168676951357074  Fstat(prob): 0.01431395070727962\n",
      "\n",
      "5 LXV_WindDirection_deg+ LXV_Temperature_degC+ CMtn_Temperature_degC+ LXV_12hr_delta_Pressure_hp+ CMtn_Dewpoint_degC+ CMtn_WindSpeed_mps \n",
      " Adjusted R: 0.050480447150988206  Fstat(prob): 0.021264126310746083\n",
      "\n",
      "6 LXV_Dewpoint_degC+ LXV_WindDirection_deg+ LXV_Temperature_degC+ CMtn_Temperature_degC+ LXV_12hr_delta_Pressure_hp+ CMtn_Dewpoint_degC+ CMtn_WindSpeed_mps \n",
      " Adjusted R: 0.049524956805427456  Fstat(prob): 0.028321649206723375\n",
      "\n",
      "7 LXV_Pressure_hp+ LXV_Dewpoint_degC+ LXV_WindDirection_deg+ LXV_Temperature_degC+ CMtn_Temperature_degC+ LXV_12hr_delta_Pressure_hp+ CMtn_Dewpoint_degC+ CMtn_WindSpeed_mps \n",
      " Adjusted R: 0.04436246248141673  Fstat(prob): 0.046710536033780524\n",
      "\n",
      "8 LXV_WindSpeed_mps+ LXV_Pressure_hp+ LXV_Dewpoint_degC+ LXV_WindDirection_deg+ LXV_Temperature_degC+ CMtn_Temperature_degC+ LXV_12hr_delta_Pressure_hp+ CMtn_Dewpoint_degC+ CMtn_WindSpeed_mps \n",
      " Adjusted R: 0.039061878927422744  Fstat(prob): 0.0725367713500018\n",
      "\n",
      "9 CMtn_WindDirection_deg+ LXV_WindSpeed_mps+ LXV_Pressure_hp+ LXV_Dewpoint_degC+ LXV_WindDirection_deg+ LXV_Temperature_degC+ CMtn_Temperature_degC+ LXV_12hr_delta_Pressure_hp+ CMtn_Dewpoint_degC+ CMtn_WindSpeed_mps \n",
      " Adjusted R: 0.0334661093680122  Fstat(prob): 0.10775108063350666\n",
      "\n",
      "10 CMtnSNTL_Temp_degC+ CMtn_WindDirection_deg+ LXV_WindSpeed_mps+ LXV_Pressure_hp+ LXV_Dewpoint_degC+ LXV_WindDirection_deg+ LXV_Temperature_degC+ CMtn_Temperature_degC+ LXV_12hr_delta_Pressure_hp+ CMtn_Dewpoint_degC+ CMtn_WindSpeed_mps \n",
      " Adjusted R: 0.027639843556920396  Fstat(prob): 0.1532608315607606\n",
      "\n"
     ]
    }
   ],
   "source": [
    "\n",
    "\n",
    "for c in dictionary:\n",
    "    #print(str(dictionary.keys().index(c))+\"{country}: {capital}\".format(country=c, capital=dictionary[c])+\"\\n\")\n",
    "        print(str(list(dictionary.keys()).index(c))+ \" {key} \\n Adjusted R: {adjR}  Fstat(prob): {f_pvalue}\".format(key=c, adjR=dictionary[c][0], f_pvalue = dictionary[c][1])+\"\\n\")\n",
    "        OLS = ols('CMtnSNTL_Upcoming12hrSNOWFALL_gte3_in ~' + c, asos_snotel_UA_df['2008':'2017']).fit()\n",
    "\n"
   ]
  },
  {
   "cell_type": "markdown",
   "metadata": {},
   "source": [
    "**Find max adj R and obtain OLS summary**"
   ]
  },
  {
   "cell_type": "code",
   "execution_count": 14,
   "metadata": {},
   "outputs": [
    {
     "name": "stdout",
     "output_type": "stream",
     "text": [
      "Print maximum:\n",
      "LXV_Temperature_degC+ CMtn_Temperature_degC+ LXV_12hr_delta_Pressure_hp+ CMtn_Dewpoint_degC+ CMtn_WindSpeed_mps\n"
     ]
    }
   ],
   "source": [
    " # Just use 'min' instead of 'max' for minimum.\n",
    "print(\"Print maximum:\")\n",
    "maximum = max(dictionary, key=dictionary.get) \n",
    "print(maximum)"
   ]
  },
  {
   "cell_type": "code",
   "execution_count": 15,
   "metadata": {},
   "outputs": [
    {
     "name": "stdout",
     "output_type": "stream",
     "text": [
      "LXV_Temperature_degC+ CMtn_Temperature_degC+ LXV_12hr_delta_Pressure_hp+ CMtn_Dewpoint_degC+ CMtn_WindSpeed_mps\n",
      "                                      OLS Regression Results                                     \n",
      "=================================================================================================\n",
      "Dep. Variable:     CMtnSNTL_Upcoming12hrSNOWFALL_gte3_in   R-squared:                       0.079\n",
      "Model:                                               OLS   Adj. R-squared:                  0.052\n",
      "Method:                                    Least Squares   F-statistic:                     2.937\n",
      "Date:                                   Thu, 31 Jan 2019   Prob (F-statistic):             0.0143\n",
      "Time:                                           08:33:17   Log-Likelihood:                -384.84\n",
      "No. Observations:                                    177   AIC:                             781.7\n",
      "Df Residuals:                                        171   BIC:                             800.7\n",
      "Df Model:                                              5                                         \n",
      "Covariance Type:                               nonrobust                                         \n",
      "==============================================================================================\n",
      "                                 coef    std err          t      P>|t|      [0.025      0.975]\n",
      "----------------------------------------------------------------------------------------------\n",
      "Intercept                      4.8433      0.501      9.660      0.000       3.854       5.833\n",
      "LXV_Temperature_degC           0.0864      0.063      1.374      0.171      -0.038       0.210\n",
      "CMtn_Temperature_degC         -0.1390      0.082     -1.702      0.091      -0.300       0.022\n",
      "LXV_12hr_delta_Pressure_hp    -0.0445      0.033     -1.347      0.180      -0.110       0.021\n",
      "CMtn_Dewpoint_degC             0.1456      0.055      2.663      0.008       0.038       0.254\n",
      "CMtn_WindSpeed_mps             0.0944      0.043      2.172      0.031       0.009       0.180\n",
      "==============================================================================\n",
      "Omnibus:                       85.830   Durbin-Watson:                   1.955\n",
      "Prob(Omnibus):                  0.000   Jarque-Bera (JB):              312.668\n",
      "Skew:                           1.956   Prob(JB):                     1.27e-68\n",
      "Kurtosis:                       8.205   Cond. No.                         45.0\n",
      "==============================================================================\n",
      "\n",
      "Warnings:\n",
      "[1] Standard Errors assume that the covariance matrix of the errors is correctly specified.\n"
     ]
    }
   ],
   "source": [
    "maximum_all_str = max(dictionary, key=dictionary.get) \n",
    "print(maximum_all_str)\n",
    "\n",
    "maxOLS_all = ols('CMtnSNTL_Upcoming12hrSNOWFALL_gte3_in ~' + maximum_all_str , asos_snotel_UA_df['2008':'2017']).fit() \n",
    "print(maxOLS_all.summary())\n"
   ]
  },
  {
   "cell_type": "markdown",
   "metadata": {},
   "source": [
    "**Print QQ plot**"
   ]
  },
  {
   "cell_type": "code",
   "execution_count": 16,
   "metadata": {},
   "outputs": [
    {
     "data": {
      "image/png": "[encoded data removed]",
      "text/plain": [
       "<Figure size 432x288 with 1 Axes>"
      ]
     },
     "metadata": {},
     "output_type": "display_data"
    }
   ],
   "source": [
    "qq2=sm.qqplot(maxOLS_all.resid, line='r')"
   ]
  },
  {
   "cell_type": "markdown",
   "metadata": {},
   "source": [
    "Let's test different P|t| thresholds for which to remove variables, rerun and model for each set of variables, and see what threshold might glean best results using adjusted R squared as a metric**"
   ]
  },
  {
   "cell_type": "code",
   "execution_count": 17,
   "metadata": {},
   "outputs": [
    {
     "name": "stdout",
     "output_type": "stream",
     "text": [
      "LXV_Temperature_degC+ CMtn_Temperature_degC+ LXV_12hr_delta_Pressure_hp+ CMtn_Dewpoint_degC+ CMtn_WindSpeed_mps\n",
      "1\n",
      "LXV_Temperature_degC+ CMtn_Dewpoint_degC 0.00305533563938587 0.01\n",
      "0.00305533563938587 0.01\n",
      "2\n",
      "LXV_Temperature_degC+ CMtn_Dewpoint_degC 0.00305533563938587 0.02\n",
      "3\n",
      "LXV_Temperature_degC+ CMtn_Dewpoint_degC 0.00305533563938587 0.03\n",
      "4\n",
      "LXV_Temperature_degC+ CMtn_Dewpoint_degC+ CMtn_WindSpeed_mps 0.04204056368526976 0.04\n",
      "0.04204056368526976 0.04\n",
      "5\n",
      "LXV_Temperature_degC+ CMtn_Dewpoint_degC+ CMtn_WindSpeed_mps 0.04204056368526976 0.05\n",
      "6\n",
      "LXV_Temperature_degC+ CMtn_Dewpoint_degC+ CMtn_WindSpeed_mps 0.04204056368526976 0.06\n",
      "7\n",
      "LXV_Temperature_degC+ CMtn_Dewpoint_degC+ CMtn_WindSpeed_mps 0.04204056368526976 0.07\n",
      "8\n",
      "LXV_Temperature_degC+ CMtn_Dewpoint_degC+ CMtn_WindSpeed_mps 0.04204056368526976 0.08\n",
      "9\n",
      "LXV_Temperature_degC+ CMtn_Dewpoint_degC+ CMtn_WindSpeed_mps 0.04204056368526976 0.09\n",
      "10\n",
      "LXV_Temperature_degC+ CMtn_Temperature_degC+ CMtn_Dewpoint_degC+ CMtn_WindSpeed_mps 0.04768154134813496 0.1\n",
      "0.04768154134813496 0.1\n",
      "11\n",
      "LXV_Temperature_degC+ CMtn_Temperature_degC+ CMtn_Dewpoint_degC+ CMtn_WindSpeed_mps 0.04768154134813496 0.11\n",
      "12\n",
      "LXV_Temperature_degC+ CMtn_Temperature_degC+ CMtn_Dewpoint_degC+ CMtn_WindSpeed_mps 0.04768154134813496 0.12\n",
      "13\n",
      "LXV_Temperature_degC+ CMtn_Temperature_degC+ CMtn_Dewpoint_degC+ CMtn_WindSpeed_mps 0.04768154134813496 0.13\n",
      "14\n",
      "LXV_Temperature_degC+ CMtn_Temperature_degC+ CMtn_Dewpoint_degC+ CMtn_WindSpeed_mps 0.04768154134813496 0.14\n",
      "15\n",
      "LXV_Temperature_degC+ CMtn_Temperature_degC+ CMtn_Dewpoint_degC+ CMtn_WindSpeed_mps 0.04768154134813496 0.15\n",
      "16\n",
      "LXV_Temperature_degC+ CMtn_Temperature_degC+ CMtn_Dewpoint_degC+ CMtn_WindSpeed_mps 0.04768154134813496 0.16\n",
      "17\n",
      "LXV_Temperature_degC+ CMtn_Temperature_degC+ CMtn_Dewpoint_degC+ CMtn_WindSpeed_mps 0.04768154134813496 0.17\n",
      "18\n",
      "LXV_Temperature_degC+ CMtn_Temperature_degC+ LXV_12hr_delta_Pressure_hp+ CMtn_Dewpoint_degC+ CMtn_WindSpeed_mps 0.052168676951357074 0.18\n",
      "0.052168676951357074 0.18\n",
      "19\n",
      "LXV_Temperature_degC+ CMtn_Temperature_degC+ LXV_12hr_delta_Pressure_hp+ CMtn_Dewpoint_degC+ CMtn_WindSpeed_mps 0.052168676951357074 0.19\n",
      "20\n",
      "LXV_Temperature_degC+ CMtn_Temperature_degC+ LXV_12hr_delta_Pressure_hp+ CMtn_Dewpoint_degC+ CMtn_WindSpeed_mps 0.052168676951357074 0.2\n",
      "21\n",
      "LXV_Temperature_degC+ CMtn_Temperature_degC+ LXV_12hr_delta_Pressure_hp+ CMtn_Dewpoint_degC+ CMtn_WindSpeed_mps 0.052168676951357074 0.21\n",
      "22\n",
      "LXV_Temperature_degC+ CMtn_Temperature_degC+ LXV_12hr_delta_Pressure_hp+ CMtn_Dewpoint_degC+ CMtn_WindSpeed_mps 0.052168676951357074 0.22\n",
      "23\n",
      "LXV_Temperature_degC+ CMtn_Temperature_degC+ LXV_12hr_delta_Pressure_hp+ CMtn_Dewpoint_degC+ CMtn_WindSpeed_mps 0.052168676951357074 0.23\n",
      "24\n",
      "LXV_Temperature_degC+ CMtn_Temperature_degC+ LXV_12hr_delta_Pressure_hp+ CMtn_Dewpoint_degC+ CMtn_WindSpeed_mps 0.052168676951357074 0.24\n",
      "25\n",
      "LXV_Temperature_degC+ CMtn_Temperature_degC+ LXV_12hr_delta_Pressure_hp+ CMtn_Dewpoint_degC+ CMtn_WindSpeed_mps 0.052168676951357074 0.25\n",
      "26\n",
      "LXV_Temperature_degC+ CMtn_Temperature_degC+ LXV_12hr_delta_Pressure_hp+ CMtn_Dewpoint_degC+ CMtn_WindSpeed_mps 0.052168676951357074 0.26\n",
      "27\n",
      "LXV_Temperature_degC+ CMtn_Temperature_degC+ LXV_12hr_delta_Pressure_hp+ CMtn_Dewpoint_degC+ CMtn_WindSpeed_mps 0.052168676951357074 0.27\n",
      "28\n",
      "LXV_Temperature_degC+ CMtn_Temperature_degC+ LXV_12hr_delta_Pressure_hp+ CMtn_Dewpoint_degC+ CMtn_WindSpeed_mps 0.052168676951357074 0.28\n",
      "29\n",
      "LXV_Temperature_degC+ CMtn_Temperature_degC+ LXV_12hr_delta_Pressure_hp+ CMtn_Dewpoint_degC+ CMtn_WindSpeed_mps 0.052168676951357074 0.29\n",
      "30\n",
      "LXV_Temperature_degC+ CMtn_Temperature_degC+ LXV_12hr_delta_Pressure_hp+ CMtn_Dewpoint_degC+ CMtn_WindSpeed_mps 0.052168676951357074 0.3\n",
      "31\n",
      "LXV_Temperature_degC+ CMtn_Temperature_degC+ LXV_12hr_delta_Pressure_hp+ CMtn_Dewpoint_degC+ CMtn_WindSpeed_mps 0.052168676951357074 0.31\n",
      "32\n",
      "LXV_Temperature_degC+ CMtn_Temperature_degC+ LXV_12hr_delta_Pressure_hp+ CMtn_Dewpoint_degC+ CMtn_WindSpeed_mps 0.052168676951357074 0.32\n",
      "33\n",
      "LXV_Temperature_degC+ CMtn_Temperature_degC+ LXV_12hr_delta_Pressure_hp+ CMtn_Dewpoint_degC+ CMtn_WindSpeed_mps 0.052168676951357074 0.33\n",
      "34\n",
      "LXV_Temperature_degC+ CMtn_Temperature_degC+ LXV_12hr_delta_Pressure_hp+ CMtn_Dewpoint_degC+ CMtn_WindSpeed_mps 0.052168676951357074 0.34\n",
      "35\n",
      "LXV_Temperature_degC+ CMtn_Temperature_degC+ LXV_12hr_delta_Pressure_hp+ CMtn_Dewpoint_degC+ CMtn_WindSpeed_mps 0.052168676951357074 0.35000000000000003\n",
      "36\n",
      "LXV_Temperature_degC+ CMtn_Temperature_degC+ LXV_12hr_delta_Pressure_hp+ CMtn_Dewpoint_degC+ CMtn_WindSpeed_mps 0.052168676951357074 0.36\n",
      "37\n",
      "LXV_Temperature_degC+ CMtn_Temperature_degC+ LXV_12hr_delta_Pressure_hp+ CMtn_Dewpoint_degC+ CMtn_WindSpeed_mps 0.052168676951357074 0.37\n",
      "38\n",
      "LXV_Temperature_degC+ CMtn_Temperature_degC+ LXV_12hr_delta_Pressure_hp+ CMtn_Dewpoint_degC+ CMtn_WindSpeed_mps 0.052168676951357074 0.38\n",
      "39\n",
      "LXV_Temperature_degC+ CMtn_Temperature_degC+ LXV_12hr_delta_Pressure_hp+ CMtn_Dewpoint_degC+ CMtn_WindSpeed_mps 0.052168676951357074 0.39\n",
      "40\n",
      "LXV_Temperature_degC+ CMtn_Temperature_degC+ LXV_12hr_delta_Pressure_hp+ CMtn_Dewpoint_degC+ CMtn_WindSpeed_mps 0.052168676951357074 0.4\n",
      "41\n",
      "LXV_Temperature_degC+ CMtn_Temperature_degC+ LXV_12hr_delta_Pressure_hp+ CMtn_Dewpoint_degC+ CMtn_WindSpeed_mps 0.052168676951357074 0.41000000000000003\n",
      "42\n",
      "LXV_Temperature_degC+ CMtn_Temperature_degC+ LXV_12hr_delta_Pressure_hp+ CMtn_Dewpoint_degC+ CMtn_WindSpeed_mps 0.052168676951357074 0.42\n",
      "43\n",
      "LXV_Temperature_degC+ CMtn_Temperature_degC+ LXV_12hr_delta_Pressure_hp+ CMtn_Dewpoint_degC+ CMtn_WindSpeed_mps 0.052168676951357074 0.43\n",
      "44\n",
      "LXV_Temperature_degC+ CMtn_Temperature_degC+ LXV_12hr_delta_Pressure_hp+ CMtn_Dewpoint_degC+ CMtn_WindSpeed_mps 0.052168676951357074 0.44\n",
      "45\n",
      "LXV_Temperature_degC+ CMtn_Temperature_degC+ LXV_12hr_delta_Pressure_hp+ CMtn_Dewpoint_degC+ CMtn_WindSpeed_mps 0.052168676951357074 0.45\n",
      "46\n",
      "LXV_Temperature_degC+ CMtn_Temperature_degC+ LXV_12hr_delta_Pressure_hp+ CMtn_Dewpoint_degC+ CMtn_WindSpeed_mps 0.052168676951357074 0.46\n",
      "47\n",
      "LXV_Temperature_degC+ CMtn_Temperature_degC+ LXV_12hr_delta_Pressure_hp+ CMtn_Dewpoint_degC+ CMtn_WindSpeed_mps 0.052168676951357074 0.47000000000000003\n",
      "48\n",
      "LXV_Temperature_degC+ CMtn_Temperature_degC+ LXV_12hr_delta_Pressure_hp+ CMtn_Dewpoint_degC+ CMtn_WindSpeed_mps 0.052168676951357074 0.48\n",
      "49\n",
      "LXV_Temperature_degC+ CMtn_Temperature_degC+ LXV_12hr_delta_Pressure_hp+ CMtn_Dewpoint_degC+ CMtn_WindSpeed_mps 0.052168676951357074 0.49\n",
      "50\n",
      "LXV_Temperature_degC+ CMtn_Temperature_degC+ LXV_12hr_delta_Pressure_hp+ CMtn_Dewpoint_degC+ CMtn_WindSpeed_mps 0.052168676951357074 0.5\n",
      "51\n",
      "LXV_Temperature_degC+ CMtn_Temperature_degC+ LXV_12hr_delta_Pressure_hp+ CMtn_Dewpoint_degC+ CMtn_WindSpeed_mps 0.052168676951357074 0.51\n",
      "52\n",
      "LXV_Temperature_degC+ CMtn_Temperature_degC+ LXV_12hr_delta_Pressure_hp+ CMtn_Dewpoint_degC+ CMtn_WindSpeed_mps 0.052168676951357074 0.52\n",
      "53\n",
      "LXV_Temperature_degC+ CMtn_Temperature_degC+ LXV_12hr_delta_Pressure_hp+ CMtn_Dewpoint_degC+ CMtn_WindSpeed_mps 0.052168676951357074 0.53\n",
      "54\n",
      "LXV_Temperature_degC+ CMtn_Temperature_degC+ LXV_12hr_delta_Pressure_hp+ CMtn_Dewpoint_degC+ CMtn_WindSpeed_mps 0.052168676951357074 0.54\n",
      "55\n",
      "LXV_Temperature_degC+ CMtn_Temperature_degC+ LXV_12hr_delta_Pressure_hp+ CMtn_Dewpoint_degC+ CMtn_WindSpeed_mps 0.052168676951357074 0.55\n",
      "56\n",
      "LXV_Temperature_degC+ CMtn_Temperature_degC+ LXV_12hr_delta_Pressure_hp+ CMtn_Dewpoint_degC+ CMtn_WindSpeed_mps 0.052168676951357074 0.56\n",
      "57\n",
      "LXV_Temperature_degC+ CMtn_Temperature_degC+ LXV_12hr_delta_Pressure_hp+ CMtn_Dewpoint_degC+ CMtn_WindSpeed_mps 0.052168676951357074 0.5700000000000001\n",
      "58\n",
      "LXV_Temperature_degC+ CMtn_Temperature_degC+ LXV_12hr_delta_Pressure_hp+ CMtn_Dewpoint_degC+ CMtn_WindSpeed_mps 0.052168676951357074 0.58\n",
      "59\n",
      "LXV_Temperature_degC+ CMtn_Temperature_degC+ LXV_12hr_delta_Pressure_hp+ CMtn_Dewpoint_degC+ CMtn_WindSpeed_mps 0.052168676951357074 0.59\n",
      "60\n",
      "LXV_Temperature_degC+ CMtn_Temperature_degC+ LXV_12hr_delta_Pressure_hp+ CMtn_Dewpoint_degC+ CMtn_WindSpeed_mps 0.052168676951357074 0.6\n",
      "61\n",
      "LXV_Temperature_degC+ CMtn_Temperature_degC+ LXV_12hr_delta_Pressure_hp+ CMtn_Dewpoint_degC+ CMtn_WindSpeed_mps 0.052168676951357074 0.61\n",
      "62\n",
      "LXV_Temperature_degC+ CMtn_Temperature_degC+ LXV_12hr_delta_Pressure_hp+ CMtn_Dewpoint_degC+ CMtn_WindSpeed_mps 0.052168676951357074 0.62\n",
      "63\n",
      "LXV_Temperature_degC+ CMtn_Temperature_degC+ LXV_12hr_delta_Pressure_hp+ CMtn_Dewpoint_degC+ CMtn_WindSpeed_mps 0.052168676951357074 0.63\n",
      "64\n",
      "LXV_Temperature_degC+ CMtn_Temperature_degC+ LXV_12hr_delta_Pressure_hp+ CMtn_Dewpoint_degC+ CMtn_WindSpeed_mps 0.052168676951357074 0.64\n",
      "65\n",
      "LXV_Temperature_degC+ CMtn_Temperature_degC+ LXV_12hr_delta_Pressure_hp+ CMtn_Dewpoint_degC+ CMtn_WindSpeed_mps 0.052168676951357074 0.65\n",
      "66\n",
      "LXV_Temperature_degC+ CMtn_Temperature_degC+ LXV_12hr_delta_Pressure_hp+ CMtn_Dewpoint_degC+ CMtn_WindSpeed_mps 0.052168676951357074 0.66\n",
      "67\n"
     ]
    },
    {
     "name": "stdout",
     "output_type": "stream",
     "text": [
      "LXV_Temperature_degC+ CMtn_Temperature_degC+ LXV_12hr_delta_Pressure_hp+ CMtn_Dewpoint_degC+ CMtn_WindSpeed_mps 0.052168676951357074 0.67\n",
      "68\n",
      "LXV_Temperature_degC+ CMtn_Temperature_degC+ LXV_12hr_delta_Pressure_hp+ CMtn_Dewpoint_degC+ CMtn_WindSpeed_mps 0.052168676951357074 0.68\n",
      "69\n",
      "LXV_Temperature_degC+ CMtn_Temperature_degC+ LXV_12hr_delta_Pressure_hp+ CMtn_Dewpoint_degC+ CMtn_WindSpeed_mps 0.052168676951357074 0.6900000000000001\n",
      "70\n",
      "LXV_Temperature_degC+ CMtn_Temperature_degC+ LXV_12hr_delta_Pressure_hp+ CMtn_Dewpoint_degC+ CMtn_WindSpeed_mps 0.052168676951357074 0.7000000000000001\n",
      "71\n",
      "LXV_Temperature_degC+ CMtn_Temperature_degC+ LXV_12hr_delta_Pressure_hp+ CMtn_Dewpoint_degC+ CMtn_WindSpeed_mps 0.052168676951357074 0.71\n",
      "72\n",
      "LXV_Temperature_degC+ CMtn_Temperature_degC+ LXV_12hr_delta_Pressure_hp+ CMtn_Dewpoint_degC+ CMtn_WindSpeed_mps 0.052168676951357074 0.72\n",
      "73\n",
      "LXV_Temperature_degC+ CMtn_Temperature_degC+ LXV_12hr_delta_Pressure_hp+ CMtn_Dewpoint_degC+ CMtn_WindSpeed_mps 0.052168676951357074 0.73\n",
      "74\n",
      "LXV_Temperature_degC+ CMtn_Temperature_degC+ LXV_12hr_delta_Pressure_hp+ CMtn_Dewpoint_degC+ CMtn_WindSpeed_mps 0.052168676951357074 0.74\n",
      "75\n",
      "LXV_Temperature_degC+ CMtn_Temperature_degC+ LXV_12hr_delta_Pressure_hp+ CMtn_Dewpoint_degC+ CMtn_WindSpeed_mps 0.052168676951357074 0.75\n",
      "76\n",
      "LXV_Temperature_degC+ CMtn_Temperature_degC+ LXV_12hr_delta_Pressure_hp+ CMtn_Dewpoint_degC+ CMtn_WindSpeed_mps 0.052168676951357074 0.76\n",
      "77\n",
      "LXV_Temperature_degC+ CMtn_Temperature_degC+ LXV_12hr_delta_Pressure_hp+ CMtn_Dewpoint_degC+ CMtn_WindSpeed_mps 0.052168676951357074 0.77\n",
      "78\n",
      "LXV_Temperature_degC+ CMtn_Temperature_degC+ LXV_12hr_delta_Pressure_hp+ CMtn_Dewpoint_degC+ CMtn_WindSpeed_mps 0.052168676951357074 0.78\n",
      "79\n",
      "LXV_Temperature_degC+ CMtn_Temperature_degC+ LXV_12hr_delta_Pressure_hp+ CMtn_Dewpoint_degC+ CMtn_WindSpeed_mps 0.052168676951357074 0.79\n",
      "80\n",
      "LXV_Temperature_degC+ CMtn_Temperature_degC+ LXV_12hr_delta_Pressure_hp+ CMtn_Dewpoint_degC+ CMtn_WindSpeed_mps 0.052168676951357074 0.8\n",
      "81\n",
      "LXV_Temperature_degC+ CMtn_Temperature_degC+ LXV_12hr_delta_Pressure_hp+ CMtn_Dewpoint_degC+ CMtn_WindSpeed_mps 0.052168676951357074 0.81\n",
      "82\n",
      "LXV_Temperature_degC+ CMtn_Temperature_degC+ LXV_12hr_delta_Pressure_hp+ CMtn_Dewpoint_degC+ CMtn_WindSpeed_mps 0.052168676951357074 0.8200000000000001\n",
      "83\n",
      "LXV_Temperature_degC+ CMtn_Temperature_degC+ LXV_12hr_delta_Pressure_hp+ CMtn_Dewpoint_degC+ CMtn_WindSpeed_mps 0.052168676951357074 0.8300000000000001\n",
      "84\n",
      "LXV_Temperature_degC+ CMtn_Temperature_degC+ LXV_12hr_delta_Pressure_hp+ CMtn_Dewpoint_degC+ CMtn_WindSpeed_mps 0.052168676951357074 0.84\n",
      "85\n",
      "LXV_Temperature_degC+ CMtn_Temperature_degC+ LXV_12hr_delta_Pressure_hp+ CMtn_Dewpoint_degC+ CMtn_WindSpeed_mps 0.052168676951357074 0.85\n",
      "86\n",
      "LXV_Temperature_degC+ CMtn_Temperature_degC+ LXV_12hr_delta_Pressure_hp+ CMtn_Dewpoint_degC+ CMtn_WindSpeed_mps 0.052168676951357074 0.86\n",
      "87\n",
      "LXV_Temperature_degC+ CMtn_Temperature_degC+ LXV_12hr_delta_Pressure_hp+ CMtn_Dewpoint_degC+ CMtn_WindSpeed_mps 0.052168676951357074 0.87\n",
      "88\n",
      "LXV_Temperature_degC+ CMtn_Temperature_degC+ LXV_12hr_delta_Pressure_hp+ CMtn_Dewpoint_degC+ CMtn_WindSpeed_mps 0.052168676951357074 0.88\n",
      "89\n",
      "LXV_Temperature_degC+ CMtn_Temperature_degC+ LXV_12hr_delta_Pressure_hp+ CMtn_Dewpoint_degC+ CMtn_WindSpeed_mps 0.052168676951357074 0.89\n",
      "90\n",
      "LXV_Temperature_degC+ CMtn_Temperature_degC+ LXV_12hr_delta_Pressure_hp+ CMtn_Dewpoint_degC+ CMtn_WindSpeed_mps 0.052168676951357074 0.9\n",
      "91\n",
      "LXV_Temperature_degC+ CMtn_Temperature_degC+ LXV_12hr_delta_Pressure_hp+ CMtn_Dewpoint_degC+ CMtn_WindSpeed_mps 0.052168676951357074 0.91\n",
      "92\n",
      "LXV_Temperature_degC+ CMtn_Temperature_degC+ LXV_12hr_delta_Pressure_hp+ CMtn_Dewpoint_degC+ CMtn_WindSpeed_mps 0.052168676951357074 0.92\n",
      "93\n",
      "LXV_Temperature_degC+ CMtn_Temperature_degC+ LXV_12hr_delta_Pressure_hp+ CMtn_Dewpoint_degC+ CMtn_WindSpeed_mps 0.052168676951357074 0.93\n",
      "94\n",
      "LXV_Temperature_degC+ CMtn_Temperature_degC+ LXV_12hr_delta_Pressure_hp+ CMtn_Dewpoint_degC+ CMtn_WindSpeed_mps 0.052168676951357074 0.9400000000000001\n",
      "95\n",
      "LXV_Temperature_degC+ CMtn_Temperature_degC+ LXV_12hr_delta_Pressure_hp+ CMtn_Dewpoint_degC+ CMtn_WindSpeed_mps 0.052168676951357074 0.9500000000000001\n",
      "96\n",
      "LXV_Temperature_degC+ CMtn_Temperature_degC+ LXV_12hr_delta_Pressure_hp+ CMtn_Dewpoint_degC+ CMtn_WindSpeed_mps 0.052168676951357074 0.96\n",
      "97\n",
      "LXV_Temperature_degC+ CMtn_Temperature_degC+ LXV_12hr_delta_Pressure_hp+ CMtn_Dewpoint_degC+ CMtn_WindSpeed_mps 0.052168676951357074 0.97\n",
      "98\n",
      "LXV_Temperature_degC+ CMtn_Temperature_degC+ LXV_12hr_delta_Pressure_hp+ CMtn_Dewpoint_degC+ CMtn_WindSpeed_mps 0.052168676951357074 0.98\n",
      "99\n",
      "LXV_Temperature_degC+ CMtn_Temperature_degC+ LXV_12hr_delta_Pressure_hp+ CMtn_Dewpoint_degC+ CMtn_WindSpeed_mps 0.052168676951357074 0.99\n",
      "\n",
      " best threshold is:0.18\n",
      "                                      OLS Regression Results                                     \n",
      "=================================================================================================\n",
      "Dep. Variable:     CMtnSNTL_Upcoming12hrSNOWFALL_gte3_in   R-squared:                       0.079\n",
      "Model:                                               OLS   Adj. R-squared:                  0.052\n",
      "Method:                                    Least Squares   F-statistic:                     2.937\n",
      "Date:                                   Thu, 31 Jan 2019   Prob (F-statistic):             0.0143\n",
      "Time:                                           08:33:19   Log-Likelihood:                -384.84\n",
      "No. Observations:                                    177   AIC:                             781.7\n",
      "Df Residuals:                                        171   BIC:                             800.7\n",
      "Df Model:                                              5                                         \n",
      "Covariance Type:                               nonrobust                                         \n",
      "==============================================================================================\n",
      "                                 coef    std err          t      P>|t|      [0.025      0.975]\n",
      "----------------------------------------------------------------------------------------------\n",
      "Intercept                      4.8433      0.501      9.660      0.000       3.854       5.833\n",
      "LXV_Temperature_degC           0.0864      0.063      1.374      0.171      -0.038       0.210\n",
      "CMtn_Temperature_degC         -0.1390      0.082     -1.702      0.091      -0.300       0.022\n",
      "LXV_12hr_delta_Pressure_hp    -0.0445      0.033     -1.347      0.180      -0.110       0.021\n",
      "CMtn_Dewpoint_degC             0.1456      0.055      2.663      0.008       0.038       0.254\n",
      "CMtn_WindSpeed_mps             0.0944      0.043      2.172      0.031       0.009       0.180\n",
      "==============================================================================\n",
      "Omnibus:                       85.830   Durbin-Watson:                   1.955\n",
      "Prob(Omnibus):                  0.000   Jarque-Bera (JB):              312.668\n",
      "Skew:                           1.956   Prob(JB):                     1.27e-68\n",
      "Kurtosis:                       8.205   Cond. No.                         45.0\n",
      "==============================================================================\n",
      "\n",
      "Warnings:\n",
      "[1] Standard Errors assume that the covariance matrix of the errors is correctly specified.\n"
     ]
    }
   ],
   "source": [
    "rsq_adj = 0\n",
    "thresh = 0\n",
    "\n",
    "goodp_str = \"\"\n",
    "highp_var = []\n",
    "\n",
    "maximum_all_str = max(dictionary, key=dictionary.get)    #this is the string of variables found in previous OLS run associated with mad adjusted R squared.\n",
    "print(maximum_all_str)\n",
    "\n",
    "\n",
    "for test_thresh in range(1, 100):   #loop through different P|t| thresholds ranging from 1 to 100.  Note floats are not allowed here \n",
    "  print(test_thresh)\n",
    "  highp_var = [var for var in maxOLS_all.pvalues.keys() if maxOLS_all.pvalues[var]>=test_thresh*0.01]  #check P|t| for each variable against threshold and store in list\n",
    "  \n",
    "  testgoodp_str = maximum_all_str   #reset testgoodp_str \n",
    "    \n",
    "  for var in highp_var:\n",
    "    testgoodp_str = testgoodp_str.replace(\"+ \" + var, \"\")   #  \n",
    "     \n",
    "\n",
    " \n",
    "\n",
    "  maxOLS_testgoodp = ols('CMtnSNTL_Upcoming12hrSNOWFALL_gte3_in ~' + testgoodp_str, asos_snotel_UA_df['2008':'2017']).fit()\n",
    "  print(testgoodp_str, maxOLS_testgoodp.rsquared_adj, test_thresh*0.01)\n",
    "  #print(maxOLS_testgoodp.rsquared_adj)\n",
    "  if maxOLS_testgoodp.rsquared_adj > rsq_adj:\n",
    "      rsq_adj = maxOLS_testgoodp.rsquared_adj\n",
    "      print(maxOLS_testgoodp.rsquared_adj, test_thresh*0.01)\n",
    "      goodp_str = testgoodp_str\n",
    "      thresh = test_thresh*0.01\n",
    "\n",
    "    \n",
    "print(\"\\n best threshold is:\" + str(thresh))\n",
    "maxOLS_goodp = ols('CMtnSNTL_Upcoming12hrSNOWFALL_gte3_in ~' + goodp_str, asos_snotel_UA_df['2008':'2017']).fit() \n",
    "print(maxOLS_goodp.summary())\n"
   ]
  },
  {
   "cell_type": "markdown",
   "metadata": {},
   "source": [
    "**So it looks like the best P|t| threshold for variable elimination is 0.18.  No improvement to adjusted R squared could be made**"
   ]
  },
  {
   "cell_type": "markdown",
   "metadata": {},
   "source": [
    "## Try fit parameters with test dataset (2006 and 2007 data)"
   ]
  },
  {
   "cell_type": "code",
   "execution_count": 18,
   "metadata": {},
   "outputs": [
    {
     "data": {
      "image/png": "[encoded data removed]",
      "text/plain": [
       "<Figure size 432x288 with 1 Axes>"
      ]
     },
     "metadata": {},
     "output_type": "display_data"
    }
   ],
   "source": [
    "\n",
    "from scipy.stats import pearsonr, linregress\n",
    "#print(asos_snotel_UA_df['2006':'2007'][asos_snotel_UA_df['2006':'2007']['CMtnSNTL_Upcoming12hrSNOWFALL_gte3_in']>=3].describe())\n",
    "\n",
    "actual_snf = asos_snotel_UA_df['2006':'2007']['CMtnSNTL_Upcoming12hrSNOWFALL_gte3_in'][asos_snotel_UA_df['2006':'2007']['CMtnSNTL_Upcoming12hrSNOWFALL_gte3_in']>=3]\n",
    "predict = maxOLS_goodp.predict(asos_snotel_UA_df['2006':'2007'][asos_snotel_UA_df['2006':'2007']['CMtnSNTL_Upcoming12hrSNOWFALL_gte3_in']>=3])\n",
    "#print(actual_snf.describe())\n",
    "\n",
    "\n",
    "idx = np.isfinite(predict) & np.isfinite(actual_snf) \n",
    "sns.regplot(predict[idx], actual_snf[idx])\n",
    "\n",
    "#print(asos_snotel_UA_df['2006':'2007'][asos_snotel_UA_df['CMtnSNTL_Past12hrSNOWFALL_in']>=3].describe())\n",
    "\n",
    "slope1, intercept1, r_value1, p_value1, std_err1 = linregress(predict[idx], actual_snf[idx])\n",
    "pearson1, pv = pearsonr(predict[idx], actual_snf[idx])\n",
    "plt.annotate(' slope: ' + str(round(slope1,3)) +\n",
    "                 '\\n intercept: ' + str(round(intercept1,3)) + \n",
    "                 '\\n R value: ' + str(round(r_value1,3)) +  \n",
    "                 '\\n p value: ' + str(round(p_value1,3)) + \n",
    "                 '\\n Std error: ' + str(round(std_err1,3)) +\n",
    "                 '\\n Pearson: ' + str(round(pearson1,3)), \\\n",
    "                 xy=(0.83, 0.72), xycoords='axes fraction', fontsize=10)\n",
    "\n",
    "plt.xlabel('Predicted Snowfall (inches)')\n",
    "plt.ylabel('Actual Snowfall (inches)')\n",
    "plt.xlim([0,12])\n",
    "plt.ylim([0,12])\n",
    "plt.grid(True)\n",
    "#print(actual_snf.describe())\n",
    "#print(predict.describe())"
   ]
  },
  {
   "cell_type": "code",
   "execution_count": 31,
   "metadata": {},
   "outputs": [
    {
     "name": "stdout",
     "output_type": "stream",
     "text": [
      "[4.98424095 4.97480445 4.70961011 4.55886725 5.34369469 3.82799135\n",
      " 5.25792217 4.35833122 3.87930834 5.18047038 4.60060072 4.30892818\n",
      " 4.10632268 5.29457035 4.8526515  4.21049205 4.65653833 1.33985957\n",
      " 6.31786824 4.64228127 5.28159006 4.3717721  3.43249965 4.28231864\n",
      " 5.17543054 4.29659133 4.39925397 3.40681503 4.58446297 4.83132936\n",
      " 3.61681323 5.05151966 4.97171454 5.28332768 4.73345433 5.36873586\n",
      " 4.84464543 4.48901978 4.14755441 2.9391963  6.07234125 4.38191683\n",
      " 4.41856028 4.25784887 4.6929693  3.76377347 5.16758655]\n",
      "[ 5.   4.   5.   4.   5.   5.   7.   4.   4.   3.   4.   8.   4.   5.\n",
      "  8.   3.  11.   3.   6.   3.   3.   4.   3.   5.   6.   4.   4.   3.\n",
      "  5.   6.   3.   5.   3.   6.5  3.5  3.   3.   3.   3.   3.   6.   4.\n",
      "  4.   3.   3.   3.   3. ]\n",
      "[ 0.01575905 -0.97480445  0.29038989 -0.55886725 -0.34369469  1.17200865\n",
      "  1.74207783 -0.35833122  0.12069166 -2.18047038 -0.60060072  3.69107182\n",
      " -0.10632268 -0.29457035  3.1473485  -1.21049205  6.34346167  1.66014043\n",
      " -0.31786824 -1.64228127 -2.28159006 -0.3717721  -0.43249965  0.71768136\n",
      "  0.82456946 -0.29659133 -0.39925397 -0.40681503  0.41553703  1.16867064\n",
      " -0.61681323 -0.05151966 -1.97171454  1.21667232 -1.23345433 -2.36873586\n",
      " -1.84464543 -1.48901978 -1.14755441  0.0608037  -0.07234125 -0.38191683\n",
      " -0.41856028 -1.25784887 -1.6929693  -0.76377347 -2.16758655]\n",
      "40\n",
      "47\n",
      "0.851063829787234\n"
     ]
    },
    {
     "data": {
      "image/png": "[encoded data removed]",
      "text/plain": [
       "<Figure size 432x288 with 1 Axes>"
      ]
     },
     "metadata": {},
     "output_type": "display_data"
    }
   ],
   "source": [
    "plt.scatter(predict[idx].values, actual_snf[idx].values-predict[idx].values)\n",
    "print(predict[idx].values)\n",
    "print(actual_snf[idx].values)\n",
    "#print(actual_snf[idx].values-predict[idx].values)\n",
    "\n",
    "\n",
    "diff = actual_snf[idx].values-predict[idx].values\n",
    "print(diff)\n",
    "print(len([x for x in diff if abs(x)<=2]))\n",
    "print(len(diff))\n",
    "\n",
    "PercentSuccess = len([x for x in diff if abs(x)<=2])/len(diff)\n",
    "print(PercentSuccess)\n",
    "#print(type(predict))\n",
    "#print(type(actual_snf))\n",
    "#sns.regplot(predict[idx], actual_snf[idx]-predict[idx])"
   ]
  }
 ],
 "metadata": {
  "kernelspec": {
   "display_name": "Python 3",
   "language": "python",
   "name": "python3"
  },
  "language_info": {
   "codemirror_mode": {
    "name": "ipython",
    "version": 3
   },
   "file_extension": ".py",
   "mimetype": "text/x-python",
   "name": "python",
   "nbconvert_exporter": "python",
   "pygments_lexer": "ipython3",
   "version": "3.6.5"
  }
 },
 "nbformat": 4,
 "nbformat_minor": 2
}
