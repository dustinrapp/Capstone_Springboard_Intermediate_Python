{
 "cells": [
  {
   "cell_type": "markdown",
   "metadata": {},
   "source": [
    "## Data Prep"
   ]
  },
  {
   "cell_type": "markdown",
   "metadata": {},
   "source": [
    "**Import necessary modules and the ASOS/SNOTEL dataframes**"
   ]
  },
  {
   "cell_type": "code",
   "execution_count": 1,
   "metadata": {},
   "outputs": [],
   "source": [
    "import pandas as pd\n",
    "import matplotlib.pyplot as plt\n",
    "import numpy as np\n",
    "import datetime as dtb\n",
    "import os\n",
    "from glob import glob\n",
    "import datetime as dt\n",
    "import seaborn as sns"
   ]
  },
  {
   "cell_type": "code",
   "execution_count": 2,
   "metadata": {},
   "outputs": [
    {
     "name": "stdout",
     "output_type": "stream",
     "text": [
      "Index(['CMtnSNTL_Temp_degC', 'CMtnSNTL_SnowDepth_in', 'CMtn_Temperature_degC',\n",
      "       'CMtn_Dewpoint_degC', 'CMtn_WindDirection_deg', 'CMtn_WindSpeed_mps',\n",
      "       'CMtn_CloudCover_oktas', 'CMtn_1hr_Precipitation_mm',\n",
      "       'LXV_Temperature_degC', 'LXV_Dewpoint_degC',\n",
      "       ...\n",
      "       'KGJT_d300_200_height_m', 'KGJT_d300_200_tmpc', 'KGJT_d300_200_dwpc',\n",
      "       'KGJT_d300_200_drct', 'KGJT_d300_200_speed_kts',\n",
      "       'KGJT_d250_200_height_m', 'KGJT_d250_200_tmpc', 'KGJT_d250_200_dwpc',\n",
      "       'KGJT_d250_200_drct', 'KGJT_d250_200_speed_kts'],\n",
      "      dtype='object', length=163)\n"
     ]
    }
   ],
   "source": [
    "data = [pd.read_csv('asos_snotel_UA_12hr_df.dat', parse_dates = True, index_col = 'Date_Time')]\n",
    "asos_snotel_UA_df = pd.concat(data)\n",
    "#asos_snotel_UA_df['LXV_WindSpeed_m/s']\n",
    "\n",
    "#asos_snotel_UA_df.rename(columns={'LXV_WindSpeed_m/s': 'LXV_WindSpeed_mps'}, inplace=True)\n",
    "\n",
    "asos_snotel_UA_df.astype('float16')\n",
    "pd.set_option('display.expand_frame_repr', True)\n",
    "\n",
    "\n",
    "print(asos_snotel_UA_df.keys())\n",
    "\n",
    "\n",
    "\n",
    "\n",
    "#delete empty columns as they mess up loops\n",
    "#del asos_snotel_UA_df['CMtn_6hr_Precipitation_mm']            #empty column\n"
   ]
  },
  {
   "cell_type": "code",
   "execution_count": 3,
   "metadata": {},
   "outputs": [],
   "source": [
    "all_yrs = (asos_snotel_UA_df.index >= '01-01-2006') & (asos_snotel_UA_df.index < '01-01-2018')\n",
    "test_yrs = ((asos_snotel_UA_df.index >= '01-01-2006') & (asos_snotel_UA_df.index < '01-01-2007')) | ((asos_snotel_UA_df.index >= '01-01-2017') & (asos_snotel_UA_df.index < '01-01-2018'))\n",
    "train_yrs = (asos_snotel_UA_df.index >= '01-01-2007') & (asos_snotel_UA_df.index < '01-01-2017')"
   ]
  },
  {
   "cell_type": "markdown",
   "metadata": {},
   "source": [
    "It is important to keep in mind that 'CMtnSNTL_12hr_SNWD_in contains snow depth info taken at the start of the respective 12hr period timestamp.  The snowfall calculated also gives the snowfall that fell in the 12hrs after the timestamp.  The OLS model will utilize hourly meteorological measurements at exactly 00:00 and 12:00 hours to predict the amount of snow which will fall in the next 12 hour period.  For example, the 00:00 meteorological measurements will be used to predict the snow which fell between 00:00 and 12:00."
   ]
  },
  {
   "cell_type": "markdown",
   "metadata": {},
   "source": [
    "***\n",
    "# OLS Analysis of meteorological variables and snowfall (Training Dataset: 2007-2016 only)"
   ]
  },
  {
   "cell_type": "markdown",
   "metadata": {},
   "source": [
    "**We will first utilize just the Copper Mountain surface level variables and run the model explicitly to generate statistics.  This will give snowfall predictive capability of individual meteorological variables (Dewpoint, SNOTEL Temperature, Temperature, Wind Speed, Cloud Cover, Wind Direction, 6hr Pressure change, and Pressure) using an OLS model and the 2008-2017 training dataset. The resulting values will also be used to verify some code which performs same analysis, but with a loop.  This code will then be fed all upper air and surface level variables to determine best combination of variables in the OLS model.**\n"
   ]
  },
  {
   "cell_type": "code",
   "execution_count": 4,
   "metadata": {},
   "outputs": [],
   "source": [
    "#Import statsmodel\n",
    "\n",
    "import statsmodels.api as sm\n",
    "#import statsmodel\n",
    "from statsmodels.formula.api import ols"
   ]
  },
  {
   "cell_type": "markdown",
   "metadata": {},
   "source": [
    "#### Single Variable Summary\n",
    "**Adjusted R:**  \n",
    "OLS_CMtn_Dewpoint: 0.007  \n",
    "OLS_CMtnSNTL_Temp:  -0.002 \n",
    "OLS_CMtn_Temperature: -0.005  \n",
    "OLS_CMtn_WindSpeed:  0.017  \n",
    "OLS_CMtn_CloudCover:  0.000  \n",
    "OLS_CMtn_WindDirection:  -0.004  \n",
    "OLS_LXV_6hr_delta_Pressure:   0.004  \n",
    "OLS_LXV_Pressure:    -0.003  \n",
    "\n",
    "**Prob (F-statistic):**  \n",
    "OLS_CMtn_Dewpoint: 0.139  \n",
    "OLS_CMtnSNTL_Temp: 0.483  \n",
    "OLS_CMtn_Temperature:  0.708  \n",
    "OLS_CMtn_WindSpeed:  0.0466  \n",
    "OLS_CMtn_CloudCover: 0.316 \n",
    "OLS_CMtn_WindDirection:   0.614  \n",
    "OLS_LXV_6hr_delta_Pressure:  0.155  \n",
    "OLS_LXV_Pressure:   0.550 \n",
    "  \n",
    "From this, we can glean that Dewpoint alone likely has the best fit as the adjusted R squared is the highest.  The F statistics such signficant correlations (at 5% confident interval) for only  Dewpoint and Pressure)."
   ]
  },
  {
   "cell_type": "markdown",
   "metadata": {},
   "source": [
    "## Determine which columns to use in OLS model.   \n",
    "### Only going to to keep those data columns which have a matching hour to at least 67% of the snowfall measurements"
   ]
  },
  {
   "cell_type": "code",
   "execution_count": 5,
   "metadata": {},
   "outputs": [
    {
     "name": "stdout",
     "output_type": "stream",
     "text": [
      "Variables with >= 67% data match to snowfall: \n",
      "['CMtnSNTL_Temp_degC', 'CMtn_Temperature_degC', 'CMtn_Dewpoint_degC', 'CMtn_WindSpeed_mps', 'LXV_Temperature_degC', 'LXV_Dewpoint_degC', 'LXV_Pressure_hp', 'LXV_WindSpeed_mps', 'LXV_12hr_delta_Pressure_hp', 'KGJT_200mb_height_m', 'KGJT_200mb_tmpc', 'KGJT_200mb_dwpc', 'KGJT_200mb_speed_kts', 'KGJT_250mb_height_m', 'KGJT_250mb_tmpc', 'KGJT_250mb_dwpc', 'KGJT_250mb_speed_kts', 'KGJT_300mb_height_m', 'KGJT_300mb_tmpc', 'KGJT_300mb_dwpc', 'KGJT_300mb_speed_kts', 'KGJT_400mb_height_m', 'KGJT_400mb_tmpc', 'KGJT_400mb_dwpc', 'KGJT_400mb_speed_kts', 'KGJT_500mb_height_m', 'KGJT_500mb_tmpc', 'KGJT_500mb_dwpc', 'KGJT_500mb_speed_kts', 'KGJT_700mb_height_m', 'KGJT_700mb_tmpc', 'KGJT_700mb_dwpc', 'KGJT_700mb_speed_kts', 'KGJT_850mb_height_m', 'KGJT_d850_700_height_m', 'KGJT_d850_500_height_m', 'KGJT_d850_400_height_m', 'KGJT_d850_300_height_m', 'KGJT_d850_250_height_m', 'KGJT_d850_200_height_m', 'KGJT_d700_500_height_m', 'KGJT_d700_500_tmpc', 'KGJT_d700_500_dwpc', 'KGJT_d700_500_speed_kts', 'KGJT_d700_400_height_m', 'KGJT_d700_400_tmpc', 'KGJT_d700_400_dwpc', 'KGJT_d700_400_speed_kts', 'KGJT_d700_300_height_m', 'KGJT_d700_300_tmpc', 'KGJT_d700_300_dwpc', 'KGJT_d700_300_speed_kts', 'KGJT_d700_250_height_m', 'KGJT_d700_250_tmpc', 'KGJT_d700_250_dwpc', 'KGJT_d700_250_speed_kts', 'KGJT_d700_200_height_m', 'KGJT_d700_200_tmpc', 'KGJT_d700_200_dwpc', 'KGJT_d700_200_speed_kts', 'KGJT_d500_400_height_m', 'KGJT_d500_400_tmpc', 'KGJT_d500_400_dwpc', 'KGJT_d500_400_speed_kts', 'KGJT_d500_300_height_m', 'KGJT_d500_300_tmpc', 'KGJT_d500_300_dwpc', 'KGJT_d500_300_speed_kts', 'KGJT_d500_250_height_m', 'KGJT_d500_250_tmpc', 'KGJT_d500_250_dwpc', 'KGJT_d500_250_speed_kts', 'KGJT_d500_200_height_m', 'KGJT_d500_200_tmpc', 'KGJT_d500_200_dwpc', 'KGJT_d500_200_speed_kts', 'KGJT_d400_300_height_m', 'KGJT_d400_300_tmpc', 'KGJT_d400_300_dwpc', 'KGJT_d400_300_speed_kts', 'KGJT_d400_250_height_m', 'KGJT_d400_250_tmpc', 'KGJT_d400_250_dwpc', 'KGJT_d400_250_speed_kts', 'KGJT_d400_200_height_m', 'KGJT_d400_200_tmpc', 'KGJT_d400_200_dwpc', 'KGJT_d400_200_speed_kts', 'KGJT_d300_250_height_m', 'KGJT_d300_250_tmpc', 'KGJT_d300_250_dwpc', 'KGJT_d300_250_speed_kts', 'KGJT_d300_200_height_m', 'KGJT_d300_200_tmpc', 'KGJT_d300_200_dwpc', 'KGJT_d300_200_speed_kts', 'KGJT_d250_200_height_m', 'KGJT_d250_200_tmpc', 'KGJT_d250_200_dwpc', 'KGJT_d250_200_speed_kts']\n",
      "Variables with < 67% data match to snowfall: \n",
      "['CMtn_CloudCover_oktas', 'LXV_CloudCover_oktas', 'KGJT_850mb_tmpc', 'KGJT_850mb_dwpc', 'KGJT_850mb_speed_kts', 'KGJT_d850_700_tmpc', 'KGJT_d850_700_dwpc', 'KGJT_d850_700_speed_kts', 'KGJT_d850_500_tmpc', 'KGJT_d850_500_dwpc', 'KGJT_d850_500_speed_kts', 'KGJT_d850_400_tmpc', 'KGJT_d850_400_dwpc', 'KGJT_d850_400_speed_kts', 'KGJT_d850_300_tmpc', 'KGJT_d850_300_dwpc', 'KGJT_d850_300_speed_kts', 'KGJT_d850_250_tmpc', 'KGJT_d850_250_dwpc', 'KGJT_d850_250_speed_kts', 'KGJT_d850_200_tmpc', 'KGJT_d850_200_dwpc', 'KGJT_d850_200_speed_kts']\n"
     ]
    }
   ],
   "source": [
    "variables = ['CMtnSNTL_Temp_degC', 'CMtn_Temperature_degC', 'CMtn_Dewpoint_degC', 'CMtn_WindSpeed_mps', 'CMtn_CloudCover_oktas', \\\n",
    " 'LXV_Temperature_degC', 'LXV_Dewpoint_degC', 'LXV_Pressure_hp', 'LXV_WindSpeed_mps',  'LXV_CloudCover_oktas', 'LXV_12hr_delta_Pressure_hp', \\\n",
    " 'KGJT_200mb_height_m', 'KGJT_200mb_tmpc', 'KGJT_200mb_dwpc', 'KGJT_200mb_speed_kts', \\\n",
    " 'KGJT_250mb_height_m', 'KGJT_250mb_tmpc', 'KGJT_250mb_dwpc', 'KGJT_250mb_speed_kts', \\\n",
    " 'KGJT_300mb_height_m', 'KGJT_300mb_tmpc', 'KGJT_300mb_dwpc', 'KGJT_300mb_speed_kts', \\\n",
    " 'KGJT_400mb_height_m', 'KGJT_400mb_tmpc', 'KGJT_400mb_dwpc', 'KGJT_400mb_speed_kts', \\\n",
    " 'KGJT_500mb_height_m', 'KGJT_500mb_tmpc', 'KGJT_500mb_dwpc', 'KGJT_500mb_speed_kts', \\\n",
    " 'KGJT_700mb_height_m', 'KGJT_700mb_tmpc', 'KGJT_700mb_dwpc', 'KGJT_700mb_speed_kts', \\\n",
    " 'KGJT_850mb_height_m', 'KGJT_850mb_tmpc', 'KGJT_850mb_dwpc', 'KGJT_850mb_speed_kts', \\\n",
    " 'KGJT_d850_700_height_m', 'KGJT_d850_700_tmpc', 'KGJT_d850_700_dwpc', 'KGJT_d850_700_speed_kts', \\\n",
    " 'KGJT_d850_500_height_m', 'KGJT_d850_500_tmpc', 'KGJT_d850_500_dwpc', 'KGJT_d850_500_speed_kts', \\\n",
    " 'KGJT_d850_400_height_m', 'KGJT_d850_400_tmpc', 'KGJT_d850_400_dwpc', 'KGJT_d850_400_speed_kts', \\\n",
    " 'KGJT_d850_300_height_m', 'KGJT_d850_300_tmpc', 'KGJT_d850_300_dwpc', 'KGJT_d850_300_speed_kts', \\\n",
    " 'KGJT_d850_250_height_m', 'KGJT_d850_250_tmpc', 'KGJT_d850_250_dwpc', 'KGJT_d850_250_speed_kts', \\\n",
    " 'KGJT_d850_200_height_m', 'KGJT_d850_200_tmpc', 'KGJT_d850_200_dwpc', 'KGJT_d850_200_speed_kts',\\\n",
    " 'KGJT_d700_500_height_m', 'KGJT_d700_500_tmpc', 'KGJT_d700_500_dwpc', 'KGJT_d700_500_speed_kts', \\\n",
    " 'KGJT_d700_400_height_m', 'KGJT_d700_400_tmpc', 'KGJT_d700_400_dwpc', 'KGJT_d700_400_speed_kts', \\\n",
    " 'KGJT_d700_300_height_m', 'KGJT_d700_300_tmpc', 'KGJT_d700_300_dwpc', 'KGJT_d700_300_speed_kts', \\\n",
    " 'KGJT_d700_250_height_m', 'KGJT_d700_250_tmpc', 'KGJT_d700_250_dwpc', 'KGJT_d700_250_speed_kts', \\\n",
    " 'KGJT_d700_200_height_m', 'KGJT_d700_200_tmpc', 'KGJT_d700_200_dwpc', 'KGJT_d700_200_speed_kts', \\\n",
    " 'KGJT_d500_400_height_m', 'KGJT_d500_400_tmpc', 'KGJT_d500_400_dwpc', 'KGJT_d500_400_speed_kts', \\\n",
    " 'KGJT_d500_300_height_m', 'KGJT_d500_300_tmpc', 'KGJT_d500_300_dwpc', 'KGJT_d500_300_speed_kts', \\\n",
    " 'KGJT_d500_250_height_m', 'KGJT_d500_250_tmpc', 'KGJT_d500_250_dwpc', 'KGJT_d500_250_speed_kts', \\\n",
    " 'KGJT_d500_200_height_m', 'KGJT_d500_200_tmpc', 'KGJT_d500_200_dwpc', 'KGJT_d500_200_speed_kts', \\\n",
    " 'KGJT_d400_300_height_m', 'KGJT_d400_300_tmpc', 'KGJT_d400_300_dwpc', 'KGJT_d400_300_speed_kts', \\\n",
    " 'KGJT_d400_250_height_m', 'KGJT_d400_250_tmpc', 'KGJT_d400_250_dwpc', 'KGJT_d400_250_speed_kts', \\\n",
    " 'KGJT_d400_200_height_m', 'KGJT_d400_200_tmpc', 'KGJT_d400_200_dwpc', 'KGJT_d400_200_speed_kts', \\\n",
    " 'KGJT_d300_250_height_m', 'KGJT_d300_250_tmpc', 'KGJT_d300_250_dwpc', 'KGJT_d300_250_speed_kts', \\\n",
    " 'KGJT_d300_200_height_m', 'KGJT_d300_200_tmpc', 'KGJT_d300_200_dwpc', 'KGJT_d300_200_speed_kts', \\\n",
    " 'KGJT_d250_200_height_m', 'KGJT_d250_200_tmpc', 'KGJT_d250_200_dwpc', 'KGJT_d250_200_speed_kts']\n",
    "\n",
    "good_vars = []\n",
    "bad_vars = []\n",
    "for var in variables:\n",
    "    idx = np.isfinite(asos_snotel_UA_df[train_yrs]['CMtnSNTL_Upcoming12hrSNOWFALL_gte3_in']) & np.isfinite(asos_snotel_UA_df[train_yrs][var])\n",
    " #   total_poss = len(asos_snotel_UA_df[train_yrs]['CMtnSNTL_Upcoming12hrSNOWFALL_gte3_in'][asos_snotel_UA_df[train_yrs]['CMtnSNTL_Upcoming12hrSNOWFALL_gte3_in']>=0])\n",
    "    \n",
    "    total_poss = asos_snotel_UA_df[train_yrs]['CMtnSNTL_Upcoming12hrSNOWFALL_gte3_in'].count()   #counts only non missing values\n",
    "    total_avail =len(asos_snotel_UA_df[train_yrs][idx]) \n",
    "    \n",
    "    if total_avail/total_poss >= 0.67: \n",
    "        good_vars.append(var)\n",
    "    else:\n",
    "        bad_vars.append(var)\n",
    "        \n",
    "print('Variables with >= 67% data match to snowfall: ')\n",
    "print(good_vars)\n",
    "print('Variables with < 67% data match to snowfall: ')\n",
    "print(bad_vars)\n",
    "    \n",
    "\n",
    "\n"
   ]
  },
  {
   "cell_type": "code",
   "execution_count": 6,
   "metadata": {},
   "outputs": [
    {
     "name": "stdout",
     "output_type": "stream",
     "text": [
      "['CMtnSNTL_Temp_degC', 'CMtn_Temperature_degC', 'CMtn_Dewpoint_degC', 'CMtn_WindSpeed_mps', 'LXV_Temperature_degC', 'LXV_Dewpoint_degC', 'LXV_Pressure_hp', 'LXV_WindSpeed_mps', 'LXV_12hr_delta_Pressure_hp', 'KGJT_200mb_height_m', 'KGJT_200mb_tmpc', 'KGJT_200mb_dwpc', 'KGJT_200mb_speed_kts', 'KGJT_250mb_height_m', 'KGJT_250mb_tmpc', 'KGJT_250mb_dwpc', 'KGJT_250mb_speed_kts', 'KGJT_300mb_height_m', 'KGJT_300mb_tmpc', 'KGJT_300mb_dwpc', 'KGJT_300mb_speed_kts', 'KGJT_400mb_height_m', 'KGJT_400mb_tmpc', 'KGJT_400mb_dwpc', 'KGJT_400mb_speed_kts', 'KGJT_500mb_height_m', 'KGJT_500mb_tmpc', 'KGJT_500mb_dwpc', 'KGJT_500mb_speed_kts', 'KGJT_700mb_height_m', 'KGJT_700mb_tmpc', 'KGJT_700mb_dwpc', 'KGJT_700mb_speed_kts', 'KGJT_850mb_height_m', 'KGJT_d850_700_height_m', 'KGJT_d850_500_height_m', 'KGJT_d850_400_height_m', 'KGJT_d850_300_height_m', 'KGJT_d850_250_height_m', 'KGJT_d850_200_height_m', 'KGJT_d700_500_height_m', 'KGJT_d700_500_tmpc', 'KGJT_d700_500_dwpc', 'KGJT_d700_500_speed_kts', 'KGJT_d700_400_height_m', 'KGJT_d700_400_tmpc', 'KGJT_d700_400_dwpc', 'KGJT_d700_400_speed_kts', 'KGJT_d700_300_height_m', 'KGJT_d700_300_tmpc', 'KGJT_d700_300_dwpc', 'KGJT_d700_300_speed_kts', 'KGJT_d700_250_height_m', 'KGJT_d700_250_tmpc', 'KGJT_d700_250_dwpc', 'KGJT_d700_250_speed_kts', 'KGJT_d700_200_height_m', 'KGJT_d700_200_tmpc', 'KGJT_d700_200_dwpc', 'KGJT_d700_200_speed_kts', 'KGJT_d500_400_height_m', 'KGJT_d500_400_tmpc', 'KGJT_d500_400_dwpc', 'KGJT_d500_400_speed_kts', 'KGJT_d500_300_height_m', 'KGJT_d500_300_tmpc', 'KGJT_d500_300_dwpc', 'KGJT_d500_300_speed_kts', 'KGJT_d500_250_height_m', 'KGJT_d500_250_tmpc', 'KGJT_d500_250_dwpc', 'KGJT_d500_250_speed_kts', 'KGJT_d500_200_height_m', 'KGJT_d500_200_tmpc', 'KGJT_d500_200_dwpc', 'KGJT_d500_200_speed_kts', 'KGJT_d400_300_height_m', 'KGJT_d400_300_tmpc', 'KGJT_d400_300_dwpc', 'KGJT_d400_300_speed_kts', 'KGJT_d400_250_height_m', 'KGJT_d400_250_tmpc', 'KGJT_d400_250_dwpc', 'KGJT_d400_250_speed_kts', 'KGJT_d400_200_height_m', 'KGJT_d400_200_tmpc', 'KGJT_d400_200_dwpc', 'KGJT_d400_200_speed_kts', 'KGJT_d300_250_height_m', 'KGJT_d300_250_tmpc', 'KGJT_d300_250_dwpc', 'KGJT_d300_250_speed_kts', 'KGJT_d300_200_height_m', 'KGJT_d300_200_tmpc', 'KGJT_d300_200_dwpc', 'KGJT_d300_200_speed_kts', 'KGJT_d250_200_height_m', 'KGJT_d250_200_tmpc', 'KGJT_d250_200_dwpc', 'KGJT_d250_200_speed_kts', 'CMtnSNTL_Upcoming12hrSNOWFALL_gte3_in']\n",
      "count    37.000000\n",
      "mean      5.716216\n",
      "std       2.605604\n",
      "min       3.000000\n",
      "25%       4.000000\n",
      "50%       5.000000\n",
      "75%       6.000000\n",
      "max      14.000000\n",
      "Name: CMtnSNTL_Upcoming12hrSNOWFALL_gte3_in, dtype: float64\n"
     ]
    }
   ],
   "source": [
    "good_vars_snf =[]\n",
    "filtered_asos_snotel_UA_df = pd.DataFrame()\n",
    "\n",
    "\n",
    "good_vars_snf = good_vars + ['CMtnSNTL_Upcoming12hrSNOWFALL_gte3_in']\n",
    "print(good_vars_snf )\n",
    "filtered_asos_snotel_UA_df=  asos_snotel_UA_df[good_vars_snf].copy()\n",
    "test_train_df = asos_snotel_UA_df[good_vars_snf].dropna()\n",
    "#test_df = asos_snotel_UA_df[good_vars_snf][test_yrs].dropna()\n",
    "#train_df = asos_snotel_UA_df[good_vars_snf][train_yrs].dropna()\n",
    "\n",
    "#print(test_df.describe())\n",
    "#print(train_df.describe())\n",
    "#print(filtered_asos_snotel_UA_df[train_yrs].dropna().describe())\n",
    "print(asos_snotel_UA_df[good_vars_snf] ['CMtnSNTL_Upcoming12hrSNOWFALL_gte3_in']['2014'].describe())"
   ]
  },
  {
   "cell_type": "code",
   "execution_count": 7,
   "metadata": {},
   "outputs": [],
   "source": [
    "import statistics as sts\n",
    "all_yrs_tt = (test_train_df.index >= '01-01-2006') & (test_train_df.index < '01-01-2018')\n",
    "test_yrs_tt=  ((test_train_df.index >= '01-01-2006') & (test_train_df.index < '01-01-2007')) | ((test_train_df.index >= '01-01-2017') & (test_train_df.index< '01-01-2018'))\n",
    "train_yrs_tt = (test_train_df.index >= '01-01-2007') & (test_train_df.index < '01-01-2017')\n",
    "\n"
   ]
  },
  {
   "cell_type": "markdown",
   "metadata": {},
   "source": [
    "### Now run OLS model with the chosen variables ##"
   ]
  },
  {
   "cell_type": "code",
   "execution_count": null,
   "metadata": {},
   "outputs": [],
   "source": []
  },
  {
   "cell_type": "code",
   "execution_count": null,
   "metadata": {},
   "outputs": [
    {
     "name": "stdout",
     "output_type": "stream",
     "text": [
      "['CMtnSNTL_Temp_degC', 'CMtn_Temperature_degC', 'CMtn_Dewpoint_degC', 'CMtn_WindSpeed_mps', 'LXV_Temperature_degC', 'LXV_Dewpoint_degC', 'LXV_Pressure_hp', 'LXV_WindSpeed_mps', 'LXV_12hr_delta_Pressure_hp', 'KGJT_200mb_height_m', 'KGJT_200mb_tmpc', 'KGJT_200mb_dwpc', 'KGJT_200mb_speed_kts', 'KGJT_250mb_height_m', 'KGJT_250mb_tmpc', 'KGJT_250mb_dwpc', 'KGJT_250mb_speed_kts', 'KGJT_300mb_height_m', 'KGJT_300mb_tmpc', 'KGJT_300mb_dwpc', 'KGJT_300mb_speed_kts', 'KGJT_400mb_height_m', 'KGJT_400mb_tmpc', 'KGJT_400mb_dwpc', 'KGJT_400mb_speed_kts', 'KGJT_500mb_height_m', 'KGJT_500mb_tmpc', 'KGJT_500mb_dwpc', 'KGJT_500mb_speed_kts', 'KGJT_700mb_height_m', 'KGJT_700mb_tmpc', 'KGJT_700mb_dwpc', 'KGJT_700mb_speed_kts', 'KGJT_850mb_height_m', 'KGJT_d850_700_height_m', 'KGJT_d850_500_height_m', 'KGJT_d850_400_height_m', 'KGJT_d850_300_height_m', 'KGJT_d850_250_height_m', 'KGJT_d850_200_height_m', 'KGJT_d700_500_height_m', 'KGJT_d700_500_tmpc', 'KGJT_d700_500_dwpc', 'KGJT_d700_500_speed_kts', 'KGJT_d700_400_height_m', 'KGJT_d700_400_tmpc', 'KGJT_d700_400_dwpc', 'KGJT_d700_400_speed_kts', 'KGJT_d700_300_height_m', 'KGJT_d700_300_tmpc', 'KGJT_d700_300_dwpc', 'KGJT_d700_300_speed_kts', 'KGJT_d700_250_height_m', 'KGJT_d700_250_tmpc', 'KGJT_d700_250_dwpc', 'KGJT_d700_250_speed_kts', 'KGJT_d700_200_height_m', 'KGJT_d700_200_tmpc', 'KGJT_d700_200_dwpc', 'KGJT_d700_200_speed_kts', 'KGJT_d500_400_height_m', 'KGJT_d500_400_tmpc', 'KGJT_d500_400_dwpc', 'KGJT_d500_400_speed_kts', 'KGJT_d500_300_height_m', 'KGJT_d500_300_tmpc', 'KGJT_d500_300_dwpc', 'KGJT_d500_300_speed_kts', 'KGJT_d500_250_height_m', 'KGJT_d500_250_tmpc', 'KGJT_d500_250_dwpc', 'KGJT_d500_250_speed_kts', 'KGJT_d500_200_height_m', 'KGJT_d500_200_tmpc', 'KGJT_d500_200_dwpc', 'KGJT_d500_200_speed_kts', 'KGJT_d400_300_height_m', 'KGJT_d400_300_tmpc', 'KGJT_d400_300_dwpc', 'KGJT_d400_300_speed_kts', 'KGJT_d400_250_height_m', 'KGJT_d400_250_tmpc', 'KGJT_d400_250_dwpc', 'KGJT_d400_250_speed_kts', 'KGJT_d400_200_height_m', 'KGJT_d400_200_tmpc', 'KGJT_d400_200_dwpc', 'KGJT_d400_200_speed_kts', 'KGJT_d300_250_height_m', 'KGJT_d300_250_tmpc', 'KGJT_d300_250_dwpc', 'KGJT_d300_250_speed_kts', 'KGJT_d300_200_height_m', 'KGJT_d300_200_tmpc', 'KGJT_d300_200_dwpc', 'KGJT_d300_200_speed_kts', 'KGJT_d250_200_height_m', 'KGJT_d250_200_tmpc', 'KGJT_d250_200_dwpc', 'KGJT_d250_200_speed_kts']\n",
      "******\n",
      "KGJT_d500_400_height_m\n",
      "0.04577637218702468\n",
      "CMtn_WindSpeed_mps+ KGJT_d500_400_height_m\n",
      "0.06487739641306434\n",
      "KGJT_d400_200_tmpc+ CMtn_WindSpeed_mps+ KGJT_d500_400_height_m\n",
      "0.0892018982971794\n",
      "KGJT_d250_200_dwpc+ KGJT_d400_200_tmpc+ CMtn_WindSpeed_mps+ KGJT_d500_400_height_m\n",
      "0.09919631472682566\n",
      "KGJT_250mb_tmpc+ KGJT_d250_200_dwpc+ KGJT_d400_200_tmpc+ CMtn_WindSpeed_mps+ KGJT_d500_400_height_m\n",
      "0.1018145429696754\n",
      "CMtn_Dewpoint_degC+ KGJT_250mb_tmpc+ KGJT_d250_200_dwpc+ KGJT_d400_200_tmpc+ CMtn_WindSpeed_mps+ KGJT_d500_400_height_m\n",
      "0.10394284409549481\n",
      "KGJT_250mb_speed_kts+ CMtn_Dewpoint_degC+ KGJT_250mb_tmpc+ KGJT_d250_200_dwpc+ KGJT_d400_200_tmpc+ CMtn_WindSpeed_mps+ KGJT_d500_400_height_m\n",
      "0.10476952636880565\n",
      "KGJT_d400_300_speed_kts+ KGJT_250mb_speed_kts+ CMtn_Dewpoint_degC+ KGJT_250mb_tmpc+ KGJT_d250_200_dwpc+ KGJT_d400_200_tmpc+ CMtn_WindSpeed_mps+ KGJT_d500_400_height_m\n",
      "0.10338501760347019\n",
      "LXV_Dewpoint_degC+ KGJT_d400_300_speed_kts+ KGJT_250mb_speed_kts+ CMtn_Dewpoint_degC+ KGJT_250mb_tmpc+ KGJT_d250_200_dwpc+ KGJT_d400_200_tmpc+ CMtn_WindSpeed_mps+ KGJT_d500_400_height_m\n",
      "0.10087349736013351\n",
      "KGJT_d400_250_tmpc+ LXV_Dewpoint_degC+ KGJT_d400_300_speed_kts+ KGJT_250mb_speed_kts+ CMtn_Dewpoint_degC+ KGJT_250mb_tmpc+ KGJT_d250_200_dwpc+ KGJT_d400_200_tmpc+ CMtn_WindSpeed_mps+ KGJT_d500_400_height_m\n",
      "0.09822034962541948\n",
      "KGJT_d250_200_tmpc+ KGJT_d400_250_tmpc+ LXV_Dewpoint_degC+ KGJT_d400_300_speed_kts+ KGJT_250mb_speed_kts+ CMtn_Dewpoint_degC+ KGJT_250mb_tmpc+ KGJT_d250_200_dwpc+ KGJT_d400_200_tmpc+ CMtn_WindSpeed_mps+ KGJT_d500_400_height_m\n",
      "0.09822034962541903\n",
      "KGJT_400mb_tmpc+ KGJT_d250_200_tmpc+ KGJT_d400_250_tmpc+ LXV_Dewpoint_degC+ KGJT_d400_300_speed_kts+ KGJT_250mb_speed_kts+ CMtn_Dewpoint_degC+ KGJT_250mb_tmpc+ KGJT_d250_200_dwpc+ KGJT_d400_200_tmpc+ CMtn_WindSpeed_mps+ KGJT_d500_400_height_m\n",
      "0.09822034962541804\n",
      "KGJT_200mb_tmpc+ KGJT_400mb_tmpc+ KGJT_d250_200_tmpc+ KGJT_d400_250_tmpc+ LXV_Dewpoint_degC+ KGJT_d400_300_speed_kts+ KGJT_250mb_speed_kts+ CMtn_Dewpoint_degC+ KGJT_250mb_tmpc+ KGJT_d250_200_dwpc+ KGJT_d400_200_tmpc+ CMtn_WindSpeed_mps+ KGJT_d500_400_height_m\n",
      "0.09822034962541759\n",
      "KGJT_d700_400_dwpc+ KGJT_200mb_tmpc+ KGJT_400mb_tmpc+ KGJT_d250_200_tmpc+ KGJT_d400_250_tmpc+ LXV_Dewpoint_degC+ KGJT_d400_300_speed_kts+ KGJT_250mb_speed_kts+ CMtn_Dewpoint_degC+ KGJT_250mb_tmpc+ KGJT_d250_200_dwpc+ KGJT_d400_200_tmpc+ CMtn_WindSpeed_mps+ KGJT_d500_400_height_m\n",
      "0.09602421865967092\n",
      "CMtn_Temperature_degC+ KGJT_d700_400_dwpc+ KGJT_200mb_tmpc+ KGJT_400mb_tmpc+ KGJT_d250_200_tmpc+ KGJT_d400_250_tmpc+ LXV_Dewpoint_degC+ KGJT_d400_300_speed_kts+ KGJT_250mb_speed_kts+ CMtn_Dewpoint_degC+ KGJT_250mb_tmpc+ KGJT_d250_200_dwpc+ KGJT_d400_200_tmpc+ CMtn_WindSpeed_mps+ KGJT_d500_400_height_m\n",
      "0.09262773530139212\n",
      "KGJT_d700_400_height_m+ CMtn_Temperature_degC+ KGJT_d700_400_dwpc+ KGJT_200mb_tmpc+ KGJT_400mb_tmpc+ KGJT_d250_200_tmpc+ KGJT_d400_250_tmpc+ LXV_Dewpoint_degC+ KGJT_d400_300_speed_kts+ KGJT_250mb_speed_kts+ CMtn_Dewpoint_degC+ KGJT_250mb_tmpc+ KGJT_d250_200_dwpc+ KGJT_d400_200_tmpc+ CMtn_WindSpeed_mps+ KGJT_d500_400_height_m\n",
      "0.09089098573692733\n",
      "KGJT_500mb_tmpc+ KGJT_d700_400_height_m+ CMtn_Temperature_degC+ KGJT_d700_400_dwpc+ KGJT_200mb_tmpc+ KGJT_400mb_tmpc+ KGJT_d250_200_tmpc+ KGJT_d400_250_tmpc+ LXV_Dewpoint_degC+ KGJT_d400_300_speed_kts+ KGJT_250mb_speed_kts+ CMtn_Dewpoint_degC+ KGJT_250mb_tmpc+ KGJT_d250_200_dwpc+ KGJT_d400_200_tmpc+ CMtn_WindSpeed_mps+ KGJT_d500_400_height_m\n",
      "0.0911563231751269\n",
      "KGJT_d700_250_tmpc+ KGJT_500mb_tmpc+ KGJT_d700_400_height_m+ CMtn_Temperature_degC+ KGJT_d700_400_dwpc+ KGJT_200mb_tmpc+ KGJT_400mb_tmpc+ KGJT_d250_200_tmpc+ KGJT_d400_250_tmpc+ LXV_Dewpoint_degC+ KGJT_d400_300_speed_kts+ KGJT_250mb_speed_kts+ CMtn_Dewpoint_degC+ KGJT_250mb_tmpc+ KGJT_d250_200_dwpc+ KGJT_d400_200_tmpc+ CMtn_WindSpeed_mps+ KGJT_d500_400_height_m\n",
      "0.09556240760614254\n",
      "KGJT_d700_200_tmpc+ KGJT_d700_250_tmpc+ KGJT_500mb_tmpc+ KGJT_d700_400_height_m+ CMtn_Temperature_degC+ KGJT_d700_400_dwpc+ KGJT_200mb_tmpc+ KGJT_400mb_tmpc+ KGJT_d250_200_tmpc+ KGJT_d400_250_tmpc+ LXV_Dewpoint_degC+ KGJT_d400_300_speed_kts+ KGJT_250mb_speed_kts+ CMtn_Dewpoint_degC+ KGJT_250mb_tmpc+ KGJT_d250_200_dwpc+ KGJT_d400_200_tmpc+ CMtn_WindSpeed_mps+ KGJT_d500_400_height_m\n",
      "0.0955624076061461\n",
      "KGJT_d500_250_tmpc+ KGJT_d700_200_tmpc+ KGJT_d700_250_tmpc+ KGJT_500mb_tmpc+ KGJT_d700_400_height_m+ CMtn_Temperature_degC+ KGJT_d700_400_dwpc+ KGJT_200mb_tmpc+ KGJT_400mb_tmpc+ KGJT_d250_200_tmpc+ KGJT_d400_250_tmpc+ LXV_Dewpoint_degC+ KGJT_d400_300_speed_kts+ KGJT_250mb_speed_kts+ CMtn_Dewpoint_degC+ KGJT_250mb_tmpc+ KGJT_d250_200_dwpc+ KGJT_d400_200_tmpc+ CMtn_WindSpeed_mps+ KGJT_d500_400_height_m\n",
      "0.09556240760614398\n",
      "KGJT_d500_400_tmpc+ KGJT_d500_250_tmpc+ KGJT_d700_200_tmpc+ KGJT_d700_250_tmpc+ KGJT_500mb_tmpc+ KGJT_d700_400_height_m+ CMtn_Temperature_degC+ KGJT_d700_400_dwpc+ KGJT_200mb_tmpc+ KGJT_400mb_tmpc+ KGJT_d250_200_tmpc+ KGJT_d400_250_tmpc+ LXV_Dewpoint_degC+ KGJT_d400_300_speed_kts+ KGJT_250mb_speed_kts+ CMtn_Dewpoint_degC+ KGJT_250mb_tmpc+ KGJT_d250_200_dwpc+ KGJT_d400_200_tmpc+ CMtn_WindSpeed_mps+ KGJT_d500_400_height_m\n",
      "0.09556240760614831\n",
      "KGJT_d700_500_tmpc+ KGJT_d500_400_tmpc+ KGJT_d500_250_tmpc+ KGJT_d700_200_tmpc+ KGJT_d700_250_tmpc+ KGJT_500mb_tmpc+ KGJT_d700_400_height_m+ CMtn_Temperature_degC+ KGJT_d700_400_dwpc+ KGJT_200mb_tmpc+ KGJT_400mb_tmpc+ KGJT_d250_200_tmpc+ KGJT_d400_250_tmpc+ LXV_Dewpoint_degC+ KGJT_d400_300_speed_kts+ KGJT_250mb_speed_kts+ CMtn_Dewpoint_degC+ KGJT_250mb_tmpc+ KGJT_d250_200_dwpc+ KGJT_d400_200_tmpc+ CMtn_WindSpeed_mps+ KGJT_d500_400_height_m\n",
      "0.09556240760614276\n",
      "KGJT_700mb_tmpc+ KGJT_d700_500_tmpc+ KGJT_d500_400_tmpc+ KGJT_d500_250_tmpc+ KGJT_d700_200_tmpc+ KGJT_d700_250_tmpc+ KGJT_500mb_tmpc+ KGJT_d700_400_height_m+ CMtn_Temperature_degC+ KGJT_d700_400_dwpc+ KGJT_200mb_tmpc+ KGJT_400mb_tmpc+ KGJT_d250_200_tmpc+ KGJT_d400_250_tmpc+ LXV_Dewpoint_degC+ KGJT_d400_300_speed_kts+ KGJT_250mb_speed_kts+ CMtn_Dewpoint_degC+ KGJT_250mb_tmpc+ KGJT_d250_200_dwpc+ KGJT_d400_200_tmpc+ CMtn_WindSpeed_mps+ KGJT_d500_400_height_m\n",
      "0.0955624076061451\n"
     ]
    },
    {
     "name": "stdout",
     "output_type": "stream",
     "text": [
      "KGJT_d700_500_height_m+ KGJT_700mb_tmpc+ KGJT_d700_500_tmpc+ KGJT_d500_400_tmpc+ KGJT_d500_250_tmpc+ KGJT_d700_200_tmpc+ KGJT_d700_250_tmpc+ KGJT_500mb_tmpc+ KGJT_d700_400_height_m+ CMtn_Temperature_degC+ KGJT_d700_400_dwpc+ KGJT_200mb_tmpc+ KGJT_400mb_tmpc+ KGJT_d250_200_tmpc+ KGJT_d400_250_tmpc+ LXV_Dewpoint_degC+ KGJT_d400_300_speed_kts+ KGJT_250mb_speed_kts+ CMtn_Dewpoint_degC+ KGJT_250mb_tmpc+ KGJT_d250_200_dwpc+ KGJT_d400_200_tmpc+ CMtn_WindSpeed_mps+ KGJT_d500_400_height_m\n",
      "0.09556240760614543\n",
      "KGJT_d500_200_tmpc+ KGJT_d700_500_height_m+ KGJT_700mb_tmpc+ KGJT_d700_500_tmpc+ KGJT_d500_400_tmpc+ KGJT_d500_250_tmpc+ KGJT_d700_200_tmpc+ KGJT_d700_250_tmpc+ KGJT_500mb_tmpc+ KGJT_d700_400_height_m+ CMtn_Temperature_degC+ KGJT_d700_400_dwpc+ KGJT_200mb_tmpc+ KGJT_400mb_tmpc+ KGJT_d250_200_tmpc+ KGJT_d400_250_tmpc+ LXV_Dewpoint_degC+ KGJT_d400_300_speed_kts+ KGJT_250mb_speed_kts+ CMtn_Dewpoint_degC+ KGJT_250mb_tmpc+ KGJT_d250_200_dwpc+ KGJT_d400_200_tmpc+ CMtn_WindSpeed_mps+ KGJT_d500_400_height_m\n",
      "0.09556240760614476\n",
      "KGJT_d700_400_tmpc+ KGJT_d500_200_tmpc+ KGJT_d700_500_height_m+ KGJT_700mb_tmpc+ KGJT_d700_500_tmpc+ KGJT_d500_400_tmpc+ KGJT_d500_250_tmpc+ KGJT_d700_200_tmpc+ KGJT_d700_250_tmpc+ KGJT_500mb_tmpc+ KGJT_d700_400_height_m+ CMtn_Temperature_degC+ KGJT_d700_400_dwpc+ KGJT_200mb_tmpc+ KGJT_400mb_tmpc+ KGJT_d250_200_tmpc+ KGJT_d400_250_tmpc+ LXV_Dewpoint_degC+ KGJT_d400_300_speed_kts+ KGJT_250mb_speed_kts+ CMtn_Dewpoint_degC+ KGJT_250mb_tmpc+ KGJT_d250_200_dwpc+ KGJT_d400_200_tmpc+ CMtn_WindSpeed_mps+ KGJT_d500_400_height_m\n",
      "0.09556240760614032\n",
      "KGJT_500mb_dwpc+ KGJT_d700_400_tmpc+ KGJT_d500_200_tmpc+ KGJT_d700_500_height_m+ KGJT_700mb_tmpc+ KGJT_d700_500_tmpc+ KGJT_d500_400_tmpc+ KGJT_d500_250_tmpc+ KGJT_d700_200_tmpc+ KGJT_d700_250_tmpc+ KGJT_500mb_tmpc+ KGJT_d700_400_height_m+ CMtn_Temperature_degC+ KGJT_d700_400_dwpc+ KGJT_200mb_tmpc+ KGJT_400mb_tmpc+ KGJT_d250_200_tmpc+ KGJT_d400_250_tmpc+ LXV_Dewpoint_degC+ KGJT_d400_300_speed_kts+ KGJT_250mb_speed_kts+ CMtn_Dewpoint_degC+ KGJT_250mb_tmpc+ KGJT_d250_200_dwpc+ KGJT_d400_200_tmpc+ CMtn_WindSpeed_mps+ KGJT_d500_400_height_m\n",
      "0.0924103219658653\n",
      "LXV_Pressure_hp+ KGJT_500mb_dwpc+ KGJT_d700_400_tmpc+ KGJT_d500_200_tmpc+ KGJT_d700_500_height_m+ KGJT_700mb_tmpc+ KGJT_d700_500_tmpc+ KGJT_d500_400_tmpc+ KGJT_d500_250_tmpc+ KGJT_d700_200_tmpc+ KGJT_d700_250_tmpc+ KGJT_500mb_tmpc+ KGJT_d700_400_height_m+ CMtn_Temperature_degC+ KGJT_d700_400_dwpc+ KGJT_200mb_tmpc+ KGJT_400mb_tmpc+ KGJT_d250_200_tmpc+ KGJT_d400_250_tmpc+ LXV_Dewpoint_degC+ KGJT_d400_300_speed_kts+ KGJT_250mb_speed_kts+ CMtn_Dewpoint_degC+ KGJT_250mb_tmpc+ KGJT_d250_200_dwpc+ KGJT_d400_200_tmpc+ CMtn_WindSpeed_mps+ KGJT_d500_400_height_m\n",
      "0.08997652910015819\n",
      "KGJT_700mb_height_m+ LXV_Pressure_hp+ KGJT_500mb_dwpc+ KGJT_d700_400_tmpc+ KGJT_d500_200_tmpc+ KGJT_d700_500_height_m+ KGJT_700mb_tmpc+ KGJT_d700_500_tmpc+ KGJT_d500_400_tmpc+ KGJT_d500_250_tmpc+ KGJT_d700_200_tmpc+ KGJT_d700_250_tmpc+ KGJT_500mb_tmpc+ KGJT_d700_400_height_m+ CMtn_Temperature_degC+ KGJT_d700_400_dwpc+ KGJT_200mb_tmpc+ KGJT_400mb_tmpc+ KGJT_d250_200_tmpc+ KGJT_d400_250_tmpc+ LXV_Dewpoint_degC+ KGJT_d400_300_speed_kts+ KGJT_250mb_speed_kts+ CMtn_Dewpoint_degC+ KGJT_250mb_tmpc+ KGJT_d250_200_dwpc+ KGJT_d400_200_tmpc+ CMtn_WindSpeed_mps+ KGJT_d500_400_height_m\n",
      "0.08716995005176786\n",
      "KGJT_500mb_height_m+ KGJT_700mb_height_m+ LXV_Pressure_hp+ KGJT_500mb_dwpc+ KGJT_d700_400_tmpc+ KGJT_d500_200_tmpc+ KGJT_d700_500_height_m+ KGJT_700mb_tmpc+ KGJT_d700_500_tmpc+ KGJT_d500_400_tmpc+ KGJT_d500_250_tmpc+ KGJT_d700_200_tmpc+ KGJT_d700_250_tmpc+ KGJT_500mb_tmpc+ KGJT_d700_400_height_m+ CMtn_Temperature_degC+ KGJT_d700_400_dwpc+ KGJT_200mb_tmpc+ KGJT_400mb_tmpc+ KGJT_d250_200_tmpc+ KGJT_d400_250_tmpc+ LXV_Dewpoint_degC+ KGJT_d400_300_speed_kts+ KGJT_250mb_speed_kts+ CMtn_Dewpoint_degC+ KGJT_250mb_tmpc+ KGJT_d250_200_dwpc+ KGJT_d400_200_tmpc+ CMtn_WindSpeed_mps+ KGJT_d500_400_height_m\n",
      "0.0871699500517652\n",
      "KGJT_400mb_height_m+ KGJT_500mb_height_m+ KGJT_700mb_height_m+ LXV_Pressure_hp+ KGJT_500mb_dwpc+ KGJT_d700_400_tmpc+ KGJT_d500_200_tmpc+ KGJT_d700_500_height_m+ KGJT_700mb_tmpc+ KGJT_d700_500_tmpc+ KGJT_d500_400_tmpc+ KGJT_d500_250_tmpc+ KGJT_d700_200_tmpc+ KGJT_d700_250_tmpc+ KGJT_500mb_tmpc+ KGJT_d700_400_height_m+ CMtn_Temperature_degC+ KGJT_d700_400_dwpc+ KGJT_200mb_tmpc+ KGJT_400mb_tmpc+ KGJT_d250_200_tmpc+ KGJT_d400_250_tmpc+ LXV_Dewpoint_degC+ KGJT_d400_300_speed_kts+ KGJT_250mb_speed_kts+ CMtn_Dewpoint_degC+ KGJT_250mb_tmpc+ KGJT_d250_200_dwpc+ KGJT_d400_200_tmpc+ CMtn_WindSpeed_mps+ KGJT_d500_400_height_m\n",
      "0.08716995005176187\n",
      "LXV_12hr_delta_Pressure_hp+ KGJT_400mb_height_m+ KGJT_500mb_height_m+ KGJT_700mb_height_m+ LXV_Pressure_hp+ KGJT_500mb_dwpc+ KGJT_d700_400_tmpc+ KGJT_d500_200_tmpc+ KGJT_d700_500_height_m+ KGJT_700mb_tmpc+ KGJT_d700_500_tmpc+ KGJT_d500_400_tmpc+ KGJT_d500_250_tmpc+ KGJT_d700_200_tmpc+ KGJT_d700_250_tmpc+ KGJT_500mb_tmpc+ KGJT_d700_400_height_m+ CMtn_Temperature_degC+ KGJT_d700_400_dwpc+ KGJT_200mb_tmpc+ KGJT_400mb_tmpc+ KGJT_d250_200_tmpc+ KGJT_d400_250_tmpc+ LXV_Dewpoint_degC+ KGJT_d400_300_speed_kts+ KGJT_250mb_speed_kts+ CMtn_Dewpoint_degC+ KGJT_250mb_tmpc+ KGJT_d250_200_dwpc+ KGJT_d400_200_tmpc+ CMtn_WindSpeed_mps+ KGJT_d500_400_height_m\n",
      "0.08204073006532986\n",
      "KGJT_d300_250_height_m+ LXV_12hr_delta_Pressure_hp+ KGJT_400mb_height_m+ KGJT_500mb_height_m+ KGJT_700mb_height_m+ LXV_Pressure_hp+ KGJT_500mb_dwpc+ KGJT_d700_400_tmpc+ KGJT_d500_200_tmpc+ KGJT_d700_500_height_m+ KGJT_700mb_tmpc+ KGJT_d700_500_tmpc+ KGJT_d500_400_tmpc+ KGJT_d500_250_tmpc+ KGJT_d700_200_tmpc+ KGJT_d700_250_tmpc+ KGJT_500mb_tmpc+ KGJT_d700_400_height_m+ CMtn_Temperature_degC+ KGJT_d700_400_dwpc+ KGJT_200mb_tmpc+ KGJT_400mb_tmpc+ KGJT_d250_200_tmpc+ KGJT_d400_250_tmpc+ LXV_Dewpoint_degC+ KGJT_d400_300_speed_kts+ KGJT_250mb_speed_kts+ CMtn_Dewpoint_degC+ KGJT_250mb_tmpc+ KGJT_d250_200_dwpc+ KGJT_d400_200_tmpc+ CMtn_WindSpeed_mps+ KGJT_d500_400_height_m\n",
      "0.07711369948116842\n",
      "KGJT_d700_300_tmpc+ KGJT_d300_250_height_m+ LXV_12hr_delta_Pressure_hp+ KGJT_400mb_height_m+ KGJT_500mb_height_m+ KGJT_700mb_height_m+ LXV_Pressure_hp+ KGJT_500mb_dwpc+ KGJT_d700_400_tmpc+ KGJT_d500_200_tmpc+ KGJT_d700_500_height_m+ KGJT_700mb_tmpc+ KGJT_d700_500_tmpc+ KGJT_d500_400_tmpc+ KGJT_d500_250_tmpc+ KGJT_d700_200_tmpc+ KGJT_d700_250_tmpc+ KGJT_500mb_tmpc+ KGJT_d700_400_height_m+ CMtn_Temperature_degC+ KGJT_d700_400_dwpc+ KGJT_200mb_tmpc+ KGJT_400mb_tmpc+ KGJT_d250_200_tmpc+ KGJT_d400_250_tmpc+ LXV_Dewpoint_degC+ KGJT_d400_300_speed_kts+ KGJT_250mb_speed_kts+ CMtn_Dewpoint_degC+ KGJT_250mb_tmpc+ KGJT_d250_200_dwpc+ KGJT_d400_200_tmpc+ CMtn_WindSpeed_mps+ KGJT_d500_400_height_m\n",
      "0.07220809133423245\n",
      "KGJT_d300_250_tmpc+ KGJT_d700_300_tmpc+ KGJT_d300_250_height_m+ LXV_12hr_delta_Pressure_hp+ KGJT_400mb_height_m+ KGJT_500mb_height_m+ KGJT_700mb_height_m+ LXV_Pressure_hp+ KGJT_500mb_dwpc+ KGJT_d700_400_tmpc+ KGJT_d500_200_tmpc+ KGJT_d700_500_height_m+ KGJT_700mb_tmpc+ KGJT_d700_500_tmpc+ KGJT_d500_400_tmpc+ KGJT_d500_250_tmpc+ KGJT_d700_200_tmpc+ KGJT_d700_250_tmpc+ KGJT_500mb_tmpc+ KGJT_d700_400_height_m+ CMtn_Temperature_degC+ KGJT_d700_400_dwpc+ KGJT_200mb_tmpc+ KGJT_400mb_tmpc+ KGJT_d250_200_tmpc+ KGJT_d400_250_tmpc+ LXV_Dewpoint_degC+ KGJT_d400_300_speed_kts+ KGJT_250mb_speed_kts+ CMtn_Dewpoint_degC+ KGJT_250mb_tmpc+ KGJT_d250_200_dwpc+ KGJT_d400_200_tmpc+ CMtn_WindSpeed_mps+ KGJT_d500_400_height_m\n",
      "0.07220809133423112\n",
      "KGJT_d400_300_tmpc+ KGJT_d300_250_tmpc+ KGJT_d700_300_tmpc+ KGJT_d300_250_height_m+ LXV_12hr_delta_Pressure_hp+ KGJT_400mb_height_m+ KGJT_500mb_height_m+ KGJT_700mb_height_m+ LXV_Pressure_hp+ KGJT_500mb_dwpc+ KGJT_d700_400_tmpc+ KGJT_d500_200_tmpc+ KGJT_d700_500_height_m+ KGJT_700mb_tmpc+ KGJT_d700_500_tmpc+ KGJT_d500_400_tmpc+ KGJT_d500_250_tmpc+ KGJT_d700_200_tmpc+ KGJT_d700_250_tmpc+ KGJT_500mb_tmpc+ KGJT_d700_400_height_m+ CMtn_Temperature_degC+ KGJT_d700_400_dwpc+ KGJT_200mb_tmpc+ KGJT_400mb_tmpc+ KGJT_d250_200_tmpc+ KGJT_d400_250_tmpc+ LXV_Dewpoint_degC+ KGJT_d400_300_speed_kts+ KGJT_250mb_speed_kts+ CMtn_Dewpoint_degC+ KGJT_250mb_tmpc+ KGJT_d250_200_dwpc+ KGJT_d400_200_tmpc+ CMtn_WindSpeed_mps+ KGJT_d500_400_height_m\n",
      "0.072208091334236\n",
      "KGJT_d300_200_tmpc+ KGJT_d400_300_tmpc+ KGJT_d300_250_tmpc+ KGJT_d700_300_tmpc+ KGJT_d300_250_height_m+ LXV_12hr_delta_Pressure_hp+ KGJT_400mb_height_m+ KGJT_500mb_height_m+ KGJT_700mb_height_m+ LXV_Pressure_hp+ KGJT_500mb_dwpc+ KGJT_d700_400_tmpc+ KGJT_d500_200_tmpc+ KGJT_d700_500_height_m+ KGJT_700mb_tmpc+ KGJT_d700_500_tmpc+ KGJT_d500_400_tmpc+ KGJT_d500_250_tmpc+ KGJT_d700_200_tmpc+ KGJT_d700_250_tmpc+ KGJT_500mb_tmpc+ KGJT_d700_400_height_m+ CMtn_Temperature_degC+ KGJT_d700_400_dwpc+ KGJT_200mb_tmpc+ KGJT_400mb_tmpc+ KGJT_d250_200_tmpc+ KGJT_d400_250_tmpc+ LXV_Dewpoint_degC+ KGJT_d400_300_speed_kts+ KGJT_250mb_speed_kts+ CMtn_Dewpoint_degC+ KGJT_250mb_tmpc+ KGJT_d250_200_dwpc+ KGJT_d400_200_tmpc+ CMtn_WindSpeed_mps+ KGJT_d500_400_height_m\n",
      "0.07220809133422779\n"
     ]
    },
    {
     "name": "stdout",
     "output_type": "stream",
     "text": [
      "KGJT_d500_300_tmpc+ KGJT_d300_200_tmpc+ KGJT_d400_300_tmpc+ KGJT_d300_250_tmpc+ KGJT_d700_300_tmpc+ KGJT_d300_250_height_m+ LXV_12hr_delta_Pressure_hp+ KGJT_400mb_height_m+ KGJT_500mb_height_m+ KGJT_700mb_height_m+ LXV_Pressure_hp+ KGJT_500mb_dwpc+ KGJT_d700_400_tmpc+ KGJT_d500_200_tmpc+ KGJT_d700_500_height_m+ KGJT_700mb_tmpc+ KGJT_d700_500_tmpc+ KGJT_d500_400_tmpc+ KGJT_d500_250_tmpc+ KGJT_d700_200_tmpc+ KGJT_d700_250_tmpc+ KGJT_500mb_tmpc+ KGJT_d700_400_height_m+ CMtn_Temperature_degC+ KGJT_d700_400_dwpc+ KGJT_200mb_tmpc+ KGJT_400mb_tmpc+ KGJT_d250_200_tmpc+ KGJT_d400_250_tmpc+ LXV_Dewpoint_degC+ KGJT_d400_300_speed_kts+ KGJT_250mb_speed_kts+ CMtn_Dewpoint_degC+ KGJT_250mb_tmpc+ KGJT_d250_200_dwpc+ KGJT_d400_200_tmpc+ CMtn_WindSpeed_mps+ KGJT_d500_400_height_m\n",
      "0.0722080913342319\n",
      "KGJT_300mb_tmpc+ KGJT_d500_300_tmpc+ KGJT_d300_200_tmpc+ KGJT_d400_300_tmpc+ KGJT_d300_250_tmpc+ KGJT_d700_300_tmpc+ KGJT_d300_250_height_m+ LXV_12hr_delta_Pressure_hp+ KGJT_400mb_height_m+ KGJT_500mb_height_m+ KGJT_700mb_height_m+ LXV_Pressure_hp+ KGJT_500mb_dwpc+ KGJT_d700_400_tmpc+ KGJT_d500_200_tmpc+ KGJT_d700_500_height_m+ KGJT_700mb_tmpc+ KGJT_d700_500_tmpc+ KGJT_d500_400_tmpc+ KGJT_d500_250_tmpc+ KGJT_d700_200_tmpc+ KGJT_d700_250_tmpc+ KGJT_500mb_tmpc+ KGJT_d700_400_height_m+ CMtn_Temperature_degC+ KGJT_d700_400_dwpc+ KGJT_200mb_tmpc+ KGJT_400mb_tmpc+ KGJT_d250_200_tmpc+ KGJT_d400_250_tmpc+ LXV_Dewpoint_degC+ KGJT_d400_300_speed_kts+ KGJT_250mb_speed_kts+ CMtn_Dewpoint_degC+ KGJT_250mb_tmpc+ KGJT_d250_200_dwpc+ KGJT_d400_200_tmpc+ CMtn_WindSpeed_mps+ KGJT_d500_400_height_m\n",
      "0.072208091334233\n",
      "KGJT_d300_250_speed_kts+ KGJT_300mb_tmpc+ KGJT_d500_300_tmpc+ KGJT_d300_200_tmpc+ KGJT_d400_300_tmpc+ KGJT_d300_250_tmpc+ KGJT_d700_300_tmpc+ KGJT_d300_250_height_m+ LXV_12hr_delta_Pressure_hp+ KGJT_400mb_height_m+ KGJT_500mb_height_m+ KGJT_700mb_height_m+ LXV_Pressure_hp+ KGJT_500mb_dwpc+ KGJT_d700_400_tmpc+ KGJT_d500_200_tmpc+ KGJT_d700_500_height_m+ KGJT_700mb_tmpc+ KGJT_d700_500_tmpc+ KGJT_d500_400_tmpc+ KGJT_d500_250_tmpc+ KGJT_d700_200_tmpc+ KGJT_d700_250_tmpc+ KGJT_500mb_tmpc+ KGJT_d700_400_height_m+ CMtn_Temperature_degC+ KGJT_d700_400_dwpc+ KGJT_200mb_tmpc+ KGJT_400mb_tmpc+ KGJT_d250_200_tmpc+ KGJT_d400_250_tmpc+ LXV_Dewpoint_degC+ KGJT_d400_300_speed_kts+ KGJT_250mb_speed_kts+ CMtn_Dewpoint_degC+ KGJT_250mb_tmpc+ KGJT_d250_200_dwpc+ KGJT_d400_200_tmpc+ CMtn_WindSpeed_mps+ KGJT_d500_400_height_m\n",
      "0.06749149078719452\n",
      "KGJT_400mb_speed_kts+ KGJT_d300_250_speed_kts+ KGJT_300mb_tmpc+ KGJT_d500_300_tmpc+ KGJT_d300_200_tmpc+ KGJT_d400_300_tmpc+ KGJT_d300_250_tmpc+ KGJT_d700_300_tmpc+ KGJT_d300_250_height_m+ LXV_12hr_delta_Pressure_hp+ KGJT_400mb_height_m+ KGJT_500mb_height_m+ KGJT_700mb_height_m+ LXV_Pressure_hp+ KGJT_500mb_dwpc+ KGJT_d700_400_tmpc+ KGJT_d500_200_tmpc+ KGJT_d700_500_height_m+ KGJT_700mb_tmpc+ KGJT_d700_500_tmpc+ KGJT_d500_400_tmpc+ KGJT_d500_250_tmpc+ KGJT_d700_200_tmpc+ KGJT_d700_250_tmpc+ KGJT_500mb_tmpc+ KGJT_d700_400_height_m+ CMtn_Temperature_degC+ KGJT_d700_400_dwpc+ KGJT_200mb_tmpc+ KGJT_400mb_tmpc+ KGJT_d250_200_tmpc+ KGJT_d400_250_tmpc+ LXV_Dewpoint_degC+ KGJT_d400_300_speed_kts+ KGJT_250mb_speed_kts+ CMtn_Dewpoint_degC+ KGJT_250mb_tmpc+ KGJT_d250_200_dwpc+ KGJT_d400_200_tmpc+ CMtn_WindSpeed_mps+ KGJT_d500_400_height_m\n",
      "0.06749149078719396\n",
      "KGJT_d400_250_speed_kts+ KGJT_400mb_speed_kts+ KGJT_d300_250_speed_kts+ KGJT_300mb_tmpc+ KGJT_d500_300_tmpc+ KGJT_d300_200_tmpc+ KGJT_d400_300_tmpc+ KGJT_d300_250_tmpc+ KGJT_d700_300_tmpc+ KGJT_d300_250_height_m+ LXV_12hr_delta_Pressure_hp+ KGJT_400mb_height_m+ KGJT_500mb_height_m+ KGJT_700mb_height_m+ LXV_Pressure_hp+ KGJT_500mb_dwpc+ KGJT_d700_400_tmpc+ KGJT_d500_200_tmpc+ KGJT_d700_500_height_m+ KGJT_700mb_tmpc+ KGJT_d700_500_tmpc+ KGJT_d500_400_tmpc+ KGJT_d500_250_tmpc+ KGJT_d700_200_tmpc+ KGJT_d700_250_tmpc+ KGJT_500mb_tmpc+ KGJT_d700_400_height_m+ CMtn_Temperature_degC+ KGJT_d700_400_dwpc+ KGJT_200mb_tmpc+ KGJT_400mb_tmpc+ KGJT_d250_200_tmpc+ KGJT_d400_250_tmpc+ LXV_Dewpoint_degC+ KGJT_d400_300_speed_kts+ KGJT_250mb_speed_kts+ CMtn_Dewpoint_degC+ KGJT_250mb_tmpc+ KGJT_d250_200_dwpc+ KGJT_d400_200_tmpc+ CMtn_WindSpeed_mps+ KGJT_d500_400_height_m\n",
      "0.06749149078719197\n",
      "KGJT_300mb_speed_kts+ KGJT_d400_250_speed_kts+ KGJT_400mb_speed_kts+ KGJT_d300_250_speed_kts+ KGJT_300mb_tmpc+ KGJT_d500_300_tmpc+ KGJT_d300_200_tmpc+ KGJT_d400_300_tmpc+ KGJT_d300_250_tmpc+ KGJT_d700_300_tmpc+ KGJT_d300_250_height_m+ LXV_12hr_delta_Pressure_hp+ KGJT_400mb_height_m+ KGJT_500mb_height_m+ KGJT_700mb_height_m+ LXV_Pressure_hp+ KGJT_500mb_dwpc+ KGJT_d700_400_tmpc+ KGJT_d500_200_tmpc+ KGJT_d700_500_height_m+ KGJT_700mb_tmpc+ KGJT_d700_500_tmpc+ KGJT_d500_400_tmpc+ KGJT_d500_250_tmpc+ KGJT_d700_200_tmpc+ KGJT_d700_250_tmpc+ KGJT_500mb_tmpc+ KGJT_d700_400_height_m+ CMtn_Temperature_degC+ KGJT_d700_400_dwpc+ KGJT_200mb_tmpc+ KGJT_400mb_tmpc+ KGJT_d250_200_tmpc+ KGJT_d400_250_tmpc+ LXV_Dewpoint_degC+ KGJT_d400_300_speed_kts+ KGJT_250mb_speed_kts+ CMtn_Dewpoint_degC+ KGJT_250mb_tmpc+ KGJT_d250_200_dwpc+ KGJT_d400_200_tmpc+ CMtn_WindSpeed_mps+ KGJT_d500_400_height_m\n",
      "0.06749149078717698\n",
      "KGJT_d700_300_speed_kts+ KGJT_300mb_speed_kts+ KGJT_d400_250_speed_kts+ KGJT_400mb_speed_kts+ KGJT_d300_250_speed_kts+ KGJT_300mb_tmpc+ KGJT_d500_300_tmpc+ KGJT_d300_200_tmpc+ KGJT_d400_300_tmpc+ KGJT_d300_250_tmpc+ KGJT_d700_300_tmpc+ KGJT_d300_250_height_m+ LXV_12hr_delta_Pressure_hp+ KGJT_400mb_height_m+ KGJT_500mb_height_m+ KGJT_700mb_height_m+ LXV_Pressure_hp+ KGJT_500mb_dwpc+ KGJT_d700_400_tmpc+ KGJT_d500_200_tmpc+ KGJT_d700_500_height_m+ KGJT_700mb_tmpc+ KGJT_d700_500_tmpc+ KGJT_d500_400_tmpc+ KGJT_d500_250_tmpc+ KGJT_d700_200_tmpc+ KGJT_d700_250_tmpc+ KGJT_500mb_tmpc+ KGJT_d700_400_height_m+ CMtn_Temperature_degC+ KGJT_d700_400_dwpc+ KGJT_200mb_tmpc+ KGJT_400mb_tmpc+ KGJT_d250_200_tmpc+ KGJT_d400_250_tmpc+ LXV_Dewpoint_degC+ KGJT_d400_300_speed_kts+ KGJT_250mb_speed_kts+ CMtn_Dewpoint_degC+ KGJT_250mb_tmpc+ KGJT_d250_200_dwpc+ KGJT_d400_200_tmpc+ CMtn_WindSpeed_mps+ KGJT_d500_400_height_m\n",
      "0.06246160384055088\n",
      "KGJT_d700_250_speed_kts+ KGJT_d700_300_speed_kts+ KGJT_300mb_speed_kts+ KGJT_d400_250_speed_kts+ KGJT_400mb_speed_kts+ KGJT_d300_250_speed_kts+ KGJT_300mb_tmpc+ KGJT_d500_300_tmpc+ KGJT_d300_200_tmpc+ KGJT_d400_300_tmpc+ KGJT_d300_250_tmpc+ KGJT_d700_300_tmpc+ KGJT_d300_250_height_m+ LXV_12hr_delta_Pressure_hp+ KGJT_400mb_height_m+ KGJT_500mb_height_m+ KGJT_700mb_height_m+ LXV_Pressure_hp+ KGJT_500mb_dwpc+ KGJT_d700_400_tmpc+ KGJT_d500_200_tmpc+ KGJT_d700_500_height_m+ KGJT_700mb_tmpc+ KGJT_d700_500_tmpc+ KGJT_d500_400_tmpc+ KGJT_d500_250_tmpc+ KGJT_d700_200_tmpc+ KGJT_d700_250_tmpc+ KGJT_500mb_tmpc+ KGJT_d700_400_height_m+ CMtn_Temperature_degC+ KGJT_d700_400_dwpc+ KGJT_200mb_tmpc+ KGJT_400mb_tmpc+ KGJT_d250_200_tmpc+ KGJT_d400_250_tmpc+ LXV_Dewpoint_degC+ KGJT_d400_300_speed_kts+ KGJT_250mb_speed_kts+ CMtn_Dewpoint_degC+ KGJT_250mb_tmpc+ KGJT_d250_200_dwpc+ KGJT_d400_200_tmpc+ CMtn_WindSpeed_mps+ KGJT_d500_400_height_m\n",
      "0.062461603840548996\n",
      "KGJT_d700_400_speed_kts+ KGJT_d700_250_speed_kts+ KGJT_d700_300_speed_kts+ KGJT_300mb_speed_kts+ KGJT_d400_250_speed_kts+ KGJT_400mb_speed_kts+ KGJT_d300_250_speed_kts+ KGJT_300mb_tmpc+ KGJT_d500_300_tmpc+ KGJT_d300_200_tmpc+ KGJT_d400_300_tmpc+ KGJT_d300_250_tmpc+ KGJT_d700_300_tmpc+ KGJT_d300_250_height_m+ LXV_12hr_delta_Pressure_hp+ KGJT_400mb_height_m+ KGJT_500mb_height_m+ KGJT_700mb_height_m+ LXV_Pressure_hp+ KGJT_500mb_dwpc+ KGJT_d700_400_tmpc+ KGJT_d500_200_tmpc+ KGJT_d700_500_height_m+ KGJT_700mb_tmpc+ KGJT_d700_500_tmpc+ KGJT_d500_400_tmpc+ KGJT_d500_250_tmpc+ KGJT_d700_200_tmpc+ KGJT_d700_250_tmpc+ KGJT_500mb_tmpc+ KGJT_d700_400_height_m+ CMtn_Temperature_degC+ KGJT_d700_400_dwpc+ KGJT_200mb_tmpc+ KGJT_400mb_tmpc+ KGJT_d250_200_tmpc+ KGJT_d400_250_tmpc+ LXV_Dewpoint_degC+ KGJT_d400_300_speed_kts+ KGJT_250mb_speed_kts+ CMtn_Dewpoint_degC+ KGJT_250mb_tmpc+ KGJT_d250_200_dwpc+ KGJT_d400_200_tmpc+ CMtn_WindSpeed_mps+ KGJT_d500_400_height_m\n",
      "0.06246160384055377\n",
      "KGJT_700mb_speed_kts+ KGJT_d700_400_speed_kts+ KGJT_d700_250_speed_kts+ KGJT_d700_300_speed_kts+ KGJT_300mb_speed_kts+ KGJT_d400_250_speed_kts+ KGJT_400mb_speed_kts+ KGJT_d300_250_speed_kts+ KGJT_300mb_tmpc+ KGJT_d500_300_tmpc+ KGJT_d300_200_tmpc+ KGJT_d400_300_tmpc+ KGJT_d300_250_tmpc+ KGJT_d700_300_tmpc+ KGJT_d300_250_height_m+ LXV_12hr_delta_Pressure_hp+ KGJT_400mb_height_m+ KGJT_500mb_height_m+ KGJT_700mb_height_m+ LXV_Pressure_hp+ KGJT_500mb_dwpc+ KGJT_d700_400_tmpc+ KGJT_d500_200_tmpc+ KGJT_d700_500_height_m+ KGJT_700mb_tmpc+ KGJT_d700_500_tmpc+ KGJT_d500_400_tmpc+ KGJT_d500_250_tmpc+ KGJT_d700_200_tmpc+ KGJT_d700_250_tmpc+ KGJT_500mb_tmpc+ KGJT_d700_400_height_m+ CMtn_Temperature_degC+ KGJT_d700_400_dwpc+ KGJT_200mb_tmpc+ KGJT_400mb_tmpc+ KGJT_d250_200_tmpc+ KGJT_d400_250_tmpc+ LXV_Dewpoint_degC+ KGJT_d400_300_speed_kts+ KGJT_250mb_speed_kts+ CMtn_Dewpoint_degC+ KGJT_250mb_tmpc+ KGJT_d250_200_dwpc+ KGJT_d400_200_tmpc+ CMtn_WindSpeed_mps+ KGJT_d500_400_height_m\n",
      "0.06246160384054977\n"
     ]
    },
    {
     "name": "stdout",
     "output_type": "stream",
     "text": [
      "LXV_Temperature_degC+ KGJT_700mb_speed_kts+ KGJT_d700_400_speed_kts+ KGJT_d700_250_speed_kts+ KGJT_d700_300_speed_kts+ KGJT_300mb_speed_kts+ KGJT_d400_250_speed_kts+ KGJT_400mb_speed_kts+ KGJT_d300_250_speed_kts+ KGJT_300mb_tmpc+ KGJT_d500_300_tmpc+ KGJT_d300_200_tmpc+ KGJT_d400_300_tmpc+ KGJT_d300_250_tmpc+ KGJT_d700_300_tmpc+ KGJT_d300_250_height_m+ LXV_12hr_delta_Pressure_hp+ KGJT_400mb_height_m+ KGJT_500mb_height_m+ KGJT_700mb_height_m+ LXV_Pressure_hp+ KGJT_500mb_dwpc+ KGJT_d700_400_tmpc+ KGJT_d500_200_tmpc+ KGJT_d700_500_height_m+ KGJT_700mb_tmpc+ KGJT_d700_500_tmpc+ KGJT_d500_400_tmpc+ KGJT_d500_250_tmpc+ KGJT_d700_200_tmpc+ KGJT_d700_250_tmpc+ KGJT_500mb_tmpc+ KGJT_d700_400_height_m+ CMtn_Temperature_degC+ KGJT_d700_400_dwpc+ KGJT_200mb_tmpc+ KGJT_400mb_tmpc+ KGJT_d250_200_tmpc+ KGJT_d400_250_tmpc+ LXV_Dewpoint_degC+ KGJT_d400_300_speed_kts+ KGJT_250mb_speed_kts+ CMtn_Dewpoint_degC+ KGJT_250mb_tmpc+ KGJT_d250_200_dwpc+ KGJT_d400_200_tmpc+ CMtn_WindSpeed_mps+ KGJT_d500_400_height_m\n",
      "0.05708030255066754\n",
      "KGJT_d400_250_height_m+ LXV_Temperature_degC+ KGJT_700mb_speed_kts+ KGJT_d700_400_speed_kts+ KGJT_d700_250_speed_kts+ KGJT_d700_300_speed_kts+ KGJT_300mb_speed_kts+ KGJT_d400_250_speed_kts+ KGJT_400mb_speed_kts+ KGJT_d300_250_speed_kts+ KGJT_300mb_tmpc+ KGJT_d500_300_tmpc+ KGJT_d300_200_tmpc+ KGJT_d400_300_tmpc+ KGJT_d300_250_tmpc+ KGJT_d700_300_tmpc+ KGJT_d300_250_height_m+ LXV_12hr_delta_Pressure_hp+ KGJT_400mb_height_m+ KGJT_500mb_height_m+ KGJT_700mb_height_m+ LXV_Pressure_hp+ KGJT_500mb_dwpc+ KGJT_d700_400_tmpc+ KGJT_d500_200_tmpc+ KGJT_d700_500_height_m+ KGJT_700mb_tmpc+ KGJT_d700_500_tmpc+ KGJT_d500_400_tmpc+ KGJT_d500_250_tmpc+ KGJT_d700_200_tmpc+ KGJT_d700_250_tmpc+ KGJT_500mb_tmpc+ KGJT_d700_400_height_m+ CMtn_Temperature_degC+ KGJT_d700_400_dwpc+ KGJT_200mb_tmpc+ KGJT_400mb_tmpc+ KGJT_d250_200_tmpc+ KGJT_d400_250_tmpc+ LXV_Dewpoint_degC+ KGJT_d400_300_speed_kts+ KGJT_250mb_speed_kts+ CMtn_Dewpoint_degC+ KGJT_250mb_tmpc+ KGJT_d250_200_dwpc+ KGJT_d400_200_tmpc+ CMtn_WindSpeed_mps+ KGJT_d500_400_height_m\n",
      "0.05101921613869165\n",
      "KGJT_d500_250_height_m+ KGJT_d400_250_height_m+ LXV_Temperature_degC+ KGJT_700mb_speed_kts+ KGJT_d700_400_speed_kts+ KGJT_d700_250_speed_kts+ KGJT_d700_300_speed_kts+ KGJT_300mb_speed_kts+ KGJT_d400_250_speed_kts+ KGJT_400mb_speed_kts+ KGJT_d300_250_speed_kts+ KGJT_300mb_tmpc+ KGJT_d500_300_tmpc+ KGJT_d300_200_tmpc+ KGJT_d400_300_tmpc+ KGJT_d300_250_tmpc+ KGJT_d700_300_tmpc+ KGJT_d300_250_height_m+ LXV_12hr_delta_Pressure_hp+ KGJT_400mb_height_m+ KGJT_500mb_height_m+ KGJT_700mb_height_m+ LXV_Pressure_hp+ KGJT_500mb_dwpc+ KGJT_d700_400_tmpc+ KGJT_d500_200_tmpc+ KGJT_d700_500_height_m+ KGJT_700mb_tmpc+ KGJT_d700_500_tmpc+ KGJT_d500_400_tmpc+ KGJT_d500_250_tmpc+ KGJT_d700_200_tmpc+ KGJT_d700_250_tmpc+ KGJT_500mb_tmpc+ KGJT_d700_400_height_m+ CMtn_Temperature_degC+ KGJT_d700_400_dwpc+ KGJT_200mb_tmpc+ KGJT_400mb_tmpc+ KGJT_d250_200_tmpc+ KGJT_d400_250_tmpc+ LXV_Dewpoint_degC+ KGJT_d400_300_speed_kts+ KGJT_250mb_speed_kts+ CMtn_Dewpoint_degC+ KGJT_250mb_tmpc+ KGJT_d250_200_dwpc+ KGJT_d400_200_tmpc+ CMtn_WindSpeed_mps+ KGJT_d500_400_height_m\n",
      "0.05101921613869054\n",
      "KGJT_d500_300_height_m+ KGJT_d500_250_height_m+ KGJT_d400_250_height_m+ LXV_Temperature_degC+ KGJT_700mb_speed_kts+ KGJT_d700_400_speed_kts+ KGJT_d700_250_speed_kts+ KGJT_d700_300_speed_kts+ KGJT_300mb_speed_kts+ KGJT_d400_250_speed_kts+ KGJT_400mb_speed_kts+ KGJT_d300_250_speed_kts+ KGJT_300mb_tmpc+ KGJT_d500_300_tmpc+ KGJT_d300_200_tmpc+ KGJT_d400_300_tmpc+ KGJT_d300_250_tmpc+ KGJT_d700_300_tmpc+ KGJT_d300_250_height_m+ LXV_12hr_delta_Pressure_hp+ KGJT_400mb_height_m+ KGJT_500mb_height_m+ KGJT_700mb_height_m+ LXV_Pressure_hp+ KGJT_500mb_dwpc+ KGJT_d700_400_tmpc+ KGJT_d500_200_tmpc+ KGJT_d700_500_height_m+ KGJT_700mb_tmpc+ KGJT_d700_500_tmpc+ KGJT_d500_400_tmpc+ KGJT_d500_250_tmpc+ KGJT_d700_200_tmpc+ KGJT_d700_250_tmpc+ KGJT_500mb_tmpc+ KGJT_d700_400_height_m+ CMtn_Temperature_degC+ KGJT_d700_400_dwpc+ KGJT_200mb_tmpc+ KGJT_400mb_tmpc+ KGJT_d250_200_tmpc+ KGJT_d400_250_tmpc+ LXV_Dewpoint_degC+ KGJT_d400_300_speed_kts+ KGJT_250mb_speed_kts+ CMtn_Dewpoint_degC+ KGJT_250mb_tmpc+ KGJT_d250_200_dwpc+ KGJT_d400_200_tmpc+ CMtn_WindSpeed_mps+ KGJT_d500_400_height_m\n",
      "0.051019216138689316\n",
      "KGJT_d700_300_height_m+ KGJT_d500_300_height_m+ KGJT_d500_250_height_m+ KGJT_d400_250_height_m+ LXV_Temperature_degC+ KGJT_700mb_speed_kts+ KGJT_d700_400_speed_kts+ KGJT_d700_250_speed_kts+ KGJT_d700_300_speed_kts+ KGJT_300mb_speed_kts+ KGJT_d400_250_speed_kts+ KGJT_400mb_speed_kts+ KGJT_d300_250_speed_kts+ KGJT_300mb_tmpc+ KGJT_d500_300_tmpc+ KGJT_d300_200_tmpc+ KGJT_d400_300_tmpc+ KGJT_d300_250_tmpc+ KGJT_d700_300_tmpc+ KGJT_d300_250_height_m+ LXV_12hr_delta_Pressure_hp+ KGJT_400mb_height_m+ KGJT_500mb_height_m+ KGJT_700mb_height_m+ LXV_Pressure_hp+ KGJT_500mb_dwpc+ KGJT_d700_400_tmpc+ KGJT_d500_200_tmpc+ KGJT_d700_500_height_m+ KGJT_700mb_tmpc+ KGJT_d700_500_tmpc+ KGJT_d500_400_tmpc+ KGJT_d500_250_tmpc+ KGJT_d700_200_tmpc+ KGJT_d700_250_tmpc+ KGJT_500mb_tmpc+ KGJT_d700_400_height_m+ CMtn_Temperature_degC+ KGJT_d700_400_dwpc+ KGJT_200mb_tmpc+ KGJT_400mb_tmpc+ KGJT_d250_200_tmpc+ KGJT_d400_250_tmpc+ LXV_Dewpoint_degC+ KGJT_d400_300_speed_kts+ KGJT_250mb_speed_kts+ CMtn_Dewpoint_degC+ KGJT_250mb_tmpc+ KGJT_d250_200_dwpc+ KGJT_d400_200_tmpc+ CMtn_WindSpeed_mps+ KGJT_d500_400_height_m\n",
      "0.05101921613868221\n",
      "KGJT_250mb_height_m+ KGJT_d700_300_height_m+ KGJT_d500_300_height_m+ KGJT_d500_250_height_m+ KGJT_d400_250_height_m+ LXV_Temperature_degC+ KGJT_700mb_speed_kts+ KGJT_d700_400_speed_kts+ KGJT_d700_250_speed_kts+ KGJT_d700_300_speed_kts+ KGJT_300mb_speed_kts+ KGJT_d400_250_speed_kts+ KGJT_400mb_speed_kts+ KGJT_d300_250_speed_kts+ KGJT_300mb_tmpc+ KGJT_d500_300_tmpc+ KGJT_d300_200_tmpc+ KGJT_d400_300_tmpc+ KGJT_d300_250_tmpc+ KGJT_d700_300_tmpc+ KGJT_d300_250_height_m+ LXV_12hr_delta_Pressure_hp+ KGJT_400mb_height_m+ KGJT_500mb_height_m+ KGJT_700mb_height_m+ LXV_Pressure_hp+ KGJT_500mb_dwpc+ KGJT_d700_400_tmpc+ KGJT_d500_200_tmpc+ KGJT_d700_500_height_m+ KGJT_700mb_tmpc+ KGJT_d700_500_tmpc+ KGJT_d500_400_tmpc+ KGJT_d500_250_tmpc+ KGJT_d700_200_tmpc+ KGJT_d700_250_tmpc+ KGJT_500mb_tmpc+ KGJT_d700_400_height_m+ CMtn_Temperature_degC+ KGJT_d700_400_dwpc+ KGJT_200mb_tmpc+ KGJT_400mb_tmpc+ KGJT_d250_200_tmpc+ KGJT_d400_250_tmpc+ LXV_Dewpoint_degC+ KGJT_d400_300_speed_kts+ KGJT_250mb_speed_kts+ CMtn_Dewpoint_degC+ KGJT_250mb_tmpc+ KGJT_d250_200_dwpc+ KGJT_d400_200_tmpc+ CMtn_WindSpeed_mps+ KGJT_d500_400_height_m\n",
      "0.05101921613868454\n",
      "KGJT_d400_300_height_m+ KGJT_250mb_height_m+ KGJT_d700_300_height_m+ KGJT_d500_300_height_m+ KGJT_d500_250_height_m+ KGJT_d400_250_height_m+ LXV_Temperature_degC+ KGJT_700mb_speed_kts+ KGJT_d700_400_speed_kts+ KGJT_d700_250_speed_kts+ KGJT_d700_300_speed_kts+ KGJT_300mb_speed_kts+ KGJT_d400_250_speed_kts+ KGJT_400mb_speed_kts+ KGJT_d300_250_speed_kts+ KGJT_300mb_tmpc+ KGJT_d500_300_tmpc+ KGJT_d300_200_tmpc+ KGJT_d400_300_tmpc+ KGJT_d300_250_tmpc+ KGJT_d700_300_tmpc+ KGJT_d300_250_height_m+ LXV_12hr_delta_Pressure_hp+ KGJT_400mb_height_m+ KGJT_500mb_height_m+ KGJT_700mb_height_m+ LXV_Pressure_hp+ KGJT_500mb_dwpc+ KGJT_d700_400_tmpc+ KGJT_d500_200_tmpc+ KGJT_d700_500_height_m+ KGJT_700mb_tmpc+ KGJT_d700_500_tmpc+ KGJT_d500_400_tmpc+ KGJT_d500_250_tmpc+ KGJT_d700_200_tmpc+ KGJT_d700_250_tmpc+ KGJT_500mb_tmpc+ KGJT_d700_400_height_m+ CMtn_Temperature_degC+ KGJT_d700_400_dwpc+ KGJT_200mb_tmpc+ KGJT_400mb_tmpc+ KGJT_d250_200_tmpc+ KGJT_d400_250_tmpc+ LXV_Dewpoint_degC+ KGJT_d400_300_speed_kts+ KGJT_250mb_speed_kts+ CMtn_Dewpoint_degC+ KGJT_250mb_tmpc+ KGJT_d250_200_dwpc+ KGJT_d400_200_tmpc+ CMtn_WindSpeed_mps+ KGJT_d500_400_height_m\n",
      "0.05101921613868221\n",
      "KGJT_300mb_height_m+ KGJT_d400_300_height_m+ KGJT_250mb_height_m+ KGJT_d700_300_height_m+ KGJT_d500_300_height_m+ KGJT_d500_250_height_m+ KGJT_d400_250_height_m+ LXV_Temperature_degC+ KGJT_700mb_speed_kts+ KGJT_d700_400_speed_kts+ KGJT_d700_250_speed_kts+ KGJT_d700_300_speed_kts+ KGJT_300mb_speed_kts+ KGJT_d400_250_speed_kts+ KGJT_400mb_speed_kts+ KGJT_d300_250_speed_kts+ KGJT_300mb_tmpc+ KGJT_d500_300_tmpc+ KGJT_d300_200_tmpc+ KGJT_d400_300_tmpc+ KGJT_d300_250_tmpc+ KGJT_d700_300_tmpc+ KGJT_d300_250_height_m+ LXV_12hr_delta_Pressure_hp+ KGJT_400mb_height_m+ KGJT_500mb_height_m+ KGJT_700mb_height_m+ LXV_Pressure_hp+ KGJT_500mb_dwpc+ KGJT_d700_400_tmpc+ KGJT_d500_200_tmpc+ KGJT_d700_500_height_m+ KGJT_700mb_tmpc+ KGJT_d700_500_tmpc+ KGJT_d500_400_tmpc+ KGJT_d500_250_tmpc+ KGJT_d700_200_tmpc+ KGJT_d700_250_tmpc+ KGJT_500mb_tmpc+ KGJT_d700_400_height_m+ CMtn_Temperature_degC+ KGJT_d700_400_dwpc+ KGJT_200mb_tmpc+ KGJT_400mb_tmpc+ KGJT_d250_200_tmpc+ KGJT_d400_250_tmpc+ LXV_Dewpoint_degC+ KGJT_d400_300_speed_kts+ KGJT_250mb_speed_kts+ CMtn_Dewpoint_degC+ KGJT_250mb_tmpc+ KGJT_d250_200_dwpc+ KGJT_d400_200_tmpc+ CMtn_WindSpeed_mps+ KGJT_d500_400_height_m\n",
      "0.05101921613868021\n"
     ]
    },
    {
     "name": "stdout",
     "output_type": "stream",
     "text": [
      "KGJT_d700_250_height_m+ KGJT_300mb_height_m+ KGJT_d400_300_height_m+ KGJT_250mb_height_m+ KGJT_d700_300_height_m+ KGJT_d500_300_height_m+ KGJT_d500_250_height_m+ KGJT_d400_250_height_m+ LXV_Temperature_degC+ KGJT_700mb_speed_kts+ KGJT_d700_400_speed_kts+ KGJT_d700_250_speed_kts+ KGJT_d700_300_speed_kts+ KGJT_300mb_speed_kts+ KGJT_d400_250_speed_kts+ KGJT_400mb_speed_kts+ KGJT_d300_250_speed_kts+ KGJT_300mb_tmpc+ KGJT_d500_300_tmpc+ KGJT_d300_200_tmpc+ KGJT_d400_300_tmpc+ KGJT_d300_250_tmpc+ KGJT_d700_300_tmpc+ KGJT_d300_250_height_m+ LXV_12hr_delta_Pressure_hp+ KGJT_400mb_height_m+ KGJT_500mb_height_m+ KGJT_700mb_height_m+ LXV_Pressure_hp+ KGJT_500mb_dwpc+ KGJT_d700_400_tmpc+ KGJT_d500_200_tmpc+ KGJT_d700_500_height_m+ KGJT_700mb_tmpc+ KGJT_d700_500_tmpc+ KGJT_d500_400_tmpc+ KGJT_d500_250_tmpc+ KGJT_d700_200_tmpc+ KGJT_d700_250_tmpc+ KGJT_500mb_tmpc+ KGJT_d700_400_height_m+ CMtn_Temperature_degC+ KGJT_d700_400_dwpc+ KGJT_200mb_tmpc+ KGJT_400mb_tmpc+ KGJT_d250_200_tmpc+ KGJT_d400_250_tmpc+ LXV_Dewpoint_degC+ KGJT_d400_300_speed_kts+ KGJT_250mb_speed_kts+ CMtn_Dewpoint_degC+ KGJT_250mb_tmpc+ KGJT_d250_200_dwpc+ KGJT_d400_200_tmpc+ CMtn_WindSpeed_mps+ KGJT_d500_400_height_m\n",
      "0.051019216138683876\n",
      "LXV_WindSpeed_mps+ KGJT_d700_250_height_m+ KGJT_300mb_height_m+ KGJT_d400_300_height_m+ KGJT_250mb_height_m+ KGJT_d700_300_height_m+ KGJT_d500_300_height_m+ KGJT_d500_250_height_m+ KGJT_d400_250_height_m+ LXV_Temperature_degC+ KGJT_700mb_speed_kts+ KGJT_d700_400_speed_kts+ KGJT_d700_250_speed_kts+ KGJT_d700_300_speed_kts+ KGJT_300mb_speed_kts+ KGJT_d400_250_speed_kts+ KGJT_400mb_speed_kts+ KGJT_d300_250_speed_kts+ KGJT_300mb_tmpc+ KGJT_d500_300_tmpc+ KGJT_d300_200_tmpc+ KGJT_d400_300_tmpc+ KGJT_d300_250_tmpc+ KGJT_d700_300_tmpc+ KGJT_d300_250_height_m+ LXV_12hr_delta_Pressure_hp+ KGJT_400mb_height_m+ KGJT_500mb_height_m+ KGJT_700mb_height_m+ LXV_Pressure_hp+ KGJT_500mb_dwpc+ KGJT_d700_400_tmpc+ KGJT_d500_200_tmpc+ KGJT_d700_500_height_m+ KGJT_700mb_tmpc+ KGJT_d700_500_tmpc+ KGJT_d500_400_tmpc+ KGJT_d500_250_tmpc+ KGJT_d700_200_tmpc+ KGJT_d700_250_tmpc+ KGJT_500mb_tmpc+ KGJT_d700_400_height_m+ CMtn_Temperature_degC+ KGJT_d700_400_dwpc+ KGJT_200mb_tmpc+ KGJT_400mb_tmpc+ KGJT_d250_200_tmpc+ KGJT_d400_250_tmpc+ LXV_Dewpoint_degC+ KGJT_d400_300_speed_kts+ KGJT_250mb_speed_kts+ CMtn_Dewpoint_degC+ KGJT_250mb_tmpc+ KGJT_d250_200_dwpc+ KGJT_d400_200_tmpc+ CMtn_WindSpeed_mps+ KGJT_d500_400_height_m\n",
      "0.044925065243549\n",
      "KGJT_d700_200_speed_kts+ LXV_WindSpeed_mps+ KGJT_d700_250_height_m+ KGJT_300mb_height_m+ KGJT_d400_300_height_m+ KGJT_250mb_height_m+ KGJT_d700_300_height_m+ KGJT_d500_300_height_m+ KGJT_d500_250_height_m+ KGJT_d400_250_height_m+ LXV_Temperature_degC+ KGJT_700mb_speed_kts+ KGJT_d700_400_speed_kts+ KGJT_d700_250_speed_kts+ KGJT_d700_300_speed_kts+ KGJT_300mb_speed_kts+ KGJT_d400_250_speed_kts+ KGJT_400mb_speed_kts+ KGJT_d300_250_speed_kts+ KGJT_300mb_tmpc+ KGJT_d500_300_tmpc+ KGJT_d300_200_tmpc+ KGJT_d400_300_tmpc+ KGJT_d300_250_tmpc+ KGJT_d700_300_tmpc+ KGJT_d300_250_height_m+ LXV_12hr_delta_Pressure_hp+ KGJT_400mb_height_m+ KGJT_500mb_height_m+ KGJT_700mb_height_m+ LXV_Pressure_hp+ KGJT_500mb_dwpc+ KGJT_d700_400_tmpc+ KGJT_d500_200_tmpc+ KGJT_d700_500_height_m+ KGJT_700mb_tmpc+ KGJT_d700_500_tmpc+ KGJT_d500_400_tmpc+ KGJT_d500_250_tmpc+ KGJT_d700_200_tmpc+ KGJT_d700_250_tmpc+ KGJT_500mb_tmpc+ KGJT_d700_400_height_m+ CMtn_Temperature_degC+ KGJT_d700_400_dwpc+ KGJT_200mb_tmpc+ KGJT_400mb_tmpc+ KGJT_d250_200_tmpc+ KGJT_d400_250_tmpc+ LXV_Dewpoint_degC+ KGJT_d400_300_speed_kts+ KGJT_250mb_speed_kts+ CMtn_Dewpoint_degC+ KGJT_250mb_tmpc+ KGJT_d250_200_dwpc+ KGJT_d400_200_tmpc+ CMtn_WindSpeed_mps+ KGJT_d500_400_height_m\n",
      "0.038562415031147323\n",
      "KGJT_d300_200_speed_kts+ KGJT_d700_200_speed_kts+ LXV_WindSpeed_mps+ KGJT_d700_250_height_m+ KGJT_300mb_height_m+ KGJT_d400_300_height_m+ KGJT_250mb_height_m+ KGJT_d700_300_height_m+ KGJT_d500_300_height_m+ KGJT_d500_250_height_m+ KGJT_d400_250_height_m+ LXV_Temperature_degC+ KGJT_700mb_speed_kts+ KGJT_d700_400_speed_kts+ KGJT_d700_250_speed_kts+ KGJT_d700_300_speed_kts+ KGJT_300mb_speed_kts+ KGJT_d400_250_speed_kts+ KGJT_400mb_speed_kts+ KGJT_d300_250_speed_kts+ KGJT_300mb_tmpc+ KGJT_d500_300_tmpc+ KGJT_d300_200_tmpc+ KGJT_d400_300_tmpc+ KGJT_d300_250_tmpc+ KGJT_d700_300_tmpc+ KGJT_d300_250_height_m+ LXV_12hr_delta_Pressure_hp+ KGJT_400mb_height_m+ KGJT_500mb_height_m+ KGJT_700mb_height_m+ LXV_Pressure_hp+ KGJT_500mb_dwpc+ KGJT_d700_400_tmpc+ KGJT_d500_200_tmpc+ KGJT_d700_500_height_m+ KGJT_700mb_tmpc+ KGJT_d700_500_tmpc+ KGJT_d500_400_tmpc+ KGJT_d500_250_tmpc+ KGJT_d700_200_tmpc+ KGJT_d700_250_tmpc+ KGJT_500mb_tmpc+ KGJT_d700_400_height_m+ CMtn_Temperature_degC+ KGJT_d700_400_dwpc+ KGJT_200mb_tmpc+ KGJT_400mb_tmpc+ KGJT_d250_200_tmpc+ KGJT_d400_250_tmpc+ LXV_Dewpoint_degC+ KGJT_d400_300_speed_kts+ KGJT_250mb_speed_kts+ CMtn_Dewpoint_degC+ KGJT_250mb_tmpc+ KGJT_d250_200_dwpc+ KGJT_d400_200_tmpc+ CMtn_WindSpeed_mps+ KGJT_d500_400_height_m\n",
      "0.038562415031145436\n",
      "KGJT_d250_200_speed_kts+ KGJT_d300_200_speed_kts+ KGJT_d700_200_speed_kts+ LXV_WindSpeed_mps+ KGJT_d700_250_height_m+ KGJT_300mb_height_m+ KGJT_d400_300_height_m+ KGJT_250mb_height_m+ KGJT_d700_300_height_m+ KGJT_d500_300_height_m+ KGJT_d500_250_height_m+ KGJT_d400_250_height_m+ LXV_Temperature_degC+ KGJT_700mb_speed_kts+ KGJT_d700_400_speed_kts+ KGJT_d700_250_speed_kts+ KGJT_d700_300_speed_kts+ KGJT_300mb_speed_kts+ KGJT_d400_250_speed_kts+ KGJT_400mb_speed_kts+ KGJT_d300_250_speed_kts+ KGJT_300mb_tmpc+ KGJT_d500_300_tmpc+ KGJT_d300_200_tmpc+ KGJT_d400_300_tmpc+ KGJT_d300_250_tmpc+ KGJT_d700_300_tmpc+ KGJT_d300_250_height_m+ LXV_12hr_delta_Pressure_hp+ KGJT_400mb_height_m+ KGJT_500mb_height_m+ KGJT_700mb_height_m+ LXV_Pressure_hp+ KGJT_500mb_dwpc+ KGJT_d700_400_tmpc+ KGJT_d500_200_tmpc+ KGJT_d700_500_height_m+ KGJT_700mb_tmpc+ KGJT_d700_500_tmpc+ KGJT_d500_400_tmpc+ KGJT_d500_250_tmpc+ KGJT_d700_200_tmpc+ KGJT_d700_250_tmpc+ KGJT_500mb_tmpc+ KGJT_d700_400_height_m+ CMtn_Temperature_degC+ KGJT_d700_400_dwpc+ KGJT_200mb_tmpc+ KGJT_400mb_tmpc+ KGJT_d250_200_tmpc+ KGJT_d400_250_tmpc+ LXV_Dewpoint_degC+ KGJT_d400_300_speed_kts+ KGJT_250mb_speed_kts+ CMtn_Dewpoint_degC+ KGJT_250mb_tmpc+ KGJT_d250_200_dwpc+ KGJT_d400_200_tmpc+ CMtn_WindSpeed_mps+ KGJT_d500_400_height_m\n",
      "0.03856241503114499\n",
      "KGJT_200mb_speed_kts+ KGJT_d250_200_speed_kts+ KGJT_d300_200_speed_kts+ KGJT_d700_200_speed_kts+ LXV_WindSpeed_mps+ KGJT_d700_250_height_m+ KGJT_300mb_height_m+ KGJT_d400_300_height_m+ KGJT_250mb_height_m+ KGJT_d700_300_height_m+ KGJT_d500_300_height_m+ KGJT_d500_250_height_m+ KGJT_d400_250_height_m+ LXV_Temperature_degC+ KGJT_700mb_speed_kts+ KGJT_d700_400_speed_kts+ KGJT_d700_250_speed_kts+ KGJT_d700_300_speed_kts+ KGJT_300mb_speed_kts+ KGJT_d400_250_speed_kts+ KGJT_400mb_speed_kts+ KGJT_d300_250_speed_kts+ KGJT_300mb_tmpc+ KGJT_d500_300_tmpc+ KGJT_d300_200_tmpc+ KGJT_d400_300_tmpc+ KGJT_d300_250_tmpc+ KGJT_d700_300_tmpc+ KGJT_d300_250_height_m+ LXV_12hr_delta_Pressure_hp+ KGJT_400mb_height_m+ KGJT_500mb_height_m+ KGJT_700mb_height_m+ LXV_Pressure_hp+ KGJT_500mb_dwpc+ KGJT_d700_400_tmpc+ KGJT_d500_200_tmpc+ KGJT_d700_500_height_m+ KGJT_700mb_tmpc+ KGJT_d700_500_tmpc+ KGJT_d500_400_tmpc+ KGJT_d500_250_tmpc+ KGJT_d700_200_tmpc+ KGJT_d700_250_tmpc+ KGJT_500mb_tmpc+ KGJT_d700_400_height_m+ CMtn_Temperature_degC+ KGJT_d700_400_dwpc+ KGJT_200mb_tmpc+ KGJT_400mb_tmpc+ KGJT_d250_200_tmpc+ KGJT_d400_250_tmpc+ LXV_Dewpoint_degC+ KGJT_d400_300_speed_kts+ KGJT_250mb_speed_kts+ CMtn_Dewpoint_degC+ KGJT_250mb_tmpc+ KGJT_d250_200_dwpc+ KGJT_d400_200_tmpc+ CMtn_WindSpeed_mps+ KGJT_d500_400_height_m\n",
      "0.03856241503114177\n",
      "KGJT_d400_200_speed_kts+ KGJT_200mb_speed_kts+ KGJT_d250_200_speed_kts+ KGJT_d300_200_speed_kts+ KGJT_d700_200_speed_kts+ LXV_WindSpeed_mps+ KGJT_d700_250_height_m+ KGJT_300mb_height_m+ KGJT_d400_300_height_m+ KGJT_250mb_height_m+ KGJT_d700_300_height_m+ KGJT_d500_300_height_m+ KGJT_d500_250_height_m+ KGJT_d400_250_height_m+ LXV_Temperature_degC+ KGJT_700mb_speed_kts+ KGJT_d700_400_speed_kts+ KGJT_d700_250_speed_kts+ KGJT_d700_300_speed_kts+ KGJT_300mb_speed_kts+ KGJT_d400_250_speed_kts+ KGJT_400mb_speed_kts+ KGJT_d300_250_speed_kts+ KGJT_300mb_tmpc+ KGJT_d500_300_tmpc+ KGJT_d300_200_tmpc+ KGJT_d400_300_tmpc+ KGJT_d300_250_tmpc+ KGJT_d700_300_tmpc+ KGJT_d300_250_height_m+ LXV_12hr_delta_Pressure_hp+ KGJT_400mb_height_m+ KGJT_500mb_height_m+ KGJT_700mb_height_m+ LXV_Pressure_hp+ KGJT_500mb_dwpc+ KGJT_d700_400_tmpc+ KGJT_d500_200_tmpc+ KGJT_d700_500_height_m+ KGJT_700mb_tmpc+ KGJT_d700_500_tmpc+ KGJT_d500_400_tmpc+ KGJT_d500_250_tmpc+ KGJT_d700_200_tmpc+ KGJT_d700_250_tmpc+ KGJT_500mb_tmpc+ KGJT_d700_400_height_m+ CMtn_Temperature_degC+ KGJT_d700_400_dwpc+ KGJT_200mb_tmpc+ KGJT_400mb_tmpc+ KGJT_d250_200_tmpc+ KGJT_d400_250_tmpc+ LXV_Dewpoint_degC+ KGJT_d400_300_speed_kts+ KGJT_250mb_speed_kts+ CMtn_Dewpoint_degC+ KGJT_250mb_tmpc+ KGJT_d250_200_dwpc+ KGJT_d400_200_tmpc+ CMtn_WindSpeed_mps+ KGJT_d500_400_height_m\n",
      "0.03856241503114255\n"
     ]
    },
    {
     "name": "stdout",
     "output_type": "stream",
     "text": [
      "CMtnSNTL_Temp_degC+ KGJT_d400_200_speed_kts+ KGJT_200mb_speed_kts+ KGJT_d250_200_speed_kts+ KGJT_d300_200_speed_kts+ KGJT_d700_200_speed_kts+ LXV_WindSpeed_mps+ KGJT_d700_250_height_m+ KGJT_300mb_height_m+ KGJT_d400_300_height_m+ KGJT_250mb_height_m+ KGJT_d700_300_height_m+ KGJT_d500_300_height_m+ KGJT_d500_250_height_m+ KGJT_d400_250_height_m+ LXV_Temperature_degC+ KGJT_700mb_speed_kts+ KGJT_d700_400_speed_kts+ KGJT_d700_250_speed_kts+ KGJT_d700_300_speed_kts+ KGJT_300mb_speed_kts+ KGJT_d400_250_speed_kts+ KGJT_400mb_speed_kts+ KGJT_d300_250_speed_kts+ KGJT_300mb_tmpc+ KGJT_d500_300_tmpc+ KGJT_d300_200_tmpc+ KGJT_d400_300_tmpc+ KGJT_d300_250_tmpc+ KGJT_d700_300_tmpc+ KGJT_d300_250_height_m+ LXV_12hr_delta_Pressure_hp+ KGJT_400mb_height_m+ KGJT_500mb_height_m+ KGJT_700mb_height_m+ LXV_Pressure_hp+ KGJT_500mb_dwpc+ KGJT_d700_400_tmpc+ KGJT_d500_200_tmpc+ KGJT_d700_500_height_m+ KGJT_700mb_tmpc+ KGJT_d700_500_tmpc+ KGJT_d500_400_tmpc+ KGJT_d500_250_tmpc+ KGJT_d700_200_tmpc+ KGJT_d700_250_tmpc+ KGJT_500mb_tmpc+ KGJT_d700_400_height_m+ CMtn_Temperature_degC+ KGJT_d700_400_dwpc+ KGJT_200mb_tmpc+ KGJT_400mb_tmpc+ KGJT_d250_200_tmpc+ KGJT_d400_250_tmpc+ LXV_Dewpoint_degC+ KGJT_d400_300_speed_kts+ KGJT_250mb_speed_kts+ CMtn_Dewpoint_degC+ KGJT_250mb_tmpc+ KGJT_d250_200_dwpc+ KGJT_d400_200_tmpc+ CMtn_WindSpeed_mps+ KGJT_d500_400_height_m\n",
      "0.031939263242651283\n",
      "KGJT_d700_200_height_m+ CMtnSNTL_Temp_degC+ KGJT_d400_200_speed_kts+ KGJT_200mb_speed_kts+ KGJT_d250_200_speed_kts+ KGJT_d300_200_speed_kts+ KGJT_d700_200_speed_kts+ LXV_WindSpeed_mps+ KGJT_d700_250_height_m+ KGJT_300mb_height_m+ KGJT_d400_300_height_m+ KGJT_250mb_height_m+ KGJT_d700_300_height_m+ KGJT_d500_300_height_m+ KGJT_d500_250_height_m+ KGJT_d400_250_height_m+ LXV_Temperature_degC+ KGJT_700mb_speed_kts+ KGJT_d700_400_speed_kts+ KGJT_d700_250_speed_kts+ KGJT_d700_300_speed_kts+ KGJT_300mb_speed_kts+ KGJT_d400_250_speed_kts+ KGJT_400mb_speed_kts+ KGJT_d300_250_speed_kts+ KGJT_300mb_tmpc+ KGJT_d500_300_tmpc+ KGJT_d300_200_tmpc+ KGJT_d400_300_tmpc+ KGJT_d300_250_tmpc+ KGJT_d700_300_tmpc+ KGJT_d300_250_height_m+ LXV_12hr_delta_Pressure_hp+ KGJT_400mb_height_m+ KGJT_500mb_height_m+ KGJT_700mb_height_m+ LXV_Pressure_hp+ KGJT_500mb_dwpc+ KGJT_d700_400_tmpc+ KGJT_d500_200_tmpc+ KGJT_d700_500_height_m+ KGJT_700mb_tmpc+ KGJT_d700_500_tmpc+ KGJT_d500_400_tmpc+ KGJT_d500_250_tmpc+ KGJT_d700_200_tmpc+ KGJT_d700_250_tmpc+ KGJT_500mb_tmpc+ KGJT_d700_400_height_m+ CMtn_Temperature_degC+ KGJT_d700_400_dwpc+ KGJT_200mb_tmpc+ KGJT_400mb_tmpc+ KGJT_d250_200_tmpc+ KGJT_d400_250_tmpc+ LXV_Dewpoint_degC+ KGJT_d400_300_speed_kts+ KGJT_250mb_speed_kts+ CMtn_Dewpoint_degC+ KGJT_250mb_tmpc+ KGJT_d250_200_dwpc+ KGJT_d400_200_tmpc+ CMtn_WindSpeed_mps+ KGJT_d500_400_height_m\n",
      "0.02514080921513906\n",
      "KGJT_d400_200_height_m+ KGJT_d700_200_height_m+ CMtnSNTL_Temp_degC+ KGJT_d400_200_speed_kts+ KGJT_200mb_speed_kts+ KGJT_d250_200_speed_kts+ KGJT_d300_200_speed_kts+ KGJT_d700_200_speed_kts+ LXV_WindSpeed_mps+ KGJT_d700_250_height_m+ KGJT_300mb_height_m+ KGJT_d400_300_height_m+ KGJT_250mb_height_m+ KGJT_d700_300_height_m+ KGJT_d500_300_height_m+ KGJT_d500_250_height_m+ KGJT_d400_250_height_m+ LXV_Temperature_degC+ KGJT_700mb_speed_kts+ KGJT_d700_400_speed_kts+ KGJT_d700_250_speed_kts+ KGJT_d700_300_speed_kts+ KGJT_300mb_speed_kts+ KGJT_d400_250_speed_kts+ KGJT_400mb_speed_kts+ KGJT_d300_250_speed_kts+ KGJT_300mb_tmpc+ KGJT_d500_300_tmpc+ KGJT_d300_200_tmpc+ KGJT_d400_300_tmpc+ KGJT_d300_250_tmpc+ KGJT_d700_300_tmpc+ KGJT_d300_250_height_m+ LXV_12hr_delta_Pressure_hp+ KGJT_400mb_height_m+ KGJT_500mb_height_m+ KGJT_700mb_height_m+ LXV_Pressure_hp+ KGJT_500mb_dwpc+ KGJT_d700_400_tmpc+ KGJT_d500_200_tmpc+ KGJT_d700_500_height_m+ KGJT_700mb_tmpc+ KGJT_d700_500_tmpc+ KGJT_d500_400_tmpc+ KGJT_d500_250_tmpc+ KGJT_d700_200_tmpc+ KGJT_d700_250_tmpc+ KGJT_500mb_tmpc+ KGJT_d700_400_height_m+ CMtn_Temperature_degC+ KGJT_d700_400_dwpc+ KGJT_200mb_tmpc+ KGJT_400mb_tmpc+ KGJT_d250_200_tmpc+ KGJT_d400_250_tmpc+ LXV_Dewpoint_degC+ KGJT_d400_300_speed_kts+ KGJT_250mb_speed_kts+ CMtn_Dewpoint_degC+ KGJT_250mb_tmpc+ KGJT_d250_200_dwpc+ KGJT_d400_200_tmpc+ CMtn_WindSpeed_mps+ KGJT_d500_400_height_m\n",
      "0.02514080921513573\n",
      "KGJT_d500_200_height_m+ KGJT_d400_200_height_m+ KGJT_d700_200_height_m+ CMtnSNTL_Temp_degC+ KGJT_d400_200_speed_kts+ KGJT_200mb_speed_kts+ KGJT_d250_200_speed_kts+ KGJT_d300_200_speed_kts+ KGJT_d700_200_speed_kts+ LXV_WindSpeed_mps+ KGJT_d700_250_height_m+ KGJT_300mb_height_m+ KGJT_d400_300_height_m+ KGJT_250mb_height_m+ KGJT_d700_300_height_m+ KGJT_d500_300_height_m+ KGJT_d500_250_height_m+ KGJT_d400_250_height_m+ LXV_Temperature_degC+ KGJT_700mb_speed_kts+ KGJT_d700_400_speed_kts+ KGJT_d700_250_speed_kts+ KGJT_d700_300_speed_kts+ KGJT_300mb_speed_kts+ KGJT_d400_250_speed_kts+ KGJT_400mb_speed_kts+ KGJT_d300_250_speed_kts+ KGJT_300mb_tmpc+ KGJT_d500_300_tmpc+ KGJT_d300_200_tmpc+ KGJT_d400_300_tmpc+ KGJT_d300_250_tmpc+ KGJT_d700_300_tmpc+ KGJT_d300_250_height_m+ LXV_12hr_delta_Pressure_hp+ KGJT_400mb_height_m+ KGJT_500mb_height_m+ KGJT_700mb_height_m+ LXV_Pressure_hp+ KGJT_500mb_dwpc+ KGJT_d700_400_tmpc+ KGJT_d500_200_tmpc+ KGJT_d700_500_height_m+ KGJT_700mb_tmpc+ KGJT_d700_500_tmpc+ KGJT_d500_400_tmpc+ KGJT_d500_250_tmpc+ KGJT_d700_200_tmpc+ KGJT_d700_250_tmpc+ KGJT_500mb_tmpc+ KGJT_d700_400_height_m+ CMtn_Temperature_degC+ KGJT_d700_400_dwpc+ KGJT_200mb_tmpc+ KGJT_400mb_tmpc+ KGJT_d250_200_tmpc+ KGJT_d400_250_tmpc+ LXV_Dewpoint_degC+ KGJT_d400_300_speed_kts+ KGJT_250mb_speed_kts+ CMtn_Dewpoint_degC+ KGJT_250mb_tmpc+ KGJT_d250_200_dwpc+ KGJT_d400_200_tmpc+ CMtn_WindSpeed_mps+ KGJT_d500_400_height_m\n",
      "0.02514080921513162\n",
      "KGJT_d250_200_height_m+ KGJT_d500_200_height_m+ KGJT_d400_200_height_m+ KGJT_d700_200_height_m+ CMtnSNTL_Temp_degC+ KGJT_d400_200_speed_kts+ KGJT_200mb_speed_kts+ KGJT_d250_200_speed_kts+ KGJT_d300_200_speed_kts+ KGJT_d700_200_speed_kts+ LXV_WindSpeed_mps+ KGJT_d700_250_height_m+ KGJT_300mb_height_m+ KGJT_d400_300_height_m+ KGJT_250mb_height_m+ KGJT_d700_300_height_m+ KGJT_d500_300_height_m+ KGJT_d500_250_height_m+ KGJT_d400_250_height_m+ LXV_Temperature_degC+ KGJT_700mb_speed_kts+ KGJT_d700_400_speed_kts+ KGJT_d700_250_speed_kts+ KGJT_d700_300_speed_kts+ KGJT_300mb_speed_kts+ KGJT_d400_250_speed_kts+ KGJT_400mb_speed_kts+ KGJT_d300_250_speed_kts+ KGJT_300mb_tmpc+ KGJT_d500_300_tmpc+ KGJT_d300_200_tmpc+ KGJT_d400_300_tmpc+ KGJT_d300_250_tmpc+ KGJT_d700_300_tmpc+ KGJT_d300_250_height_m+ LXV_12hr_delta_Pressure_hp+ KGJT_400mb_height_m+ KGJT_500mb_height_m+ KGJT_700mb_height_m+ LXV_Pressure_hp+ KGJT_500mb_dwpc+ KGJT_d700_400_tmpc+ KGJT_d500_200_tmpc+ KGJT_d700_500_height_m+ KGJT_700mb_tmpc+ KGJT_d700_500_tmpc+ KGJT_d500_400_tmpc+ KGJT_d500_250_tmpc+ KGJT_d700_200_tmpc+ KGJT_d700_250_tmpc+ KGJT_500mb_tmpc+ KGJT_d700_400_height_m+ CMtn_Temperature_degC+ KGJT_d700_400_dwpc+ KGJT_200mb_tmpc+ KGJT_400mb_tmpc+ KGJT_d250_200_tmpc+ KGJT_d400_250_tmpc+ LXV_Dewpoint_degC+ KGJT_d400_300_speed_kts+ KGJT_250mb_speed_kts+ CMtn_Dewpoint_degC+ KGJT_250mb_tmpc+ KGJT_d250_200_dwpc+ KGJT_d400_200_tmpc+ CMtn_WindSpeed_mps+ KGJT_d500_400_height_m\n",
      "0.025140809215132065\n",
      "KGJT_d300_200_height_m+ KGJT_d250_200_height_m+ KGJT_d500_200_height_m+ KGJT_d400_200_height_m+ KGJT_d700_200_height_m+ CMtnSNTL_Temp_degC+ KGJT_d400_200_speed_kts+ KGJT_200mb_speed_kts+ KGJT_d250_200_speed_kts+ KGJT_d300_200_speed_kts+ KGJT_d700_200_speed_kts+ LXV_WindSpeed_mps+ KGJT_d700_250_height_m+ KGJT_300mb_height_m+ KGJT_d400_300_height_m+ KGJT_250mb_height_m+ KGJT_d700_300_height_m+ KGJT_d500_300_height_m+ KGJT_d500_250_height_m+ KGJT_d400_250_height_m+ LXV_Temperature_degC+ KGJT_700mb_speed_kts+ KGJT_d700_400_speed_kts+ KGJT_d700_250_speed_kts+ KGJT_d700_300_speed_kts+ KGJT_300mb_speed_kts+ KGJT_d400_250_speed_kts+ KGJT_400mb_speed_kts+ KGJT_d300_250_speed_kts+ KGJT_300mb_tmpc+ KGJT_d500_300_tmpc+ KGJT_d300_200_tmpc+ KGJT_d400_300_tmpc+ KGJT_d300_250_tmpc+ KGJT_d700_300_tmpc+ KGJT_d300_250_height_m+ LXV_12hr_delta_Pressure_hp+ KGJT_400mb_height_m+ KGJT_500mb_height_m+ KGJT_700mb_height_m+ LXV_Pressure_hp+ KGJT_500mb_dwpc+ KGJT_d700_400_tmpc+ KGJT_d500_200_tmpc+ KGJT_d700_500_height_m+ KGJT_700mb_tmpc+ KGJT_d700_500_tmpc+ KGJT_d500_400_tmpc+ KGJT_d500_250_tmpc+ KGJT_d700_200_tmpc+ KGJT_d700_250_tmpc+ KGJT_500mb_tmpc+ KGJT_d700_400_height_m+ CMtn_Temperature_degC+ KGJT_d700_400_dwpc+ KGJT_200mb_tmpc+ KGJT_400mb_tmpc+ KGJT_d250_200_tmpc+ KGJT_d400_250_tmpc+ LXV_Dewpoint_degC+ KGJT_d400_300_speed_kts+ KGJT_250mb_speed_kts+ CMtn_Dewpoint_degC+ KGJT_250mb_tmpc+ KGJT_d250_200_dwpc+ KGJT_d400_200_tmpc+ CMtn_WindSpeed_mps+ KGJT_d500_400_height_m\n",
      "0.02514080921513495\n"
     ]
    },
    {
     "name": "stdout",
     "output_type": "stream",
     "text": [
      "KGJT_200mb_height_m+ KGJT_d300_200_height_m+ KGJT_d250_200_height_m+ KGJT_d500_200_height_m+ KGJT_d400_200_height_m+ KGJT_d700_200_height_m+ CMtnSNTL_Temp_degC+ KGJT_d400_200_speed_kts+ KGJT_200mb_speed_kts+ KGJT_d250_200_speed_kts+ KGJT_d300_200_speed_kts+ KGJT_d700_200_speed_kts+ LXV_WindSpeed_mps+ KGJT_d700_250_height_m+ KGJT_300mb_height_m+ KGJT_d400_300_height_m+ KGJT_250mb_height_m+ KGJT_d700_300_height_m+ KGJT_d500_300_height_m+ KGJT_d500_250_height_m+ KGJT_d400_250_height_m+ LXV_Temperature_degC+ KGJT_700mb_speed_kts+ KGJT_d700_400_speed_kts+ KGJT_d700_250_speed_kts+ KGJT_d700_300_speed_kts+ KGJT_300mb_speed_kts+ KGJT_d400_250_speed_kts+ KGJT_400mb_speed_kts+ KGJT_d300_250_speed_kts+ KGJT_300mb_tmpc+ KGJT_d500_300_tmpc+ KGJT_d300_200_tmpc+ KGJT_d400_300_tmpc+ KGJT_d300_250_tmpc+ KGJT_d700_300_tmpc+ KGJT_d300_250_height_m+ LXV_12hr_delta_Pressure_hp+ KGJT_400mb_height_m+ KGJT_500mb_height_m+ KGJT_700mb_height_m+ LXV_Pressure_hp+ KGJT_500mb_dwpc+ KGJT_d700_400_tmpc+ KGJT_d500_200_tmpc+ KGJT_d700_500_height_m+ KGJT_700mb_tmpc+ KGJT_d700_500_tmpc+ KGJT_d500_400_tmpc+ KGJT_d500_250_tmpc+ KGJT_d700_200_tmpc+ KGJT_d700_250_tmpc+ KGJT_500mb_tmpc+ KGJT_d700_400_height_m+ CMtn_Temperature_degC+ KGJT_d700_400_dwpc+ KGJT_200mb_tmpc+ KGJT_400mb_tmpc+ KGJT_d250_200_tmpc+ KGJT_d400_250_tmpc+ LXV_Dewpoint_degC+ KGJT_d400_300_speed_kts+ KGJT_250mb_speed_kts+ CMtn_Dewpoint_degC+ KGJT_250mb_tmpc+ KGJT_d250_200_dwpc+ KGJT_d400_200_tmpc+ CMtn_WindSpeed_mps+ KGJT_d500_400_height_m\n",
      "0.02514080921512485\n",
      "KGJT_d850_700_height_m+ KGJT_200mb_height_m+ KGJT_d300_200_height_m+ KGJT_d250_200_height_m+ KGJT_d500_200_height_m+ KGJT_d400_200_height_m+ KGJT_d700_200_height_m+ CMtnSNTL_Temp_degC+ KGJT_d400_200_speed_kts+ KGJT_200mb_speed_kts+ KGJT_d250_200_speed_kts+ KGJT_d300_200_speed_kts+ KGJT_d700_200_speed_kts+ LXV_WindSpeed_mps+ KGJT_d700_250_height_m+ KGJT_300mb_height_m+ KGJT_d400_300_height_m+ KGJT_250mb_height_m+ KGJT_d700_300_height_m+ KGJT_d500_300_height_m+ KGJT_d500_250_height_m+ KGJT_d400_250_height_m+ LXV_Temperature_degC+ KGJT_700mb_speed_kts+ KGJT_d700_400_speed_kts+ KGJT_d700_250_speed_kts+ KGJT_d700_300_speed_kts+ KGJT_300mb_speed_kts+ KGJT_d400_250_speed_kts+ KGJT_400mb_speed_kts+ KGJT_d300_250_speed_kts+ KGJT_300mb_tmpc+ KGJT_d500_300_tmpc+ KGJT_d300_200_tmpc+ KGJT_d400_300_tmpc+ KGJT_d300_250_tmpc+ KGJT_d700_300_tmpc+ KGJT_d300_250_height_m+ LXV_12hr_delta_Pressure_hp+ KGJT_400mb_height_m+ KGJT_500mb_height_m+ KGJT_700mb_height_m+ LXV_Pressure_hp+ KGJT_500mb_dwpc+ KGJT_d700_400_tmpc+ KGJT_d500_200_tmpc+ KGJT_d700_500_height_m+ KGJT_700mb_tmpc+ KGJT_d700_500_tmpc+ KGJT_d500_400_tmpc+ KGJT_d500_250_tmpc+ KGJT_d700_200_tmpc+ KGJT_d700_250_tmpc+ KGJT_500mb_tmpc+ KGJT_d700_400_height_m+ CMtn_Temperature_degC+ KGJT_d700_400_dwpc+ KGJT_200mb_tmpc+ KGJT_400mb_tmpc+ KGJT_d250_200_tmpc+ KGJT_d400_250_tmpc+ LXV_Dewpoint_degC+ KGJT_d400_300_speed_kts+ KGJT_250mb_speed_kts+ CMtn_Dewpoint_degC+ KGJT_250mb_tmpc+ KGJT_d250_200_dwpc+ KGJT_d400_200_tmpc+ CMtn_WindSpeed_mps+ KGJT_d500_400_height_m\n",
      "0.018255340909442364\n",
      "KGJT_850mb_height_m+ KGJT_d850_700_height_m+ KGJT_200mb_height_m+ KGJT_d300_200_height_m+ KGJT_d250_200_height_m+ KGJT_d500_200_height_m+ KGJT_d400_200_height_m+ KGJT_d700_200_height_m+ CMtnSNTL_Temp_degC+ KGJT_d400_200_speed_kts+ KGJT_200mb_speed_kts+ KGJT_d250_200_speed_kts+ KGJT_d300_200_speed_kts+ KGJT_d700_200_speed_kts+ LXV_WindSpeed_mps+ KGJT_d700_250_height_m+ KGJT_300mb_height_m+ KGJT_d400_300_height_m+ KGJT_250mb_height_m+ KGJT_d700_300_height_m+ KGJT_d500_300_height_m+ KGJT_d500_250_height_m+ KGJT_d400_250_height_m+ LXV_Temperature_degC+ KGJT_700mb_speed_kts+ KGJT_d700_400_speed_kts+ KGJT_d700_250_speed_kts+ KGJT_d700_300_speed_kts+ KGJT_300mb_speed_kts+ KGJT_d400_250_speed_kts+ KGJT_400mb_speed_kts+ KGJT_d300_250_speed_kts+ KGJT_300mb_tmpc+ KGJT_d500_300_tmpc+ KGJT_d300_200_tmpc+ KGJT_d400_300_tmpc+ KGJT_d300_250_tmpc+ KGJT_d700_300_tmpc+ KGJT_d300_250_height_m+ LXV_12hr_delta_Pressure_hp+ KGJT_400mb_height_m+ KGJT_500mb_height_m+ KGJT_700mb_height_m+ LXV_Pressure_hp+ KGJT_500mb_dwpc+ KGJT_d700_400_tmpc+ KGJT_d500_200_tmpc+ KGJT_d700_500_height_m+ KGJT_700mb_tmpc+ KGJT_d700_500_tmpc+ KGJT_d500_400_tmpc+ KGJT_d500_250_tmpc+ KGJT_d700_200_tmpc+ KGJT_d700_250_tmpc+ KGJT_500mb_tmpc+ KGJT_d700_400_height_m+ CMtn_Temperature_degC+ KGJT_d700_400_dwpc+ KGJT_200mb_tmpc+ KGJT_400mb_tmpc+ KGJT_d250_200_tmpc+ KGJT_d400_250_tmpc+ LXV_Dewpoint_degC+ KGJT_d400_300_speed_kts+ KGJT_250mb_speed_kts+ CMtn_Dewpoint_degC+ KGJT_250mb_tmpc+ KGJT_d250_200_dwpc+ KGJT_d400_200_tmpc+ CMtn_WindSpeed_mps+ KGJT_d500_400_height_m\n",
      "0.018255340909439144\n",
      "KGJT_d850_300_height_m+ KGJT_850mb_height_m+ KGJT_d850_700_height_m+ KGJT_200mb_height_m+ KGJT_d300_200_height_m+ KGJT_d250_200_height_m+ KGJT_d500_200_height_m+ KGJT_d400_200_height_m+ KGJT_d700_200_height_m+ CMtnSNTL_Temp_degC+ KGJT_d400_200_speed_kts+ KGJT_200mb_speed_kts+ KGJT_d250_200_speed_kts+ KGJT_d300_200_speed_kts+ KGJT_d700_200_speed_kts+ LXV_WindSpeed_mps+ KGJT_d700_250_height_m+ KGJT_300mb_height_m+ KGJT_d400_300_height_m+ KGJT_250mb_height_m+ KGJT_d700_300_height_m+ KGJT_d500_300_height_m+ KGJT_d500_250_height_m+ KGJT_d400_250_height_m+ LXV_Temperature_degC+ KGJT_700mb_speed_kts+ KGJT_d700_400_speed_kts+ KGJT_d700_250_speed_kts+ KGJT_d700_300_speed_kts+ KGJT_300mb_speed_kts+ KGJT_d400_250_speed_kts+ KGJT_400mb_speed_kts+ KGJT_d300_250_speed_kts+ KGJT_300mb_tmpc+ KGJT_d500_300_tmpc+ KGJT_d300_200_tmpc+ KGJT_d400_300_tmpc+ KGJT_d300_250_tmpc+ KGJT_d700_300_tmpc+ KGJT_d300_250_height_m+ LXV_12hr_delta_Pressure_hp+ KGJT_400mb_height_m+ KGJT_500mb_height_m+ KGJT_700mb_height_m+ LXV_Pressure_hp+ KGJT_500mb_dwpc+ KGJT_d700_400_tmpc+ KGJT_d500_200_tmpc+ KGJT_d700_500_height_m+ KGJT_700mb_tmpc+ KGJT_d700_500_tmpc+ KGJT_d500_400_tmpc+ KGJT_d500_250_tmpc+ KGJT_d700_200_tmpc+ KGJT_d700_250_tmpc+ KGJT_500mb_tmpc+ KGJT_d700_400_height_m+ CMtn_Temperature_degC+ KGJT_d700_400_dwpc+ KGJT_200mb_tmpc+ KGJT_400mb_tmpc+ KGJT_d250_200_tmpc+ KGJT_d400_250_tmpc+ LXV_Dewpoint_degC+ KGJT_d400_300_speed_kts+ KGJT_250mb_speed_kts+ CMtn_Dewpoint_degC+ KGJT_250mb_tmpc+ KGJT_d250_200_dwpc+ KGJT_d400_200_tmpc+ CMtn_WindSpeed_mps+ KGJT_d500_400_height_m\n",
      "0.018255340909437145\n",
      "KGJT_d850_400_height_m+ KGJT_d850_300_height_m+ KGJT_850mb_height_m+ KGJT_d850_700_height_m+ KGJT_200mb_height_m+ KGJT_d300_200_height_m+ KGJT_d250_200_height_m+ KGJT_d500_200_height_m+ KGJT_d400_200_height_m+ KGJT_d700_200_height_m+ CMtnSNTL_Temp_degC+ KGJT_d400_200_speed_kts+ KGJT_200mb_speed_kts+ KGJT_d250_200_speed_kts+ KGJT_d300_200_speed_kts+ KGJT_d700_200_speed_kts+ LXV_WindSpeed_mps+ KGJT_d700_250_height_m+ KGJT_300mb_height_m+ KGJT_d400_300_height_m+ KGJT_250mb_height_m+ KGJT_d700_300_height_m+ KGJT_d500_300_height_m+ KGJT_d500_250_height_m+ KGJT_d400_250_height_m+ LXV_Temperature_degC+ KGJT_700mb_speed_kts+ KGJT_d700_400_speed_kts+ KGJT_d700_250_speed_kts+ KGJT_d700_300_speed_kts+ KGJT_300mb_speed_kts+ KGJT_d400_250_speed_kts+ KGJT_400mb_speed_kts+ KGJT_d300_250_speed_kts+ KGJT_300mb_tmpc+ KGJT_d500_300_tmpc+ KGJT_d300_200_tmpc+ KGJT_d400_300_tmpc+ KGJT_d300_250_tmpc+ KGJT_d700_300_tmpc+ KGJT_d300_250_height_m+ LXV_12hr_delta_Pressure_hp+ KGJT_400mb_height_m+ KGJT_500mb_height_m+ KGJT_700mb_height_m+ LXV_Pressure_hp+ KGJT_500mb_dwpc+ KGJT_d700_400_tmpc+ KGJT_d500_200_tmpc+ KGJT_d700_500_height_m+ KGJT_700mb_tmpc+ KGJT_d700_500_tmpc+ KGJT_d500_400_tmpc+ KGJT_d500_250_tmpc+ KGJT_d700_200_tmpc+ KGJT_d700_250_tmpc+ KGJT_500mb_tmpc+ KGJT_d700_400_height_m+ CMtn_Temperature_degC+ KGJT_d700_400_dwpc+ KGJT_200mb_tmpc+ KGJT_400mb_tmpc+ KGJT_d250_200_tmpc+ KGJT_d400_250_tmpc+ LXV_Dewpoint_degC+ KGJT_d400_300_speed_kts+ KGJT_250mb_speed_kts+ CMtn_Dewpoint_degC+ KGJT_250mb_tmpc+ KGJT_d250_200_dwpc+ KGJT_d400_200_tmpc+ CMtn_WindSpeed_mps+ KGJT_d500_400_height_m\n",
      "0.018255340909437145\n",
      "KGJT_d850_500_height_m+ KGJT_d850_400_height_m+ KGJT_d850_300_height_m+ KGJT_850mb_height_m+ KGJT_d850_700_height_m+ KGJT_200mb_height_m+ KGJT_d300_200_height_m+ KGJT_d250_200_height_m+ KGJT_d500_200_height_m+ KGJT_d400_200_height_m+ KGJT_d700_200_height_m+ CMtnSNTL_Temp_degC+ KGJT_d400_200_speed_kts+ KGJT_200mb_speed_kts+ KGJT_d250_200_speed_kts+ KGJT_d300_200_speed_kts+ KGJT_d700_200_speed_kts+ LXV_WindSpeed_mps+ KGJT_d700_250_height_m+ KGJT_300mb_height_m+ KGJT_d400_300_height_m+ KGJT_250mb_height_m+ KGJT_d700_300_height_m+ KGJT_d500_300_height_m+ KGJT_d500_250_height_m+ KGJT_d400_250_height_m+ LXV_Temperature_degC+ KGJT_700mb_speed_kts+ KGJT_d700_400_speed_kts+ KGJT_d700_250_speed_kts+ KGJT_d700_300_speed_kts+ KGJT_300mb_speed_kts+ KGJT_d400_250_speed_kts+ KGJT_400mb_speed_kts+ KGJT_d300_250_speed_kts+ KGJT_300mb_tmpc+ KGJT_d500_300_tmpc+ KGJT_d300_200_tmpc+ KGJT_d400_300_tmpc+ KGJT_d300_250_tmpc+ KGJT_d700_300_tmpc+ KGJT_d300_250_height_m+ LXV_12hr_delta_Pressure_hp+ KGJT_400mb_height_m+ KGJT_500mb_height_m+ KGJT_700mb_height_m+ LXV_Pressure_hp+ KGJT_500mb_dwpc+ KGJT_d700_400_tmpc+ KGJT_d500_200_tmpc+ KGJT_d700_500_height_m+ KGJT_700mb_tmpc+ KGJT_d700_500_tmpc+ KGJT_d500_400_tmpc+ KGJT_d500_250_tmpc+ KGJT_d700_200_tmpc+ KGJT_d700_250_tmpc+ KGJT_500mb_tmpc+ KGJT_d700_400_height_m+ CMtn_Temperature_degC+ KGJT_d700_400_dwpc+ KGJT_200mb_tmpc+ KGJT_400mb_tmpc+ KGJT_d250_200_tmpc+ KGJT_d400_250_tmpc+ LXV_Dewpoint_degC+ KGJT_d400_300_speed_kts+ KGJT_250mb_speed_kts+ CMtn_Dewpoint_degC+ KGJT_250mb_tmpc+ KGJT_d250_200_dwpc+ KGJT_d400_200_tmpc+ CMtn_WindSpeed_mps+ KGJT_d500_400_height_m\n",
      "0.018255340909434925\n"
     ]
    },
    {
     "name": "stdout",
     "output_type": "stream",
     "text": [
      "KGJT_d850_200_height_m+ KGJT_d850_500_height_m+ KGJT_d850_400_height_m+ KGJT_d850_300_height_m+ KGJT_850mb_height_m+ KGJT_d850_700_height_m+ KGJT_200mb_height_m+ KGJT_d300_200_height_m+ KGJT_d250_200_height_m+ KGJT_d500_200_height_m+ KGJT_d400_200_height_m+ KGJT_d700_200_height_m+ CMtnSNTL_Temp_degC+ KGJT_d400_200_speed_kts+ KGJT_200mb_speed_kts+ KGJT_d250_200_speed_kts+ KGJT_d300_200_speed_kts+ KGJT_d700_200_speed_kts+ LXV_WindSpeed_mps+ KGJT_d700_250_height_m+ KGJT_300mb_height_m+ KGJT_d400_300_height_m+ KGJT_250mb_height_m+ KGJT_d700_300_height_m+ KGJT_d500_300_height_m+ KGJT_d500_250_height_m+ KGJT_d400_250_height_m+ LXV_Temperature_degC+ KGJT_700mb_speed_kts+ KGJT_d700_400_speed_kts+ KGJT_d700_250_speed_kts+ KGJT_d700_300_speed_kts+ KGJT_300mb_speed_kts+ KGJT_d400_250_speed_kts+ KGJT_400mb_speed_kts+ KGJT_d300_250_speed_kts+ KGJT_300mb_tmpc+ KGJT_d500_300_tmpc+ KGJT_d300_200_tmpc+ KGJT_d400_300_tmpc+ KGJT_d300_250_tmpc+ KGJT_d700_300_tmpc+ KGJT_d300_250_height_m+ LXV_12hr_delta_Pressure_hp+ KGJT_400mb_height_m+ KGJT_500mb_height_m+ KGJT_700mb_height_m+ LXV_Pressure_hp+ KGJT_500mb_dwpc+ KGJT_d700_400_tmpc+ KGJT_d500_200_tmpc+ KGJT_d700_500_height_m+ KGJT_700mb_tmpc+ KGJT_d700_500_tmpc+ KGJT_d500_400_tmpc+ KGJT_d500_250_tmpc+ KGJT_d700_200_tmpc+ KGJT_d700_250_tmpc+ KGJT_500mb_tmpc+ KGJT_d700_400_height_m+ CMtn_Temperature_degC+ KGJT_d700_400_dwpc+ KGJT_200mb_tmpc+ KGJT_400mb_tmpc+ KGJT_d250_200_tmpc+ KGJT_d400_250_tmpc+ LXV_Dewpoint_degC+ KGJT_d400_300_speed_kts+ KGJT_250mb_speed_kts+ CMtn_Dewpoint_degC+ KGJT_250mb_tmpc+ KGJT_d250_200_dwpc+ KGJT_d400_200_tmpc+ CMtn_WindSpeed_mps+ KGJT_d500_400_height_m\n",
      "0.01825534090943548\n",
      "KGJT_d850_250_height_m+ KGJT_d850_200_height_m+ KGJT_d850_500_height_m+ KGJT_d850_400_height_m+ KGJT_d850_300_height_m+ KGJT_850mb_height_m+ KGJT_d850_700_height_m+ KGJT_200mb_height_m+ KGJT_d300_200_height_m+ KGJT_d250_200_height_m+ KGJT_d500_200_height_m+ KGJT_d400_200_height_m+ KGJT_d700_200_height_m+ CMtnSNTL_Temp_degC+ KGJT_d400_200_speed_kts+ KGJT_200mb_speed_kts+ KGJT_d250_200_speed_kts+ KGJT_d300_200_speed_kts+ KGJT_d700_200_speed_kts+ LXV_WindSpeed_mps+ KGJT_d700_250_height_m+ KGJT_300mb_height_m+ KGJT_d400_300_height_m+ KGJT_250mb_height_m+ KGJT_d700_300_height_m+ KGJT_d500_300_height_m+ KGJT_d500_250_height_m+ KGJT_d400_250_height_m+ LXV_Temperature_degC+ KGJT_700mb_speed_kts+ KGJT_d700_400_speed_kts+ KGJT_d700_250_speed_kts+ KGJT_d700_300_speed_kts+ KGJT_300mb_speed_kts+ KGJT_d400_250_speed_kts+ KGJT_400mb_speed_kts+ KGJT_d300_250_speed_kts+ KGJT_300mb_tmpc+ KGJT_d500_300_tmpc+ KGJT_d300_200_tmpc+ KGJT_d400_300_tmpc+ KGJT_d300_250_tmpc+ KGJT_d700_300_tmpc+ KGJT_d300_250_height_m+ LXV_12hr_delta_Pressure_hp+ KGJT_400mb_height_m+ KGJT_500mb_height_m+ KGJT_700mb_height_m+ LXV_Pressure_hp+ KGJT_500mb_dwpc+ KGJT_d700_400_tmpc+ KGJT_d500_200_tmpc+ KGJT_d700_500_height_m+ KGJT_700mb_tmpc+ KGJT_d700_500_tmpc+ KGJT_d500_400_tmpc+ KGJT_d500_250_tmpc+ KGJT_d700_200_tmpc+ KGJT_d700_250_tmpc+ KGJT_500mb_tmpc+ KGJT_d700_400_height_m+ CMtn_Temperature_degC+ KGJT_d700_400_dwpc+ KGJT_200mb_tmpc+ KGJT_400mb_tmpc+ KGJT_d250_200_tmpc+ KGJT_d400_250_tmpc+ LXV_Dewpoint_degC+ KGJT_d400_300_speed_kts+ KGJT_250mb_speed_kts+ CMtn_Dewpoint_degC+ KGJT_250mb_tmpc+ KGJT_d250_200_dwpc+ KGJT_d400_200_tmpc+ CMtn_WindSpeed_mps+ KGJT_d500_400_height_m\n",
      "0.01825534090943226\n",
      "KGJT_d500_300_dwpc+ KGJT_d850_250_height_m+ KGJT_d850_200_height_m+ KGJT_d850_500_height_m+ KGJT_d850_400_height_m+ KGJT_d850_300_height_m+ KGJT_850mb_height_m+ KGJT_d850_700_height_m+ KGJT_200mb_height_m+ KGJT_d300_200_height_m+ KGJT_d250_200_height_m+ KGJT_d500_200_height_m+ KGJT_d400_200_height_m+ KGJT_d700_200_height_m+ CMtnSNTL_Temp_degC+ KGJT_d400_200_speed_kts+ KGJT_200mb_speed_kts+ KGJT_d250_200_speed_kts+ KGJT_d300_200_speed_kts+ KGJT_d700_200_speed_kts+ LXV_WindSpeed_mps+ KGJT_d700_250_height_m+ KGJT_300mb_height_m+ KGJT_d400_300_height_m+ KGJT_250mb_height_m+ KGJT_d700_300_height_m+ KGJT_d500_300_height_m+ KGJT_d500_250_height_m+ KGJT_d400_250_height_m+ LXV_Temperature_degC+ KGJT_700mb_speed_kts+ KGJT_d700_400_speed_kts+ KGJT_d700_250_speed_kts+ KGJT_d700_300_speed_kts+ KGJT_300mb_speed_kts+ KGJT_d400_250_speed_kts+ KGJT_400mb_speed_kts+ KGJT_d300_250_speed_kts+ KGJT_300mb_tmpc+ KGJT_d500_300_tmpc+ KGJT_d300_200_tmpc+ KGJT_d400_300_tmpc+ KGJT_d300_250_tmpc+ KGJT_d700_300_tmpc+ KGJT_d300_250_height_m+ LXV_12hr_delta_Pressure_hp+ KGJT_400mb_height_m+ KGJT_500mb_height_m+ KGJT_700mb_height_m+ LXV_Pressure_hp+ KGJT_500mb_dwpc+ KGJT_d700_400_tmpc+ KGJT_d500_200_tmpc+ KGJT_d700_500_height_m+ KGJT_700mb_tmpc+ KGJT_d700_500_tmpc+ KGJT_d500_400_tmpc+ KGJT_d500_250_tmpc+ KGJT_d700_200_tmpc+ KGJT_d700_250_tmpc+ KGJT_500mb_tmpc+ KGJT_d700_400_height_m+ CMtn_Temperature_degC+ KGJT_d700_400_dwpc+ KGJT_200mb_tmpc+ KGJT_400mb_tmpc+ KGJT_d250_200_tmpc+ KGJT_d400_250_tmpc+ LXV_Dewpoint_degC+ KGJT_d400_300_speed_kts+ KGJT_250mb_speed_kts+ CMtn_Dewpoint_degC+ KGJT_250mb_tmpc+ KGJT_d250_200_dwpc+ KGJT_d400_200_tmpc+ CMtn_WindSpeed_mps+ KGJT_d500_400_height_m\n",
      "0.011172547547864453\n",
      "KGJT_300mb_dwpc+ KGJT_d500_300_dwpc+ KGJT_d850_250_height_m+ KGJT_d850_200_height_m+ KGJT_d850_500_height_m+ KGJT_d850_400_height_m+ KGJT_d850_300_height_m+ KGJT_850mb_height_m+ KGJT_d850_700_height_m+ KGJT_200mb_height_m+ KGJT_d300_200_height_m+ KGJT_d250_200_height_m+ KGJT_d500_200_height_m+ KGJT_d400_200_height_m+ KGJT_d700_200_height_m+ CMtnSNTL_Temp_degC+ KGJT_d400_200_speed_kts+ KGJT_200mb_speed_kts+ KGJT_d250_200_speed_kts+ KGJT_d300_200_speed_kts+ KGJT_d700_200_speed_kts+ LXV_WindSpeed_mps+ KGJT_d700_250_height_m+ KGJT_300mb_height_m+ KGJT_d400_300_height_m+ KGJT_250mb_height_m+ KGJT_d700_300_height_m+ KGJT_d500_300_height_m+ KGJT_d500_250_height_m+ KGJT_d400_250_height_m+ LXV_Temperature_degC+ KGJT_700mb_speed_kts+ KGJT_d700_400_speed_kts+ KGJT_d700_250_speed_kts+ KGJT_d700_300_speed_kts+ KGJT_300mb_speed_kts+ KGJT_d400_250_speed_kts+ KGJT_400mb_speed_kts+ KGJT_d300_250_speed_kts+ KGJT_300mb_tmpc+ KGJT_d500_300_tmpc+ KGJT_d300_200_tmpc+ KGJT_d400_300_tmpc+ KGJT_d300_250_tmpc+ KGJT_d700_300_tmpc+ KGJT_d300_250_height_m+ LXV_12hr_delta_Pressure_hp+ KGJT_400mb_height_m+ KGJT_500mb_height_m+ KGJT_700mb_height_m+ LXV_Pressure_hp+ KGJT_500mb_dwpc+ KGJT_d700_400_tmpc+ KGJT_d500_200_tmpc+ KGJT_d700_500_height_m+ KGJT_700mb_tmpc+ KGJT_d700_500_tmpc+ KGJT_d500_400_tmpc+ KGJT_d500_250_tmpc+ KGJT_d700_200_tmpc+ KGJT_d700_250_tmpc+ KGJT_500mb_tmpc+ KGJT_d700_400_height_m+ CMtn_Temperature_degC+ KGJT_d700_400_dwpc+ KGJT_200mb_tmpc+ KGJT_400mb_tmpc+ KGJT_d250_200_tmpc+ KGJT_d400_250_tmpc+ LXV_Dewpoint_degC+ KGJT_d400_300_speed_kts+ KGJT_250mb_speed_kts+ CMtn_Dewpoint_degC+ KGJT_250mb_tmpc+ KGJT_d250_200_dwpc+ KGJT_d400_200_tmpc+ CMtn_WindSpeed_mps+ KGJT_d500_400_height_m\n",
      "0.011172547547865341\n",
      "KGJT_d400_200_dwpc+ KGJT_300mb_dwpc+ KGJT_d500_300_dwpc+ KGJT_d850_250_height_m+ KGJT_d850_200_height_m+ KGJT_d850_500_height_m+ KGJT_d850_400_height_m+ KGJT_d850_300_height_m+ KGJT_850mb_height_m+ KGJT_d850_700_height_m+ KGJT_200mb_height_m+ KGJT_d300_200_height_m+ KGJT_d250_200_height_m+ KGJT_d500_200_height_m+ KGJT_d400_200_height_m+ KGJT_d700_200_height_m+ CMtnSNTL_Temp_degC+ KGJT_d400_200_speed_kts+ KGJT_200mb_speed_kts+ KGJT_d250_200_speed_kts+ KGJT_d300_200_speed_kts+ KGJT_d700_200_speed_kts+ LXV_WindSpeed_mps+ KGJT_d700_250_height_m+ KGJT_300mb_height_m+ KGJT_d400_300_height_m+ KGJT_250mb_height_m+ KGJT_d700_300_height_m+ KGJT_d500_300_height_m+ KGJT_d500_250_height_m+ KGJT_d400_250_height_m+ LXV_Temperature_degC+ KGJT_700mb_speed_kts+ KGJT_d700_400_speed_kts+ KGJT_d700_250_speed_kts+ KGJT_d700_300_speed_kts+ KGJT_300mb_speed_kts+ KGJT_d400_250_speed_kts+ KGJT_400mb_speed_kts+ KGJT_d300_250_speed_kts+ KGJT_300mb_tmpc+ KGJT_d500_300_tmpc+ KGJT_d300_200_tmpc+ KGJT_d400_300_tmpc+ KGJT_d300_250_tmpc+ KGJT_d700_300_tmpc+ KGJT_d300_250_height_m+ LXV_12hr_delta_Pressure_hp+ KGJT_400mb_height_m+ KGJT_500mb_height_m+ KGJT_700mb_height_m+ LXV_Pressure_hp+ KGJT_500mb_dwpc+ KGJT_d700_400_tmpc+ KGJT_d500_200_tmpc+ KGJT_d700_500_height_m+ KGJT_700mb_tmpc+ KGJT_d700_500_tmpc+ KGJT_d500_400_tmpc+ KGJT_d500_250_tmpc+ KGJT_d700_200_tmpc+ KGJT_d700_250_tmpc+ KGJT_500mb_tmpc+ KGJT_d700_400_height_m+ CMtn_Temperature_degC+ KGJT_d700_400_dwpc+ KGJT_200mb_tmpc+ KGJT_400mb_tmpc+ KGJT_d250_200_tmpc+ KGJT_d400_250_tmpc+ LXV_Dewpoint_degC+ KGJT_d400_300_speed_kts+ KGJT_250mb_speed_kts+ CMtn_Dewpoint_degC+ KGJT_250mb_tmpc+ KGJT_d250_200_dwpc+ KGJT_d400_200_tmpc+ CMtn_WindSpeed_mps+ KGJT_d500_400_height_m\n",
      "0.003961691728671557\n"
     ]
    },
    {
     "name": "stdout",
     "output_type": "stream",
     "text": [
      "KGJT_d700_200_dwpc+ KGJT_d400_200_dwpc+ KGJT_300mb_dwpc+ KGJT_d500_300_dwpc+ KGJT_d850_250_height_m+ KGJT_d850_200_height_m+ KGJT_d850_500_height_m+ KGJT_d850_400_height_m+ KGJT_d850_300_height_m+ KGJT_850mb_height_m+ KGJT_d850_700_height_m+ KGJT_200mb_height_m+ KGJT_d300_200_height_m+ KGJT_d250_200_height_m+ KGJT_d500_200_height_m+ KGJT_d400_200_height_m+ KGJT_d700_200_height_m+ CMtnSNTL_Temp_degC+ KGJT_d400_200_speed_kts+ KGJT_200mb_speed_kts+ KGJT_d250_200_speed_kts+ KGJT_d300_200_speed_kts+ KGJT_d700_200_speed_kts+ LXV_WindSpeed_mps+ KGJT_d700_250_height_m+ KGJT_300mb_height_m+ KGJT_d400_300_height_m+ KGJT_250mb_height_m+ KGJT_d700_300_height_m+ KGJT_d500_300_height_m+ KGJT_d500_250_height_m+ KGJT_d400_250_height_m+ LXV_Temperature_degC+ KGJT_700mb_speed_kts+ KGJT_d700_400_speed_kts+ KGJT_d700_250_speed_kts+ KGJT_d700_300_speed_kts+ KGJT_300mb_speed_kts+ KGJT_d400_250_speed_kts+ KGJT_400mb_speed_kts+ KGJT_d300_250_speed_kts+ KGJT_300mb_tmpc+ KGJT_d500_300_tmpc+ KGJT_d300_200_tmpc+ KGJT_d400_300_tmpc+ KGJT_d300_250_tmpc+ KGJT_d700_300_tmpc+ KGJT_d300_250_height_m+ LXV_12hr_delta_Pressure_hp+ KGJT_400mb_height_m+ KGJT_500mb_height_m+ KGJT_700mb_height_m+ LXV_Pressure_hp+ KGJT_500mb_dwpc+ KGJT_d700_400_tmpc+ KGJT_d500_200_tmpc+ KGJT_d700_500_height_m+ KGJT_700mb_tmpc+ KGJT_d700_500_tmpc+ KGJT_d500_400_tmpc+ KGJT_d500_250_tmpc+ KGJT_d700_200_tmpc+ KGJT_d700_250_tmpc+ KGJT_500mb_tmpc+ KGJT_d700_400_height_m+ CMtn_Temperature_degC+ KGJT_d700_400_dwpc+ KGJT_200mb_tmpc+ KGJT_400mb_tmpc+ KGJT_d250_200_tmpc+ KGJT_d400_250_tmpc+ LXV_Dewpoint_degC+ KGJT_d400_300_speed_kts+ KGJT_250mb_speed_kts+ CMtn_Dewpoint_degC+ KGJT_250mb_tmpc+ KGJT_d250_200_dwpc+ KGJT_d400_200_tmpc+ CMtn_WindSpeed_mps+ KGJT_d500_400_height_m\n",
      "0.0039616917286741105\n",
      "KGJT_d400_250_dwpc+ KGJT_d700_200_dwpc+ KGJT_d400_200_dwpc+ KGJT_300mb_dwpc+ KGJT_d500_300_dwpc+ KGJT_d850_250_height_m+ KGJT_d850_200_height_m+ KGJT_d850_500_height_m+ KGJT_d850_400_height_m+ KGJT_d850_300_height_m+ KGJT_850mb_height_m+ KGJT_d850_700_height_m+ KGJT_200mb_height_m+ KGJT_d300_200_height_m+ KGJT_d250_200_height_m+ KGJT_d500_200_height_m+ KGJT_d400_200_height_m+ KGJT_d700_200_height_m+ CMtnSNTL_Temp_degC+ KGJT_d400_200_speed_kts+ KGJT_200mb_speed_kts+ KGJT_d250_200_speed_kts+ KGJT_d300_200_speed_kts+ KGJT_d700_200_speed_kts+ LXV_WindSpeed_mps+ KGJT_d700_250_height_m+ KGJT_300mb_height_m+ KGJT_d400_300_height_m+ KGJT_250mb_height_m+ KGJT_d700_300_height_m+ KGJT_d500_300_height_m+ KGJT_d500_250_height_m+ KGJT_d400_250_height_m+ LXV_Temperature_degC+ KGJT_700mb_speed_kts+ KGJT_d700_400_speed_kts+ KGJT_d700_250_speed_kts+ KGJT_d700_300_speed_kts+ KGJT_300mb_speed_kts+ KGJT_d400_250_speed_kts+ KGJT_400mb_speed_kts+ KGJT_d300_250_speed_kts+ KGJT_300mb_tmpc+ KGJT_d500_300_tmpc+ KGJT_d300_200_tmpc+ KGJT_d400_300_tmpc+ KGJT_d300_250_tmpc+ KGJT_d700_300_tmpc+ KGJT_d300_250_height_m+ LXV_12hr_delta_Pressure_hp+ KGJT_400mb_height_m+ KGJT_500mb_height_m+ KGJT_700mb_height_m+ LXV_Pressure_hp+ KGJT_500mb_dwpc+ KGJT_d700_400_tmpc+ KGJT_d500_200_tmpc+ KGJT_d700_500_height_m+ KGJT_700mb_tmpc+ KGJT_d700_500_tmpc+ KGJT_d500_400_tmpc+ KGJT_d500_250_tmpc+ KGJT_d700_200_tmpc+ KGJT_d700_250_tmpc+ KGJT_500mb_tmpc+ KGJT_d700_400_height_m+ CMtn_Temperature_degC+ KGJT_d700_400_dwpc+ KGJT_200mb_tmpc+ KGJT_400mb_tmpc+ KGJT_d250_200_tmpc+ KGJT_d400_250_tmpc+ LXV_Dewpoint_degC+ KGJT_d400_300_speed_kts+ KGJT_250mb_speed_kts+ CMtn_Dewpoint_degC+ KGJT_250mb_tmpc+ KGJT_d250_200_dwpc+ KGJT_d400_200_tmpc+ CMtn_WindSpeed_mps+ KGJT_d500_400_height_m\n",
      "0.003961691728669781\n",
      "KGJT_d700_250_dwpc+ KGJT_d400_250_dwpc+ KGJT_d700_200_dwpc+ KGJT_d400_200_dwpc+ KGJT_300mb_dwpc+ KGJT_d500_300_dwpc+ KGJT_d850_250_height_m+ KGJT_d850_200_height_m+ KGJT_d850_500_height_m+ KGJT_d850_400_height_m+ KGJT_d850_300_height_m+ KGJT_850mb_height_m+ KGJT_d850_700_height_m+ KGJT_200mb_height_m+ KGJT_d300_200_height_m+ KGJT_d250_200_height_m+ KGJT_d500_200_height_m+ KGJT_d400_200_height_m+ KGJT_d700_200_height_m+ CMtnSNTL_Temp_degC+ KGJT_d400_200_speed_kts+ KGJT_200mb_speed_kts+ KGJT_d250_200_speed_kts+ KGJT_d300_200_speed_kts+ KGJT_d700_200_speed_kts+ LXV_WindSpeed_mps+ KGJT_d700_250_height_m+ KGJT_300mb_height_m+ KGJT_d400_300_height_m+ KGJT_250mb_height_m+ KGJT_d700_300_height_m+ KGJT_d500_300_height_m+ KGJT_d500_250_height_m+ KGJT_d400_250_height_m+ LXV_Temperature_degC+ KGJT_700mb_speed_kts+ KGJT_d700_400_speed_kts+ KGJT_d700_250_speed_kts+ KGJT_d700_300_speed_kts+ KGJT_300mb_speed_kts+ KGJT_d400_250_speed_kts+ KGJT_400mb_speed_kts+ KGJT_d300_250_speed_kts+ KGJT_300mb_tmpc+ KGJT_d500_300_tmpc+ KGJT_d300_200_tmpc+ KGJT_d400_300_tmpc+ KGJT_d300_250_tmpc+ KGJT_d700_300_tmpc+ KGJT_d300_250_height_m+ LXV_12hr_delta_Pressure_hp+ KGJT_400mb_height_m+ KGJT_500mb_height_m+ KGJT_700mb_height_m+ LXV_Pressure_hp+ KGJT_500mb_dwpc+ KGJT_d700_400_tmpc+ KGJT_d500_200_tmpc+ KGJT_d700_500_height_m+ KGJT_700mb_tmpc+ KGJT_d700_500_tmpc+ KGJT_d500_400_tmpc+ KGJT_d500_250_tmpc+ KGJT_d700_200_tmpc+ KGJT_d700_250_tmpc+ KGJT_500mb_tmpc+ KGJT_d700_400_height_m+ CMtn_Temperature_degC+ KGJT_d700_400_dwpc+ KGJT_200mb_tmpc+ KGJT_400mb_tmpc+ KGJT_d250_200_tmpc+ KGJT_d400_250_tmpc+ LXV_Dewpoint_degC+ KGJT_d400_300_speed_kts+ KGJT_250mb_speed_kts+ CMtn_Dewpoint_degC+ KGJT_250mb_tmpc+ KGJT_d250_200_dwpc+ KGJT_d400_200_tmpc+ CMtn_WindSpeed_mps+ KGJT_d500_400_height_m\n",
      "0.0039616917286642295\n",
      "KGJT_250mb_dwpc+ KGJT_d700_250_dwpc+ KGJT_d400_250_dwpc+ KGJT_d700_200_dwpc+ KGJT_d400_200_dwpc+ KGJT_300mb_dwpc+ KGJT_d500_300_dwpc+ KGJT_d850_250_height_m+ KGJT_d850_200_height_m+ KGJT_d850_500_height_m+ KGJT_d850_400_height_m+ KGJT_d850_300_height_m+ KGJT_850mb_height_m+ KGJT_d850_700_height_m+ KGJT_200mb_height_m+ KGJT_d300_200_height_m+ KGJT_d250_200_height_m+ KGJT_d500_200_height_m+ KGJT_d400_200_height_m+ KGJT_d700_200_height_m+ CMtnSNTL_Temp_degC+ KGJT_d400_200_speed_kts+ KGJT_200mb_speed_kts+ KGJT_d250_200_speed_kts+ KGJT_d300_200_speed_kts+ KGJT_d700_200_speed_kts+ LXV_WindSpeed_mps+ KGJT_d700_250_height_m+ KGJT_300mb_height_m+ KGJT_d400_300_height_m+ KGJT_250mb_height_m+ KGJT_d700_300_height_m+ KGJT_d500_300_height_m+ KGJT_d500_250_height_m+ KGJT_d400_250_height_m+ LXV_Temperature_degC+ KGJT_700mb_speed_kts+ KGJT_d700_400_speed_kts+ KGJT_d700_250_speed_kts+ KGJT_d700_300_speed_kts+ KGJT_300mb_speed_kts+ KGJT_d400_250_speed_kts+ KGJT_400mb_speed_kts+ KGJT_d300_250_speed_kts+ KGJT_300mb_tmpc+ KGJT_d500_300_tmpc+ KGJT_d300_200_tmpc+ KGJT_d400_300_tmpc+ KGJT_d300_250_tmpc+ KGJT_d700_300_tmpc+ KGJT_d300_250_height_m+ LXV_12hr_delta_Pressure_hp+ KGJT_400mb_height_m+ KGJT_500mb_height_m+ KGJT_700mb_height_m+ LXV_Pressure_hp+ KGJT_500mb_dwpc+ KGJT_d700_400_tmpc+ KGJT_d500_200_tmpc+ KGJT_d700_500_height_m+ KGJT_700mb_tmpc+ KGJT_d700_500_tmpc+ KGJT_d500_400_tmpc+ KGJT_d500_250_tmpc+ KGJT_d700_200_tmpc+ KGJT_d700_250_tmpc+ KGJT_500mb_tmpc+ KGJT_d700_400_height_m+ CMtn_Temperature_degC+ KGJT_d700_400_dwpc+ KGJT_200mb_tmpc+ KGJT_400mb_tmpc+ KGJT_d250_200_tmpc+ KGJT_d400_250_tmpc+ LXV_Dewpoint_degC+ KGJT_d400_300_speed_kts+ KGJT_250mb_speed_kts+ CMtn_Dewpoint_degC+ KGJT_250mb_tmpc+ KGJT_d250_200_dwpc+ KGJT_d400_200_tmpc+ CMtn_WindSpeed_mps+ KGJT_d500_400_height_m\n",
      "-0.0033609174052469104\n",
      "KGJT_d500_400_dwpc+ KGJT_250mb_dwpc+ KGJT_d700_250_dwpc+ KGJT_d400_250_dwpc+ KGJT_d700_200_dwpc+ KGJT_d400_200_dwpc+ KGJT_300mb_dwpc+ KGJT_d500_300_dwpc+ KGJT_d850_250_height_m+ KGJT_d850_200_height_m+ KGJT_d850_500_height_m+ KGJT_d850_400_height_m+ KGJT_d850_300_height_m+ KGJT_850mb_height_m+ KGJT_d850_700_height_m+ KGJT_200mb_height_m+ KGJT_d300_200_height_m+ KGJT_d250_200_height_m+ KGJT_d500_200_height_m+ KGJT_d400_200_height_m+ KGJT_d700_200_height_m+ CMtnSNTL_Temp_degC+ KGJT_d400_200_speed_kts+ KGJT_200mb_speed_kts+ KGJT_d250_200_speed_kts+ KGJT_d300_200_speed_kts+ KGJT_d700_200_speed_kts+ LXV_WindSpeed_mps+ KGJT_d700_250_height_m+ KGJT_300mb_height_m+ KGJT_d400_300_height_m+ KGJT_250mb_height_m+ KGJT_d700_300_height_m+ KGJT_d500_300_height_m+ KGJT_d500_250_height_m+ KGJT_d400_250_height_m+ LXV_Temperature_degC+ KGJT_700mb_speed_kts+ KGJT_d700_400_speed_kts+ KGJT_d700_250_speed_kts+ KGJT_d700_300_speed_kts+ KGJT_300mb_speed_kts+ KGJT_d400_250_speed_kts+ KGJT_400mb_speed_kts+ KGJT_d300_250_speed_kts+ KGJT_300mb_tmpc+ KGJT_d500_300_tmpc+ KGJT_d300_200_tmpc+ KGJT_d400_300_tmpc+ KGJT_d300_250_tmpc+ KGJT_d700_300_tmpc+ KGJT_d300_250_height_m+ LXV_12hr_delta_Pressure_hp+ KGJT_400mb_height_m+ KGJT_500mb_height_m+ KGJT_700mb_height_m+ LXV_Pressure_hp+ KGJT_500mb_dwpc+ KGJT_d700_400_tmpc+ KGJT_d500_200_tmpc+ KGJT_d700_500_height_m+ KGJT_700mb_tmpc+ KGJT_d700_500_tmpc+ KGJT_d500_400_tmpc+ KGJT_d500_250_tmpc+ KGJT_d700_200_tmpc+ KGJT_d700_250_tmpc+ KGJT_500mb_tmpc+ KGJT_d700_400_height_m+ CMtn_Temperature_degC+ KGJT_d700_400_dwpc+ KGJT_200mb_tmpc+ KGJT_400mb_tmpc+ KGJT_d250_200_tmpc+ KGJT_d400_250_tmpc+ LXV_Dewpoint_degC+ KGJT_d400_300_speed_kts+ KGJT_250mb_speed_kts+ CMtn_Dewpoint_degC+ KGJT_250mb_tmpc+ KGJT_d250_200_dwpc+ KGJT_d400_200_tmpc+ CMtn_WindSpeed_mps+ KGJT_d500_400_height_m\n",
      "-0.0033609174052469104\n"
     ]
    },
    {
     "name": "stdout",
     "output_type": "stream",
     "text": [
      "KGJT_d700_300_dwpc+ KGJT_d500_400_dwpc+ KGJT_250mb_dwpc+ KGJT_d700_250_dwpc+ KGJT_d400_250_dwpc+ KGJT_d700_200_dwpc+ KGJT_d400_200_dwpc+ KGJT_300mb_dwpc+ KGJT_d500_300_dwpc+ KGJT_d850_250_height_m+ KGJT_d850_200_height_m+ KGJT_d850_500_height_m+ KGJT_d850_400_height_m+ KGJT_d850_300_height_m+ KGJT_850mb_height_m+ KGJT_d850_700_height_m+ KGJT_200mb_height_m+ KGJT_d300_200_height_m+ KGJT_d250_200_height_m+ KGJT_d500_200_height_m+ KGJT_d400_200_height_m+ KGJT_d700_200_height_m+ CMtnSNTL_Temp_degC+ KGJT_d400_200_speed_kts+ KGJT_200mb_speed_kts+ KGJT_d250_200_speed_kts+ KGJT_d300_200_speed_kts+ KGJT_d700_200_speed_kts+ LXV_WindSpeed_mps+ KGJT_d700_250_height_m+ KGJT_300mb_height_m+ KGJT_d400_300_height_m+ KGJT_250mb_height_m+ KGJT_d700_300_height_m+ KGJT_d500_300_height_m+ KGJT_d500_250_height_m+ KGJT_d400_250_height_m+ LXV_Temperature_degC+ KGJT_700mb_speed_kts+ KGJT_d700_400_speed_kts+ KGJT_d700_250_speed_kts+ KGJT_d700_300_speed_kts+ KGJT_300mb_speed_kts+ KGJT_d400_250_speed_kts+ KGJT_400mb_speed_kts+ KGJT_d300_250_speed_kts+ KGJT_300mb_tmpc+ KGJT_d500_300_tmpc+ KGJT_d300_200_tmpc+ KGJT_d400_300_tmpc+ KGJT_d300_250_tmpc+ KGJT_d700_300_tmpc+ KGJT_d300_250_height_m+ LXV_12hr_delta_Pressure_hp+ KGJT_400mb_height_m+ KGJT_500mb_height_m+ KGJT_700mb_height_m+ LXV_Pressure_hp+ KGJT_500mb_dwpc+ KGJT_d700_400_tmpc+ KGJT_d500_200_tmpc+ KGJT_d700_500_height_m+ KGJT_700mb_tmpc+ KGJT_d700_500_tmpc+ KGJT_d500_400_tmpc+ KGJT_d500_250_tmpc+ KGJT_d700_200_tmpc+ KGJT_d700_250_tmpc+ KGJT_500mb_tmpc+ KGJT_d700_400_height_m+ CMtn_Temperature_degC+ KGJT_d700_400_dwpc+ KGJT_200mb_tmpc+ KGJT_400mb_tmpc+ KGJT_d250_200_tmpc+ KGJT_d400_250_tmpc+ LXV_Dewpoint_degC+ KGJT_d400_300_speed_kts+ KGJT_250mb_speed_kts+ CMtn_Dewpoint_degC+ KGJT_250mb_tmpc+ KGJT_d250_200_dwpc+ KGJT_d400_200_tmpc+ CMtn_WindSpeed_mps+ KGJT_d500_400_height_m\n",
      "-0.0033609174052524615\n",
      "KGJT_d500_200_dwpc+ KGJT_d700_300_dwpc+ KGJT_d500_400_dwpc+ KGJT_250mb_dwpc+ KGJT_d700_250_dwpc+ KGJT_d400_250_dwpc+ KGJT_d700_200_dwpc+ KGJT_d400_200_dwpc+ KGJT_300mb_dwpc+ KGJT_d500_300_dwpc+ KGJT_d850_250_height_m+ KGJT_d850_200_height_m+ KGJT_d850_500_height_m+ KGJT_d850_400_height_m+ KGJT_d850_300_height_m+ KGJT_850mb_height_m+ KGJT_d850_700_height_m+ KGJT_200mb_height_m+ KGJT_d300_200_height_m+ KGJT_d250_200_height_m+ KGJT_d500_200_height_m+ KGJT_d400_200_height_m+ KGJT_d700_200_height_m+ CMtnSNTL_Temp_degC+ KGJT_d400_200_speed_kts+ KGJT_200mb_speed_kts+ KGJT_d250_200_speed_kts+ KGJT_d300_200_speed_kts+ KGJT_d700_200_speed_kts+ LXV_WindSpeed_mps+ KGJT_d700_250_height_m+ KGJT_300mb_height_m+ KGJT_d400_300_height_m+ KGJT_250mb_height_m+ KGJT_d700_300_height_m+ KGJT_d500_300_height_m+ KGJT_d500_250_height_m+ KGJT_d400_250_height_m+ LXV_Temperature_degC+ KGJT_700mb_speed_kts+ KGJT_d700_400_speed_kts+ KGJT_d700_250_speed_kts+ KGJT_d700_300_speed_kts+ KGJT_300mb_speed_kts+ KGJT_d400_250_speed_kts+ KGJT_400mb_speed_kts+ KGJT_d300_250_speed_kts+ KGJT_300mb_tmpc+ KGJT_d500_300_tmpc+ KGJT_d300_200_tmpc+ KGJT_d400_300_tmpc+ KGJT_d300_250_tmpc+ KGJT_d700_300_tmpc+ KGJT_d300_250_height_m+ LXV_12hr_delta_Pressure_hp+ KGJT_400mb_height_m+ KGJT_500mb_height_m+ KGJT_700mb_height_m+ LXV_Pressure_hp+ KGJT_500mb_dwpc+ KGJT_d700_400_tmpc+ KGJT_d500_200_tmpc+ KGJT_d700_500_height_m+ KGJT_700mb_tmpc+ KGJT_d700_500_tmpc+ KGJT_d500_400_tmpc+ KGJT_d500_250_tmpc+ KGJT_d700_200_tmpc+ KGJT_d700_250_tmpc+ KGJT_500mb_tmpc+ KGJT_d700_400_height_m+ CMtn_Temperature_degC+ KGJT_d700_400_dwpc+ KGJT_200mb_tmpc+ KGJT_400mb_tmpc+ KGJT_d250_200_tmpc+ KGJT_d400_250_tmpc+ LXV_Dewpoint_degC+ KGJT_d400_300_speed_kts+ KGJT_250mb_speed_kts+ CMtn_Dewpoint_degC+ KGJT_250mb_tmpc+ KGJT_d250_200_dwpc+ KGJT_d400_200_tmpc+ CMtn_WindSpeed_mps+ KGJT_d500_400_height_m\n",
      "-0.0033609174052486868\n",
      "KGJT_200mb_dwpc+ KGJT_d500_200_dwpc+ KGJT_d700_300_dwpc+ KGJT_d500_400_dwpc+ KGJT_250mb_dwpc+ KGJT_d700_250_dwpc+ KGJT_d400_250_dwpc+ KGJT_d700_200_dwpc+ KGJT_d400_200_dwpc+ KGJT_300mb_dwpc+ KGJT_d500_300_dwpc+ KGJT_d850_250_height_m+ KGJT_d850_200_height_m+ KGJT_d850_500_height_m+ KGJT_d850_400_height_m+ KGJT_d850_300_height_m+ KGJT_850mb_height_m+ KGJT_d850_700_height_m+ KGJT_200mb_height_m+ KGJT_d300_200_height_m+ KGJT_d250_200_height_m+ KGJT_d500_200_height_m+ KGJT_d400_200_height_m+ KGJT_d700_200_height_m+ CMtnSNTL_Temp_degC+ KGJT_d400_200_speed_kts+ KGJT_200mb_speed_kts+ KGJT_d250_200_speed_kts+ KGJT_d300_200_speed_kts+ KGJT_d700_200_speed_kts+ LXV_WindSpeed_mps+ KGJT_d700_250_height_m+ KGJT_300mb_height_m+ KGJT_d400_300_height_m+ KGJT_250mb_height_m+ KGJT_d700_300_height_m+ KGJT_d500_300_height_m+ KGJT_d500_250_height_m+ KGJT_d400_250_height_m+ LXV_Temperature_degC+ KGJT_700mb_speed_kts+ KGJT_d700_400_speed_kts+ KGJT_d700_250_speed_kts+ KGJT_d700_300_speed_kts+ KGJT_300mb_speed_kts+ KGJT_d400_250_speed_kts+ KGJT_400mb_speed_kts+ KGJT_d300_250_speed_kts+ KGJT_300mb_tmpc+ KGJT_d500_300_tmpc+ KGJT_d300_200_tmpc+ KGJT_d400_300_tmpc+ KGJT_d300_250_tmpc+ KGJT_d700_300_tmpc+ KGJT_d300_250_height_m+ LXV_12hr_delta_Pressure_hp+ KGJT_400mb_height_m+ KGJT_500mb_height_m+ KGJT_700mb_height_m+ LXV_Pressure_hp+ KGJT_500mb_dwpc+ KGJT_d700_400_tmpc+ KGJT_d500_200_tmpc+ KGJT_d700_500_height_m+ KGJT_700mb_tmpc+ KGJT_d700_500_tmpc+ KGJT_d500_400_tmpc+ KGJT_d500_250_tmpc+ KGJT_d700_200_tmpc+ KGJT_d700_250_tmpc+ KGJT_500mb_tmpc+ KGJT_d700_400_height_m+ CMtn_Temperature_degC+ KGJT_d700_400_dwpc+ KGJT_200mb_tmpc+ KGJT_400mb_tmpc+ KGJT_d250_200_tmpc+ KGJT_d400_250_tmpc+ LXV_Dewpoint_degC+ KGJT_d400_300_speed_kts+ KGJT_250mb_speed_kts+ CMtn_Dewpoint_degC+ KGJT_250mb_tmpc+ KGJT_d250_200_dwpc+ KGJT_d400_200_tmpc+ CMtn_WindSpeed_mps+ KGJT_d500_400_height_m\n",
      "-0.003360917405244468\n"
     ]
    }
   ],
   "source": [
    "from collections import OrderedDict\n",
    "\n",
    "variables = good_vars\n",
    "variables_org = variables\n",
    "print(variables)\n",
    "\n",
    "print('******')\n",
    "adjRs = []\n",
    "newRs = []\n",
    "dup_var = []\n",
    "max_vars = []\n",
    "f_pvalues = []\n",
    "\n",
    "while variables != []:\n",
    "  #print(variables)\n",
    "  for var in variables:\n",
    "        \n",
    "    #print(variables)\n",
    "    max_var = max(variables, key = lambda v: ols('CMtnSNTL_Upcoming12hrSNOWFALL_gte3_in ~' + v, test_train_df[train_yrs_tt]).fit().rsquared_adj)    #this finds OLS model run with highest adj R squared\n",
    "    OLS = ols('CMtnSNTL_Upcoming12hrSNOWFALL_gte3_in ~' + max_var, test_train_df[train_yrs_tt]).fit()\n",
    "    print(max_var)\n",
    "    print(OLS.rsquared_adj)\n",
    "    \n",
    "    #Create lists of statistics for each combination of variables modeld\n",
    "    adjRs.append(OLS.rsquared_adj)\n",
    "    f_pvalues.append(OLS.f_pvalue)\n",
    "    max_vars.append(max_var)\n",
    "\n",
    "    add_max_var = '+ '+ max_var\n",
    "    \n",
    "    variables = [s + add_max_var for s in variables_org]\n",
    "    \n",
    "    #The above for loop naturally will create a duplicate variable, which should be removed\n",
    "    for v in variables_org: \n",
    "      dup_var = []\n",
    "      dup_var = [var for var in variables if var.count(v)>1]\n",
    "      if dup_var!=[]:\n",
    "            for dup in dup_var: variables.remove(dup)\n",
    "\n",
    "#combine the modeled variable sequences with respective stats  \n",
    "stats = list(zip(adjRs, f_pvalues))    # create list of tuples\n",
    "dictionary = OrderedDict(zip(max_vars, stats))\n",
    "#dictionary_adjRs = OrderedDict(zip(max_vars, f_pvalues))\n",
    "print(adjRs)\n",
    "print(max_vars)\n",
    "print(f_pvalues)\n",
    "print(dictionary)\n",
    "\n"
   ]
  },
  {
   "cell_type": "markdown",
   "metadata": {},
   "source": [
    "**Create plot of adjusted R squared**"
   ]
  },
  {
   "cell_type": "code",
   "execution_count": null,
   "metadata": {},
   "outputs": [],
   "source": [
    "plt.plot(adjRs)"
   ]
  },
  {
   "cell_type": "markdown",
   "metadata": {},
   "source": [
    "**Create plot of probabilities associated with the F statistic**"
   ]
  },
  {
   "cell_type": "code",
   "execution_count": null,
   "metadata": {},
   "outputs": [],
   "source": [
    "plt.plot(f_pvalues)"
   ]
  },
  {
   "cell_type": "markdown",
   "metadata": {},
   "source": [
    "**Print adjusted R and F stat probabilities in order**"
   ]
  },
  {
   "cell_type": "code",
   "execution_count": null,
   "metadata": {},
   "outputs": [],
   "source": [
    "\n",
    "\n",
    "for c in dictionary:\n",
    "    #print(str(dictionary.keys().index(c))+\"{country}: {capital}\".format(country=c, capital=dictionary[c])+\"\\n\")\n",
    "        print(str(list(dictionary.keys()).index(c))+ \" {key} \\n Adjusted R: {adjR}  Fstat(prob): {f_pvalue}\".format(key=c, adjR=dictionary[c][0], f_pvalue = dictionary[c][1])+\"\\n\")\n",
    "        OLS = ols('CMtnSNTL_Upcoming12hrSNOWFALL_gte3_in ~' + c, test_train_df[train_yrs_tt]).fit()\n",
    "\n"
   ]
  },
  {
   "cell_type": "markdown",
   "metadata": {},
   "source": [
    "**Find max adj R and obtain OLS summary**"
   ]
  },
  {
   "cell_type": "code",
   "execution_count": null,
   "metadata": {},
   "outputs": [],
   "source": [
    " # Just use 'min' instead of 'max' for minimum.\n",
    "print(\"Print maximum:\")\n",
    "maximum = max(dictionary, key=dictionary.get) \n",
    "print(maximum)"
   ]
  },
  {
   "cell_type": "code",
   "execution_count": null,
   "metadata": {},
   "outputs": [],
   "source": [
    "maximum_all_str = max(dictionary, key=dictionary.get) \n",
    "print(maximum_all_str)\n",
    "\n",
    "maxOLS_all = ols('CMtnSNTL_Upcoming12hrSNOWFALL_gte3_in ~' + maximum_all_str , test_train_df[train_yrs_tt]).fit() \n",
    "print(maxOLS_all.summary())\n"
   ]
  },
  {
   "cell_type": "markdown",
   "metadata": {},
   "source": [
    "**Print QQ plot**"
   ]
  },
  {
   "cell_type": "markdown",
   "metadata": {},
   "source": [
    "**There are a few variables with P|t| values which are high, indicative of high randomness. Let's test different P|t| thresholds for which to remove variables, rerun and model for each set of variables, and see what threshold might glean best results**"
   ]
  },
  {
   "cell_type": "code",
   "execution_count": null,
   "metadata": {},
   "outputs": [],
   "source": [
    "rsq_adj = 0\n",
    "thresh = 0\n",
    "\n",
    "goodp_str = \"\"\n",
    "highp_var = []\n",
    "\n",
    "maximum_all_str = max(dictionary, key=dictionary.get)    #this is the string of variables found in previous OLS run associated with mad adjusted R squared.\n",
    "print(maximum_all_str)\n",
    "\n",
    "\n",
    "for test_thresh in range(1, 100):   #loop through different P|t| thresholds ranging from 1 to 100.  Note floats are not allowed here \n",
    "  print(test_thresh)\n",
    "  highp_var = [var for var in maxOLS_all.pvalues.keys() if maxOLS_all.pvalues[var]>=test_thresh*0.01]  #check P|t| for each variable against threshold and store in list\n",
    "  \n",
    "  testgoodp_str = maximum_all_str   #reset testgoodp_str \n",
    "    \n",
    "  for var in highp_var:\n",
    "    testgoodp_str = testgoodp_str.replace(\"+ \" + var, \"\")   #  \n",
    "     \n",
    "\n",
    " \n",
    "\n",
    "  maxOLS_testgoodp = ols('CMtnSNTL_Upcoming12hrSNOWFALL_gte3_in ~' + testgoodp_str,test_train_df[train_yrs_tt]).fit()\n",
    "  print(testgoodp_str, maxOLS_testgoodp.rsquared_adj, test_thresh*0.01)\n",
    "  #print(maxOLS_testgoodp.rsquared_adj)\n",
    "  if maxOLS_testgoodp.rsquared_adj > rsq_adj:\n",
    "      rsq_adj = maxOLS_testgoodp.rsquared_adj\n",
    "      print(maxOLS_testgoodp.rsquared_adj, test_thresh*0.01)\n",
    "      goodp_str = testgoodp_str\n",
    "      thresh = test_thresh*0.01\n",
    "\n",
    "    \n",
    "print(\"\\n best threshold is:\" + str(thresh))\n",
    "maxOLS_goodp = ols('CMtnSNTL_Upcoming12hrSNOWFALL_gte3_in ~' + goodp_str,test_train_df[train_yrs_tt]).fit() \n",
    "print(maxOLS_goodp.summary())\n"
   ]
  },
  {
   "cell_type": "code",
   "execution_count": null,
   "metadata": {},
   "outputs": [],
   "source": [
    "import csv\n",
    "actual_snf = test_train_df[test_yrs_tt]['CMtnSNTL_Upcoming12hrSNOWFALL_gte3_in'][test_train_df[test_yrs_tt]['CMtnSNTL_Upcoming12hrSNOWFALL_gte3_in']>=3]\n",
    "predict_snf = maxOLS_goodp.predict(test_train_df[test_yrs_tt][test_train_df[test_yrs_tt]['CMtnSNTL_Upcoming12hrSNOWFALL_gte3_in']>=3])\n",
    "\n",
    "rows = zip(actual_snf, predict_snf)\n",
    "\n",
    "with open('C:/Users/RAPP/Documents/Capstone/Projects/OLS_UASFC_0617Train.csv', \"w\") as f:\n",
    "    writer = csv.writer(f)\n",
    "    for row in rows:\n",
    "        writer.writerow(row)"
   ]
  }
 ],
 "metadata": {
  "kernelspec": {
   "display_name": "Python 3",
   "language": "python",
   "name": "python3"
  },
  "language_info": {
   "codemirror_mode": {
    "name": "ipython",
    "version": 3
   },
   "file_extension": ".py",
   "mimetype": "text/x-python",
   "name": "python",
   "nbconvert_exporter": "python",
   "pygments_lexer": "ipython3",
   "version": "3.6.5"
  }
 },
 "nbformat": 4,
 "nbformat_minor": 2
}
