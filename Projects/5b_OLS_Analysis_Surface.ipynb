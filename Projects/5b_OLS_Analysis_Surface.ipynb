{
 "cells": [
  {
   "cell_type": "markdown",
   "metadata": {},
   "source": [
    "## Data Prep"
   ]
  },
  {
   "cell_type": "markdown",
   "metadata": {},
   "source": [
    "**Import necessary modules and the ASOS/SNOTEL dataframes**"
   ]
  },
  {
   "cell_type": "code",
   "execution_count": 1,
   "metadata": {},
   "outputs": [],
   "source": [
    "import pandas as pd\n",
    "import matplotlib.pyplot as plt\n",
    "import numpy as np\n",
    "import datetime as dtb\n",
    "import os\n",
    "from glob import glob\n",
    "import datetime as dt\n",
    "import seaborn as sns"
   ]
  },
  {
   "cell_type": "code",
   "execution_count": 2,
   "metadata": {},
   "outputs": [
    {
     "name": "stdout",
     "output_type": "stream",
     "text": [
      "Index(['CMtnSNTL_Temp_degC', 'CMtnSNTL_SnowDepth_in', 'CMtn_Temperature_degC',\n",
      "       'CMtn_Dewpoint_degC', 'CMtn_WindDirection_deg', 'CMtn_WindSpeed_mps',\n",
      "       'CMtn_CloudCover_oktas', 'CMtn_1hr_Precipitation_mm',\n",
      "       'LXV_Temperature_degC', 'LXV_Dewpoint_degC',\n",
      "       ...\n",
      "       'KGJT_d300_200_height_m', 'KGJT_d300_200_tmpc', 'KGJT_d300_200_dwpc',\n",
      "       'KGJT_d300_200_drct', 'KGJT_d300_200_speed_kts',\n",
      "       'KGJT_d250_200_height_m', 'KGJT_d250_200_tmpc', 'KGJT_d250_200_dwpc',\n",
      "       'KGJT_d250_200_drct', 'KGJT_d250_200_speed_kts'],\n",
      "      dtype='object', length=163)\n"
     ]
    }
   ],
   "source": [
    "data = [pd.read_csv('asos_snotel_UA_12hr_df.dat', parse_dates = True, index_col = 'Date_Time')]\n",
    "asos_snotel_UA_df = pd.concat(data)\n",
    "#asos_snotel_UA_df['LXV_WindSpeed_m/s']\n",
    "\n",
    "#asos_snotel_UA_df.rename(columns={'LXV_WindSpeed_m/s': 'LXV_WindSpeed_mps'}, inplace=True)\n",
    "\n",
    "asos_snotel_UA_df.astype('float16')\n",
    "pd.set_option('display.expand_frame_repr', True)\n",
    "\n",
    "\n",
    "print(asos_snotel_UA_df.keys())\n",
    "\n",
    "\n",
    "\n",
    "\n",
    "#delete empty columns as they mess up loops\n",
    "#del asos_snotel_UA_df['CMtn_6hr_Precipitation_mm']            #empty column\n"
   ]
  },
  {
   "cell_type": "markdown",
   "metadata": {},
   "source": [
    "It is important to keep in mind that 'CMtnSNTL_12hr_SNWD_in contains snow depth info taken at the start of the respective 12hr period timestamp.  The snowfall calculated also gives the snowfall that fell in the 12hrs after the timestamp.  The OLS model will utilize hourly meteorological measurements at exactly 00:00 and 12:00 hours to predict the amount of snow which will fall in the next 12 hour period.  For example, the 00:00 meteorological measurements will be used to predict the snow which fell between 00:00 and 12:00."
   ]
  },
  {
   "cell_type": "code",
   "execution_count": 3,
   "metadata": {},
   "outputs": [
    {
     "name": "stdout",
     "output_type": "stream",
     "text": [
      "count    8710.000000\n",
      "mean       -0.001883\n",
      "std         8.559429\n",
      "min       -30.600000\n",
      "25%        -6.270000\n",
      "50%         0.000000\n",
      "75%         7.300000\n",
      "max        19.100000\n",
      "Name: CMtnSNTL_Temp_degC, dtype: float64\n",
      "count    1405.000000\n",
      "mean        0.694235\n",
      "std         8.115662\n",
      "min       -28.100000\n",
      "25%        -4.800000\n",
      "50%         0.600000\n",
      "75%         7.500000\n",
      "max        18.300000\n",
      "Name: CMtnSNTL_Temp_degC, dtype: float64\n",
      "count    7303.000000\n",
      "mean       -0.132398\n",
      "std         8.634992\n",
      "min       -30.600000\n",
      "25%        -6.470000\n",
      "50%        -0.100000\n",
      "75%         7.250000\n",
      "max        19.100000\n",
      "Name: CMtnSNTL_Temp_degC, dtype: float64\n"
     ]
    }
   ],
   "source": [
    "#asos_snotel_UA_df['LXV_12hr_delta_Pressure_hp'] = asos_snotel_UA_df['LXV_Pressure_hp']-asos_snotel_UA_df['LXV_Pressure_hp'].shift(+12)\n",
    "#print(asos_snotel_UA_df['LXV_12hr_delta_Pressure_hp'].describe())\n",
    "all_yrs = (asos_snotel_UA_df.index >= '01-01-2006') & (asos_snotel_UA_df.index <= '12-31-2017')\n",
    "test_yrs = ((asos_snotel_UA_df.index >= '01-01-2006') & (asos_snotel_UA_df.index <= '12-31-2006')) | ((asos_snotel_UA_df.index >= '01-01-2017') & (asos_snotel_UA_df.index <= '12-31-2017'))\n",
    "train_yrs = (asos_snotel_UA_df.index >= '01-01-2007') & (asos_snotel_UA_df.index <= '12-31-2016')\n",
    "\n",
    "print(asos_snotel_UA_df[all_yrs]['CMtnSNTL_Temp_degC'].describe())\n",
    "print(asos_snotel_UA_df[test_yrs]['CMtnSNTL_Temp_degC'].describe())\n",
    "print(asos_snotel_UA_df[train_yrs]['CMtnSNTL_Temp_degC'].describe())"
   ]
  },
  {
   "cell_type": "markdown",
   "metadata": {},
   "source": [
    "***\n",
    "# OLS Analysis of meteorological variables and snowfall (Training Dataset: 2008-2017 only)"
   ]
  },
  {
   "cell_type": "markdown",
   "metadata": {},
   "source": [
    "**We will first utilize just the Copper Mountain surface level variables and run the model explicitly to generate statistics.  This will give snowfall predictive capability of individual meteorological variables (Dewpoint, SNOTEL Temperature, Temperature, Wind Speed, Cloud Cover, Wind Direction, 6hr Pressure change, and Pressure) using an OLS model and the 2008-2017 training dataset. The resulting values will also be used to verify some code which performs same analysis, but with a loop.  This code will then be fed all upper air and surface level variables to determine best combination of variables in the OLS model.**\n"
   ]
  },
  {
   "cell_type": "code",
   "execution_count": 4,
   "metadata": {},
   "outputs": [],
   "source": [
    "#Import statsmodel\n",
    "\n",
    "import statsmodels.api as sm\n",
    "#import statsmodel\n",
    "from statsmodels.formula.api import ols"
   ]
  },
  {
   "cell_type": "markdown",
   "metadata": {},
   "source": [
    "### Single Variable OLS (CMtn Surface Variables)\n"
   ]
  },
  {
   "cell_type": "code",
   "execution_count": 5,
   "metadata": {},
   "outputs": [
    {
     "name": "stdout",
     "output_type": "stream",
     "text": [
      "                                      OLS Regression Results                                     \n",
      "=================================================================================================\n",
      "Dep. Variable:     CMtnSNTL_Upcoming12hrSNOWFALL_gte3_in   R-squared:                       0.007\n",
      "Model:                                               OLS   Adj. R-squared:                  0.002\n",
      "Method:                                    Least Squares   F-statistic:                     1.425\n",
      "Date:                                   Thu, 07 Mar 2019   Prob (F-statistic):              0.234\n",
      "Time:                                           19:52:31   Log-Likelihood:                -441.11\n",
      "No. Observations:                                    210   AIC:                             886.2\n",
      "Df Residuals:                                        208   BIC:                             892.9\n",
      "Df Model:                                              1                                         \n",
      "Covariance Type:                               nonrobust                                         \n",
      "======================================================================================\n",
      "                         coef    std err          t      P>|t|      [0.025      0.975]\n",
      "--------------------------------------------------------------------------------------\n",
      "Intercept              4.9522      0.353     14.023      0.000       4.256       5.648\n",
      "CMtn_Dewpoint_degC     0.0400      0.033      1.194      0.234      -0.026       0.106\n",
      "==============================================================================\n",
      "Omnibus:                       99.013   Durbin-Watson:                   1.902\n",
      "Prob(Omnibus):                  0.000   Jarque-Bera (JB):              346.902\n",
      "Skew:                           1.994   Prob(JB):                     4.69e-76\n",
      "Kurtosis:                       7.873   Cond. No.                         27.4\n",
      "==============================================================================\n",
      "\n",
      "Warnings:\n",
      "[1] Standard Errors assume that the covariance matrix of the errors is correctly specified.\n",
      "\n",
      " ++++++++++++++++++++++++++++++++++++++++++++++++++++++++++++++++++++++++++++++++++ \n",
      "\n",
      "                                      OLS Regression Results                                     \n",
      "=================================================================================================\n",
      "Dep. Variable:     CMtnSNTL_Upcoming12hrSNOWFALL_gte3_in   R-squared:                       0.000\n",
      "Model:                                               OLS   Adj. R-squared:                 -0.003\n",
      "Method:                                    Least Squares   F-statistic:                   0.08391\n",
      "Date:                                   Thu, 07 Mar 2019   Prob (F-statistic):              0.772\n",
      "Time:                                           19:52:31   Log-Likelihood:                -606.12\n",
      "No. Observations:                                    283   AIC:                             1216.\n",
      "Df Residuals:                                        281   BIC:                             1224.\n",
      "Df Model:                                              1                                         \n",
      "Covariance Type:                               nonrobust                                         \n",
      "======================================================================================\n",
      "                         coef    std err          t      P>|t|      [0.025      0.975]\n",
      "--------------------------------------------------------------------------------------\n",
      "Intercept              4.6264      0.168     27.539      0.000       4.296       4.957\n",
      "CMtnSNTL_Temp_degC     0.0092      0.032      0.290      0.772      -0.053       0.071\n",
      "==============================================================================\n",
      "Omnibus:                      147.398   Durbin-Watson:                   1.878\n",
      "Prob(Omnibus):                  0.000   Jarque-Bera (JB):              713.834\n",
      "Skew:                           2.196   Prob(JB):                    9.84e-156\n",
      "Kurtosis:                       9.423   Cond. No.                         7.38\n",
      "==============================================================================\n",
      "\n",
      "Warnings:\n",
      "[1] Standard Errors assume that the covariance matrix of the errors is correctly specified.\n",
      "\n",
      " ++++++++++++++++++++++++++++++++++++++++++++++++++++++++++++++++++++++++++++++++++ \n",
      "\n",
      "                                      OLS Regression Results                                     \n",
      "=================================================================================================\n",
      "Dep. Variable:     CMtnSNTL_Upcoming12hrSNOWFALL_gte3_in   R-squared:                       0.000\n",
      "Model:                                               OLS   Adj. R-squared:                 -0.004\n",
      "Method:                                    Least Squares   F-statistic:                    0.1029\n",
      "Date:                                   Thu, 07 Mar 2019   Prob (F-statistic):              0.749\n",
      "Time:                                           19:52:31   Log-Likelihood:                -441.78\n",
      "No. Observations:                                    210   AIC:                             887.6\n",
      "Df Residuals:                                        208   BIC:                             894.3\n",
      "Df Model:                                              1                                         \n",
      "Covariance Type:                               nonrobust                                         \n",
      "=========================================================================================\n",
      "                            coef    std err          t      P>|t|      [0.025      0.975]\n",
      "-----------------------------------------------------------------------------------------\n",
      "Intercept                 4.6154      0.212     21.783      0.000       4.198       5.033\n",
      "CMtn_Temperature_degC     0.0109      0.034      0.321      0.749      -0.056       0.078\n",
      "==============================================================================\n",
      "Omnibus:                       98.376   Durbin-Watson:                   1.899\n",
      "Prob(Omnibus):                  0.000   Jarque-Bera (JB):              338.614\n",
      "Skew:                           1.989   Prob(JB):                     2.96e-74\n",
      "Kurtosis:                       7.783   Cond. No.                         9.75\n",
      "==============================================================================\n",
      "\n",
      "Warnings:\n",
      "[1] Standard Errors assume that the covariance matrix of the errors is correctly specified.\n",
      "\n",
      " ++++++++++++++++++++++++++++++++++++++++++++++++++++++++++++++++++++++++++++++++++ \n",
      "\n",
      "                                      OLS Regression Results                                     \n",
      "=================================================================================================\n",
      "Dep. Variable:     CMtnSNTL_Upcoming12hrSNOWFALL_gte3_in   R-squared:                       0.020\n",
      "Model:                                               OLS   Adj. R-squared:                  0.015\n",
      "Method:                                    Least Squares   F-statistic:                     4.126\n",
      "Date:                                   Thu, 07 Mar 2019   Prob (F-statistic):             0.0435\n",
      "Time:                                           19:52:31   Log-Likelihood:                -428.71\n",
      "No. Observations:                                    209   AIC:                             861.4\n",
      "Df Residuals:                                        207   BIC:                             868.1\n",
      "Df Model:                                              1                                         \n",
      "Covariance Type:                               nonrobust                                         \n",
      "======================================================================================\n",
      "                         coef    std err          t      P>|t|      [0.025      0.975]\n",
      "--------------------------------------------------------------------------------------\n",
      "Intercept              3.9340      0.318     12.361      0.000       3.307       4.561\n",
      "CMtn_WindSpeed_mps     0.0731      0.036      2.031      0.044       0.002       0.144\n",
      "==============================================================================\n",
      "Omnibus:                       94.322   Durbin-Watson:                   1.875\n",
      "Prob(Omnibus):                  0.000   Jarque-Bera (JB):              323.649\n",
      "Skew:                           1.900   Prob(JB):                     5.26e-71\n",
      "Kurtosis:                       7.768   Cond. No.                         21.8\n",
      "==============================================================================\n",
      "\n",
      "Warnings:\n",
      "[1] Standard Errors assume that the covariance matrix of the errors is correctly specified.\n",
      "\n",
      " ++++++++++++++++++++++++++++++++++++++++++++++++++++++++++++++++++++++++++++++++++ \n",
      "\n",
      "                                      OLS Regression Results                                     \n",
      "=================================================================================================\n",
      "Dep. Variable:     CMtnSNTL_Upcoming12hrSNOWFALL_gte3_in   R-squared:                       0.019\n",
      "Model:                                               OLS   Adj. R-squared:                  0.011\n",
      "Method:                                    Least Squares   F-statistic:                     2.337\n",
      "Date:                                   Thu, 07 Mar 2019   Prob (F-statistic):              0.129\n",
      "Time:                                           19:52:31   Log-Likelihood:                -239.44\n",
      "No. Observations:                                    121   AIC:                             482.9\n",
      "Df Residuals:                                        119   BIC:                             488.5\n",
      "Df Model:                                              1                                         \n",
      "Covariance Type:                               nonrobust                                         \n",
      "=========================================================================================\n",
      "                            coef    std err          t      P>|t|      [0.025      0.975]\n",
      "-----------------------------------------------------------------------------------------\n",
      "Intercept                 3.1650      0.764      4.141      0.000       1.652       4.678\n",
      "CMtn_CloudCover_oktas     0.1522      0.100      1.529      0.129      -0.045       0.349\n",
      "==============================================================================\n",
      "Omnibus:                       59.281   Durbin-Watson:                   2.003\n",
      "Prob(Omnibus):                  0.000   Jarque-Bera (JB):              173.992\n",
      "Skew:                           1.890   Prob(JB):                     1.65e-38\n",
      "Kurtosis:                       7.496   Cond. No.                         37.1\n",
      "==============================================================================\n",
      "\n",
      "Warnings:\n",
      "[1] Standard Errors assume that the covariance matrix of the errors is correctly specified.\n",
      "\n",
      " ++++++++++++++++++++++++++++++++++++++++++++++++++++++++++++++++++++++++++++++++++ \n",
      "\n",
      "                                      OLS Regression Results                                     \n",
      "=================================================================================================\n",
      "Dep. Variable:     CMtnSNTL_Upcoming12hrSNOWFALL_gte3_in   R-squared:                       0.000\n",
      "Model:                                               OLS   Adj. R-squared:                 -0.004\n",
      "Method:                                    Least Squares   F-statistic:                   0.09940\n",
      "Date:                                   Thu, 07 Mar 2019   Prob (F-statistic):              0.753\n",
      "Time:                                           19:52:31   Log-Likelihood:                -430.72\n",
      "No. Observations:                                    209   AIC:                             865.4\n",
      "Df Residuals:                                        207   BIC:                             872.1\n",
      "Df Model:                                              1                                         \n",
      "Covariance Type:                               nonrobust                                         \n",
      "==========================================================================================\n",
      "                             coef    std err          t      P>|t|      [0.025      0.975]\n",
      "------------------------------------------------------------------------------------------\n",
      "Intercept                  4.3506      0.564      7.719      0.000       3.239       5.462\n",
      "CMtn_WindDirection_deg     0.0007      0.002      0.315      0.753      -0.004       0.005\n",
      "==============================================================================\n",
      "Omnibus:                       93.525   Durbin-Watson:                   1.858\n",
      "Prob(Omnibus):                  0.000   Jarque-Bera (JB):              307.591\n",
      "Skew:                           1.906   Prob(JB):                     1.61e-67\n",
      "Kurtosis:                       7.560   Cond. No.                     1.03e+03\n",
      "==============================================================================\n",
      "\n",
      "Warnings:\n",
      "[1] Standard Errors assume that the covariance matrix of the errors is correctly specified.\n",
      "[2] The condition number is large, 1.03e+03. This might indicate that there are\n",
      "strong multicollinearity or other numerical problems.\n",
      "\n",
      " ++++++++++++++++++++++++++++++++++++++++++++++++++++++++++++++++++++++++++++++++++ \n",
      "\n",
      "                                      OLS Regression Results                                     \n",
      "=================================================================================================\n",
      "Dep. Variable:     CMtnSNTL_Upcoming12hrSNOWFALL_gte3_in   R-squared:                       0.026\n",
      "Model:                                               OLS   Adj. R-squared:                  0.022\n",
      "Method:                                    Least Squares   F-statistic:                     6.617\n",
      "Date:                                   Thu, 07 Mar 2019   Prob (F-statistic):             0.0107\n",
      "Time:                                           19:52:31   Log-Likelihood:                -537.24\n",
      "No. Observations:                                    248   AIC:                             1078.\n",
      "Df Residuals:                                        246   BIC:                             1086.\n",
      "Df Model:                                              1                                         \n",
      "Covariance Type:                               nonrobust                                         \n",
      "==============================================================================================\n",
      "                                 coef    std err          t      P>|t|      [0.025      0.975]\n",
      "----------------------------------------------------------------------------------------------\n",
      "Intercept                      4.4436      0.153     28.977      0.000       4.142       4.746\n",
      "LXV_12hr_delta_Pressure_hp    -0.0652      0.025     -2.572      0.011      -0.115      -0.015\n",
      "==============================================================================\n",
      "Omnibus:                      125.977   Durbin-Watson:                   1.904\n",
      "Prob(Omnibus):                  0.000   Jarque-Bera (JB):              547.171\n",
      "Skew:                           2.133   Prob(JB):                    1.53e-119\n",
      "Kurtosis:                       8.896   Cond. No.                         6.94\n",
      "==============================================================================\n",
      "\n",
      "Warnings:\n",
      "[1] Standard Errors assume that the covariance matrix of the errors is correctly specified.\n",
      "\n",
      " ++++++++++++++++++++++++++++++++++++++++++++++++++++++++++++++++++++++++++++++++++ \n",
      "\n",
      "                                      OLS Regression Results                                     \n",
      "=================================================================================================\n",
      "Dep. Variable:     CMtnSNTL_Upcoming12hrSNOWFALL_gte3_in   R-squared:                       0.002\n",
      "Model:                                               OLS   Adj. R-squared:                 -0.002\n",
      "Method:                                    Least Squares   F-statistic:                    0.4874\n",
      "Date:                                   Thu, 07 Mar 2019   Prob (F-statistic):              0.486\n",
      "Time:                                           19:52:31   Log-Likelihood:                -542.01\n",
      "No. Observations:                                    249   AIC:                             1088.\n",
      "Df Residuals:                                        247   BIC:                             1095.\n",
      "Df Model:                                              1                                         \n",
      "Covariance Type:                               nonrobust                                         \n",
      "===================================================================================\n",
      "                      coef    std err          t      P>|t|      [0.025      0.975]\n",
      "-----------------------------------------------------------------------------------\n",
      "Intercept          16.0875     16.412      0.980      0.328     -16.238      48.413\n",
      "LXV_Pressure_hp    -0.0114      0.016     -0.698      0.486      -0.044       0.021\n",
      "==============================================================================\n",
      "Omnibus:                      128.124   Durbin-Watson:                   1.882\n",
      "Prob(Omnibus):                  0.000   Jarque-Bera (JB):              561.978\n",
      "Skew:                           2.164   Prob(JB):                    9.29e-123\n",
      "Kurtosis:                       8.953   Cond. No.                     1.22e+05\n",
      "==============================================================================\n",
      "\n",
      "Warnings:\n",
      "[1] Standard Errors assume that the covariance matrix of the errors is correctly specified.\n",
      "[2] The condition number is large, 1.22e+05. This might indicate that there are\n",
      "strong multicollinearity or other numerical problems.\n",
      "\n",
      " ++++++++++++++++++++++++++++++++++++++++++++++++++++++++++++++++++++++++++++++++++ \n",
      "\n",
      "Intercept             4.952250\n",
      "CMtn_Dewpoint_degC    0.039955\n",
      "dtype: float64\n"
     ]
    }
   ],
   "source": [
    "\n",
    "\n",
    "OLS_CMtn_Dewpoint = ols('CMtnSNTL_Upcoming12hrSNOWFALL_gte3_in ~ CMtn_Dewpoint_degC',asos_snotel_UA_df[train_yrs]).fit()\n",
    "OLS_CMtnSNTL_Temp = ols('CMtnSNTL_Upcoming12hrSNOWFALL_gte3_in ~ CMtnSNTL_Temp_degC',asos_snotel_UA_df[train_yrs]).fit()\n",
    "OLS_CMtn_Temperature = ols('CMtnSNTL_Upcoming12hrSNOWFALL_gte3_in ~ CMtn_Temperature_degC',asos_snotel_UA_df[train_yrs]).fit()\n",
    "OLS_CMtn_WindSpeed = ols('CMtnSNTL_Upcoming12hrSNOWFALL_gte3_in ~ CMtn_WindSpeed_mps',asos_snotel_UA_df[train_yrs]).fit()\n",
    "OLS_CMtn_CloudCover = ols('CMtnSNTL_Upcoming12hrSNOWFALL_gte3_in ~ CMtn_CloudCover_oktas', asos_snotel_UA_df[train_yrs]).fit()\n",
    "OLS_CMtn_WindDirection = ols('CMtnSNTL_Upcoming12hrSNOWFALL_gte3_in ~ CMtn_WindDirection_deg', asos_snotel_UA_df[train_yrs]).fit()\n",
    "OLS_LXV_12hr_delta_Pressure = ols('CMtnSNTL_Upcoming12hrSNOWFALL_gte3_in ~ LXV_12hr_delta_Pressure_hp', asos_snotel_UA_df[train_yrs]).fit()\n",
    "OLS_LXV_Pressure = ols('CMtnSNTL_Upcoming12hrSNOWFALL_gte3_in ~ LXV_Pressure_hp', asos_snotel_UA_df[train_yrs]).fit()\n",
    "\n",
    "\n",
    "print(OLS_CMtn_Dewpoint.summary())\n",
    "print(\"\\n ++++++++++++++++++++++++++++++++++++++++++++++++++++++++++++++++++++++++++++++++++ \\n\")\n",
    "print(OLS_CMtnSNTL_Temp.summary())\n",
    "print(\"\\n ++++++++++++++++++++++++++++++++++++++++++++++++++++++++++++++++++++++++++++++++++ \\n\")\n",
    "print(OLS_CMtn_Temperature.summary())\n",
    "print(\"\\n ++++++++++++++++++++++++++++++++++++++++++++++++++++++++++++++++++++++++++++++++++ \\n\")\n",
    "print(OLS_CMtn_WindSpeed.summary())\n",
    "print(\"\\n ++++++++++++++++++++++++++++++++++++++++++++++++++++++++++++++++++++++++++++++++++ \\n\")\n",
    "print(OLS_CMtn_CloudCover.summary())\n",
    "print(\"\\n ++++++++++++++++++++++++++++++++++++++++++++++++++++++++++++++++++++++++++++++++++ \\n\")\n",
    "print(OLS_CMtn_WindDirection.summary())\n",
    "print(\"\\n ++++++++++++++++++++++++++++++++++++++++++++++++++++++++++++++++++++++++++++++++++ \\n\")\n",
    "print(OLS_LXV_12hr_delta_Pressure.summary())\n",
    "print(\"\\n ++++++++++++++++++++++++++++++++++++++++++++++++++++++++++++++++++++++++++++++++++ \\n\")\n",
    "print(OLS_LXV_Pressure.summary())\n",
    "print(\"\\n ++++++++++++++++++++++++++++++++++++++++++++++++++++++++++++++++++++++++++++++++++ \\n\")\n",
    "\n",
    "\n",
    "\n",
    "#['CMtnSNTL_Temp_degC', 'CMtnSNTL_SnowDepth_in', 'CMtn_Temperature_degC',\n",
    "#       'CMtn_Dewpoint_degC', 'CMtn_WindDirection_deg', 'CMtn_WindSpeed_mps',\n",
    "#       'CMtn_CloudCover_oktas', 'CMtn_1hr_Precipitation_mm',\n",
    "#       'LXV_Temperature_degC', 'LXV_Dewpoint_degC'\n",
    "\n",
    "\n",
    "#print(a.rsquared)\n",
    "#print(a.rsquared_adj)\n",
    "#print(a.rsquared_adj)\n",
    "#print(a.fvalue)\n",
    "#print(a.f_pvalue)\n",
    "#print(a.pvalues)\n",
    "print(OLS_CMtn_Dewpoint.params)\n",
    "#qq=sm.qqplot(a.resid, line='r')\n",
    "\n"
   ]
  },
  {
   "cell_type": "markdown",
   "metadata": {},
   "source": [
    "#### Single Variable Summary\n",
    "**Adjusted R:**  \n",
    "OLS_CMtn_Dewpoint: 0.007  \n",
    "OLS_CMtnSNTL_Temp:  -0.002 \n",
    "OLS_CMtn_Temperature: -0.005  \n",
    "OLS_CMtn_WindSpeed:  0.017  \n",
    "OLS_CMtn_CloudCover:  0.000  \n",
    "OLS_CMtn_WindDirection:  -0.004  \n",
    "OLS_LXV_6hr_delta_Pressure:   0.004  \n",
    "OLS_LXV_Pressure:    -0.003  \n",
    "\n",
    "**Prob (F-statistic):**  \n",
    "OLS_CMtn_Dewpoint: 0.139  \n",
    "OLS_CMtnSNTL_Temp: 0.483  \n",
    "OLS_CMtn_Temperature:  0.708  \n",
    "OLS_CMtn_WindSpeed:  0.0466  \n",
    "OLS_CMtn_CloudCover: 0.316 \n",
    "OLS_CMtn_WindDirection:   0.614  \n",
    "OLS_LXV_6hr_delta_Pressure:  0.155  \n",
    "OLS_LXV_Pressure:   0.550 \n",
    "  \n",
    "From this, we can glean that Dewpoint alone likely has the best fit as the adjusted R squared is the highest.  The F statistics such signficant correlations (at 5% confident interval) for only  Dewpoint and Pressure)."
   ]
  },
  {
   "cell_type": "markdown",
   "metadata": {},
   "source": [
    "## Run OLS model with all surface variables only"
   ]
  },
  {
   "cell_type": "code",
   "execution_count": 6,
   "metadata": {},
   "outputs": [
    {
     "name": "stdout",
     "output_type": "stream",
     "text": [
      "['CMtnSNTL_Temp_degC', 'CMtn_Temperature_degC', 'CMtn_Dewpoint_degC', 'CMtn_WindDirection_deg', 'CMtn_WindSpeed_mps', 'CMtn_CloudCover_oktas', 'LXV_Temperature_degC', 'LXV_Dewpoint_degC', 'LXV_Pressure_hp', 'LXV_WindSpeed_mps', 'LXV_WindDirection_deg', 'LXV_CloudCover_oktas', 'LXV_12hr_delta_Pressure_hp']\n",
      "******\n",
      "LXV_12hr_delta_Pressure_hp\n",
      "CMtn_WindSpeed_mps+ LXV_12hr_delta_Pressure_hp\n",
      "CMtn_Dewpoint_degC+ CMtn_WindSpeed_mps+ LXV_12hr_delta_Pressure_hp\n",
      "CMtn_WindDirection_deg+ CMtn_Dewpoint_degC+ CMtn_WindSpeed_mps+ LXV_12hr_delta_Pressure_hp\n",
      "LXV_Dewpoint_degC+ CMtn_WindDirection_deg+ CMtn_Dewpoint_degC+ CMtn_WindSpeed_mps+ LXV_12hr_delta_Pressure_hp\n",
      "LXV_WindSpeed_mps+ LXV_Dewpoint_degC+ CMtn_WindDirection_deg+ CMtn_Dewpoint_degC+ CMtn_WindSpeed_mps+ LXV_12hr_delta_Pressure_hp\n",
      "CMtn_Temperature_degC+ LXV_WindSpeed_mps+ LXV_Dewpoint_degC+ CMtn_WindDirection_deg+ CMtn_Dewpoint_degC+ CMtn_WindSpeed_mps+ LXV_12hr_delta_Pressure_hp\n",
      "LXV_Temperature_degC+ CMtn_Temperature_degC+ LXV_WindSpeed_mps+ LXV_Dewpoint_degC+ CMtn_WindDirection_deg+ CMtn_Dewpoint_degC+ CMtn_WindSpeed_mps+ LXV_12hr_delta_Pressure_hp\n",
      "LXV_Pressure_hp+ LXV_Temperature_degC+ CMtn_Temperature_degC+ LXV_WindSpeed_mps+ LXV_Dewpoint_degC+ CMtn_WindDirection_deg+ CMtn_Dewpoint_degC+ CMtn_WindSpeed_mps+ LXV_12hr_delta_Pressure_hp\n",
      "CMtnSNTL_Temp_degC+ LXV_Pressure_hp+ LXV_Temperature_degC+ CMtn_Temperature_degC+ LXV_WindSpeed_mps+ LXV_Dewpoint_degC+ CMtn_WindDirection_deg+ CMtn_Dewpoint_degC+ CMtn_WindSpeed_mps+ LXV_12hr_delta_Pressure_hp\n",
      "LXV_WindDirection_deg+ CMtnSNTL_Temp_degC+ LXV_Pressure_hp+ LXV_Temperature_degC+ CMtn_Temperature_degC+ LXV_WindSpeed_mps+ LXV_Dewpoint_degC+ CMtn_WindDirection_deg+ CMtn_Dewpoint_degC+ CMtn_WindSpeed_mps+ LXV_12hr_delta_Pressure_hp\n",
      "CMtn_CloudCover_oktas+ LXV_WindDirection_deg+ CMtnSNTL_Temp_degC+ LXV_Pressure_hp+ LXV_Temperature_degC+ CMtn_Temperature_degC+ LXV_WindSpeed_mps+ LXV_Dewpoint_degC+ CMtn_WindDirection_deg+ CMtn_Dewpoint_degC+ CMtn_WindSpeed_mps+ LXV_12hr_delta_Pressure_hp\n",
      "LXV_CloudCover_oktas+ CMtn_CloudCover_oktas+ LXV_WindDirection_deg+ CMtnSNTL_Temp_degC+ LXV_Pressure_hp+ LXV_Temperature_degC+ CMtn_Temperature_degC+ LXV_WindSpeed_mps+ LXV_Dewpoint_degC+ CMtn_WindDirection_deg+ CMtn_Dewpoint_degC+ CMtn_WindSpeed_mps+ LXV_12hr_delta_Pressure_hp\n",
      "[0.022236455335143734, 0.034295356135126354, 0.04429241266469841, 0.04209930311720922, 0.038158996981246585, 0.0336387864903418, 0.028668496924133646, 0.0265360664591221, 0.021212101517951387, 0.015488634692257364, 0.009672148479281217, -0.026357318026523302, -0.05248593599071505]\n",
      "['LXV_12hr_delta_Pressure_hp', 'CMtn_WindSpeed_mps+ LXV_12hr_delta_Pressure_hp', 'CMtn_Dewpoint_degC+ CMtn_WindSpeed_mps+ LXV_12hr_delta_Pressure_hp', 'CMtn_WindDirection_deg+ CMtn_Dewpoint_degC+ CMtn_WindSpeed_mps+ LXV_12hr_delta_Pressure_hp', 'LXV_Dewpoint_degC+ CMtn_WindDirection_deg+ CMtn_Dewpoint_degC+ CMtn_WindSpeed_mps+ LXV_12hr_delta_Pressure_hp', 'LXV_WindSpeed_mps+ LXV_Dewpoint_degC+ CMtn_WindDirection_deg+ CMtn_Dewpoint_degC+ CMtn_WindSpeed_mps+ LXV_12hr_delta_Pressure_hp', 'CMtn_Temperature_degC+ LXV_WindSpeed_mps+ LXV_Dewpoint_degC+ CMtn_WindDirection_deg+ CMtn_Dewpoint_degC+ CMtn_WindSpeed_mps+ LXV_12hr_delta_Pressure_hp', 'LXV_Temperature_degC+ CMtn_Temperature_degC+ LXV_WindSpeed_mps+ LXV_Dewpoint_degC+ CMtn_WindDirection_deg+ CMtn_Dewpoint_degC+ CMtn_WindSpeed_mps+ LXV_12hr_delta_Pressure_hp', 'LXV_Pressure_hp+ LXV_Temperature_degC+ CMtn_Temperature_degC+ LXV_WindSpeed_mps+ LXV_Dewpoint_degC+ CMtn_WindDirection_deg+ CMtn_Dewpoint_degC+ CMtn_WindSpeed_mps+ LXV_12hr_delta_Pressure_hp', 'CMtnSNTL_Temp_degC+ LXV_Pressure_hp+ LXV_Temperature_degC+ CMtn_Temperature_degC+ LXV_WindSpeed_mps+ LXV_Dewpoint_degC+ CMtn_WindDirection_deg+ CMtn_Dewpoint_degC+ CMtn_WindSpeed_mps+ LXV_12hr_delta_Pressure_hp', 'LXV_WindDirection_deg+ CMtnSNTL_Temp_degC+ LXV_Pressure_hp+ LXV_Temperature_degC+ CMtn_Temperature_degC+ LXV_WindSpeed_mps+ LXV_Dewpoint_degC+ CMtn_WindDirection_deg+ CMtn_Dewpoint_degC+ CMtn_WindSpeed_mps+ LXV_12hr_delta_Pressure_hp', 'CMtn_CloudCover_oktas+ LXV_WindDirection_deg+ CMtnSNTL_Temp_degC+ LXV_Pressure_hp+ LXV_Temperature_degC+ CMtn_Temperature_degC+ LXV_WindSpeed_mps+ LXV_Dewpoint_degC+ CMtn_WindDirection_deg+ CMtn_Dewpoint_degC+ CMtn_WindSpeed_mps+ LXV_12hr_delta_Pressure_hp', 'LXV_CloudCover_oktas+ CMtn_CloudCover_oktas+ LXV_WindDirection_deg+ CMtnSNTL_Temp_degC+ LXV_Pressure_hp+ LXV_Temperature_degC+ CMtn_Temperature_degC+ LXV_WindSpeed_mps+ LXV_Dewpoint_degC+ CMtn_WindDirection_deg+ CMtn_Dewpoint_degC+ CMtn_WindSpeed_mps+ LXV_12hr_delta_Pressure_hp']\n",
      "[0.010686928774896123, 0.016860216110463188, 0.011840167770191997, 0.02105793552464143, 0.03764630917434746, 0.06301952563257901, 0.09941154690477745, 0.12511809691467896, 0.17824269215271413, 0.2443645239104593, 0.31938660972461147, 0.6440400054087423, 0.7998251880578628]\n",
      "OrderedDict([('LXV_12hr_delta_Pressure_hp', (0.022236455335143734, 0.010686928774896123)), ('CMtn_WindSpeed_mps+ LXV_12hr_delta_Pressure_hp', (0.034295356135126354, 0.016860216110463188)), ('CMtn_Dewpoint_degC+ CMtn_WindSpeed_mps+ LXV_12hr_delta_Pressure_hp', (0.04429241266469841, 0.011840167770191997)), ('CMtn_WindDirection_deg+ CMtn_Dewpoint_degC+ CMtn_WindSpeed_mps+ LXV_12hr_delta_Pressure_hp', (0.04209930311720922, 0.02105793552464143)), ('LXV_Dewpoint_degC+ CMtn_WindDirection_deg+ CMtn_Dewpoint_degC+ CMtn_WindSpeed_mps+ LXV_12hr_delta_Pressure_hp', (0.038158996981246585, 0.03764630917434746)), ('LXV_WindSpeed_mps+ LXV_Dewpoint_degC+ CMtn_WindDirection_deg+ CMtn_Dewpoint_degC+ CMtn_WindSpeed_mps+ LXV_12hr_delta_Pressure_hp', (0.0336387864903418, 0.06301952563257901)), ('CMtn_Temperature_degC+ LXV_WindSpeed_mps+ LXV_Dewpoint_degC+ CMtn_WindDirection_deg+ CMtn_Dewpoint_degC+ CMtn_WindSpeed_mps+ LXV_12hr_delta_Pressure_hp', (0.028668496924133646, 0.09941154690477745)), ('LXV_Temperature_degC+ CMtn_Temperature_degC+ LXV_WindSpeed_mps+ LXV_Dewpoint_degC+ CMtn_WindDirection_deg+ CMtn_Dewpoint_degC+ CMtn_WindSpeed_mps+ LXV_12hr_delta_Pressure_hp', (0.0265360664591221, 0.12511809691467896)), ('LXV_Pressure_hp+ LXV_Temperature_degC+ CMtn_Temperature_degC+ LXV_WindSpeed_mps+ LXV_Dewpoint_degC+ CMtn_WindDirection_deg+ CMtn_Dewpoint_degC+ CMtn_WindSpeed_mps+ LXV_12hr_delta_Pressure_hp', (0.021212101517951387, 0.17824269215271413)), ('CMtnSNTL_Temp_degC+ LXV_Pressure_hp+ LXV_Temperature_degC+ CMtn_Temperature_degC+ LXV_WindSpeed_mps+ LXV_Dewpoint_degC+ CMtn_WindDirection_deg+ CMtn_Dewpoint_degC+ CMtn_WindSpeed_mps+ LXV_12hr_delta_Pressure_hp', (0.015488634692257364, 0.2443645239104593)), ('LXV_WindDirection_deg+ CMtnSNTL_Temp_degC+ LXV_Pressure_hp+ LXV_Temperature_degC+ CMtn_Temperature_degC+ LXV_WindSpeed_mps+ LXV_Dewpoint_degC+ CMtn_WindDirection_deg+ CMtn_Dewpoint_degC+ CMtn_WindSpeed_mps+ LXV_12hr_delta_Pressure_hp', (0.009672148479281217, 0.31938660972461147)), ('CMtn_CloudCover_oktas+ LXV_WindDirection_deg+ CMtnSNTL_Temp_degC+ LXV_Pressure_hp+ LXV_Temperature_degC+ CMtn_Temperature_degC+ LXV_WindSpeed_mps+ LXV_Dewpoint_degC+ CMtn_WindDirection_deg+ CMtn_Dewpoint_degC+ CMtn_WindSpeed_mps+ LXV_12hr_delta_Pressure_hp', (-0.026357318026523302, 0.6440400054087423)), ('LXV_CloudCover_oktas+ CMtn_CloudCover_oktas+ LXV_WindDirection_deg+ CMtnSNTL_Temp_degC+ LXV_Pressure_hp+ LXV_Temperature_degC+ CMtn_Temperature_degC+ LXV_WindSpeed_mps+ LXV_Dewpoint_degC+ CMtn_WindDirection_deg+ CMtn_Dewpoint_degC+ CMtn_WindSpeed_mps+ LXV_12hr_delta_Pressure_hp', (-0.05248593599071505, 0.7998251880578628))])\n"
     ]
    }
   ],
   "source": [
    "#'CMtn_1hr_Precipitation_mm', 'CMtn_6hr_Precipitation_mm'\n",
    "\n",
    "\n",
    "variables = ['CMtnSNTL_Temp_degC', 'CMtn_Temperature_degC', 'CMtn_Dewpoint_degC', 'CMtn_WindDirection_deg', 'CMtn_WindSpeed_mps', 'CMtn_CloudCover_oktas', \\\n",
    " 'LXV_Temperature_degC', 'LXV_Dewpoint_degC', 'LXV_Pressure_hp', 'LXV_WindSpeed_mps', 'LXV_WindDirection_deg', 'LXV_CloudCover_oktas', 'LXV_12hr_delta_Pressure_hp']\n",
    "from collections import OrderedDict\n",
    "\n",
    "variables_org = variables\n",
    "print(variables)\n",
    "\n",
    "print('******')\n",
    "adjRs = []\n",
    "newRs = []\n",
    "dup_var = []\n",
    "max_vars = []\n",
    "f_pvalues = []\n",
    "\n",
    "while variables != []:\n",
    "  #print(variables)\n",
    "  for var in variables:\n",
    "\n",
    "        \n",
    "    #print(variables)\n",
    "    max_var = max(variables, key = lambda v: ols('CMtnSNTL_Upcoming12hrSNOWFALL_gte3_in ~' + v, asos_snotel_UA_df[train_yrs]).fit().rsquared_adj)    #this finds OLS model run with highest adj R squared\n",
    "    OLS = ols('CMtnSNTL_Upcoming12hrSNOWFALL_gte3_in ~' + max_var, asos_snotel_UA_df[train_yrs]).fit()\n",
    "    \n",
    "    print(max_var)\n",
    "    #print(max_var)\n",
    "    #print(OLS.rsquared)\n",
    "    \n",
    "    #Create lists of statistics for each combination of variables modeld\n",
    "    adjRs.append(OLS.rsquared_adj)\n",
    "    f_pvalues.append(OLS.f_pvalue)\n",
    "    max_vars.append(max_var)\n",
    "\n",
    "    add_max_var = '+ '+ max_var\n",
    "    \n",
    "    variables = [s + add_max_var for s in variables_org]\n",
    "    \n",
    "    #The above for loop naturally will create a duplicate variable, which should be removed\n",
    "    for v in variables_org: \n",
    "      dup_var = []\n",
    "      dup_var = [var for var in variables if var.count(v)>1]\n",
    "      if dup_var!=[]:\n",
    "            for dup in dup_var: variables.remove(dup)\n",
    "\n",
    "#combine the modeled variable sequences with respective stats  \n",
    "stats = list(zip(adjRs, f_pvalues))    # create list of tuples\n",
    "dictionary = OrderedDict(zip(max_vars, stats))\n",
    "#dictionary_adjRs = OrderedDict(zip(max_vars, f_pvalues))\n",
    "print(adjRs)\n",
    "print(max_vars)\n",
    "print(f_pvalues)\n",
    "print(dictionary)\n"
   ]
  },
  {
   "cell_type": "code",
   "execution_count": 7,
   "metadata": {},
   "outputs": [
    {
     "data": {
      "text/plain": [
       "[<matplotlib.lines.Line2D at 0xf318f70>]"
      ]
     },
     "execution_count": 7,
     "metadata": {},
     "output_type": "execute_result"
    },
    {
     "data": {
      "image/png": "[encoded data removed]",
      "text/plain": [
       "<Figure size 432x288 with 1 Axes>"
      ]
     },
     "metadata": {},
     "output_type": "display_data"
    }
   ],
   "source": [
    "plt.plot(adjRs)"
   ]
  },
  {
   "cell_type": "code",
   "execution_count": 8,
   "metadata": {},
   "outputs": [
    {
     "data": {
      "text/plain": [
       "[<matplotlib.lines.Line2D at 0xf3ea970>]"
      ]
     },
     "execution_count": 8,
     "metadata": {},
     "output_type": "execute_result"
    },
    {
     "data": {
      "image/png": "[encoded data removed]",
      "text/plain": [
       "<Figure size 432x288 with 1 Axes>"
      ]
     },
     "metadata": {},
     "output_type": "display_data"
    }
   ],
   "source": [
    "plt.plot(f_pvalues)"
   ]
  },
  {
   "cell_type": "code",
   "execution_count": 9,
   "metadata": {},
   "outputs": [
    {
     "name": "stdout",
     "output_type": "stream",
     "text": [
      "Variables with >= 67% data match to snowfall: \n",
      "['CMtnSNTL_Temp_degC', 'CMtn_Temperature_degC', 'CMtn_Dewpoint_degC', 'CMtn_WindDirection_deg', 'CMtn_WindSpeed_mps', 'LXV_Temperature_degC', 'LXV_Dewpoint_degC', 'LXV_Pressure_hp', 'LXV_WindSpeed_mps', 'LXV_WindDirection_deg', 'LXV_12hr_delta_Pressure_hp']\n",
      "Variables with < 67% data match to snowfall: \n",
      "['CMtn_CloudCover_oktas', 'LXV_CloudCover_oktas']\n"
     ]
    }
   ],
   "source": [
    "variables = ['CMtnSNTL_Temp_degC', 'CMtn_Temperature_degC', 'CMtn_Dewpoint_degC', 'CMtn_WindDirection_deg', 'CMtn_WindSpeed_mps', 'CMtn_CloudCover_oktas', \\\n",
    " 'LXV_Temperature_degC', 'LXV_Dewpoint_degC', 'LXV_Pressure_hp', 'LXV_WindSpeed_mps', 'LXV_WindDirection_deg', 'LXV_CloudCover_oktas', 'LXV_12hr_delta_Pressure_hp']\n",
    "\n",
    "good_vars = []\n",
    "bad_vars = []\n",
    "for var in variables:\n",
    "    idx = np.isfinite(asos_snotel_UA_df[train_yrs]['CMtnSNTL_Upcoming12hrSNOWFALL_gte3_in']) & np.isfinite(asos_snotel_UA_df[train_yrs][var])\n",
    "    total_poss = len(asos_snotel_UA_df[train_yrs]['CMtnSNTL_Upcoming12hrSNOWFALL_gte3_in'][asos_snotel_UA_df[train_yrs]['CMtnSNTL_Upcoming12hrSNOWFALL_gte3_in']>=0])\n",
    "    total_avail =len(asos_snotel_UA_df[train_yrs][idx])\n",
    "    if total_avail/total_poss >= 0.67: \n",
    "        good_vars.append(var)\n",
    "    else:\n",
    "        bad_vars.append(var)\n",
    "        \n",
    "print('Variables with >= 67% data match to snowfall: ')\n",
    "print(good_vars)\n",
    "print('Variables with < 67% data match to snowfall: ')\n",
    "print(bad_vars)\n",
    "    "
   ]
  },
  {
   "cell_type": "code",
   "execution_count": 10,
   "metadata": {},
   "outputs": [
    {
     "name": "stdout",
     "output_type": "stream",
     "text": [
      "727 60.833333333333336\n",
      "725 60.833333333333336\n",
      "728 61.0\n",
      "730 60.833333333333336\n",
      "725 60.833333333333336\n",
      "729 60.833333333333336\n",
      "732 61.0\n",
      "730 60.833333333333336\n",
      "716 60.833333333333336\n",
      "732 61.0\n",
      "676 60.833333333333336\n"
     ]
    },
    {
     "name": "stderr",
     "output_type": "stream",
     "text": [
      "c:\\users\\rapp\\appdata\\local\\programs\\python\\python36-32\\lib\\site-packages\\ipykernel_launcher.py:23: RuntimeWarning: divide by zero encountered in long_scalars\n"
     ]
    },
    {
     "name": "stdout",
     "output_type": "stream",
     "text": [
      "8680 730.4166666666666\n",
      "1402 121.5\n",
      "7276 608.75\n",
      "| Year                                      |   Number 12hr Snowfall Events >=3 |   Mean |   Median |   Max |   %Missing SnowDepth |   Std Deviation |\n",
      "|-------------------------------------------|-----------------------------------|--------|----------|-------|----------------------|-----------------|\n",
      "| 2006                                      |                                25 |    4.9 |      4   |  11   |               242.33 |            1.87 |\n",
      "| 2007                                      |                                23 |    3.9 |      3.3 |   6.5 |               262.68 |            1.17 |\n",
      "| 2008                                      |                                26 |    4.4 |      3.5 |   8   |               233.33 |            1.85 |\n",
      "| 2009                                      |                                18 |    3.9 |      4   |   6   |               337.96 |            1.92 |\n",
      "| 2010                                      |                                22 |    4.3 |      3.8 |   9   |               274.62 |            1.75 |\n",
      "| 2011                                      |                                 0 |  nan   |    nan   | nan   |               inf    |            1.38 |\n",
      "| 2012                                      |                                 7 |    5.6 |      4   |  10   |               871.43 |            2.29 |\n",
      "| 2013                                      |                                25 |    4.3 |      4   |  12   |               243.33 |            1.78 |\n",
      "| 2015                                      |                                22 |    4.2 |      4   |   8   |               271.21 |            1.24 |\n",
      "| 2016                                      |                                 0 |  nan   |    nan   | nan   |               inf    |            2.98 |\n",
      "| 2017                                      |                                22 |    4.9 |      3   |  16   |               256.06 |            2.81 |\n",
      "| [False False False ...  True  True False] |                               227 |    4.6 |      4   |  16   |               318.65 |            2.12 |\n",
      "| [False False False ...  True  True False] |                                47 |    4.9 |      4   |  16   |               248.58 |            2.42 |\n",
      "| [False False False ... False False False] |                               180 |    4.5 |      4   |  14   |               336.85 |            2.06 |\n",
      "[4.0, 3.3, 3.5, 4.0, 3.8, nan, 4.0, 4.0, 4.0, nan, 3.0, 4.0, 4.0, 4.0]\n"
     ]
    }
   ],
   "source": [
    "import statistics as sts\n",
    "#all_yrs = (asos_snotel_UA_df.index >= '01-01-2006') & (asos_snotel_UA_df.index <= '12-31-2017')\n",
    "#test_yrs = (asos_snotel_UA_df.index >= '01-01-2006') & (asos_snotel_UA_df.index <= '12-31-2008')\n",
    "#train_yrs = (asos_snotel_UA_df.index >= '01-01-2009') & (asos_snotel_UA_df.index <= '12-31-2017')\n",
    "\n",
    "from tabulate import tabulate\n",
    "years = ['2006', '2007', '2008', '2009', '2010', '2011', '2012', '2013', '2015', '2016', '2017', all_yrs, test_yrs, train_yrs]\n",
    "counts = []\n",
    "means = []\n",
    "maxes = []\n",
    "sd_missings =[]\n",
    "std_devs=[]\n",
    "medians = []\n",
    "\n",
    "for year in years:\n",
    "    idx = np.isfinite(asos_snotel_UA_df[year]['CMtnSNTL_Upcoming12hrSNOWFALL_gte3_in'])\n",
    "    for var in good_vars:\n",
    "      idx = idx & np.isfinite(asos_snotel_UA_df[year][var])\n",
    "    counts.append(asos_snotel_UA_df['CMtnSNTL_Upcoming12hrSNOWFALL_gte3_in'][year][idx].count())\n",
    "    maxes.append((round(asos_snotel_UA_df['CMtnSNTL_Upcoming12hrSNOWFALL_gte3_in'][year][idx].max(),1)))\n",
    "    means.append(round(asos_snotel_UA_df['CMtnSNTL_Upcoming12hrSNOWFALL_gte3_in'][year][idx].mean(),1))\n",
    "    medians.append(round(asos_snotel_UA_df['CMtnSNTL_Upcoming12hrSNOWFALL_gte3_in'][year][idx].median(),1))\n",
    "    sd_missings.append(round(asos_snotel_UA_df['CMtnSNTL_12hr_SNWD_in'][year].count()/len(asos_snotel_UA_df['CMtnSNTL_12hr_SNWD_in'][year][idx])/12*100,2))\n",
    "    std_devs.append(round(np.std(asos_snotel_UA_df['CMtnSNTL_Upcoming12hrSNOWFALL_gte3_in'][year].dropna()),2))\n",
    "     \n",
    "    print(asos_snotel_UA_df['CMtnSNTL_12hr_SNWD_in'][year].count(),len(asos_snotel_UA_df['CMtnSNTL_12hr_SNWD_in'][year])/12)\n",
    "\n",
    "tbl = zip(years, counts, means, medians, maxes,sd_missings, std_devs )  \n",
    "    \n",
    "print(tabulate(tbl, headers=['Year', 'Number 12hr Snowfall Events >=3', 'Mean', 'Median','Max', '%Missing SnowDepth', 'Std Deviation'], tablefmt='github'))\n",
    "print(medians)"
   ]
  },
  {
   "cell_type": "markdown",
   "metadata": {},
   "source": [
    "**Now rerun model with just the good variables**"
   ]
  },
  {
   "cell_type": "code",
   "execution_count": 11,
   "metadata": {},
   "outputs": [
    {
     "name": "stdout",
     "output_type": "stream",
     "text": [
      "['CMtnSNTL_Temp_degC', 'CMtn_Temperature_degC', 'CMtn_Dewpoint_degC', 'CMtn_WindDirection_deg', 'CMtn_WindSpeed_mps', 'LXV_Temperature_degC', 'LXV_Dewpoint_degC', 'LXV_Pressure_hp', 'LXV_WindSpeed_mps', 'LXV_WindDirection_deg', 'LXV_12hr_delta_Pressure_hp']\n",
      "******\n",
      "LXV_12hr_delta_Pressure_hp\n",
      "CMtn_WindSpeed_mps+ LXV_12hr_delta_Pressure_hp\n",
      "CMtn_Dewpoint_degC+ CMtn_WindSpeed_mps+ LXV_12hr_delta_Pressure_hp\n",
      "CMtn_WindDirection_deg+ CMtn_Dewpoint_degC+ CMtn_WindSpeed_mps+ LXV_12hr_delta_Pressure_hp\n",
      "LXV_Dewpoint_degC+ CMtn_WindDirection_deg+ CMtn_Dewpoint_degC+ CMtn_WindSpeed_mps+ LXV_12hr_delta_Pressure_hp\n",
      "LXV_WindSpeed_mps+ LXV_Dewpoint_degC+ CMtn_WindDirection_deg+ CMtn_Dewpoint_degC+ CMtn_WindSpeed_mps+ LXV_12hr_delta_Pressure_hp\n",
      "CMtn_Temperature_degC+ LXV_WindSpeed_mps+ LXV_Dewpoint_degC+ CMtn_WindDirection_deg+ CMtn_Dewpoint_degC+ CMtn_WindSpeed_mps+ LXV_12hr_delta_Pressure_hp\n",
      "LXV_Temperature_degC+ CMtn_Temperature_degC+ LXV_WindSpeed_mps+ LXV_Dewpoint_degC+ CMtn_WindDirection_deg+ CMtn_Dewpoint_degC+ CMtn_WindSpeed_mps+ LXV_12hr_delta_Pressure_hp\n",
      "LXV_Pressure_hp+ LXV_Temperature_degC+ CMtn_Temperature_degC+ LXV_WindSpeed_mps+ LXV_Dewpoint_degC+ CMtn_WindDirection_deg+ CMtn_Dewpoint_degC+ CMtn_WindSpeed_mps+ LXV_12hr_delta_Pressure_hp\n",
      "CMtnSNTL_Temp_degC+ LXV_Pressure_hp+ LXV_Temperature_degC+ CMtn_Temperature_degC+ LXV_WindSpeed_mps+ LXV_Dewpoint_degC+ CMtn_WindDirection_deg+ CMtn_Dewpoint_degC+ CMtn_WindSpeed_mps+ LXV_12hr_delta_Pressure_hp\n",
      "LXV_WindDirection_deg+ CMtnSNTL_Temp_degC+ LXV_Pressure_hp+ LXV_Temperature_degC+ CMtn_Temperature_degC+ LXV_WindSpeed_mps+ LXV_Dewpoint_degC+ CMtn_WindDirection_deg+ CMtn_Dewpoint_degC+ CMtn_WindSpeed_mps+ LXV_12hr_delta_Pressure_hp\n",
      "[0.022236455335143734, 0.034295356135126354, 0.04429241266469841, 0.04209930311720922, 0.038158996981246585, 0.0336387864903418, 0.028668496924133646, 0.0265360664591221, 0.021212101517951387, 0.015488634692257364, 0.009672148479281217]\n",
      "['LXV_12hr_delta_Pressure_hp', 'CMtn_WindSpeed_mps+ LXV_12hr_delta_Pressure_hp', 'CMtn_Dewpoint_degC+ CMtn_WindSpeed_mps+ LXV_12hr_delta_Pressure_hp', 'CMtn_WindDirection_deg+ CMtn_Dewpoint_degC+ CMtn_WindSpeed_mps+ LXV_12hr_delta_Pressure_hp', 'LXV_Dewpoint_degC+ CMtn_WindDirection_deg+ CMtn_Dewpoint_degC+ CMtn_WindSpeed_mps+ LXV_12hr_delta_Pressure_hp', 'LXV_WindSpeed_mps+ LXV_Dewpoint_degC+ CMtn_WindDirection_deg+ CMtn_Dewpoint_degC+ CMtn_WindSpeed_mps+ LXV_12hr_delta_Pressure_hp', 'CMtn_Temperature_degC+ LXV_WindSpeed_mps+ LXV_Dewpoint_degC+ CMtn_WindDirection_deg+ CMtn_Dewpoint_degC+ CMtn_WindSpeed_mps+ LXV_12hr_delta_Pressure_hp', 'LXV_Temperature_degC+ CMtn_Temperature_degC+ LXV_WindSpeed_mps+ LXV_Dewpoint_degC+ CMtn_WindDirection_deg+ CMtn_Dewpoint_degC+ CMtn_WindSpeed_mps+ LXV_12hr_delta_Pressure_hp', 'LXV_Pressure_hp+ LXV_Temperature_degC+ CMtn_Temperature_degC+ LXV_WindSpeed_mps+ LXV_Dewpoint_degC+ CMtn_WindDirection_deg+ CMtn_Dewpoint_degC+ CMtn_WindSpeed_mps+ LXV_12hr_delta_Pressure_hp', 'CMtnSNTL_Temp_degC+ LXV_Pressure_hp+ LXV_Temperature_degC+ CMtn_Temperature_degC+ LXV_WindSpeed_mps+ LXV_Dewpoint_degC+ CMtn_WindDirection_deg+ CMtn_Dewpoint_degC+ CMtn_WindSpeed_mps+ LXV_12hr_delta_Pressure_hp', 'LXV_WindDirection_deg+ CMtnSNTL_Temp_degC+ LXV_Pressure_hp+ LXV_Temperature_degC+ CMtn_Temperature_degC+ LXV_WindSpeed_mps+ LXV_Dewpoint_degC+ CMtn_WindDirection_deg+ CMtn_Dewpoint_degC+ CMtn_WindSpeed_mps+ LXV_12hr_delta_Pressure_hp']\n",
      "[0.010686928774896123, 0.016860216110463188, 0.011840167770191997, 0.02105793552464143, 0.03764630917434746, 0.06301952563257901, 0.09941154690477745, 0.12511809691467896, 0.17824269215271413, 0.2443645239104593, 0.31938660972461147]\n",
      "OrderedDict([('LXV_12hr_delta_Pressure_hp', (0.022236455335143734, 0.010686928774896123)), ('CMtn_WindSpeed_mps+ LXV_12hr_delta_Pressure_hp', (0.034295356135126354, 0.016860216110463188)), ('CMtn_Dewpoint_degC+ CMtn_WindSpeed_mps+ LXV_12hr_delta_Pressure_hp', (0.04429241266469841, 0.011840167770191997)), ('CMtn_WindDirection_deg+ CMtn_Dewpoint_degC+ CMtn_WindSpeed_mps+ LXV_12hr_delta_Pressure_hp', (0.04209930311720922, 0.02105793552464143)), ('LXV_Dewpoint_degC+ CMtn_WindDirection_deg+ CMtn_Dewpoint_degC+ CMtn_WindSpeed_mps+ LXV_12hr_delta_Pressure_hp', (0.038158996981246585, 0.03764630917434746)), ('LXV_WindSpeed_mps+ LXV_Dewpoint_degC+ CMtn_WindDirection_deg+ CMtn_Dewpoint_degC+ CMtn_WindSpeed_mps+ LXV_12hr_delta_Pressure_hp', (0.0336387864903418, 0.06301952563257901)), ('CMtn_Temperature_degC+ LXV_WindSpeed_mps+ LXV_Dewpoint_degC+ CMtn_WindDirection_deg+ CMtn_Dewpoint_degC+ CMtn_WindSpeed_mps+ LXV_12hr_delta_Pressure_hp', (0.028668496924133646, 0.09941154690477745)), ('LXV_Temperature_degC+ CMtn_Temperature_degC+ LXV_WindSpeed_mps+ LXV_Dewpoint_degC+ CMtn_WindDirection_deg+ CMtn_Dewpoint_degC+ CMtn_WindSpeed_mps+ LXV_12hr_delta_Pressure_hp', (0.0265360664591221, 0.12511809691467896)), ('LXV_Pressure_hp+ LXV_Temperature_degC+ CMtn_Temperature_degC+ LXV_WindSpeed_mps+ LXV_Dewpoint_degC+ CMtn_WindDirection_deg+ CMtn_Dewpoint_degC+ CMtn_WindSpeed_mps+ LXV_12hr_delta_Pressure_hp', (0.021212101517951387, 0.17824269215271413)), ('CMtnSNTL_Temp_degC+ LXV_Pressure_hp+ LXV_Temperature_degC+ CMtn_Temperature_degC+ LXV_WindSpeed_mps+ LXV_Dewpoint_degC+ CMtn_WindDirection_deg+ CMtn_Dewpoint_degC+ CMtn_WindSpeed_mps+ LXV_12hr_delta_Pressure_hp', (0.015488634692257364, 0.2443645239104593)), ('LXV_WindDirection_deg+ CMtnSNTL_Temp_degC+ LXV_Pressure_hp+ LXV_Temperature_degC+ CMtn_Temperature_degC+ LXV_WindSpeed_mps+ LXV_Dewpoint_degC+ CMtn_WindDirection_deg+ CMtn_Dewpoint_degC+ CMtn_WindSpeed_mps+ LXV_12hr_delta_Pressure_hp', (0.009672148479281217, 0.31938660972461147))])\n"
     ]
    }
   ],
   "source": [
    "from collections import OrderedDict\n",
    "\n",
    "variables = good_vars\n",
    "variables_org = variables\n",
    "print(variables)\n",
    "\n",
    "print('******')\n",
    "adjRs = []\n",
    "newRs = []\n",
    "dup_var = []\n",
    "max_vars = []\n",
    "f_pvalues = []\n",
    "\n",
    "while variables != []:\n",
    "  #print(variables)\n",
    "  for var in variables:\n",
    "\n",
    "        \n",
    "    #print(variables)\n",
    "    max_var = max(variables, key = lambda v: ols('CMtnSNTL_Upcoming12hrSNOWFALL_gte3_in ~' + v, asos_snotel_UA_df[train_yrs]).fit().rsquared_adj)    #this finds OLS model run with highest adj R squared\n",
    "    OLS = ols('CMtnSNTL_Upcoming12hrSNOWFALL_gte3_in ~' + max_var, asos_snotel_UA_df[train_yrs]).fit()\n",
    "    \n",
    "    print(max_var)\n",
    "    #print(max_var)\n",
    "    #print(OLS.rsquared)\n",
    "    \n",
    "    #Create lists of statistics for each combination of variables modeld\n",
    "    adjRs.append(OLS.rsquared_adj)\n",
    "    f_pvalues.append(OLS.f_pvalue)\n",
    "    max_vars.append(max_var)\n",
    "\n",
    "    add_max_var = '+ '+ max_var\n",
    "    \n",
    "    variables = [s + add_max_var for s in variables_org]\n",
    "    \n",
    "    #The above for loop naturally will create a duplicate variable, which should be removed\n",
    "    for v in variables_org: \n",
    "      dup_var = []\n",
    "      dup_var = [var for var in variables if var.count(v)>1]\n",
    "      if dup_var!=[]:\n",
    "            for dup in dup_var: variables.remove(dup)\n",
    "\n",
    "#combine the modeled variable sequences with respective stats  \n",
    "stats = list(zip(adjRs, f_pvalues))    # create list of tuples\n",
    "dictionary = OrderedDict(zip(max_vars, stats))\n",
    "#dictionary_adjRs = OrderedDict(zip(max_vars, f_pvalues))\n",
    "print(adjRs)\n",
    "print(max_vars)\n",
    "print(f_pvalues)\n",
    "print(dictionary)"
   ]
  },
  {
   "cell_type": "code",
   "execution_count": 12,
   "metadata": {},
   "outputs": [
    {
     "data": {
      "text/plain": [
       "[<matplotlib.lines.Line2D at 0xf351c10>]"
      ]
     },
     "execution_count": 12,
     "metadata": {},
     "output_type": "execute_result"
    },
    {
     "data": {
      "image/png": "[encoded data removed]",
      "text/plain": [
       "<Figure size 432x288 with 1 Axes>"
      ]
     },
     "metadata": {},
     "output_type": "display_data"
    }
   ],
   "source": [
    "plt.plot(adjRs)"
   ]
  },
  {
   "cell_type": "code",
   "execution_count": 13,
   "metadata": {},
   "outputs": [
    {
     "data": {
      "text/plain": [
       "[<matplotlib.lines.Line2D at 0xf4a5a10>]"
      ]
     },
     "execution_count": 13,
     "metadata": {},
     "output_type": "execute_result"
    },
    {
     "data": {
      "image/png": "[encoded data removed]",
      "text/plain": [
       "<Figure size 432x288 with 1 Axes>"
      ]
     },
     "metadata": {},
     "output_type": "display_data"
    }
   ],
   "source": [
    "plt.plot(f_pvalues)"
   ]
  },
  {
   "cell_type": "markdown",
   "metadata": {},
   "source": [
    "**Print adjusted R and F stat probabilities in order**"
   ]
  },
  {
   "cell_type": "code",
   "execution_count": 14,
   "metadata": {},
   "outputs": [
    {
     "name": "stdout",
     "output_type": "stream",
     "text": [
      "0 LXV_12hr_delta_Pressure_hp \n",
      " Adjusted R: 0.022236455335143734  Fstat(prob): 0.010686928774896123\n",
      "\n",
      "1 CMtn_WindSpeed_mps+ LXV_12hr_delta_Pressure_hp \n",
      " Adjusted R: 0.034295356135126354  Fstat(prob): 0.016860216110463188\n",
      "\n",
      "2 CMtn_Dewpoint_degC+ CMtn_WindSpeed_mps+ LXV_12hr_delta_Pressure_hp \n",
      " Adjusted R: 0.04429241266469841  Fstat(prob): 0.011840167770191997\n",
      "\n",
      "3 CMtn_WindDirection_deg+ CMtn_Dewpoint_degC+ CMtn_WindSpeed_mps+ LXV_12hr_delta_Pressure_hp \n",
      " Adjusted R: 0.04209930311720922  Fstat(prob): 0.02105793552464143\n",
      "\n",
      "4 LXV_Dewpoint_degC+ CMtn_WindDirection_deg+ CMtn_Dewpoint_degC+ CMtn_WindSpeed_mps+ LXV_12hr_delta_Pressure_hp \n",
      " Adjusted R: 0.038158996981246585  Fstat(prob): 0.03764630917434746\n",
      "\n",
      "5 LXV_WindSpeed_mps+ LXV_Dewpoint_degC+ CMtn_WindDirection_deg+ CMtn_Dewpoint_degC+ CMtn_WindSpeed_mps+ LXV_12hr_delta_Pressure_hp \n",
      " Adjusted R: 0.0336387864903418  Fstat(prob): 0.06301952563257901\n",
      "\n",
      "6 CMtn_Temperature_degC+ LXV_WindSpeed_mps+ LXV_Dewpoint_degC+ CMtn_WindDirection_deg+ CMtn_Dewpoint_degC+ CMtn_WindSpeed_mps+ LXV_12hr_delta_Pressure_hp \n",
      " Adjusted R: 0.028668496924133646  Fstat(prob): 0.09941154690477745\n",
      "\n",
      "7 LXV_Temperature_degC+ CMtn_Temperature_degC+ LXV_WindSpeed_mps+ LXV_Dewpoint_degC+ CMtn_WindDirection_deg+ CMtn_Dewpoint_degC+ CMtn_WindSpeed_mps+ LXV_12hr_delta_Pressure_hp \n",
      " Adjusted R: 0.0265360664591221  Fstat(prob): 0.12511809691467896\n",
      "\n",
      "8 LXV_Pressure_hp+ LXV_Temperature_degC+ CMtn_Temperature_degC+ LXV_WindSpeed_mps+ LXV_Dewpoint_degC+ CMtn_WindDirection_deg+ CMtn_Dewpoint_degC+ CMtn_WindSpeed_mps+ LXV_12hr_delta_Pressure_hp \n",
      " Adjusted R: 0.021212101517951387  Fstat(prob): 0.17824269215271413\n",
      "\n",
      "9 CMtnSNTL_Temp_degC+ LXV_Pressure_hp+ LXV_Temperature_degC+ CMtn_Temperature_degC+ LXV_WindSpeed_mps+ LXV_Dewpoint_degC+ CMtn_WindDirection_deg+ CMtn_Dewpoint_degC+ CMtn_WindSpeed_mps+ LXV_12hr_delta_Pressure_hp \n",
      " Adjusted R: 0.015488634692257364  Fstat(prob): 0.2443645239104593\n",
      "\n",
      "10 LXV_WindDirection_deg+ CMtnSNTL_Temp_degC+ LXV_Pressure_hp+ LXV_Temperature_degC+ CMtn_Temperature_degC+ LXV_WindSpeed_mps+ LXV_Dewpoint_degC+ CMtn_WindDirection_deg+ CMtn_Dewpoint_degC+ CMtn_WindSpeed_mps+ LXV_12hr_delta_Pressure_hp \n",
      " Adjusted R: 0.009672148479281217  Fstat(prob): 0.31938660972461147\n",
      "\n"
     ]
    }
   ],
   "source": [
    "\n",
    "\n",
    "for c in dictionary:\n",
    "    #print(str(dictionary.keys().index(c))+\"{country}: {capital}\".format(country=c, capital=dictionary[c])+\"\\n\")\n",
    "        print(str(list(dictionary.keys()).index(c))+ \" {key} \\n Adjusted R: {adjR}  Fstat(prob): {f_pvalue}\".format(key=c, adjR=dictionary[c][0], f_pvalue = dictionary[c][1])+\"\\n\")\n",
    "        OLS = ols('CMtnSNTL_Upcoming12hrSNOWFALL_gte3_in ~' + c, asos_snotel_UA_df['2009':'2017']).fit()\n",
    "\n"
   ]
  },
  {
   "cell_type": "markdown",
   "metadata": {},
   "source": [
    "**Find max adj R and obtain OLS summary**"
   ]
  },
  {
   "cell_type": "code",
   "execution_count": 15,
   "metadata": {},
   "outputs": [
    {
     "name": "stdout",
     "output_type": "stream",
     "text": [
      "Print maximum:\n",
      "CMtn_Dewpoint_degC+ CMtn_WindSpeed_mps+ LXV_12hr_delta_Pressure_hp\n"
     ]
    }
   ],
   "source": [
    " # Just use 'min' instead of 'max' for minimum.\n",
    "print(\"Print maximum:\")\n",
    "maximum = max(dictionary, key=dictionary.get) \n",
    "print(maximum)"
   ]
  },
  {
   "cell_type": "code",
   "execution_count": 16,
   "metadata": {},
   "outputs": [
    {
     "name": "stdout",
     "output_type": "stream",
     "text": [
      "CMtn_Dewpoint_degC+ CMtn_WindSpeed_mps+ LXV_12hr_delta_Pressure_hp\n",
      "                                      OLS Regression Results                                     \n",
      "=================================================================================================\n",
      "Dep. Variable:     CMtnSNTL_Upcoming12hrSNOWFALL_gte3_in   R-squared:                       0.060\n",
      "Model:                                               OLS   Adj. R-squared:                  0.044\n",
      "Method:                                    Least Squares   F-statistic:                     3.765\n",
      "Date:                                   Thu, 07 Mar 2019   Prob (F-statistic):             0.0118\n",
      "Time:                                           19:52:38   Log-Likelihood:                -371.85\n",
      "No. Observations:                                    180   AIC:                             751.7\n",
      "Df Residuals:                                        176   BIC:                             764.5\n",
      "Df Model:                                              3                                         \n",
      "Covariance Type:                               nonrobust                                         \n",
      "==============================================================================================\n",
      "                                 coef    std err          t      P>|t|      [0.025      0.975]\n",
      "----------------------------------------------------------------------------------------------\n",
      "Intercept                      4.3793      0.469      9.333      0.000       3.453       5.305\n",
      "CMtn_Dewpoint_degC             0.0628      0.037      1.689      0.093      -0.011       0.136\n",
      "CMtn_WindSpeed_mps             0.0841      0.040      2.103      0.037       0.005       0.163\n",
      "LXV_12hr_delta_Pressure_hp    -0.0436      0.027     -1.617      0.108      -0.097       0.010\n",
      "==============================================================================\n",
      "Omnibus:                       77.786   Durbin-Watson:                   1.905\n",
      "Prob(Omnibus):                  0.000   Jarque-Bera (JB):              233.722\n",
      "Skew:                           1.816   Prob(JB):                     1.77e-51\n",
      "Kurtosis:                       7.238   Cond. No.                         43.9\n",
      "==============================================================================\n",
      "\n",
      "Warnings:\n",
      "[1] Standard Errors assume that the covariance matrix of the errors is correctly specified.\n"
     ]
    }
   ],
   "source": [
    "maximum_all_str = max(dictionary, key=dictionary.get) \n",
    "print(maximum_all_str)\n",
    "\n",
    "maxOLS_all = ols('CMtnSNTL_Upcoming12hrSNOWFALL_gte3_in ~' + maximum_all_str , asos_snotel_UA_df[train_yrs]).fit() \n",
    "print(maxOLS_all.summary())\n"
   ]
  },
  {
   "cell_type": "markdown",
   "metadata": {},
   "source": [
    "**Print QQ plot**"
   ]
  },
  {
   "cell_type": "code",
   "execution_count": 17,
   "metadata": {},
   "outputs": [
    {
     "data": {
      "image/png": "[encoded data removed]",
      "text/plain": [
       "<Figure size 720x504 with 1 Axes>"
      ]
     },
     "metadata": {},
     "output_type": "display_data"
    }
   ],
   "source": [
    "fig, ax = plt.subplots(figsize=(10, 7))\n",
    "qq2=sm.qqplot(maxOLS_all.resid, line='r', ax = ax)\n",
    "plt.title('Theoretical vs Sample Quantiles of Residuals', fontsize = 16)\n",
    "plt.savefig('C:/Users/RAPP/Documents/Capstone/MS_CS_report/figs/qq_resid_SFC.png',bbox_inches='tight')"
   ]
  },
  {
   "cell_type": "markdown",
   "metadata": {},
   "source": [
    "Let's test different P|t| thresholds for which to remove variables, rerun and model for each set of variables, and see what threshold might glean best results using adjusted R squared as a metric**"
   ]
  },
  {
   "cell_type": "code",
   "execution_count": 18,
   "metadata": {},
   "outputs": [
    {
     "name": "stdout",
     "output_type": "stream",
     "text": [
      "CMtn_Dewpoint_degC+ CMtn_WindSpeed_mps+ LXV_12hr_delta_Pressure_hp\n",
      "1\n",
      "CMtn_Dewpoint_degC 0.002030113143312473 0.01\n",
      "0.002030113143312473 0.01\n",
      "2\n",
      "CMtn_Dewpoint_degC 0.002030113143312473 0.02\n",
      "3\n",
      "CMtn_Dewpoint_degC 0.002030113143312473 0.03\n",
      "4\n",
      "CMtn_Dewpoint_degC+ CMtn_WindSpeed_mps 0.033379813760763155 0.04\n",
      "0.033379813760763155 0.04\n",
      "5\n",
      "CMtn_Dewpoint_degC+ CMtn_WindSpeed_mps 0.033379813760763155 0.05\n",
      "6\n",
      "CMtn_Dewpoint_degC+ CMtn_WindSpeed_mps 0.033379813760763155 0.06\n",
      "7\n",
      "CMtn_Dewpoint_degC+ CMtn_WindSpeed_mps 0.033379813760763155 0.07\n",
      "8\n",
      "CMtn_Dewpoint_degC+ CMtn_WindSpeed_mps 0.033379813760763155 0.08\n",
      "9\n",
      "CMtn_Dewpoint_degC+ CMtn_WindSpeed_mps 0.033379813760763155 0.09\n",
      "10\n",
      "CMtn_Dewpoint_degC+ CMtn_WindSpeed_mps 0.033379813760763155 0.1\n",
      "11\n",
      "CMtn_Dewpoint_degC+ CMtn_WindSpeed_mps+ LXV_12hr_delta_Pressure_hp 0.04429241266469841 0.11\n",
      "0.04429241266469841 0.11\n",
      "12\n",
      "CMtn_Dewpoint_degC+ CMtn_WindSpeed_mps+ LXV_12hr_delta_Pressure_hp 0.04429241266469841 0.12\n",
      "13\n",
      "CMtn_Dewpoint_degC+ CMtn_WindSpeed_mps+ LXV_12hr_delta_Pressure_hp 0.04429241266469841 0.13\n",
      "14\n",
      "CMtn_Dewpoint_degC+ CMtn_WindSpeed_mps+ LXV_12hr_delta_Pressure_hp 0.04429241266469841 0.14\n",
      "15\n",
      "CMtn_Dewpoint_degC+ CMtn_WindSpeed_mps+ LXV_12hr_delta_Pressure_hp 0.04429241266469841 0.15\n",
      "16\n",
      "CMtn_Dewpoint_degC+ CMtn_WindSpeed_mps+ LXV_12hr_delta_Pressure_hp 0.04429241266469841 0.16\n",
      "17\n",
      "CMtn_Dewpoint_degC+ CMtn_WindSpeed_mps+ LXV_12hr_delta_Pressure_hp 0.04429241266469841 0.17\n",
      "18\n",
      "CMtn_Dewpoint_degC+ CMtn_WindSpeed_mps+ LXV_12hr_delta_Pressure_hp 0.04429241266469841 0.18\n",
      "19\n",
      "CMtn_Dewpoint_degC+ CMtn_WindSpeed_mps+ LXV_12hr_delta_Pressure_hp 0.04429241266469841 0.19\n",
      "20\n",
      "CMtn_Dewpoint_degC+ CMtn_WindSpeed_mps+ LXV_12hr_delta_Pressure_hp 0.04429241266469841 0.2\n",
      "21\n",
      "CMtn_Dewpoint_degC+ CMtn_WindSpeed_mps+ LXV_12hr_delta_Pressure_hp 0.04429241266469841 0.21\n",
      "22\n",
      "CMtn_Dewpoint_degC+ CMtn_WindSpeed_mps+ LXV_12hr_delta_Pressure_hp 0.04429241266469841 0.22\n",
      "23\n",
      "CMtn_Dewpoint_degC+ CMtn_WindSpeed_mps+ LXV_12hr_delta_Pressure_hp 0.04429241266469841 0.23\n",
      "24\n",
      "CMtn_Dewpoint_degC+ CMtn_WindSpeed_mps+ LXV_12hr_delta_Pressure_hp 0.04429241266469841 0.24\n",
      "25\n",
      "CMtn_Dewpoint_degC+ CMtn_WindSpeed_mps+ LXV_12hr_delta_Pressure_hp 0.04429241266469841 0.25\n",
      "26\n",
      "CMtn_Dewpoint_degC+ CMtn_WindSpeed_mps+ LXV_12hr_delta_Pressure_hp 0.04429241266469841 0.26\n",
      "27\n",
      "CMtn_Dewpoint_degC+ CMtn_WindSpeed_mps+ LXV_12hr_delta_Pressure_hp 0.04429241266469841 0.27\n",
      "28\n",
      "CMtn_Dewpoint_degC+ CMtn_WindSpeed_mps+ LXV_12hr_delta_Pressure_hp 0.04429241266469841 0.28\n",
      "29\n",
      "CMtn_Dewpoint_degC+ CMtn_WindSpeed_mps+ LXV_12hr_delta_Pressure_hp 0.04429241266469841 0.29\n",
      "30\n",
      "CMtn_Dewpoint_degC+ CMtn_WindSpeed_mps+ LXV_12hr_delta_Pressure_hp 0.04429241266469841 0.3\n",
      "31\n",
      "CMtn_Dewpoint_degC+ CMtn_WindSpeed_mps+ LXV_12hr_delta_Pressure_hp 0.04429241266469841 0.31\n",
      "32\n",
      "CMtn_Dewpoint_degC+ CMtn_WindSpeed_mps+ LXV_12hr_delta_Pressure_hp 0.04429241266469841 0.32\n",
      "33\n",
      "CMtn_Dewpoint_degC+ CMtn_WindSpeed_mps+ LXV_12hr_delta_Pressure_hp 0.04429241266469841 0.33\n",
      "34\n",
      "CMtn_Dewpoint_degC+ CMtn_WindSpeed_mps+ LXV_12hr_delta_Pressure_hp 0.04429241266469841 0.34\n",
      "35\n",
      "CMtn_Dewpoint_degC+ CMtn_WindSpeed_mps+ LXV_12hr_delta_Pressure_hp 0.04429241266469841 0.35000000000000003\n",
      "36\n",
      "CMtn_Dewpoint_degC+ CMtn_WindSpeed_mps+ LXV_12hr_delta_Pressure_hp 0.04429241266469841 0.36\n",
      "37\n",
      "CMtn_Dewpoint_degC+ CMtn_WindSpeed_mps+ LXV_12hr_delta_Pressure_hp 0.04429241266469841 0.37\n",
      "38\n",
      "CMtn_Dewpoint_degC+ CMtn_WindSpeed_mps+ LXV_12hr_delta_Pressure_hp 0.04429241266469841 0.38\n",
      "39\n",
      "CMtn_Dewpoint_degC+ CMtn_WindSpeed_mps+ LXV_12hr_delta_Pressure_hp 0.04429241266469841 0.39\n",
      "40\n",
      "CMtn_Dewpoint_degC+ CMtn_WindSpeed_mps+ LXV_12hr_delta_Pressure_hp 0.04429241266469841 0.4\n",
      "41\n",
      "CMtn_Dewpoint_degC+ CMtn_WindSpeed_mps+ LXV_12hr_delta_Pressure_hp 0.04429241266469841 0.41000000000000003\n",
      "42\n",
      "CMtn_Dewpoint_degC+ CMtn_WindSpeed_mps+ LXV_12hr_delta_Pressure_hp 0.04429241266469841 0.42\n",
      "43\n",
      "CMtn_Dewpoint_degC+ CMtn_WindSpeed_mps+ LXV_12hr_delta_Pressure_hp 0.04429241266469841 0.43\n",
      "44\n",
      "CMtn_Dewpoint_degC+ CMtn_WindSpeed_mps+ LXV_12hr_delta_Pressure_hp 0.04429241266469841 0.44\n",
      "45\n",
      "CMtn_Dewpoint_degC+ CMtn_WindSpeed_mps+ LXV_12hr_delta_Pressure_hp 0.04429241266469841 0.45\n",
      "46\n",
      "CMtn_Dewpoint_degC+ CMtn_WindSpeed_mps+ LXV_12hr_delta_Pressure_hp 0.04429241266469841 0.46\n",
      "47\n",
      "CMtn_Dewpoint_degC+ CMtn_WindSpeed_mps+ LXV_12hr_delta_Pressure_hp 0.04429241266469841 0.47000000000000003\n",
      "48\n",
      "CMtn_Dewpoint_degC+ CMtn_WindSpeed_mps+ LXV_12hr_delta_Pressure_hp 0.04429241266469841 0.48\n",
      "49\n",
      "CMtn_Dewpoint_degC+ CMtn_WindSpeed_mps+ LXV_12hr_delta_Pressure_hp 0.04429241266469841 0.49\n",
      "50\n",
      "CMtn_Dewpoint_degC+ CMtn_WindSpeed_mps+ LXV_12hr_delta_Pressure_hp 0.04429241266469841 0.5\n",
      "51\n",
      "CMtn_Dewpoint_degC+ CMtn_WindSpeed_mps+ LXV_12hr_delta_Pressure_hp 0.04429241266469841 0.51\n",
      "52\n",
      "CMtn_Dewpoint_degC+ CMtn_WindSpeed_mps+ LXV_12hr_delta_Pressure_hp 0.04429241266469841 0.52\n",
      "53\n",
      "CMtn_Dewpoint_degC+ CMtn_WindSpeed_mps+ LXV_12hr_delta_Pressure_hp 0.04429241266469841 0.53\n",
      "54\n",
      "CMtn_Dewpoint_degC+ CMtn_WindSpeed_mps+ LXV_12hr_delta_Pressure_hp 0.04429241266469841 0.54\n",
      "55\n",
      "CMtn_Dewpoint_degC+ CMtn_WindSpeed_mps+ LXV_12hr_delta_Pressure_hp 0.04429241266469841 0.55\n",
      "56\n",
      "CMtn_Dewpoint_degC+ CMtn_WindSpeed_mps+ LXV_12hr_delta_Pressure_hp 0.04429241266469841 0.56\n",
      "57\n",
      "CMtn_Dewpoint_degC+ CMtn_WindSpeed_mps+ LXV_12hr_delta_Pressure_hp 0.04429241266469841 0.5700000000000001\n",
      "58\n",
      "CMtn_Dewpoint_degC+ CMtn_WindSpeed_mps+ LXV_12hr_delta_Pressure_hp 0.04429241266469841 0.58\n",
      "59\n",
      "CMtn_Dewpoint_degC+ CMtn_WindSpeed_mps+ LXV_12hr_delta_Pressure_hp 0.04429241266469841 0.59\n",
      "60\n",
      "CMtn_Dewpoint_degC+ CMtn_WindSpeed_mps+ LXV_12hr_delta_Pressure_hp 0.04429241266469841 0.6\n",
      "61\n",
      "CMtn_Dewpoint_degC+ CMtn_WindSpeed_mps+ LXV_12hr_delta_Pressure_hp 0.04429241266469841 0.61\n",
      "62\n",
      "CMtn_Dewpoint_degC+ CMtn_WindSpeed_mps+ LXV_12hr_delta_Pressure_hp 0.04429241266469841 0.62\n",
      "63\n",
      "CMtn_Dewpoint_degC+ CMtn_WindSpeed_mps+ LXV_12hr_delta_Pressure_hp 0.04429241266469841 0.63\n",
      "64\n",
      "CMtn_Dewpoint_degC+ CMtn_WindSpeed_mps+ LXV_12hr_delta_Pressure_hp 0.04429241266469841 0.64\n",
      "65\n",
      "CMtn_Dewpoint_degC+ CMtn_WindSpeed_mps+ LXV_12hr_delta_Pressure_hp 0.04429241266469841 0.65\n",
      "66\n",
      "CMtn_Dewpoint_degC+ CMtn_WindSpeed_mps+ LXV_12hr_delta_Pressure_hp 0.04429241266469841 0.66\n",
      "67\n",
      "CMtn_Dewpoint_degC+ CMtn_WindSpeed_mps+ LXV_12hr_delta_Pressure_hp 0.04429241266469841 0.67\n",
      "68\n",
      "CMtn_Dewpoint_degC+ CMtn_WindSpeed_mps+ LXV_12hr_delta_Pressure_hp 0.04429241266469841 0.68\n",
      "69\n",
      "CMtn_Dewpoint_degC+ CMtn_WindSpeed_mps+ LXV_12hr_delta_Pressure_hp 0.04429241266469841 0.6900000000000001\n",
      "70\n",
      "CMtn_Dewpoint_degC+ CMtn_WindSpeed_mps+ LXV_12hr_delta_Pressure_hp 0.04429241266469841 0.7000000000000001\n",
      "71\n",
      "CMtn_Dewpoint_degC+ CMtn_WindSpeed_mps+ LXV_12hr_delta_Pressure_hp 0.04429241266469841 0.71\n",
      "72\n",
      "CMtn_Dewpoint_degC+ CMtn_WindSpeed_mps+ LXV_12hr_delta_Pressure_hp 0.04429241266469841 0.72\n",
      "73\n",
      "CMtn_Dewpoint_degC+ CMtn_WindSpeed_mps+ LXV_12hr_delta_Pressure_hp 0.04429241266469841 0.73\n",
      "74\n",
      "CMtn_Dewpoint_degC+ CMtn_WindSpeed_mps+ LXV_12hr_delta_Pressure_hp 0.04429241266469841 0.74\n",
      "75\n",
      "CMtn_Dewpoint_degC+ CMtn_WindSpeed_mps+ LXV_12hr_delta_Pressure_hp 0.04429241266469841 0.75\n",
      "76\n",
      "CMtn_Dewpoint_degC+ CMtn_WindSpeed_mps+ LXV_12hr_delta_Pressure_hp 0.04429241266469841 0.76\n",
      "77\n",
      "CMtn_Dewpoint_degC+ CMtn_WindSpeed_mps+ LXV_12hr_delta_Pressure_hp 0.04429241266469841 0.77\n",
      "78\n",
      "CMtn_Dewpoint_degC+ CMtn_WindSpeed_mps+ LXV_12hr_delta_Pressure_hp 0.04429241266469841 0.78\n",
      "79\n",
      "CMtn_Dewpoint_degC+ CMtn_WindSpeed_mps+ LXV_12hr_delta_Pressure_hp 0.04429241266469841 0.79\n",
      "80\n",
      "CMtn_Dewpoint_degC+ CMtn_WindSpeed_mps+ LXV_12hr_delta_Pressure_hp 0.04429241266469841 0.8\n",
      "81\n",
      "CMtn_Dewpoint_degC+ CMtn_WindSpeed_mps+ LXV_12hr_delta_Pressure_hp 0.04429241266469841 0.81\n",
      "82\n",
      "CMtn_Dewpoint_degC+ CMtn_WindSpeed_mps+ LXV_12hr_delta_Pressure_hp 0.04429241266469841 0.8200000000000001\n",
      "83\n",
      "CMtn_Dewpoint_degC+ CMtn_WindSpeed_mps+ LXV_12hr_delta_Pressure_hp 0.04429241266469841 0.8300000000000001\n",
      "84\n",
      "CMtn_Dewpoint_degC+ CMtn_WindSpeed_mps+ LXV_12hr_delta_Pressure_hp 0.04429241266469841 0.84\n",
      "85\n",
      "CMtn_Dewpoint_degC+ CMtn_WindSpeed_mps+ LXV_12hr_delta_Pressure_hp 0.04429241266469841 0.85\n",
      "86\n",
      "CMtn_Dewpoint_degC+ CMtn_WindSpeed_mps+ LXV_12hr_delta_Pressure_hp 0.04429241266469841 0.86\n",
      "87\n",
      "CMtn_Dewpoint_degC+ CMtn_WindSpeed_mps+ LXV_12hr_delta_Pressure_hp 0.04429241266469841 0.87\n",
      "88\n",
      "CMtn_Dewpoint_degC+ CMtn_WindSpeed_mps+ LXV_12hr_delta_Pressure_hp 0.04429241266469841 0.88\n",
      "89\n",
      "CMtn_Dewpoint_degC+ CMtn_WindSpeed_mps+ LXV_12hr_delta_Pressure_hp 0.04429241266469841 0.89\n",
      "90\n",
      "CMtn_Dewpoint_degC+ CMtn_WindSpeed_mps+ LXV_12hr_delta_Pressure_hp 0.04429241266469841 0.9\n",
      "91\n",
      "CMtn_Dewpoint_degC+ CMtn_WindSpeed_mps+ LXV_12hr_delta_Pressure_hp 0.04429241266469841 0.91\n",
      "92\n",
      "CMtn_Dewpoint_degC+ CMtn_WindSpeed_mps+ LXV_12hr_delta_Pressure_hp 0.04429241266469841 0.92\n",
      "93\n",
      "CMtn_Dewpoint_degC+ CMtn_WindSpeed_mps+ LXV_12hr_delta_Pressure_hp 0.04429241266469841 0.93\n",
      "94\n",
      "CMtn_Dewpoint_degC+ CMtn_WindSpeed_mps+ LXV_12hr_delta_Pressure_hp 0.04429241266469841 0.9400000000000001\n",
      "95\n"
     ]
    },
    {
     "name": "stdout",
     "output_type": "stream",
     "text": [
      "CMtn_Dewpoint_degC+ CMtn_WindSpeed_mps+ LXV_12hr_delta_Pressure_hp 0.04429241266469841 0.9500000000000001\n",
      "96\n",
      "CMtn_Dewpoint_degC+ CMtn_WindSpeed_mps+ LXV_12hr_delta_Pressure_hp 0.04429241266469841 0.96\n",
      "97\n",
      "CMtn_Dewpoint_degC+ CMtn_WindSpeed_mps+ LXV_12hr_delta_Pressure_hp 0.04429241266469841 0.97\n",
      "98\n",
      "CMtn_Dewpoint_degC+ CMtn_WindSpeed_mps+ LXV_12hr_delta_Pressure_hp 0.04429241266469841 0.98\n",
      "99\n",
      "CMtn_Dewpoint_degC+ CMtn_WindSpeed_mps+ LXV_12hr_delta_Pressure_hp 0.04429241266469841 0.99\n",
      "\n",
      " best threshold is:0.11\n",
      "                                      OLS Regression Results                                     \n",
      "=================================================================================================\n",
      "Dep. Variable:     CMtnSNTL_Upcoming12hrSNOWFALL_gte3_in   R-squared:                       0.060\n",
      "Model:                                               OLS   Adj. R-squared:                  0.044\n",
      "Method:                                    Least Squares   F-statistic:                     3.765\n",
      "Date:                                   Thu, 07 Mar 2019   Prob (F-statistic):             0.0118\n",
      "Time:                                           19:52:41   Log-Likelihood:                -371.85\n",
      "No. Observations:                                    180   AIC:                             751.7\n",
      "Df Residuals:                                        176   BIC:                             764.5\n",
      "Df Model:                                              3                                         \n",
      "Covariance Type:                               nonrobust                                         \n",
      "==============================================================================================\n",
      "                                 coef    std err          t      P>|t|      [0.025      0.975]\n",
      "----------------------------------------------------------------------------------------------\n",
      "Intercept                      4.3793      0.469      9.333      0.000       3.453       5.305\n",
      "CMtn_Dewpoint_degC             0.0628      0.037      1.689      0.093      -0.011       0.136\n",
      "CMtn_WindSpeed_mps             0.0841      0.040      2.103      0.037       0.005       0.163\n",
      "LXV_12hr_delta_Pressure_hp    -0.0436      0.027     -1.617      0.108      -0.097       0.010\n",
      "==============================================================================\n",
      "Omnibus:                       77.786   Durbin-Watson:                   1.905\n",
      "Prob(Omnibus):                  0.000   Jarque-Bera (JB):              233.722\n",
      "Skew:                           1.816   Prob(JB):                     1.77e-51\n",
      "Kurtosis:                       7.238   Cond. No.                         43.9\n",
      "==============================================================================\n",
      "\n",
      "Warnings:\n",
      "[1] Standard Errors assume that the covariance matrix of the errors is correctly specified.\n"
     ]
    }
   ],
   "source": [
    "rsq_adj = 0\n",
    "thresh = 0\n",
    "\n",
    "goodp_str = \"\"\n",
    "highp_var = []\n",
    "\n",
    "maximum_all_str = max(dictionary, key=dictionary.get)    #this is the string of variables found in previous OLS run associated with mad adjusted R squared.\n",
    "print(maximum_all_str)\n",
    "\n",
    "\n",
    "for test_thresh in range(1, 100):   #loop through different P|t| thresholds ranging from 1 to 100.  Note floats are not allowed here \n",
    "  print(test_thresh)\n",
    "  highp_var = [var for var in maxOLS_all.pvalues.keys() if maxOLS_all.pvalues[var]>=test_thresh*0.01]  #check P|t| for each variable against threshold and store in list\n",
    "  \n",
    "  testgoodp_str = maximum_all_str   #reset testgoodp_str \n",
    "    \n",
    "  for var in highp_var:\n",
    "    testgoodp_str = testgoodp_str.replace(\"+ \" + var, \"\")   #  \n",
    "     \n",
    "\n",
    " \n",
    "\n",
    "  maxOLS_testgoodp = ols('CMtnSNTL_Upcoming12hrSNOWFALL_gte3_in ~' + testgoodp_str, asos_snotel_UA_df[train_yrs]).fit()\n",
    "  print(testgoodp_str, maxOLS_testgoodp.rsquared_adj, test_thresh*0.01)\n",
    "  #print(maxOLS_testgoodp.rsquared_adj)\n",
    "  if maxOLS_testgoodp.rsquared_adj > rsq_adj:\n",
    "      rsq_adj = maxOLS_testgoodp.rsquared_adj\n",
    "      print(maxOLS_testgoodp.rsquared_adj, test_thresh*0.01)\n",
    "      goodp_str = testgoodp_str\n",
    "      thresh = test_thresh*0.01\n",
    "\n",
    "    \n",
    "print(\"\\n best threshold is:\" + str(thresh))\n",
    "maxOLS_goodp = ols('CMtnSNTL_Upcoming12hrSNOWFALL_gte3_in ~' + goodp_str, asos_snotel_UA_df[train_yrs]).fit() \n",
    "print(maxOLS_goodp.summary())\n"
   ]
  },
  {
   "cell_type": "markdown",
   "metadata": {},
   "source": [
    "**So it looks like the best P|t| threshold for variable elimination is 0.27.  A small improvement to adjusted R squared was made**"
   ]
  },
  {
   "cell_type": "markdown",
   "metadata": {},
   "source": [
    "## Try fit parameters with test dataset (2006 and 2017 data)"
   ]
  },
  {
   "cell_type": "code",
   "execution_count": null,
   "metadata": {},
   "outputs": [],
   "source": []
  },
  {
   "cell_type": "code",
   "execution_count": null,
   "metadata": {},
   "outputs": [],
   "source": []
  },
  {
   "cell_type": "code",
   "execution_count": 30,
   "metadata": {},
   "outputs": [
    {
     "data": {
      "image/png": "[encoded data removed]",
      "text/plain": [
       "<Figure size 720x504 with 1 Axes>"
      ]
     },
     "metadata": {},
     "output_type": "display_data"
    }
   ],
   "source": [
    "fig = plt.figure(figsize=(10,7))\n",
    "\n",
    "\n",
    "\n",
    "#Define actual and predicted snowfall dataframes\n",
    "actual_snf = asos_snotel_UA_df[test_yrs]['CMtnSNTL_Upcoming12hrSNOWFALL_gte3_in'][asos_snotel_UA_df[test_yrs]['CMtnSNTL_Upcoming12hrSNOWFALL_gte3_in']>=3]\n",
    "predict = maxOLS_goodp.predict(asos_snotel_UA_df[test_yrs][asos_snotel_UA_df[test_yrs]['CMtnSNTL_Upcoming12hrSNOWFALL_gte3_in']>=3])\n",
    "\n",
    "\n",
    "#Do linear regression and calcuate relevent stats\n",
    "\n",
    "from scipy.stats import pearsonr, linregress\n",
    "from sklearn.metrics import mean_squared_error\n",
    "\n",
    "\n",
    "idx = np.isfinite(predict) & np.isfinite(actual_snf) \n",
    "\n",
    "\n",
    "#print(asos_snotel_UA_df[test_yrs][asos_snotel_UA_df['CMtnSNTL_Past12hrSNOWFALL_in']>=3].describe())\n",
    "\n",
    "\n",
    "## Do linear regression and calculate slope, intercept, r, p, std err\n",
    "slope1, intercept1, r_value1, p_value1, std_err1 = linregress(predict[idx], actual_snf[idx])\n",
    "#Calculate mse and rmse\n",
    "mse = mean_squared_error(actual_snf[idx].values,predict[idx].values)\n",
    "rmse = np.sqrt(mse)\n",
    "pearson1, pv = pearsonr(predict[idx], actual_snf[idx])\n",
    "\n",
    "#plot and annotate\n",
    "sns.regplot(predict[idx].values, actual_snf[idx].values)\n",
    "bbox_props=dict(facecolor='red', alpha=0.75, fc = 'white')\n",
    "plt.annotate(' slope: ' + str(round(slope1,3)) +\n",
    "                 '\\n intercept: ' + str(round(intercept1,3)) + \n",
    "                 '\\n R value: ' + str(round(r_value1,3)) +  \n",
    "                 '\\n p value: ' + str(round(p_value1,3)) + \n",
    "                 '\\n standard error: ' + str(round(std_err1,3)) +\n",
    "                 '\\n Pearson coefficent: ' + str(round(pearson1,3)) +\n",
    "                 '\\n mean squared error: ' + str(round(mse,3)) +\n",
    "                 '\\n root mean squared error: ' + str(round(rmse,3)), \\\n",
    "                 xy=(0.03, 0.72), xycoords='axes fraction', fontsize=10, bbox = bbox_props)\n",
    "\n",
    "plt.xlabel('Predicted Snowfall (inches)')\n",
    "plt.ylabel('Actual Snowfall (inches)')\n",
    "plt.xlim([3,6])\n",
    "plt.ylim([-3,16])\n",
    "plt.grid(True)\n",
    "plt.title('Predicted vs Actual Snowfall Amounts', fontsize = 16)\n",
    "\n",
    "plt.savefig('C:/Users/RAPP/Documents/Capstone/MS_CS_report/figs/pred_vs_act_SFC.png',bbox_inches='tight')"
   ]
  },
  {
   "cell_type": "markdown",
   "metadata": {},
   "source": [
    "**Plot Residuals**"
   ]
  },
  {
   "cell_type": "code",
   "execution_count": 32,
   "metadata": {},
   "outputs": [
    {
     "name": "stdout",
     "output_type": "stream",
     "text": [
      "[4.53275456 4.71730834 4.50892309 4.37799294 4.84268132 3.4734498\n",
      " 4.74255847 4.397715   3.80470797 4.80576635 4.06315886 4.07336494\n",
      " 4.25795882 4.73216371 4.3446735  4.37282117 4.85989125 4.3138662\n",
      " 3.218541   5.84240136 4.48975151 5.11006016 4.1709365  3.2638642\n",
      " 4.26390891 4.3293835  4.85714377 5.65637119 4.55797358 4.41475033\n",
      " 4.68993899 4.54195373 4.26563265 4.52979513 3.77249152 3.86466401\n",
      " 3.99263574 4.64492784 4.45365349 4.08644749 4.57755463 4.36252377\n",
      " 5.14897726 4.45947511 5.63843676 3.97643828 4.87906282]\n",
      "[ 5.  4.  5.  4.  5.  5.  7.  4.  4.  3.  4.  8.  4.  5.  8.  3.  6. 11.\n",
      "  3.  6.  3.  3.  4.  3.  5.  5.  5.  6.  3.  3.  3.  3.  4.  3.  3.  3.\n",
      "  3.  3.  5.  3. 16.  6. 11.  3.  8.  3.  5.]\n"
     ]
    },
    {
     "data": {
      "image/png": "[encoded data removed]",
      "text/plain": [
       "<Figure size 720x504 with 1 Axes>"
      ]
     },
     "metadata": {},
     "output_type": "display_data"
    }
   ],
   "source": [
    "fig = plt.figure(figsize=(10,7))\n",
    "\n",
    "plt.scatter(predict[idx].values, actual_snf[idx].values-predict[idx].values)\n",
    "print(predict[idx].values)\n",
    "print(actual_snf[idx].values)\n",
    "#print(actual_snf[idx].values-predict[idx].values)\n",
    "\n",
    "plt.ylabel('Actual - Predicted Snowfall (inches)')\n",
    "plt.xlabel('Predicted Snowfall (inches)')\n",
    "plt.xlim([2,7])\n",
    "plt.ylim([-3,13])\n",
    "plt.grid(True)\n",
    "plt.title('Predicted Snowfall Amounts vs Residuals', fontsize = 16)\n",
    "\n",
    "plt.savefig('C:/Users/RAPP/Documents/Capstone/MS_CS_report/figs/resid_vs_pred_SFC.png',bbox_inches='tight')\n"
   ]
  },
  {
   "cell_type": "code",
   "execution_count": 33,
   "metadata": {},
   "outputs": [
    {
     "data": {
      "image/png": "[encoded data removed]",
      "text/plain": [
       "<Figure size 720x504 with 1 Axes>"
      ]
     },
     "metadata": {},
     "output_type": "display_data"
    }
   ],
   "source": [
    "fig, ax = plt.subplots(figsize=(10, 7))\n",
    "qq2=sm.qqplot( maxOLS_testgoodp.resid, line='r', ax = ax)\n",
    "plt.title('Theoretical vs Sample Quantiles of Residuals', fontsize = 16)\n",
    "plt.grid(True)\n",
    "plt.savefig('C:/Users/RAPP/Documents/Capstone/MS_CS_report/figs/qq_resid_SFC.png',bbox_inches='tight')"
   ]
  },
  {
   "cell_type": "code",
   "execution_count": 41,
   "metadata": {},
   "outputs": [
    {
     "data": {
      "image/png": "[encoded data removed]",
      "text/plain": [
       "<Figure size 720x504 with 1 Axes>"
      ]
     },
     "metadata": {},
     "output_type": "display_data"
    }
   ],
   "source": [
    "\n",
    "diff = actual_snf[idx].values-predict[idx].values\n",
    "diff_df = pd.DataFrame(diff)\n",
    "\n",
    "#fig = plt.figure(figsize=(10,7))\n",
    "hist = diff_df.hist(figsize=(10,7), bins = [-4,-2,0,2,4,6,8,10,12,14])\n",
    "plt.hist(diff_df)\n",
    "plt.xlabel('Actual - Predicted Snowfall (inches)')\n",
    "plt.ylabel('Bin Count')\n",
    "plt.xlim([-4,14])\n",
    "plt.ylim([0,30])\n",
    "#plt.grid(True)\n",
    "plt.title('Histogram of Residuals', fontsize = 16)\n",
    "\n",
    "plt.savefig('C:/Users/RAPP/Documents/Capstone/MS_CS_report/figs/hist_actual_minus_pred_SFC.png',bbox_inches='tight')\n"
   ]
  },
  {
   "cell_type": "code",
   "execution_count": 23,
   "metadata": {},
   "outputs": [
    {
     "name": "stdout",
     "output_type": "stream",
     "text": [
      "0.5319148936170213 0.6595744680851063 0.8297872340425532\n"
     ]
    }
   ],
   "source": [
    "\n",
    "PercentSuccess1 = len([x for x in diff if abs(x)<=1])/len(diff)\n",
    "PercentSuccess15 = len([x for x in diff if abs(x)<=1.5])/len(diff)\n",
    "PercentSuccess2= len([x for x in diff if abs(x)<=2])/len(diff)\n",
    "print(PercentSuccess1, PercentSuccess15, PercentSuccess2)"
   ]
  }
 ],
 "metadata": {
  "kernelspec": {
   "display_name": "Python 3",
   "language": "python",
   "name": "python3"
  },
  "language_info": {
   "codemirror_mode": {
    "name": "ipython",
    "version": 3
   },
   "file_extension": ".py",
   "mimetype": "text/x-python",
   "name": "python",
   "nbconvert_exporter": "python",
   "pygments_lexer": "ipython3",
   "version": "3.6.5"
  }
 },
 "nbformat": 4,
 "nbformat_minor": 2
}
