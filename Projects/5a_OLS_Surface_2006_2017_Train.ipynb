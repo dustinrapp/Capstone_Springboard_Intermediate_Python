{
 "cells": [
  {
   "cell_type": "markdown",
   "metadata": {},
   "source": [
    "## Data Prep"
   ]
  },
  {
   "cell_type": "markdown",
   "metadata": {},
   "source": [
    "**Import necessary modules and the ASOS/SNOTEL dataframes**"
   ]
  },
  {
   "cell_type": "code",
   "execution_count": 1,
   "metadata": {},
   "outputs": [],
   "source": [
    "import pandas as pd\n",
    "import matplotlib.pyplot as plt\n",
    "import numpy as np\n",
    "import datetime as dtb\n",
    "import os\n",
    "from glob import glob\n",
    "import datetime as dt\n",
    "import seaborn as sns"
   ]
  },
  {
   "cell_type": "code",
   "execution_count": 2,
   "metadata": {},
   "outputs": [
    {
     "name": "stdout",
     "output_type": "stream",
     "text": [
      "Index(['CMtnSNTL_Temp_degC', 'CMtnSNTL_SnowDepth_in', 'CMtn_Temperature_degC',\n",
      "       'CMtn_Dewpoint_degC', 'CMtn_WindDirection_deg', 'CMtn_WindSpeed_mps',\n",
      "       'CMtn_CloudCover_oktas', 'CMtn_1hr_Precipitation_mm',\n",
      "       'LXV_Temperature_degC', 'LXV_Dewpoint_degC',\n",
      "       ...\n",
      "       'KGJT_d300_200_height_m', 'KGJT_d300_200_tmpc', 'KGJT_d300_200_dwpc',\n",
      "       'KGJT_d300_200_drct', 'KGJT_d300_200_speed_kts',\n",
      "       'KGJT_d250_200_height_m', 'KGJT_d250_200_tmpc', 'KGJT_d250_200_dwpc',\n",
      "       'KGJT_d250_200_drct', 'KGJT_d250_200_speed_kts'],\n",
      "      dtype='object', length=163)\n"
     ]
    }
   ],
   "source": [
    "data = [pd.read_csv('asos_snotel_UA_12hr_df.dat', parse_dates = True, index_col = 'Date_Time')]\n",
    "asos_snotel_UA_df = pd.concat(data)\n",
    "#asos_snotel_UA_df['LXV_WindSpeed_m/s']\n",
    "\n",
    "#asos_snotel_UA_df.rename(columns={'LXV_WindSpeed_m/s': 'LXV_WindSpeed_mps'}, inplace=True)\n",
    "\n",
    "asos_snotel_UA_df.astype('float16')\n",
    "pd.set_option('display.expand_frame_repr', True)\n",
    "\n",
    "\n",
    "print(asos_snotel_UA_df.keys())\n",
    "\n",
    "\n",
    "\n",
    "\n",
    "#delete empty columns as they mess up loops\n",
    "#del asos_snotel_UA_df['CMtn_6hr_Precipitation_mm']            #empty column\n"
   ]
  },
  {
   "cell_type": "markdown",
   "metadata": {},
   "source": [
    "It is important to keep in mind that 'CMtnSNTL_12hr_SNWD_in contains snow depth info taken at the start of the respective 12hr period timestamp.  The snowfall calculated also gives the snowfall that fell in the 12hrs after the timestamp.  The OLS model will utilize hourly meteorological measurements at exactly 00:00 and 12:00 hours to predict the amount of snow which will fall in the next 12 hour period.  For example, the 00:00 meteorological measurements will be used to predict the snow which fell between 00:00 and 12:00."
   ]
  },
  {
   "cell_type": "code",
   "execution_count": 3,
   "metadata": {},
   "outputs": [
    {
     "name": "stdout",
     "output_type": "stream",
     "text": [
      "count    8710.000000\n",
      "mean       -0.001883\n",
      "std         8.559429\n",
      "min       -30.600000\n",
      "25%        -6.270000\n",
      "50%         0.000000\n",
      "75%         7.300000\n",
      "max        19.100000\n",
      "Name: CMtnSNTL_Temp_degC, dtype: float64\n",
      "count    1406.000000\n",
      "mean        0.683570\n",
      "std         8.122622\n",
      "min       -28.100000\n",
      "25%        -4.875000\n",
      "50%         0.600000\n",
      "75%         7.500000\n",
      "max        18.300000\n",
      "Name: CMtnSNTL_Temp_degC, dtype: float64\n",
      "count    7304.000000\n",
      "mean       -0.133831\n",
      "std         8.635270\n",
      "min       -30.600000\n",
      "25%        -6.470000\n",
      "50%        -0.100000\n",
      "75%         7.225000\n",
      "max        19.100000\n",
      "Name: CMtnSNTL_Temp_degC, dtype: float64\n"
     ]
    }
   ],
   "source": [
    "#asos_snotel_UA_df['LXV_12hr_delta_Pressure_hp'] = asos_snotel_UA_df['LXV_Pressure_hp']-asos_snotel_UA_df['LXV_Pressure_hp'].shift(+12)\n",
    "#print(asos_snotel_UA_df['LXV_12hr_delta_Pressure_hp'].describe())\n",
    "all_yrs = (asos_snotel_UA_df.index >= '01-01-2006') & (asos_snotel_UA_df.index < '01-01-2018')\n",
    "test_yrs = ((asos_snotel_UA_df.index >= '01-01-2006') & (asos_snotel_UA_df.index < '01-01-2007')) | ((asos_snotel_UA_df.index >= '01-01-2017') & (asos_snotel_UA_df.index < '01-01-2018'))\n",
    "train_yrs = (asos_snotel_UA_df.index >= '01-01-2007') & (asos_snotel_UA_df.index < '01-01-2017')\n",
    "\n",
    "print(asos_snotel_UA_df[all_yrs]['CMtnSNTL_Temp_degC'].describe())\n",
    "print(asos_snotel_UA_df[test_yrs]['CMtnSNTL_Temp_degC'].describe())\n",
    "print(asos_snotel_UA_df[train_yrs]['CMtnSNTL_Temp_degC'].describe())"
   ]
  },
  {
   "cell_type": "markdown",
   "metadata": {},
   "source": [
    "***\n",
    "# OLS Analysis of meteorological variables and snowfall (Training Dataset: 2008-2017 only)"
   ]
  },
  {
   "cell_type": "markdown",
   "metadata": {},
   "source": [
    "**We will first utilize just the Copper Mountain surface level variables and run the model explicitly to generate statistics.  This will give snowfall predictive capability of individual meteorological variables (Dewpoint, SNOTEL Temperature, Temperature, Wind Speed, Cloud Cover, Wind Direction, 6hr Pressure change, and Pressure) using an OLS model and the 2008-2017 training dataset. The resulting values will also be used to verify some code which performs same analysis, but with a loop.  This code will then be fed all upper air and surface level variables to determine best combination of variables in the OLS model.**\n"
   ]
  },
  {
   "cell_type": "code",
   "execution_count": 4,
   "metadata": {},
   "outputs": [],
   "source": [
    "#Import statsmodel\n",
    "\n",
    "import statsmodels.api as sm\n",
    "#import statsmodel\n",
    "from statsmodels.formula.api import ols"
   ]
  },
  {
   "cell_type": "markdown",
   "metadata": {},
   "source": [
    "### Single Surface Variable OLS (no filtering)\n"
   ]
  },
  {
   "cell_type": "code",
   "execution_count": 5,
   "metadata": {},
   "outputs": [
    {
     "name": "stdout",
     "output_type": "stream",
     "text": [
      "                                      OLS Regression Results                                     \n",
      "=================================================================================================\n",
      "Dep. Variable:     CMtnSNTL_Upcoming12hrSNOWFALL_gte3_in   R-squared:                       0.007\n",
      "Model:                                               OLS   Adj. R-squared:                  0.002\n",
      "Method:                                    Least Squares   F-statistic:                     1.425\n",
      "Date:                                   Thu, 28 Mar 2019   Prob (F-statistic):              0.234\n",
      "Time:                                           22:29:29   Log-Likelihood:                -441.11\n",
      "No. Observations:                                    210   AIC:                             886.2\n",
      "Df Residuals:                                        208   BIC:                             892.9\n",
      "Df Model:                                              1                                         \n",
      "Covariance Type:                               nonrobust                                         \n",
      "======================================================================================\n",
      "                         coef    std err          t      P>|t|      [0.025      0.975]\n",
      "--------------------------------------------------------------------------------------\n",
      "Intercept              4.9522      0.353     14.023      0.000       4.256       5.648\n",
      "CMtn_Dewpoint_degC     0.0400      0.033      1.194      0.234      -0.026       0.106\n",
      "==============================================================================\n",
      "Omnibus:                       99.013   Durbin-Watson:                   1.902\n",
      "Prob(Omnibus):                  0.000   Jarque-Bera (JB):              346.902\n",
      "Skew:                           1.994   Prob(JB):                     4.69e-76\n",
      "Kurtosis:                       7.873   Cond. No.                         27.4\n",
      "==============================================================================\n",
      "\n",
      "Warnings:\n",
      "[1] Standard Errors assume that the covariance matrix of the errors is correctly specified.\n",
      "\n",
      " ++++++++++++++++++++++++++++++++++++++++++++++++++++++++++++++++++++++++++++++++++ \n",
      "\n",
      "                                      OLS Regression Results                                     \n",
      "=================================================================================================\n",
      "Dep. Variable:     CMtnSNTL_Upcoming12hrSNOWFALL_gte3_in   R-squared:                       0.000\n",
      "Model:                                               OLS   Adj. R-squared:                 -0.003\n",
      "Method:                                    Least Squares   F-statistic:                   0.08391\n",
      "Date:                                   Thu, 28 Mar 2019   Prob (F-statistic):              0.772\n",
      "Time:                                           22:29:29   Log-Likelihood:                -606.12\n",
      "No. Observations:                                    283   AIC:                             1216.\n",
      "Df Residuals:                                        281   BIC:                             1224.\n",
      "Df Model:                                              1                                         \n",
      "Covariance Type:                               nonrobust                                         \n",
      "======================================================================================\n",
      "                         coef    std err          t      P>|t|      [0.025      0.975]\n",
      "--------------------------------------------------------------------------------------\n",
      "Intercept              4.6264      0.168     27.539      0.000       4.296       4.957\n",
      "CMtnSNTL_Temp_degC     0.0092      0.032      0.290      0.772      -0.053       0.071\n",
      "==============================================================================\n",
      "Omnibus:                      147.398   Durbin-Watson:                   1.878\n",
      "Prob(Omnibus):                  0.000   Jarque-Bera (JB):              713.834\n",
      "Skew:                           2.196   Prob(JB):                    9.84e-156\n",
      "Kurtosis:                       9.423   Cond. No.                         7.38\n",
      "==============================================================================\n",
      "\n",
      "Warnings:\n",
      "[1] Standard Errors assume that the covariance matrix of the errors is correctly specified.\n",
      "\n",
      " ++++++++++++++++++++++++++++++++++++++++++++++++++++++++++++++++++++++++++++++++++ \n",
      "\n",
      "                                      OLS Regression Results                                     \n",
      "=================================================================================================\n",
      "Dep. Variable:     CMtnSNTL_Upcoming12hrSNOWFALL_gte3_in   R-squared:                       0.000\n",
      "Model:                                               OLS   Adj. R-squared:                 -0.004\n",
      "Method:                                    Least Squares   F-statistic:                    0.1029\n",
      "Date:                                   Thu, 28 Mar 2019   Prob (F-statistic):              0.749\n",
      "Time:                                           22:29:29   Log-Likelihood:                -441.78\n",
      "No. Observations:                                    210   AIC:                             887.6\n",
      "Df Residuals:                                        208   BIC:                             894.3\n",
      "Df Model:                                              1                                         \n",
      "Covariance Type:                               nonrobust                                         \n",
      "=========================================================================================\n",
      "                            coef    std err          t      P>|t|      [0.025      0.975]\n",
      "-----------------------------------------------------------------------------------------\n",
      "Intercept                 4.6154      0.212     21.783      0.000       4.198       5.033\n",
      "CMtn_Temperature_degC     0.0109      0.034      0.321      0.749      -0.056       0.078\n",
      "==============================================================================\n",
      "Omnibus:                       98.376   Durbin-Watson:                   1.899\n",
      "Prob(Omnibus):                  0.000   Jarque-Bera (JB):              338.614\n",
      "Skew:                           1.989   Prob(JB):                     2.96e-74\n",
      "Kurtosis:                       7.783   Cond. No.                         9.75\n",
      "==============================================================================\n",
      "\n",
      "Warnings:\n",
      "[1] Standard Errors assume that the covariance matrix of the errors is correctly specified.\n",
      "\n",
      " ++++++++++++++++++++++++++++++++++++++++++++++++++++++++++++++++++++++++++++++++++ \n",
      "\n",
      "                                      OLS Regression Results                                     \n",
      "=================================================================================================\n",
      "Dep. Variable:     CMtnSNTL_Upcoming12hrSNOWFALL_gte3_in   R-squared:                       0.020\n",
      "Model:                                               OLS   Adj. R-squared:                  0.015\n",
      "Method:                                    Least Squares   F-statistic:                     4.126\n",
      "Date:                                   Thu, 28 Mar 2019   Prob (F-statistic):             0.0435\n",
      "Time:                                           22:29:29   Log-Likelihood:                -428.71\n",
      "No. Observations:                                    209   AIC:                             861.4\n",
      "Df Residuals:                                        207   BIC:                             868.1\n",
      "Df Model:                                              1                                         \n",
      "Covariance Type:                               nonrobust                                         \n",
      "======================================================================================\n",
      "                         coef    std err          t      P>|t|      [0.025      0.975]\n",
      "--------------------------------------------------------------------------------------\n",
      "Intercept              3.9340      0.318     12.361      0.000       3.307       4.561\n",
      "CMtn_WindSpeed_mps     0.0731      0.036      2.031      0.044       0.002       0.144\n",
      "==============================================================================\n",
      "Omnibus:                       94.322   Durbin-Watson:                   1.875\n",
      "Prob(Omnibus):                  0.000   Jarque-Bera (JB):              323.649\n",
      "Skew:                           1.900   Prob(JB):                     5.26e-71\n",
      "Kurtosis:                       7.768   Cond. No.                         21.8\n",
      "==============================================================================\n",
      "\n",
      "Warnings:\n",
      "[1] Standard Errors assume that the covariance matrix of the errors is correctly specified.\n",
      "\n",
      " ++++++++++++++++++++++++++++++++++++++++++++++++++++++++++++++++++++++++++++++++++ \n",
      "\n",
      "                                      OLS Regression Results                                     \n",
      "=================================================================================================\n",
      "Dep. Variable:     CMtnSNTL_Upcoming12hrSNOWFALL_gte3_in   R-squared:                       0.019\n",
      "Model:                                               OLS   Adj. R-squared:                  0.011\n",
      "Method:                                    Least Squares   F-statistic:                     2.337\n",
      "Date:                                   Thu, 28 Mar 2019   Prob (F-statistic):              0.129\n",
      "Time:                                           22:29:29   Log-Likelihood:                -239.44\n",
      "No. Observations:                                    121   AIC:                             482.9\n",
      "Df Residuals:                                        119   BIC:                             488.5\n",
      "Df Model:                                              1                                         \n",
      "Covariance Type:                               nonrobust                                         \n",
      "=========================================================================================\n",
      "                            coef    std err          t      P>|t|      [0.025      0.975]\n",
      "-----------------------------------------------------------------------------------------\n",
      "Intercept                 3.1650      0.764      4.141      0.000       1.652       4.678\n",
      "CMtn_CloudCover_oktas     0.1522      0.100      1.529      0.129      -0.045       0.349\n",
      "==============================================================================\n",
      "Omnibus:                       59.281   Durbin-Watson:                   2.003\n",
      "Prob(Omnibus):                  0.000   Jarque-Bera (JB):              173.992\n",
      "Skew:                           1.890   Prob(JB):                     1.65e-38\n",
      "Kurtosis:                       7.496   Cond. No.                         37.1\n",
      "==============================================================================\n",
      "\n",
      "Warnings:\n",
      "[1] Standard Errors assume that the covariance matrix of the errors is correctly specified.\n",
      "\n",
      " ++++++++++++++++++++++++++++++++++++++++++++++++++++++++++++++++++++++++++++++++++ \n",
      "\n",
      "                                      OLS Regression Results                                     \n",
      "=================================================================================================\n",
      "Dep. Variable:     CMtnSNTL_Upcoming12hrSNOWFALL_gte3_in   R-squared:                       0.000\n",
      "Model:                                               OLS   Adj. R-squared:                 -0.004\n",
      "Method:                                    Least Squares   F-statistic:                   0.09940\n",
      "Date:                                   Thu, 28 Mar 2019   Prob (F-statistic):              0.753\n",
      "Time:                                           22:29:29   Log-Likelihood:                -430.72\n",
      "No. Observations:                                    209   AIC:                             865.4\n",
      "Df Residuals:                                        207   BIC:                             872.1\n",
      "Df Model:                                              1                                         \n",
      "Covariance Type:                               nonrobust                                         \n",
      "==========================================================================================\n",
      "                             coef    std err          t      P>|t|      [0.025      0.975]\n",
      "------------------------------------------------------------------------------------------\n",
      "Intercept                  4.3506      0.564      7.719      0.000       3.239       5.462\n",
      "CMtn_WindDirection_deg     0.0007      0.002      0.315      0.753      -0.004       0.005\n",
      "==============================================================================\n",
      "Omnibus:                       93.525   Durbin-Watson:                   1.858\n",
      "Prob(Omnibus):                  0.000   Jarque-Bera (JB):              307.591\n",
      "Skew:                           1.906   Prob(JB):                     1.61e-67\n",
      "Kurtosis:                       7.560   Cond. No.                     1.03e+03\n",
      "==============================================================================\n",
      "\n",
      "Warnings:\n",
      "[1] Standard Errors assume that the covariance matrix of the errors is correctly specified.\n",
      "[2] The condition number is large, 1.03e+03. This might indicate that there are\n",
      "strong multicollinearity or other numerical problems.\n",
      "\n",
      " ++++++++++++++++++++++++++++++++++++++++++++++++++++++++++++++++++++++++++++++++++ \n",
      "\n",
      "                                      OLS Regression Results                                     \n",
      "=================================================================================================\n",
      "Dep. Variable:     CMtnSNTL_Upcoming12hrSNOWFALL_gte3_in   R-squared:                       0.026\n",
      "Model:                                               OLS   Adj. R-squared:                  0.022\n",
      "Method:                                    Least Squares   F-statistic:                     6.617\n",
      "Date:                                   Thu, 28 Mar 2019   Prob (F-statistic):             0.0107\n",
      "Time:                                           22:29:29   Log-Likelihood:                -537.24\n",
      "No. Observations:                                    248   AIC:                             1078.\n",
      "Df Residuals:                                        246   BIC:                             1086.\n",
      "Df Model:                                              1                                         \n",
      "Covariance Type:                               nonrobust                                         \n",
      "==============================================================================================\n",
      "                                 coef    std err          t      P>|t|      [0.025      0.975]\n",
      "----------------------------------------------------------------------------------------------\n",
      "Intercept                      4.4436      0.153     28.977      0.000       4.142       4.746\n",
      "LXV_12hr_delta_Pressure_hp    -0.0652      0.025     -2.572      0.011      -0.115      -0.015\n",
      "==============================================================================\n",
      "Omnibus:                      125.977   Durbin-Watson:                   1.904\n",
      "Prob(Omnibus):                  0.000   Jarque-Bera (JB):              547.171\n",
      "Skew:                           2.133   Prob(JB):                    1.53e-119\n",
      "Kurtosis:                       8.896   Cond. No.                         6.94\n",
      "==============================================================================\n",
      "\n",
      "Warnings:\n",
      "[1] Standard Errors assume that the covariance matrix of the errors is correctly specified.\n",
      "\n",
      " ++++++++++++++++++++++++++++++++++++++++++++++++++++++++++++++++++++++++++++++++++ \n",
      "\n",
      "                                      OLS Regression Results                                     \n",
      "=================================================================================================\n",
      "Dep. Variable:     CMtnSNTL_Upcoming12hrSNOWFALL_gte3_in   R-squared:                       0.002\n",
      "Model:                                               OLS   Adj. R-squared:                 -0.002\n",
      "Method:                                    Least Squares   F-statistic:                    0.4874\n",
      "Date:                                   Thu, 28 Mar 2019   Prob (F-statistic):              0.486\n",
      "Time:                                           22:29:29   Log-Likelihood:                -542.01\n",
      "No. Observations:                                    249   AIC:                             1088.\n",
      "Df Residuals:                                        247   BIC:                             1095.\n",
      "Df Model:                                              1                                         \n",
      "Covariance Type:                               nonrobust                                         \n",
      "===================================================================================\n",
      "                      coef    std err          t      P>|t|      [0.025      0.975]\n",
      "-----------------------------------------------------------------------------------\n",
      "Intercept          16.0875     16.412      0.980      0.328     -16.238      48.413\n",
      "LXV_Pressure_hp    -0.0114      0.016     -0.698      0.486      -0.044       0.021\n",
      "==============================================================================\n",
      "Omnibus:                      128.124   Durbin-Watson:                   1.882\n",
      "Prob(Omnibus):                  0.000   Jarque-Bera (JB):              561.978\n",
      "Skew:                           2.164   Prob(JB):                    9.29e-123\n",
      "Kurtosis:                       8.953   Cond. No.                     1.22e+05\n",
      "==============================================================================\n",
      "\n",
      "Warnings:\n",
      "[1] Standard Errors assume that the covariance matrix of the errors is correctly specified.\n",
      "[2] The condition number is large, 1.22e+05. This might indicate that there are\n",
      "strong multicollinearity or other numerical problems.\n",
      "\n",
      " ++++++++++++++++++++++++++++++++++++++++++++++++++++++++++++++++++++++++++++++++++ \n",
      "\n",
      "Intercept             4.952250\n",
      "CMtn_Dewpoint_degC    0.039955\n",
      "dtype: float64\n"
     ]
    }
   ],
   "source": [
    "\n",
    "\n",
    "OLS_CMtn_Dewpoint = ols('CMtnSNTL_Upcoming12hrSNOWFALL_gte3_in ~ CMtn_Dewpoint_degC',asos_snotel_UA_df[train_yrs]).fit()\n",
    "OLS_CMtnSNTL_Temp = ols('CMtnSNTL_Upcoming12hrSNOWFALL_gte3_in ~ CMtnSNTL_Temp_degC',asos_snotel_UA_df[train_yrs]).fit()\n",
    "OLS_CMtn_Temperature = ols('CMtnSNTL_Upcoming12hrSNOWFALL_gte3_in ~ CMtn_Temperature_degC',asos_snotel_UA_df[train_yrs]).fit()\n",
    "OLS_CMtn_WindSpeed = ols('CMtnSNTL_Upcoming12hrSNOWFALL_gte3_in ~ CMtn_WindSpeed_mps',asos_snotel_UA_df[train_yrs]).fit()\n",
    "OLS_CMtn_CloudCover = ols('CMtnSNTL_Upcoming12hrSNOWFALL_gte3_in ~ CMtn_CloudCover_oktas', asos_snotel_UA_df[train_yrs]).fit()\n",
    "OLS_CMtn_WindDirection = ols('CMtnSNTL_Upcoming12hrSNOWFALL_gte3_in ~ CMtn_WindDirection_deg', asos_snotel_UA_df[train_yrs]).fit()\n",
    "OLS_LXV_12hr_delta_Pressure = ols('CMtnSNTL_Upcoming12hrSNOWFALL_gte3_in ~ LXV_12hr_delta_Pressure_hp', asos_snotel_UA_df[train_yrs]).fit()\n",
    "OLS_LXV_Pressure = ols('CMtnSNTL_Upcoming12hrSNOWFALL_gte3_in ~ LXV_Pressure_hp', asos_snotel_UA_df[train_yrs]).fit()\n",
    "\n",
    "\n",
    "print(OLS_CMtn_Dewpoint.summary())\n",
    "print(\"\\n ++++++++++++++++++++++++++++++++++++++++++++++++++++++++++++++++++++++++++++++++++ \\n\")\n",
    "print(OLS_CMtnSNTL_Temp.summary())\n",
    "print(\"\\n ++++++++++++++++++++++++++++++++++++++++++++++++++++++++++++++++++++++++++++++++++ \\n\")\n",
    "print(OLS_CMtn_Temperature.summary())\n",
    "print(\"\\n ++++++++++++++++++++++++++++++++++++++++++++++++++++++++++++++++++++++++++++++++++ \\n\")\n",
    "print(OLS_CMtn_WindSpeed.summary())\n",
    "print(\"\\n ++++++++++++++++++++++++++++++++++++++++++++++++++++++++++++++++++++++++++++++++++ \\n\")\n",
    "print(OLS_CMtn_CloudCover.summary())\n",
    "print(\"\\n ++++++++++++++++++++++++++++++++++++++++++++++++++++++++++++++++++++++++++++++++++ \\n\")\n",
    "print(OLS_CMtn_WindDirection.summary())\n",
    "print(\"\\n ++++++++++++++++++++++++++++++++++++++++++++++++++++++++++++++++++++++++++++++++++ \\n\")\n",
    "print(OLS_LXV_12hr_delta_Pressure.summary())\n",
    "print(\"\\n ++++++++++++++++++++++++++++++++++++++++++++++++++++++++++++++++++++++++++++++++++ \\n\")\n",
    "print(OLS_LXV_Pressure.summary())\n",
    "print(\"\\n ++++++++++++++++++++++++++++++++++++++++++++++++++++++++++++++++++++++++++++++++++ \\n\")\n",
    "\n",
    "\n",
    "\n",
    "#['CMtnSNTL_Temp_degC', 'CMtnSNTL_SnowDepth_in', 'CMtn_Temperature_degC',\n",
    "#       'CMtn_Dewpoint_degC', 'CMtn_WindDirection_deg', 'CMtn_WindSpeed_mps',\n",
    "#       'CMtn_CloudCover_oktas', 'CMtn_1hr_Precipitation_mm',\n",
    "#       'LXV_Temperature_degC', 'LXV_Dewpoint_degC'\n",
    "\n",
    "\n",
    "#print(a.rsquared)\n",
    "#print(a.rsquared_adj)\n",
    "#print(a.rsquared_adj)\n",
    "#print(a.fvalue)\n",
    "#print(a.f_pvalue)\n",
    "#print(a.pvalues)\n",
    "print(OLS_CMtn_Dewpoint.params)\n",
    "#qq=sm.qqplot(a.resid, line='r')\n",
    "\n"
   ]
  },
  {
   "cell_type": "markdown",
   "metadata": {},
   "source": [
    "#### Single Variable Summary\n",
    "**Adjusted R:**  \n",
    "OLS_CMtn_Dewpoint: 0.007  \n",
    "OLS_CMtnSNTL_Temp:  -0.002 \n",
    "OLS_CMtn_Temperature: -0.005  \n",
    "OLS_CMtn_WindSpeed:  0.017  \n",
    "OLS_CMtn_CloudCover:  0.000  \n",
    "OLS_CMtn_WindDirection:  -0.004  \n",
    "OLS_LXV_6hr_delta_Pressure:   0.004  \n",
    "OLS_LXV_Pressure:    -0.003  \n",
    "\n",
    "**Prob (F-statistic):**  \n",
    "OLS_CMtn_Dewpoint: 0.139  \n",
    "OLS_CMtnSNTL_Temp: 0.483  \n",
    "OLS_CMtn_Temperature:  0.708  \n",
    "OLS_CMtn_WindSpeed:  0.0466  \n",
    "OLS_CMtn_CloudCover: 0.316 \n",
    "OLS_CMtn_WindDirection:   0.614  \n",
    "OLS_LXV_6hr_delta_Pressure:  0.155  \n",
    "OLS_LXV_Pressure:   0.550 \n",
    "  \n",
    "From this, we can glean that Dewpoint alone likely has the best fit as the adjusted R squared is the highest.  The F statistics such signficant correlations (at 5% confident interval) for only  Dewpoint and Pressure)."
   ]
  },
  {
   "cell_type": "markdown",
   "metadata": {},
   "source": [
    "## Run OLS model with all surface variables only (no filtering)"
   ]
  },
  {
   "cell_type": "code",
   "execution_count": 6,
   "metadata": {},
   "outputs": [
    {
     "name": "stdout",
     "output_type": "stream",
     "text": [
      "['CMtnSNTL_Temp_degC', 'CMtn_Temperature_degC', 'CMtn_Dewpoint_degC', 'CMtn_WindDirection_deg', 'CMtn_WindSpeed_mps', 'CMtn_CloudCover_oktas', 'LXV_Temperature_degC', 'LXV_Dewpoint_degC', 'LXV_Pressure_hp', 'LXV_WindSpeed_mps', 'LXV_WindDirection_deg', 'LXV_CloudCover_oktas', 'LXV_12hr_delta_Pressure_hp']\n",
      "******\n",
      "LXV_12hr_delta_Pressure_hp\n",
      "CMtn_WindSpeed_mps+ LXV_12hr_delta_Pressure_hp\n",
      "CMtn_Dewpoint_degC+ CMtn_WindSpeed_mps+ LXV_12hr_delta_Pressure_hp\n",
      "CMtn_WindDirection_deg+ CMtn_Dewpoint_degC+ CMtn_WindSpeed_mps+ LXV_12hr_delta_Pressure_hp\n",
      "LXV_Dewpoint_degC+ CMtn_WindDirection_deg+ CMtn_Dewpoint_degC+ CMtn_WindSpeed_mps+ LXV_12hr_delta_Pressure_hp\n",
      "LXV_WindSpeed_mps+ LXV_Dewpoint_degC+ CMtn_WindDirection_deg+ CMtn_Dewpoint_degC+ CMtn_WindSpeed_mps+ LXV_12hr_delta_Pressure_hp\n",
      "CMtn_Temperature_degC+ LXV_WindSpeed_mps+ LXV_Dewpoint_degC+ CMtn_WindDirection_deg+ CMtn_Dewpoint_degC+ CMtn_WindSpeed_mps+ LXV_12hr_delta_Pressure_hp\n",
      "LXV_Temperature_degC+ CMtn_Temperature_degC+ LXV_WindSpeed_mps+ LXV_Dewpoint_degC+ CMtn_WindDirection_deg+ CMtn_Dewpoint_degC+ CMtn_WindSpeed_mps+ LXV_12hr_delta_Pressure_hp\n",
      "LXV_Pressure_hp+ LXV_Temperature_degC+ CMtn_Temperature_degC+ LXV_WindSpeed_mps+ LXV_Dewpoint_degC+ CMtn_WindDirection_deg+ CMtn_Dewpoint_degC+ CMtn_WindSpeed_mps+ LXV_12hr_delta_Pressure_hp\n",
      "CMtnSNTL_Temp_degC+ LXV_Pressure_hp+ LXV_Temperature_degC+ CMtn_Temperature_degC+ LXV_WindSpeed_mps+ LXV_Dewpoint_degC+ CMtn_WindDirection_deg+ CMtn_Dewpoint_degC+ CMtn_WindSpeed_mps+ LXV_12hr_delta_Pressure_hp\n",
      "LXV_WindDirection_deg+ CMtnSNTL_Temp_degC+ LXV_Pressure_hp+ LXV_Temperature_degC+ CMtn_Temperature_degC+ LXV_WindSpeed_mps+ LXV_Dewpoint_degC+ CMtn_WindDirection_deg+ CMtn_Dewpoint_degC+ CMtn_WindSpeed_mps+ LXV_12hr_delta_Pressure_hp\n",
      "CMtn_CloudCover_oktas+ LXV_WindDirection_deg+ CMtnSNTL_Temp_degC+ LXV_Pressure_hp+ LXV_Temperature_degC+ CMtn_Temperature_degC+ LXV_WindSpeed_mps+ LXV_Dewpoint_degC+ CMtn_WindDirection_deg+ CMtn_Dewpoint_degC+ CMtn_WindSpeed_mps+ LXV_12hr_delta_Pressure_hp\n",
      "LXV_CloudCover_oktas+ CMtn_CloudCover_oktas+ LXV_WindDirection_deg+ CMtnSNTL_Temp_degC+ LXV_Pressure_hp+ LXV_Temperature_degC+ CMtn_Temperature_degC+ LXV_WindSpeed_mps+ LXV_Dewpoint_degC+ CMtn_WindDirection_deg+ CMtn_Dewpoint_degC+ CMtn_WindSpeed_mps+ LXV_12hr_delta_Pressure_hp\n",
      "[0.022236455335143734, 0.034295356135126354, 0.04429241266469841, 0.04209930311720922, 0.038158996981246585, 0.0336387864903418, 0.028668496924133646, 0.0265360664591221, 0.021212101517951387, 0.015488634692257364, 0.009672148479281217, -0.026357318026523302, -0.05248593599071505]\n",
      "['LXV_12hr_delta_Pressure_hp', 'CMtn_WindSpeed_mps+ LXV_12hr_delta_Pressure_hp', 'CMtn_Dewpoint_degC+ CMtn_WindSpeed_mps+ LXV_12hr_delta_Pressure_hp', 'CMtn_WindDirection_deg+ CMtn_Dewpoint_degC+ CMtn_WindSpeed_mps+ LXV_12hr_delta_Pressure_hp', 'LXV_Dewpoint_degC+ CMtn_WindDirection_deg+ CMtn_Dewpoint_degC+ CMtn_WindSpeed_mps+ LXV_12hr_delta_Pressure_hp', 'LXV_WindSpeed_mps+ LXV_Dewpoint_degC+ CMtn_WindDirection_deg+ CMtn_Dewpoint_degC+ CMtn_WindSpeed_mps+ LXV_12hr_delta_Pressure_hp', 'CMtn_Temperature_degC+ LXV_WindSpeed_mps+ LXV_Dewpoint_degC+ CMtn_WindDirection_deg+ CMtn_Dewpoint_degC+ CMtn_WindSpeed_mps+ LXV_12hr_delta_Pressure_hp', 'LXV_Temperature_degC+ CMtn_Temperature_degC+ LXV_WindSpeed_mps+ LXV_Dewpoint_degC+ CMtn_WindDirection_deg+ CMtn_Dewpoint_degC+ CMtn_WindSpeed_mps+ LXV_12hr_delta_Pressure_hp', 'LXV_Pressure_hp+ LXV_Temperature_degC+ CMtn_Temperature_degC+ LXV_WindSpeed_mps+ LXV_Dewpoint_degC+ CMtn_WindDirection_deg+ CMtn_Dewpoint_degC+ CMtn_WindSpeed_mps+ LXV_12hr_delta_Pressure_hp', 'CMtnSNTL_Temp_degC+ LXV_Pressure_hp+ LXV_Temperature_degC+ CMtn_Temperature_degC+ LXV_WindSpeed_mps+ LXV_Dewpoint_degC+ CMtn_WindDirection_deg+ CMtn_Dewpoint_degC+ CMtn_WindSpeed_mps+ LXV_12hr_delta_Pressure_hp', 'LXV_WindDirection_deg+ CMtnSNTL_Temp_degC+ LXV_Pressure_hp+ LXV_Temperature_degC+ CMtn_Temperature_degC+ LXV_WindSpeed_mps+ LXV_Dewpoint_degC+ CMtn_WindDirection_deg+ CMtn_Dewpoint_degC+ CMtn_WindSpeed_mps+ LXV_12hr_delta_Pressure_hp', 'CMtn_CloudCover_oktas+ LXV_WindDirection_deg+ CMtnSNTL_Temp_degC+ LXV_Pressure_hp+ LXV_Temperature_degC+ CMtn_Temperature_degC+ LXV_WindSpeed_mps+ LXV_Dewpoint_degC+ CMtn_WindDirection_deg+ CMtn_Dewpoint_degC+ CMtn_WindSpeed_mps+ LXV_12hr_delta_Pressure_hp', 'LXV_CloudCover_oktas+ CMtn_CloudCover_oktas+ LXV_WindDirection_deg+ CMtnSNTL_Temp_degC+ LXV_Pressure_hp+ LXV_Temperature_degC+ CMtn_Temperature_degC+ LXV_WindSpeed_mps+ LXV_Dewpoint_degC+ CMtn_WindDirection_deg+ CMtn_Dewpoint_degC+ CMtn_WindSpeed_mps+ LXV_12hr_delta_Pressure_hp']\n",
      "[0.010686928774896123, 0.016860216110463188, 0.011840167770191997, 0.02105793552464143, 0.03764630917434746, 0.06301952563257901, 0.09941154690477745, 0.12511809691467896, 0.17824269215271413, 0.2443645239104593, 0.31938660972461147, 0.6440400054087423, 0.7998251880578628]\n",
      "OrderedDict([('LXV_12hr_delta_Pressure_hp', (0.022236455335143734, 0.010686928774896123)), ('CMtn_WindSpeed_mps+ LXV_12hr_delta_Pressure_hp', (0.034295356135126354, 0.016860216110463188)), ('CMtn_Dewpoint_degC+ CMtn_WindSpeed_mps+ LXV_12hr_delta_Pressure_hp', (0.04429241266469841, 0.011840167770191997)), ('CMtn_WindDirection_deg+ CMtn_Dewpoint_degC+ CMtn_WindSpeed_mps+ LXV_12hr_delta_Pressure_hp', (0.04209930311720922, 0.02105793552464143)), ('LXV_Dewpoint_degC+ CMtn_WindDirection_deg+ CMtn_Dewpoint_degC+ CMtn_WindSpeed_mps+ LXV_12hr_delta_Pressure_hp', (0.038158996981246585, 0.03764630917434746)), ('LXV_WindSpeed_mps+ LXV_Dewpoint_degC+ CMtn_WindDirection_deg+ CMtn_Dewpoint_degC+ CMtn_WindSpeed_mps+ LXV_12hr_delta_Pressure_hp', (0.0336387864903418, 0.06301952563257901)), ('CMtn_Temperature_degC+ LXV_WindSpeed_mps+ LXV_Dewpoint_degC+ CMtn_WindDirection_deg+ CMtn_Dewpoint_degC+ CMtn_WindSpeed_mps+ LXV_12hr_delta_Pressure_hp', (0.028668496924133646, 0.09941154690477745)), ('LXV_Temperature_degC+ CMtn_Temperature_degC+ LXV_WindSpeed_mps+ LXV_Dewpoint_degC+ CMtn_WindDirection_deg+ CMtn_Dewpoint_degC+ CMtn_WindSpeed_mps+ LXV_12hr_delta_Pressure_hp', (0.0265360664591221, 0.12511809691467896)), ('LXV_Pressure_hp+ LXV_Temperature_degC+ CMtn_Temperature_degC+ LXV_WindSpeed_mps+ LXV_Dewpoint_degC+ CMtn_WindDirection_deg+ CMtn_Dewpoint_degC+ CMtn_WindSpeed_mps+ LXV_12hr_delta_Pressure_hp', (0.021212101517951387, 0.17824269215271413)), ('CMtnSNTL_Temp_degC+ LXV_Pressure_hp+ LXV_Temperature_degC+ CMtn_Temperature_degC+ LXV_WindSpeed_mps+ LXV_Dewpoint_degC+ CMtn_WindDirection_deg+ CMtn_Dewpoint_degC+ CMtn_WindSpeed_mps+ LXV_12hr_delta_Pressure_hp', (0.015488634692257364, 0.2443645239104593)), ('LXV_WindDirection_deg+ CMtnSNTL_Temp_degC+ LXV_Pressure_hp+ LXV_Temperature_degC+ CMtn_Temperature_degC+ LXV_WindSpeed_mps+ LXV_Dewpoint_degC+ CMtn_WindDirection_deg+ CMtn_Dewpoint_degC+ CMtn_WindSpeed_mps+ LXV_12hr_delta_Pressure_hp', (0.009672148479281217, 0.31938660972461147)), ('CMtn_CloudCover_oktas+ LXV_WindDirection_deg+ CMtnSNTL_Temp_degC+ LXV_Pressure_hp+ LXV_Temperature_degC+ CMtn_Temperature_degC+ LXV_WindSpeed_mps+ LXV_Dewpoint_degC+ CMtn_WindDirection_deg+ CMtn_Dewpoint_degC+ CMtn_WindSpeed_mps+ LXV_12hr_delta_Pressure_hp', (-0.026357318026523302, 0.6440400054087423)), ('LXV_CloudCover_oktas+ CMtn_CloudCover_oktas+ LXV_WindDirection_deg+ CMtnSNTL_Temp_degC+ LXV_Pressure_hp+ LXV_Temperature_degC+ CMtn_Temperature_degC+ LXV_WindSpeed_mps+ LXV_Dewpoint_degC+ CMtn_WindDirection_deg+ CMtn_Dewpoint_degC+ CMtn_WindSpeed_mps+ LXV_12hr_delta_Pressure_hp', (-0.05248593599071505, 0.7998251880578628))])\n"
     ]
    }
   ],
   "source": [
    "#'CMtn_1hr_Precipitation_mm', 'CMtn_6hr_Precipitation_mm'\n",
    "\n",
    "\n",
    "variables = ['CMtnSNTL_Temp_degC', 'CMtn_Temperature_degC', 'CMtn_Dewpoint_degC', 'CMtn_WindDirection_deg', 'CMtn_WindSpeed_mps', 'CMtn_CloudCover_oktas', \\\n",
    " 'LXV_Temperature_degC', 'LXV_Dewpoint_degC', 'LXV_Pressure_hp', 'LXV_WindSpeed_mps', 'LXV_WindDirection_deg', 'LXV_CloudCover_oktas', 'LXV_12hr_delta_Pressure_hp']\n",
    "from collections import OrderedDict\n",
    "\n",
    "variables_org = variables\n",
    "print(variables)\n",
    "\n",
    "print('******')\n",
    "adjRs = []\n",
    "newRs = []\n",
    "dup_var = []\n",
    "max_vars = []\n",
    "f_pvalues = []\n",
    "\n",
    "while variables != []:\n",
    "  #print(variables)\n",
    "  for var in variables:\n",
    "\n",
    "        \n",
    "    #print(variables)\n",
    "    max_var = max(variables, key = lambda v: ols('CMtnSNTL_Upcoming12hrSNOWFALL_gte3_in ~' + v, asos_snotel_UA_df[train_yrs]).fit().rsquared_adj)    #this finds OLS model run with highest adj R squared\n",
    "    OLS = ols('CMtnSNTL_Upcoming12hrSNOWFALL_gte3_in ~' + max_var, asos_snotel_UA_df[train_yrs]).fit()\n",
    "    \n",
    "    print(max_var)\n",
    "    #print(max_var)\n",
    "    #print(OLS.rsquared)\n",
    "    \n",
    "    #Create lists of statistics for each combination of variables modeld\n",
    "    adjRs.append(OLS.rsquared_adj)\n",
    "    f_pvalues.append(OLS.f_pvalue)\n",
    "    max_vars.append(max_var)\n",
    "\n",
    "    add_max_var = '+ '+ max_var\n",
    "    \n",
    "    variables = [s + add_max_var for s in variables_org]\n",
    "    \n",
    "    #The above for loop naturally will create a duplicate variable, which should be removed\n",
    "    for v in variables_org: \n",
    "      dup_var = []\n",
    "      dup_var = [var for var in variables if var.count(v)>1]\n",
    "      if dup_var!=[]:\n",
    "            for dup in dup_var: variables.remove(dup)\n",
    "\n",
    "#combine the modeled variable sequences with respective stats  \n",
    "stats = list(zip(adjRs, f_pvalues))    # create list of tuples\n",
    "dictionary = OrderedDict(zip(max_vars, stats))\n",
    "#dictionary_adjRs = OrderedDict(zip(max_vars, f_pvalues))\n",
    "print(adjRs)\n",
    "print(max_vars)\n",
    "print(f_pvalues)\n",
    "print(dictionary)\n"
   ]
  },
  {
   "cell_type": "markdown",
   "metadata": {},
   "source": []
  },
  {
   "cell_type": "code",
   "execution_count": null,
   "metadata": {},
   "outputs": [],
   "source": [
    "\n"
   ]
  },
  {
   "cell_type": "code",
   "execution_count": 7,
   "metadata": {},
   "outputs": [
    {
     "data": {
      "text/plain": [
       "[<matplotlib.lines.Line2D at 0x159260d0>]"
      ]
     },
     "execution_count": 7,
     "metadata": {},
     "output_type": "execute_result"
    },
    {
     "data": {
      "image/png": "[encoded data removed]",
      "text/plain": [
       "<Figure size 432x288 with 1 Axes>"
      ]
     },
     "metadata": {},
     "output_type": "display_data"
    }
   ],
   "source": [
    "plt.plot(adjRs)"
   ]
  },
  {
   "cell_type": "code",
   "execution_count": 8,
   "metadata": {},
   "outputs": [
    {
     "data": {
      "text/plain": [
       "[<matplotlib.lines.Line2D at 0x159c8990>]"
      ]
     },
     "execution_count": 8,
     "metadata": {},
     "output_type": "execute_result"
    },
    {
     "data": {
      "image/png": "[encoded data removed]",
      "text/plain": [
       "<Figure size 432x288 with 1 Axes>"
      ]
     },
     "metadata": {},
     "output_type": "display_data"
    }
   ],
   "source": [
    "plt.plot(f_pvalues)"
   ]
  },
  {
   "cell_type": "markdown",
   "metadata": {},
   "source": [
    "## Run OLS model with surface variables only (high data capture, filtered by UA)\n",
    "**We only want to use features with high data capture in the training years**"
   ]
  },
  {
   "cell_type": "code",
   "execution_count": 9,
   "metadata": {},
   "outputs": [
    {
     "name": "stdout",
     "output_type": "stream",
     "text": [
      "Variables with >= 67% data match to snowfall: \n",
      "['CMtnSNTL_Temp_degC', 'CMtn_Temperature_degC', 'CMtn_Dewpoint_degC', 'CMtn_WindDirection_deg', 'CMtn_WindSpeed_mps', 'LXV_Temperature_degC', 'LXV_Dewpoint_degC', 'LXV_Pressure_hp', 'LXV_WindSpeed_mps', 'LXV_WindDirection_deg', 'LXV_12hr_delta_Pressure_hp', 'KGJT_200mb_height_m', 'KGJT_200mb_tmpc', 'KGJT_200mb_dwpc', 'KGJT_200mb_drct', 'KGJT_200mb_speed_kts', 'KGJT_250mb_height_m', 'KGJT_250mb_tmpc', 'KGJT_250mb_dwpc', 'KGJT_250mb_drct', 'KGJT_250mb_speed_kts', 'KGJT_300mb_height_m', 'KGJT_300mb_tmpc', 'KGJT_300mb_dwpc', 'KGJT_300mb_drct', 'KGJT_300mb_speed_kts', 'KGJT_400mb_height_m', 'KGJT_400mb_tmpc', 'KGJT_400mb_dwpc', 'KGJT_400mb_drct', 'KGJT_400mb_speed_kts', 'KGJT_500mb_height_m', 'KGJT_500mb_tmpc', 'KGJT_500mb_dwpc', 'KGJT_500mb_drct', 'KGJT_500mb_speed_kts', 'KGJT_700mb_height_m', 'KGJT_700mb_tmpc', 'KGJT_700mb_dwpc', 'KGJT_700mb_drct', 'KGJT_700mb_speed_kts', 'KGJT_850mb_height_m', 'KGJT_d850_700_height_m', 'KGJT_d850_500_height_m', 'KGJT_d850_400_height_m', 'KGJT_d850_300_height_m', 'KGJT_d850_250_height_m', 'KGJT_d850_200_height_m', 'KGJT_d700_500_height_m', 'KGJT_d700_500_tmpc', 'KGJT_d700_500_dwpc', 'KGJT_d700_500_drct', 'KGJT_d700_500_speed_kts', 'KGJT_d700_400_height_m', 'KGJT_d700_400_tmpc', 'KGJT_d700_400_dwpc', 'KGJT_d700_400_drct', 'KGJT_d700_400_speed_kts', 'KGJT_d700_300_height_m', 'KGJT_d700_300_tmpc', 'KGJT_d700_300_dwpc', 'KGJT_d700_300_drct', 'KGJT_d700_300_speed_kts', 'KGJT_d700_250_height_m', 'KGJT_d700_250_tmpc', 'KGJT_d700_250_dwpc', 'KGJT_d700_250_drct', 'KGJT_d700_250_speed_kts', 'KGJT_d700_200_height_m', 'KGJT_d700_200_tmpc', 'KGJT_d700_200_dwpc', 'KGJT_d700_200_drct', 'KGJT_d700_200_speed_kts', 'KGJT_d500_400_height_m', 'KGJT_d500_400_tmpc', 'KGJT_d500_400_dwpc', 'KGJT_d500_400_drct', 'KGJT_d500_400_speed_kts', 'KGJT_d500_300_height_m', 'KGJT_d500_300_tmpc', 'KGJT_d500_300_dwpc', 'KGJT_d500_300_drct', 'KGJT_d500_300_speed_kts', 'KGJT_d500_250_height_m', 'KGJT_d500_250_tmpc', 'KGJT_d500_250_dwpc', 'KGJT_d500_250_drct', 'KGJT_d500_250_speed_kts', 'KGJT_d500_200_height_m', 'KGJT_d500_200_tmpc', 'KGJT_d500_200_dwpc', 'KGJT_d500_200_drct', 'KGJT_d500_200_speed_kts', 'KGJT_d400_300_height_m', 'KGJT_d400_300_tmpc', 'KGJT_d400_300_dwpc', 'KGJT_d400_300_drct', 'KGJT_d400_300_speed_kts', 'KGJT_d400_250_height_m', 'KGJT_d400_250_tmpc', 'KGJT_d400_250_dwpc', 'KGJT_d400_250_drct', 'KGJT_d400_250_speed_kts', 'KGJT_d400_200_height_m', 'KGJT_d400_200_tmpc', 'KGJT_d400_200_dwpc', 'KGJT_d400_200_drct', 'KGJT_d400_200_speed_kts', 'KGJT_d300_250_height_m', 'KGJT_d300_250_tmpc', 'KGJT_d300_250_dwpc', 'KGJT_d300_250_drct', 'KGJT_d300_250_speed_kts', 'KGJT_d300_200_height_m', 'KGJT_d300_200_tmpc', 'KGJT_d300_200_dwpc', 'KGJT_d300_200_drct', 'KGJT_d300_200_speed_kts', 'KGJT_d250_200_height_m', 'KGJT_d250_200_tmpc', 'KGJT_d250_200_dwpc', 'KGJT_d250_200_drct', 'KGJT_d250_200_speed_kts']\n",
      "Variables with < 67% data match to snowfall: \n",
      "['CMtn_CloudCover_oktas', 'LXV_CloudCover_oktas', 'KGJT_850mb_tmpc', 'KGJT_850mb_dwpc', 'KGJT_850mb_drct', 'KGJT_850mb_speed_kts', 'KGJT_d850_700_tmpc', 'KGJT_d850_700_dwpc', 'KGJT_d850_700_drct', 'KGJT_d850_700_speed_kts', 'KGJT_d850_500_tmpc', 'KGJT_d850_500_dwpc', 'KGJT_d850_500_drct', 'KGJT_d850_500_speed_kts', 'KGJT_d850_400_tmpc', 'KGJT_d850_400_dwpc', 'KGJT_d850_400_drct', 'KGJT_d850_400_speed_kts', 'KGJT_d850_300_tmpc', 'KGJT_d850_300_dwpc', 'KGJT_d850_300_drct', 'KGJT_d850_300_speed_kts', 'KGJT_d850_250_tmpc', 'KGJT_d850_250_dwpc', 'KGJT_d850_250_drct', 'KGJT_d850_250_speed_kts', 'KGJT_d850_200_tmpc', 'KGJT_d850_200_dwpc', 'KGJT_d850_200_drct', 'KGJT_d850_200_speed_kts']\n"
     ]
    }
   ],
   "source": [
    "variables = ['CMtnSNTL_Temp_degC', 'CMtn_Temperature_degC', 'CMtn_Dewpoint_degC', 'CMtn_WindDirection_deg', 'CMtn_WindSpeed_mps', 'CMtn_CloudCover_oktas', \\\n",
    " 'LXV_Temperature_degC', 'LXV_Dewpoint_degC', 'LXV_Pressure_hp', 'LXV_WindSpeed_mps', 'LXV_WindDirection_deg', 'LXV_CloudCover_oktas', 'LXV_12hr_delta_Pressure_hp', \\\n",
    " 'KGJT_200mb_height_m', 'KGJT_200mb_tmpc', 'KGJT_200mb_dwpc', 'KGJT_200mb_drct', 'KGJT_200mb_speed_kts', \\\n",
    " 'KGJT_250mb_height_m', 'KGJT_250mb_tmpc', 'KGJT_250mb_dwpc', 'KGJT_250mb_drct', 'KGJT_250mb_speed_kts', \\\n",
    " 'KGJT_300mb_height_m', 'KGJT_300mb_tmpc', 'KGJT_300mb_dwpc', 'KGJT_300mb_drct', 'KGJT_300mb_speed_kts', \\\n",
    " 'KGJT_400mb_height_m', 'KGJT_400mb_tmpc', 'KGJT_400mb_dwpc', 'KGJT_400mb_drct', 'KGJT_400mb_speed_kts', \\\n",
    " 'KGJT_500mb_height_m', 'KGJT_500mb_tmpc', 'KGJT_500mb_dwpc', 'KGJT_500mb_drct', 'KGJT_500mb_speed_kts', \\\n",
    " 'KGJT_700mb_height_m', 'KGJT_700mb_tmpc', 'KGJT_700mb_dwpc', 'KGJT_700mb_drct', 'KGJT_700mb_speed_kts', \\\n",
    " 'KGJT_850mb_height_m', 'KGJT_850mb_tmpc', 'KGJT_850mb_dwpc', 'KGJT_850mb_drct', 'KGJT_850mb_speed_kts', \\\n",
    " 'KGJT_d850_700_height_m', 'KGJT_d850_700_tmpc', 'KGJT_d850_700_dwpc', 'KGJT_d850_700_drct', 'KGJT_d850_700_speed_kts', \\\n",
    " 'KGJT_d850_500_height_m', 'KGJT_d850_500_tmpc', 'KGJT_d850_500_dwpc', 'KGJT_d850_500_drct', 'KGJT_d850_500_speed_kts', \\\n",
    " 'KGJT_d850_400_height_m', 'KGJT_d850_400_tmpc', 'KGJT_d850_400_dwpc', 'KGJT_d850_400_drct', 'KGJT_d850_400_speed_kts', \\\n",
    " 'KGJT_d850_300_height_m', 'KGJT_d850_300_tmpc', 'KGJT_d850_300_dwpc', 'KGJT_d850_300_drct', 'KGJT_d850_300_speed_kts', \\\n",
    " 'KGJT_d850_250_height_m', 'KGJT_d850_250_tmpc', 'KGJT_d850_250_dwpc', 'KGJT_d850_250_drct', 'KGJT_d850_250_speed_kts', \\\n",
    " 'KGJT_d850_200_height_m', 'KGJT_d850_200_tmpc', 'KGJT_d850_200_dwpc', 'KGJT_d850_200_drct', 'KGJT_d850_200_speed_kts',\\\n",
    " 'KGJT_d700_500_height_m', 'KGJT_d700_500_tmpc', 'KGJT_d700_500_dwpc', 'KGJT_d700_500_drct', 'KGJT_d700_500_speed_kts', \\\n",
    " 'KGJT_d700_400_height_m', 'KGJT_d700_400_tmpc', 'KGJT_d700_400_dwpc', 'KGJT_d700_400_drct', 'KGJT_d700_400_speed_kts', \\\n",
    " 'KGJT_d700_300_height_m', 'KGJT_d700_300_tmpc', 'KGJT_d700_300_dwpc', 'KGJT_d700_300_drct', 'KGJT_d700_300_speed_kts', \\\n",
    " 'KGJT_d700_250_height_m', 'KGJT_d700_250_tmpc', 'KGJT_d700_250_dwpc', 'KGJT_d700_250_drct', 'KGJT_d700_250_speed_kts', \\\n",
    " 'KGJT_d700_200_height_m', 'KGJT_d700_200_tmpc', 'KGJT_d700_200_dwpc', 'KGJT_d700_200_drct', 'KGJT_d700_200_speed_kts', \\\n",
    " 'KGJT_d500_400_height_m', 'KGJT_d500_400_tmpc', 'KGJT_d500_400_dwpc', 'KGJT_d500_400_drct', 'KGJT_d500_400_speed_kts', \\\n",
    " 'KGJT_d500_300_height_m', 'KGJT_d500_300_tmpc', 'KGJT_d500_300_dwpc', 'KGJT_d500_300_drct', 'KGJT_d500_300_speed_kts', \\\n",
    " 'KGJT_d500_250_height_m', 'KGJT_d500_250_tmpc', 'KGJT_d500_250_dwpc', 'KGJT_d500_250_drct', 'KGJT_d500_250_speed_kts', \\\n",
    " 'KGJT_d500_200_height_m', 'KGJT_d500_200_tmpc', 'KGJT_d500_200_dwpc', 'KGJT_d500_200_drct', 'KGJT_d500_200_speed_kts', \\\n",
    " 'KGJT_d400_300_height_m', 'KGJT_d400_300_tmpc', 'KGJT_d400_300_dwpc', 'KGJT_d400_300_drct', 'KGJT_d400_300_speed_kts', \\\n",
    " 'KGJT_d400_250_height_m', 'KGJT_d400_250_tmpc', 'KGJT_d400_250_dwpc', 'KGJT_d400_250_drct', 'KGJT_d400_250_speed_kts', \\\n",
    " 'KGJT_d400_200_height_m', 'KGJT_d400_200_tmpc', 'KGJT_d400_200_dwpc', 'KGJT_d400_200_drct', 'KGJT_d400_200_speed_kts', \\\n",
    " 'KGJT_d300_250_height_m', 'KGJT_d300_250_tmpc', 'KGJT_d300_250_dwpc', 'KGJT_d300_250_drct', 'KGJT_d300_250_speed_kts', \\\n",
    " 'KGJT_d300_200_height_m', 'KGJT_d300_200_tmpc', 'KGJT_d300_200_dwpc', 'KGJT_d300_200_drct', 'KGJT_d300_200_speed_kts', \\\n",
    " 'KGJT_d250_200_height_m', 'KGJT_d250_200_tmpc', 'KGJT_d250_200_dwpc', 'KGJT_d250_200_drct', 'KGJT_d250_200_speed_kts']\n",
    "\n",
    "good_vars = []\n",
    "bad_vars = []\n",
    "for var in variables:\n",
    "    idx = np.isfinite(asos_snotel_UA_df[all_yrs]['CMtnSNTL_Upcoming12hrSNOWFALL_gte3_in']) & np.isfinite(asos_snotel_UA_df[all_yrs][var])\n",
    "    total_poss = len(asos_snotel_UA_df[all_yrs]['CMtnSNTL_Upcoming12hrSNOWFALL_gte3_in'][asos_snotel_UA_df[all_yrs]['CMtnSNTL_Upcoming12hrSNOWFALL_gte3_in']>=0])\n",
    "    total_avail =len(asos_snotel_UA_df[all_yrs][idx])\n",
    "    if total_avail/total_poss >= 0.67: \n",
    "        good_vars.append(var)\n",
    "    else:\n",
    "        bad_vars.append(var)\n",
    "        \n",
    "print('Variables with >= 67% data match to snowfall: ')\n",
    "print(good_vars)\n",
    "print('Variables with < 67% data match to snowfall: ')\n",
    "print(bad_vars)\n",
    "    "
   ]
  },
  {
   "cell_type": "markdown",
   "metadata": {},
   "source": [
    "**Because we will want an apples to apples type comparision with the OLS model we perform with Surface+UA data, we must be sure sure to use the same snowfall data. **For every snowfall amount used, there must be a datapoint for every corresponding surface and upper air data features.  Therefore, any rows with an NaN value will be removed from the analysis."
   ]
  },
  {
   "cell_type": "code",
   "execution_count": 10,
   "metadata": {},
   "outputs": [
    {
     "name": "stdout",
     "output_type": "stream",
     "text": [
      "['CMtnSNTL_Temp_degC', 'CMtn_Temperature_degC', 'CMtn_Dewpoint_degC', 'CMtn_WindDirection_deg', 'CMtn_WindSpeed_mps', 'LXV_Temperature_degC', 'LXV_Dewpoint_degC', 'LXV_Pressure_hp', 'LXV_WindSpeed_mps', 'LXV_WindDirection_deg', 'LXV_12hr_delta_Pressure_hp', 'KGJT_200mb_height_m', 'KGJT_200mb_tmpc', 'KGJT_200mb_dwpc', 'KGJT_200mb_drct', 'KGJT_200mb_speed_kts', 'KGJT_250mb_height_m', 'KGJT_250mb_tmpc', 'KGJT_250mb_dwpc', 'KGJT_250mb_drct', 'KGJT_250mb_speed_kts', 'KGJT_300mb_height_m', 'KGJT_300mb_tmpc', 'KGJT_300mb_dwpc', 'KGJT_300mb_drct', 'KGJT_300mb_speed_kts', 'KGJT_400mb_height_m', 'KGJT_400mb_tmpc', 'KGJT_400mb_dwpc', 'KGJT_400mb_drct', 'KGJT_400mb_speed_kts', 'KGJT_500mb_height_m', 'KGJT_500mb_tmpc', 'KGJT_500mb_dwpc', 'KGJT_500mb_drct', 'KGJT_500mb_speed_kts', 'KGJT_700mb_height_m', 'KGJT_700mb_tmpc', 'KGJT_700mb_dwpc', 'KGJT_700mb_drct', 'KGJT_700mb_speed_kts', 'KGJT_850mb_height_m', 'KGJT_d850_700_height_m', 'KGJT_d850_500_height_m', 'KGJT_d850_400_height_m', 'KGJT_d850_300_height_m', 'KGJT_d850_250_height_m', 'KGJT_d850_200_height_m', 'KGJT_d700_500_height_m', 'KGJT_d700_500_tmpc', 'KGJT_d700_500_dwpc', 'KGJT_d700_500_drct', 'KGJT_d700_500_speed_kts', 'KGJT_d700_400_height_m', 'KGJT_d700_400_tmpc', 'KGJT_d700_400_dwpc', 'KGJT_d700_400_drct', 'KGJT_d700_400_speed_kts', 'KGJT_d700_300_height_m', 'KGJT_d700_300_tmpc', 'KGJT_d700_300_dwpc', 'KGJT_d700_300_drct', 'KGJT_d700_300_speed_kts', 'KGJT_d700_250_height_m', 'KGJT_d700_250_tmpc', 'KGJT_d700_250_dwpc', 'KGJT_d700_250_drct', 'KGJT_d700_250_speed_kts', 'KGJT_d700_200_height_m', 'KGJT_d700_200_tmpc', 'KGJT_d700_200_dwpc', 'KGJT_d700_200_drct', 'KGJT_d700_200_speed_kts', 'KGJT_d500_400_height_m', 'KGJT_d500_400_tmpc', 'KGJT_d500_400_dwpc', 'KGJT_d500_400_drct', 'KGJT_d500_400_speed_kts', 'KGJT_d500_300_height_m', 'KGJT_d500_300_tmpc', 'KGJT_d500_300_dwpc', 'KGJT_d500_300_drct', 'KGJT_d500_300_speed_kts', 'KGJT_d500_250_height_m', 'KGJT_d500_250_tmpc', 'KGJT_d500_250_dwpc', 'KGJT_d500_250_drct', 'KGJT_d500_250_speed_kts', 'KGJT_d500_200_height_m', 'KGJT_d500_200_tmpc', 'KGJT_d500_200_dwpc', 'KGJT_d500_200_drct', 'KGJT_d500_200_speed_kts', 'KGJT_d400_300_height_m', 'KGJT_d400_300_tmpc', 'KGJT_d400_300_dwpc', 'KGJT_d400_300_drct', 'KGJT_d400_300_speed_kts', 'KGJT_d400_250_height_m', 'KGJT_d400_250_tmpc', 'KGJT_d400_250_dwpc', 'KGJT_d400_250_drct', 'KGJT_d400_250_speed_kts', 'KGJT_d400_200_height_m', 'KGJT_d400_200_tmpc', 'KGJT_d400_200_dwpc', 'KGJT_d400_200_drct', 'KGJT_d400_200_speed_kts', 'KGJT_d300_250_height_m', 'KGJT_d300_250_tmpc', 'KGJT_d300_250_dwpc', 'KGJT_d300_250_drct', 'KGJT_d300_250_speed_kts', 'KGJT_d300_200_height_m', 'KGJT_d300_200_tmpc', 'KGJT_d300_200_dwpc', 'KGJT_d300_200_drct', 'KGJT_d300_200_speed_kts', 'KGJT_d250_200_height_m', 'KGJT_d250_200_tmpc', 'KGJT_d250_200_dwpc', 'KGJT_d250_200_drct', 'KGJT_d250_200_speed_kts', 'CMtnSNTL_Upcoming12hrSNOWFALL_gte3_in']\n",
      "count    37.000000\n",
      "mean      5.716216\n",
      "std       2.605604\n",
      "min       3.000000\n",
      "25%       4.000000\n",
      "50%       5.000000\n",
      "75%       6.000000\n",
      "max      14.000000\n",
      "Name: CMtnSNTL_Upcoming12hrSNOWFALL_gte3_in, dtype: float64\n"
     ]
    }
   ],
   "source": [
    "good_vars_snf =[]\n",
    "filtered_asos_snotel_UA_df = pd.DataFrame()\n",
    "\n",
    "\n",
    "#df_sfc = asos_snotel_UA_df[['CMtnSNTL_Temp_degC', 'CMtn_Temperature_degC', 'CMtn_Dewpoint_degC', 'CMtn_WindDirection_deg', 'CMtn_WindSpeed_mps', \\\n",
    "#                           'LXV_Temperature_degC', 'LXV_Dewpoint_degC', 'LXV_Pressure_hp', 'LXV_WindSpeed_mps', 'LXV_WindDirection_deg', 'LXV_12hr_delta_Pressure_hp','CMtnSNTL_Upcoming12hrSNOWFALL_gte3_in']].copy()\n",
    "#\n",
    "#df = asos_snotel_UA_df[df = asos_snotel_UA_df[['CMtnSNTL_Temp_degC', 'CMtn_Temperature_degC', 'CMtn_Dewpoint_degC', 'CMtn_WindDirection_deg', 'CMtn_WindSpeed_mps', \\\n",
    "#                        'LXV_Temperature_degC', 'LXV_Dewpoint_degC', 'LXV_Pressure_hp', 'LXV_WindSpeed_mps', 'LXV_WindDirection_deg', 'LXV_12hr_delta_Pressure_hp', \\\n",
    "#                        'KGJT_200mb_height_m', 'KGJT_200mb_tmpc', 'KGJT_200mb_dwpc', 'KGJT_200mb_drct', 'KGJT_200mb_speed_kts', 'KGJT_250mb_height_m', 'KGJT_250mb_tmpc', \\\n",
    "#                        'KGJT_250mb_dwpc', 'KGJT_250mb_drct', 'KGJT_250mb_speed_kts', 'KGJT_300mb_height_m', 'KGJT_300mb_tmpc', 'KGJT_300mb_dwpc', 'KGJT_300mb_drct', \\\n",
    "#                        'KGJT_300mb_speed_kts', 'KGJT_400mb_height_m', 'KGJT_400mb_tmpc', 'KGJT_400mb_dwpc', 'KGJT_400mb_drct', 'KGJT_400mb_speed_kts', \\\n",
    "#                        'KGJT_500mb_height_m', 'KGJT_500mb_tmpc', 'KGJT_500mb_dwpc', 'KGJT_500mb_drct', 'KGJT_500mb_speed_kts', 'KGJT_700mb_height_m', \\\n",
    "#                        'KGJT_700mb_tmpc', 'KGJT_700mb_dwpc', 'KGJT_700mb_drct', 'KGJT_700mb_speed_kts', 'KGJT_850mb_height_m', 'KGJT_d850_700_height_m', \\\n",
    "#                        'KGJT_d850_500_height_m', 'KGJT_d850_400_height_m', 'KGJT_d850_300_height_m', 'KGJT_d850_250_height_m', 'KGJT_d850_200_height_m', 'KGJT_d700_500_height_m', 'KGJT_d700_500_tmpc', 'KGJT_d700_500_dwpc', 'KGJT_d700_500_drct', 'KGJT_d700_500_speed_kts', 'KGJT_d700_400_height_m', 'KGJT_d700_400_tmpc', 'KGJT_d700_400_dwpc', 'KGJT_d700_400_drct', 'KGJT_d700_400_speed_kts', 'KGJT_d700_300_height_m', 'KGJT_d700_300_tmpc', 'KGJT_d700_300_dwpc', 'KGJT_d700_300_drct', 'KGJT_d700_300_speed_kts', 'KGJT_d700_250_height_m', 'KGJT_d700_250_tmpc', 'KGJT_d700_250_dwpc', 'KGJT_d700_250_drct', 'KGJT_d700_250_speed_kts', 'KGJT_d700_200_height_m', 'KGJT_d700_200_tmpc', 'KGJT_d700_200_dwpc', 'KGJT_d700_200_drct', 'KGJT_d700_200_speed_kts', 'KGJT_d500_400_height_m', 'KGJT_d500_400_tmpc', 'KGJT_d500_400_dwpc', 'KGJT_d500_400_drct', 'KGJT_d500_400_speed_kts', 'KGJT_d500_300_height_m', 'KGJT_d500_300_tmpc', 'KGJT_d500_300_dwpc', 'KGJT_d500_300_drct', 'KGJT_d500_300_speed_kts', 'KGJT_d500_250_height_m', 'KGJT_d500_250_tmpc', 'KGJT_d500_250_dwpc', 'KGJT_d500_250_drct', 'KGJT_d500_250_speed_kts', 'KGJT_d500_200_height_m', 'KGJT_d500_200_tmpc', 'KGJT_d500_200_dwpc', 'KGJT_d500_200_drct', 'KGJT_d500_200_speed_kts', 'KGJT_d400_300_height_m', 'KGJT_d400_300_tmpc', 'KGJT_d400_300_dwpc', 'KGJT_d400_300_drct', 'KGJT_d400_300_speed_kts', 'KGJT_d400_250_height_m', 'KGJT_d400_250_tmpc', 'KGJT_d400_250_dwpc', 'KGJT_d400_250_drct', 'KGJT_d400_250_speed_kts', 'KGJT_d400_200_height_m', 'KGJT_d400_200_tmpc', 'KGJT_d400_200_dwpc', 'KGJT_d400_200_drct', 'KGJT_d400_200_speed_kts', 'KGJT_d300_250_height_m', 'KGJT_d300_250_tmpc', 'KGJT_d300_250_dwpc', 'KGJT_d300_250_drct', 'KGJT_d300_250_speed_kts', 'KGJT_d300_200_height_m', 'KGJT_d300_200_tmpc', 'KGJT_d300_200_dwpc', 'KGJT_d300_200_drct', 'KGJT_d300_200_speed_kts', \\\n",
    "#                        'KGJT_d250_200_height_m', 'KGJT_d250_200_tmpc', 'KGJT_d250_200_dwpc', 'KGJT_d250_200_drct', \\\n",
    "#                         'KGJT_d250_200_speed_kts','CMtnSNTL_Upcoming12hrSNOWFALL_gte3_in']].copy()\n",
    "\n",
    "good_vars_snf = good_vars + ['CMtnSNTL_Upcoming12hrSNOWFALL_gte3_in']\n",
    "print(good_vars_snf )\n",
    "filtered_asos_snotel_UA_df=  asos_snotel_UA_df[good_vars_snf].copy()\n",
    "test_train_df = asos_snotel_UA_df[good_vars_snf].dropna()\n",
    "#test_df = asos_snotel_UA_df[good_vars_snf][test_yrs].dropna()\n",
    "#train_df = asos_snotel_UA_df[good_vars_snf][train_yrs].dropna()\n",
    "\n",
    "#print(test_df.describe())\n",
    "#print(train_df.describe())\n",
    "#print(filtered_asos_snotel_UA_df[train_yrs].dropna().describe())\n",
    "print(asos_snotel_UA_df[good_vars_snf] ['CMtnSNTL_Upcoming12hrSNOWFALL_gte3_in']['2014'].describe())"
   ]
  },
  {
   "cell_type": "code",
   "execution_count": 11,
   "metadata": {},
   "outputs": [
    {
     "name": "stdout",
     "output_type": "stream",
     "text": [
      "| Year   |   Number 12hr Snowfall Events >=3 |   Mean |   Median |   Max |   Std Deviation |\n",
      "|--------|-----------------------------------|--------|----------|-------|-----------------|\n",
      "| 2006   |                                21 |    5   |      5   |  11   |            2.05 |\n",
      "| 2007   |                                23 |    3.9 |      3.3 |   6.5 |            1.18 |\n",
      "| 2008   |                                25 |    4.3 |      3.3 |   8   |            1.84 |\n",
      "| 2009   |                                16 |    3.9 |      3.8 |   6   |            0.87 |\n",
      "| 2010   |                                20 |    4.4 |      3.8 |   9   |            1.77 |\n",
      "| 2011   |                                 0 |  nan   |    nan   | nan   |          nan    |\n",
      "| 2012   |                                 5 |    6.4 |      8   |  10   |            2.87 |\n",
      "| 2013   |                                23 |    4.4 |      4   |  12   |            1.94 |\n",
      "| 2014   |                                37 |    5.7 |      5   |  14   |            2.57 |\n",
      "| 2015   |                                21 |    4.2 |      4   |   8   |            1.27 |\n",
      "| 2016   |                                 0 |  nan   |    nan   | nan   |          nan    |\n",
      "| 2017   |                                22 |    4.9 |      3   |  16   |            3.14 |\n",
      "| [ True  True  True  True  True  True  True  True  True  True  True  True\n",
      "  True  True  True  True  True  True  True  True  True  True  True  True\n",
      "  True  True  True  True  True  True  True  True  True  True  True  True\n",
      "  True  True  True  True  True  True  True  True  True  True  True  True\n",
      "  True  True  True  True  True  True  True  True  True  True  True  True\n",
      "  True  True  True  True  True  True  True  True  True  True  True  True\n",
      "  True  True  True  True  True  True  True  True  True  True  True  True\n",
      "  True  True  True  True  True  True  True  True  True  True  True  True\n",
      "  True  True  True  True  True  True  True  True  True  True  True  True\n",
      "  True  True  True  True  True  True  True  True  True  True  True  True\n",
      "  True  True  True  True  True  True  True  True  True  True  True  True\n",
      "  True  True  True  True  True  True  True  True  True  True  True  True\n",
      "  True  True  True  True  True  True  True  True  True  True  True  True\n",
      "  True  True  True  True  True  True  True  True  True  True  True  True\n",
      "  True  True  True  True  True  True  True  True  True  True  True  True\n",
      "  True  True  True  True  True  True  True  True  True  True  True  True\n",
      "  True  True  True  True  True  True  True  True  True  True  True  True\n",
      "  True  True  True  True  True  True  True  True  True]        |                               213 |    4.7 |      4   |  16   |            2.16 |\n",
      "| [ True  True  True  True  True  True  True  True  True  True  True  True\n",
      "  True  True  True  True  True  True  True  True  True False False False\n",
      " False False False False False False False False False False False False\n",
      " False False False False False False False False False False False False\n",
      " False False False False False False False False False False False False\n",
      " False False False False False False False False False False False False\n",
      " False False False False False False False False False False False False\n",
      " False False False False False False False False False False False False\n",
      " False False False False False False False False False False False False\n",
      " False False False False False False False False False False False False\n",
      " False False False False False False False False False False False False\n",
      " False False False False False False False False False False False False\n",
      " False False False False False False False False False False False False\n",
      " False False False False False False False False False False False False\n",
      " False False False False False False False False False False False False\n",
      " False False False False False False False False False False False  True\n",
      "  True  True  True  True  True  True  True  True  True  True  True  True\n",
      "  True  True  True  True  True  True  True  True  True]        |                                43 |    4.9 |      4   |  16   |            2.66 |\n",
      "| [False False False False False False False False False False False False\n",
      " False False False False False False False False False  True  True  True\n",
      "  True  True  True  True  True  True  True  True  True  True  True  True\n",
      "  True  True  True  True  True  True  True  True  True  True  True  True\n",
      "  True  True  True  True  True  True  True  True  True  True  True  True\n",
      "  True  True  True  True  True  True  True  True  True  True  True  True\n",
      "  True  True  True  True  True  True  True  True  True  True  True  True\n",
      "  True  True  True  True  True  True  True  True  True  True  True  True\n",
      "  True  True  True  True  True  True  True  True  True  True  True  True\n",
      "  True  True  True  True  True  True  True  True  True  True  True  True\n",
      "  True  True  True  True  True  True  True  True  True  True  True  True\n",
      "  True  True  True  True  True  True  True  True  True  True  True  True\n",
      "  True  True  True  True  True  True  True  True  True  True  True  True\n",
      "  True  True  True  True  True  True  True  True  True  True  True  True\n",
      "  True  True  True  True  True  True  True  True  True  True  True  True\n",
      "  True  True  True  True  True  True  True  True  True  True  True False\n",
      " False False False False False False False False False False False False\n",
      " False False False False False False False False False]        |                               170 |    4.6 |      4   |  14   |            2.01 |\n",
      "[5.0, 3.3, 3.3, 3.8, 3.8, nan, 8.0, 4.0, 5.0, 4.0, nan, 3.0, 4.0, 4.0, 4.0]\n"
     ]
    }
   ],
   "source": [
    "import statistics as sts\n",
    "all_yrs_tt = (test_train_df.index >= '01-01-2006') & (test_train_df.index < '01-01-2018')\n",
    "test_yrs_tt=  ((test_train_df.index >= '01-01-2006') & (test_train_df.index < '01-01-2007')) | ((test_train_df.index >= '01-01-2017') & (test_train_df.index< '01-01-2018'))\n",
    "train_yrs_tt = (test_train_df.index >= '01-01-2007') & (test_train_df.index < '01-01-2017')\n",
    "\n",
    "from tabulate import tabulate\n",
    "years = ['2006', '2007', '2008', '2009', '2010', '2011', '2012', '2013', '2014', '2015', '2016', '2017', all_yrs_tt, test_yrs_tt, train_yrs_tt]\n",
    "counts = []\n",
    "means = []\n",
    "maxes = []\n",
    "sd_missings =[]\n",
    "std_devs=[]\n",
    "medians = []\n",
    "\n",
    "for year in years:\n",
    "\n",
    "\n",
    "    counts.append(test_train_df['CMtnSNTL_Upcoming12hrSNOWFALL_gte3_in'][year].count())\n",
    "    maxes.append((round(test_train_df['CMtnSNTL_Upcoming12hrSNOWFALL_gte3_in'][year].max(),1)))\n",
    "    means.append(round(test_train_df['CMtnSNTL_Upcoming12hrSNOWFALL_gte3_in'][year].mean(),1))\n",
    "    medians.append(round(test_train_df['CMtnSNTL_Upcoming12hrSNOWFALL_gte3_in'][year].median(),1))\n",
    "    #sd_missings.append(round(filtered_asos_snotel_UA_df['CMtnSNTL_12hr_SNWD_in'][year].count()/len(filtered_asos_snotel_UA_df['CMtnSNTL_12hr_SNWD_in'][year][idx])/12*100,2))\n",
    "    std_devs.append(round(np.std(test_train_df['CMtnSNTL_Upcoming12hrSNOWFALL_gte3_in'][year].dropna()),2))\n",
    "    #print(filtered_asos_snotel_UA_df['CMtnSNTL_12hr_SNWD_in'][year].count(),len(filtered_asos_snotel_UA_df['CMtnSNTL_12hr_SNWD_in'][year])/12)\n",
    "        \n",
    "tbl = zip(years, counts, means, medians, maxes,std_devs )  \n",
    "    \n",
    "print(tabulate(tbl, headers=['Year', 'Number 12hr Snowfall Events >=3', 'Mean', 'Median','Max',  'Std Deviation'], tablefmt='github'))\n",
    "print(medians)"
   ]
  },
  {
   "cell_type": "markdown",
   "metadata": {},
   "source": [
    "### Run model with good SURFACE variables"
   ]
  },
  {
   "cell_type": "code",
   "execution_count": 12,
   "metadata": {},
   "outputs": [
    {
     "name": "stdout",
     "output_type": "stream",
     "text": [
      "['CMtnSNTL_Temp_degC', 'CMtn_Temperature_degC', 'CMtn_Dewpoint_degC', 'CMtn_WindDirection_deg', 'CMtn_WindSpeed_mps', 'LXV_Temperature_degC', 'LXV_Dewpoint_degC', 'LXV_Pressure_hp', 'LXV_WindSpeed_mps', 'LXV_WindDirection_deg', 'LXV_12hr_delta_Pressure_hp']\n",
      "******\n",
      "CMtn_WindSpeed_mps\n",
      "CMtn_Dewpoint_degC+ CMtn_WindSpeed_mps\n",
      "LXV_12hr_delta_Pressure_hp+ CMtn_Dewpoint_degC+ CMtn_WindSpeed_mps\n",
      "CMtn_WindDirection_deg+ LXV_12hr_delta_Pressure_hp+ CMtn_Dewpoint_degC+ CMtn_WindSpeed_mps\n",
      "LXV_Dewpoint_degC+ CMtn_WindDirection_deg+ LXV_12hr_delta_Pressure_hp+ CMtn_Dewpoint_degC+ CMtn_WindSpeed_mps\n",
      "LXV_WindSpeed_mps+ LXV_Dewpoint_degC+ CMtn_WindDirection_deg+ LXV_12hr_delta_Pressure_hp+ CMtn_Dewpoint_degC+ CMtn_WindSpeed_mps\n",
      "CMtn_Temperature_degC+ LXV_WindSpeed_mps+ LXV_Dewpoint_degC+ CMtn_WindDirection_deg+ LXV_12hr_delta_Pressure_hp+ CMtn_Dewpoint_degC+ CMtn_WindSpeed_mps\n",
      "LXV_Temperature_degC+ CMtn_Temperature_degC+ LXV_WindSpeed_mps+ LXV_Dewpoint_degC+ CMtn_WindDirection_deg+ LXV_12hr_delta_Pressure_hp+ CMtn_Dewpoint_degC+ CMtn_WindSpeed_mps\n",
      "LXV_Pressure_hp+ LXV_Temperature_degC+ CMtn_Temperature_degC+ LXV_WindSpeed_mps+ LXV_Dewpoint_degC+ CMtn_WindDirection_deg+ LXV_12hr_delta_Pressure_hp+ CMtn_Dewpoint_degC+ CMtn_WindSpeed_mps\n",
      "LXV_WindDirection_deg+ LXV_Pressure_hp+ LXV_Temperature_degC+ CMtn_Temperature_degC+ LXV_WindSpeed_mps+ LXV_Dewpoint_degC+ CMtn_WindDirection_deg+ LXV_12hr_delta_Pressure_hp+ CMtn_Dewpoint_degC+ CMtn_WindSpeed_mps\n",
      "CMtnSNTL_Temp_degC+ LXV_WindDirection_deg+ LXV_Pressure_hp+ LXV_Temperature_degC+ CMtn_Temperature_degC+ LXV_WindSpeed_mps+ LXV_Dewpoint_degC+ CMtn_WindDirection_deg+ LXV_12hr_delta_Pressure_hp+ CMtn_Dewpoint_degC+ CMtn_WindSpeed_mps\n",
      "[0.021514015638045225, 0.042571365305989484, 0.046603851980261846, 0.043614134869658594, 0.040045945679467954, 0.03543437125264959, 0.030017765606898172, 0.02651442344177768, 0.02116165854046903, 0.01564787880507479, 0.009611108409740887]\n",
      "['CMtn_WindSpeed_mps', 'CMtn_Dewpoint_degC+ CMtn_WindSpeed_mps', 'LXV_12hr_delta_Pressure_hp+ CMtn_Dewpoint_degC+ CMtn_WindSpeed_mps', 'CMtn_WindDirection_deg+ LXV_12hr_delta_Pressure_hp+ CMtn_Dewpoint_degC+ CMtn_WindSpeed_mps', 'LXV_Dewpoint_degC+ CMtn_WindDirection_deg+ LXV_12hr_delta_Pressure_hp+ CMtn_Dewpoint_degC+ CMtn_WindSpeed_mps', 'LXV_WindSpeed_mps+ LXV_Dewpoint_degC+ CMtn_WindDirection_deg+ LXV_12hr_delta_Pressure_hp+ CMtn_Dewpoint_degC+ CMtn_WindSpeed_mps', 'CMtn_Temperature_degC+ LXV_WindSpeed_mps+ LXV_Dewpoint_degC+ CMtn_WindDirection_deg+ LXV_12hr_delta_Pressure_hp+ CMtn_Dewpoint_degC+ CMtn_WindSpeed_mps', 'LXV_Temperature_degC+ CMtn_Temperature_degC+ LXV_WindSpeed_mps+ LXV_Dewpoint_degC+ CMtn_WindDirection_deg+ LXV_12hr_delta_Pressure_hp+ CMtn_Dewpoint_degC+ CMtn_WindSpeed_mps', 'LXV_Pressure_hp+ LXV_Temperature_degC+ CMtn_Temperature_degC+ LXV_WindSpeed_mps+ LXV_Dewpoint_degC+ CMtn_WindDirection_deg+ LXV_12hr_delta_Pressure_hp+ CMtn_Dewpoint_degC+ CMtn_WindSpeed_mps', 'LXV_WindDirection_deg+ LXV_Pressure_hp+ LXV_Temperature_degC+ CMtn_Temperature_degC+ LXV_WindSpeed_mps+ LXV_Dewpoint_degC+ CMtn_WindDirection_deg+ LXV_12hr_delta_Pressure_hp+ CMtn_Dewpoint_degC+ CMtn_WindSpeed_mps', 'CMtnSNTL_Temp_degC+ LXV_WindDirection_deg+ LXV_Pressure_hp+ LXV_Temperature_degC+ CMtn_Temperature_degC+ LXV_WindSpeed_mps+ LXV_Dewpoint_degC+ CMtn_WindDirection_deg+ LXV_12hr_delta_Pressure_hp+ CMtn_Dewpoint_degC+ CMtn_WindSpeed_mps']\n",
      "[0.031288789283694544, 0.009787480793376569, 0.012121182930896127, 0.02262664988010921, 0.038630663647111756, 0.063873239100339, 0.10153778925343948, 0.1359493495165582, 0.18955300642538275, 0.25243175487847336, 0.3271378897180827]\n",
      "OrderedDict([('CMtn_WindSpeed_mps', (0.021514015638045225, 0.031288789283694544)), ('CMtn_Dewpoint_degC+ CMtn_WindSpeed_mps', (0.042571365305989484, 0.009787480793376569)), ('LXV_12hr_delta_Pressure_hp+ CMtn_Dewpoint_degC+ CMtn_WindSpeed_mps', (0.046603851980261846, 0.012121182930896127)), ('CMtn_WindDirection_deg+ LXV_12hr_delta_Pressure_hp+ CMtn_Dewpoint_degC+ CMtn_WindSpeed_mps', (0.043614134869658594, 0.02262664988010921)), ('LXV_Dewpoint_degC+ CMtn_WindDirection_deg+ LXV_12hr_delta_Pressure_hp+ CMtn_Dewpoint_degC+ CMtn_WindSpeed_mps', (0.040045945679467954, 0.038630663647111756)), ('LXV_WindSpeed_mps+ LXV_Dewpoint_degC+ CMtn_WindDirection_deg+ LXV_12hr_delta_Pressure_hp+ CMtn_Dewpoint_degC+ CMtn_WindSpeed_mps', (0.03543437125264959, 0.063873239100339)), ('CMtn_Temperature_degC+ LXV_WindSpeed_mps+ LXV_Dewpoint_degC+ CMtn_WindDirection_deg+ LXV_12hr_delta_Pressure_hp+ CMtn_Dewpoint_degC+ CMtn_WindSpeed_mps', (0.030017765606898172, 0.10153778925343948)), ('LXV_Temperature_degC+ CMtn_Temperature_degC+ LXV_WindSpeed_mps+ LXV_Dewpoint_degC+ CMtn_WindDirection_deg+ LXV_12hr_delta_Pressure_hp+ CMtn_Dewpoint_degC+ CMtn_WindSpeed_mps', (0.02651442344177768, 0.1359493495165582)), ('LXV_Pressure_hp+ LXV_Temperature_degC+ CMtn_Temperature_degC+ LXV_WindSpeed_mps+ LXV_Dewpoint_degC+ CMtn_WindDirection_deg+ LXV_12hr_delta_Pressure_hp+ CMtn_Dewpoint_degC+ CMtn_WindSpeed_mps', (0.02116165854046903, 0.18955300642538275)), ('LXV_WindDirection_deg+ LXV_Pressure_hp+ LXV_Temperature_degC+ CMtn_Temperature_degC+ LXV_WindSpeed_mps+ LXV_Dewpoint_degC+ CMtn_WindDirection_deg+ LXV_12hr_delta_Pressure_hp+ CMtn_Dewpoint_degC+ CMtn_WindSpeed_mps', (0.01564787880507479, 0.25243175487847336)), ('CMtnSNTL_Temp_degC+ LXV_WindDirection_deg+ LXV_Pressure_hp+ LXV_Temperature_degC+ CMtn_Temperature_degC+ LXV_WindSpeed_mps+ LXV_Dewpoint_degC+ CMtn_WindDirection_deg+ LXV_12hr_delta_Pressure_hp+ CMtn_Dewpoint_degC+ CMtn_WindSpeed_mps', (0.009611108409740887, 0.3271378897180827))])\n"
     ]
    }
   ],
   "source": [
    "from collections import OrderedDict\n",
    "\n",
    "variables = ['CMtnSNTL_Temp_degC', 'CMtn_Temperature_degC', 'CMtn_Dewpoint_degC', \\\n",
    "'CMtn_WindDirection_deg', 'CMtn_WindSpeed_mps', 'LXV_Temperature_degC', 'LXV_Dewpoint_degC', \\\n",
    "'LXV_Pressure_hp', 'LXV_WindSpeed_mps', 'LXV_WindDirection_deg', 'LXV_12hr_delta_Pressure_hp']\n",
    "variables_org = variables\n",
    "print(variables)\n",
    "\n",
    "print('******')\n",
    "adjRs = []\n",
    "newRs = []\n",
    "dup_var = []\n",
    "max_vars = []\n",
    "f_pvalues = []\n",
    "\n",
    "while variables != []:\n",
    "  #print(variables)\n",
    "  for var in variables:\n",
    "\n",
    "        \n",
    "    #print(variables)\n",
    "    max_var = max(variables, key = lambda v: ols('CMtnSNTL_Upcoming12hrSNOWFALL_gte3_in ~' + v, test_train_df[train_yrs_tt]).fit().rsquared_adj)    #this finds OLS model run with highest adj R squared\n",
    "    OLS = ols('CMtnSNTL_Upcoming12hrSNOWFALL_gte3_in ~' + max_var, test_train_df[train_yrs_tt]).fit()\n",
    "    \n",
    "    print(max_var)\n",
    "    #print(max_var)\n",
    "    #print(OLS.rsquared)\n",
    "    \n",
    "    #Create lists of statistics for each combination of variables modeld\n",
    "    adjRs.append(OLS.rsquared_adj)\n",
    "    f_pvalues.append(OLS.f_pvalue)\n",
    "    max_vars.append(max_var)\n",
    "\n",
    "    add_max_var = '+ '+ max_var\n",
    "    \n",
    "    variables = [s + add_max_var for s in variables_org]\n",
    "    \n",
    "    #The above for loop naturally will create a duplicate variable, which should be removed\n",
    "    for v in variables_org: \n",
    "      dup_var = []\n",
    "      dup_var = [var for var in variables if var.count(v)>1]\n",
    "      if dup_var!=[]:\n",
    "            for dup in dup_var: variables.remove(dup)\n",
    "\n",
    "#combine the modeled variable sequences with respective stats  \n",
    "stats = list(zip(adjRs, f_pvalues))    # create list of tuples\n",
    "dictionary = OrderedDict(zip(max_vars, stats))\n",
    "#dictionary_adjRs = OrderedDict(zip(max_vars, f_pvalues))\n",
    "print(adjRs)\n",
    "print(max_vars)\n",
    "print(f_pvalues)\n",
    "print(dictionary)"
   ]
  },
  {
   "cell_type": "code",
   "execution_count": 13,
   "metadata": {},
   "outputs": [
    {
     "data": {
      "text/plain": [
       "[<matplotlib.lines.Line2D at 0x162b34b0>]"
      ]
     },
     "execution_count": 13,
     "metadata": {},
     "output_type": "execute_result"
    },
    {
     "data": {
      "image/png": "[encoded data removed]",
      "text/plain": [
       "<Figure size 432x288 with 1 Axes>"
      ]
     },
     "metadata": {},
     "output_type": "display_data"
    }
   ],
   "source": [
    "plt.plot(adjRs)"
   ]
  },
  {
   "cell_type": "code",
   "execution_count": 14,
   "metadata": {},
   "outputs": [
    {
     "data": {
      "text/plain": [
       "[<matplotlib.lines.Line2D at 0x15a74230>]"
      ]
     },
     "execution_count": 14,
     "metadata": {},
     "output_type": "execute_result"
    },
    {
     "data": {
      "image/png": "[encoded data removed]",
      "text/plain": [
       "<Figure size 432x288 with 1 Axes>"
      ]
     },
     "metadata": {},
     "output_type": "display_data"
    }
   ],
   "source": [
    "plt.plot(f_pvalues)"
   ]
  },
  {
   "cell_type": "markdown",
   "metadata": {},
   "source": [
    "**Print adjusted R and F stat probabilities in order**"
   ]
  },
  {
   "cell_type": "code",
   "execution_count": 15,
   "metadata": {},
   "outputs": [
    {
     "name": "stdout",
     "output_type": "stream",
     "text": [
      "0 CMtn_WindSpeed_mps \n",
      " Adjusted R: 0.021514015638045225  Fstat(prob): 0.031288789283694544\n",
      "\n",
      "1 CMtn_Dewpoint_degC+ CMtn_WindSpeed_mps \n",
      " Adjusted R: 0.042571365305989484  Fstat(prob): 0.009787480793376569\n",
      "\n",
      "2 LXV_12hr_delta_Pressure_hp+ CMtn_Dewpoint_degC+ CMtn_WindSpeed_mps \n",
      " Adjusted R: 0.046603851980261846  Fstat(prob): 0.012121182930896127\n",
      "\n",
      "3 CMtn_WindDirection_deg+ LXV_12hr_delta_Pressure_hp+ CMtn_Dewpoint_degC+ CMtn_WindSpeed_mps \n",
      " Adjusted R: 0.043614134869658594  Fstat(prob): 0.02262664988010921\n",
      "\n",
      "4 LXV_Dewpoint_degC+ CMtn_WindDirection_deg+ LXV_12hr_delta_Pressure_hp+ CMtn_Dewpoint_degC+ CMtn_WindSpeed_mps \n",
      " Adjusted R: 0.040045945679467954  Fstat(prob): 0.038630663647111756\n",
      "\n",
      "5 LXV_WindSpeed_mps+ LXV_Dewpoint_degC+ CMtn_WindDirection_deg+ LXV_12hr_delta_Pressure_hp+ CMtn_Dewpoint_degC+ CMtn_WindSpeed_mps \n",
      " Adjusted R: 0.03543437125264959  Fstat(prob): 0.063873239100339\n",
      "\n",
      "6 CMtn_Temperature_degC+ LXV_WindSpeed_mps+ LXV_Dewpoint_degC+ CMtn_WindDirection_deg+ LXV_12hr_delta_Pressure_hp+ CMtn_Dewpoint_degC+ CMtn_WindSpeed_mps \n",
      " Adjusted R: 0.030017765606898172  Fstat(prob): 0.10153778925343948\n",
      "\n",
      "7 LXV_Temperature_degC+ CMtn_Temperature_degC+ LXV_WindSpeed_mps+ LXV_Dewpoint_degC+ CMtn_WindDirection_deg+ LXV_12hr_delta_Pressure_hp+ CMtn_Dewpoint_degC+ CMtn_WindSpeed_mps \n",
      " Adjusted R: 0.02651442344177768  Fstat(prob): 0.1359493495165582\n",
      "\n",
      "8 LXV_Pressure_hp+ LXV_Temperature_degC+ CMtn_Temperature_degC+ LXV_WindSpeed_mps+ LXV_Dewpoint_degC+ CMtn_WindDirection_deg+ LXV_12hr_delta_Pressure_hp+ CMtn_Dewpoint_degC+ CMtn_WindSpeed_mps \n",
      " Adjusted R: 0.02116165854046903  Fstat(prob): 0.18955300642538275\n",
      "\n",
      "9 LXV_WindDirection_deg+ LXV_Pressure_hp+ LXV_Temperature_degC+ CMtn_Temperature_degC+ LXV_WindSpeed_mps+ LXV_Dewpoint_degC+ CMtn_WindDirection_deg+ LXV_12hr_delta_Pressure_hp+ CMtn_Dewpoint_degC+ CMtn_WindSpeed_mps \n",
      " Adjusted R: 0.01564787880507479  Fstat(prob): 0.25243175487847336\n",
      "\n",
      "10 CMtnSNTL_Temp_degC+ LXV_WindDirection_deg+ LXV_Pressure_hp+ LXV_Temperature_degC+ CMtn_Temperature_degC+ LXV_WindSpeed_mps+ LXV_Dewpoint_degC+ CMtn_WindDirection_deg+ LXV_12hr_delta_Pressure_hp+ CMtn_Dewpoint_degC+ CMtn_WindSpeed_mps \n",
      " Adjusted R: 0.009611108409740887  Fstat(prob): 0.3271378897180827\n",
      "\n"
     ]
    }
   ],
   "source": [
    "\n",
    "\n",
    "for c in dictionary:\n",
    "    #print(str(dictionary.keys().index(c))+\"{country}: {capital}\".format(country=c, capital=dictionary[c])+\"\\n\")\n",
    "        print(str(list(dictionary.keys()).index(c))+ \" {key} \\n Adjusted R: {adjR}  Fstat(prob): {f_pvalue}\".format(key=c, adjR=dictionary[c][0], f_pvalue = dictionary[c][1])+\"\\n\")\n",
    "        OLS = ols('CMtnSNTL_Upcoming12hrSNOWFALL_gte3_in ~' + c, test_train_df[train_yrs_tt]).fit()\n",
    "\n"
   ]
  },
  {
   "cell_type": "markdown",
   "metadata": {},
   "source": [
    "**Find max adj R and obtain OLS summary**"
   ]
  },
  {
   "cell_type": "code",
   "execution_count": 16,
   "metadata": {},
   "outputs": [
    {
     "name": "stdout",
     "output_type": "stream",
     "text": [
      "Print maximum:\n",
      "LXV_12hr_delta_Pressure_hp+ CMtn_Dewpoint_degC+ CMtn_WindSpeed_mps\n"
     ]
    }
   ],
   "source": [
    " # Just use 'min' instead of 'max' for minimum.\n",
    "print(\"Print maximum:\")\n",
    "maximum = max(dictionary, key=dictionary.get) \n",
    "print(maximum)"
   ]
  },
  {
   "cell_type": "code",
   "execution_count": 17,
   "metadata": {},
   "outputs": [
    {
     "name": "stdout",
     "output_type": "stream",
     "text": [
      "LXV_12hr_delta_Pressure_hp+ CMtn_Dewpoint_degC+ CMtn_WindSpeed_mps\n",
      "                                      OLS Regression Results                                     \n",
      "=================================================================================================\n",
      "Dep. Variable:     CMtnSNTL_Upcoming12hrSNOWFALL_gte3_in   R-squared:                       0.060\n",
      "Model:                                               OLS   Adj. R-squared:                  0.044\n",
      "Method:                                    Least Squares   F-statistic:                     3.765\n",
      "Date:                                   Thu, 28 Mar 2019   Prob (F-statistic):             0.0118\n",
      "Time:                                           22:29:40   Log-Likelihood:                -371.85\n",
      "No. Observations:                                    180   AIC:                             751.7\n",
      "Df Residuals:                                        176   BIC:                             764.5\n",
      "Df Model:                                              3                                         \n",
      "Covariance Type:                               nonrobust                                         \n",
      "==============================================================================================\n",
      "                                 coef    std err          t      P>|t|      [0.025      0.975]\n",
      "----------------------------------------------------------------------------------------------\n",
      "Intercept                      4.3793      0.469      9.333      0.000       3.453       5.305\n",
      "LXV_12hr_delta_Pressure_hp    -0.0436      0.027     -1.617      0.108      -0.097       0.010\n",
      "CMtn_Dewpoint_degC             0.0628      0.037      1.689      0.093      -0.011       0.136\n",
      "CMtn_WindSpeed_mps             0.0841      0.040      2.103      0.037       0.005       0.163\n",
      "==============================================================================\n",
      "Omnibus:                       77.786   Durbin-Watson:                   1.905\n",
      "Prob(Omnibus):                  0.000   Jarque-Bera (JB):              233.722\n",
      "Skew:                           1.816   Prob(JB):                     1.77e-51\n",
      "Kurtosis:                       7.238   Cond. No.                         43.9\n",
      "==============================================================================\n",
      "\n",
      "Warnings:\n",
      "[1] Standard Errors assume that the covariance matrix of the errors is correctly specified.\n"
     ]
    }
   ],
   "source": [
    "maximum_all_str = max(dictionary, key=dictionary.get) \n",
    "print(maximum_all_str)\n",
    "\n",
    "maxOLS_all = ols('CMtnSNTL_Upcoming12hrSNOWFALL_gte3_in ~' + maximum_all_str , asos_snotel_UA_df[train_yrs]).fit() \n",
    "print(maxOLS_all.summary())\n"
   ]
  },
  {
   "cell_type": "markdown",
   "metadata": {},
   "source": [
    "**Print QQ plot**"
   ]
  },
  {
   "cell_type": "code",
   "execution_count": 18,
   "metadata": {},
   "outputs": [
    {
     "data": {
      "image/png": "[encoded data removed]",
      "text/plain": [
       "<Figure size 720x504 with 1 Axes>"
      ]
     },
     "metadata": {},
     "output_type": "display_data"
    }
   ],
   "source": [
    "fig, ax = plt.subplots(figsize=(10, 7))\n",
    "qq2=sm.qqplot(maxOLS_all.resid, line='r', ax = ax)\n",
    "plt.title('Theoretical vs Sample Quantiles of Residuals', fontsize = 16)\n",
    "plt.savefig('C:/Users/RAPP/Documents/Capstone/MS_CS_report/figs/qq_resid_SFC.png',bbox_inches='tight')"
   ]
  },
  {
   "cell_type": "markdown",
   "metadata": {},
   "source": [
    "Let's test different P|t| thresholds for which to remove variables, rerun and model for each set of variables, and see what threshold might glean best results using adjusted R squared as a metric**"
   ]
  },
  {
   "cell_type": "code",
   "execution_count": 19,
   "metadata": {},
   "outputs": [
    {
     "name": "stdout",
     "output_type": "stream",
     "text": [
      "LXV_12hr_delta_Pressure_hp+ CMtn_Dewpoint_degC+ CMtn_WindSpeed_mps\n",
      "1\n",
      "LXV_12hr_delta_Pressure_hp 0.022236455335143734 0.01\n",
      "0.022236455335143734 0.01\n",
      "2\n",
      "LXV_12hr_delta_Pressure_hp 0.022236455335143734 0.02\n",
      "3\n",
      "LXV_12hr_delta_Pressure_hp 0.022236455335143734 0.03\n",
      "4\n",
      "LXV_12hr_delta_Pressure_hp+ CMtn_WindSpeed_mps 0.034295356135126354 0.04\n",
      "0.034295356135126354 0.04\n",
      "5\n",
      "LXV_12hr_delta_Pressure_hp+ CMtn_WindSpeed_mps 0.034295356135126354 0.05\n",
      "6\n",
      "LXV_12hr_delta_Pressure_hp+ CMtn_WindSpeed_mps 0.034295356135126354 0.06\n",
      "7\n",
      "LXV_12hr_delta_Pressure_hp+ CMtn_WindSpeed_mps 0.034295356135126354 0.07\n",
      "8\n",
      "LXV_12hr_delta_Pressure_hp+ CMtn_WindSpeed_mps 0.034295356135126354 0.08\n",
      "9\n",
      "LXV_12hr_delta_Pressure_hp+ CMtn_WindSpeed_mps 0.034295356135126354 0.09\n",
      "10\n",
      "LXV_12hr_delta_Pressure_hp+ CMtn_Dewpoint_degC+ CMtn_WindSpeed_mps 0.04429241266469863 0.1\n",
      "0.04429241266469863 0.1\n",
      "11\n",
      "LXV_12hr_delta_Pressure_hp+ CMtn_Dewpoint_degC+ CMtn_WindSpeed_mps 0.04429241266469863 0.11\n",
      "12\n",
      "LXV_12hr_delta_Pressure_hp+ CMtn_Dewpoint_degC+ CMtn_WindSpeed_mps 0.04429241266469863 0.12\n",
      "13\n",
      "LXV_12hr_delta_Pressure_hp+ CMtn_Dewpoint_degC+ CMtn_WindSpeed_mps 0.04429241266469863 0.13\n",
      "14\n",
      "LXV_12hr_delta_Pressure_hp+ CMtn_Dewpoint_degC+ CMtn_WindSpeed_mps 0.04429241266469863 0.14\n",
      "15\n",
      "LXV_12hr_delta_Pressure_hp+ CMtn_Dewpoint_degC+ CMtn_WindSpeed_mps 0.04429241266469863 0.15\n",
      "16\n",
      "LXV_12hr_delta_Pressure_hp+ CMtn_Dewpoint_degC+ CMtn_WindSpeed_mps 0.04429241266469863 0.16\n",
      "17\n",
      "LXV_12hr_delta_Pressure_hp+ CMtn_Dewpoint_degC+ CMtn_WindSpeed_mps 0.04429241266469863 0.17\n",
      "18\n",
      "LXV_12hr_delta_Pressure_hp+ CMtn_Dewpoint_degC+ CMtn_WindSpeed_mps 0.04429241266469863 0.18\n",
      "19\n",
      "LXV_12hr_delta_Pressure_hp+ CMtn_Dewpoint_degC+ CMtn_WindSpeed_mps 0.04429241266469863 0.19\n",
      "20\n",
      "LXV_12hr_delta_Pressure_hp+ CMtn_Dewpoint_degC+ CMtn_WindSpeed_mps 0.04429241266469863 0.2\n",
      "21\n",
      "LXV_12hr_delta_Pressure_hp+ CMtn_Dewpoint_degC+ CMtn_WindSpeed_mps 0.04429241266469863 0.21\n",
      "22\n",
      "LXV_12hr_delta_Pressure_hp+ CMtn_Dewpoint_degC+ CMtn_WindSpeed_mps 0.04429241266469863 0.22\n",
      "23\n",
      "LXV_12hr_delta_Pressure_hp+ CMtn_Dewpoint_degC+ CMtn_WindSpeed_mps 0.04429241266469863 0.23\n",
      "24\n",
      "LXV_12hr_delta_Pressure_hp+ CMtn_Dewpoint_degC+ CMtn_WindSpeed_mps 0.04429241266469863 0.24\n",
      "25\n",
      "LXV_12hr_delta_Pressure_hp+ CMtn_Dewpoint_degC+ CMtn_WindSpeed_mps 0.04429241266469863 0.25\n",
      "26\n",
      "LXV_12hr_delta_Pressure_hp+ CMtn_Dewpoint_degC+ CMtn_WindSpeed_mps 0.04429241266469863 0.26\n",
      "27\n",
      "LXV_12hr_delta_Pressure_hp+ CMtn_Dewpoint_degC+ CMtn_WindSpeed_mps 0.04429241266469863 0.27\n",
      "28\n",
      "LXV_12hr_delta_Pressure_hp+ CMtn_Dewpoint_degC+ CMtn_WindSpeed_mps 0.04429241266469863 0.28\n",
      "29\n",
      "LXV_12hr_delta_Pressure_hp+ CMtn_Dewpoint_degC+ CMtn_WindSpeed_mps 0.04429241266469863 0.29\n",
      "30\n",
      "LXV_12hr_delta_Pressure_hp+ CMtn_Dewpoint_degC+ CMtn_WindSpeed_mps 0.04429241266469863 0.3\n",
      "31\n",
      "LXV_12hr_delta_Pressure_hp+ CMtn_Dewpoint_degC+ CMtn_WindSpeed_mps 0.04429241266469863 0.31\n",
      "32\n",
      "LXV_12hr_delta_Pressure_hp+ CMtn_Dewpoint_degC+ CMtn_WindSpeed_mps 0.04429241266469863 0.32\n",
      "33\n",
      "LXV_12hr_delta_Pressure_hp+ CMtn_Dewpoint_degC+ CMtn_WindSpeed_mps 0.04429241266469863 0.33\n",
      "34\n",
      "LXV_12hr_delta_Pressure_hp+ CMtn_Dewpoint_degC+ CMtn_WindSpeed_mps 0.04429241266469863 0.34\n",
      "35\n",
      "LXV_12hr_delta_Pressure_hp+ CMtn_Dewpoint_degC+ CMtn_WindSpeed_mps 0.04429241266469863 0.35000000000000003\n",
      "36\n",
      "LXV_12hr_delta_Pressure_hp+ CMtn_Dewpoint_degC+ CMtn_WindSpeed_mps 0.04429241266469863 0.36\n",
      "37\n",
      "LXV_12hr_delta_Pressure_hp+ CMtn_Dewpoint_degC+ CMtn_WindSpeed_mps 0.04429241266469863 0.37\n",
      "38\n",
      "LXV_12hr_delta_Pressure_hp+ CMtn_Dewpoint_degC+ CMtn_WindSpeed_mps 0.04429241266469863 0.38\n",
      "39\n",
      "LXV_12hr_delta_Pressure_hp+ CMtn_Dewpoint_degC+ CMtn_WindSpeed_mps 0.04429241266469863 0.39\n",
      "40\n",
      "LXV_12hr_delta_Pressure_hp+ CMtn_Dewpoint_degC+ CMtn_WindSpeed_mps 0.04429241266469863 0.4\n",
      "41\n",
      "LXV_12hr_delta_Pressure_hp+ CMtn_Dewpoint_degC+ CMtn_WindSpeed_mps 0.04429241266469863 0.41000000000000003\n",
      "42\n",
      "LXV_12hr_delta_Pressure_hp+ CMtn_Dewpoint_degC+ CMtn_WindSpeed_mps 0.04429241266469863 0.42\n",
      "43\n",
      "LXV_12hr_delta_Pressure_hp+ CMtn_Dewpoint_degC+ CMtn_WindSpeed_mps 0.04429241266469863 0.43\n",
      "44\n",
      "LXV_12hr_delta_Pressure_hp+ CMtn_Dewpoint_degC+ CMtn_WindSpeed_mps 0.04429241266469863 0.44\n",
      "45\n",
      "LXV_12hr_delta_Pressure_hp+ CMtn_Dewpoint_degC+ CMtn_WindSpeed_mps 0.04429241266469863 0.45\n",
      "46\n",
      "LXV_12hr_delta_Pressure_hp+ CMtn_Dewpoint_degC+ CMtn_WindSpeed_mps 0.04429241266469863 0.46\n",
      "47\n",
      "LXV_12hr_delta_Pressure_hp+ CMtn_Dewpoint_degC+ CMtn_WindSpeed_mps 0.04429241266469863 0.47000000000000003\n",
      "48\n",
      "LXV_12hr_delta_Pressure_hp+ CMtn_Dewpoint_degC+ CMtn_WindSpeed_mps 0.04429241266469863 0.48\n",
      "49\n",
      "LXV_12hr_delta_Pressure_hp+ CMtn_Dewpoint_degC+ CMtn_WindSpeed_mps 0.04429241266469863 0.49\n",
      "50\n",
      "LXV_12hr_delta_Pressure_hp+ CMtn_Dewpoint_degC+ CMtn_WindSpeed_mps 0.04429241266469863 0.5\n",
      "51\n",
      "LXV_12hr_delta_Pressure_hp+ CMtn_Dewpoint_degC+ CMtn_WindSpeed_mps 0.04429241266469863 0.51\n",
      "52\n",
      "LXV_12hr_delta_Pressure_hp+ CMtn_Dewpoint_degC+ CMtn_WindSpeed_mps 0.04429241266469863 0.52\n",
      "53\n",
      "LXV_12hr_delta_Pressure_hp+ CMtn_Dewpoint_degC+ CMtn_WindSpeed_mps 0.04429241266469863 0.53\n",
      "54\n",
      "LXV_12hr_delta_Pressure_hp+ CMtn_Dewpoint_degC+ CMtn_WindSpeed_mps 0.04429241266469863 0.54\n",
      "55\n",
      "LXV_12hr_delta_Pressure_hp+ CMtn_Dewpoint_degC+ CMtn_WindSpeed_mps 0.04429241266469863 0.55\n",
      "56\n",
      "LXV_12hr_delta_Pressure_hp+ CMtn_Dewpoint_degC+ CMtn_WindSpeed_mps 0.04429241266469863 0.56\n",
      "57\n",
      "LXV_12hr_delta_Pressure_hp+ CMtn_Dewpoint_degC+ CMtn_WindSpeed_mps 0.04429241266469863 0.5700000000000001\n",
      "58\n",
      "LXV_12hr_delta_Pressure_hp+ CMtn_Dewpoint_degC+ CMtn_WindSpeed_mps 0.04429241266469863 0.58\n",
      "59\n",
      "LXV_12hr_delta_Pressure_hp+ CMtn_Dewpoint_degC+ CMtn_WindSpeed_mps 0.04429241266469863 0.59\n",
      "60\n",
      "LXV_12hr_delta_Pressure_hp+ CMtn_Dewpoint_degC+ CMtn_WindSpeed_mps 0.04429241266469863 0.6\n",
      "61\n",
      "LXV_12hr_delta_Pressure_hp+ CMtn_Dewpoint_degC+ CMtn_WindSpeed_mps 0.04429241266469863 0.61\n",
      "62\n",
      "LXV_12hr_delta_Pressure_hp+ CMtn_Dewpoint_degC+ CMtn_WindSpeed_mps 0.04429241266469863 0.62\n",
      "63\n",
      "LXV_12hr_delta_Pressure_hp+ CMtn_Dewpoint_degC+ CMtn_WindSpeed_mps 0.04429241266469863 0.63\n",
      "64\n",
      "LXV_12hr_delta_Pressure_hp+ CMtn_Dewpoint_degC+ CMtn_WindSpeed_mps 0.04429241266469863 0.64\n",
      "65\n",
      "LXV_12hr_delta_Pressure_hp+ CMtn_Dewpoint_degC+ CMtn_WindSpeed_mps 0.04429241266469863 0.65\n",
      "66\n",
      "LXV_12hr_delta_Pressure_hp+ CMtn_Dewpoint_degC+ CMtn_WindSpeed_mps 0.04429241266469863 0.66\n",
      "67\n",
      "LXV_12hr_delta_Pressure_hp+ CMtn_Dewpoint_degC+ CMtn_WindSpeed_mps 0.04429241266469863 0.67\n",
      "68\n",
      "LXV_12hr_delta_Pressure_hp+ CMtn_Dewpoint_degC+ CMtn_WindSpeed_mps 0.04429241266469863 0.68\n",
      "69\n",
      "LXV_12hr_delta_Pressure_hp+ CMtn_Dewpoint_degC+ CMtn_WindSpeed_mps 0.04429241266469863 0.6900000000000001\n",
      "70\n",
      "LXV_12hr_delta_Pressure_hp+ CMtn_Dewpoint_degC+ CMtn_WindSpeed_mps 0.04429241266469863 0.7000000000000001\n",
      "71\n",
      "LXV_12hr_delta_Pressure_hp+ CMtn_Dewpoint_degC+ CMtn_WindSpeed_mps 0.04429241266469863 0.71\n",
      "72\n",
      "LXV_12hr_delta_Pressure_hp+ CMtn_Dewpoint_degC+ CMtn_WindSpeed_mps 0.04429241266469863 0.72\n",
      "73\n",
      "LXV_12hr_delta_Pressure_hp+ CMtn_Dewpoint_degC+ CMtn_WindSpeed_mps 0.04429241266469863 0.73\n",
      "74\n",
      "LXV_12hr_delta_Pressure_hp+ CMtn_Dewpoint_degC+ CMtn_WindSpeed_mps 0.04429241266469863 0.74\n",
      "75\n",
      "LXV_12hr_delta_Pressure_hp+ CMtn_Dewpoint_degC+ CMtn_WindSpeed_mps 0.04429241266469863 0.75\n",
      "76\n",
      "LXV_12hr_delta_Pressure_hp+ CMtn_Dewpoint_degC+ CMtn_WindSpeed_mps 0.04429241266469863 0.76\n",
      "77\n",
      "LXV_12hr_delta_Pressure_hp+ CMtn_Dewpoint_degC+ CMtn_WindSpeed_mps 0.04429241266469863 0.77\n",
      "78\n",
      "LXV_12hr_delta_Pressure_hp+ CMtn_Dewpoint_degC+ CMtn_WindSpeed_mps 0.04429241266469863 0.78\n",
      "79\n",
      "LXV_12hr_delta_Pressure_hp+ CMtn_Dewpoint_degC+ CMtn_WindSpeed_mps 0.04429241266469863 0.79\n",
      "80\n",
      "LXV_12hr_delta_Pressure_hp+ CMtn_Dewpoint_degC+ CMtn_WindSpeed_mps 0.04429241266469863 0.8\n",
      "81\n",
      "LXV_12hr_delta_Pressure_hp+ CMtn_Dewpoint_degC+ CMtn_WindSpeed_mps 0.04429241266469863 0.81\n",
      "82\n",
      "LXV_12hr_delta_Pressure_hp+ CMtn_Dewpoint_degC+ CMtn_WindSpeed_mps 0.04429241266469863 0.8200000000000001\n",
      "83\n",
      "LXV_12hr_delta_Pressure_hp+ CMtn_Dewpoint_degC+ CMtn_WindSpeed_mps 0.04429241266469863 0.8300000000000001\n",
      "84\n",
      "LXV_12hr_delta_Pressure_hp+ CMtn_Dewpoint_degC+ CMtn_WindSpeed_mps 0.04429241266469863 0.84\n",
      "85\n",
      "LXV_12hr_delta_Pressure_hp+ CMtn_Dewpoint_degC+ CMtn_WindSpeed_mps 0.04429241266469863 0.85\n",
      "86\n",
      "LXV_12hr_delta_Pressure_hp+ CMtn_Dewpoint_degC+ CMtn_WindSpeed_mps 0.04429241266469863 0.86\n",
      "87\n"
     ]
    },
    {
     "name": "stdout",
     "output_type": "stream",
     "text": [
      "LXV_12hr_delta_Pressure_hp+ CMtn_Dewpoint_degC+ CMtn_WindSpeed_mps 0.04429241266469863 0.87\n",
      "88\n",
      "LXV_12hr_delta_Pressure_hp+ CMtn_Dewpoint_degC+ CMtn_WindSpeed_mps 0.04429241266469863 0.88\n",
      "89\n",
      "LXV_12hr_delta_Pressure_hp+ CMtn_Dewpoint_degC+ CMtn_WindSpeed_mps 0.04429241266469863 0.89\n",
      "90\n",
      "LXV_12hr_delta_Pressure_hp+ CMtn_Dewpoint_degC+ CMtn_WindSpeed_mps 0.04429241266469863 0.9\n",
      "91\n",
      "LXV_12hr_delta_Pressure_hp+ CMtn_Dewpoint_degC+ CMtn_WindSpeed_mps 0.04429241266469863 0.91\n",
      "92\n",
      "LXV_12hr_delta_Pressure_hp+ CMtn_Dewpoint_degC+ CMtn_WindSpeed_mps 0.04429241266469863 0.92\n",
      "93\n",
      "LXV_12hr_delta_Pressure_hp+ CMtn_Dewpoint_degC+ CMtn_WindSpeed_mps 0.04429241266469863 0.93\n",
      "94\n",
      "LXV_12hr_delta_Pressure_hp+ CMtn_Dewpoint_degC+ CMtn_WindSpeed_mps 0.04429241266469863 0.9400000000000001\n",
      "95\n",
      "LXV_12hr_delta_Pressure_hp+ CMtn_Dewpoint_degC+ CMtn_WindSpeed_mps 0.04429241266469863 0.9500000000000001\n",
      "96\n",
      "LXV_12hr_delta_Pressure_hp+ CMtn_Dewpoint_degC+ CMtn_WindSpeed_mps 0.04429241266469863 0.96\n",
      "97\n",
      "LXV_12hr_delta_Pressure_hp+ CMtn_Dewpoint_degC+ CMtn_WindSpeed_mps 0.04429241266469863 0.97\n",
      "98\n",
      "LXV_12hr_delta_Pressure_hp+ CMtn_Dewpoint_degC+ CMtn_WindSpeed_mps 0.04429241266469863 0.98\n",
      "99\n",
      "LXV_12hr_delta_Pressure_hp+ CMtn_Dewpoint_degC+ CMtn_WindSpeed_mps 0.04429241266469863 0.99\n",
      "\n",
      " best threshold is:0.1\n",
      "                                      OLS Regression Results                                     \n",
      "=================================================================================================\n",
      "Dep. Variable:     CMtnSNTL_Upcoming12hrSNOWFALL_gte3_in   R-squared:                       0.060\n",
      "Model:                                               OLS   Adj. R-squared:                  0.044\n",
      "Method:                                    Least Squares   F-statistic:                     3.765\n",
      "Date:                                   Thu, 28 Mar 2019   Prob (F-statistic):             0.0118\n",
      "Time:                                           22:29:42   Log-Likelihood:                -371.85\n",
      "No. Observations:                                    180   AIC:                             751.7\n",
      "Df Residuals:                                        176   BIC:                             764.5\n",
      "Df Model:                                              3                                         \n",
      "Covariance Type:                               nonrobust                                         \n",
      "==============================================================================================\n",
      "                                 coef    std err          t      P>|t|      [0.025      0.975]\n",
      "----------------------------------------------------------------------------------------------\n",
      "Intercept                      4.3793      0.469      9.333      0.000       3.453       5.305\n",
      "LXV_12hr_delta_Pressure_hp    -0.0436      0.027     -1.617      0.108      -0.097       0.010\n",
      "CMtn_Dewpoint_degC             0.0628      0.037      1.689      0.093      -0.011       0.136\n",
      "CMtn_WindSpeed_mps             0.0841      0.040      2.103      0.037       0.005       0.163\n",
      "==============================================================================\n",
      "Omnibus:                       77.786   Durbin-Watson:                   1.905\n",
      "Prob(Omnibus):                  0.000   Jarque-Bera (JB):              233.722\n",
      "Skew:                           1.816   Prob(JB):                     1.77e-51\n",
      "Kurtosis:                       7.238   Cond. No.                         43.9\n",
      "==============================================================================\n",
      "\n",
      "Warnings:\n",
      "[1] Standard Errors assume that the covariance matrix of the errors is correctly specified.\n"
     ]
    }
   ],
   "source": [
    "rsq_adj = 0\n",
    "thresh = 0\n",
    "\n",
    "goodp_str = \"\"\n",
    "highp_var = []\n",
    "\n",
    "maximum_all_str = max(dictionary, key=dictionary.get)    #this is the string of variables found in previous OLS run associated with mad adjusted R squared.\n",
    "print(maximum_all_str)\n",
    "\n",
    "\n",
    "for test_thresh in range(1, 100):   #loop through different P|t| thresholds ranging from 1 to 100.  Note floats are not allowed here \n",
    "  print(test_thresh)\n",
    "  highp_var = [var for var in maxOLS_all.pvalues.keys() if maxOLS_all.pvalues[var]>=test_thresh*0.01]  #check P|t| for each variable against threshold and store in list\n",
    "  \n",
    "  testgoodp_str = maximum_all_str   #reset testgoodp_str \n",
    "    \n",
    "  for var in highp_var:\n",
    "    testgoodp_str = testgoodp_str.replace(\"+ \" + var, \"\")   #  \n",
    "     \n",
    "\n",
    " \n",
    "\n",
    "  maxOLS_testgoodp = ols('CMtnSNTL_Upcoming12hrSNOWFALL_gte3_in ~' + testgoodp_str, asos_snotel_UA_df[train_yrs]).fit()\n",
    "  print(testgoodp_str, maxOLS_testgoodp.rsquared_adj, test_thresh*0.01)\n",
    "  #print(maxOLS_testgoodp.rsquared_adj)\n",
    "  if maxOLS_testgoodp.rsquared_adj > rsq_adj:\n",
    "      rsq_adj = maxOLS_testgoodp.rsquared_adj\n",
    "      print(maxOLS_testgoodp.rsquared_adj, test_thresh*0.01)\n",
    "      goodp_str = testgoodp_str\n",
    "      thresh = test_thresh*0.01\n",
    "\n",
    "    \n",
    "print(\"\\n best threshold is:\" + str(thresh))\n",
    "maxOLS_goodp = ols('CMtnSNTL_Upcoming12hrSNOWFALL_gte3_in ~' + goodp_str, asos_snotel_UA_df[train_yrs]).fit() \n",
    "print(maxOLS_goodp.summary())\n"
   ]
  },
  {
   "cell_type": "markdown",
   "metadata": {},
   "source": [
    "**So it looks like the best P|t| threshold for variable elimination is 0.27.  A small improvement to adjusted R squared was made**"
   ]
  },
  {
   "cell_type": "markdown",
   "metadata": {},
   "source": [
    "## Try fit parameters with test dataset (2006 and 2017 data)"
   ]
  },
  {
   "cell_type": "code",
   "execution_count": null,
   "metadata": {},
   "outputs": [],
   "source": []
  },
  {
   "cell_type": "code",
   "execution_count": null,
   "metadata": {},
   "outputs": [],
   "source": []
  },
  {
   "cell_type": "code",
   "execution_count": 20,
   "metadata": {},
   "outputs": [
    {
     "name": "stdout",
     "output_type": "stream",
     "text": [
      "count    43.000000\n",
      "mean      4.930233\n",
      "std       2.693867\n",
      "min       3.000000\n",
      "25%       3.000000\n",
      "50%       4.000000\n",
      "75%       5.500000\n",
      "max      16.000000\n",
      "Name: CMtnSNTL_Upcoming12hrSNOWFALL_gte3_in, dtype: float64\n",
      "count    43.000000\n",
      "mean      4.443390\n",
      "std       0.553167\n",
      "min       3.218541\n",
      "25%       4.128692\n",
      "50%       4.453653\n",
      "75%       4.711051\n",
      "max       5.842401\n",
      "dtype: float64\n",
      "count       43\n",
      "unique       1\n",
      "top       True\n",
      "freq        43\n",
      "dtype: object\n"
     ]
    },
    {
     "data": {
      "image/png": "[encoded data removed]",
      "text/plain": [
       "<Figure size 720x504 with 1 Axes>"
      ]
     },
     "metadata": {},
     "output_type": "display_data"
    }
   ],
   "source": [
    "fig = plt.figure(figsize=(10,7))\n",
    "\n",
    "\n",
    "\n",
    "#Define actual and predicted snowfall dataframes\n",
    "actual_snf = test_train_df[test_yrs_tt]['CMtnSNTL_Upcoming12hrSNOWFALL_gte3_in'][test_train_df[test_yrs_tt]['CMtnSNTL_Upcoming12hrSNOWFALL_gte3_in']>=3]\n",
    "predict = maxOLS_goodp.predict(test_train_df[test_yrs_tt][test_train_df[test_yrs_tt]['CMtnSNTL_Upcoming12hrSNOWFALL_gte3_in']>=3])\n",
    "print(actual_snf.describe())\n",
    "print(predict.describe())\n",
    "\n",
    "#Do linear regression and calcuate relevent stats\n",
    "\n",
    "from scipy.stats import pearsonr, linregress\n",
    "from sklearn.metrics import mean_squared_error\n",
    "\n",
    "\n",
    "idx = np.isfinite(predict) & np.isfinite(actual_snf) \n",
    "print(idx.describe())\n",
    "\n",
    "#print(test_train_df[test_yrs_tt][test_train_df['CMtnSNTL_Past12hrSNOWFALL_in']>=3].describe())\n",
    "\n",
    "\n",
    "## Do linear regression and calculate slope, intercept, r, p, std err\n",
    "slope1, intercept1, r_value1, p_value1, std_err1 = linregress(predict[idx], actual_snf[idx])\n",
    "#Calculate mse and rmse\n",
    "mse = mean_squared_error(actual_snf[idx].values,predict[idx].values)\n",
    "rmse = np.sqrt(mse)\n",
    "pearson1, pv = pearsonr(predict[idx], actual_snf[idx])\n",
    "\n",
    "#plot and annotate\n",
    "sns.regplot(predict[idx].values, actual_snf[idx].values)\n",
    "bbox_props=dict(facecolor='red', alpha=0.75, fc = 'white')\n",
    "plt.annotate(' slope: ' + str(round(slope1,3)) +\n",
    "                 '\\n intercept: ' + str(round(intercept1,3)) + \n",
    "                 '\\n R value: ' + str(round(r_value1,3)) +  \n",
    "                 '\\n p value: ' + str(round(p_value1,3)) + \n",
    "                 '\\n standard error: ' + str(round(std_err1,3)) +\n",
    "                 '\\n Pearson coefficent: ' + str(round(pearson1,3)) +\n",
    "                 '\\n mean squared error: ' + str(round(mse,3)) +\n",
    "                 '\\n root mean squared error: ' + str(round(rmse,3)), \\\n",
    "                 xy=(0.03, 0.72), xycoords='axes fraction', fontsize=10, bbox = bbox_props)\n",
    "\n",
    "plt.xlabel('Predicted Snowfall (inches)')\n",
    "plt.ylabel('Actual Snowfall (inches)')\n",
    "plt.xlim([2,8])\n",
    "plt.ylim([0,17])\n",
    "plt.grid(True)\n",
    "plt.title('Predicted vs Actual Snowfall Amounts', fontsize = 16)\n",
    "\n",
    "plt.savefig('C:/Users/RAPP/Documents/Capstone/MS_CS_report/figs/pred_vs_act_SFC_5c.png',bbox_inches='tight')"
   ]
  },
  {
   "cell_type": "markdown",
   "metadata": {},
   "source": [
    "**Plot Residuals**"
   ]
  },
  {
   "cell_type": "code",
   "execution_count": 21,
   "metadata": {},
   "outputs": [
    {
     "name": "stdout",
     "output_type": "stream",
     "text": [
      "[4.53275456 4.50892309 4.37799294 3.4734498  4.74255847 3.80470797\n",
      " 4.80576635 4.06315886 4.07336494 4.73216371 4.3446735  4.37282117\n",
      " 4.85989125 4.3138662  3.218541   5.84240136 4.48975151 5.11006016\n",
      " 4.1709365  3.2638642  4.26390891 4.3293835  4.85714377 5.65637119\n",
      " 4.55797358 4.41475033 4.68993899 4.54195373 4.26563265 4.52979513\n",
      " 3.77249152 3.86466401 3.99263574 4.64492784 4.45365349 4.08644749\n",
      " 4.57755463 4.36252377 5.14897726 4.45947511 5.63843676 3.97643828\n",
      " 4.87906282]\n",
      "[ 5.  5.  4.  5.  7.  4.  3.  4.  8.  5.  8.  3.  6. 11.  3.  6.  3.  3.\n",
      "  4.  3.  5.  5.  5.  6.  3.  3.  3.  3.  4.  3.  3.  3.  3.  3.  5.  3.\n",
      " 16.  6. 11.  3.  8.  3.  5.]\n"
     ]
    },
    {
     "data": {
      "image/png": "[encoded data removed]",
      "text/plain": [
       "<Figure size 720x504 with 1 Axes>"
      ]
     },
     "metadata": {},
     "output_type": "display_data"
    }
   ],
   "source": [
    "fig = plt.figure(figsize=(10,7))\n",
    "\n",
    "plt.scatter(predict[idx].values, actual_snf[idx].values-predict[idx].values)\n",
    "print(predict[idx].values)\n",
    "print(actual_snf[idx].values)\n",
    "#print(actual_snf[idx].values-predict[idx].values)\n",
    "\n",
    "plt.ylabel('Actual - Predicted Snowfall (inches)')\n",
    "plt.xlabel('Predicted Snowfall (inches)')\n",
    "plt.xlim([2,7])\n",
    "plt.ylim([-3,13])\n",
    "plt.grid(True)\n",
    "plt.title('Predicted Snowfall Amounts vs Residuals', fontsize = 16)\n",
    "\n",
    "plt.savefig('C:/Users/RAPP/Documents/Capstone/MS_CS_report/figs/resid_vs_pred_SFC_5c.png',bbox_inches='tight')\n"
   ]
  },
  {
   "cell_type": "code",
   "execution_count": 22,
   "metadata": {},
   "outputs": [
    {
     "data": {
      "image/png": "[encoded data removed]",
      "text/plain": [
       "<Figure size 720x504 with 1 Axes>"
      ]
     },
     "metadata": {},
     "output_type": "display_data"
    }
   ],
   "source": [
    "fig, ax = plt.subplots(figsize=(10, 7))\n",
    "qq2=sm.qqplot( maxOLS_testgoodp.resid, line='r', ax = ax)\n",
    "plt.title('Theoretical vs Sample Quantiles of Residuals', fontsize = 16)\n",
    "plt.grid(True)\n",
    "plt.savefig('C:/Users/RAPP/Documents/Capstone/MS_CS_report/figs/qq_resid_SFC_5c.png',bbox_inches='tight')"
   ]
  },
  {
   "cell_type": "code",
   "execution_count": 23,
   "metadata": {},
   "outputs": [
    {
     "data": {
      "image/png": "[encoded data removed]",
      "text/plain": [
       "<Figure size 720x504 with 1 Axes>"
      ]
     },
     "metadata": {},
     "output_type": "display_data"
    }
   ],
   "source": [
    "\n",
    "diff = actual_snf[idx].values-predict[idx].values\n",
    "diff_df = pd.DataFrame(diff)\n",
    "\n",
    "#fig = plt.figure(figsize=(10,7))\n",
    "hist = diff_df.hist(figsize=(10,7), bins = np.arange(-4,14,1))\n",
    "plt.hist(diff_df)\n",
    "plt.xlabel('Actual - Predicted Snowfall (inches)')\n",
    "plt.ylabel('Bin Count')\n",
    "plt.xlim([-4,14])\n",
    "plt.ylim([0,15])\n",
    "#plt.grid(True)\n",
    "plt.title('Histogram of Residuals', fontsize = 16)\n",
    "\n",
    "plt.savefig('C:/Users/RAPP/Documents/Capstone/MS_CS_report/figs/hist_actual_minus_pred_SFC_5c.png',bbox_inches='tight')\n"
   ]
  },
  {
   "cell_type": "code",
   "execution_count": 24,
   "metadata": {},
   "outputs": [
    {
     "name": "stdout",
     "output_type": "stream",
     "text": [
      "0.4883720930232558 0.627906976744186 0.813953488372093\n"
     ]
    }
   ],
   "source": [
    "\n",
    "PercentSuccess1 = len([x for x in diff if abs(x)<=1])/len(diff)\n",
    "PercentSuccess15 = len([x for x in diff if abs(x)<=1.5])/len(diff)\n",
    "PercentSuccess2= len([x for x in diff if abs(x)<=2])/len(diff)\n",
    "print(PercentSuccess1, PercentSuccess15, PercentSuccess2)"
   ]
  }
 ],
 "metadata": {
  "kernelspec": {
   "display_name": "Python 3",
   "language": "python",
   "name": "python3"
  },
  "language_info": {
   "codemirror_mode": {
    "name": "ipython",
    "version": 3
   },
   "file_extension": ".py",
   "mimetype": "text/x-python",
   "name": "python",
   "nbconvert_exporter": "python",
   "pygments_lexer": "ipython3",
   "version": "3.6.5"
  }
 },
 "nbformat": 4,
 "nbformat_minor": 2
}
