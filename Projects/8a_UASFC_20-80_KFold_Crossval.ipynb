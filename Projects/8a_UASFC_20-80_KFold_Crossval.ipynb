{
 "cells": [
  {
   "cell_type": "markdown",
   "metadata": {},
   "source": [
    "## Data Prep"
   ]
  },
  {
   "cell_type": "markdown",
   "metadata": {},
   "source": [
    "**Import necessary modules and the ASOS/SNOTEL dataframes**"
   ]
  },
  {
   "cell_type": "code",
   "execution_count": 1,
   "metadata": {},
   "outputs": [
    {
     "name": "stdout",
     "output_type": "stream",
     "text": [
      "\n",
      "INSTALLED VERSIONS\n",
      "------------------\n",
      "commit: None\n",
      "python: 3.6.5.final.0\n",
      "python-bits: 32\n",
      "OS: Windows\n",
      "OS-release: 10\n",
      "machine: AMD64\n",
      "processor: Intel64 Family 6 Model 142 Stepping 9, GenuineIntel\n",
      "byteorder: little\n",
      "LC_ALL: None\n",
      "LANG: en_US.UTF-8\n",
      "LOCALE: None.None\n",
      "\n",
      "pandas: 0.24.0\n",
      "pytest: None\n",
      "pip: 18.1\n",
      "setuptools: 39.0.1\n",
      "Cython: None\n",
      "numpy: 1.14.3\n",
      "scipy: 1.1.0\n",
      "pyarrow: None\n",
      "xarray: None\n",
      "IPython: 6.4.0\n",
      "sphinx: None\n",
      "patsy: 0.5.1\n",
      "dateutil: 2.7.3\n",
      "pytz: 2018.4\n",
      "blosc: None\n",
      "bottleneck: None\n",
      "tables: None\n",
      "numexpr: None\n",
      "feather: None\n",
      "matplotlib: 2.2.2\n",
      "openpyxl: None\n",
      "xlrd: None\n",
      "xlwt: None\n",
      "xlsxwriter: None\n",
      "lxml.etree: 4.2.5\n",
      "bs4: None\n",
      "html5lib: 1.0.1\n",
      "sqlalchemy: None\n",
      "pymysql: None\n",
      "psycopg2: None\n",
      "jinja2: 2.10\n",
      "s3fs: None\n",
      "fastparquet: None\n",
      "pandas_gbq: None\n",
      "pandas_datareader: None\n",
      "gcsfs: None\n"
     ]
    },
    {
     "data": {
      "text/plain": [
       "'c:\\\\users\\\\rapp\\\\appdata\\\\local\\\\programs\\\\python\\\\python36-32\\\\python.exe'"
      ]
     },
     "execution_count": 1,
     "metadata": {},
     "output_type": "execute_result"
    }
   ],
   "source": [
    "import pandas as pd\n",
    "import matplotlib.pyplot as plt\n",
    "import numpy as np\n",
    "import datetime as dtb\n",
    "import os\n",
    "from glob import glob\n",
    "import datetime as dt\n",
    "import seaborn as sns\n",
    "pd.show_versions()\n",
    "import sys\n",
    "import graphviz\n",
    "sys.executable\n",
    "#import graphviz"
   ]
  },
  {
   "cell_type": "code",
   "execution_count": 2,
   "metadata": {},
   "outputs": [
    {
     "name": "stdout",
     "output_type": "stream",
     "text": [
      "Index(['CMtnSNTL_Temp_degC', 'CMtnSNTL_SnowDepth_in', 'CMtn_Temperature_degC',\n",
      "       'CMtn_Dewpoint_degC', 'CMtn_WindDirection_deg', 'CMtn_WindSpeed_mps',\n",
      "       'CMtn_CloudCover_oktas', 'CMtn_1hr_Precipitation_mm',\n",
      "       'LXV_Temperature_degC', 'LXV_Dewpoint_degC',\n",
      "       ...\n",
      "       'KGJT_d300_200_height_m', 'KGJT_d300_200_tmpc', 'KGJT_d300_200_dwpc',\n",
      "       'KGJT_d300_200_drct', 'KGJT_d300_200_speed_kts',\n",
      "       'KGJT_d250_200_height_m', 'KGJT_d250_200_tmpc', 'KGJT_d250_200_dwpc',\n",
      "       'KGJT_d250_200_drct', 'KGJT_d250_200_speed_kts'],\n",
      "      dtype='object', length=163)\n"
     ]
    }
   ],
   "source": [
    "data = [pd.read_csv('asos_snotel_UA_12hr_df.dat', parse_dates = True, index_col = 'Date_Time')]\n",
    "asos_snotel_UA_df = pd.concat(data)\n",
    "#asos_snotel_UA_df['LXV_WindSpeed_m/s']\n",
    "\n",
    "#asos_snotel_UA_df.rename(columns={'LXV_WindSpeed_m/s': 'LXV_WindSpeed_mps'}, inplace=True)\n",
    "\n",
    "asos_snotel_UA_df.astype('float16')\n",
    "pd.set_option('display.expand_frame_repr', True)\n",
    "\n",
    "\n",
    "print(asos_snotel_UA_df.keys())\n",
    "\n"
   ]
  },
  {
   "cell_type": "code",
   "execution_count": 3,
   "metadata": {},
   "outputs": [
    {
     "name": "stdout",
     "output_type": "stream",
     "text": [
      "Variables with >= 67% data match to snowfall: \n",
      "['CMtnSNTL_Temp_degC', 'CMtn_Temperature_degC', 'CMtn_Dewpoint_degC', 'CMtn_WindDirection_deg', 'CMtn_WindSpeed_mps', 'LXV_Temperature_degC', 'LXV_Dewpoint_degC', 'LXV_Pressure_hp', 'LXV_WindSpeed_mps', 'LXV_WindDirection_deg', 'LXV_12hr_delta_Pressure_hp', 'KGJT_200mb_height_m', 'KGJT_200mb_tmpc', 'KGJT_200mb_dwpc', 'KGJT_200mb_drct', 'KGJT_200mb_speed_kts', 'KGJT_250mb_height_m', 'KGJT_250mb_tmpc', 'KGJT_250mb_dwpc', 'KGJT_250mb_drct', 'KGJT_250mb_speed_kts', 'KGJT_300mb_height_m', 'KGJT_300mb_tmpc', 'KGJT_300mb_dwpc', 'KGJT_300mb_drct', 'KGJT_300mb_speed_kts', 'KGJT_400mb_height_m', 'KGJT_400mb_tmpc', 'KGJT_400mb_dwpc', 'KGJT_400mb_drct', 'KGJT_400mb_speed_kts', 'KGJT_500mb_height_m', 'KGJT_500mb_tmpc', 'KGJT_500mb_dwpc', 'KGJT_500mb_drct', 'KGJT_500mb_speed_kts', 'KGJT_700mb_height_m', 'KGJT_700mb_tmpc', 'KGJT_700mb_dwpc', 'KGJT_700mb_drct', 'KGJT_700mb_speed_kts', 'KGJT_850mb_height_m', 'KGJT_d850_700_height_m', 'KGJT_d850_500_height_m', 'KGJT_d850_400_height_m', 'KGJT_d850_300_height_m', 'KGJT_d850_250_height_m', 'KGJT_d850_200_height_m', 'KGJT_d700_500_height_m', 'KGJT_d700_500_tmpc', 'KGJT_d700_500_dwpc', 'KGJT_d700_500_drct', 'KGJT_d700_500_speed_kts', 'KGJT_d700_400_height_m', 'KGJT_d700_400_tmpc', 'KGJT_d700_400_dwpc', 'KGJT_d700_400_drct', 'KGJT_d700_400_speed_kts', 'KGJT_d700_300_height_m', 'KGJT_d700_300_tmpc', 'KGJT_d700_300_dwpc', 'KGJT_d700_300_drct', 'KGJT_d700_300_speed_kts', 'KGJT_d700_250_height_m', 'KGJT_d700_250_tmpc', 'KGJT_d700_250_dwpc', 'KGJT_d700_250_drct', 'KGJT_d700_250_speed_kts', 'KGJT_d700_200_height_m', 'KGJT_d700_200_tmpc', 'KGJT_d700_200_dwpc', 'KGJT_d700_200_drct', 'KGJT_d700_200_speed_kts', 'KGJT_d500_400_height_m', 'KGJT_d500_400_tmpc', 'KGJT_d500_400_dwpc', 'KGJT_d500_400_drct', 'KGJT_d500_400_speed_kts', 'KGJT_d500_300_height_m', 'KGJT_d500_300_tmpc', 'KGJT_d500_300_dwpc', 'KGJT_d500_300_drct', 'KGJT_d500_300_speed_kts', 'KGJT_d500_250_height_m', 'KGJT_d500_250_tmpc', 'KGJT_d500_250_dwpc', 'KGJT_d500_250_drct', 'KGJT_d500_250_speed_kts', 'KGJT_d500_200_height_m', 'KGJT_d500_200_tmpc', 'KGJT_d500_200_dwpc', 'KGJT_d500_200_drct', 'KGJT_d500_200_speed_kts', 'KGJT_d400_300_height_m', 'KGJT_d400_300_tmpc', 'KGJT_d400_300_dwpc', 'KGJT_d400_300_drct', 'KGJT_d400_300_speed_kts', 'KGJT_d400_250_height_m', 'KGJT_d400_250_tmpc', 'KGJT_d400_250_dwpc', 'KGJT_d400_250_drct', 'KGJT_d400_250_speed_kts', 'KGJT_d400_200_height_m', 'KGJT_d400_200_tmpc', 'KGJT_d400_200_dwpc', 'KGJT_d400_200_drct', 'KGJT_d400_200_speed_kts', 'KGJT_d300_250_height_m', 'KGJT_d300_250_tmpc', 'KGJT_d300_250_dwpc', 'KGJT_d300_250_drct', 'KGJT_d300_250_speed_kts', 'KGJT_d300_200_height_m', 'KGJT_d300_200_tmpc', 'KGJT_d300_200_dwpc', 'KGJT_d300_200_drct', 'KGJT_d300_200_speed_kts', 'KGJT_d250_200_height_m', 'KGJT_d250_200_tmpc', 'KGJT_d250_200_dwpc', 'KGJT_d250_200_drct', 'KGJT_d250_200_speed_kts']\n",
      "Variables with < 67% data match to snowfall: \n",
      "['CMtn_CloudCover_oktas', 'LXV_CloudCover_oktas', 'KGJT_850mb_tmpc', 'KGJT_850mb_dwpc', 'KGJT_850mb_drct', 'KGJT_850mb_speed_kts', 'KGJT_d850_700_tmpc', 'KGJT_d850_700_dwpc', 'KGJT_d850_700_drct', 'KGJT_d850_700_speed_kts', 'KGJT_d850_500_tmpc', 'KGJT_d850_500_dwpc', 'KGJT_d850_500_drct', 'KGJT_d850_500_speed_kts', 'KGJT_d850_400_tmpc', 'KGJT_d850_400_dwpc', 'KGJT_d850_400_drct', 'KGJT_d850_400_speed_kts', 'KGJT_d850_300_tmpc', 'KGJT_d850_300_dwpc', 'KGJT_d850_300_drct', 'KGJT_d850_300_speed_kts', 'KGJT_d850_250_tmpc', 'KGJT_d850_250_dwpc', 'KGJT_d850_250_drct', 'KGJT_d850_250_speed_kts', 'KGJT_d850_200_tmpc', 'KGJT_d850_200_dwpc', 'KGJT_d850_200_drct', 'KGJT_d850_200_speed_kts']\n"
     ]
    }
   ],
   "source": [
    "all_yrs = (asos_snotel_UA_df.index >= '01-01-2006') & (asos_snotel_UA_df.index < '01-01-2018')\n",
    "variables = ['CMtnSNTL_Temp_degC', 'CMtn_Temperature_degC', 'CMtn_Dewpoint_degC', 'CMtn_WindDirection_deg', 'CMtn_WindSpeed_mps', 'CMtn_CloudCover_oktas', \\\n",
    " 'LXV_Temperature_degC', 'LXV_Dewpoint_degC', 'LXV_Pressure_hp', 'LXV_WindSpeed_mps', 'LXV_WindDirection_deg', 'LXV_CloudCover_oktas', 'LXV_12hr_delta_Pressure_hp', \\\n",
    " 'KGJT_200mb_height_m', 'KGJT_200mb_tmpc', 'KGJT_200mb_dwpc', 'KGJT_200mb_drct', 'KGJT_200mb_speed_kts', \\\n",
    " 'KGJT_250mb_height_m', 'KGJT_250mb_tmpc', 'KGJT_250mb_dwpc', 'KGJT_250mb_drct', 'KGJT_250mb_speed_kts', \\\n",
    " 'KGJT_300mb_height_m', 'KGJT_300mb_tmpc', 'KGJT_300mb_dwpc', 'KGJT_300mb_drct', 'KGJT_300mb_speed_kts', \\\n",
    " 'KGJT_400mb_height_m', 'KGJT_400mb_tmpc', 'KGJT_400mb_dwpc', 'KGJT_400mb_drct', 'KGJT_400mb_speed_kts', \\\n",
    " 'KGJT_500mb_height_m', 'KGJT_500mb_tmpc', 'KGJT_500mb_dwpc', 'KGJT_500mb_drct', 'KGJT_500mb_speed_kts', \\\n",
    " 'KGJT_700mb_height_m', 'KGJT_700mb_tmpc', 'KGJT_700mb_dwpc', 'KGJT_700mb_drct', 'KGJT_700mb_speed_kts', \\\n",
    " 'KGJT_850mb_height_m', 'KGJT_850mb_tmpc', 'KGJT_850mb_dwpc', 'KGJT_850mb_drct', 'KGJT_850mb_speed_kts', \\\n",
    " 'KGJT_d850_700_height_m', 'KGJT_d850_700_tmpc', 'KGJT_d850_700_dwpc', 'KGJT_d850_700_drct', 'KGJT_d850_700_speed_kts', \\\n",
    " 'KGJT_d850_500_height_m', 'KGJT_d850_500_tmpc', 'KGJT_d850_500_dwpc', 'KGJT_d850_500_drct', 'KGJT_d850_500_speed_kts', \\\n",
    " 'KGJT_d850_400_height_m', 'KGJT_d850_400_tmpc', 'KGJT_d850_400_dwpc', 'KGJT_d850_400_drct', 'KGJT_d850_400_speed_kts', \\\n",
    " 'KGJT_d850_300_height_m', 'KGJT_d850_300_tmpc', 'KGJT_d850_300_dwpc', 'KGJT_d850_300_drct', 'KGJT_d850_300_speed_kts', \\\n",
    " 'KGJT_d850_250_height_m', 'KGJT_d850_250_tmpc', 'KGJT_d850_250_dwpc', 'KGJT_d850_250_drct', 'KGJT_d850_250_speed_kts', \\\n",
    " 'KGJT_d850_200_height_m', 'KGJT_d850_200_tmpc', 'KGJT_d850_200_dwpc', 'KGJT_d850_200_drct', 'KGJT_d850_200_speed_kts',\\\n",
    " 'KGJT_d700_500_height_m', 'KGJT_d700_500_tmpc', 'KGJT_d700_500_dwpc', 'KGJT_d700_500_drct', 'KGJT_d700_500_speed_kts', \\\n",
    " 'KGJT_d700_400_height_m', 'KGJT_d700_400_tmpc', 'KGJT_d700_400_dwpc', 'KGJT_d700_400_drct', 'KGJT_d700_400_speed_kts', \\\n",
    " 'KGJT_d700_300_height_m', 'KGJT_d700_300_tmpc', 'KGJT_d700_300_dwpc', 'KGJT_d700_300_drct', 'KGJT_d700_300_speed_kts', \\\n",
    " 'KGJT_d700_250_height_m', 'KGJT_d700_250_tmpc', 'KGJT_d700_250_dwpc', 'KGJT_d700_250_drct', 'KGJT_d700_250_speed_kts', \\\n",
    " 'KGJT_d700_200_height_m', 'KGJT_d700_200_tmpc', 'KGJT_d700_200_dwpc', 'KGJT_d700_200_drct', 'KGJT_d700_200_speed_kts', \\\n",
    " 'KGJT_d500_400_height_m', 'KGJT_d500_400_tmpc', 'KGJT_d500_400_dwpc', 'KGJT_d500_400_drct', 'KGJT_d500_400_speed_kts', \\\n",
    " 'KGJT_d500_300_height_m', 'KGJT_d500_300_tmpc', 'KGJT_d500_300_dwpc', 'KGJT_d500_300_drct', 'KGJT_d500_300_speed_kts', \\\n",
    " 'KGJT_d500_250_height_m', 'KGJT_d500_250_tmpc', 'KGJT_d500_250_dwpc', 'KGJT_d500_250_drct', 'KGJT_d500_250_speed_kts', \\\n",
    " 'KGJT_d500_200_height_m', 'KGJT_d500_200_tmpc', 'KGJT_d500_200_dwpc', 'KGJT_d500_200_drct', 'KGJT_d500_200_speed_kts', \\\n",
    " 'KGJT_d400_300_height_m', 'KGJT_d400_300_tmpc', 'KGJT_d400_300_dwpc', 'KGJT_d400_300_drct', 'KGJT_d400_300_speed_kts', \\\n",
    " 'KGJT_d400_250_height_m', 'KGJT_d400_250_tmpc', 'KGJT_d400_250_dwpc', 'KGJT_d400_250_drct', 'KGJT_d400_250_speed_kts', \\\n",
    " 'KGJT_d400_200_height_m', 'KGJT_d400_200_tmpc', 'KGJT_d400_200_dwpc', 'KGJT_d400_200_drct', 'KGJT_d400_200_speed_kts', \\\n",
    " 'KGJT_d300_250_height_m', 'KGJT_d300_250_tmpc', 'KGJT_d300_250_dwpc', 'KGJT_d300_250_drct', 'KGJT_d300_250_speed_kts', \\\n",
    " 'KGJT_d300_200_height_m', 'KGJT_d300_200_tmpc', 'KGJT_d300_200_dwpc', 'KGJT_d300_200_drct', 'KGJT_d300_200_speed_kts', \\\n",
    " 'KGJT_d250_200_height_m', 'KGJT_d250_200_tmpc', 'KGJT_d250_200_dwpc', 'KGJT_d250_200_drct', 'KGJT_d250_200_speed_kts']\n",
    "\n",
    "good_vars = []\n",
    "bad_vars = []\n",
    "for var in variables:\n",
    "    idx = np.isfinite(asos_snotel_UA_df[all_yrs]['CMtnSNTL_Upcoming12hrSNOWFALL_gte3_in']) & np.isfinite(asos_snotel_UA_df[all_yrs][var])\n",
    "    total_poss = len(asos_snotel_UA_df[all_yrs]['CMtnSNTL_Upcoming12hrSNOWFALL_gte3_in'][asos_snotel_UA_df[all_yrs]['CMtnSNTL_Upcoming12hrSNOWFALL_gte3_in']>=0])\n",
    "    total_avail =len(asos_snotel_UA_df[all_yrs][idx])\n",
    "    if total_avail/total_poss >= 0.67: \n",
    "        good_vars.append(var)\n",
    "    else:\n",
    "        bad_vars.append(var)\n",
    "        \n",
    "print('Variables with >= 67% data match to snowfall: ')\n",
    "print(good_vars)\n",
    "print('Variables with < 67% data match to snowfall: ')\n",
    "print(bad_vars)"
   ]
  },
  {
   "cell_type": "code",
   "execution_count": 4,
   "metadata": {},
   "outputs": [
    {
     "name": "stdout",
     "output_type": "stream",
     "text": [
      "['CMtnSNTL_Temp_degC', 'CMtn_Temperature_degC', 'CMtn_Dewpoint_degC', 'CMtn_WindDirection_deg', 'CMtn_WindSpeed_mps', 'LXV_Temperature_degC', 'LXV_Dewpoint_degC', 'LXV_Pressure_hp', 'LXV_WindSpeed_mps', 'LXV_WindDirection_deg', 'LXV_12hr_delta_Pressure_hp', 'KGJT_200mb_height_m', 'KGJT_200mb_tmpc', 'KGJT_200mb_dwpc', 'KGJT_200mb_drct', 'KGJT_200mb_speed_kts', 'KGJT_250mb_height_m', 'KGJT_250mb_tmpc', 'KGJT_250mb_dwpc', 'KGJT_250mb_drct', 'KGJT_250mb_speed_kts', 'KGJT_300mb_height_m', 'KGJT_300mb_tmpc', 'KGJT_300mb_dwpc', 'KGJT_300mb_drct', 'KGJT_300mb_speed_kts', 'KGJT_400mb_height_m', 'KGJT_400mb_tmpc', 'KGJT_400mb_dwpc', 'KGJT_400mb_drct', 'KGJT_400mb_speed_kts', 'KGJT_500mb_height_m', 'KGJT_500mb_tmpc', 'KGJT_500mb_dwpc', 'KGJT_500mb_drct', 'KGJT_500mb_speed_kts', 'KGJT_700mb_height_m', 'KGJT_700mb_tmpc', 'KGJT_700mb_dwpc', 'KGJT_700mb_drct', 'KGJT_700mb_speed_kts', 'KGJT_850mb_height_m', 'KGJT_d850_700_height_m', 'KGJT_d850_500_height_m', 'KGJT_d850_400_height_m', 'KGJT_d850_300_height_m', 'KGJT_d850_250_height_m', 'KGJT_d850_200_height_m', 'KGJT_d700_500_height_m', 'KGJT_d700_500_tmpc', 'KGJT_d700_500_dwpc', 'KGJT_d700_500_drct', 'KGJT_d700_500_speed_kts', 'KGJT_d700_400_height_m', 'KGJT_d700_400_tmpc', 'KGJT_d700_400_dwpc', 'KGJT_d700_400_drct', 'KGJT_d700_400_speed_kts', 'KGJT_d700_300_height_m', 'KGJT_d700_300_tmpc', 'KGJT_d700_300_dwpc', 'KGJT_d700_300_drct', 'KGJT_d700_300_speed_kts', 'KGJT_d700_250_height_m', 'KGJT_d700_250_tmpc', 'KGJT_d700_250_dwpc', 'KGJT_d700_250_drct', 'KGJT_d700_250_speed_kts', 'KGJT_d700_200_height_m', 'KGJT_d700_200_tmpc', 'KGJT_d700_200_dwpc', 'KGJT_d700_200_drct', 'KGJT_d700_200_speed_kts', 'KGJT_d500_400_height_m', 'KGJT_d500_400_tmpc', 'KGJT_d500_400_dwpc', 'KGJT_d500_400_drct', 'KGJT_d500_400_speed_kts', 'KGJT_d500_300_height_m', 'KGJT_d500_300_tmpc', 'KGJT_d500_300_dwpc', 'KGJT_d500_300_drct', 'KGJT_d500_300_speed_kts', 'KGJT_d500_250_height_m', 'KGJT_d500_250_tmpc', 'KGJT_d500_250_dwpc', 'KGJT_d500_250_drct', 'KGJT_d500_250_speed_kts', 'KGJT_d500_200_height_m', 'KGJT_d500_200_tmpc', 'KGJT_d500_200_dwpc', 'KGJT_d500_200_drct', 'KGJT_d500_200_speed_kts', 'KGJT_d400_300_height_m', 'KGJT_d400_300_tmpc', 'KGJT_d400_300_dwpc', 'KGJT_d400_300_drct', 'KGJT_d400_300_speed_kts', 'KGJT_d400_250_height_m', 'KGJT_d400_250_tmpc', 'KGJT_d400_250_dwpc', 'KGJT_d400_250_drct', 'KGJT_d400_250_speed_kts', 'KGJT_d400_200_height_m', 'KGJT_d400_200_tmpc', 'KGJT_d400_200_dwpc', 'KGJT_d400_200_drct', 'KGJT_d400_200_speed_kts', 'KGJT_d300_250_height_m', 'KGJT_d300_250_tmpc', 'KGJT_d300_250_dwpc', 'KGJT_d300_250_drct', 'KGJT_d300_250_speed_kts', 'KGJT_d300_200_height_m', 'KGJT_d300_200_tmpc', 'KGJT_d300_200_dwpc', 'KGJT_d300_200_drct', 'KGJT_d300_200_speed_kts', 'KGJT_d250_200_height_m', 'KGJT_d250_200_tmpc', 'KGJT_d250_200_dwpc', 'KGJT_d250_200_drct', 'KGJT_d250_200_speed_kts', 'CMtnSNTL_Upcoming12hrSNOWFALL_gte3_in']\n"
     ]
    }
   ],
   "source": [
    "good_vars_snf =[]\n",
    "filtered_asos_snotel_UA_df = pd.DataFrame()\n",
    "\n",
    "\n",
    "good_vars_snf = good_vars + ['CMtnSNTL_Upcoming12hrSNOWFALL_gte3_in']\n",
    "print(good_vars_snf )\n",
    "filtered_asos_snotel_UA_df=  asos_snotel_UA_df[good_vars_snf].copy()\n",
    "test_train_df = asos_snotel_UA_df[good_vars_snf].dropna()\n"
   ]
  },
  {
   "cell_type": "markdown",
   "metadata": {},
   "source": [
    "It is important to keep in mind that 'CMtnSNTL_12hr_SNWD_in contains snow depth info taken at the start of the respective 12hr period timestamp.  The snowfall calculated also gives the snowfall that fell in the 12hrs after the timestamp.  The OLS model will utilize hourly meteorological measurements at exactly 00:00 and 12:00 hours to predict the amount of snow which will fall in the next 12 hour period.  For example, the 00:00 meteorological measurements will be used to predict the snow which fell between 00:00 and 12:00."
   ]
  },
  {
   "cell_type": "markdown",
   "metadata": {},
   "source": [
    "# Now try Cross Validation using Timeseries split"
   ]
  },
  {
   "cell_type": "code",
   "execution_count": 5,
   "metadata": {},
   "outputs": [],
   "source": [
    "#Create a lists of lists with best features for each test/train split set of interest such that\n",
    "# best_features = [ [#Best Features of Surface Data only 2006,2017 test/2007-2016  train split], [#Best Features of Surface Data only 2006,2017 test/2006-2013,2015-2017 train split], \\\n",
    "# [Best Features of Surface+UA Data only 2006,2017 test/2007-2016  train split], [#Best Features of Surface+UA Data only 2006,2017 test/2006-2013,2015-2017 train split]\n",
    "    \n",
    "best_features =  ['LXV_12hr_delta_Pressure_hp', 'CMtn_Dewpoint_degC', 'CMtn_WindSpeed_mps'], \\\n",
    "                 ['LXV_12hr_delta_Pressure_hp', 'CMtn_WindDirection_deg', 'CMtn_WindSpeed_mps', 'CMtn_Dewpoint_degC'], \\\n",
    "                 ['KGJT_d400_250_dwpc', 'CMtnSNTL_Temp_degC', 'LXV_12hr_delta_Pressure_hp', 'KGJT_d400_200_dwpc', 'KGJT_700mb_drct', \\\n",
    "                     'KGJT_d500_300_drct', 'CMtn_Dewpoint_degC', 'KGJT_250mb_tmpc', 'KGJT_d250_200_dwpc', 'KGJT_d300_250_drct', \\\n",
    "                     'KGJT_d400_200_tmpc', 'CMtn_WindSpeed_mps', 'KGJT_d500_400_height_m'], \\\n",
    "                 ['KGJT_d700_250_drct', 'KGJT_d400_300_drct', 'LXV_Temperature_degC', 'LXV_WindSpeed_mps', 'KGJT_400mb_drct', \\\n",
    "                      'KGJT_d300_200_dwpc', 'CMtnSNTL_Temp_degC', 'KGJT_d700_400_tmpc', 'KGJT_d250_200_dwpc', 'KGJT_700mb_speed_kts', \\\n",
    "                      'KGJT_500mb_drct', 'KGJT_d250_200_tmpc', 'KGJT_d500_200_height_m', 'KGJT_d300_250_drct', 'CMtn_WindDirection_deg', \\\n",
    "                      'KGJT_d250_200_speed_kts', 'KGJT_250mb_drct', 'KGJT_400mb_dwpc', 'KGJT_d700_500_drct', 'CMtn_Dewpoint_degC']\n",
    "\n",
    "\n",
    "descriptors = ['SFC_P1', 'SFC_P2', 'UASFC_P1', 'UASFC_P2']"
   ]
  },
  {
   "cell_type": "markdown",
   "metadata": {},
   "source": [
    "**Obtain feature data for each feature set in best_features, along with corresponding snowfall**"
   ]
  },
  {
   "cell_type": "code",
   "execution_count": 6,
   "metadata": {},
   "outputs": [
    {
     "name": "stdout",
     "output_type": "stream",
     "text": [
      "213 213\n",
      "213 213\n",
      "213 213\n",
      "213 213\n"
     ]
    }
   ],
   "source": [
    "\n",
    "X_feat,Y_actsnf = [], []\n",
    "X_dates = []\n",
    "\n",
    "#Loop through each feature set in best_features\n",
    "for bf in np.arange(0,len(best_features),1):               \n",
    "  X_temp, Y_temp = [], []\n",
    "\n",
    "  idx = []\n",
    "\n",
    "                \n",
    "  idx = np.isfinite(test_train_df['2006':'2017']['CMtnSNTL_Upcoming12hrSNOWFALL_gte3_in'])\n",
    "  for v in best_features[bf]: \n",
    "    idx = idx  & np.isfinite(test_train_df['2006':'2017'][v])\n",
    "\n",
    "  \n",
    "  Y_temp= round(test_train_df['CMtnSNTL_Upcoming12hrSNOWFALL_gte3_in']['2006':'2017'][idx],0)\n",
    "  Y_actsnf.append(Y_temp.tolist())\n",
    "\n",
    "  X_temp = test_train_df['2006':'2017'][best_features[bf]][idx].apply(lambda x: x.tolist(), axis=1)   # only want SFC variables \n",
    "  X_feat.append(X_temp.tolist())\n",
    "  print(len(X_feat[bf]), len(Y_actsnf[bf]))\n",
    " \n",
    "  #Need the timestamps which corresponds to each feature list generated above for some histogram plots\n",
    "  X_dates.append(test_train_df['2006':'2017'][idx].index.tolist())          #.apply(lambda x: x.tolist(), axis=1)\n"
   ]
  },
  {
   "cell_type": "markdown",
   "metadata": {},
   "source": [
    "**Define our test/train folds using KFold**"
   ]
  },
  {
   "cell_type": "code",
   "execution_count": 7,
   "metadata": {},
   "outputs": [
    {
     "ename": "SyntaxError",
     "evalue": "invalid syntax (<ipython-input-7-1e0eba833949>, line 15)",
     "output_type": "error",
     "traceback": [
      "\u001b[1;36m  File \u001b[1;32m\"<ipython-input-7-1e0eba833949>\"\u001b[1;36m, line \u001b[1;32m15\u001b[0m\n\u001b[1;33m    for train_index, test_index in kfcv.split(X_feat[]):\u001b[0m\n\u001b[1;37m                                                     ^\u001b[0m\n\u001b[1;31mSyntaxError\u001b[0m\u001b[1;31m:\u001b[0m invalid syntax\n"
     ]
    }
   ],
   "source": [
    "from sklearn.model_selection import TimeSeriesSplit # import KFold\n",
    "from sklearn.model_selection import KFold # import KFold\n",
    "from sklearn import linear_model\n",
    "from sklearn.model_selection import cross_val_score, cross_val_predict\n",
    "lm = linear_model.LinearRegression()\n",
    "\n",
    "from scipy.stats import pearsonr, linregress\n",
    "from sklearn.metrics import mean_squared_error\n",
    "from sklearn import metrics\n",
    "\n",
    "\n",
    "kfcv = KFold(n_splits=5, shuffle = True, random_state = 5)\n",
    "print(kfcv)  \n",
    "\n",
    "for train_index, test_index in kfcv.split(X_feat[]):\n",
    "  print(\"TRAIN:\", train_index, \"TEST:\", test_index)\n"
   ]
  },
  {
   "cell_type": "code",
   "execution_count": null,
   "metadata": {},
   "outputs": [],
   "source": [
    "from sklearn.model_selection import TimeSeriesSplit # import KFold\n",
    "from sklearn.model_selection import KFold # import KFold\n",
    "\n",
    "from scipy.stats import pearsonr, linregress\n",
    "from sklearn.metrics import mean_squared_error\n",
    "\n",
    "\n",
    "model = lm  #lm.fit(X_train, Y_train)\n",
    " #Y_predsnf = lm.predict(X_test)\n",
    "\n",
    "slopes, intercepts, r_values, p_values, std_errs, mses, rmses = [],[],[],[],[], [], [] \n",
    "R2_scores =[]\n",
    "all_Ytest_predictions, all_Ytests = [], []\n",
    "all_Ytest_predictions_arrays, all_Ytests_arrays = [],[]\n",
    "Ytest_predictions = []    \n",
    "\n",
    "\n",
    "#Loop through\n",
    "for f in np.arange(0,len(X_feat),1):\n",
    " \n",
    " #Reset lists\n",
    "\n",
    "\n",
    "   \n",
    "  \n",
    " Ytest_predictions.append(cross_val_predict(model, X_feat[f], Y_actsnf[f], cv = kfcv))\n",
    " #print(Ytest_predictions)\n",
    " print(len(Ytest_predictions))\n",
    "       \n",
    " R2_scores.append(metrics.r2_score(Ytest_predictions[f], Y_actsnf[f]))\n",
    " slope, intercept, r_value, p_value, std_err = linregress(Ytest_predictions[f], Y_actsnf[f])    \n",
    " slopes.append(slope)\n",
    " intercepts.append(intercept)\n",
    " r_values.append(r_value)\n",
    " p_values.append(p_value)\n",
    " std_errs.append(std_err)\n",
    " mses.append(mean_squared_error(Ytest_predictions[f], Y_actsnf[f]))\n",
    " rmses.append(np.sqrt(mean_squared_error(Ytest_predictions[f], Y_actsnf[f])))\n",
    " all_Ytest_predictions_arrays.append(Ytest_predictions)   #creates list of arrays\n",
    " all_Ytests_arrays.append(Y_actsnf[f])   #creates list of arrays\n",
    " print(str(R2_scores))\n",
    "          \n",
    "          \n",
    "\n",
    "\n",
    "\n",
    "\n",
    "\n",
    "\n",
    "\n",
    "\n",
    "#Surface Only\n",
    "\n",
    "\n",
    "\n",
    "\n",
    " count = count +1\n",
    " print('Mean Cross Val R2 score: '+ str(R2_scores))\n",
    " print('Mean RMSE:' + str(rmses))\n",
    " print(slope, intercept, r_value, p_value, std_err)  \n",
    "    \n",
    "#all_Ytest_predictions = [val for sublist in  all_Ytest_predictions_arrays for val in sublist]   #flattens list of arrays into single list of values\n",
    "#all_Ytests = [val for sublist in   all_Ytests_arrays for val in sublist]   #flattens list of arrays into single list of values\n",
    "\n",
    "\n"
   ]
  },
  {
   "cell_type": "markdown",
   "metadata": {},
   "source": [
    "**Make some plots**"
   ]
  },
  {
   "cell_type": "code",
   "execution_count": null,
   "metadata": {},
   "outputs": [],
   "source": [
    " for pred_case in np.arange(0, len(Ytest_predictions), 1):\n",
    "    print(descriptors[pred_case])\n",
    "    fig = plt.figure(figsize=(10,7))\n",
    "    sns.regplot(Ytest_predictions[pred_case], Y_actsnf[pred_case])\n",
    "    \n",
    "\n",
    "    bbox_props=dict(facecolor='red', alpha=0.75, fc = 'white')\n",
    "    plt.annotate(' R2 Score: ' + str(round(R2_scores[pred_case],3)) +\n",
    "                 '\\n slope: ' + str(round(slopes[pred_case],3)) +\n",
    "                 '\\n intercept: ' + str(round(intercepts[pred_case],3)) + \n",
    "                 '\\n R value: ' + str(round(r_values[pred_case],3)) +  \n",
    "                 '\\n p value: ' +  str(format(p_values[pred_case], \"10.2E\")) + \n",
    "                 '\\n standard error: ' + str(round(std_errs[pred_case],3)) +\n",
    "                 '\\n mean squared error: ' + str(round(mses[pred_case],3)) +\n",
    "                 '\\n root mean squared error: ' + str(round(rmses[pred_case],3)), \\\n",
    "                 xy=(0.02, 0.74), xycoords='axes fraction', fontsize=10, bbox = bbox_props)\n",
    "\n",
    "    plt.xlabel('Predicted Snowfall (inches)')\n",
    "    plt.ylabel('Actual Snowfall (inches)')\n",
    "    plt.xlim([2,8])\n",
    "    plt.ylim([0,17])\n",
    "    plt.grid(True)\n",
    "    plt.title('Predicted vs Actual Snowfall Amounts', fontsize = 16)\n",
    "    plt.savefig('C:/Users/RAPP/Documents/Capstone/MS_CS_report/figs/pred_vs_act_KFold_'+descriptors[pred_case]+'.png',bbox_inches='tight')\n"
   ]
  },
  {
   "cell_type": "code",
   "execution_count": null,
   "metadata": {},
   "outputs": [],
   "source": [
    "for pred_case in np.arange(0, len(Ytest_predictions), 1):\n",
    "   fig = plt.figure(figsize=(10,7))\n",
    "\n",
    "   plt.scatter(Ytest_predictions[pred_case], Y_actsnf[pred_case] - Ytest_predictions[pred_case])\n",
    "\n",
    "   plt.ylabel('Actual - Predicted Snowfall (inches)')\n",
    "   plt.xlabel('Predicted Snowfall (inches)')\n",
    "   plt.xlim([2,7])\n",
    "   plt.ylim([-3,13])\n",
    "   plt.grid(True)\n",
    "   plt.title('Predicted Snowfall Amounts vs Residuals', fontsize = 16)\n",
    "   plt.savefig('C:/Users/RAPP/Documents/Capstone/MS_CS_report/figs/resid_vs_pred_KFold_'+descriptors[pred_case]+'.png',bbox_inches='tight')"
   ]
  },
  {
   "cell_type": "code",
   "execution_count": null,
   "metadata": {},
   "outputs": [],
   "source": [
    "import statsmodels.api as sm\n",
    "for pred_case in np.arange(0, len(Ytest_predictions), 1):\n",
    "       residuals = Y_actsnf[pred_case] - Ytest_predictions[pred_case]\n",
    "       fig, ax = plt.subplots(figsize=(10, 7))\n",
    "       qq2=sm.qqplot(residuals, line='r', ax = ax)\n",
    "       plt.title('Theoretical vs Sample Quantiles of Residuals', fontsize = 16)\n",
    "       plt.grid(True)\n",
    "       plt.savefig('C:/Users/RAPP/Documents/Capstone/MS_CS_report/figs/qq_resid_KFold_'+descriptors[pred_case]+'.png',bbox_inches='tight')\n",
    "    "
   ]
  },
  {
   "cell_type": "code",
   "execution_count": null,
   "metadata": {},
   "outputs": [],
   "source": [
    "for pred_case in np.arange(0, len(Ytest_predictions), 1):\n",
    "  diff =  Y_actsnf[pred_case] - Ytest_predictions[pred_case]\n",
    "  diff_df = pd.DataFrame(diff)\n",
    "\n",
    "  fig = plt.figure(figsize=(10,7))\n",
    "  hist = diff_df.hist(figsize=(10,7), bins = np.arange(-4,14,1))\n",
    "  plt.hist(diff_df)\n",
    "  plt.xlabel('Actual - Predicted Snowfall (inches)')\n",
    "  plt.ylabel('Bin Count')\n",
    "  plt.xlim([-4,14])\n",
    "  plt.ylim([0,65])\n",
    "  plt.grid(True)\n",
    "  plt.title('Histogram of Residuals', fontsize = 16)\n",
    "  plt.savefig('C:/Users/RAPP/Documents/Capstone/MS_CS_report/figs/hist_actual_minus_pred_KFold_'+descriptors[pred_case]+'.png',bbox_inches='tight')\n"
   ]
  },
  {
   "cell_type": "code",
   "execution_count": null,
   "metadata": {},
   "outputs": [],
   "source": []
  }
 ],
 "metadata": {
  "kernelspec": {
   "display_name": "Python 3",
   "language": "python",
   "name": "python3"
  },
  "language_info": {
   "codemirror_mode": {
    "name": "ipython",
    "version": 3
   },
   "file_extension": ".py",
   "mimetype": "text/x-python",
   "name": "python",
   "nbconvert_exporter": "python",
   "pygments_lexer": "ipython3",
   "version": "3.6.5"
  }
 },
 "nbformat": 4,
 "nbformat_minor": 2
}
