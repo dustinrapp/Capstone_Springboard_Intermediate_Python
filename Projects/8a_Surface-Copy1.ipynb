{
 "cells": [
  {
   "cell_type": "markdown",
   "metadata": {},
   "source": [
    "## Data Prep"
   ]
  },
  {
   "cell_type": "markdown",
   "metadata": {},
   "source": [
    "**Import necessary modules and the ASOS/SNOTEL dataframes**"
   ]
  },
  {
   "cell_type": "code",
   "execution_count": 4,
   "metadata": {},
   "outputs": [
    {
     "name": "stdout",
     "output_type": "stream",
     "text": [
      "\n",
      "INSTALLED VERSIONS\n",
      "------------------\n",
      "commit: None\n",
      "python: 3.6.5.final.0\n",
      "python-bits: 32\n",
      "OS: Windows\n",
      "OS-release: 10\n",
      "machine: AMD64\n",
      "processor: Intel64 Family 6 Model 142 Stepping 9, GenuineIntel\n",
      "byteorder: little\n",
      "LC_ALL: None\n",
      "LANG: en_US.UTF-8\n",
      "LOCALE: None.None\n",
      "\n",
      "pandas: 0.24.0\n",
      "pytest: None\n",
      "pip: 18.1\n",
      "setuptools: 39.0.1\n",
      "Cython: None\n",
      "numpy: 1.14.3\n",
      "scipy: 1.1.0\n",
      "pyarrow: None\n",
      "xarray: None\n",
      "IPython: 6.4.0\n",
      "sphinx: None\n",
      "patsy: 0.5.1\n",
      "dateutil: 2.7.3\n",
      "pytz: 2018.4\n",
      "blosc: None\n",
      "bottleneck: None\n",
      "tables: None\n",
      "numexpr: None\n",
      "feather: None\n",
      "matplotlib: 2.2.2\n",
      "openpyxl: None\n",
      "xlrd: None\n",
      "xlwt: None\n",
      "xlsxwriter: None\n",
      "lxml.etree: 4.2.5\n",
      "bs4: None\n",
      "html5lib: 1.0.1\n",
      "sqlalchemy: None\n",
      "pymysql: None\n",
      "psycopg2: None\n",
      "jinja2: 2.10\n",
      "s3fs: None\n",
      "fastparquet: None\n",
      "pandas_gbq: None\n",
      "pandas_datareader: None\n",
      "gcsfs: None\n"
     ]
    },
    {
     "data": {
      "text/plain": [
       "'c:\\\\users\\\\rapp\\\\appdata\\\\local\\\\programs\\\\python\\\\python36-32\\\\python.exe'"
      ]
     },
     "execution_count": 4,
     "metadata": {},
     "output_type": "execute_result"
    }
   ],
   "source": [
    "import pandas as pd\n",
    "import matplotlib.pyplot as plt\n",
    "import numpy as np\n",
    "import datetime as dtb\n",
    "import os\n",
    "from glob import glob\n",
    "import datetime as dt\n",
    "import seaborn as sns\n",
    "pd.show_versions()\n",
    "import sys\n",
    "import graphviz\n",
    "sys.executable\n",
    "#import graphviz"
   ]
  },
  {
   "cell_type": "code",
   "execution_count": 5,
   "metadata": {},
   "outputs": [
    {
     "name": "stdout",
     "output_type": "stream",
     "text": [
      "Index(['CMtnSNTL_Temp_degC', 'CMtnSNTL_SnowDepth_in', 'CMtn_Temperature_degC',\n",
      "       'CMtn_Dewpoint_degC', 'CMtn_WindDirection_deg', 'CMtn_WindSpeed_mps',\n",
      "       'CMtn_CloudCover_oktas', 'CMtn_1hr_Precipitation_mm',\n",
      "       'LXV_Temperature_degC', 'LXV_Dewpoint_degC',\n",
      "       ...\n",
      "       'KGJT_d300_200_height_m', 'KGJT_d300_200_tmpc', 'KGJT_d300_200_dwpc',\n",
      "       'KGJT_d300_200_drct', 'KGJT_d300_200_speed_kts',\n",
      "       'KGJT_d250_200_height_m', 'KGJT_d250_200_tmpc', 'KGJT_d250_200_dwpc',\n",
      "       'KGJT_d250_200_drct', 'KGJT_d250_200_speed_kts'],\n",
      "      dtype='object', length=163)\n"
     ]
    }
   ],
   "source": [
    "data = [pd.read_csv('asos_snotel_UA_12hr_df.dat', parse_dates = True, index_col = 'Date_Time')]\n",
    "asos_snotel_UA_df = pd.concat(data)\n",
    "#asos_snotel_UA_df['LXV_WindSpeed_m/s']\n",
    "\n",
    "#asos_snotel_UA_df.rename(columns={'LXV_WindSpeed_m/s': 'LXV_WindSpeed_mps'}, inplace=True)\n",
    "\n",
    "asos_snotel_UA_df.astype('float16')\n",
    "pd.set_option('display.expand_frame_repr', True)\n",
    "\n",
    "\n",
    "print(asos_snotel_UA_df.keys())\n",
    "\n",
    "\n",
    "\n",
    "\n",
    "#delete empty columns as they mess up loops\n",
    "#del asos_snotel_UA_df['CMtn_6hr_Precipitation_mm']            #empty column\n"
   ]
  },
  {
   "cell_type": "markdown",
   "metadata": {},
   "source": [
    "It is important to keep in mind that 'CMtnSNTL_12hr_SNWD_in contains snow depth info taken at the start of the respective 12hr period timestamp.  The snowfall calculated also gives the snowfall that fell in the 12hrs after the timestamp.  The OLS model will utilize hourly meteorological measurements at exactly 00:00 and 12:00 hours to predict the amount of snow which will fall in the next 12 hour period.  For example, the 00:00 meteorological measurements will be used to predict the snow which fell between 00:00 and 12:00."
   ]
  },
  {
   "cell_type": "markdown",
   "metadata": {},
   "source": [
    "#### Do a test to make sure some pythonic lines of code work the way I think I do to bring data into a list format for the DecisionTree model"
   ]
  },
  {
   "cell_type": "code",
   "execution_count": 6,
   "metadata": {},
   "outputs": [
    {
     "name": "stdout",
     "output_type": "stream",
     "text": [
      "6574 6574\n",
      "True\n",
      "True\n"
     ]
    }
   ],
   "source": [
    "testtrain1 = []\n",
    "testtrain2 = []\n",
    "test_vars = ['LXV_Temperature_degC', 'LXV_Dewpoint_degC', 'LXV_WindSpeed_mps']\n",
    "\n",
    "\n",
    "#Method 1 [more pythonic]\n",
    "loop_idx = np.isfinite(asos_snotel_UA_df['2009':'2017']['CMtnSNTL_Upcoming12hrSNOWFALL_gte3_in'])\n",
    "for v in test_vars:\n",
    "    loop_idx = loop_idx & np.isfinite(asos_snotel_UA_df['2009':'2017'][v])\n",
    "\n",
    "gv = pd.DataFrame()\n",
    "#gv_asos_snotel_UA_df = asos_snotel_UA_df.copy\n",
    "#gv_asos_snotel_UA_df = asos_snotel_UA_df['2009':'2017'][['LXV_Temperature_degC', 'LXV_WindSpeed_mps', 'LXV_Dewpoint_degC']][loop_idx]\n",
    "testlist1 = asos_snotel_UA_df['2009':'2017'][['LXV_Temperature_degC', 'LXV_WindSpeed_mps', 'LXV_Dewpoint_degC']][loop_idx].apply(lambda x: x.tolist(), axis=1)\n",
    "#testtrain2 = testlist.apply(lambda x: testtrain2.append(x))\n",
    "testtrain1 = testlist1.tolist()\n",
    "\n",
    "\n",
    "#Method 2 [less pythonic]\n",
    "# Explicitly list each feature\n",
    "\n",
    "compare_idx = np.isfinite(asos_snotel_UA_df['2009':'2017']['CMtnSNTL_Upcoming12hrSNOWFALL_gte3_in']) & \\\n",
    "           np.isfinite(asos_snotel_UA_df['2009':'2017']['LXV_Temperature_degC']) & \\\n",
    "           np.isfinite(asos_snotel_UA_df['2009':'2017']['LXV_Dewpoint_degC']) & \\\n",
    "           np.isfinite(asos_snotel_UA_df['2009':'2017']['LXV_WindSpeed_mps'])\n",
    "\n",
    "for index, rows in asos_snotel_UA_df['2009':'2017'][compare_idx].iterrows(): \n",
    "    # Create list for the current row \n",
    "    testlist2 =[rows['LXV_Temperature_degC'], rows['LXV_WindSpeed_mps'], rows['LXV_Dewpoint_degC']] \n",
    "    # append the list to the final list \n",
    "    testtrain2.append(testlist2)\n",
    "    \n",
    "print(len(loop_idx), len(compare_idx))\n",
    "print(loop_idx.equals(compare_idx))\n",
    "print(testtrain2 == testtrain1)\n"
   ]
  },
  {
   "cell_type": "markdown",
   "metadata": {},
   "source": [
    "### Now identify variables which have good data capture"
   ]
  },
  {
   "cell_type": "markdown",
   "metadata": {},
   "source": [
    "**SURFACE FEATURES**"
   ]
  },
  {
   "cell_type": "code",
   "execution_count": 113,
   "metadata": {},
   "outputs": [
    {
     "name": "stdout",
     "output_type": "stream",
     "text": [
      "Variables with >= 67% data match to snowfall: \n",
      "[]\n",
      "Variables with < 67% data match to snowfall: \n",
      "['CMtnSNTL_Temp_degC', 'CMtn_Temperature_degC', 'CMtn_Dewpoint_degC', 'CMtn_WindDirection_deg', 'CMtn_WindSpeed_mps', 'CMtn_CloudCover_oktas', 'LXV_Temperature_degC', 'LXV_Dewpoint_degC', 'LXV_Pressure_hp', 'LXV_WindSpeed_mps', 'LXV_WindDirection_deg', 'LXV_CloudCover_oktas', 'LXV_12hr_delta_Pressure_hp']\n"
     ]
    }
   ],
   "source": [
    "max_snf = 50\n",
    "variables = ['CMtnSNTL_Temp_degC', 'CMtn_Temperature_degC', 'CMtn_Dewpoint_degC', 'CMtn_WindDirection_deg', 'CMtn_WindSpeed_mps', 'CMtn_CloudCover_oktas', \\\n",
    " 'LXV_Temperature_degC', 'LXV_Dewpoint_degC', 'LXV_Pressure_hp', 'LXV_WindSpeed_mps', 'LXV_WindDirection_deg', 'LXV_CloudCover_oktas', 'LXV_12hr_delta_Pressure_hp']\n",
    "\n",
    "good_vars_sfc = []\n",
    "bad_vars_sfc = []\n",
    "for var in variables:\n",
    "    idx = np.isfinite(asos_snotel_UA_df['2006':'2017']['CMtnSNTL_Upcoming12hrSNOWFALL_gte3_in']) & np.isfinite(asos_snotel_UA_df['2006':'2017'][var])\n",
    "    total_poss = len(asos_snotel_UA_df['2006':'2017']['CMtnSNTL_Upcoming12hrSNOWFALL_gte3_in'])\n",
    "    total_avail =len(asos_snotel_UA_df['2006':'2017'][idx])\n",
    "    if total_avail/total_poss >= 0.67: \n",
    "        good_vars_sfc.append(var)\n",
    "    else:\n",
    "        bad_vars_sfc.append(var)\n",
    "\n",
    "       \n",
    "print('Variables with >= 67% data match to snowfall: ')\n",
    "print(good_vars_sfc)\n",
    "print('Variables with < 67% data match to snowfall: ')\n",
    "print(bad_vars_sfc)"
   ]
  },
  {
   "cell_type": "code",
   "execution_count": null,
   "metadata": {},
   "outputs": [],
   "source": [
    "**UPPER AIR**"
   ]
  },
  {
   "cell_type": "code",
   "execution_count": 116,
   "metadata": {},
   "outputs": [
    {
     "name": "stdout",
     "output_type": "stream",
     "text": [
      "Variables with >= 67% data match to snowfall: \n",
      "['CMtnSNTL_Temp_degC', 'CMtn_Temperature_degC', 'CMtn_Dewpoint_degC', 'CMtn_WindDirection_deg', 'CMtn_WindSpeed_mps', 'LXV_Temperature_degC', 'LXV_Dewpoint_degC', 'LXV_Pressure_hp', 'LXV_WindSpeed_mps', 'LXV_WindDirection_deg', 'LXV_12hr_delta_Pressure_hp', 'KGJT_200mb_height_m', 'KGJT_200mb_tmpc', 'KGJT_200mb_dwpc', 'KGJT_200mb_drct', 'KGJT_200mb_speed_kts', 'KGJT_250mb_height_m', 'KGJT_250mb_tmpc', 'KGJT_250mb_dwpc', 'KGJT_250mb_drct', 'KGJT_250mb_speed_kts', 'KGJT_300mb_height_m', 'KGJT_300mb_tmpc', 'KGJT_300mb_dwpc', 'KGJT_300mb_drct', 'KGJT_300mb_speed_kts', 'KGJT_400mb_height_m', 'KGJT_400mb_tmpc', 'KGJT_400mb_dwpc', 'KGJT_400mb_drct', 'KGJT_400mb_speed_kts', 'KGJT_500mb_height_m', 'KGJT_500mb_tmpc', 'KGJT_500mb_dwpc', 'KGJT_500mb_drct', 'KGJT_500mb_speed_kts', 'KGJT_700mb_height_m', 'KGJT_700mb_tmpc', 'KGJT_700mb_dwpc', 'KGJT_700mb_drct', 'KGJT_700mb_speed_kts', 'KGJT_850mb_height_m', 'KGJT_d850_700_height_m', 'KGJT_d850_500_height_m', 'KGJT_d850_400_height_m', 'KGJT_d850_300_height_m', 'KGJT_d850_250_height_m', 'KGJT_d850_200_height_m', 'KGJT_d700_500_height_m', 'KGJT_d700_500_tmpc', 'KGJT_d700_500_dwpc', 'KGJT_d700_500_drct', 'KGJT_d700_500_speed_kts', 'KGJT_d700_400_height_m', 'KGJT_d700_400_tmpc', 'KGJT_d700_400_dwpc', 'KGJT_d700_400_drct', 'KGJT_d700_400_speed_kts', 'KGJT_d700_300_height_m', 'KGJT_d700_300_tmpc', 'KGJT_d700_300_dwpc', 'KGJT_d700_300_drct', 'KGJT_d700_300_speed_kts', 'KGJT_d700_250_height_m', 'KGJT_d700_250_tmpc', 'KGJT_d700_250_dwpc', 'KGJT_d700_250_drct', 'KGJT_d700_250_speed_kts', 'KGJT_d700_200_height_m', 'KGJT_d700_200_tmpc', 'KGJT_d700_200_dwpc', 'KGJT_d700_200_drct', 'KGJT_d700_200_speed_kts', 'KGJT_d500_400_height_m', 'KGJT_d500_400_tmpc', 'KGJT_d500_400_dwpc', 'KGJT_d500_400_drct', 'KGJT_d500_400_speed_kts', 'KGJT_d500_300_height_m', 'KGJT_d500_300_tmpc', 'KGJT_d500_300_dwpc', 'KGJT_d500_300_drct', 'KGJT_d500_300_speed_kts', 'KGJT_d500_250_height_m', 'KGJT_d500_250_tmpc', 'KGJT_d500_250_dwpc', 'KGJT_d500_250_drct', 'KGJT_d500_250_speed_kts', 'KGJT_d500_200_height_m', 'KGJT_d500_200_tmpc', 'KGJT_d500_200_dwpc', 'KGJT_d500_200_drct', 'KGJT_d500_200_speed_kts', 'KGJT_d400_300_height_m', 'KGJT_d400_300_tmpc', 'KGJT_d400_300_dwpc', 'KGJT_d400_300_drct', 'KGJT_d400_300_speed_kts', 'KGJT_d400_250_height_m', 'KGJT_d400_250_tmpc', 'KGJT_d400_250_dwpc', 'KGJT_d400_250_drct', 'KGJT_d400_250_speed_kts', 'KGJT_d400_200_height_m', 'KGJT_d400_200_tmpc', 'KGJT_d400_200_dwpc', 'KGJT_d400_200_drct', 'KGJT_d400_200_speed_kts', 'KGJT_d300_250_height_m', 'KGJT_d300_250_tmpc', 'KGJT_d300_250_dwpc', 'KGJT_d300_250_drct', 'KGJT_d300_250_speed_kts', 'KGJT_d300_200_height_m', 'KGJT_d300_200_tmpc', 'KGJT_d300_200_dwpc', 'KGJT_d300_200_drct', 'KGJT_d300_200_speed_kts', 'KGJT_d250_200_height_m', 'KGJT_d250_200_tmpc', 'KGJT_d250_200_dwpc', 'KGJT_d250_200_drct', 'KGJT_d250_200_speed_kts']\n",
      "Variables with < 67% data match to snowfall: \n",
      "['CMtn_CloudCover_oktas', 'LXV_CloudCover_oktas', 'KGJT_850mb_tmpc', 'KGJT_850mb_dwpc', 'KGJT_850mb_drct', 'KGJT_850mb_speed_kts', 'KGJT_d850_700_tmpc', 'KGJT_d850_700_dwpc', 'KGJT_d850_700_drct', 'KGJT_d850_700_speed_kts', 'KGJT_d850_500_tmpc', 'KGJT_d850_500_dwpc', 'KGJT_d850_500_drct', 'KGJT_d850_500_speed_kts', 'KGJT_d850_400_tmpc', 'KGJT_d850_400_dwpc', 'KGJT_d850_400_drct', 'KGJT_d850_400_speed_kts', 'KGJT_d850_300_tmpc', 'KGJT_d850_300_dwpc', 'KGJT_d850_300_drct', 'KGJT_d850_300_speed_kts', 'KGJT_d850_250_tmpc', 'KGJT_d850_250_dwpc', 'KGJT_d850_250_drct', 'KGJT_d850_250_speed_kts', 'KGJT_d850_200_tmpc', 'KGJT_d850_200_dwpc', 'KGJT_d850_200_drct', 'KGJT_d850_200_speed_kts']\n"
     ]
    }
   ],
   "source": [
    "max_snf = 50\n",
    "variables = ['CMtnSNTL_Temp_degC', 'CMtn_Temperature_degC', 'CMtn_Dewpoint_degC', 'CMtn_WindDirection_deg', 'CMtn_WindSpeed_mps', 'CMtn_CloudCover_oktas', \\\n",
    " 'LXV_Temperature_degC', 'LXV_Dewpoint_degC', 'LXV_Pressure_hp', 'LXV_WindSpeed_mps', 'LXV_WindDirection_deg', 'LXV_CloudCover_oktas', 'LXV_12hr_delta_Pressure_hp', \\\n",
    " 'KGJT_200mb_height_m', 'KGJT_200mb_tmpc', 'KGJT_200mb_dwpc', 'KGJT_200mb_drct', 'KGJT_200mb_speed_kts', \\\n",
    " 'KGJT_250mb_height_m', 'KGJT_250mb_tmpc', 'KGJT_250mb_dwpc', 'KGJT_250mb_drct', 'KGJT_250mb_speed_kts', \\\n",
    " 'KGJT_300mb_height_m', 'KGJT_300mb_tmpc', 'KGJT_300mb_dwpc', 'KGJT_300mb_drct', 'KGJT_300mb_speed_kts', \\\n",
    " 'KGJT_400mb_height_m', 'KGJT_400mb_tmpc', 'KGJT_400mb_dwpc', 'KGJT_400mb_drct', 'KGJT_400mb_speed_kts', \\\n",
    " 'KGJT_500mb_height_m', 'KGJT_500mb_tmpc', 'KGJT_500mb_dwpc', 'KGJT_500mb_drct', 'KGJT_500mb_speed_kts', \\\n",
    " 'KGJT_700mb_height_m', 'KGJT_700mb_tmpc', 'KGJT_700mb_dwpc', 'KGJT_700mb_drct', 'KGJT_700mb_speed_kts', \\\n",
    " 'KGJT_850mb_height_m', 'KGJT_850mb_tmpc', 'KGJT_850mb_dwpc', 'KGJT_850mb_drct', 'KGJT_850mb_speed_kts', \\\n",
    " 'KGJT_d850_700_height_m', 'KGJT_d850_700_tmpc', 'KGJT_d850_700_dwpc', 'KGJT_d850_700_drct', 'KGJT_d850_700_speed_kts', \\\n",
    " 'KGJT_d850_500_height_m', 'KGJT_d850_500_tmpc', 'KGJT_d850_500_dwpc', 'KGJT_d850_500_drct', 'KGJT_d850_500_speed_kts', \\\n",
    " 'KGJT_d850_400_height_m', 'KGJT_d850_400_tmpc', 'KGJT_d850_400_dwpc', 'KGJT_d850_400_drct', 'KGJT_d850_400_speed_kts', \\\n",
    " 'KGJT_d850_300_height_m', 'KGJT_d850_300_tmpc', 'KGJT_d850_300_dwpc', 'KGJT_d850_300_drct', 'KGJT_d850_300_speed_kts', \\\n",
    " 'KGJT_d850_250_height_m', 'KGJT_d850_250_tmpc', 'KGJT_d850_250_dwpc', 'KGJT_d850_250_drct', 'KGJT_d850_250_speed_kts', \\\n",
    " 'KGJT_d850_200_height_m', 'KGJT_d850_200_tmpc', 'KGJT_d850_200_dwpc', 'KGJT_d850_200_drct', 'KGJT_d850_200_speed_kts',\\\n",
    " 'KGJT_d700_500_height_m', 'KGJT_d700_500_tmpc', 'KGJT_d700_500_dwpc', 'KGJT_d700_500_drct', 'KGJT_d700_500_speed_kts', \\\n",
    " 'KGJT_d700_400_height_m', 'KGJT_d700_400_tmpc', 'KGJT_d700_400_dwpc', 'KGJT_d700_400_drct', 'KGJT_d700_400_speed_kts', \\\n",
    " 'KGJT_d700_300_height_m', 'KGJT_d700_300_tmpc', 'KGJT_d700_300_dwpc', 'KGJT_d700_300_drct', 'KGJT_d700_300_speed_kts', \\\n",
    " 'KGJT_d700_250_height_m', 'KGJT_d700_250_tmpc', 'KGJT_d700_250_dwpc', 'KGJT_d700_250_drct', 'KGJT_d700_250_speed_kts', \\\n",
    " 'KGJT_d700_200_height_m', 'KGJT_d700_200_tmpc', 'KGJT_d700_200_dwpc', 'KGJT_d700_200_drct', 'KGJT_d700_200_speed_kts', \\\n",
    " 'KGJT_d500_400_height_m', 'KGJT_d500_400_tmpc', 'KGJT_d500_400_dwpc', 'KGJT_d500_400_drct', 'KGJT_d500_400_speed_kts', \\\n",
    " 'KGJT_d500_300_height_m', 'KGJT_d500_300_tmpc', 'KGJT_d500_300_dwpc', 'KGJT_d500_300_drct', 'KGJT_d500_300_speed_kts', \\\n",
    " 'KGJT_d500_250_height_m', 'KGJT_d500_250_tmpc', 'KGJT_d500_250_dwpc', 'KGJT_d500_250_drct', 'KGJT_d500_250_speed_kts', \\\n",
    " 'KGJT_d500_200_height_m', 'KGJT_d500_200_tmpc', 'KGJT_d500_200_dwpc', 'KGJT_d500_200_drct', 'KGJT_d500_200_speed_kts', \\\n",
    " 'KGJT_d400_300_height_m', 'KGJT_d400_300_tmpc', 'KGJT_d400_300_dwpc', 'KGJT_d400_300_drct', 'KGJT_d400_300_speed_kts', \\\n",
    " 'KGJT_d400_250_height_m', 'KGJT_d400_250_tmpc', 'KGJT_d400_250_dwpc', 'KGJT_d400_250_drct', 'KGJT_d400_250_speed_kts', \\\n",
    " 'KGJT_d400_200_height_m', 'KGJT_d400_200_tmpc', 'KGJT_d400_200_dwpc', 'KGJT_d400_200_drct', 'KGJT_d400_200_speed_kts', \\\n",
    " 'KGJT_d300_250_height_m', 'KGJT_d300_250_tmpc', 'KGJT_d300_250_dwpc', 'KGJT_d300_250_drct', 'KGJT_d300_250_speed_kts', \\\n",
    " 'KGJT_d300_200_height_m', 'KGJT_d300_200_tmpc', 'KGJT_d300_200_dwpc', 'KGJT_d300_200_drct', 'KGJT_d300_200_speed_kts', \\\n",
    " 'KGJT_d250_200_height_m', 'KGJT_d250_200_tmpc', 'KGJT_d250_200_dwpc', 'KGJT_d250_200_drct', 'KGJT_d250_200_speed_kts']\n",
    "\n",
    "good_vars_UASFC = []\n",
    "bad_vars_UASFC = []\n",
    "for var in variables:\n",
    "    idx = np.isfinite(asos_snotel_UA_df['2006':'2017']['CMtnSNTL_Upcoming12hrSNOWFALL_gte3_in']) & np.isfinite(asos_snotel_UA_df['2006':'2017'][var])\n",
    " #   total_poss = len(asos_snotel_UA_df[train_yrs]['CMtnSNTL_Upcoming12hrSNOWFALL_gte3_in'][asos_snotel_UA_df[train_yrs]['CMtnSNTL_Upcoming12hrSNOWFALL_gte3_in']>=0])\n",
    "    \n",
    "    total_poss_UASFC = asos_snotel_UA_df['2006':'2017']['CMtnSNTL_Upcoming12hrSNOWFALL_gte3_in'].count()   #counts only non missing values\n",
    "    total_avail_UASFC =len(asos_snotel_UA_df['2006':'2017'][idx]) \n",
    "    \n",
    "    if total_avail_UASFC/total_poss_UASFC >= 0.67: \n",
    "        good_vars_UASFC.append(var)\n",
    "    else:\n",
    "        bad_vars_UASFC.append(var)\n",
    "        \n",
    "print('Variables with >= 67% data match to snowfall: ')\n",
    "print(good_vars_UASFC)\n",
    "print('Variables with < 67% data match to snowfall: ')\n",
    "print(bad_vars_UASFC)\n",
    "    "
   ]
  },
  {
   "cell_type": "markdown",
   "metadata": {},
   "source": [
    "# Filter dataset to only include meteorological data with matching snowfall event"
   ]
  },
  {
   "cell_type": "raw",
   "metadata": {},
   "source": [
    "### Set up training data with 2009-2017 years"
   ]
  },
  {
   "cell_type": "code",
   "execution_count": 1,
   "metadata": {},
   "outputs": [
    {
     "ename": "NameError",
     "evalue": "name 'np' is not defined",
     "output_type": "error",
     "traceback": [
      "\u001b[1;31m---------------------------------------------------------------------------\u001b[0m",
      "\u001b[1;31mNameError\u001b[0m                                 Traceback (most recent call last)",
      "\u001b[1;32m<ipython-input-1-d9fc2358c081>\u001b[0m in \u001b[0;36m<module>\u001b[1;34m()\u001b[0m\n\u001b[0;32m      5\u001b[0m \u001b[0midx_train\u001b[0m \u001b[1;33m=\u001b[0m \u001b[1;33m[\u001b[0m\u001b[1;33m]\u001b[0m\u001b[1;33m\u001b[0m\u001b[0m\n\u001b[0;32m      6\u001b[0m \u001b[1;33m\u001b[0m\u001b[0m\n\u001b[1;32m----> 7\u001b[1;33m \u001b[0midx_train\u001b[0m \u001b[1;33m=\u001b[0m \u001b[0mnp\u001b[0m\u001b[1;33m.\u001b[0m\u001b[0misfinite\u001b[0m\u001b[1;33m(\u001b[0m\u001b[0masos_snotel_UA_df\u001b[0m\u001b[1;33m[\u001b[0m\u001b[1;34m'2009'\u001b[0m\u001b[1;33m:\u001b[0m\u001b[1;34m'2017'\u001b[0m\u001b[1;33m]\u001b[0m\u001b[1;33m[\u001b[0m\u001b[1;34m'CMtnSNTL_Upcoming12hrSNOWFALL_gte3_in'\u001b[0m\u001b[1;33m]\u001b[0m\u001b[1;33m[\u001b[0m\u001b[0masos_snotel_UA_df\u001b[0m\u001b[1;33m[\u001b[0m\u001b[1;34m'2009'\u001b[0m\u001b[1;33m:\u001b[0m\u001b[1;34m'2017'\u001b[0m\u001b[1;33m]\u001b[0m\u001b[1;33m[\u001b[0m\u001b[1;34m'CMtnSNTL_Upcoming12hrSNOWFALL_gte3_in'\u001b[0m\u001b[1;33m]\u001b[0m\u001b[1;33m<\u001b[0m\u001b[0mmax_snf\u001b[0m\u001b[1;33m]\u001b[0m\u001b[1;33m)\u001b[0m\u001b[1;33m\u001b[0m\u001b[0m\n\u001b[0m\u001b[0;32m      8\u001b[0m \u001b[1;32mfor\u001b[0m \u001b[0mv\u001b[0m \u001b[1;32min\u001b[0m \u001b[0mgood_vars_sfc\u001b[0m\u001b[1;33m:\u001b[0m\u001b[1;33m\u001b[0m\u001b[0m\n\u001b[0;32m      9\u001b[0m     \u001b[0midx_train\u001b[0m \u001b[1;33m=\u001b[0m \u001b[0midx_train\u001b[0m \u001b[1;33m&\u001b[0m \u001b[0mnp\u001b[0m\u001b[1;33m.\u001b[0m\u001b[0misfinite\u001b[0m\u001b[1;33m(\u001b[0m\u001b[0masos_snotel_UA_df\u001b[0m\u001b[1;33m[\u001b[0m\u001b[1;34m'2009'\u001b[0m\u001b[1;33m:\u001b[0m\u001b[1;34m'2017'\u001b[0m\u001b[1;33m]\u001b[0m\u001b[1;33m[\u001b[0m\u001b[0mv\u001b[0m\u001b[1;33m]\u001b[0m\u001b[1;33m)\u001b[0m\u001b[1;33m\u001b[0m\u001b[0m\n",
      "\u001b[1;31mNameError\u001b[0m: name 'np' is not defined"
     ]
    }
   ],
   "source": [
    "Xtrain = []\n",
    "Xtrain_feat =[]\n",
    "Ytrain = []\n",
    "Ytrain_actsnf = []\n",
    "idx_train = []\n",
    "\n",
    "idx_train = np.isfinite(asos_snotel_UA_df['2009':'2017']['CMtnSNTL_Upcoming12hrSNOWFALL_gte3_in'][asos_snotel_UA_df['2009':'2017']['CMtnSNTL_Upcoming12hrSNOWFALL_gte3_in']<max_snf])\n",
    "for v in good_vars_sfc:\n",
    "    idx_train = idx_train & np.isfinite(asos_snotel_UA_df['2009':'2017'][v])    \n",
    "    \n",
    "Ytrain = round(asos_snotel_UA_df['CMtnSNTL_Upcoming12hrSNOWFALL_gte3_in']['2009':'2017'][idx_train],0)\n",
    "Ytrain_actsnf = Ytrain.tolist()\n",
    "\n",
    "\n",
    "gv = pd.DataFrame()\n",
    "#gv_asos_snotel_UA_df = asos_snotel_UA_df.copy\n",
    "#gv_asos_snotel_UA_df = asos_snotel_UA_df['2009':'2017'][['LXV_Temperature_degC', 'LXV_WindSpeed_mps', 'LXV_Dewpoint_degC']][loop_idx]\n",
    "Xtrain = asos_snotel_UA_df['2009':'2017'][good_vars_sfc][idx_train].apply(lambda x: x.tolist(), axis=1)\n",
    "#testtrain2 = testlist.apply(lambda x: testtrain2.append(x))\n",
    "Xtrain_feat = Xtrain.tolist()\n",
    "    \n",
    "print(Xtrain_feat[0:5], Ytrain_actsnf[0:5])\n",
    "\n"
   ]
  },
  {
   "cell_type": "markdown",
   "metadata": {},
   "source": [
    "### Run sklearn model with surface features only"
   ]
  },
  {
   "cell_type": "code",
   "execution_count": 15,
   "metadata": {},
   "outputs": [
    {
     "name": "stdout",
     "output_type": "stream",
     "text": [
      "[4.60048237 5.17075618 4.80013205 4.81109825 4.58224351 3.15362949\n",
      " 5.05439593 4.51358057 3.68346401 4.34219943 4.00863643 4.10607567\n",
      " 3.25773409 4.01307923 4.4106493  4.17447384 5.55565791 3.56315797\n",
      " 3.87585023 6.20772823 4.40310882 5.39562852 5.27822498 3.59759497\n",
      " 4.75436306 4.3083747  3.52456061 4.04498291 4.18201282 4.28888147\n",
      " 4.81259158 3.16444433 3.92234346 4.77502045 4.62041404 4.62544587\n",
      " 4.83845605 4.1046356  4.28006005 3.86183434 3.45937504 5.8495066\n",
      " 4.03411515 4.63638465 3.98532883 4.27253929 3.56162353 5.90893811\n",
      " 5.3280416  4.14515534 5.31709694 3.17121262 3.92290861 5.08067225\n",
      " 3.67381898 4.2759776  4.53736709 4.04513487 4.31456602 4.01274246\n",
      " 4.91710873 4.00345861 3.45926316 2.05457015 4.21618817 3.00718005\n",
      " 5.28250332 3.64441842 4.33453953 4.57748123 3.9296478  5.06814973\n",
      " 4.44200822 4.96684467]\n"
     ]
    },
    {
     "data": {
      "image/png": "[encoded data removed]",
      "text/plain": [
       "<Figure size 720x504 with 1 Axes>"
      ]
     },
     "metadata": {},
     "output_type": "display_data"
    },
    {
     "name": "stdout",
     "output_type": "stream",
     "text": [
      "Score:-0.14701056369238152\n"
     ]
    },
    {
     "data": {
      "image/png": "[encoded data removed]",
      "text/plain": [
       "<Figure size 720x504 with 1 Axes>"
      ]
     },
     "metadata": {},
     "output_type": "display_data"
    }
   ],
   "source": [
    "import pandas as pd\n",
    "from sklearn import datasets, linear_model\n",
    "from sklearn.model_selection import train_test_split\n",
    "from matplotlib import pyplot as plt\n",
    "\n",
    "lm = linear_model.LinearRegression()\n",
    "model = lm.fit(Xtrain_feat, Ytrain_actsnf)\n",
    "Y_predsnf = lm.predict(Xtest_feat)\n",
    "\n",
    "print(Y_predsnf)\n",
    "fig1 = plt.figure(figsize=(10,7))\n",
    "\n",
    "plt.scatter(Y_predsnf, Ytest_actsnf-Y_predsnf)\n",
    "plt.xlabel('Predicted Snowfall (in)')\n",
    "plt.ylabel('Actual Minus Predicted Snowfall (in)')\n",
    "plt.show()\n",
    "\n",
    "fig1 = plt.figure(figsize=(10,7))\n",
    "plt.scatter(Y_predsnf, Ytest_actsnf)\n",
    "plt.xlabel('Predicted Snowfall (in)')\n",
    "plt.ylabel('Actual Minus Predicted Snowfall (in)')\n",
    "\n",
    "print('Score:' +  str(model.score(Xtest_feat, Ytest_actsnf)))"
   ]
  },
  {
   "cell_type": "markdown",
   "metadata": {},
   "source": [
    "# Now try Cross Validation using Timeseries split"
   ]
  },
  {
   "cell_type": "code",
   "execution_count": 19,
   "metadata": {},
   "outputs": [
    {
     "name": "stdout",
     "output_type": "stream",
     "text": [
      "8766\n",
      "[[-3.2, -7.0, -8.0, 340.0, 5.1, -4.4, -7.2, 993.4, 2.6, 70.0, -5.2], [-6.2, -9.0, -12.0, 290.0, 10.8, -6.7, -8.9, 1005.8, 4.1, 310.0, -4.2], [-8.2, -9.0, -12.0, 290.0, 7.7, -7.0, -9.0, 1004.3, 1.5, 180.0, -5.4], [-8.0, -9.0, -12.0, 310.0, 7.7, -7.2, -11.1, 1022.6, 1.5, 10.0, -2.4], [-4.3, -8.0, -12.0, 260.0, 9.8, -2.2, -12.2, 1003.9, 3.1, 310.0, -9.0]] [5.0, 4.0, 5.0, 4.0, 5.0]\n"
     ]
    }
   ],
   "source": [
    "\n",
    "X = []\n",
    "X_feat =[]\n",
    "Y = []\n",
    "Y_actsnf = []\n",
    "idx_test = []\n",
    "\n",
    "idx = np.isfinite(asos_snotel_UA_df['2006':'2017']['CMtnSNTL_Upcoming12hrSNOWFALL_gte3_in'][asos_snotel_UA_df['2006':'2017']['CMtnSNTL_Upcoming12hrSNOWFALL_gte3_in']<max_snf])\n",
    "for v in good_vars_sfc:\n",
    "    idx = idx  & np.isfinite(asos_snotel_UA_df['2006':'2017'][v])    \n",
    "    \n",
    "print(len(idx))\n",
    "Y= round(asos_snotel_UA_df['CMtnSNTL_Upcoming12hrSNOWFALL_gte3_in']['2006':'2017'][idx],0)\n",
    "Y_actsnf  = Y.tolist()\n",
    "\n",
    "gv = pd.DataFrame()\n",
    "#gv_asos_snotel_UA_df = asos_snotel_UA_df.copy\n",
    "#gv_asos_snotel_UA_df = asos_snotel_UA_df['2009':'2017'][['LXV_Temperature_degC', 'LXV_WindSpeed_mps', 'LXV_Dewpoint_degC']][loop_idx]\n",
    "X = asos_snotel_UA_df['2006':'2017'][good_vars_sfc][idx].apply(lambda x: x.tolist(), axis=1)\n",
    "#testtrain2 = testlist.apply(lambda x: testtrain2.append(x))\n",
    "X_feat = X.tolist()\n",
    "print(X_feat[0:5], Y_actsnf[0:5])\n"
   ]
  },
  {
   "cell_type": "code",
   "execution_count": 90,
   "metadata": {},
   "outputs": [
    {
     "name": "stdout",
     "output_type": "stream",
     "text": [
      "TimeSeriesSplit(max_train_size=None, n_splits=5)\n",
      "225\n",
      "225\n",
      "<generator object TimeSeriesSplit.split at 0x0FC46B70>\n",
      "TRAIN: [ 0  1  2  3  4  5  6  7  8  9 10 11 12 13 14 15 16 17 18 19 20 21 22 23\n",
      " 24 25 26 27 28 29 30 31 32 33 34 35 36 37 38 39] TEST: [40 41 42 43 44 45 46 47 48 49 50 51 52 53 54 55 56 57 58 59 60 61 62 63\n",
      " 64 65 66 67 68 69 70 71 72 73 74 75 76]\n",
      "37\n",
      "TRAIN: [ 0  1  2  3  4  5  6  7  8  9 10 11 12 13 14 15 16 17 18 19 20 21 22 23\n",
      " 24 25 26 27 28 29 30 31 32 33 34 35 36 37 38 39 40 41 42 43 44 45 46 47\n",
      " 48 49 50 51 52 53 54 55 56 57 58 59 60 61 62 63 64 65 66 67 68 69 70 71\n",
      " 72 73 74 75 76] TEST: [ 77  78  79  80  81  82  83  84  85  86  87  88  89  90  91  92  93  94\n",
      "  95  96  97  98  99 100 101 102 103 104 105 106 107 108 109 110 111 112\n",
      " 113]\n",
      "37\n",
      "TRAIN: [  0   1   2   3   4   5   6   7   8   9  10  11  12  13  14  15  16  17\n",
      "  18  19  20  21  22  23  24  25  26  27  28  29  30  31  32  33  34  35\n",
      "  36  37  38  39  40  41  42  43  44  45  46  47  48  49  50  51  52  53\n",
      "  54  55  56  57  58  59  60  61  62  63  64  65  66  67  68  69  70  71\n",
      "  72  73  74  75  76  77  78  79  80  81  82  83  84  85  86  87  88  89\n",
      "  90  91  92  93  94  95  96  97  98  99 100 101 102 103 104 105 106 107\n",
      " 108 109 110 111 112 113] TEST: [114 115 116 117 118 119 120 121 122 123 124 125 126 127 128 129 130 131\n",
      " 132 133 134 135 136 137 138 139 140 141 142 143 144 145 146 147 148 149\n",
      " 150]\n",
      "37\n",
      "TRAIN: [  0   1   2   3   4   5   6   7   8   9  10  11  12  13  14  15  16  17\n",
      "  18  19  20  21  22  23  24  25  26  27  28  29  30  31  32  33  34  35\n",
      "  36  37  38  39  40  41  42  43  44  45  46  47  48  49  50  51  52  53\n",
      "  54  55  56  57  58  59  60  61  62  63  64  65  66  67  68  69  70  71\n",
      "  72  73  74  75  76  77  78  79  80  81  82  83  84  85  86  87  88  89\n",
      "  90  91  92  93  94  95  96  97  98  99 100 101 102 103 104 105 106 107\n",
      " 108 109 110 111 112 113 114 115 116 117 118 119 120 121 122 123 124 125\n",
      " 126 127 128 129 130 131 132 133 134 135 136 137 138 139 140 141 142 143\n",
      " 144 145 146 147 148 149 150] TEST: [151 152 153 154 155 156 157 158 159 160 161 162 163 164 165 166 167 168\n",
      " 169 170 171 172 173 174 175 176 177 178 179 180 181 182 183 184 185 186\n",
      " 187]\n",
      "37\n",
      "TRAIN: [  0   1   2   3   4   5   6   7   8   9  10  11  12  13  14  15  16  17\n",
      "  18  19  20  21  22  23  24  25  26  27  28  29  30  31  32  33  34  35\n",
      "  36  37  38  39  40  41  42  43  44  45  46  47  48  49  50  51  52  53\n",
      "  54  55  56  57  58  59  60  61  62  63  64  65  66  67  68  69  70  71\n",
      "  72  73  74  75  76  77  78  79  80  81  82  83  84  85  86  87  88  89\n",
      "  90  91  92  93  94  95  96  97  98  99 100 101 102 103 104 105 106 107\n",
      " 108 109 110 111 112 113 114 115 116 117 118 119 120 121 122 123 124 125\n",
      " 126 127 128 129 130 131 132 133 134 135 136 137 138 139 140 141 142 143\n",
      " 144 145 146 147 148 149 150 151 152 153 154 155 156 157 158 159 160 161\n",
      " 162 163 164 165 166 167 168 169 170 171 172 173 174 175 176 177 178 179\n",
      " 180 181 182 183 184 185 186 187] TEST: [188 189 190 191 192 193 194 195 196 197 198 199 200 201 202 203 204 205\n",
      " 206 207 208 209 210 211 212 213 214 215 216 217 218 219 220 221 222 223\n",
      " 224]\n",
      "37\n",
      "Mean R2=-0.5134624753541847\n",
      "Mean p value =0.41907895623507657\n",
      "MIn p value =0.04567198187280161\n"
     ]
    },
    {
     "data": {
      "image/png": "[encoded data removed]",
      "text/plain": [
       "<Figure size 432x288 with 1 Axes>"
      ]
     },
     "metadata": {},
     "output_type": "display_data"
    },
    {
     "data": {
      "image/png": "[encoded data removed]",
      "text/plain": [
       "<Figure size 432x288 with 1 Axes>"
      ]
     },
     "metadata": {},
     "output_type": "display_data"
    },
    {
     "data": {
      "image/png": "[encoded data removed]",
      "text/plain": [
       "<Figure size 432x288 with 1 Axes>"
      ]
     },
     "metadata": {},
     "output_type": "display_data"
    },
    {
     "data": {
      "text/plain": [
       "[<matplotlib.lines.Line2D at 0xfea7e10>]"
      ]
     },
     "execution_count": 90,
     "metadata": {},
     "output_type": "execute_result"
    },
    {
     "data": {
      "image/png": "[encoded data removed]",
      "text/plain": [
       "<Figure size 432x288 with 1 Axes>"
      ]
     },
     "metadata": {},
     "output_type": "display_data"
    }
   ],
   "source": [
    "from sklearn.model_selection import TimeSeriesSplit # import KFold\n",
    "\n",
    "from scipy.stats import pearsonr, linregress\n",
    "from sklearn.metrics import mean_squared_error\n",
    "\n",
    "\n",
    "tscv = TimeSeriesSplit(n_splits=5)\n",
    "print(tscv)  \n",
    "print(len(X_feat))\n",
    "print(len(Y_actsnf))\n",
    "\n",
    "print(tscv.split(X_feat))\n",
    "\n",
    "slopes = []\n",
    "intercepts =[]\n",
    "r_values = []\n",
    "p_values =[]\n",
    "std_errs =[]\n",
    "\n",
    "R2_scores =[]\n",
    "X_train = np.array([])\n",
    " \n",
    "for train_index, test_index in tscv.split(X_feat):\n",
    " print(\"TRAIN:\", train_index, \"TEST:\", test_index)\n",
    " X_train =  np.array(X_feat)[train_index]\n",
    " X_test =  np.array(X_feat)[test_index]\n",
    " Y_train =  np.array(Y_actsnf)[train_index]\n",
    " Y_test =   np.array(Y_actsnf)[test_index]\n",
    " model = lm.fit(X_train, Y_train)\n",
    " #Y_predsnf = lm.predict(X_test)\n",
    " Ytest_predictions = cross_val_predict(model, X_test, Y_test, cv = 37)\n",
    " print(len(Y_test))\n",
    " R2_scores.append(metrics.r2_score(Y_test, Ytest_predictions))\n",
    " slope, intercept, r_value, p_value, std_err = linregress(Y_test, Ytest_predictions)    \n",
    " slopes.append(slope)\n",
    " intercepts.append(intercept)\n",
    " r_values.append(r_value)\n",
    " p_values.append(p_value)\n",
    " std_errs.append(std_err)\n",
    "    \n",
    "\n",
    "print(\"Mean R2=\" + str(np.mean(R2_scores)))\n",
    "print(\"Mean p value =\" +str(np.mean(p_values)))\n",
    "print(\"MIn p value =\"+str(np.min(p_values)))\n",
    "    \n",
    "plt.plot(R2_scores)\n",
    "plt.show()\n",
    "plt.plot(r_values)\n",
    "plt.show()\n",
    "plt.plot(p_values)\n",
    "plt.show()\n",
    "plt.plot(std_err)\n",
    "\n",
    "\n",
    "\n"
   ]
  },
  {
   "cell_type": "code",
   "execution_count": 108,
   "metadata": {},
   "outputs": [
    {
     "name": "stdout",
     "output_type": "stream",
     "text": [
      "[-0.24057217 -0.47194574  0.0121163  -0.25136496  0.02408355]\n",
      "-0.18553660557151058\n"
     ]
    }
   ],
   "source": [
    "# Necessary imports: \n",
    "from sklearn.model_selection import cross_val_score, cross_val_predict\n",
    "from sklearn import metrics\n",
    "\n",
    "#scores = cross_val_score(model, X_feat, Y_actsnf, cv=TimeSeriesSplit(n_splits=5).split(X_feat))\n",
    "scores = cross_val_score(model, X_feat, Y_actsnf, cv=tscv.split(X_feat))\n",
    "print(scores)\n",
    "print(np.mean(scores))\n",
    "\n",
    "\n"
   ]
  },
  {
   "cell_type": "code",
   "execution_count": 75,
   "metadata": {},
   "outputs": [
    {
     "name": "stdout",
     "output_type": "stream",
     "text": [
      "DecisionTreeRegressor(criterion='mse', max_depth=1, max_features=None,\n",
      "           max_leaf_nodes=None, min_impurity_decrease=0.0,\n",
      "           min_impurity_split=None, min_samples_leaf=1,\n",
      "           min_samples_split=2, min_weight_fraction_leaf=0.0,\n",
      "           presort=False, random_state=None, splitter='best')\n",
      "74\n"
     ]
    },
    {
     "data": {
      "text/plain": [
       "Text(0,0.5,'Actual Minus Predicted Snowfall (in)')"
      ]
     },
     "execution_count": 75,
     "metadata": {},
     "output_type": "execute_result"
    },
    {
     "data": {
      "image/png": "[encoded data removed]",
      "text/plain": [
       "<Figure size 432x288 with 1 Axes>"
      ]
     },
     "metadata": {},
     "output_type": "display_data"
    }
   ],
   "source": [
    "clf =[]\n",
    "Y_predsnf = []\n",
    "\n",
    "from sklearn import tree\n",
    "clf = tree.DecisionTreeRegressor(max_depth=1)\n",
    "clf = clf.fit(Xtrain_feat, Ytrain_actsnf)\n",
    "\n",
    "print(clf)\n",
    "\n",
    "# Predict test set labels\n",
    "Y_predsnf = clf.predict(Xtest_feat)\n",
    "# Evaluate test-set accuracy\n",
    "\n",
    "\n",
    "from sklearn.metrics import accuracy_score\n",
    "#print(accuracy_score(Ytest_actsnf, Y_predsnf))\n",
    "#plt.plot(Ytestlist-y_pred) \n",
    "print(len(Y_predsnf))\n",
    "\n",
    "plt.scatter(Y_predsnf, Ytest_actsnf-Y_predsnf)\n",
    "plt.xlabel('Predicted Snowfall (in)')\n",
    "plt.ylabel('Actual Minus Predicted Snowfall (in)')"
   ]
  },
  {
   "cell_type": "markdown",
   "metadata": {},
   "source": [
    "Graphically view"
   ]
  },
  {
   "cell_type": "code",
   "execution_count": 84,
   "metadata": {},
   "outputs": [
    {
     "name": "stdout",
     "output_type": "stream",
     "text": [
      "['CMtnSNTL_Temp_degC', 'CMtn_Temperature_degC', 'CMtn_Dewpoint_degC', 'CMtn_WindDirection_deg', 'CMtn_WindSpeed_mps', 'LXV_Temperature_degC', 'LXV_Dewpoint_degC', 'LXV_Pressure_hp', 'LXV_WindSpeed_mps', 'LXV_WindDirection_deg', 'LXV_12hr_delta_Pressure_hp']\n"
     ]
    },
    {
     "data": {
      "image/svg+xml": [
       "<?xml version=\"1.0\" encoding=\"UTF-8\" standalone=\"no\"?>\r\n",
       "<!DOCTYPE svg PUBLIC \"-//W3C//DTD SVG 1.1//EN\"\r\n",
       " \"http://www.w3.org/Graphics/SVG/1.1/DTD/svg11.dtd\">\r\n",
       "<!-- Generated by graphviz version 2.38.0 (20140413.2041)\r\n",
       " -->\r\n",
       "<!-- Title: Tree Pages: 1 -->\r\n",
       "<svg width=\"477pt\" height=\"373pt\"\r\n",
       " viewBox=\"0.00 0.00 476.50 373.00\" xmlns=\"http://www.w3.org/2000/svg\" xmlns:xlink=\"http://www.w3.org/1999/xlink\">\r\n",
       "<g id=\"graph0\" class=\"graph\" transform=\"scale(1 1) rotate(0) translate(4 369)\">\r\n",
       "<title>Tree</title>\r\n",
       "<polygon fill=\"white\" stroke=\"none\" points=\"-4,4 -4,-369 472.5,-369 472.5,4 -4,4\"/>\r\n",
       "<!-- 0 -->\r\n",
       "<g id=\"node1\" class=\"node\"><title>0</title>\r\n",
       "<polygon fill=\"#e58139\" fill-opacity=\"0.031373\" stroke=\"black\" points=\"405.5,-365 231.5,-365 231.5,-297 405.5,-297 405.5,-365\"/>\r\n",
       "<text text-anchor=\"start\" x=\"239.5\" y=\"-349.8\" font-family=\"Times New Roman,serif\" font-size=\"14.00\">LXV_Pressure_hp ≤ 1025.3</text>\r\n",
       "<text text-anchor=\"start\" x=\"283.5\" y=\"-334.8\" font-family=\"Times New Roman,serif\" font-size=\"14.00\">mse = 3.753</text>\r\n",
       "<text text-anchor=\"start\" x=\"277.5\" y=\"-319.8\" font-family=\"Times New Roman,serif\" font-size=\"14.00\">samples = 151</text>\r\n",
       "<text text-anchor=\"start\" x=\"280.5\" y=\"-304.8\" font-family=\"Times New Roman,serif\" font-size=\"14.00\">value = 4.583</text>\r\n",
       "</g>\r\n",
       "<!-- 1 -->\r\n",
       "<g id=\"node2\" class=\"node\"><title>1</title>\r\n",
       "<polygon fill=\"#e58139\" fill-opacity=\"0.027451\" stroke=\"black\" points=\"344.5,-261 120.5,-261 120.5,-193 344.5,-193 344.5,-261\"/>\r\n",
       "<text text-anchor=\"start\" x=\"128.5\" y=\"-245.8\" font-family=\"Times New Roman,serif\" font-size=\"14.00\">LXV_12hr_delta_Pressure_hp ≤ &#45;9.4</text>\r\n",
       "<text text-anchor=\"start\" x=\"197.5\" y=\"-230.8\" font-family=\"Times New Roman,serif\" font-size=\"14.00\">mse = 3.409</text>\r\n",
       "<text text-anchor=\"start\" x=\"191.5\" y=\"-215.8\" font-family=\"Times New Roman,serif\" font-size=\"14.00\">samples = 150</text>\r\n",
       "<text text-anchor=\"start\" x=\"194.5\" y=\"-200.8\" font-family=\"Times New Roman,serif\" font-size=\"14.00\">value = 4.533</text>\r\n",
       "</g>\r\n",
       "<!-- 0&#45;&gt;1 -->\r\n",
       "<g id=\"edge1\" class=\"edge\"><title>0&#45;&gt;1</title>\r\n",
       "<path fill=\"none\" stroke=\"black\" d=\"M290.578,-296.884C283.068,-287.976 274.855,-278.235 267.032,-268.957\"/>\r\n",
       "<polygon fill=\"black\" stroke=\"black\" points=\"269.698,-266.689 260.576,-261.299 264.346,-271.201 269.698,-266.689\"/>\r\n",
       "<text text-anchor=\"middle\" x=\"258.456\" y=\"-282.509\" font-family=\"Times New Roman,serif\" font-size=\"14.00\">True</text>\r\n",
       "</g>\r\n",
       "<!-- 8 -->\r\n",
       "<g id=\"node9\" class=\"node\"><title>8</title>\r\n",
       "<polygon fill=\"#e58139\" stroke=\"black\" points=\"448,-253.5 363,-253.5 363,-200.5 448,-200.5 448,-253.5\"/>\r\n",
       "<text text-anchor=\"start\" x=\"377.5\" y=\"-238.3\" font-family=\"Times New Roman,serif\" font-size=\"14.00\">mse = 0.0</text>\r\n",
       "<text text-anchor=\"start\" x=\"371.5\" y=\"-223.3\" font-family=\"Times New Roman,serif\" font-size=\"14.00\">samples = 1</text>\r\n",
       "<text text-anchor=\"start\" x=\"371\" y=\"-208.3\" font-family=\"Times New Roman,serif\" font-size=\"14.00\">value = 12.0</text>\r\n",
       "</g>\r\n",
       "<!-- 0&#45;&gt;8 -->\r\n",
       "<g id=\"edge8\" class=\"edge\"><title>0&#45;&gt;8</title>\r\n",
       "<path fill=\"none\" stroke=\"black\" d=\"M346.746,-296.884C356.502,-285.446 367.43,-272.634 377.191,-261.19\"/>\r\n",
       "<polygon fill=\"black\" stroke=\"black\" points=\"379.906,-263.4 383.733,-253.52 374.581,-258.857 379.906,-263.4\"/>\r\n",
       "<text text-anchor=\"middle\" x=\"385.711\" y=\"-274.742\" font-family=\"Times New Roman,serif\" font-size=\"14.00\">False</text>\r\n",
       "</g>\r\n",
       "<!-- 2 -->\r\n",
       "<g id=\"node3\" class=\"node\"><title>2</title>\r\n",
       "<polygon fill=\"#e58139\" fill-opacity=\"0.250980\" stroke=\"black\" points=\"231,-157 0,-157 0,-89 231,-89 231,-157\"/>\r\n",
       "<text text-anchor=\"start\" x=\"8\" y=\"-141.8\" font-family=\"Times New Roman,serif\" font-size=\"14.00\">LXV_12hr_delta_Pressure_hp ≤ &#45;10.9</text>\r\n",
       "<text text-anchor=\"start\" x=\"80.5\" y=\"-126.8\" font-family=\"Times New Roman,serif\" font-size=\"14.00\">mse = 8.017</text>\r\n",
       "<text text-anchor=\"start\" x=\"78\" y=\"-111.8\" font-family=\"Times New Roman,serif\" font-size=\"14.00\">samples = 11</text>\r\n",
       "<text text-anchor=\"start\" x=\"77.5\" y=\"-96.8\" font-family=\"Times New Roman,serif\" font-size=\"14.00\">value = 6.273</text>\r\n",
       "</g>\r\n",
       "<!-- 1&#45;&gt;2 -->\r\n",
       "<g id=\"edge2\" class=\"edge\"><title>1&#45;&gt;2</title>\r\n",
       "<path fill=\"none\" stroke=\"black\" d=\"M194.513,-192.884C183.99,-183.709 172.452,-173.65 161.523,-164.123\"/>\r\n",
       "<polygon fill=\"black\" stroke=\"black\" points=\"163.534,-161.233 153.696,-157.299 158.934,-166.509 163.534,-161.233\"/>\r\n",
       "</g>\r\n",
       "<!-- 5 -->\r\n",
       "<g id=\"node6\" class=\"node\"><title>5</title>\r\n",
       "<polygon fill=\"#e58139\" fill-opacity=\"0.007843\" stroke=\"black\" points=\"449.5,-157 249.5,-157 249.5,-89 449.5,-89 449.5,-157\"/>\r\n",
       "<text text-anchor=\"start\" x=\"257.5\" y=\"-141.8\" font-family=\"Times New Roman,serif\" font-size=\"14.00\">CMtn_WindSpeed_mps ≤ 17.69</text>\r\n",
       "<text text-anchor=\"start\" x=\"314.5\" y=\"-126.8\" font-family=\"Times New Roman,serif\" font-size=\"14.00\">mse = 2.786</text>\r\n",
       "<text text-anchor=\"start\" x=\"308.5\" y=\"-111.8\" font-family=\"Times New Roman,serif\" font-size=\"14.00\">samples = 139</text>\r\n",
       "<text text-anchor=\"start\" x=\"311.5\" y=\"-96.8\" font-family=\"Times New Roman,serif\" font-size=\"14.00\">value = 4.396</text>\r\n",
       "</g>\r\n",
       "<!-- 1&#45;&gt;5 -->\r\n",
       "<g id=\"edge5\" class=\"edge\"><title>1&#45;&gt;5</title>\r\n",
       "<path fill=\"none\" stroke=\"black\" d=\"M270.487,-192.884C281.01,-183.709 292.548,-173.65 303.477,-164.123\"/>\r\n",
       "<polygon fill=\"black\" stroke=\"black\" points=\"306.066,-166.509 311.304,-157.299 301.466,-161.233 306.066,-166.509\"/>\r\n",
       "</g>\r\n",
       "<!-- 3 -->\r\n",
       "<g id=\"node4\" class=\"node\"><title>3</title>\r\n",
       "<polygon fill=\"#e58139\" fill-opacity=\"0.101961\" stroke=\"black\" points=\"115.5,-53 23.5,-53 23.5,-0 115.5,-0 115.5,-53\"/>\r\n",
       "<text text-anchor=\"start\" x=\"34.5\" y=\"-37.8\" font-family=\"Times New Roman,serif\" font-size=\"14.00\">mse = 2.321</text>\r\n",
       "<text text-anchor=\"start\" x=\"35.5\" y=\"-22.8\" font-family=\"Times New Roman,serif\" font-size=\"14.00\">samples = 9</text>\r\n",
       "<text text-anchor=\"start\" x=\"31.5\" y=\"-7.8\" font-family=\"Times New Roman,serif\" font-size=\"14.00\">value = 5.111</text>\r\n",
       "</g>\r\n",
       "<!-- 2&#45;&gt;3 -->\r\n",
       "<g id=\"edge3\" class=\"edge\"><title>2&#45;&gt;3</title>\r\n",
       "<path fill=\"none\" stroke=\"black\" d=\"M99.4114,-88.9485C95.2256,-80.3494 90.7031,-71.0586 86.4732,-62.3689\"/>\r\n",
       "<polygon fill=\"black\" stroke=\"black\" points=\"89.5517,-60.6962 82.0279,-53.2367 83.2577,-63.7599 89.5517,-60.6962\"/>\r\n",
       "</g>\r\n",
       "<!-- 4 -->\r\n",
       "<g id=\"node5\" class=\"node\"><title>4</title>\r\n",
       "<polygon fill=\"#e58139\" fill-opacity=\"0.933333\" stroke=\"black\" points=\"219,-53 134,-53 134,-0 219,-0 219,-53\"/>\r\n",
       "<text text-anchor=\"start\" x=\"145\" y=\"-37.8\" font-family=\"Times New Roman,serif\" font-size=\"14.00\">mse = 0.25</text>\r\n",
       "<text text-anchor=\"start\" x=\"142.5\" y=\"-22.8\" font-family=\"Times New Roman,serif\" font-size=\"14.00\">samples = 2</text>\r\n",
       "<text text-anchor=\"start\" x=\"142\" y=\"-7.8\" font-family=\"Times New Roman,serif\" font-size=\"14.00\">value = 11.5</text>\r\n",
       "</g>\r\n",
       "<!-- 2&#45;&gt;4 -->\r\n",
       "<g id=\"edge4\" class=\"edge\"><title>2&#45;&gt;4</title>\r\n",
       "<path fill=\"none\" stroke=\"black\" d=\"M136.835,-88.9485C142.504,-80.1664 148.638,-70.6629 154.35,-61.815\"/>\r\n",
       "<polygon fill=\"black\" stroke=\"black\" points=\"157.404,-63.5365 159.887,-53.2367 151.523,-59.7402 157.404,-63.5365\"/>\r\n",
       "</g>\r\n",
       "<!-- 6 -->\r\n",
       "<g id=\"node7\" class=\"node\"><title>6</title>\r\n",
       "<polygon fill=\"none\" stroke=\"black\" points=\"366.5,-53 268.5,-53 268.5,-0 366.5,-0 366.5,-53\"/>\r\n",
       "<text text-anchor=\"start\" x=\"282.5\" y=\"-37.8\" font-family=\"Times New Roman,serif\" font-size=\"14.00\">mse = 2.573</text>\r\n",
       "<text text-anchor=\"start\" x=\"276.5\" y=\"-22.8\" font-family=\"Times New Roman,serif\" font-size=\"14.00\">samples = 137</text>\r\n",
       "<text text-anchor=\"start\" x=\"279.5\" y=\"-7.8\" font-family=\"Times New Roman,serif\" font-size=\"14.00\">value = 4.336</text>\r\n",
       "</g>\r\n",
       "<!-- 5&#45;&gt;6 -->\r\n",
       "<g id=\"edge6\" class=\"edge\"><title>5&#45;&gt;6</title>\r\n",
       "<path fill=\"none\" stroke=\"black\" d=\"M338.308,-88.9485C335.458,-80.5323 332.384,-71.4536 329.496,-62.9243\"/>\r\n",
       "<polygon fill=\"black\" stroke=\"black\" points=\"332.738,-61.5858 326.215,-53.2367 326.107,-63.831 332.738,-61.5858\"/>\r\n",
       "</g>\r\n",
       "<!-- 7 -->\r\n",
       "<g id=\"node8\" class=\"node\"><title>7</title>\r\n",
       "<polygon fill=\"#e58139\" fill-opacity=\"0.545098\" stroke=\"black\" points=\"468.5,-53 384.5,-53 384.5,-0 468.5,-0 468.5,-53\"/>\r\n",
       "<text text-anchor=\"start\" x=\"395\" y=\"-37.8\" font-family=\"Times New Roman,serif\" font-size=\"14.00\">mse = 0.25</text>\r\n",
       "<text text-anchor=\"start\" x=\"392.5\" y=\"-22.8\" font-family=\"Times New Roman,serif\" font-size=\"14.00\">samples = 2</text>\r\n",
       "<text text-anchor=\"start\" x=\"395.5\" y=\"-7.8\" font-family=\"Times New Roman,serif\" font-size=\"14.00\">value = 8.5</text>\r\n",
       "</g>\r\n",
       "<!-- 5&#45;&gt;7 -->\r\n",
       "<g id=\"edge7\" class=\"edge\"><title>5&#45;&gt;7</title>\r\n",
       "<path fill=\"none\" stroke=\"black\" d=\"M376.431,-88.9485C383.736,-79.9834 391.653,-70.2666 398.989,-61.2629\"/>\r\n",
       "<polygon fill=\"black\" stroke=\"black\" points=\"401.926,-63.1999 405.529,-53.2367 396.499,-58.7782 401.926,-63.1999\"/>\r\n",
       "</g>\r\n",
       "</g>\r\n",
       "</svg>\r\n"
      ],
      "text/plain": [
       "<graphviz.files.Source at 0x1142bc50>"
      ]
     },
     "execution_count": 84,
     "metadata": {},
     "output_type": "execute_result"
    }
   ],
   "source": [
    "\n",
    "import graphviz \n",
    "\n",
    "fn = [\"A\", \"B\", \"C\", \"D\", \"E\", \"F\", \"G\", \"H\", \"I\", \"J\", \"K\"]\n",
    "dot_data = tree.export_graphviz(clf, out_file=None, \\\n",
    "                                feature_names=['CMtnSNTL_Temp_degC', 'CMtn_Temperature_degC', 'CMtn_Dewpoint_degC', 'CMtn_WindDirection_deg', 'CMtn_WindSpeed_mps', 'LXV_Temperature_degC', 'LXV_Dewpoint_degC', 'LXV_Pressure_hp', 'LXV_WindSpeed_mps', 'LXV_WindDirection_deg', 'LXV_12hr_delta_Pressure_hp'], \\\n",
    "                                label = 'all', filled = True,special_characters = True, class_names = True, max_depth = 3) \n",
    "\n",
    "print(good_vars_sfc)\n",
    "graph = graphviz.Source(dot_data) \n",
    "#graph.render() \n",
    "#dot_data = tree.export_graphviz(clf, out_file=None, \n",
    "#                      feature_names=iris.feature_names,  \n",
    "#                      class_names=iris.target_names,  \n",
    "#                      filled=True, rounded=True,  \n",
    "#                      special_characters=True)\n",
    "\n",
    "#dot_data = tree.export_graphviz(clf)\n",
    "tree.export_graphviz(clf)\n",
    "graph = graphviz.Source(dot_data)  \n",
    "graph "
   ]
  },
  {
   "cell_type": "markdown",
   "metadata": {},
   "source": [
    "Try max depth 10"
   ]
  },
  {
   "cell_type": "code",
   "execution_count": 69,
   "metadata": {},
   "outputs": [
    {
     "name": "stdout",
     "output_type": "stream",
     "text": [
      "DecisionTreeRegressor(criterion='mse', max_depth=10, max_features=None,\n",
      "           max_leaf_nodes=None, min_impurity_decrease=0.0,\n",
      "           min_impurity_split=None, min_samples_leaf=1,\n",
      "           min_samples_split=2, min_weight_fraction_leaf=0.0,\n",
      "           presort=False, random_state=None, splitter='best')\n",
      "8.000654821488155\n"
     ]
    },
    {
     "data": {
      "text/plain": [
       "Text(0,0.5,'Actual Minus Predicted Snowfall (in)')"
      ]
     },
     "execution_count": 69,
     "metadata": {},
     "output_type": "execute_result"
    },
    {
     "data": {
      "image/png": "[encoded data removed]",
      "text/plain": [
       "<Figure size 432x288 with 1 Axes>"
      ]
     },
     "metadata": {},
     "output_type": "display_data"
    }
   ],
   "source": [
    "clf =[]\n",
    "Y_predsnf = []\n",
    "\n",
    "from sklearn import tree\n",
    "clf = tree.DecisionTreeRegressor(max_depth=10)\n",
    "clf = clf.fit(Xtrain_feat, Ytrain_actsnf)\n",
    "\n",
    "print(clf)\n",
    "\n",
    "# Predict test set labels\n",
    "Y_predsnf = clf.predict(Xtest_feat)\n",
    "# Evaluate test-set accuracy\n",
    "\n",
    "\n",
    "from sklearn.metrics import mean_squared_error\n",
    "print(mean_squared_error(Ytest_actsnf, Y_predsnf))\n",
    "#plt.plot(Ytestlist-y_pred) \n",
    "\n",
    "\n",
    "plt.scatter(Y_predsnf, Ytest_actsnf-Y_predsnf)\n",
    "plt.xlabel('Predicted Snowfall (in)')\n",
    "plt.ylabel('Actual Minus Predicted Snowfall (in)')"
   ]
  },
  {
   "cell_type": "markdown",
   "metadata": {},
   "source": [
    "Try multpile max depths"
   ]
  },
  {
   "cell_type": "code",
   "execution_count": 73,
   "metadata": {},
   "outputs": [
    {
     "data": {
      "text/plain": [
       "Text(0,0.5,'Accuracy Score')"
      ]
     },
     "execution_count": 73,
     "metadata": {},
     "output_type": "execute_result"
    },
    {
     "data": {
      "image/png": "[encoded data removed]",
      "text/plain": [
       "<Figure size 432x288 with 1 Axes>"
      ]
     },
     "metadata": {},
     "output_type": "display_data"
    }
   ],
   "source": [
    "from sklearn import tree\n",
    "from sklearn.metrics import accuracy_score\n",
    "accuracy = []\n",
    "\n",
    "for i in range(1,10):\n",
    "  clf = []\n",
    "  clf = tree.DecisionTreeRegressor(max_depth=i)\n",
    "  clf = clf.fit(Xtrain_feat, Ytrain_actsnf)\n",
    "\n",
    "#print(clf)\n",
    "\n",
    "# Predict test set labels\n",
    "  Y_predsnf = clf.predict(Xtest_feat)\n",
    "# Evaluate test-set accuracy\n",
    "\n",
    "\n",
    "  accuracy.append(mean_squared_error(Ytest_actsnf, Y_predsnf))\n",
    "#plt.plot(Ytestlist-y_pred) \n",
    "\n",
    "plt.plot(accuracy)\n",
    "plt.xlabel('Max Depth')\n",
    "plt.ylabel('Accuracy Score')\n",
    "#plt.scatter(y_pred, Ytestlist-y_pred)"
   ]
  },
  {
   "cell_type": "code",
   "execution_count": 78,
   "metadata": {},
   "outputs": [
    {
     "name": "stdout",
     "output_type": "stream",
     "text": [
      "151\n"
     ]
    },
    {
     "data": {
      "image/png": "[encoded data removed]",
      "text/plain": [
       "<Figure size 432x288 with 1 Axes>"
      ]
     },
     "metadata": {},
     "output_type": "display_data"
    }
   ],
   "source": [
    "#plt.plot(Ytest_actsnf)\n",
    "#asos_snotel_UA_df['2009':'2017'][good_vars_sfc][idx_train]\n",
    "print(len(asos_snotel_UA_df['2009':'2017']['LXV_Pressure_hp'][idx_train]))\n",
    "sns.regplot(asos_snotel_UA_df['2009':'2017']['LXV_Pressure_hp'][idx_train], asos_snotel_UA_df['2009':'2017']['CMtnSNTL_Upcoming12hrSNOWFALL_gte3_in'][idx_train])\n",
    "plt.grid(True)"
   ]
  },
  {
   "cell_type": "code",
   "execution_count": 72,
   "metadata": {},
   "outputs": [
    {
     "name": "stdout",
     "output_type": "stream",
     "text": [
      "74\n"
     ]
    },
    {
     "data": {
      "image/png": "[encoded data removed]",
      "text/plain": [
       "<Figure size 432x288 with 1 Axes>"
      ]
     },
     "metadata": {},
     "output_type": "display_data"
    }
   ],
   "source": [
    "print(len(asos_snotel_UA_df['2006':'2008']['CMtn_Dewpoint_degC'][idx_test]))\n",
    "sns.regplot(asos_snotel_UA_df['2006':'2008']['CMtn_Dewpoint_degC'][idx_test], asos_snotel_UA_df['2006':'2008']['CMtnSNTL_Upcoming12hrSNOWFALL_gte3_in'][idx_test])\n",
    "plt.grid(True)"
   ]
  }
 ],
 "metadata": {
  "kernelspec": {
   "display_name": "Python 3",
   "language": "python",
   "name": "python3"
  },
  "language_info": {
   "codemirror_mode": {
    "name": "ipython",
    "version": 3
   },
   "file_extension": ".py",
   "mimetype": "text/x-python",
   "name": "python",
   "nbconvert_exporter": "python",
   "pygments_lexer": "ipython3",
   "version": "3.6.5"
  }
 },
 "nbformat": 4,
 "nbformat_minor": 2
}
