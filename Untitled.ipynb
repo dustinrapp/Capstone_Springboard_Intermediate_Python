{
 "cells": [
  {
   "cell_type": "code",
   "execution_count": null,
   "metadata": {},
   "outputs": [],
   "source": [
    "Project: Capstone Project - Inferential Statistics 2 - 6 Hours\n",
    "\n",
    "At this point, you have obtained the data set for your Capstone project, cleaned and wrangled it into a form that's ready for analysis. It's now time to apply the inferential statistics techniques you have learned to explore the data. For example, are there variables that are particularly significant in terms of explaining the answer to your project question? Are there strong correlations between pairs of independent variables, or between an independent and a dependent variable? Submission: Write a short report (1-2 pages) on the inferential statistics steps you performed and your findings. Check this report into your github and submit a link to it. Eventually, this report can be incorporated into your Milestone report.\n",
    "\n",
    "def rose_axis_settings(ax):\n",
    "    ax.set_theta_direction('clockwise')\n",
    "    ax.set_theta_zero_location('N')\n",
    "    ax.set_xticklabels(['', '', 'E', '', 'S', '', 'W', ''])\n",
    "    ax.set_yticklabels('')\n",
    "\n",
    "fig = plt.figure(figsize=[12,6])\n",
    "ax1 = fig.add_subplot(121, projection='polar')\n",
    "ax2 = fig.add_subplot(122, projection='polar')\n",
    "ax1.bar(np.radians(energy_wind_roses.index.values), energy_wind_roses.dir, width=np.radians(360.0/energy_wind_roses.shape[0]+1), color=edf_green)\n",
    "ax2.bar(np.radians(energy_wind_roses.index.values), energy_wind_roses.energy, width=np.radians(360.0/energy_wind_roses.shape[0]+1), color=edf_blue)\n",
    "[rose_axis_settings(ax) for ax in [ax1,ax2]]\n",
    "ax1.set_title('Wind Rose')\n",
    "ax2.set_title('Energy Rose')\n",
    "plt.tight_layout()\n",
    "plt.show()"
   ]
  },
  {
   "cell_type": "markdown",
   "metadata": {},
   "source": [
    "**Import necessary modules and the ASOS/SNOTEL dataframes**"
   ]
  },
  {
   "cell_type": "code",
   "execution_count": null,
   "metadata": {},
   "outputs": [],
   "source": [
    "import pandas as pd\n",
    "import matplotlib.pyplot as plt\n",
    "import numpy as np\n",
    "import datetime as dtb\n",
    "import os\n",
    "from glob import glob\n",
    "import datetime as dt"
   ]
  },
  {
   "cell_type": "code",
   "execution_count": null,
   "metadata": {},
   "outputs": [],
   "source": [
    "data = [pd.read_csv('asos_df.dat', parse_dates = True, index_col = 'Date_Time')]\n",
    "asos_df= pd.concat(data)\n",
    "print(asos_df.head())\n",
    "\n",
    "data = [pd.read_csv('snotel_df.dat', parse_dates = True, index_col = 'Date_Time')]\n",
    "snotel_df= pd.concat(data)\n",
    "print(snotel_df.head())"
   ]
  },
  {
   "cell_type": "code",
   "execution_count": null,
   "metadata": {},
   "outputs": [],
   "source": []
  }
 ],
 "metadata": {
  "kernelspec": {
   "display_name": "Python 3",
   "language": "python",
   "name": "python3"
  },
  "language_info": {
   "codemirror_mode": {
    "name": "ipython",
    "version": 3
   },
   "file_extension": ".py",
   "mimetype": "text/x-python",
   "name": "python",
   "nbconvert_exporter": "python",
   "pygments_lexer": "ipython3",
   "version": "3.6.5"
  }
 },
 "nbformat": 4,
 "nbformat_minor": 2
}
