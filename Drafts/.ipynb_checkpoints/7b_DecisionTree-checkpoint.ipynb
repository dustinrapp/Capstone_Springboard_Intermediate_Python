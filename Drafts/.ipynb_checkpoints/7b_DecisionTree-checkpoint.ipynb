{
 "cells": [
  {
   "cell_type": "markdown",
   "metadata": {},
   "source": [
    "## Data Prep"
   ]
  },
  {
   "cell_type": "markdown",
   "metadata": {},
   "source": [
    "**Import necessary modules and the ASOS/SNOTEL dataframes**"
   ]
  },
  {
   "cell_type": "code",
   "execution_count": 1,
   "metadata": {},
   "outputs": [
    {
     "name": "stdout",
     "output_type": "stream",
     "text": [
      "\n",
      "INSTALLED VERSIONS\n",
      "------------------\n",
      "commit: None\n",
      "python: 3.6.5.final.0\n",
      "python-bits: 32\n",
      "OS: Windows\n",
      "OS-release: 10\n",
      "machine: AMD64\n",
      "processor: Intel64 Family 6 Model 142 Stepping 9, GenuineIntel\n",
      "byteorder: little\n",
      "LC_ALL: None\n",
      "LANG: en_US.UTF-8\n",
      "LOCALE: None.None\n",
      "\n",
      "pandas: 0.24.0\n",
      "pytest: None\n",
      "pip: 18.1\n",
      "setuptools: 39.0.1\n",
      "Cython: None\n",
      "numpy: 1.14.3\n",
      "scipy: 1.1.0\n",
      "pyarrow: None\n",
      "xarray: None\n",
      "IPython: 6.4.0\n",
      "sphinx: None\n",
      "patsy: 0.5.1\n",
      "dateutil: 2.7.3\n",
      "pytz: 2018.4\n",
      "blosc: None\n",
      "bottleneck: None\n",
      "tables: None\n",
      "numexpr: None\n",
      "feather: None\n",
      "matplotlib: 2.2.2\n",
      "openpyxl: None\n",
      "xlrd: None\n",
      "xlwt: None\n",
      "xlsxwriter: None\n",
      "lxml.etree: 4.2.5\n",
      "bs4: None\n",
      "html5lib: 1.0.1\n",
      "sqlalchemy: None\n",
      "pymysql: None\n",
      "psycopg2: None\n",
      "jinja2: 2.10\n",
      "s3fs: None\n",
      "fastparquet: None\n",
      "pandas_gbq: None\n",
      "pandas_datareader: None\n",
      "gcsfs: None\n"
     ]
    },
    {
     "data": {
      "text/plain": [
       "'c:\\\\users\\\\rapp\\\\appdata\\\\local\\\\programs\\\\python\\\\python36-32\\\\python.exe'"
      ]
     },
     "execution_count": 1,
     "metadata": {},
     "output_type": "execute_result"
    }
   ],
   "source": [
    "import pandas as pd\n",
    "import matplotlib.pyplot as plt\n",
    "import numpy as np\n",
    "import datetime as dtb\n",
    "import os\n",
    "from glob import glob\n",
    "import datetime as dt\n",
    "import seaborn as sns\n",
    "pd.show_versions()\n",
    "import sys\n",
    "import graphviz\n",
    "sys.executable\n",
    "#import graphviz"
   ]
  },
  {
   "cell_type": "code",
   "execution_count": 2,
   "metadata": {},
   "outputs": [
    {
     "name": "stdout",
     "output_type": "stream",
     "text": [
      "Index(['CMtnSNTL_Temp_degC', 'CMtnSNTL_SnowDepth_in', 'CMtn_Temperature_degC',\n",
      "       'CMtn_Dewpoint_degC', 'CMtn_WindDirection_deg', 'CMtn_WindSpeed_mps',\n",
      "       'CMtn_CloudCover_oktas', 'CMtn_1hr_Precipitation_mm',\n",
      "       'LXV_Temperature_degC', 'LXV_Dewpoint_degC',\n",
      "       ...\n",
      "       'KGJT_d300_200_height_m', 'KGJT_d300_200_tmpc', 'KGJT_d300_200_dwpc',\n",
      "       'KGJT_d300_200_drct', 'KGJT_d300_200_speed_kts',\n",
      "       'KGJT_d250_200_height_m', 'KGJT_d250_200_tmpc', 'KGJT_d250_200_dwpc',\n",
      "       'KGJT_d250_200_drct', 'KGJT_d250_200_speed_kts'],\n",
      "      dtype='object', length=163)\n"
     ]
    }
   ],
   "source": [
    "data = [pd.read_csv('asos_snotel_UA_12hr_df.dat', parse_dates = True, index_col = 'Date_Time')]\n",
    "asos_snotel_UA_df = pd.concat(data)\n",
    "#asos_snotel_UA_df['LXV_WindSpeed_m/s']\n",
    "\n",
    "#asos_snotel_UA_df.rename(columns={'LXV_WindSpeed_m/s': 'LXV_WindSpeed_mps'}, inplace=True)\n",
    "\n",
    "asos_snotel_UA_df.astype('float16')\n",
    "pd.set_option('display.expand_frame_repr', True)\n",
    "\n",
    "\n",
    "print(asos_snotel_UA_df.keys())\n",
    "\n",
    "\n",
    "\n",
    "\n",
    "#delete empty columns as they mess up loops\n",
    "#del asos_snotel_UA_df['CMtn_6hr_Precipitation_mm']            #empty column\n"
   ]
  },
  {
   "cell_type": "markdown",
   "metadata": {},
   "source": [
    "It is important to keep in mind that 'CMtnSNTL_12hr_SNWD_in contains snow depth info taken at the start of the respective 12hr period timestamp.  The snowfall calculated also gives the snowfall that fell in the 12hrs after the timestamp.  The model will utilize hourly meteorological measurements at exactly 00:00 and 12:00 hours to predict the amount of snow which will fall in the next 12 hour period.  For example, the 00:00 meteorological measurements will be used to predict the snow which fell between 00:00 and 12:00."
   ]
  },
  {
   "cell_type": "markdown",
   "metadata": {},
   "source": [
    "# Decision Tree with Surface and Upper Air Features"
   ]
  },
  {
   "cell_type": "markdown",
   "metadata": {},
   "source": [
    "### Now identify variables which have good data capture"
   ]
  },
  {
   "cell_type": "code",
   "execution_count": 3,
   "metadata": {},
   "outputs": [
    {
     "name": "stdout",
     "output_type": "stream",
     "text": [
      "Variables with >= 67% data match to snowfall: \n",
      "['CMtnSNTL_Temp_degC', 'CMtn_Temperature_degC', 'CMtn_Dewpoint_degC', 'CMtn_WindDirection_deg', 'CMtn_WindSpeed_mps', 'LXV_Temperature_degC', 'LXV_Dewpoint_degC', 'LXV_Pressure_hp', 'LXV_WindSpeed_mps', 'LXV_WindDirection_deg', 'LXV_12hr_delta_Pressure_hp', 'KGJT_200mb_height_m', 'KGJT_200mb_tmpc', 'KGJT_200mb_dwpc', 'KGJT_200mb_drct', 'KGJT_200mb_speed_kts', 'KGJT_250mb_height_m', 'KGJT_250mb_tmpc', 'KGJT_250mb_dwpc', 'KGJT_250mb_drct', 'KGJT_250mb_speed_kts', 'KGJT_300mb_height_m', 'KGJT_300mb_tmpc', 'KGJT_300mb_dwpc', 'KGJT_300mb_drct', 'KGJT_300mb_speed_kts', 'KGJT_400mb_height_m', 'KGJT_400mb_tmpc', 'KGJT_400mb_dwpc', 'KGJT_400mb_drct', 'KGJT_400mb_speed_kts', 'KGJT_500mb_height_m', 'KGJT_500mb_tmpc', 'KGJT_500mb_dwpc', 'KGJT_500mb_drct', 'KGJT_500mb_speed_kts', 'KGJT_700mb_height_m', 'KGJT_700mb_tmpc', 'KGJT_700mb_dwpc', 'KGJT_700mb_drct', 'KGJT_700mb_speed_kts', 'KGJT_850mb_height_m', 'KGJT_d850_700_height_m', 'KGJT_d850_500_height_m', 'KGJT_d850_400_height_m', 'KGJT_d850_300_height_m', 'KGJT_d850_250_height_m', 'KGJT_d850_200_height_m', 'KGJT_d700_500_height_m', 'KGJT_d700_500_tmpc', 'KGJT_d700_500_dwpc', 'KGJT_d700_500_drct', 'KGJT_d700_500_speed_kts', 'KGJT_d700_400_height_m', 'KGJT_d700_400_tmpc', 'KGJT_d700_400_dwpc', 'KGJT_d700_400_drct', 'KGJT_d700_400_speed_kts', 'KGJT_d700_300_height_m', 'KGJT_d700_300_tmpc', 'KGJT_d700_300_dwpc', 'KGJT_d700_300_drct', 'KGJT_d700_300_speed_kts', 'KGJT_d700_250_height_m', 'KGJT_d700_250_tmpc', 'KGJT_d700_250_dwpc', 'KGJT_d700_250_drct', 'KGJT_d700_250_speed_kts', 'KGJT_d700_200_height_m', 'KGJT_d700_200_tmpc', 'KGJT_d700_200_dwpc', 'KGJT_d700_200_drct', 'KGJT_d700_200_speed_kts', 'KGJT_d500_400_height_m', 'KGJT_d500_400_tmpc', 'KGJT_d500_400_dwpc', 'KGJT_d500_400_drct', 'KGJT_d500_400_speed_kts', 'KGJT_d500_300_height_m', 'KGJT_d500_300_tmpc', 'KGJT_d500_300_dwpc', 'KGJT_d500_300_drct', 'KGJT_d500_300_speed_kts', 'KGJT_d500_250_height_m', 'KGJT_d500_250_tmpc', 'KGJT_d500_250_dwpc', 'KGJT_d500_250_drct', 'KGJT_d500_250_speed_kts', 'KGJT_d500_200_height_m', 'KGJT_d500_200_tmpc', 'KGJT_d500_200_dwpc', 'KGJT_d500_200_drct', 'KGJT_d500_200_speed_kts', 'KGJT_d400_300_height_m', 'KGJT_d400_300_tmpc', 'KGJT_d400_300_dwpc', 'KGJT_d400_300_drct', 'KGJT_d400_300_speed_kts', 'KGJT_d400_250_height_m', 'KGJT_d400_250_tmpc', 'KGJT_d400_250_dwpc', 'KGJT_d400_250_drct', 'KGJT_d400_250_speed_kts', 'KGJT_d400_200_height_m', 'KGJT_d400_200_tmpc', 'KGJT_d400_200_dwpc', 'KGJT_d400_200_drct', 'KGJT_d400_200_speed_kts', 'KGJT_d300_250_height_m', 'KGJT_d300_250_tmpc', 'KGJT_d300_250_dwpc', 'KGJT_d300_250_drct', 'KGJT_d300_250_speed_kts', 'KGJT_d300_200_height_m', 'KGJT_d300_200_tmpc', 'KGJT_d300_200_dwpc', 'KGJT_d300_200_drct', 'KGJT_d300_200_speed_kts', 'KGJT_d250_200_height_m', 'KGJT_d250_200_tmpc', 'KGJT_d250_200_dwpc', 'KGJT_d250_200_drct', 'KGJT_d250_200_speed_kts']\n",
      "Variables with < 67% data match to snowfall: \n",
      "['CMtn_CloudCover_oktas', 'LXV_CloudCover_oktas', 'KGJT_850mb_tmpc', 'KGJT_850mb_dwpc', 'KGJT_850mb_drct', 'KGJT_850mb_speed_kts', 'KGJT_d850_700_tmpc', 'KGJT_d850_700_dwpc', 'KGJT_d850_700_drct', 'KGJT_d850_700_speed_kts', 'KGJT_d850_500_tmpc', 'KGJT_d850_500_dwpc', 'KGJT_d850_500_drct', 'KGJT_d850_500_speed_kts', 'KGJT_d850_400_tmpc', 'KGJT_d850_400_dwpc', 'KGJT_d850_400_drct', 'KGJT_d850_400_speed_kts', 'KGJT_d850_300_tmpc', 'KGJT_d850_300_dwpc', 'KGJT_d850_300_drct', 'KGJT_d850_300_speed_kts', 'KGJT_d850_250_tmpc', 'KGJT_d850_250_dwpc', 'KGJT_d850_250_drct', 'KGJT_d850_250_speed_kts', 'KGJT_d850_200_tmpc', 'KGJT_d850_200_dwpc', 'KGJT_d850_200_drct', 'KGJT_d850_200_speed_kts']\n"
     ]
    }
   ],
   "source": [
    "variables = ['CMtnSNTL_Temp_degC', 'CMtn_Temperature_degC', 'CMtn_Dewpoint_degC', 'CMtn_WindDirection_deg', 'CMtn_WindSpeed_mps', 'CMtn_CloudCover_oktas', \\\n",
    " 'LXV_Temperature_degC', 'LXV_Dewpoint_degC', 'LXV_Pressure_hp', 'LXV_WindSpeed_mps', 'LXV_WindDirection_deg', 'LXV_CloudCover_oktas', 'LXV_12hr_delta_Pressure_hp', \\\n",
    " 'KGJT_200mb_height_m', 'KGJT_200mb_tmpc', 'KGJT_200mb_dwpc', 'KGJT_200mb_drct', 'KGJT_200mb_speed_kts', \\\n",
    " 'KGJT_250mb_height_m', 'KGJT_250mb_tmpc', 'KGJT_250mb_dwpc', 'KGJT_250mb_drct', 'KGJT_250mb_speed_kts', \\\n",
    " 'KGJT_300mb_height_m', 'KGJT_300mb_tmpc', 'KGJT_300mb_dwpc', 'KGJT_300mb_drct', 'KGJT_300mb_speed_kts', \\\n",
    " 'KGJT_400mb_height_m', 'KGJT_400mb_tmpc', 'KGJT_400mb_dwpc', 'KGJT_400mb_drct', 'KGJT_400mb_speed_kts', \\\n",
    " 'KGJT_500mb_height_m', 'KGJT_500mb_tmpc', 'KGJT_500mb_dwpc', 'KGJT_500mb_drct', 'KGJT_500mb_speed_kts', \\\n",
    " 'KGJT_700mb_height_m', 'KGJT_700mb_tmpc', 'KGJT_700mb_dwpc', 'KGJT_700mb_drct', 'KGJT_700mb_speed_kts', \\\n",
    " 'KGJT_850mb_height_m', 'KGJT_850mb_tmpc', 'KGJT_850mb_dwpc', 'KGJT_850mb_drct', 'KGJT_850mb_speed_kts', \\\n",
    " 'KGJT_d850_700_height_m', 'KGJT_d850_700_tmpc', 'KGJT_d850_700_dwpc', 'KGJT_d850_700_drct', 'KGJT_d850_700_speed_kts', \\\n",
    " 'KGJT_d850_500_height_m', 'KGJT_d850_500_tmpc', 'KGJT_d850_500_dwpc', 'KGJT_d850_500_drct', 'KGJT_d850_500_speed_kts', \\\n",
    " 'KGJT_d850_400_height_m', 'KGJT_d850_400_tmpc', 'KGJT_d850_400_dwpc', 'KGJT_d850_400_drct', 'KGJT_d850_400_speed_kts', \\\n",
    " 'KGJT_d850_300_height_m', 'KGJT_d850_300_tmpc', 'KGJT_d850_300_dwpc', 'KGJT_d850_300_drct', 'KGJT_d850_300_speed_kts', \\\n",
    " 'KGJT_d850_250_height_m', 'KGJT_d850_250_tmpc', 'KGJT_d850_250_dwpc', 'KGJT_d850_250_drct', 'KGJT_d850_250_speed_kts', \\\n",
    " 'KGJT_d850_200_height_m', 'KGJT_d850_200_tmpc', 'KGJT_d850_200_dwpc', 'KGJT_d850_200_drct', 'KGJT_d850_200_speed_kts',\\\n",
    " 'KGJT_d700_500_height_m', 'KGJT_d700_500_tmpc', 'KGJT_d700_500_dwpc', 'KGJT_d700_500_drct', 'KGJT_d700_500_speed_kts', \\\n",
    " 'KGJT_d700_400_height_m', 'KGJT_d700_400_tmpc', 'KGJT_d700_400_dwpc', 'KGJT_d700_400_drct', 'KGJT_d700_400_speed_kts', \\\n",
    " 'KGJT_d700_300_height_m', 'KGJT_d700_300_tmpc', 'KGJT_d700_300_dwpc', 'KGJT_d700_300_drct', 'KGJT_d700_300_speed_kts', \\\n",
    " 'KGJT_d700_250_height_m', 'KGJT_d700_250_tmpc', 'KGJT_d700_250_dwpc', 'KGJT_d700_250_drct', 'KGJT_d700_250_speed_kts', \\\n",
    " 'KGJT_d700_200_height_m', 'KGJT_d700_200_tmpc', 'KGJT_d700_200_dwpc', 'KGJT_d700_200_drct', 'KGJT_d700_200_speed_kts', \\\n",
    " 'KGJT_d500_400_height_m', 'KGJT_d500_400_tmpc', 'KGJT_d500_400_dwpc', 'KGJT_d500_400_drct', 'KGJT_d500_400_speed_kts', \\\n",
    " 'KGJT_d500_300_height_m', 'KGJT_d500_300_tmpc', 'KGJT_d500_300_dwpc', 'KGJT_d500_300_drct', 'KGJT_d500_300_speed_kts', \\\n",
    " 'KGJT_d500_250_height_m', 'KGJT_d500_250_tmpc', 'KGJT_d500_250_dwpc', 'KGJT_d500_250_drct', 'KGJT_d500_250_speed_kts', \\\n",
    " 'KGJT_d500_200_height_m', 'KGJT_d500_200_tmpc', 'KGJT_d500_200_dwpc', 'KGJT_d500_200_drct', 'KGJT_d500_200_speed_kts', \\\n",
    " 'KGJT_d400_300_height_m', 'KGJT_d400_300_tmpc', 'KGJT_d400_300_dwpc', 'KGJT_d400_300_drct', 'KGJT_d400_300_speed_kts', \\\n",
    " 'KGJT_d400_250_height_m', 'KGJT_d400_250_tmpc', 'KGJT_d400_250_dwpc', 'KGJT_d400_250_drct', 'KGJT_d400_250_speed_kts', \\\n",
    " 'KGJT_d400_200_height_m', 'KGJT_d400_200_tmpc', 'KGJT_d400_200_dwpc', 'KGJT_d400_200_drct', 'KGJT_d400_200_speed_kts', \\\n",
    " 'KGJT_d300_250_height_m', 'KGJT_d300_250_tmpc', 'KGJT_d300_250_dwpc', 'KGJT_d300_250_drct', 'KGJT_d300_250_speed_kts', \\\n",
    " 'KGJT_d300_200_height_m', 'KGJT_d300_200_tmpc', 'KGJT_d300_200_dwpc', 'KGJT_d300_200_drct', 'KGJT_d300_200_speed_kts', \\\n",
    " 'KGJT_d250_200_height_m', 'KGJT_d250_200_tmpc', 'KGJT_d250_200_dwpc', 'KGJT_d250_200_drct', 'KGJT_d250_200_speed_kts']\n",
    "\n",
    "good_vars_sfcua = []\n",
    "bad_vars_sfcua = []\n",
    "for var in variables:\n",
    "    idx = np.isfinite(asos_snotel_UA_df['2009':'2017']['CMtnSNTL_Upcoming12hrSNOWFALL_gte3_in']) & np.isfinite(asos_snotel_UA_df['2009':'2017'][var])\n",
    "    total_poss = len(asos_snotel_UA_df['2009':'2017']['CMtnSNTL_Upcoming12hrSNOWFALL_gte3_in'][asos_snotel_UA_df['2009':'2017']['CMtnSNTL_Upcoming12hrSNOWFALL_gte3_in']>=0])\n",
    "    total_avail =len(asos_snotel_UA_df['2009':'2017'][idx])\n",
    "    if total_avail/total_poss >= 0.67: \n",
    "        good_vars_sfcua.append(var)\n",
    "    else:\n",
    "        bad_vars_sfcua.append(var)\n",
    "        \n",
    "print('Variables with >= 67% data match to snowfall: ')\n",
    "print(good_vars_sfcua )\n",
    "print('Variables with < 67% data match to snowfall: ')\n",
    "print(bad_vars_sfcua )"
   ]
  },
  {
   "cell_type": "markdown",
   "metadata": {},
   "source": [
    "### Set up test data"
   ]
  },
  {
   "cell_type": "code",
   "execution_count": 4,
   "metadata": {},
   "outputs": [
    {
     "name": "stdout",
     "output_type": "stream",
     "text": [
      "[[-3.2, -7.0, -8.0, 340.0, 5.1, -4.4, -7.2, 993.4, 2.6, 70.0, -5.2, 11750.0, -45.1, -51.1, 265.0, 35.0, 10260.0, -44.1, -49.1, 265.0, 24.0, 9050.0, -45.1, -49.5, 250.0, 25.0, 7100.0, -33.9, -37.1, 245.0, 4.0, 5490.0, -21.3, -23.4, 270.0, 24.0, 2921.0, -4.7, -5.4, 260.0, 36.0, 1364.0, -1557.0, -4126.0, -5736.0, -7686.0, -8896.0, -10386.0, -2569.0, 16.6, 18.0, -10.0, 12.0, -4179.0, 29.2, 31.7, 15.0, 32.0, -6129.0, 40.4, 44.1, 10.0, 11.0, -7339.0, 39.4, 43.7, -5.0, 12.0, -8829.0, 40.4, 45.7, -5.0, 1.0, -1610.0, 12.6, 13.7, 25.0, 20.0, -3560.0, 23.8, 26.1, 20.0, -1.0, -4770.0, 22.8, 25.7, 5.0, 0.0, -6260.0, 23.8, 27.7, 5.0, -11.0, -1950.0, 11.2, 12.4, -5.0, -21.0, -3160.0, 10.2, 12.0, -20.0, -20.0, -4650.0, 11.2, 14.0, -20.0, -31.0, -1210.0, -1.0, -0.4, -15.0, 1.0, -2700.0, 0.0, 1.6, -15.0, -10.0, -1490.0, 1.0, 2.0, 0.0, -11.0], [-8.2, -9.0, -12.0, 290.0, 7.7, -7.0, -9.0, 1004.3, 1.5, 180.0, -5.4, 11730.0, -53.5, -73.5, 285.0, 60.0, 10280.0, -49.5, -69.5, 290.0, 62.0, 9080.0, -44.7, -63.7, 300.0, 70.0, 7110.0, -36.1, -44.1, 300.0, 60.0, 5530.0, -25.1, -26.9, 285.0, 39.0, 3001.0, -8.1, -9.0, 310.0, 25.0, 1472.0, -1529.0, -4058.0, -5638.0, -7608.0, -8808.0, -10258.0, -2529.0, 17.0, 17.9, 25.0, -14.0, -4109.0, 28.0, 35.1, 10.0, -35.0, -6079.0, 36.6, 54.7, 10.0, -45.0, -7279.0, 41.4, 60.5, 20.0, -37.0, -8729.0, 45.4, 64.5, 25.0, -35.0, -1580.0, 11.0, 17.2, -15.0, -21.0, -3550.0, 19.6, 36.8, -15.0, -31.0, -4750.0, 24.4, 42.6, -5.0, -23.0, -6200.0, 28.4, 46.6, 0.0, -21.0, -1970.0, 8.6, 19.6, 0.0, -10.0, -3170.0, 13.4, 25.4, 10.0, -2.0, -4620.0, 17.4, 29.4, 15.0, 0.0, -1200.0, 4.8, 5.8, 10.0, 8.0, -2650.0, 8.8, 9.8, 15.0, 10.0, -1450.0, 4.0, 4.0, 5.0, 2.0], [-8.0, -9.0, -12.0, 310.0, 7.7, -7.2, -11.1, 1022.6, 1.5, 10.0, -2.4, 11800.0, -63.9, -68.9, 305.0, 64.0, 10420.0, -56.9, -61.5, 305.0, 71.0, 9250.0, -48.3, -53.3, 300.0, 50.0, 7280.0, -31.5, -35.4, 295.0, 44.0, 5660.0, -20.3, -21.5, 295.0, 35.0, 3076.0, -6.3, -12.3, 250.0, 12.0, 1547.0, -1529.0, -4113.0, -5733.0, -7703.0, -8873.0, -10253.0, -2584.0, 14.0, 9.2, -45.0, -23.0, -4204.0, 25.2, 23.1, -45.0, -32.0, -6174.0, 42.0, 41.0, -50.0, -38.0, -7344.0, 50.6, 49.2, -55.0, -59.0, -8724.0, 57.6, 56.6, -55.0, -52.0, -1620.0, 11.2, 13.9, 0.0, -9.0, -3590.0, 28.0, 31.8, -5.0, -15.0, -4760.0, 36.6, 40.0, -10.0, -36.0, -6140.0, 43.6, 47.4, -10.0, -29.0, -1970.0, 16.8, 17.9, -5.0, -6.0, -3140.0, 25.4, 26.1, -10.0, -27.0, -4520.0, 32.4, 33.5, -10.0, -20.0, -1170.0, 8.6, 8.2, -5.0, -21.0, -2550.0, 15.6, 15.6, -5.0, -14.0, -1380.0, 7.0, 7.4, 0.0, 7.0], [-9.7, -14.0, -17.0, 320.0, 2.6, -7.8, -19.4, 1014.0, 6.2, 10.0, 1.3, 11700.0, -61.3, -65.5, 295.0, 72.0, 10320.0, -58.7, -62.1, 290.0, 71.0, 9150.0, -48.7, -52.1, 295.0, 74.0, 7190.0, -32.3, -34.8, 290.0, 61.0, 5580.0, -21.1, -22.8, 290.0, 50.0, 3028.0, -9.9, -19.9, 230.0, 26.0, 1504.0, -1524.0, -4076.0, -5686.0, -7646.0, -8816.0, -10196.0, -2552.0, 11.2, 2.9, -60.0, -24.0, -4162.0, 22.4, 14.9, -60.0, -35.0, -6122.0, 38.8, 32.2, -65.0, -48.0, -7292.0, 48.8, 42.2, -60.0, -45.0, -8672.0, 51.4, 45.6, -65.0, -46.0, -1610.0, 11.2, 12.0, 0.0, -11.0, -3570.0, 27.6, 29.3, -5.0, -24.0, -4740.0, 37.6, 39.3, 0.0, -21.0, -6120.0, 40.2, 42.7, -5.0, -22.0, -1960.0, 16.4, 17.3, -5.0, -13.0, -3130.0, 26.4, 27.3, 0.0, -10.0, -4510.0, 29.0, 30.7, -5.0, -11.0, -1170.0, 10.0, 10.0, 5.0, 3.0, -2550.0, 12.6, 13.4, 0.0, 2.0, -1380.0, 2.6, 3.4, -5.0, -1.0], [-4.3, -8.0, -10.0, 290.0, 10.8, -4.0, -8.0, 1006.7, 6.2, 350.0, -1.9, 11790.0, -55.5, -71.5, 305.0, 73.0, 10370.0, -53.3, -68.3, 300.0, 71.0, 9180.0, -46.5, -61.5, 310.0, 83.0, 7210.0, -30.7, -49.7, 295.0, 67.0, 5590.0, -20.1, -36.1, 300.0, 54.0, 3014.0, -4.1, -7.2, 260.0, 28.0, 1452.0, -1562.0, -4138.0, -5758.0, -7728.0, -8918.0, -10338.0, -2576.0, 16.0, 28.9, -40.0, -26.0, -4196.0, 26.6, 42.5, -35.0, -39.0, -6166.0, 42.4, 54.3, -50.0, -55.0, -7356.0, 49.2, 61.1, -40.0, -43.0, -8776.0, 51.4, 64.3, -45.0, -45.0, -1620.0, 10.6, 13.6, 5.0, -13.0, -3590.0, 26.4, 25.4, -10.0, -29.0, -4780.0, 33.2, 32.2, 0.0, -17.0, -6200.0, 35.4, 35.4, -5.0, -19.0, -1970.0, 15.8, 11.8, -15.0, -16.0, -3160.0, 22.6, 18.6, -5.0, -4.0, -4580.0, 24.8, 21.8, -10.0, -6.0, -1190.0, 6.8, 6.8, 10.0, 12.0, -2610.0, 9.0, 10.0, 5.0, 10.0, -1420.0, 2.2, 3.2, -5.0, -2.0]] [5.0, 5.0, 4.0, 5.0, 7.0]\n"
     ]
    }
   ],
   "source": [
    "Xtest = []\n",
    "Xtest_feat =[]\n",
    "Ytest = []\n",
    "Ytest_actsnf = []\n",
    "idx_test = []\n",
    "\n",
    "idx_test = np.isfinite(asos_snotel_UA_df['2006':'2008']['CMtnSNTL_Upcoming12hrSNOWFALL_gte3_in'])\n",
    "for v in good_vars_sfcua:\n",
    "    idx_test = idx_test & np.isfinite(asos_snotel_UA_df['2006':'2008'][v])    \n",
    "    \n",
    "Ytest = round(asos_snotel_UA_df['CMtnSNTL_Upcoming12hrSNOWFALL_gte3_in']['2006':'2008'][idx_test],0)\n",
    "Ytest_actsnf  = Ytest.tolist()\n",
    "\n",
    "gv = pd.DataFrame()\n",
    "#gv_asos_snotel_UA_df = asos_snotel_UA_df.copy\n",
    "#gv_asos_snotel_UA_df = asos_snotel_UA_df['2009':'2017'][['LXV_Temperature_degC', 'LXV_WindSpeed_mps', 'LXV_Dewpoint_degC']][loop_idx]\n",
    "Xtest = asos_snotel_UA_df['2006':'2008'][good_vars_sfcua][idx_test].apply(lambda x: x.tolist(), axis=1)\n",
    "#testtrain2 = testlist.apply(lambda x: testtrain2.append(x))\n",
    "Xtest_feat = Xtest.tolist()\n",
    "print(Xtest_feat[0:5], Ytest_actsnf[0:5])\n"
   ]
  },
  {
   "cell_type": "markdown",
   "metadata": {},
   "source": [
    "### Set up training data with 2009-200"
   ]
  },
  {
   "cell_type": "code",
   "execution_count": 5,
   "metadata": {},
   "outputs": [
    {
     "name": "stdout",
     "output_type": "stream",
     "text": [
      "[[-6.6, -11.0, -14.0, 270.0, 15.4, -8.3, -10.0, 1011.7, 7.2, 30.0, -0.1, 11890.0, -63.7, -71.7, 335.0, 100.0, 10490.0, -53.5, -62.5, 335.0, 100.0, 9290.0, -43.1, -51.1, 330.0, 96.0, 7280.0, -25.3, -36.3, 325.0, 74.0, 5630.0, -15.3, -20.3, 320.0, 58.0, 3032.0, -6.1, -7.7, 285.0, 29.0, 1506.0, -1526.0, -4124.0, -5774.0, -7784.0, -8984.0, -10384.0, -2598.0, 9.2, 12.6, -35.0, -29.0, -4248.0, 19.2, 28.6, -40.0, -45.0, -6258.0, 37.0, 43.4, -45.0, -67.0, -7458.0, 47.4, 54.8, -50.0, -71.0, -8858.0, 57.6, 64.0, -50.0, -71.0, -1650.0, 10.0, 16.0, -5.0, -16.0, -3660.0, 27.8, 30.8, -10.0, -38.0, -4860.0, 38.2, 42.2, -15.0, -42.0, -6260.0, 48.4, 51.4, -15.0, -42.0, -2010.0, 17.8, 14.8, -5.0, -22.0, -3210.0, 28.2, 26.2, -10.0, -26.0, -4610.0, 38.4, 35.4, -10.0, -26.0, -1200.0, 10.4, 11.4, -5.0, -4.0, -2600.0, 20.6, 20.6, -5.0, -4.0, -1400.0, 10.2, 9.2, 0.0, 0.0], [-7.3, -11.0, -15.0, 270.0, 11.04, -8.0, -11.0, 1025.1, 5.7, 350.0, -4.0, 11840.0, -57.5, -68.5, 330.0, 105.0, 10440.0, -56.1, -67.1, 350.0, 88.0, 9260.0, -48.5, -60.5, 355.0, 106.0, 7310.0, -34.1, -48.1, 340.0, 62.0, 5710.0, -20.7, -40.7, 335.0, 52.0, 3132.0, -6.9, -9.8, 325.0, 23.0, 1597.0, -1535.0, -4113.0, -5713.0, -7663.0, -8843.0, -10243.0, -2578.0, 13.8, 30.9, -10.0, -29.0, -4178.0, 27.2, 38.3, -15.0, -39.0, -6128.0, 41.6, 50.7, -30.0, -83.0, -7308.0, 49.2, 57.3, -25.0, -65.0, -8708.0, 50.6, 58.7, -5.0, -82.0, -1600.0, 13.4, 7.4, -5.0, -10.0, -3550.0, 27.8, 19.8, -20.0, -54.0, -4730.0, 35.4, 26.4, -15.0, -36.0, -6130.0, 36.8, 27.8, 5.0, -53.0, -1950.0, 14.4, 12.4, -15.0, -44.0, -3130.0, 22.0, 19.0, -10.0, -26.0, -4530.0, 23.4, 20.4, 10.0, -43.0, -1180.0, 7.6, 6.6, 5.0, 18.0, -2580.0, 9.0, 8.0, 25.0, 1.0, -1400.0, 1.4, 1.4, 20.0, -17.0], [-4.2, -7.0, -10.0, 270.0, 7.7, -2.8, -6.7, 1016.0, 1.5, 133.33, 0.6, 11980.0, -50.3, -77.3, 270.0, 91.0, 10520.0, -47.1, -76.1, 270.0, 85.0, 9300.0, -42.3, -74.3, 270.0, 89.0, 7310.0, -28.9, -67.9, 270.0, 65.0, 5690.0, -19.7, -25.7, 255.0, 28.0, 3091.0, -1.9, -2.7, 235.0, 17.0, 1522.0, -1569.0, -4168.0, -5788.0, -7778.0, -8998.0, -10458.0, -2599.0, 17.8, 23.0, -20.0, -11.0, -4219.0, 27.0, 65.2, -35.0, -48.0, -6209.0, 40.4, 71.6, -35.0, -72.0, -7429.0, 45.2, 73.4, -35.0, -68.0, -8889.0, 48.4, 74.6, -35.0, -74.0, -1620.0, 9.2, 42.2, -15.0, -37.0, -3610.0, 22.6, 48.6, -15.0, -61.0, -4830.0, 27.4, 50.4, -15.0, -57.0, -6290.0, 30.6, 51.6, -15.0, -63.0, -1990.0, 13.4, 6.4, 0.0, -24.0, -3210.0, 18.2, 8.2, 0.0, -20.0, -4670.0, 21.4, 9.4, 0.0, -26.0, -1220.0, 4.8, 1.8, 0.0, 4.0, -2680.0, 8.0, 3.0, 0.0, -2.0, -1460.0, 3.2, 1.2, 0.0, -6.0], [-2.6, -5.0, -8.0, 250.0, 8.8, -1.1, -5.0, 1017.9, 2.6, 100.0, -2.9, 12040.0, -63.9, -71.9, 270.0, 99.0, 10630.0, -51.1, -60.1, 265.0, 94.0, 9420.0, -39.9, -46.9, 265.0, 92.0, 7400.0, -25.5, -33.5, 270.0, 70.0, 5740.0, -14.7, -17.0, 265.0, 52.0, 3127.0, -1.7, -3.2, 235.0, 22.0, 1544.0, -1583.0, -4196.0, -5856.0, -7876.0, -9086.0, -10496.0, -2613.0, 13.0, 13.8, -30.0, -30.0, -4273.0, 23.8, 30.3, -35.0, -48.0, -6293.0, 38.2, 43.7, -30.0, -70.0, -7503.0, 49.4, 56.9, -30.0, -72.0, -8913.0, 62.2, 68.7, -35.0, -77.0, -1660.0, 10.8, 16.5, -5.0, -18.0, -3680.0, 25.2, 29.9, 0.0, -40.0, -4890.0, 36.4, 43.1, 0.0, -42.0, -6300.0, 49.2, 54.9, -5.0, -47.0, -2020.0, 14.4, 13.4, 5.0, -22.0, -3230.0, 25.6, 26.6, 5.0, -24.0, -4640.0, 38.4, 38.4, 0.0, -29.0, -1210.0, 11.2, 13.2, 0.0, -2.0, -2620.0, 24.0, 25.0, -5.0, -7.0, -1410.0, 12.8, 11.8, -5.0, -5.0], [0.4, -3.0, -6.0, 270.0, 10.3, 0.6, -0.6, 1015.4, 2.1, 40.0, -2.5, 11990.0, -56.5, -70.5, 265.0, 92.0, 10560.0, -51.7, -64.7, 260.0, 95.0, 9360.0, -44.7, -53.7, 255.0, 77.0, 7360.0, -28.3, -36.3, 260.0, 59.0, 5720.0, -15.3, -18.5, 260.0, 62.0, 3104.0, -1.3, -2.0, 255.0, 29.0, 1528.0, -1576.0, -4192.0, -5832.0, -7832.0, -9032.0, -10462.0, -2616.0, 14.0, 16.5, -5.0, -33.0, -4256.0, 27.0, 34.3, -5.0, -30.0, -6256.0, 43.4, 51.7, 0.0, -48.0, -7456.0, 50.4, 62.7, -5.0, -66.0, -8886.0, 55.2, 68.5, -10.0, -63.0, -1640.0, 13.0, 17.8, 0.0, 3.0, -3640.0, 29.4, 35.2, 5.0, -15.0, -4840.0, 36.4, 46.2, 0.0, -33.0, -6270.0, 41.2, 52.0, -5.0, -30.0, -2000.0, 16.4, 17.4, 5.0, -18.0, -3200.0, 23.4, 28.4, 0.0, -36.0, -4630.0, 28.2, 34.2, -5.0, -33.0, -1200.0, 7.0, 11.0, -5.0, -18.0, -2630.0, 11.8, 16.8, -10.0, -15.0, -1430.0, 4.8, 5.8, -5.0, 3.0]] [4.0, 4.0, 3.0, 5.0, 4.0]\n"
     ]
    }
   ],
   "source": [
    "Xtrain = []\n",
    "Xtrain_feat =[]\n",
    "Ytrain = []\n",
    "Ytrain_actsnf = []\n",
    "idx_test = []\n",
    "\n",
    "idx_train = np.isfinite(asos_snotel_UA_df['2009':'2017']['CMtnSNTL_Upcoming12hrSNOWFALL_gte3_in'])\n",
    "for v in good_vars_sfcua:\n",
    "    idx_train = idx_train & np.isfinite(asos_snotel_UA_df['2009':'2017'][v])    \n",
    "    \n",
    "Ytrain = round(asos_snotel_UA_df['CMtnSNTL_Upcoming12hrSNOWFALL_gte3_in']['2009':'2017'][idx_train],0)\n",
    "Ytrain_actsnf = Ytrain.tolist()\n",
    "\n",
    "\n",
    "gv = pd.DataFrame()\n",
    "#gv_asos_snotel_UA_df = asos_snotel_UA_df.copy\n",
    "#gv_asos_snotel_UA_df = asos_snotel_UA_df['2009':'2017'][['LXV_Temperature_degC', 'LXV_WindSpeed_mps', 'LXV_Dewpoint_degC']][loop_idx]\n",
    "Xtrain = asos_snotel_UA_df['2009':'2017'][good_vars_sfcua][idx_train].apply(lambda x: x.tolist(), axis=1)\n",
    "#testtrain2 = testlist.apply(lambda x: testtrain2.append(x))\n",
    "Xtrain_feat = Xtrain.tolist()\n",
    "    \n",
    "print(Xtrain_feat[0:5], Ytrain_actsnf[0:5])\n",
    "\n",
    "    "
   ]
  },
  {
   "cell_type": "markdown",
   "metadata": {},
   "source": [
    "### Run model with suface features only"
   ]
  },
  {
   "cell_type": "code",
   "execution_count": 6,
   "metadata": {},
   "outputs": [
    {
     "name": "stdout",
     "output_type": "stream",
     "text": [
      "DecisionTreeClassifier(class_weight=None, criterion='gini', max_depth=3,\n",
      "            max_features=None, max_leaf_nodes=None,\n",
      "            min_impurity_decrease=0.0, min_impurity_split=None,\n",
      "            min_samples_leaf=1, min_samples_split=2,\n",
      "            min_weight_fraction_leaf=0.0, presort=False, random_state=None,\n",
      "            splitter='best')\n",
      "0.2898550724637681\n"
     ]
    },
    {
     "data": {
      "text/plain": [
       "<matplotlib.collections.PathCollection at 0xeb62ed0>"
      ]
     },
     "execution_count": 6,
     "metadata": {},
     "output_type": "execute_result"
    },
    {
     "data": {
      "image/png": "[encoded data removed]",
      "text/plain": [
       "<Figure size 432x288 with 1 Axes>"
      ]
     },
     "metadata": {},
     "output_type": "display_data"
    }
   ],
   "source": [
    "clf =[]\n",
    "Y_predsnf = []\n",
    "\n",
    "from sklearn import tree\n",
    "clf = tree.DecisionTreeClassifier(max_depth=3)\n",
    "clf = clf.fit(Xtrain_feat, Ytrain_actsnf)\n",
    "\n",
    "print(clf)\n",
    "\n",
    "# Predict test set labels\n",
    "Y_predsnf = clf.predict(Xtest_feat)\n",
    "# Evaluate test-set accuracy\n",
    "\n",
    "\n",
    "from sklearn.metrics import accuracy_score\n",
    "print(accuracy_score(Ytest_actsnf, Y_predsnf))\n",
    "#plt.plot(Ytestlist-y_pred) \n",
    "\n",
    "\n",
    "plt.scatter(Y_predsnf, Ytest_actsnf-Y_predsnf)"
   ]
  },
  {
   "cell_type": "code",
   "execution_count": 8,
   "metadata": {},
   "outputs": [
    {
     "data": {
      "image/svg+xml": [
       "<?xml version=\"1.0\" encoding=\"UTF-8\" standalone=\"no\"?>\r\n",
       "<!DOCTYPE svg PUBLIC \"-//W3C//DTD SVG 1.1//EN\"\r\n",
       " \"http://www.w3.org/Graphics/SVG/1.1/DTD/svg11.dtd\">\r\n",
       "<!-- Generated by graphviz version 2.38.0 (20140413.2041)\r\n",
       " -->\r\n",
       "<!-- Title: Tree Pages: 1 -->\r\n",
       "<svg width=\"2028pt\" height=\"373pt\"\r\n",
       " viewBox=\"0.00 0.00 2027.50 373.00\" xmlns=\"http://www.w3.org/2000/svg\" xmlns:xlink=\"http://www.w3.org/1999/xlink\">\r\n",
       "<g id=\"graph0\" class=\"graph\" transform=\"scale(1 1) rotate(0) translate(4 369)\">\r\n",
       "<title>Tree</title>\r\n",
       "<polygon fill=\"white\" stroke=\"none\" points=\"-4,4 -4,-369 2023.5,-369 2023.5,4 -4,4\"/>\r\n",
       "<!-- 0 -->\r\n",
       "<g id=\"node1\" class=\"node\"><title>0</title>\r\n",
       "<polygon fill=\"none\" stroke=\"black\" points=\"1138,-365 878,-365 878,-297 1138,-297 1138,-365\"/>\r\n",
       "<text text-anchor=\"middle\" x=\"1008\" y=\"-349.8\" font-family=\"Times New Roman,serif\" font-size=\"14.00\">X[35] &lt;= 29.5</text>\r\n",
       "<text text-anchor=\"middle\" x=\"1008\" y=\"-334.8\" font-family=\"Times New Roman,serif\" font-size=\"14.00\">gini = 0.779</text>\r\n",
       "<text text-anchor=\"middle\" x=\"1008\" y=\"-319.8\" font-family=\"Times New Roman,serif\" font-size=\"14.00\">samples = 144</text>\r\n",
       "<text text-anchor=\"middle\" x=\"1008\" y=\"-304.8\" font-family=\"Times New Roman,serif\" font-size=\"14.00\">value = [50, 35, 23, 16, 3, 7, 3, 1, 2, 2, 1, 1]</text>\r\n",
       "</g>\r\n",
       "<!-- 1 -->\r\n",
       "<g id=\"node2\" class=\"node\"><title>1</title>\r\n",
       "<polygon fill=\"none\" stroke=\"black\" points=\"934,-261 694,-261 694,-193 934,-193 934,-261\"/>\r\n",
       "<text text-anchor=\"middle\" x=\"814\" y=\"-245.8\" font-family=\"Times New Roman,serif\" font-size=\"14.00\">X[28] &lt;= &#45;38.6</text>\r\n",
       "<text text-anchor=\"middle\" x=\"814\" y=\"-230.8\" font-family=\"Times New Roman,serif\" font-size=\"14.00\">gini = 0.579</text>\r\n",
       "<text text-anchor=\"middle\" x=\"814\" y=\"-215.8\" font-family=\"Times New Roman,serif\" font-size=\"14.00\">samples = 36</text>\r\n",
       "<text text-anchor=\"middle\" x=\"814\" y=\"-200.8\" font-family=\"Times New Roman,serif\" font-size=\"14.00\">value = [22, 6, 3, 4, 0, 0, 0, 1, 0, 0, 0, 0]</text>\r\n",
       "</g>\r\n",
       "<!-- 0&#45;&gt;1 -->\r\n",
       "<g id=\"edge1\" class=\"edge\"><title>0&#45;&gt;1</title>\r\n",
       "<path fill=\"none\" stroke=\"black\" d=\"M945.014,-296.884C926.198,-286.991 905.427,-276.07 886.076,-265.895\"/>\r\n",
       "<polygon fill=\"black\" stroke=\"black\" points=\"887.482,-262.681 877.002,-261.125 884.224,-268.876 887.482,-262.681\"/>\r\n",
       "<text text-anchor=\"middle\" x=\"884.422\" y=\"-281.298\" font-family=\"Times New Roman,serif\" font-size=\"14.00\">True</text>\r\n",
       "</g>\r\n",
       "<!-- 8 -->\r\n",
       "<g id=\"node9\" class=\"node\"><title>8</title>\r\n",
       "<polygon fill=\"none\" stroke=\"black\" points=\"1332,-261 1072,-261 1072,-193 1332,-193 1332,-261\"/>\r\n",
       "<text text-anchor=\"middle\" x=\"1202\" y=\"-245.8\" font-family=\"Times New Roman,serif\" font-size=\"14.00\">X[110] &lt;= 13.05</text>\r\n",
       "<text text-anchor=\"middle\" x=\"1202\" y=\"-230.8\" font-family=\"Times New Roman,serif\" font-size=\"14.00\">gini = 0.807</text>\r\n",
       "<text text-anchor=\"middle\" x=\"1202\" y=\"-215.8\" font-family=\"Times New Roman,serif\" font-size=\"14.00\">samples = 108</text>\r\n",
       "<text text-anchor=\"middle\" x=\"1202\" y=\"-200.8\" font-family=\"Times New Roman,serif\" font-size=\"14.00\">value = [28, 29, 20, 12, 3, 7, 3, 0, 2, 2, 1, 1]</text>\r\n",
       "</g>\r\n",
       "<!-- 0&#45;&gt;8 -->\r\n",
       "<g id=\"edge8\" class=\"edge\"><title>0&#45;&gt;8</title>\r\n",
       "<path fill=\"none\" stroke=\"black\" d=\"M1070.99,-296.884C1089.8,-286.991 1110.57,-276.07 1129.92,-265.895\"/>\r\n",
       "<polygon fill=\"black\" stroke=\"black\" points=\"1131.78,-268.876 1139,-261.125 1128.52,-262.681 1131.78,-268.876\"/>\r\n",
       "<text text-anchor=\"middle\" x=\"1131.58\" y=\"-281.298\" font-family=\"Times New Roman,serif\" font-size=\"14.00\">False</text>\r\n",
       "</g>\r\n",
       "<!-- 2 -->\r\n",
       "<g id=\"node3\" class=\"node\"><title>2</title>\r\n",
       "<polygon fill=\"none\" stroke=\"black\" points=\"495,-157 255,-157 255,-89 495,-89 495,-157\"/>\r\n",
       "<text text-anchor=\"middle\" x=\"375\" y=\"-141.8\" font-family=\"Times New Roman,serif\" font-size=\"14.00\">X[114] &lt;= 8.3</text>\r\n",
       "<text text-anchor=\"middle\" x=\"375\" y=\"-126.8\" font-family=\"Times New Roman,serif\" font-size=\"14.00\">gini = 0.349</text>\r\n",
       "<text text-anchor=\"middle\" x=\"375\" y=\"-111.8\" font-family=\"Times New Roman,serif\" font-size=\"14.00\">samples = 25</text>\r\n",
       "<text text-anchor=\"middle\" x=\"375\" y=\"-96.8\" font-family=\"Times New Roman,serif\" font-size=\"14.00\">value = [20, 1, 2, 1, 0, 0, 0, 1, 0, 0, 0, 0]</text>\r\n",
       "</g>\r\n",
       "<!-- 1&#45;&gt;2 -->\r\n",
       "<g id=\"edge2\" class=\"edge\"><title>1&#45;&gt;2</title>\r\n",
       "<path fill=\"none\" stroke=\"black\" d=\"M693.751,-198.061C635.198,-184.456 564.71,-168.078 504.924,-154.187\"/>\r\n",
       "<polygon fill=\"black\" stroke=\"black\" points=\"505.575,-150.745 495.042,-151.891 503.991,-157.564 505.575,-150.745\"/>\r\n",
       "</g>\r\n",
       "<!-- 5 -->\r\n",
       "<g id=\"node6\" class=\"node\"><title>5</title>\r\n",
       "<polygon fill=\"none\" stroke=\"black\" points=\"930.5,-157 697.5,-157 697.5,-89 930.5,-89 930.5,-157\"/>\r\n",
       "<text text-anchor=\"middle\" x=\"814\" y=\"-141.8\" font-family=\"Times New Roman,serif\" font-size=\"14.00\">X[28] &lt;= &#45;36.75</text>\r\n",
       "<text text-anchor=\"middle\" x=\"814\" y=\"-126.8\" font-family=\"Times New Roman,serif\" font-size=\"14.00\">gini = 0.678</text>\r\n",
       "<text text-anchor=\"middle\" x=\"814\" y=\"-111.8\" font-family=\"Times New Roman,serif\" font-size=\"14.00\">samples = 11</text>\r\n",
       "<text text-anchor=\"middle\" x=\"814\" y=\"-96.8\" font-family=\"Times New Roman,serif\" font-size=\"14.00\">value = [2, 5, 1, 3, 0, 0, 0, 0, 0, 0, 0, 0]</text>\r\n",
       "</g>\r\n",
       "<!-- 1&#45;&gt;5 -->\r\n",
       "<g id=\"edge5\" class=\"edge\"><title>1&#45;&gt;5</title>\r\n",
       "<path fill=\"none\" stroke=\"black\" d=\"M814,-192.884C814,-184.778 814,-175.982 814,-167.472\"/>\r\n",
       "<polygon fill=\"black\" stroke=\"black\" points=\"817.5,-167.299 814,-157.299 810.5,-167.299 817.5,-167.299\"/>\r\n",
       "</g>\r\n",
       "<!-- 3 -->\r\n",
       "<g id=\"node4\" class=\"node\"><title>3</title>\r\n",
       "<polygon fill=\"none\" stroke=\"black\" points=\"240,-53 0,-53 0,-0 240,-0 240,-53\"/>\r\n",
       "<text text-anchor=\"middle\" x=\"120\" y=\"-37.8\" font-family=\"Times New Roman,serif\" font-size=\"14.00\">gini = 0.169</text>\r\n",
       "<text text-anchor=\"middle\" x=\"120\" y=\"-22.8\" font-family=\"Times New Roman,serif\" font-size=\"14.00\">samples = 22</text>\r\n",
       "<text text-anchor=\"middle\" x=\"120\" y=\"-7.8\" font-family=\"Times New Roman,serif\" font-size=\"14.00\">value = [20, 1, 0, 0, 0, 0, 0, 1, 0, 0, 0, 0]</text>\r\n",
       "</g>\r\n",
       "<!-- 2&#45;&gt;3 -->\r\n",
       "<g id=\"edge3\" class=\"edge\"><title>2&#45;&gt;3</title>\r\n",
       "<path fill=\"none\" stroke=\"black\" d=\"M285.813,-88.9485C257.42,-78.4264 226.233,-66.8687 198.642,-56.6439\"/>\r\n",
       "<polygon fill=\"black\" stroke=\"black\" points=\"199.637,-53.2798 189.043,-53.0867 197.204,-59.8436 199.637,-53.2798\"/>\r\n",
       "</g>\r\n",
       "<!-- 4 -->\r\n",
       "<g id=\"node5\" class=\"node\"><title>4</title>\r\n",
       "<polygon fill=\"none\" stroke=\"black\" points=\"491.5,-53 258.5,-53 258.5,-0 491.5,-0 491.5,-53\"/>\r\n",
       "<text text-anchor=\"middle\" x=\"375\" y=\"-37.8\" font-family=\"Times New Roman,serif\" font-size=\"14.00\">gini = 0.444</text>\r\n",
       "<text text-anchor=\"middle\" x=\"375\" y=\"-22.8\" font-family=\"Times New Roman,serif\" font-size=\"14.00\">samples = 3</text>\r\n",
       "<text text-anchor=\"middle\" x=\"375\" y=\"-7.8\" font-family=\"Times New Roman,serif\" font-size=\"14.00\">value = [0, 0, 2, 1, 0, 0, 0, 0, 0, 0, 0, 0]</text>\r\n",
       "</g>\r\n",
       "<!-- 2&#45;&gt;4 -->\r\n",
       "<g id=\"edge4\" class=\"edge\"><title>2&#45;&gt;4</title>\r\n",
       "<path fill=\"none\" stroke=\"black\" d=\"M375,-88.9485C375,-80.7153 375,-71.848 375,-63.4814\"/>\r\n",
       "<polygon fill=\"black\" stroke=\"black\" points=\"378.5,-63.2367 375,-53.2367 371.5,-63.2367 378.5,-63.2367\"/>\r\n",
       "</g>\r\n",
       "<!-- 6 -->\r\n",
       "<g id=\"node7\" class=\"node\"><title>6</title>\r\n",
       "<polygon fill=\"none\" stroke=\"black\" points=\"742.5,-53 509.5,-53 509.5,-0 742.5,-0 742.5,-53\"/>\r\n",
       "<text text-anchor=\"middle\" x=\"626\" y=\"-37.8\" font-family=\"Times New Roman,serif\" font-size=\"14.00\">gini = 0.0</text>\r\n",
       "<text text-anchor=\"middle\" x=\"626\" y=\"-22.8\" font-family=\"Times New Roman,serif\" font-size=\"14.00\">samples = 3</text>\r\n",
       "<text text-anchor=\"middle\" x=\"626\" y=\"-7.8\" font-family=\"Times New Roman,serif\" font-size=\"14.00\">value = [0, 0, 0, 3, 0, 0, 0, 0, 0, 0, 0, 0]</text>\r\n",
       "</g>\r\n",
       "<!-- 5&#45;&gt;6 -->\r\n",
       "<g id=\"edge6\" class=\"edge\"><title>5&#45;&gt;6</title>\r\n",
       "<path fill=\"none\" stroke=\"black\" d=\"M748.247,-88.9485C727.954,-78.748 705.725,-67.5744 685.852,-57.5852\"/>\r\n",
       "<polygon fill=\"black\" stroke=\"black\" points=\"687.409,-54.4507 676.903,-53.0867 684.265,-60.705 687.409,-54.4507\"/>\r\n",
       "</g>\r\n",
       "<!-- 7 -->\r\n",
       "<g id=\"node8\" class=\"node\"><title>7</title>\r\n",
       "<polygon fill=\"none\" stroke=\"black\" points=\"993.5,-53 760.5,-53 760.5,-0 993.5,-0 993.5,-53\"/>\r\n",
       "<text text-anchor=\"middle\" x=\"877\" y=\"-37.8\" font-family=\"Times New Roman,serif\" font-size=\"14.00\">gini = 0.531</text>\r\n",
       "<text text-anchor=\"middle\" x=\"877\" y=\"-22.8\" font-family=\"Times New Roman,serif\" font-size=\"14.00\">samples = 8</text>\r\n",
       "<text text-anchor=\"middle\" x=\"877\" y=\"-7.8\" font-family=\"Times New Roman,serif\" font-size=\"14.00\">value = [2, 5, 1, 0, 0, 0, 0, 0, 0, 0, 0, 0]</text>\r\n",
       "</g>\r\n",
       "<!-- 5&#45;&gt;7 -->\r\n",
       "<g id=\"edge7\" class=\"edge\"><title>5&#45;&gt;7</title>\r\n",
       "<path fill=\"none\" stroke=\"black\" d=\"M836.034,-88.9485C841.889,-80.1664 848.225,-70.6629 854.123,-61.815\"/>\r\n",
       "<polygon fill=\"black\" stroke=\"black\" points=\"857.207,-63.4987 859.842,-53.2367 851.383,-59.6158 857.207,-63.4987\"/>\r\n",
       "</g>\r\n",
       "<!-- 9 -->\r\n",
       "<g id=\"node10\" class=\"node\"><title>9</title>\r\n",
       "<polygon fill=\"none\" stroke=\"black\" points=\"1329,-157 1075,-157 1075,-89 1329,-89 1329,-157\"/>\r\n",
       "<text text-anchor=\"middle\" x=\"1202\" y=\"-141.8\" font-family=\"Times New Roman,serif\" font-size=\"14.00\">X[97] &lt;= &#45;2.0</text>\r\n",
       "<text text-anchor=\"middle\" x=\"1202\" y=\"-126.8\" font-family=\"Times New Roman,serif\" font-size=\"14.00\">gini = 0.795</text>\r\n",
       "<text text-anchor=\"middle\" x=\"1202\" y=\"-111.8\" font-family=\"Times New Roman,serif\" font-size=\"14.00\">samples = 92</text>\r\n",
       "<text text-anchor=\"middle\" x=\"1202\" y=\"-96.8\" font-family=\"Times New Roman,serif\" font-size=\"14.00\">value = [28, 26, 12, 9, 3, 5, 3, 0, 2, 2, 1, 1]</text>\r\n",
       "</g>\r\n",
       "<!-- 8&#45;&gt;9 -->\r\n",
       "<g id=\"edge9\" class=\"edge\"><title>8&#45;&gt;9</title>\r\n",
       "<path fill=\"none\" stroke=\"black\" d=\"M1202,-192.884C1202,-184.778 1202,-175.982 1202,-167.472\"/>\r\n",
       "<polygon fill=\"black\" stroke=\"black\" points=\"1205.5,-167.299 1202,-157.299 1198.5,-167.299 1205.5,-167.299\"/>\r\n",
       "</g>\r\n",
       "<!-- 12 -->\r\n",
       "<g id=\"node13\" class=\"node\"><title>12</title>\r\n",
       "<polygon fill=\"none\" stroke=\"black\" points=\"1768.5,-157 1535.5,-157 1535.5,-89 1768.5,-89 1768.5,-157\"/>\r\n",
       "<text text-anchor=\"middle\" x=\"1652\" y=\"-141.8\" font-family=\"Times New Roman,serif\" font-size=\"14.00\">X[71] &lt;= &#45;2.5</text>\r\n",
       "<text text-anchor=\"middle\" x=\"1652\" y=\"-126.8\" font-family=\"Times New Roman,serif\" font-size=\"14.00\">gini = 0.664</text>\r\n",
       "<text text-anchor=\"middle\" x=\"1652\" y=\"-111.8\" font-family=\"Times New Roman,serif\" font-size=\"14.00\">samples = 16</text>\r\n",
       "<text text-anchor=\"middle\" x=\"1652\" y=\"-96.8\" font-family=\"Times New Roman,serif\" font-size=\"14.00\">value = [0, 3, 8, 3, 0, 2, 0, 0, 0, 0, 0, 0]</text>\r\n",
       "</g>\r\n",
       "<!-- 8&#45;&gt;12 -->\r\n",
       "<g id=\"edge12\" class=\"edge\"><title>8&#45;&gt;12</title>\r\n",
       "<path fill=\"none\" stroke=\"black\" d=\"M1332.16,-196.497C1392.89,-182.731 1464.91,-166.407 1525.22,-152.737\"/>\r\n",
       "<polygon fill=\"black\" stroke=\"black\" points=\"1526.2,-156.104 1535.18,-150.48 1524.65,-149.277 1526.2,-156.104\"/>\r\n",
       "</g>\r\n",
       "<!-- 10 -->\r\n",
       "<g id=\"node11\" class=\"node\"><title>10</title>\r\n",
       "<polygon fill=\"none\" stroke=\"black\" points=\"1266,-53 1012,-53 1012,-0 1266,-0 1266,-53\"/>\r\n",
       "<text text-anchor=\"middle\" x=\"1139\" y=\"-37.8\" font-family=\"Times New Roman,serif\" font-size=\"14.00\">gini = 0.799</text>\r\n",
       "<text text-anchor=\"middle\" x=\"1139\" y=\"-22.8\" font-family=\"Times New Roman,serif\" font-size=\"14.00\">samples = 80</text>\r\n",
       "<text text-anchor=\"middle\" x=\"1139\" y=\"-7.8\" font-family=\"Times New Roman,serif\" font-size=\"14.00\">value = [19, 26, 12, 8, 3, 4, 3, 0, 1, 2, 1, 1]</text>\r\n",
       "</g>\r\n",
       "<!-- 9&#45;&gt;10 -->\r\n",
       "<g id=\"edge10\" class=\"edge\"><title>9&#45;&gt;10</title>\r\n",
       "<path fill=\"none\" stroke=\"black\" d=\"M1179.97,-88.9485C1174.11,-80.1664 1167.78,-70.6629 1161.88,-61.815\"/>\r\n",
       "<polygon fill=\"black\" stroke=\"black\" points=\"1164.62,-59.6158 1156.16,-53.2367 1158.79,-63.4987 1164.62,-59.6158\"/>\r\n",
       "</g>\r\n",
       "<!-- 11 -->\r\n",
       "<g id=\"node12\" class=\"node\"><title>11</title>\r\n",
       "<polygon fill=\"none\" stroke=\"black\" points=\"1517.5,-53 1284.5,-53 1284.5,-0 1517.5,-0 1517.5,-53\"/>\r\n",
       "<text text-anchor=\"middle\" x=\"1401\" y=\"-37.8\" font-family=\"Times New Roman,serif\" font-size=\"14.00\">gini = 0.417</text>\r\n",
       "<text text-anchor=\"middle\" x=\"1401\" y=\"-22.8\" font-family=\"Times New Roman,serif\" font-size=\"14.00\">samples = 12</text>\r\n",
       "<text text-anchor=\"middle\" x=\"1401\" y=\"-7.8\" font-family=\"Times New Roman,serif\" font-size=\"14.00\">value = [9, 0, 0, 1, 0, 1, 0, 0, 1, 0, 0, 0]</text>\r\n",
       "</g>\r\n",
       "<!-- 9&#45;&gt;11 -->\r\n",
       "<g id=\"edge11\" class=\"edge\"><title>9&#45;&gt;11</title>\r\n",
       "<path fill=\"none\" stroke=\"black\" d=\"M1271.6,-88.9485C1293.18,-78.7021 1316.82,-67.4737 1337.93,-57.4503\"/>\r\n",
       "<polygon fill=\"black\" stroke=\"black\" points=\"1339.59,-60.538 1347.12,-53.0867 1336.58,-54.2148 1339.59,-60.538\"/>\r\n",
       "</g>\r\n",
       "<!-- 13 -->\r\n",
       "<g id=\"node14\" class=\"node\"><title>13</title>\r\n",
       "<polygon fill=\"none\" stroke=\"black\" points=\"1768.5,-53 1535.5,-53 1535.5,-0 1768.5,-0 1768.5,-53\"/>\r\n",
       "<text text-anchor=\"middle\" x=\"1652\" y=\"-37.8\" font-family=\"Times New Roman,serif\" font-size=\"14.00\">gini = 0.544</text>\r\n",
       "<text text-anchor=\"middle\" x=\"1652\" y=\"-22.8\" font-family=\"Times New Roman,serif\" font-size=\"14.00\">samples = 13</text>\r\n",
       "<text text-anchor=\"middle\" x=\"1652\" y=\"-7.8\" font-family=\"Times New Roman,serif\" font-size=\"14.00\">value = [0, 0, 8, 3, 0, 2, 0, 0, 0, 0, 0, 0]</text>\r\n",
       "</g>\r\n",
       "<!-- 12&#45;&gt;13 -->\r\n",
       "<g id=\"edge13\" class=\"edge\"><title>12&#45;&gt;13</title>\r\n",
       "<path fill=\"none\" stroke=\"black\" d=\"M1652,-88.9485C1652,-80.7153 1652,-71.848 1652,-63.4814\"/>\r\n",
       "<polygon fill=\"black\" stroke=\"black\" points=\"1655.5,-63.2367 1652,-53.2367 1648.5,-63.2367 1655.5,-63.2367\"/>\r\n",
       "</g>\r\n",
       "<!-- 14 -->\r\n",
       "<g id=\"node15\" class=\"node\"><title>14</title>\r\n",
       "<polygon fill=\"none\" stroke=\"black\" points=\"2019.5,-53 1786.5,-53 1786.5,-0 2019.5,-0 2019.5,-53\"/>\r\n",
       "<text text-anchor=\"middle\" x=\"1903\" y=\"-37.8\" font-family=\"Times New Roman,serif\" font-size=\"14.00\">gini = 0.0</text>\r\n",
       "<text text-anchor=\"middle\" x=\"1903\" y=\"-22.8\" font-family=\"Times New Roman,serif\" font-size=\"14.00\">samples = 3</text>\r\n",
       "<text text-anchor=\"middle\" x=\"1903\" y=\"-7.8\" font-family=\"Times New Roman,serif\" font-size=\"14.00\">value = [0, 3, 0, 0, 0, 0, 0, 0, 0, 0, 0, 0]</text>\r\n",
       "</g>\r\n",
       "<!-- 12&#45;&gt;14 -->\r\n",
       "<g id=\"edge14\" class=\"edge\"><title>12&#45;&gt;14</title>\r\n",
       "<path fill=\"none\" stroke=\"black\" d=\"M1739.79,-88.9485C1767.74,-78.4264 1798.43,-66.8687 1825.59,-56.6439\"/>\r\n",
       "<polygon fill=\"black\" stroke=\"black\" points=\"1826.91,-59.8858 1835.04,-53.0867 1824.45,-53.3347 1826.91,-59.8858\"/>\r\n",
       "</g>\r\n",
       "</g>\r\n",
       "</svg>\r\n"
      ],
      "text/plain": [
       "<graphviz.files.Source at 0xebb7670>"
      ]
     },
     "execution_count": 8,
     "metadata": {},
     "output_type": "execute_result"
    }
   ],
   "source": [
    "\n",
    "import graphviz \n",
    "\n",
    "dot_data = tree.export_graphviz(clf, out_file=None, feature_names=good_vars_sfcua, filled = True,special_characters = True, class_names = True, max_depth = 3) \n",
    "graph = graphviz.Source(dot_data) \n",
    "#graph.render() \n",
    "#dot_data = tree.export_graphviz(clf, out_file=None, \n",
    "#                      feature_names=iris.feature_names,  \n",
    "#                      class_names=iris.target_names,  \n",
    "#                      filled=True, rounded=True,  \n",
    "#                      special_characters=True)\n",
    "\n",
    "dot_data = tree.export_graphviz(clf)\n",
    "\n",
    "graph = graphviz.Source(dot_data)  \n",
    "graph "
   ]
  },
  {
   "cell_type": "markdown",
   "metadata": {},
   "source": [
    "Try max depth 10"
   ]
  },
  {
   "cell_type": "code",
   "execution_count": 9,
   "metadata": {},
   "outputs": [
    {
     "name": "stdout",
     "output_type": "stream",
     "text": [
      "DecisionTreeClassifier(class_weight=None, criterion='gini', max_depth=10,\n",
      "            max_features=None, max_leaf_nodes=None,\n",
      "            min_impurity_decrease=0.0, min_impurity_split=None,\n",
      "            min_samples_leaf=1, min_samples_split=2,\n",
      "            min_weight_fraction_leaf=0.0, presort=False, random_state=None,\n",
      "            splitter='best')\n",
      "0.2608695652173913\n"
     ]
    },
    {
     "data": {
      "text/plain": [
       "<matplotlib.collections.PathCollection at 0xf0d94b0>"
      ]
     },
     "execution_count": 9,
     "metadata": {},
     "output_type": "execute_result"
    },
    {
     "data": {
      "image/png": "[encoded data removed]",
      "text/plain": [
       "<Figure size 432x288 with 1 Axes>"
      ]
     },
     "metadata": {},
     "output_type": "display_data"
    }
   ],
   "source": [
    "clf =[]\n",
    "Y_predsnf = []\n",
    "\n",
    "from sklearn import tree\n",
    "clf = tree.DecisionTreeClassifier(max_depth=10)\n",
    "clf = clf.fit(Xtrain_feat, Ytrain_actsnf)\n",
    "\n",
    "print(clf)\n",
    "\n",
    "# Predict test set labels\n",
    "Y_predsnf = clf.predict(Xtest_feat)\n",
    "# Evaluate test-set accuracy\n",
    "\n",
    "\n",
    "from sklearn.metrics import accuracy_score\n",
    "print(accuracy_score(Ytest_actsnf, Y_predsnf))\n",
    "#plt.plot(Ytestlist-y_pred) \n",
    "\n",
    "\n",
    "plt.scatter(Y_predsnf, Ytest_actsnf-Y_predsnf)"
   ]
  },
  {
   "cell_type": "markdown",
   "metadata": {},
   "source": [
    "Try multpile max depths"
   ]
  },
  {
   "cell_type": "code",
   "execution_count": 10,
   "metadata": {},
   "outputs": [
    {
     "data": {
      "text/plain": [
       "[<matplotlib.lines.Line2D at 0xf11f970>]"
      ]
     },
     "execution_count": 10,
     "metadata": {},
     "output_type": "execute_result"
    },
    {
     "data": {
      "image/png": "[encoded data removed]",
      "text/plain": [
       "<Figure size 432x288 with 1 Axes>"
      ]
     },
     "metadata": {},
     "output_type": "display_data"
    }
   ],
   "source": [
    "from sklearn import tree\n",
    "from sklearn.metrics import accuracy_score\n",
    "accuracy = []\n",
    "\n",
    "for i in range(1,1000):\n",
    "  clf = []\n",
    "  clf = tree.DecisionTreeClassifier(max_depth=i)\n",
    "  clf = clf.fit(Xtrain_feat, Ytrain_actsnf)\n",
    "\n",
    "#print(clf)\n",
    "\n",
    "# Predict test set labels\n",
    "  Y_predsnf = clf.predict(Xtest_feat)\n",
    "# Evaluate test-set accuracy\n",
    "\n",
    "\n",
    "  accuracy.append(accuracy_score(Ytest_actsnf, Y_predsnf, normalize = True))\n",
    "#plt.plot(Ytestlist-y_pred) \n",
    "\n",
    "plt.plot(accuracy)\n",
    "#plt.scatter(y_pred, Ytestlist-y_pred)"
   ]
  }
 ],
 "metadata": {
  "kernelspec": {
   "display_name": "Python 3",
   "language": "python",
   "name": "python3"
  },
  "language_info": {
   "codemirror_mode": {
    "name": "ipython",
    "version": 3
   },
   "file_extension": ".py",
   "mimetype": "text/x-python",
   "name": "python",
   "nbconvert_exporter": "python",
   "pygments_lexer": "ipython3",
   "version": "3.6.5"
  }
 },
 "nbformat": 4,
 "nbformat_minor": 2
}
