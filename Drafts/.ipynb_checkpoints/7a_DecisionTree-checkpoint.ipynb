{
 "cells": [
  {
   "cell_type": "markdown",
   "metadata": {},
   "source": [
    "## Data Prep"
   ]
  },
  {
   "cell_type": "markdown",
   "metadata": {},
   "source": [
    "**Import necessary modules and the ASOS/SNOTEL dataframes**"
   ]
  },
  {
   "cell_type": "code",
   "execution_count": 1,
   "metadata": {},
   "outputs": [
    {
     "name": "stdout",
     "output_type": "stream",
     "text": [
      "\n",
      "INSTALLED VERSIONS\n",
      "------------------\n",
      "commit: None\n",
      "python: 3.6.5.final.0\n",
      "python-bits: 32\n",
      "OS: Windows\n",
      "OS-release: 10\n",
      "machine: AMD64\n",
      "processor: Intel64 Family 6 Model 142 Stepping 9, GenuineIntel\n",
      "byteorder: little\n",
      "LC_ALL: None\n",
      "LANG: en_US.UTF-8\n",
      "LOCALE: None.None\n",
      "\n",
      "pandas: 0.24.0\n",
      "pytest: None\n",
      "pip: 18.1\n",
      "setuptools: 39.0.1\n",
      "Cython: None\n",
      "numpy: 1.14.3\n",
      "scipy: 1.1.0\n",
      "pyarrow: None\n",
      "xarray: None\n",
      "IPython: 6.4.0\n",
      "sphinx: None\n",
      "patsy: 0.5.1\n",
      "dateutil: 2.7.3\n",
      "pytz: 2018.4\n",
      "blosc: None\n",
      "bottleneck: None\n",
      "tables: None\n",
      "numexpr: None\n",
      "feather: None\n",
      "matplotlib: 2.2.2\n",
      "openpyxl: None\n",
      "xlrd: None\n",
      "xlwt: None\n",
      "xlsxwriter: None\n",
      "lxml.etree: 4.2.5\n",
      "bs4: None\n",
      "html5lib: 1.0.1\n",
      "sqlalchemy: None\n",
      "pymysql: None\n",
      "psycopg2: None\n",
      "jinja2: 2.10\n",
      "s3fs: None\n",
      "fastparquet: None\n",
      "pandas_gbq: None\n",
      "pandas_datareader: None\n",
      "gcsfs: None\n"
     ]
    },
    {
     "data": {
      "text/plain": [
       "'c:\\\\users\\\\rapp\\\\appdata\\\\local\\\\programs\\\\python\\\\python36-32\\\\python.exe'"
      ]
     },
     "execution_count": 1,
     "metadata": {},
     "output_type": "execute_result"
    }
   ],
   "source": [
    "import pandas as pd\n",
    "import matplotlib.pyplot as plt\n",
    "import numpy as np\n",
    "import datetime as dtb\n",
    "import os\n",
    "from glob import glob\n",
    "import datetime as dt\n",
    "import seaborn as sns\n",
    "pd.show_versions()\n",
    "import sys\n",
    "import graphviz\n",
    "sys.executable\n",
    "#import graphviz"
   ]
  },
  {
   "cell_type": "code",
   "execution_count": 2,
   "metadata": {},
   "outputs": [
    {
     "name": "stdout",
     "output_type": "stream",
     "text": [
      "Index(['CMtnSNTL_Temp_degC', 'CMtnSNTL_SnowDepth_in', 'CMtn_Temperature_degC',\n",
      "       'CMtn_Dewpoint_degC', 'CMtn_WindDirection_deg', 'CMtn_WindSpeed_mps',\n",
      "       'CMtn_CloudCover_oktas', 'CMtn_1hr_Precipitation_mm',\n",
      "       'LXV_Temperature_degC', 'LXV_Dewpoint_degC',\n",
      "       ...\n",
      "       'KGJT_d300_200_height_m', 'KGJT_d300_200_tmpc', 'KGJT_d300_200_dwpc',\n",
      "       'KGJT_d300_200_drct', 'KGJT_d300_200_speed_kts',\n",
      "       'KGJT_d250_200_height_m', 'KGJT_d250_200_tmpc', 'KGJT_d250_200_dwpc',\n",
      "       'KGJT_d250_200_drct', 'KGJT_d250_200_speed_kts'],\n",
      "      dtype='object', length=163)\n"
     ]
    }
   ],
   "source": [
    "data = [pd.read_csv('asos_snotel_UA_12hr_df.dat', parse_dates = True, index_col = 'Date_Time')]\n",
    "asos_snotel_UA_df = pd.concat(data)\n",
    "#asos_snotel_UA_df['LXV_WindSpeed_m/s']\n",
    "\n",
    "#asos_snotel_UA_df.rename(columns={'LXV_WindSpeed_m/s': 'LXV_WindSpeed_mps'}, inplace=True)\n",
    "\n",
    "asos_snotel_UA_df.astype('float16')\n",
    "pd.set_option('display.expand_frame_repr', True)\n",
    "\n",
    "\n",
    "print(asos_snotel_UA_df.keys())\n",
    "\n",
    "\n",
    "\n",
    "\n",
    "#delete empty columns as they mess up loops\n",
    "#del asos_snotel_UA_df['CMtn_6hr_Precipitation_mm']            #empty column\n"
   ]
  },
  {
   "cell_type": "markdown",
   "metadata": {},
   "source": [
    "It is important to keep in mind that 'CMtnSNTL_12hr_SNWD_in contains snow depth info taken at the start of the respective 12hr period timestamp.  The snowfall calculated also gives the snowfall that fell in the 12hrs after the timestamp.  The OLS model will utilize hourly meteorological measurements at exactly 00:00 and 12:00 hours to predict the amount of snow which will fall in the next 12 hour period.  For example, the 00:00 meteorological measurements will be used to predict the snow which fell between 00:00 and 12:00."
   ]
  },
  {
   "cell_type": "markdown",
   "metadata": {},
   "source": [
    "#### Do a test to make sure some pythonic lines of code work the way I think I do to bring data into a list format for the DecisionTree model"
   ]
  },
  {
   "cell_type": "code",
   "execution_count": 6,
   "metadata": {},
   "outputs": [
    {
     "name": "stdout",
     "output_type": "stream",
     "text": [
      "6574 6574\n",
      "True\n",
      "True\n"
     ]
    }
   ],
   "source": [
    "testtrain1 = []\n",
    "testtrain2 = []\n",
    "test_vars = ['LXV_Temperature_degC', 'LXV_Dewpoint_degC', 'LXV_WindSpeed_mps']\n",
    "\n",
    "\n",
    "#Method 1 [more pythonic]\n",
    "loop_idx = np.isfinite(asos_snotel_UA_df['2009':'2017']['CMtnSNTL_Upcoming12hrSNOWFALL_gte3_in'])\n",
    "for v in test_vars:\n",
    "    loop_idx = loop_idx & np.isfinite(asos_snotel_UA_df['2009':'2017'][v])\n",
    "\n",
    "gv = pd.DataFrame()\n",
    "#gv_asos_snotel_UA_df = asos_snotel_UA_df.copy\n",
    "#gv_asos_snotel_UA_df = asos_snotel_UA_df['2009':'2017'][['LXV_Temperature_degC', 'LXV_WindSpeed_mps', 'LXV_Dewpoint_degC']][loop_idx]\n",
    "testlist1 = asos_snotel_UA_df['2009':'2017'][['LXV_Temperature_degC', 'LXV_WindSpeed_mps', 'LXV_Dewpoint_degC']][loop_idx].apply(lambda x: x.tolist(), axis=1)\n",
    "#testtrain2 = testlist.apply(lambda x: testtrain2.append(x))\n",
    "testtrain1 = testlist1.tolist()\n",
    "\n",
    "\n",
    "#Method 2 [less pythonic]\n",
    "# Explicitly list each feature\n",
    "\n",
    "compare_idx = np.isfinite(asos_snotel_UA_df['2009':'2017']['CMtnSNTL_Upcoming12hrSNOWFALL_gte3_in']) & \\\n",
    "           np.isfinite(asos_snotel_UA_df['2009':'2017']['LXV_Temperature_degC']) & \\\n",
    "           np.isfinite(asos_snotel_UA_df['2009':'2017']['LXV_Dewpoint_degC']) & \\\n",
    "           np.isfinite(asos_snotel_UA_df['2009':'2017']['LXV_WindSpeed_mps'])\n",
    "\n",
    "for index, rows in asos_snotel_UA_df['2009':'2017'][compare_idx].iterrows(): \n",
    "    # Create list for the current row \n",
    "    testlist2 =[rows['LXV_Temperature_degC'], rows['LXV_WindSpeed_mps'], rows['LXV_Dewpoint_degC']] \n",
    "    # append the list to the final list \n",
    "    testtrain2.append(testlist2)\n",
    "    \n",
    "print(len(loop_idx), len(compare_idx))\n",
    "print(loop_idx.equals(compare_idx))\n",
    "print(testtrain2 == testtrain1)\n"
   ]
  },
  {
   "cell_type": "markdown",
   "metadata": {},
   "source": [
    "# Decision Tree with Surface Features Only"
   ]
  },
  {
   "cell_type": "markdown",
   "metadata": {},
   "source": [
    "### Now identify variables which have good data capture"
   ]
  },
  {
   "cell_type": "code",
   "execution_count": 24,
   "metadata": {},
   "outputs": [
    {
     "name": "stdout",
     "output_type": "stream",
     "text": [
      "Variables with >= 67% data match to snowfall: \n",
      "['CMtnSNTL_Temp_degC', 'CMtn_Temperature_degC', 'CMtn_Dewpoint_degC', 'CMtn_WindDirection_deg', 'CMtn_WindSpeed_mps', 'LXV_Temperature_degC', 'LXV_Dewpoint_degC', 'LXV_Pressure_hp', 'LXV_WindSpeed_mps', 'LXV_WindDirection_deg', 'LXV_12hr_delta_Pressure_hp']\n",
      "Variables with < 67% data match to snowfall: \n",
      "['CMtn_CloudCover_oktas', 'LXV_CloudCover_oktas']\n"
     ]
    }
   ],
   "source": [
    "variables = ['CMtnSNTL_Temp_degC', 'CMtn_Temperature_degC', 'CMtn_Dewpoint_degC', 'CMtn_WindDirection_deg', 'CMtn_WindSpeed_mps', 'CMtn_CloudCover_oktas', \\\n",
    " 'LXV_Temperature_degC', 'LXV_Dewpoint_degC', 'LXV_Pressure_hp', 'LXV_WindSpeed_mps', 'LXV_WindDirection_deg', 'LXV_CloudCover_oktas', 'LXV_12hr_delta_Pressure_hp']\n",
    "\n",
    "good_vars_sfc = []\n",
    "bad_vars_sfc = []\n",
    "for var in variables:\n",
    "    idx = np.isfinite(asos_snotel_UA_df['2009':'2017']['CMtnSNTL_Upcoming12hrSNOWFALL_gte3_in']) & np.isfinite(asos_snotel_UA_df['2009':'2017'][var])\n",
    "    total_poss = len(asos_snotel_UA_df['2009':'2017']['CMtnSNTL_Upcoming12hrSNOWFALL_gte3_in'][asos_snotel_UA_df['2009':'2017']['CMtnSNTL_Upcoming12hrSNOWFALL_gte3_in']>=0])\n",
    "    total_avail =len(asos_snotel_UA_df['2009':'2017'][idx])\n",
    "    if total_avail/total_poss >= 0.67: \n",
    "        good_vars_sfc.append(var)\n",
    "    else:\n",
    "        bad_vars_sfc.append(var)\n",
    "\n",
    "       \n",
    "print('Variables with >= 67% data match to snowfall: ')\n",
    "print(good_vars_sfc)\n",
    "print('Variables with < 67% data match to snowfall: ')\n",
    "print(bad_vars_sfc)"
   ]
  },
  {
   "cell_type": "markdown",
   "metadata": {},
   "source": [
    "### Set up test data"
   ]
  },
  {
   "cell_type": "code",
   "execution_count": 9,
   "metadata": {},
   "outputs": [
    {
     "name": "stdout",
     "output_type": "stream",
     "text": [
      "[[-3.2, -7.0, -8.0, 340.0, 5.1, -4.4, -7.2, 993.4, 2.6, 70.0, -5.2], [-6.2, -9.0, -12.0, 290.0, 10.8, -6.7, -8.9, 1005.8, 4.1, 310.0, -4.2], [-8.2, -9.0, -12.0, 290.0, 7.7, -7.0, -9.0, 1004.3, 1.5, 180.0, -5.4], [-8.0, -9.0, -12.0, 310.0, 7.7, -7.2, -11.1, 1022.6, 1.5, 10.0, -2.4], [-4.3, -8.0, -12.0, 260.0, 9.8, -2.2, -12.2, 1003.9, 3.1, 310.0, -9.0]] [5.0, 4.0, 5.0, 4.0, 5.0]\n"
     ]
    }
   ],
   "source": [
    "Xtest = []\n",
    "Xtest_feat =[]\n",
    "Ytest = []\n",
    "Ytest_actsnf = []\n",
    "idx_test = []\n",
    "\n",
    "idx_test = np.isfinite(asos_snotel_UA_df['2006':'2008']['CMtnSNTL_Upcoming12hrSNOWFALL_gte3_in'])\n",
    "for v in good_vars_sfc:\n",
    "    idx_test = idx_test & np.isfinite(asos_snotel_UA_df['2006':'2008'][v])    \n",
    "    \n",
    "Ytest = round(asos_snotel_UA_df['CMtnSNTL_Upcoming12hrSNOWFALL_gte3_in']['2006':'2008'][idx_test],0)\n",
    "Ytest_actsnf  = Ytest.tolist()\n",
    "\n",
    "gv = pd.DataFrame()\n",
    "#gv_asos_snotel_UA_df = asos_snotel_UA_df.copy\n",
    "#gv_asos_snotel_UA_df = asos_snotel_UA_df['2009':'2017'][['LXV_Temperature_degC', 'LXV_WindSpeed_mps', 'LXV_Dewpoint_degC']][loop_idx]\n",
    "Xtest = asos_snotel_UA_df['2006':'2008'][good_vars_sfc][idx_test].apply(lambda x: x.tolist(), axis=1)\n",
    "#testtrain2 = testlist.apply(lambda x: testtrain2.append(x))\n",
    "Xtest_feat = Xtest.tolist()\n",
    "print(Xtest_feat[0:5], Ytest_actsnf[0:5])\n"
   ]
  },
  {
   "cell_type": "markdown",
   "metadata": {},
   "source": [
    "### Set up training data with 2009-2017 years"
   ]
  },
  {
   "cell_type": "code",
   "execution_count": 12,
   "metadata": {},
   "outputs": [
    {
     "name": "stdout",
     "output_type": "stream",
     "text": [
      "[[-6.6, -11.0, -14.0, 270.0, 15.4, -8.3, -10.0, 1011.7, 7.2, 30.0, -0.1], [-7.3, -11.0, -15.0, 270.0, 11.04, -8.0, -11.0, 1025.1, 5.7, 350.0, -4.0], [-0.6, -3.0, -6.0, 260.0, 7.2, 0.0, -2.2, 1011.6, 4.1, 20.0, -1.7], [-4.2, -7.0, -10.0, 270.0, 7.7, -2.8, -6.7, 1016.0, 1.5, 133.33, 0.6], [-2.6, -5.0, -8.0, 250.0, 8.8, -1.1, -5.0, 1017.9, 2.6, 100.0, -2.9]] [4.0, 4.0, 4.0, 3.0, 5.0]\n"
     ]
    }
   ],
   "source": [
    "Xtrain = []\n",
    "Xtrain_feat =[]\n",
    "Ytrain = []\n",
    "Ytrain_actsnf = []\n",
    "idx_test = []\n",
    "\n",
    "idx_train = np.isfinite(asos_snotel_UA_df['2009':'2017']['CMtnSNTL_Upcoming12hrSNOWFALL_gte3_in'])\n",
    "for v in good_vars_sfc:\n",
    "    idx_train = idx_train & np.isfinite(asos_snotel_UA_df['2009':'2017'][v])    \n",
    "    \n",
    "Ytrain = round(asos_snotel_UA_df['CMtnSNTL_Upcoming12hrSNOWFALL_gte3_in']['2009':'2017'][idx_train],0)\n",
    "Ytrain_actsnf = Ytrain.tolist()\n",
    "\n",
    "\n",
    "gv = pd.DataFrame()\n",
    "#gv_asos_snotel_UA_df = asos_snotel_UA_df.copy\n",
    "#gv_asos_snotel_UA_df = asos_snotel_UA_df['2009':'2017'][['LXV_Temperature_degC', 'LXV_WindSpeed_mps', 'LXV_Dewpoint_degC']][loop_idx]\n",
    "Xtrain = asos_snotel_UA_df['2009':'2017'][good_vars_sfc][idx_train].apply(lambda x: x.tolist(), axis=1)\n",
    "#testtrain2 = testlist.apply(lambda x: testtrain2.append(x))\n",
    "Xtrain_feat = Xtrain.tolist()\n",
    "    \n",
    "print(Xtrain_feat[0:5], Ytrain_actsnf[0:5])\n",
    "\n",
    "    "
   ]
  },
  {
   "cell_type": "markdown",
   "metadata": {},
   "source": [
    "### Run model with suface features only"
   ]
  },
  {
   "cell_type": "code",
   "execution_count": 27,
   "metadata": {},
   "outputs": [
    {
     "name": "stdout",
     "output_type": "stream",
     "text": [
      "DecisionTreeClassifier(class_weight=None, criterion='gini', max_depth=3,\n",
      "            max_features=None, max_leaf_nodes=None,\n",
      "            min_impurity_decrease=0.0, min_impurity_split=None,\n",
      "            min_samples_leaf=1, min_samples_split=2,\n",
      "            min_weight_fraction_leaf=0.0, presort=False, random_state=None,\n",
      "            splitter='best')\n",
      "0.3918918918918919\n"
     ]
    },
    {
     "data": {
      "text/plain": [
       "Text(0,0.5,'Actual Minus Predicted Snowfall (in)')"
      ]
     },
     "execution_count": 27,
     "metadata": {},
     "output_type": "execute_result"
    },
    {
     "data": {
      "image/png": "[encoded data removed]",
      "text/plain": [
       "<Figure size 432x288 with 1 Axes>"
      ]
     },
     "metadata": {},
     "output_type": "display_data"
    }
   ],
   "source": [
    "clf =[]\n",
    "Y_predsnf = []\n",
    "\n",
    "from sklearn import tree\n",
    "clf = tree.DecisionTreeClassifier(max_depth=3)\n",
    "clf = clf.fit(Xtrain_feat, Ytrain_actsnf)\n",
    "\n",
    "print(clf)\n",
    "\n",
    "# Predict test set labels\n",
    "Y_predsnf = clf.predict(Xtest_feat)\n",
    "# Evaluate test-set accuracy\n",
    "\n",
    "\n",
    "from sklearn.metrics import accuracy_score\n",
    "print(accuracy_score(Ytest_actsnf, Y_predsnf))\n",
    "#plt.plot(Ytestlist-y_pred) \n",
    "\n",
    "\n",
    "plt.scatter(Y_predsnf, Ytest_actsnf-Y_predsnf)\n",
    "plt.xlabel('Predicted Snowfall (in)')\n",
    "plt.ylabel('Actual Minus Predicted Snowfall (in)')"
   ]
  },
  {
   "cell_type": "markdown",
   "metadata": {},
   "source": [
    "Graphically view"
   ]
  },
  {
   "cell_type": "code",
   "execution_count": null,
   "metadata": {},
   "outputs": [],
   "source": [
    "\n",
    "import graphviz \n",
    "\n",
    "dot_data = tree.export_graphviz(clf, out_file=None, feature_names=good_vars, filled = True,special_characters = True, class_names = True, max_depth = 3) \n",
    "graph = graphviz.Source(dot_data) \n",
    "#graph.render() \n",
    "#dot_data = tree.export_graphviz(clf, out_file=None, \n",
    "#                      feature_names=iris.feature_names,  \n",
    "#                      class_names=iris.target_names,  \n",
    "#                      filled=True, rounded=True,  \n",
    "#                      special_characters=True)\n",
    "\n",
    "dot_data = tree.export_graphviz(clf)\n",
    "\n",
    "graph = graphviz.Source(dot_data)  \n",
    "graph "
   ]
  },
  {
   "cell_type": "markdown",
   "metadata": {},
   "source": [
    "Try max depth 10"
   ]
  },
  {
   "cell_type": "code",
   "execution_count": 28,
   "metadata": {},
   "outputs": [
    {
     "name": "stdout",
     "output_type": "stream",
     "text": [
      "DecisionTreeClassifier(class_weight=None, criterion='gini', max_depth=10,\n",
      "            max_features=None, max_leaf_nodes=None,\n",
      "            min_impurity_decrease=0.0, min_impurity_split=None,\n",
      "            min_samples_leaf=1, min_samples_split=2,\n",
      "            min_weight_fraction_leaf=0.0, presort=False, random_state=None,\n",
      "            splitter='best')\n",
      "0.24324324324324326\n"
     ]
    },
    {
     "data": {
      "text/plain": [
       "Text(0,0.5,'Actual Minus Predicted Snowfall (in)')"
      ]
     },
     "execution_count": 28,
     "metadata": {},
     "output_type": "execute_result"
    },
    {
     "data": {
      "image/png": "[encoded data removed]",
      "text/plain": [
       "<Figure size 432x288 with 1 Axes>"
      ]
     },
     "metadata": {},
     "output_type": "display_data"
    }
   ],
   "source": [
    "clf =[]\n",
    "Y_predsnf = []\n",
    "\n",
    "from sklearn import tree\n",
    "clf = tree.DecisionTreeClassifier(max_depth=10)\n",
    "clf = clf.fit(Xtrain_feat, Ytrain_actsnf)\n",
    "\n",
    "print(clf)\n",
    "\n",
    "# Predict test set labels\n",
    "Y_predsnf = clf.predict(Xtest_feat)\n",
    "# Evaluate test-set accuracy\n",
    "\n",
    "\n",
    "from sklearn.metrics import accuracy_score\n",
    "print(accuracy_score(Ytest_actsnf, Y_predsnf))\n",
    "#plt.plot(Ytestlist-y_pred) \n",
    "\n",
    "\n",
    "plt.scatter(Y_predsnf, Ytest_actsnf-Y_predsnf)\n",
    "plt.xlabel('Predicted Snowfall (in)')\n",
    "plt.ylabel('Actual Minus Predicted Snowfall (in)')"
   ]
  },
  {
   "cell_type": "markdown",
   "metadata": {},
   "source": [
    "Try multpile max depths"
   ]
  },
  {
   "cell_type": "code",
   "execution_count": 29,
   "metadata": {},
   "outputs": [
    {
     "data": {
      "text/plain": [
       "Text(0,0.5,'Accuracy Score')"
      ]
     },
     "execution_count": 29,
     "metadata": {},
     "output_type": "execute_result"
    },
    {
     "data": {
      "image/png": "[encoded data removed]",
      "text/plain": [
       "<Figure size 432x288 with 1 Axes>"
      ]
     },
     "metadata": {},
     "output_type": "display_data"
    }
   ],
   "source": [
    "from sklearn import tree\n",
    "from sklearn.metrics import accuracy_score\n",
    "accuracy = []\n",
    "\n",
    "for i in range(1,1000):\n",
    "  clf = []\n",
    "  clf = tree.DecisionTreeClassifier(max_depth=i)\n",
    "  clf = clf.fit(Xtrain_feat, Ytrain_actsnf)\n",
    "\n",
    "#print(clf)\n",
    "\n",
    "# Predict test set labels\n",
    "  Y_predsnf = clf.predict(Xtest_feat)\n",
    "# Evaluate test-set accuracy\n",
    "\n",
    "\n",
    "  accuracy.append(accuracy_score(Ytest_actsnf, Y_predsnf, normalize = True))\n",
    "#plt.plot(Ytestlist-y_pred) \n",
    "\n",
    "plt.plot(accuracy)\n",
    "plt.xlabel('Max Depth')\n",
    "plt.ylabel('Accuracy Score')\n",
    "#plt.scatter(y_pred, Ytestlist-y_pred)"
   ]
  },
  {
   "cell_type": "code",
   "execution_count": null,
   "metadata": {},
   "outputs": [],
   "source": [
    "iris.feature_names\n",
    "iris.target_names"
   ]
  }
 ],
 "metadata": {
  "kernelspec": {
   "display_name": "Python 3",
   "language": "python",
   "name": "python3"
  },
  "language_info": {
   "codemirror_mode": {
    "name": "ipython",
    "version": 3
   },
   "file_extension": ".py",
   "mimetype": "text/x-python",
   "name": "python",
   "nbconvert_exporter": "python",
   "pygments_lexer": "ipython3",
   "version": "3.6.5"
  }
 },
 "nbformat": 4,
 "nbformat_minor": 2
}
