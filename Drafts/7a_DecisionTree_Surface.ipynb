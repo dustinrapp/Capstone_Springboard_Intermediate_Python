{
 "cells": [
  {
   "cell_type": "markdown",
   "metadata": {},
   "source": [
    "## Data Prep"
   ]
  },
  {
   "cell_type": "markdown",
   "metadata": {},
   "source": [
    "**Import necessary modules and the ASOS/SNOTEL dataframes**"
   ]
  },
  {
   "cell_type": "code",
   "execution_count": 1,
   "metadata": {},
   "outputs": [
    {
     "name": "stdout",
     "output_type": "stream",
     "text": [
      "\n",
      "INSTALLED VERSIONS\n",
      "------------------\n",
      "commit: None\n",
      "python: 3.6.5.final.0\n",
      "python-bits: 32\n",
      "OS: Windows\n",
      "OS-release: 10\n",
      "machine: AMD64\n",
      "processor: Intel64 Family 6 Model 142 Stepping 9, GenuineIntel\n",
      "byteorder: little\n",
      "LC_ALL: None\n",
      "LANG: en_US.UTF-8\n",
      "LOCALE: None.None\n",
      "\n",
      "pandas: 0.24.0\n",
      "pytest: None\n",
      "pip: 18.1\n",
      "setuptools: 39.0.1\n",
      "Cython: None\n",
      "numpy: 1.14.3\n",
      "scipy: 1.1.0\n",
      "pyarrow: None\n",
      "xarray: None\n",
      "IPython: 6.4.0\n",
      "sphinx: None\n",
      "patsy: 0.5.1\n",
      "dateutil: 2.7.3\n",
      "pytz: 2018.4\n",
      "blosc: None\n",
      "bottleneck: None\n",
      "tables: None\n",
      "numexpr: None\n",
      "feather: None\n",
      "matplotlib: 2.2.2\n",
      "openpyxl: None\n",
      "xlrd: None\n",
      "xlwt: None\n",
      "xlsxwriter: None\n",
      "lxml.etree: 4.2.5\n",
      "bs4: None\n",
      "html5lib: 1.0.1\n",
      "sqlalchemy: None\n",
      "pymysql: None\n",
      "psycopg2: None\n",
      "jinja2: 2.10\n",
      "s3fs: None\n",
      "fastparquet: None\n",
      "pandas_gbq: None\n",
      "pandas_datareader: None\n",
      "gcsfs: None\n"
     ]
    },
    {
     "data": {
      "text/plain": [
       "'c:\\\\users\\\\rapp\\\\appdata\\\\local\\\\programs\\\\python\\\\python36-32\\\\python.exe'"
      ]
     },
     "execution_count": 1,
     "metadata": {},
     "output_type": "execute_result"
    }
   ],
   "source": [
    "import pandas as pd\n",
    "import matplotlib.pyplot as plt\n",
    "import numpy as np\n",
    "import datetime as dtb\n",
    "import os\n",
    "from glob import glob\n",
    "import datetime as dt\n",
    "import seaborn as sns\n",
    "pd.show_versions()\n",
    "import sys\n",
    "import graphviz\n",
    "sys.executable\n",
    "#import graphviz"
   ]
  },
  {
   "cell_type": "code",
   "execution_count": 2,
   "metadata": {},
   "outputs": [
    {
     "name": "stdout",
     "output_type": "stream",
     "text": [
      "Index(['CMtnSNTL_Temp_degC', 'CMtnSNTL_SnowDepth_in', 'CMtn_Temperature_degC',\n",
      "       'CMtn_Dewpoint_degC', 'CMtn_WindDirection_deg', 'CMtn_WindSpeed_mps',\n",
      "       'CMtn_CloudCover_oktas', 'CMtn_1hr_Precipitation_mm',\n",
      "       'LXV_Temperature_degC', 'LXV_Dewpoint_degC',\n",
      "       ...\n",
      "       'KGJT_d300_200_height_m', 'KGJT_d300_200_tmpc', 'KGJT_d300_200_dwpc',\n",
      "       'KGJT_d300_200_drct', 'KGJT_d300_200_speed_kts',\n",
      "       'KGJT_d250_200_height_m', 'KGJT_d250_200_tmpc', 'KGJT_d250_200_dwpc',\n",
      "       'KGJT_d250_200_drct', 'KGJT_d250_200_speed_kts'],\n",
      "      dtype='object', length=163)\n"
     ]
    }
   ],
   "source": [
    "data = [pd.read_csv('asos_snotel_UA_12hr_df.dat', parse_dates = True, index_col = 'Date_Time')]\n",
    "asos_snotel_UA_df = pd.concat(data)\n",
    "#asos_snotel_UA_df['LXV_WindSpeed_m/s']\n",
    "\n",
    "#asos_snotel_UA_df.rename(columns={'LXV_WindSpeed_m/s': 'LXV_WindSpeed_mps'}, inplace=True)\n",
    "\n",
    "asos_snotel_UA_df.astype('float16')\n",
    "pd.set_option('display.expand_frame_repr', True)\n",
    "\n",
    "\n",
    "print(asos_snotel_UA_df.keys())\n",
    "\n",
    "\n",
    "\n",
    "\n",
    "#delete empty columns as they mess up loops\n",
    "#del asos_snotel_UA_df['CMtn_6hr_Precipitation_mm']            #empty column\n"
   ]
  },
  {
   "cell_type": "markdown",
   "metadata": {},
   "source": [
    "It is important to keep in mind that 'CMtnSNTL_12hr_SNWD_in contains snow depth info taken at the start of the respective 12hr period timestamp.  The snowfall calculated also gives the snowfall that fell in the 12hrs after the timestamp.  The OLS model will utilize hourly meteorological measurements at exactly 00:00 and 12:00 hours to predict the amount of snow which will fall in the next 12 hour period.  For example, the 00:00 meteorological measurements will be used to predict the snow which fell between 00:00 and 12:00."
   ]
  },
  {
   "cell_type": "markdown",
   "metadata": {},
   "source": [
    "#### Do a test to make sure some pythonic lines of code work the way I think I do to bring data into a list format for the DecisionTree model"
   ]
  },
  {
   "cell_type": "code",
   "execution_count": 3,
   "metadata": {},
   "outputs": [
    {
     "name": "stdout",
     "output_type": "stream",
     "text": [
      "6574 6574\n",
      "True\n",
      "True\n"
     ]
    }
   ],
   "source": [
    "testtrain1 = []\n",
    "testtrain2 = []\n",
    "test_vars = ['LXV_Temperature_degC', 'LXV_Dewpoint_degC', 'LXV_WindSpeed_mps']\n",
    "\n",
    "\n",
    "#Method 1 [more pythonic]\n",
    "loop_idx = np.isfinite(asos_snotel_UA_df['2009':'2017']['CMtnSNTL_Upcoming12hrSNOWFALL_gte3_in'])\n",
    "for v in test_vars:\n",
    "    loop_idx = loop_idx & np.isfinite(asos_snotel_UA_df['2009':'2017'][v])\n",
    "\n",
    "gv = pd.DataFrame()\n",
    "#gv_asos_snotel_UA_df = asos_snotel_UA_df.copy\n",
    "#gv_asos_snotel_UA_df = asos_snotel_UA_df['2009':'2017'][['LXV_Temperature_degC', 'LXV_WindSpeed_mps', 'LXV_Dewpoint_degC']][loop_idx]\n",
    "testlist1 = asos_snotel_UA_df['2009':'2017'][['LXV_Temperature_degC', 'LXV_WindSpeed_mps', 'LXV_Dewpoint_degC']][loop_idx].apply(lambda x: x.tolist(), axis=1)\n",
    "#testtrain2 = testlist.apply(lambda x: testtrain2.append(x))\n",
    "testtrain1 = testlist1.tolist()\n",
    "\n",
    "\n",
    "#Method 2 [less pythonic]\n",
    "# Explicitly list each feature\n",
    "\n",
    "compare_idx = np.isfinite(asos_snotel_UA_df['2009':'2017']['CMtnSNTL_Upcoming12hrSNOWFALL_gte3_in']) & \\\n",
    "           np.isfinite(asos_snotel_UA_df['2009':'2017']['LXV_Temperature_degC']) & \\\n",
    "           np.isfinite(asos_snotel_UA_df['2009':'2017']['LXV_Dewpoint_degC']) & \\\n",
    "           np.isfinite(asos_snotel_UA_df['2009':'2017']['LXV_WindSpeed_mps'])\n",
    "\n",
    "for index, rows in asos_snotel_UA_df['2009':'2017'][compare_idx].iterrows(): \n",
    "    # Create list for the current row \n",
    "    testlist2 =[rows['LXV_Temperature_degC'], rows['LXV_WindSpeed_mps'], rows['LXV_Dewpoint_degC']] \n",
    "    # append the list to the final list \n",
    "    testtrain2.append(testlist2)\n",
    "    \n",
    "print(len(loop_idx), len(compare_idx))\n",
    "print(loop_idx.equals(compare_idx))\n",
    "print(testtrain2 == testtrain1)\n"
   ]
  },
  {
   "cell_type": "markdown",
   "metadata": {},
   "source": [
    "# Decision Tree with Surface Features Only"
   ]
  },
  {
   "cell_type": "markdown",
   "metadata": {},
   "source": [
    "### Now identify variables which have good data capture"
   ]
  },
  {
   "cell_type": "code",
   "execution_count": 4,
   "metadata": {},
   "outputs": [
    {
     "name": "stdout",
     "output_type": "stream",
     "text": [
      "Variables with >= 67% data match to snowfall: \n",
      "['CMtnSNTL_Temp_degC', 'CMtn_Temperature_degC', 'CMtn_Dewpoint_degC', 'CMtn_WindDirection_deg', 'CMtn_WindSpeed_mps', 'LXV_Temperature_degC', 'LXV_Dewpoint_degC', 'LXV_Pressure_hp', 'LXV_WindSpeed_mps', 'LXV_WindDirection_deg', 'LXV_12hr_delta_Pressure_hp']\n",
      "Variables with < 67% data match to snowfall: \n",
      "['CMtn_CloudCover_oktas', 'LXV_CloudCover_oktas']\n"
     ]
    }
   ],
   "source": [
    "variables = ['CMtnSNTL_Temp_degC', 'CMtn_Temperature_degC', 'CMtn_Dewpoint_degC', 'CMtn_WindDirection_deg', 'CMtn_WindSpeed_mps', 'CMtn_CloudCover_oktas', \\\n",
    " 'LXV_Temperature_degC', 'LXV_Dewpoint_degC', 'LXV_Pressure_hp', 'LXV_WindSpeed_mps', 'LXV_WindDirection_deg', 'LXV_CloudCover_oktas', 'LXV_12hr_delta_Pressure_hp']\n",
    "\n",
    "good_vars_sfc = []\n",
    "bad_vars_sfc = []\n",
    "for var in variables:\n",
    "    idx = np.isfinite(asos_snotel_UA_df['2009':'2017']['CMtnSNTL_Upcoming12hrSNOWFALL_gte3_in']) & np.isfinite(asos_snotel_UA_df['2009':'2017'][var])\n",
    "    total_poss = len(asos_snotel_UA_df['2009':'2017']['CMtnSNTL_Upcoming12hrSNOWFALL_gte3_in'][asos_snotel_UA_df['2009':'2017']['CMtnSNTL_Upcoming12hrSNOWFALL_gte3_in']>=0])\n",
    "    total_avail =len(asos_snotel_UA_df['2009':'2017'][idx])\n",
    "    if total_avail/total_poss >= 0.67: \n",
    "        good_vars_sfc.append(var)\n",
    "    else:\n",
    "        bad_vars_sfc.append(var)\n",
    "\n",
    "       \n",
    "print('Variables with >= 67% data match to snowfall: ')\n",
    "print(good_vars_sfc)\n",
    "print('Variables with < 67% data match to snowfall: ')\n",
    "print(bad_vars_sfc)"
   ]
  },
  {
   "cell_type": "markdown",
   "metadata": {},
   "source": [
    "### Set up test data"
   ]
  },
  {
   "cell_type": "code",
   "execution_count": 52,
   "metadata": {},
   "outputs": [
    {
     "name": "stdout",
     "output_type": "stream",
     "text": [
      "count    8710.000000\n",
      "mean       -0.001883\n",
      "std         8.559429\n",
      "min       -30.600000\n",
      "25%        -6.270000\n",
      "50%         0.000000\n",
      "75%         7.300000\n",
      "max        19.100000\n",
      "Name: CMtnSNTL_Temp_degC, dtype: float64\n",
      "count    8710.000000\n",
      "mean       -0.001883\n",
      "std         8.559429\n",
      "min       -30.600000\n",
      "25%        -6.270000\n",
      "50%         0.000000\n",
      "75%         7.300000\n",
      "max        19.100000\n",
      "Name: CMtnSNTL_Temp_degC, dtype: float64\n",
      "count    1405.000000\n",
      "mean        0.694235\n",
      "std         8.115662\n",
      "min       -28.100000\n",
      "25%        -4.800000\n",
      "50%         0.600000\n",
      "75%         7.500000\n",
      "max        18.300000\n",
      "Name: CMtnSNTL_Temp_degC, dtype: float64\n",
      "count    7305.000000\n",
      "mean       -0.135003\n",
      "std         8.635260\n",
      "min       -30.600000\n",
      "25%        -6.470000\n",
      "50%        -0.100000\n",
      "75%         7.200000\n",
      "max        19.100000\n",
      "Name: CMtnSNTL_Temp_degC, dtype: float64\n",
      "count    730.000000\n",
      "mean      -0.112055\n",
      "std        8.636057\n",
      "min      -28.100000\n",
      "25%       -6.600000\n",
      "50%       -0.100000\n",
      "75%        7.475000\n",
      "max       18.300000\n",
      "Name: CMtnSNTL_Temp_degC, dtype: float64\n",
      "count    676.000000\n",
      "mean       1.542751\n",
      "std        7.440296\n",
      "min      -26.700000\n",
      "25%       -2.800000\n",
      "50%        1.300000\n",
      "75%        7.500000\n",
      "max       16.700000\n",
      "Name: CMtnSNTL_Temp_degC, dtype: float64\n"
     ]
    }
   ],
   "source": [
    "#asos_snotel_UA_df['LXV_12hr_delta_Pressure_hp'] = asos_snotel_UA_df['LXV_Pressure_hp']-asos_snotel_UA_df['LXV_Pressure_hp'].shift(+12)\n",
    "#print(asos_snotel_UA_df['LXV_12hr_delta_Pressure_hp'].describe())\n",
    "all_yrs = (asos_snotel_UA_df.index >= '01-01-2006') & (asos_snotel_UA_df.index <= '01-01-2018')\n",
    "test_yrs = ((asos_snotel_UA_df.index >= '01-01-2006') & (asos_snotel_UA_df.index <= '12-31-2006')) | ((asos_snotel_UA_df.index >= '01-01-2017') & (asos_snotel_UA_df.index <= '01-01-2018'))\n",
    "train_yrs = (asos_snotel_UA_df.index >= '01-01-2007') & (asos_snotel_UA_df.index <= '01-01-2017')\n",
    "\n",
    "print(asos_snotel_UA_df['CMtnSNTL_Temp_degC'].describe())\n",
    "print(asos_snotel_UA_df[all_yrs]['CMtnSNTL_Temp_degC'].describe())\n",
    "print(asos_snotel_UA_df[test_yrs]['CMtnSNTL_Temp_degC'].describe())\n",
    "print(asos_snotel_UA_df[train_yrs]['CMtnSNTL_Temp_degC'].describe())\n",
    "print(asos_snotel_UA_df['2006']['CMtnSNTL_Temp_degC'].describe())\n",
    "print(asos_snotel_UA_df['2017']['CMtnSNTL_Temp_degC'].describe())"
   ]
  },
  {
   "cell_type": "code",
   "execution_count": 6,
   "metadata": {},
   "outputs": [
    {
     "name": "stdout",
     "output_type": "stream",
     "text": [
      "1458\n",
      "[[-3.2, -7.0, -8.0, 340.0, 5.1, -4.4, -7.2, 993.4, 2.6, 70.0, -5.2], [-6.2, -9.0, -12.0, 290.0, 10.8, -6.7, -8.9, 1005.8, 4.1, 310.0, -4.2], [-8.2, -9.0, -12.0, 290.0, 7.7, -7.0, -9.0, 1004.3, 1.5, 180.0, -5.4], [-8.0, -9.0, -12.0, 310.0, 7.7, -7.2, -11.1, 1022.6, 1.5, 10.0, -2.4], [-4.3, -8.0, -12.0, 260.0, 9.8, -2.2, -12.2, 1003.9, 3.1, 310.0, -9.0]] [5.0, 4.0, 5.0, 4.0, 5.0]\n"
     ]
    }
   ],
   "source": [
    "Xtest = []\n",
    "Xtest_feat =[]\n",
    "Ytest = []\n",
    "Ytest_actsnf = []\n",
    "idx_test = []\n",
    "\n",
    "idx_test = np.isfinite(asos_snotel_UA_df[test_yrs]['CMtnSNTL_Upcoming12hrSNOWFALL_gte3_in'])\n",
    "for v in good_vars_sfc:\n",
    "    idx_test = idx_test & np.isfinite(asos_snotel_UA_df[test_yrs][v])    \n",
    "    \n",
    "print(len(idx_test))\n",
    "Ytest = round(asos_snotel_UA_df['CMtnSNTL_Upcoming12hrSNOWFALL_gte3_in'][test_yrs][idx_test],0)\n",
    "Ytest_actsnf  = Ytest.tolist()\n",
    "\n",
    "gv = pd.DataFrame()\n",
    "#gv_asos_snotel_UA_df = asos_snotel_UA_df.copy\n",
    "#gv_asos_snotel_UA_df = asos_snotel_UA_df['2009':'2017'][['LXV_Temperature_degC', 'LXV_WindSpeed_mps', 'LXV_Dewpoint_degC']][loop_idx]\n",
    "Xtest = asos_snotel_UA_df[test_yrs][good_vars_sfc][idx_test].apply(lambda x: x.tolist(), axis=1)\n",
    "#testtrain2 = testlist.apply(lambda x: testtrain2.append(x))\n",
    "Xtest_feat = Xtest.tolist()\n",
    "print(Xtest_feat[0:5], Ytest_actsnf[0:5])\n"
   ]
  },
  {
   "cell_type": "markdown",
   "metadata": {},
   "source": [
    "### Set up training data with 2009-2017 years"
   ]
  },
  {
   "cell_type": "code",
   "execution_count": 7,
   "metadata": {},
   "outputs": [
    {
     "name": "stdout",
     "output_type": "stream",
     "text": [
      "[[-0.6, -5.0, -10.0, 250.0, 9.3, -0.6, -8.9, 998.6, 1.5, 70.0, -6.0], [-3.2, -7.0, -13.0, 260.0, 6.2, -2.2, -11.1, 1001.1, 3.6, 200.0, 0.5], [-5.0, -8.0, -12.0, 250.0, 3.6, -4.4, -9.4, 997.9, 3.6, 180.0, -5.2], [-4.6, -4.0, -13.0, 220.0, 3.6, -7.2, -12.8, 1013.8, 3.1, 200.0, -4.1], [-3.5, -5.0, -8.0, 200.0, 3.1, -2.8, -6.7, 1014.1, 2.1, 40.0, -3.6]] [6.0, 4.0, 4.0, 3.0, 5.0]\n"
     ]
    }
   ],
   "source": [
    "Xtrain = []\n",
    "Xtrain_feat =[]\n",
    "Ytrain = []\n",
    "Ytrain_actsnf = []\n",
    "idx_train = []\n",
    "\n",
    "idx_train = np.isfinite(asos_snotel_UA_df[train_yrs]['CMtnSNTL_Upcoming12hrSNOWFALL_gte3_in'])\n",
    "for v in good_vars_sfc:\n",
    "    idx_train = idx_train & np.isfinite(asos_snotel_UA_df[train_yrs][v])    \n",
    "    \n",
    "Ytrain = round(asos_snotel_UA_df['CMtnSNTL_Upcoming12hrSNOWFALL_gte3_in'][train_yrs][idx_train],0)\n",
    "Ytrain_actsnf = Ytrain.tolist()\n",
    "\n",
    "\n",
    "gv = pd.DataFrame()\n",
    "#gv_asos_snotel_UA_df = asos_snotel_UA_df.copy\n",
    "#gv_asos_snotel_UA_df = asos_snotel_UA_df[train_yrs][['LXV_Temperature_degC', 'LXV_WindSpeed_mps', 'LXV_Dewpoint_degC']][loop_idx]\n",
    "Xtrain = asos_snotel_UA_df[train_yrs][good_vars_sfc][idx_train].apply(lambda x: x.tolist(), axis=1)\n",
    "#testtrain2 = testlist.apply(lambda x: testtrain2.append(x))\n",
    "Xtrain_feat = Xtrain.tolist()\n",
    "    \n",
    "print(Xtrain_feat[0:5], Ytrain_actsnf[0:5])\n",
    "\n",
    "    "
   ]
  },
  {
   "cell_type": "markdown",
   "metadata": {},
   "source": [
    "### Run model with suface features only"
   ]
  },
  {
   "cell_type": "code",
   "execution_count": 8,
   "metadata": {},
   "outputs": [
    {
     "name": "stdout",
     "output_type": "stream",
     "text": [
      "DecisionTreeRegressor(criterion='mse', max_depth=3, max_features=None,\n",
      "           max_leaf_nodes=None, min_impurity_decrease=0.0,\n",
      "           min_impurity_split=None, min_samples_leaf=1,\n",
      "           min_samples_split=2, min_weight_fraction_leaf=0.0,\n",
      "           presort=False, random_state=None, splitter='best')\n",
      "47\n"
     ]
    },
    {
     "data": {
      "text/plain": [
       "Text(0,0.5,'Actual Minus Predicted Snowfall (in)')"
      ]
     },
     "execution_count": 8,
     "metadata": {},
     "output_type": "execute_result"
    },
    {
     "data": {
      "image/png": "[encoded data removed]",
      "text/plain": [
       "<Figure size 432x288 with 1 Axes>"
      ]
     },
     "metadata": {},
     "output_type": "display_data"
    }
   ],
   "source": [
    "clf =[]\n",
    "Y_predsnf = []\n",
    "\n",
    "from sklearn import tree\n",
    "clf = tree.DecisionTreeRegressor(max_depth=3)\n",
    "clf = clf.fit(Xtrain_feat, Ytrain_actsnf)\n",
    "\n",
    "print(clf)\n",
    "\n",
    "# Predict test set labels\n",
    "Y_predsnf = clf.predict(Xtest_feat)\n",
    "# Evaluate test-set accuracy\n",
    "\n",
    "\n",
    "from sklearn.metrics import accuracy_score\n",
    "#print(accuracy_score(Ytest_actsnf, Y_predsnf))\n",
    "#plt.plot(Ytestlist-y_pred) \n",
    "print(len(Y_predsnf))\n",
    "\n",
    "plt.scatter(Y_predsnf, Ytest_actsnf-Y_predsnf)\n",
    "plt.xlabel('Predicted Snowfall (in)')\n",
    "plt.ylabel('Actual Minus Predicted Snowfall (in)')"
   ]
  },
  {
   "cell_type": "markdown",
   "metadata": {},
   "source": [
    "Graphically view"
   ]
  },
  {
   "cell_type": "code",
   "execution_count": 25,
   "metadata": {},
   "outputs": [
    {
     "name": "stdout",
     "output_type": "stream",
     "text": [
      "['CMtnSNTL_Temp_degC', 'CMtn_Temperature_degC', 'CMtn_Dewpoint_degC', 'CMtn_WindDirection_deg', 'CMtn_WindSpeed_mps', 'LXV_Temperature_degC', 'LXV_Dewpoint_degC', 'LXV_Pressure_hp', 'LXV_WindSpeed_mps', 'LXV_WindDirection_deg', 'LXV_12hr_delta_Pressure_hp']\n"
     ]
    },
    {
     "data": {
      "image/svg+xml": [
       "<?xml version=\"1.0\" encoding=\"UTF-8\" standalone=\"no\"?>\r\n",
       "<!DOCTYPE svg PUBLIC \"-//W3C//DTD SVG 1.1//EN\"\r\n",
       " \"http://www.w3.org/Graphics/SVG/1.1/DTD/svg11.dtd\">\r\n",
       "<!-- Generated by graphviz version 2.38.0 (20140413.2041)\r\n",
       " -->\r\n",
       "<!-- Title: Tree Pages: 1 -->\r\n",
       "<svg width=\"1161pt\" height=\"460pt\"\r\n",
       " viewBox=\"0.00 0.00 1161.00 460.00\" xmlns=\"http://www.w3.org/2000/svg\" xmlns:xlink=\"http://www.w3.org/1999/xlink\">\r\n",
       "<g id=\"graph0\" class=\"graph\" transform=\"scale(1 1) rotate(0) translate(4 456)\">\r\n",
       "<title>Tree</title>\r\n",
       "<polygon fill=\"white\" stroke=\"none\" points=\"-4,4 -4,-456 1157,-456 1157,4 -4,4\"/>\r\n",
       "<!-- 0 -->\r\n",
       "<g id=\"node1\" class=\"node\"><title>0</title>\r\n",
       "<polygon fill=\"#e58139\" fill-opacity=\"0.141176\" stroke=\"black\" points=\"656.5,-452 455.5,-452 455.5,-384 656.5,-384 656.5,-452\"/>\r\n",
       "<text text-anchor=\"start\" x=\"463.5\" y=\"-436.8\" font-family=\"Times New Roman,serif\" font-size=\"14.00\">CMtnSNTL_Temp_degC ≤ 1.35</text>\r\n",
       "<text text-anchor=\"start\" x=\"521\" y=\"-421.8\" font-family=\"Times New Roman,serif\" font-size=\"14.00\">mse = 3.859</text>\r\n",
       "<text text-anchor=\"start\" x=\"515\" y=\"-406.8\" font-family=\"Times New Roman,serif\" font-size=\"14.00\">samples = 180</text>\r\n",
       "<text text-anchor=\"start\" x=\"518\" y=\"-391.8\" font-family=\"Times New Roman,serif\" font-size=\"14.00\">value = 4.544</text>\r\n",
       "</g>\r\n",
       "<!-- 1 -->\r\n",
       "<g id=\"node2\" class=\"node\"><title>1</title>\r\n",
       "<polygon fill=\"#e58139\" fill-opacity=\"0.129412\" stroke=\"black\" points=\"540,-348 366,-348 366,-280 540,-280 540,-348\"/>\r\n",
       "<text text-anchor=\"start\" x=\"374\" y=\"-332.8\" font-family=\"Times New Roman,serif\" font-size=\"14.00\">LXV_Pressure_hp ≤ 1025.3</text>\r\n",
       "<text text-anchor=\"start\" x=\"421.5\" y=\"-317.8\" font-family=\"Times New Roman,serif\" font-size=\"14.00\">mse = 3.05</text>\r\n",
       "<text text-anchor=\"start\" x=\"412\" y=\"-302.8\" font-family=\"Times New Roman,serif\" font-size=\"14.00\">samples = 171</text>\r\n",
       "<text text-anchor=\"start\" x=\"415\" y=\"-287.8\" font-family=\"Times New Roman,serif\" font-size=\"14.00\">value = 4.415</text>\r\n",
       "</g>\r\n",
       "<!-- 0&#45;&gt;1 -->\r\n",
       "<g id=\"edge1\" class=\"edge\"><title>0&#45;&gt;1</title>\r\n",
       "<path fill=\"none\" stroke=\"black\" d=\"M522.559,-383.884C513.384,-374.798 503.334,-364.845 493.796,-355.4\"/>\r\n",
       "<polygon fill=\"black\" stroke=\"black\" points=\"496.194,-352.849 486.626,-348.299 491.269,-357.823 496.194,-352.849\"/>\r\n",
       "<text text-anchor=\"middle\" x=\"486.748\" y=\"-369.599\" font-family=\"Times New Roman,serif\" font-size=\"14.00\">True</text>\r\n",
       "</g>\r\n",
       "<!-- 66 -->\r\n",
       "<g id=\"node11\" class=\"node\"><title>66</title>\r\n",
       "<polygon fill=\"#e58139\" fill-opacity=\"0.364706\" stroke=\"black\" points=\"759.5,-348 558.5,-348 558.5,-280 759.5,-280 759.5,-348\"/>\r\n",
       "<text text-anchor=\"start\" x=\"566.5\" y=\"-332.8\" font-family=\"Times New Roman,serif\" font-size=\"14.00\">CMtnSNTL_Temp_degC ≤ 2.25</text>\r\n",
       "<text text-anchor=\"start\" x=\"621\" y=\"-317.8\" font-family=\"Times New Roman,serif\" font-size=\"14.00\">mse = 12.889</text>\r\n",
       "<text text-anchor=\"start\" x=\"625\" y=\"-302.8\" font-family=\"Times New Roman,serif\" font-size=\"14.00\">samples = 9</text>\r\n",
       "<text text-anchor=\"start\" x=\"628\" y=\"-287.8\" font-family=\"Times New Roman,serif\" font-size=\"14.00\">value = 7.0</text>\r\n",
       "</g>\r\n",
       "<!-- 0&#45;&gt;66 -->\r\n",
       "<g id=\"edge10\" class=\"edge\"><title>0&#45;&gt;66</title>\r\n",
       "<path fill=\"none\" stroke=\"black\" d=\"M589.441,-383.884C598.616,-374.798 608.666,-364.845 618.204,-355.4\"/>\r\n",
       "<polygon fill=\"black\" stroke=\"black\" points=\"620.731,-357.823 625.374,-348.299 615.806,-352.849 620.731,-357.823\"/>\r\n",
       "<text text-anchor=\"middle\" x=\"625.252\" y=\"-369.599\" font-family=\"Times New Roman,serif\" font-size=\"14.00\">False</text>\r\n",
       "</g>\r\n",
       "<!-- 2 -->\r\n",
       "<g id=\"node3\" class=\"node\"><title>2</title>\r\n",
       "<polygon fill=\"#e58139\" fill-opacity=\"0.125490\" stroke=\"black\" points=\"403,-244 203,-244 203,-176 403,-176 403,-244\"/>\r\n",
       "<text text-anchor=\"start\" x=\"211\" y=\"-228.8\" font-family=\"Times New Roman,serif\" font-size=\"14.00\">CMtn_WindSpeed_mps ≤ 17.69</text>\r\n",
       "<text text-anchor=\"start\" x=\"268\" y=\"-213.8\" font-family=\"Times New Roman,serif\" font-size=\"14.00\">mse = 2.727</text>\r\n",
       "<text text-anchor=\"start\" x=\"262\" y=\"-198.8\" font-family=\"Times New Roman,serif\" font-size=\"14.00\">samples = 170</text>\r\n",
       "<text text-anchor=\"start\" x=\"265\" y=\"-183.8\" font-family=\"Times New Roman,serif\" font-size=\"14.00\">value = 4.371</text>\r\n",
       "</g>\r\n",
       "<!-- 1&#45;&gt;2 -->\r\n",
       "<g id=\"edge2\" class=\"edge\"><title>1&#45;&gt;2</title>\r\n",
       "<path fill=\"none\" stroke=\"black\" d=\"M404.299,-279.884C390.212,-270.304 374.707,-259.761 360.154,-249.864\"/>\r\n",
       "<polygon fill=\"black\" stroke=\"black\" points=\"361.95,-246.854 351.713,-244.125 358.014,-252.642 361.95,-246.854\"/>\r\n",
       "</g>\r\n",
       "<!-- 65 -->\r\n",
       "<g id=\"node10\" class=\"node\"><title>65</title>\r\n",
       "<polygon fill=\"#e58139\" fill-opacity=\"0.819608\" stroke=\"black\" points=\"506.5,-236.5 421.5,-236.5 421.5,-183.5 506.5,-183.5 506.5,-236.5\"/>\r\n",
       "<text text-anchor=\"start\" x=\"436\" y=\"-221.3\" font-family=\"Times New Roman,serif\" font-size=\"14.00\">mse = 0.0</text>\r\n",
       "<text text-anchor=\"start\" x=\"430\" y=\"-206.3\" font-family=\"Times New Roman,serif\" font-size=\"14.00\">samples = 1</text>\r\n",
       "<text text-anchor=\"start\" x=\"429.5\" y=\"-191.3\" font-family=\"Times New Roman,serif\" font-size=\"14.00\">value = 12.0</text>\r\n",
       "</g>\r\n",
       "<!-- 1&#45;&gt;65 -->\r\n",
       "<g id=\"edge9\" class=\"edge\"><title>1&#45;&gt;65</title>\r\n",
       "<path fill=\"none\" stroke=\"black\" d=\"M456.571,-279.884C457.722,-269.216 459.001,-257.352 460.17,-246.519\"/>\r\n",
       "<polygon fill=\"black\" stroke=\"black\" points=\"463.655,-246.838 461.248,-236.52 456.696,-246.087 463.655,-246.838\"/>\r\n",
       "</g>\r\n",
       "<!-- 3 -->\r\n",
       "<g id=\"node4\" class=\"node\"><title>3</title>\r\n",
       "<polygon fill=\"#e58139\" fill-opacity=\"0.121569\" stroke=\"black\" points=\"198,-140 0,-140 0,-72 198,-72 198,-140\"/>\r\n",
       "<text text-anchor=\"start\" x=\"8\" y=\"-124.8\" font-family=\"Times New Roman,serif\" font-size=\"14.00\">CMtn_Dewpoint_degC ≤ &#45;10.04</text>\r\n",
       "<text text-anchor=\"start\" x=\"64\" y=\"-109.8\" font-family=\"Times New Roman,serif\" font-size=\"14.00\">mse = 2.551</text>\r\n",
       "<text text-anchor=\"start\" x=\"58\" y=\"-94.8\" font-family=\"Times New Roman,serif\" font-size=\"14.00\">samples = 168</text>\r\n",
       "<text text-anchor=\"start\" x=\"61\" y=\"-79.8\" font-family=\"Times New Roman,serif\" font-size=\"14.00\">value = 4.321</text>\r\n",
       "</g>\r\n",
       "<!-- 2&#45;&gt;3 -->\r\n",
       "<g id=\"edge3\" class=\"edge\"><title>2&#45;&gt;3</title>\r\n",
       "<path fill=\"none\" stroke=\"black\" d=\"M236.767,-175.884C216.802,-165.901 194.744,-154.872 174.239,-144.619\"/>\r\n",
       "<polygon fill=\"black\" stroke=\"black\" points=\"175.759,-141.466 165.249,-140.125 172.628,-147.727 175.759,-141.466\"/>\r\n",
       "</g>\r\n",
       "<!-- 62 -->\r\n",
       "<g id=\"node7\" class=\"node\"><title>62</title>\r\n",
       "<polygon fill=\"#e58139\" fill-opacity=\"0.501961\" stroke=\"black\" points=\"417.5,-140 216.5,-140 216.5,-72 417.5,-72 417.5,-140\"/>\r\n",
       "<text text-anchor=\"start\" x=\"224.5\" y=\"-124.8\" font-family=\"Times New Roman,serif\" font-size=\"14.00\">CMtn_Temperature_degC ≤ &#45;5.5</text>\r\n",
       "<text text-anchor=\"start\" x=\"285.5\" y=\"-109.8\" font-family=\"Times New Roman,serif\" font-size=\"14.00\">mse = 0.25</text>\r\n",
       "<text text-anchor=\"start\" x=\"283\" y=\"-94.8\" font-family=\"Times New Roman,serif\" font-size=\"14.00\">samples = 2</text>\r\n",
       "<text text-anchor=\"start\" x=\"286\" y=\"-79.8\" font-family=\"Times New Roman,serif\" font-size=\"14.00\">value = 8.5</text>\r\n",
       "</g>\r\n",
       "<!-- 2&#45;&gt;62 -->\r\n",
       "<g id=\"edge6\" class=\"edge\"><title>2&#45;&gt;62</title>\r\n",
       "<path fill=\"none\" stroke=\"black\" d=\"M307.545,-175.884C308.658,-167.778 309.865,-158.982 311.033,-150.472\"/>\r\n",
       "<polygon fill=\"black\" stroke=\"black\" points=\"314.537,-150.682 312.429,-140.299 307.602,-149.731 314.537,-150.682\"/>\r\n",
       "</g>\r\n",
       "<!-- 4 -->\r\n",
       "<g id=\"node5\" class=\"node\"><title>4</title>\r\n",
       "<polygon fill=\"#c0c0c0\" stroke=\"black\" points=\"90,-36 36,-36 36,-0 90,-0 90,-36\"/>\r\n",
       "<text text-anchor=\"middle\" x=\"63\" y=\"-14.3\" font-family=\"Times New Roman,serif\" font-size=\"14.00\">(...)</text>\r\n",
       "</g>\r\n",
       "<!-- 3&#45;&gt;4 -->\r\n",
       "<g id=\"edge4\" class=\"edge\"><title>3&#45;&gt;4</title>\r\n",
       "<path fill=\"none\" stroke=\"black\" d=\"M85.1844,-71.9961C81.536,-63.2804 77.6447,-53.9846 74.1564,-45.6514\"/>\r\n",
       "<polygon fill=\"black\" stroke=\"black\" points=\"77.3751,-44.2763 70.2851,-36.4034 70.918,-46.9793 77.3751,-44.2763\"/>\r\n",
       "</g>\r\n",
       "<!-- 27 -->\r\n",
       "<g id=\"node6\" class=\"node\"><title>27</title>\r\n",
       "<polygon fill=\"#c0c0c0\" stroke=\"black\" points=\"162,-36 108,-36 108,-0 162,-0 162,-36\"/>\r\n",
       "<text text-anchor=\"middle\" x=\"135\" y=\"-14.3\" font-family=\"Times New Roman,serif\" font-size=\"14.00\">(...)</text>\r\n",
       "</g>\r\n",
       "<!-- 3&#45;&gt;27 -->\r\n",
       "<g id=\"edge5\" class=\"edge\"><title>3&#45;&gt;27</title>\r\n",
       "<path fill=\"none\" stroke=\"black\" d=\"M112.816,-71.9961C116.464,-63.2804 120.355,-53.9846 123.844,-45.6514\"/>\r\n",
       "<polygon fill=\"black\" stroke=\"black\" points=\"127.082,-46.9793 127.715,-36.4034 120.625,-44.2763 127.082,-46.9793\"/>\r\n",
       "</g>\r\n",
       "<!-- 63 -->\r\n",
       "<g id=\"node8\" class=\"node\"><title>63</title>\r\n",
       "<polygon fill=\"#c0c0c0\" stroke=\"black\" points=\"308,-36 254,-36 254,-0 308,-0 308,-36\"/>\r\n",
       "<text text-anchor=\"middle\" x=\"281\" y=\"-14.3\" font-family=\"Times New Roman,serif\" font-size=\"14.00\">(...)</text>\r\n",
       "</g>\r\n",
       "<!-- 62&#45;&gt;63 -->\r\n",
       "<g id=\"edge7\" class=\"edge\"><title>62&#45;&gt;63</title>\r\n",
       "<path fill=\"none\" stroke=\"black\" d=\"M303.184,-71.9961C299.536,-63.2804 295.645,-53.9846 292.156,-45.6514\"/>\r\n",
       "<polygon fill=\"black\" stroke=\"black\" points=\"295.375,-44.2763 288.285,-36.4034 288.918,-46.9793 295.375,-44.2763\"/>\r\n",
       "</g>\r\n",
       "<!-- 64 -->\r\n",
       "<g id=\"node9\" class=\"node\"><title>64</title>\r\n",
       "<polygon fill=\"#c0c0c0\" stroke=\"black\" points=\"380,-36 326,-36 326,-0 380,-0 380,-36\"/>\r\n",
       "<text text-anchor=\"middle\" x=\"353\" y=\"-14.3\" font-family=\"Times New Roman,serif\" font-size=\"14.00\">(...)</text>\r\n",
       "</g>\r\n",
       "<!-- 62&#45;&gt;64 -->\r\n",
       "<g id=\"edge8\" class=\"edge\"><title>62&#45;&gt;64</title>\r\n",
       "<path fill=\"none\" stroke=\"black\" d=\"M330.816,-71.9961C334.464,-63.2804 338.355,-53.9846 341.844,-45.6514\"/>\r\n",
       "<polygon fill=\"black\" stroke=\"black\" points=\"345.082,-46.9793 345.715,-36.4034 338.625,-44.2763 345.082,-46.9793\"/>\r\n",
       "</g>\r\n",
       "<!-- 67 -->\r\n",
       "<g id=\"node12\" class=\"node\"><title>67</title>\r\n",
       "<polygon fill=\"#e58139\" fill-opacity=\"0.756863\" stroke=\"black\" points=\"752.5,-244 545.5,-244 545.5,-176 752.5,-176 752.5,-244\"/>\r\n",
       "<text text-anchor=\"start\" x=\"553.5\" y=\"-228.8\" font-family=\"Times New Roman,serif\" font-size=\"14.00\">LXV_WindDirection_deg ≤ 240.0</text>\r\n",
       "<text text-anchor=\"start\" x=\"614\" y=\"-213.8\" font-family=\"Times New Roman,serif\" font-size=\"14.00\">mse = 6.222</text>\r\n",
       "<text text-anchor=\"start\" x=\"615\" y=\"-198.8\" font-family=\"Times New Roman,serif\" font-size=\"14.00\">samples = 3</text>\r\n",
       "<text text-anchor=\"start\" x=\"608\" y=\"-183.8\" font-family=\"Times New Roman,serif\" font-size=\"14.00\">value = 11.333</text>\r\n",
       "</g>\r\n",
       "<!-- 66&#45;&gt;67 -->\r\n",
       "<g id=\"edge11\" class=\"edge\"><title>66&#45;&gt;67</title>\r\n",
       "<path fill=\"none\" stroke=\"black\" d=\"M655.753,-279.884C654.959,-271.778 654.096,-262.982 653.262,-254.472\"/>\r\n",
       "<polygon fill=\"black\" stroke=\"black\" points=\"656.724,-253.91 652.265,-244.299 649.757,-254.593 656.724,-253.91\"/>\r\n",
       "</g>\r\n",
       "<!-- 72 -->\r\n",
       "<g id=\"node17\" class=\"node\"><title>72</title>\r\n",
       "<polygon fill=\"#e58139\" fill-opacity=\"0.164706\" stroke=\"black\" points=\"961.5,-244 770.5,-244 770.5,-176 961.5,-176 961.5,-244\"/>\r\n",
       "<text text-anchor=\"start\" x=\"778.5\" y=\"-228.8\" font-family=\"Times New Roman,serif\" font-size=\"14.00\">CMtn_Dewpoint_degC ≤ &#45;14.5</text>\r\n",
       "<text text-anchor=\"start\" x=\"831\" y=\"-213.8\" font-family=\"Times New Roman,serif\" font-size=\"14.00\">mse = 2.139</text>\r\n",
       "<text text-anchor=\"start\" x=\"832\" y=\"-198.8\" font-family=\"Times New Roman,serif\" font-size=\"14.00\">samples = 6</text>\r\n",
       "<text text-anchor=\"start\" x=\"828\" y=\"-183.8\" font-family=\"Times New Roman,serif\" font-size=\"14.00\">value = 4.833</text>\r\n",
       "</g>\r\n",
       "<!-- 66&#45;&gt;72 -->\r\n",
       "<g id=\"edge16\" class=\"edge\"><title>66&#45;&gt;72</title>\r\n",
       "<path fill=\"none\" stroke=\"black\" d=\"M726.207,-279.884C746.465,-269.901 768.848,-258.872 789.655,-248.619\"/>\r\n",
       "<polygon fill=\"black\" stroke=\"black\" points=\"791.353,-251.684 798.776,-244.125 788.259,-245.405 791.353,-251.684\"/>\r\n",
       "</g>\r\n",
       "<!-- 68 -->\r\n",
       "<g id=\"node13\" class=\"node\"><title>68</title>\r\n",
       "<polygon fill=\"#e58139\" fill-opacity=\"0.909804\" stroke=\"black\" points=\"629,-140 449,-140 449,-72 629,-72 629,-140\"/>\r\n",
       "<text text-anchor=\"start\" x=\"457\" y=\"-124.8\" font-family=\"Times New Roman,serif\" font-size=\"14.00\">LXV_Dewpoint_degC ≤ &#45;6.1</text>\r\n",
       "<text text-anchor=\"start\" x=\"511\" y=\"-109.8\" font-family=\"Times New Roman,serif\" font-size=\"14.00\">mse = 1.0</text>\r\n",
       "<text text-anchor=\"start\" x=\"505\" y=\"-94.8\" font-family=\"Times New Roman,serif\" font-size=\"14.00\">samples = 2</text>\r\n",
       "<text text-anchor=\"start\" x=\"504.5\" y=\"-79.8\" font-family=\"Times New Roman,serif\" font-size=\"14.00\">value = 13.0</text>\r\n",
       "</g>\r\n",
       "<!-- 67&#45;&gt;68 -->\r\n",
       "<g id=\"edge12\" class=\"edge\"><title>67&#45;&gt;68</title>\r\n",
       "<path fill=\"none\" stroke=\"black\" d=\"M613.286,-175.884C603.392,-166.709 592.544,-156.65 582.27,-147.123\"/>\r\n",
       "<polygon fill=\"black\" stroke=\"black\" points=\"584.624,-144.532 574.911,-140.299 579.864,-149.665 584.624,-144.532\"/>\r\n",
       "</g>\r\n",
       "<!-- 71 -->\r\n",
       "<g id=\"node16\" class=\"node\"><title>71</title>\r\n",
       "<polygon fill=\"#e58139\" fill-opacity=\"0.454902\" stroke=\"black\" points=\"731,-132.5 647,-132.5 647,-79.5 731,-79.5 731,-132.5\"/>\r\n",
       "<text text-anchor=\"start\" x=\"661\" y=\"-117.3\" font-family=\"Times New Roman,serif\" font-size=\"14.00\">mse = 0.0</text>\r\n",
       "<text text-anchor=\"start\" x=\"655\" y=\"-102.3\" font-family=\"Times New Roman,serif\" font-size=\"14.00\">samples = 1</text>\r\n",
       "<text text-anchor=\"start\" x=\"658\" y=\"-87.3\" font-family=\"Times New Roman,serif\" font-size=\"14.00\">value = 8.0</text>\r\n",
       "</g>\r\n",
       "<!-- 67&#45;&gt;71 -->\r\n",
       "<g id=\"edge15\" class=\"edge\"><title>67&#45;&gt;71</title>\r\n",
       "<path fill=\"none\" stroke=\"black\" d=\"M661.987,-175.884C666.257,-164.996 671.015,-152.863 675.333,-141.85\"/>\r\n",
       "<polygon fill=\"black\" stroke=\"black\" points=\"678.6,-143.107 678.992,-132.52 672.083,-140.552 678.6,-143.107\"/>\r\n",
       "</g>\r\n",
       "<!-- 69 -->\r\n",
       "<g id=\"node14\" class=\"node\"><title>69</title>\r\n",
       "<polygon fill=\"#c0c0c0\" stroke=\"black\" points=\"530,-36 476,-36 476,-0 530,-0 530,-36\"/>\r\n",
       "<text text-anchor=\"middle\" x=\"503\" y=\"-14.3\" font-family=\"Times New Roman,serif\" font-size=\"14.00\">(...)</text>\r\n",
       "</g>\r\n",
       "<!-- 68&#45;&gt;69 -->\r\n",
       "<g id=\"edge13\" class=\"edge\"><title>68&#45;&gt;69</title>\r\n",
       "<path fill=\"none\" stroke=\"black\" d=\"M525.184,-71.9961C521.536,-63.2804 517.645,-53.9846 514.156,-45.6514\"/>\r\n",
       "<polygon fill=\"black\" stroke=\"black\" points=\"517.375,-44.2763 510.285,-36.4034 510.918,-46.9793 517.375,-44.2763\"/>\r\n",
       "</g>\r\n",
       "<!-- 70 -->\r\n",
       "<g id=\"node15\" class=\"node\"><title>70</title>\r\n",
       "<polygon fill=\"#c0c0c0\" stroke=\"black\" points=\"602,-36 548,-36 548,-0 602,-0 602,-36\"/>\r\n",
       "<text text-anchor=\"middle\" x=\"575\" y=\"-14.3\" font-family=\"Times New Roman,serif\" font-size=\"14.00\">(...)</text>\r\n",
       "</g>\r\n",
       "<!-- 68&#45;&gt;70 -->\r\n",
       "<g id=\"edge14\" class=\"edge\"><title>68&#45;&gt;70</title>\r\n",
       "<path fill=\"none\" stroke=\"black\" d=\"M552.816,-71.9961C556.464,-63.2804 560.355,-53.9846 563.844,-45.6514\"/>\r\n",
       "<polygon fill=\"black\" stroke=\"black\" points=\"567.082,-46.9793 567.715,-36.4034 560.625,-44.2763 567.082,-46.9793\"/>\r\n",
       "</g>\r\n",
       "<!-- 73 -->\r\n",
       "<g id=\"node18\" class=\"node\"><title>73</title>\r\n",
       "<polygon fill=\"#e58139\" fill-opacity=\"0.317647\" stroke=\"black\" points=\"949,-140 755,-140 755,-72 949,-72 949,-140\"/>\r\n",
       "<text text-anchor=\"start\" x=\"763\" y=\"-124.8\" font-family=\"Times New Roman,serif\" font-size=\"14.00\">LXV_Dewpoint_degC ≤ &#45;10.55</text>\r\n",
       "<text text-anchor=\"start\" x=\"820.5\" y=\"-109.8\" font-family=\"Times New Roman,serif\" font-size=\"14.00\">mse = 0.25</text>\r\n",
       "<text text-anchor=\"start\" x=\"818\" y=\"-94.8\" font-family=\"Times New Roman,serif\" font-size=\"14.00\">samples = 2</text>\r\n",
       "<text text-anchor=\"start\" x=\"821\" y=\"-79.8\" font-family=\"Times New Roman,serif\" font-size=\"14.00\">value = 6.5</text>\r\n",
       "</g>\r\n",
       "<!-- 72&#45;&gt;73 -->\r\n",
       "<g id=\"edge17\" class=\"edge\"><title>72&#45;&gt;73</title>\r\n",
       "<path fill=\"none\" stroke=\"black\" d=\"M861.455,-175.884C860.342,-167.778 859.135,-158.982 857.967,-150.472\"/>\r\n",
       "<polygon fill=\"black\" stroke=\"black\" points=\"861.398,-149.731 856.571,-140.299 854.463,-150.682 861.398,-149.731\"/>\r\n",
       "</g>\r\n",
       "<!-- 76 -->\r\n",
       "<g id=\"node21\" class=\"node\"><title>76</title>\r\n",
       "<polygon fill=\"#e58139\" fill-opacity=\"0.090196\" stroke=\"black\" points=\"1153,-140 967,-140 967,-72 1153,-72 1153,-140\"/>\r\n",
       "<text text-anchor=\"start\" x=\"975\" y=\"-124.8\" font-family=\"Times New Roman,serif\" font-size=\"14.00\">CMtn_WindSpeed_mps ≤ 9.5</text>\r\n",
       "<text text-anchor=\"start\" x=\"1032\" y=\"-109.8\" font-family=\"Times New Roman,serif\" font-size=\"14.00\">mse = 1.0</text>\r\n",
       "<text text-anchor=\"start\" x=\"1026\" y=\"-94.8\" font-family=\"Times New Roman,serif\" font-size=\"14.00\">samples = 4</text>\r\n",
       "<text text-anchor=\"start\" x=\"1029\" y=\"-79.8\" font-family=\"Times New Roman,serif\" font-size=\"14.00\">value = 4.0</text>\r\n",
       "</g>\r\n",
       "<!-- 72&#45;&gt;76 -->\r\n",
       "<g id=\"edge20\" class=\"edge\"><title>72&#45;&gt;76</title>\r\n",
       "<path fill=\"none\" stroke=\"black\" d=\"M928.986,-175.884C947.802,-165.991 968.573,-155.07 987.924,-144.895\"/>\r\n",
       "<polygon fill=\"black\" stroke=\"black\" points=\"989.776,-147.876 996.998,-140.125 986.518,-141.681 989.776,-147.876\"/>\r\n",
       "</g>\r\n",
       "<!-- 74 -->\r\n",
       "<g id=\"node19\" class=\"node\"><title>74</title>\r\n",
       "<polygon fill=\"#c0c0c0\" stroke=\"black\" points=\"843,-36 789,-36 789,-0 843,-0 843,-36\"/>\r\n",
       "<text text-anchor=\"middle\" x=\"816\" y=\"-14.3\" font-family=\"Times New Roman,serif\" font-size=\"14.00\">(...)</text>\r\n",
       "</g>\r\n",
       "<!-- 73&#45;&gt;74 -->\r\n",
       "<g id=\"edge18\" class=\"edge\"><title>73&#45;&gt;74</title>\r\n",
       "<path fill=\"none\" stroke=\"black\" d=\"M838.184,-71.9961C834.536,-63.2804 830.645,-53.9846 827.156,-45.6514\"/>\r\n",
       "<polygon fill=\"black\" stroke=\"black\" points=\"830.375,-44.2763 823.285,-36.4034 823.918,-46.9793 830.375,-44.2763\"/>\r\n",
       "</g>\r\n",
       "<!-- 75 -->\r\n",
       "<g id=\"node20\" class=\"node\"><title>75</title>\r\n",
       "<polygon fill=\"#c0c0c0\" stroke=\"black\" points=\"915,-36 861,-36 861,-0 915,-0 915,-36\"/>\r\n",
       "<text text-anchor=\"middle\" x=\"888\" y=\"-14.3\" font-family=\"Times New Roman,serif\" font-size=\"14.00\">(...)</text>\r\n",
       "</g>\r\n",
       "<!-- 73&#45;&gt;75 -->\r\n",
       "<g id=\"edge19\" class=\"edge\"><title>73&#45;&gt;75</title>\r\n",
       "<path fill=\"none\" stroke=\"black\" d=\"M865.816,-71.9961C869.464,-63.2804 873.355,-53.9846 876.844,-45.6514\"/>\r\n",
       "<polygon fill=\"black\" stroke=\"black\" points=\"880.082,-46.9793 880.715,-36.4034 873.625,-44.2763 880.082,-46.9793\"/>\r\n",
       "</g>\r\n",
       "<!-- 77 -->\r\n",
       "<g id=\"node22\" class=\"node\"><title>77</title>\r\n",
       "<polygon fill=\"#c0c0c0\" stroke=\"black\" points=\"1051,-36 997,-36 997,-0 1051,-0 1051,-36\"/>\r\n",
       "<text text-anchor=\"middle\" x=\"1024\" y=\"-14.3\" font-family=\"Times New Roman,serif\" font-size=\"14.00\">(...)</text>\r\n",
       "</g>\r\n",
       "<!-- 76&#45;&gt;77 -->\r\n",
       "<g id=\"edge21\" class=\"edge\"><title>76&#45;&gt;77</title>\r\n",
       "<path fill=\"none\" stroke=\"black\" d=\"M1046.18,-71.9961C1042.54,-63.2804 1038.64,-53.9846 1035.16,-45.6514\"/>\r\n",
       "<polygon fill=\"black\" stroke=\"black\" points=\"1038.38,-44.2763 1031.29,-36.4034 1031.92,-46.9793 1038.38,-44.2763\"/>\r\n",
       "</g>\r\n",
       "<!-- 78 -->\r\n",
       "<g id=\"node23\" class=\"node\"><title>78</title>\r\n",
       "<polygon fill=\"#c0c0c0\" stroke=\"black\" points=\"1123,-36 1069,-36 1069,-0 1123,-0 1123,-36\"/>\r\n",
       "<text text-anchor=\"middle\" x=\"1096\" y=\"-14.3\" font-family=\"Times New Roman,serif\" font-size=\"14.00\">(...)</text>\r\n",
       "</g>\r\n",
       "<!-- 76&#45;&gt;78 -->\r\n",
       "<g id=\"edge22\" class=\"edge\"><title>76&#45;&gt;78</title>\r\n",
       "<path fill=\"none\" stroke=\"black\" d=\"M1073.82,-71.9961C1077.46,-63.2804 1081.36,-53.9846 1084.84,-45.6514\"/>\r\n",
       "<polygon fill=\"black\" stroke=\"black\" points=\"1088.08,-46.9793 1088.71,-36.4034 1081.62,-44.2763 1088.08,-46.9793\"/>\r\n",
       "</g>\r\n",
       "</g>\r\n",
       "</svg>\r\n"
      ],
      "text/plain": [
       "<graphviz.files.Source at 0x1925150>"
      ]
     },
     "execution_count": 25,
     "metadata": {},
     "output_type": "execute_result"
    }
   ],
   "source": [
    "import graphviz \n",
    "\n",
    "fn = [\"A\", \"B\", \"C\", \"D\", \"E\", \"F\", \"G\", \"H\", \"I\", \"J\", \"K\"]\n",
    "#dot_data = tree.export_graphviz(clf, out_file=None, \\\n",
    "#                                feature_names=['CMtnSNTL_Temp_degC', 'CMtn_Temperature_degC', 'CMtn_Dewpoint_degC', 'CMtn_WindDirection_deg', 'CMtn_WindSpeed_mps', 'LXV_Temperature_degC', 'LXV_Dewpoint_degC', 'LXV_Pressure_hp', 'LXV_WindSpeed_mps', 'LXV_WindDirection_deg', 'LXV_12hr_delta_Pressure_hp'], \\\n",
    "#                                label = 'all', filled = True,special_characters = True, class_names = True, max_depth = 10) \n",
    "\n",
    "dot_data = tree.export_graphviz(clf, out_file=None, \\\n",
    "                                feature_names=good_vars_sfc, \\\n",
    "                                label = 'all', filled = True,special_characters = True, class_names = True, max_depth = 3) \n",
    "\n",
    "\n",
    "print(good_vars_sfc)\n",
    "graph = graphviz.Source(dot_data) \n",
    "#graph.render() \n",
    "#dot_data = tree.export_graphviz(clf, out_file=None, \n",
    "#                      feature_names=iris.feature_names,  \n",
    "#                      class_names=iris.target_names,  \n",
    "#                      filled=True, rounded=True,  \n",
    "#                      special_characters=True)\n",
    "\n",
    "#dot_data = tree.export_graphviz(clf)\n",
    "tree.export_graphviz(clf)\n",
    "graph = graphviz.Source(dot_data)  \n",
    "graph "
   ]
  },
  {
   "cell_type": "markdown",
   "metadata": {},
   "source": [
    "Try max depth 10"
   ]
  },
  {
   "cell_type": "code",
   "execution_count": 67,
   "metadata": {},
   "outputs": [
    {
     "name": "stdout",
     "output_type": "stream",
     "text": [
      "DecisionTreeRegressor(criterion='mse', max_depth=3, max_features=None,\n",
      "           max_leaf_nodes=None, min_impurity_decrease=0.0,\n",
      "           min_impurity_split=None, min_samples_leaf=1,\n",
      "           min_samples_split=2, min_weight_fraction_leaf=0.0,\n",
      "           presort=False, random_state=None, splitter='best')\n",
      "6.9881404689535405\n",
      "47\n"
     ]
    },
    {
     "data": {
      "image/png": "[encoded data removed]",
      "text/plain": [
       "<Figure size 720x504 with 1 Axes>"
      ]
     },
     "metadata": {},
     "output_type": "display_data"
    }
   ],
   "source": [
    "clf =[]\n",
    "Y_predsnf = []\n",
    "\n",
    "from sklearn import tree\n",
    "clf = tree.DecisionTreeRegressor(max_depth=3)\n",
    "clf = clf.fit(Xtrain_feat, Ytrain_actsnf)\n",
    "\n",
    "print(clf)\n",
    "\n",
    "# Predict test set labels\n",
    "Y_predsnf = clf.predict(Xtest_feat)\n",
    "# Evaluate test-set accuracy\n",
    "\n",
    "\n",
    "from sklearn.metrics import mean_squared_error\n",
    "print(mean_squared_error(Ytest_actsnf, Y_predsnf))\n",
    "#plt.plot(Ytestlist-y_pred) \n",
    "\n",
    "\n",
    "fig = plt.figure(figsize=(10,7))\n",
    "plt.scatter(Y_predsnf, Ytest_actsnf-Y_predsnf)\n",
    "plt.xlabel('Predicted Snowfall (in)')\n",
    "plt.ylabel('Actual Minus Predicted Snowfall (in)')\n",
    "plt.grid(True)\n",
    "\n",
    "\n",
    "plt.annotate('n=' + str(len(Y_predsnf)), xy=(0.9, 0.9), xycoords='axes fraction', fontsize=20)\n",
    "\n",
    "print(len(Y_predsnf))\n",
    "\n",
    "plt.title('Max Depth 3: Predicted vs Residuals', fontsize = 16)\n",
    "\n",
    "plt.savefig('C:/Users/RAPP/Documents/Capstone/MS_CS_report/figs/TREE_pred_vs_residuals_SFC.png',bbox_inches='tight')"
   ]
  },
  {
   "cell_type": "markdown",
   "metadata": {},
   "source": [
    "Try multpile max depths"
   ]
  },
  {
   "cell_type": "code",
   "execution_count": 68,
   "metadata": {},
   "outputs": [
    {
     "data": {
      "image/png": "[encoded data removed]",
      "text/plain": [
       "<Figure size 720x504 with 1 Axes>"
      ]
     },
     "metadata": {},
     "output_type": "display_data"
    }
   ],
   "source": [
    "from scipy.stats import pearsonr, linregress\n",
    "from sklearn.metrics import mean_squared_error\n",
    "\n",
    "\n",
    "fig = plt.figure(figsize=(10,7))\n",
    "\n",
    "## Do linear regression and calculate slope, intercept, r, p, std err\n",
    "slope1, intercept1, r_value1, p_value1, std_err1 = linregress(Y_predsnf, Ytest_actsnf)\n",
    "#Calculate mse and rmse\n",
    "mse = mean_squared_error(Y_predsnf, Ytest_actsnf)\n",
    "rmse = np.sqrt(mse)\n",
    "pearson1, pv = pearsonr(Y_predsnf, Ytest_actsnf)\n",
    "\n",
    "#plot and annotate\n",
    "sns.regplot(Y_predsnf, Ytest_actsnf)\n",
    "bbox_props=dict(facecolor='red', alpha=0.75, fc = 'white')\n",
    "plt.annotate(' slope: ' + str(round(slope1,3)) +\n",
    "                 '\\n intercept: ' + str(round(intercept1,3)) + \n",
    "                 '\\n R value: ' + str(round(r_value1,3)) +  \n",
    "                 '\\n p value: ' + str(round(p_value1,3)) + \n",
    "                 '\\n standard error: ' + str(round(std_err1,3)) +\n",
    "                 '\\n Pearson coefficent: ' + str(round(pearson1,3)) +\n",
    "                 '\\n mean squared error: ' + str(round(mse,3)) +\n",
    "                 '\\n root mean squared error: ' + str(round(rmse,3)), \\\n",
    "                 xy=(0.03, 0.72), xycoords='axes fraction', fontsize=10, bbox = bbox_props)\n",
    "\n",
    "plt.xlabel('Predicted Snowfall (inches)')\n",
    "plt.ylabel('Actual Snowfall (inches)')\n",
    "#plt.xlim([3,6])\n",
    "#plt.ylim([-3,16])\n",
    "plt.grid(True)\n",
    "plt.title('Max Depth 3: Predicted vs Actual Snowfall Amounts', fontsize = 16)\n",
    "\n",
    "plt.savefig('C:/Users/RAPP/Documents/Capstone/MS_CS_report/figs/TREE_pred_vs_act_SFC.png',bbox_inches='tight')"
   ]
  },
  {
   "cell_type": "code",
   "execution_count": 60,
   "metadata": {},
   "outputs": [
    {
     "data": {
      "image/png": "[encoded data removed]",
      "text/plain": [
       "<Figure size 720x504 with 1 Axes>"
      ]
     },
     "metadata": {},
     "output_type": "display_data"
    }
   ],
   "source": [
    "from sklearn import tree\n",
    "from sklearn.metrics import accuracy_score\n",
    "mse = []\n",
    "\n",
    "for i in range(1,20):\n",
    "  clf = []\n",
    "  clf = tree.DecisionTreeRegressor(max_depth=i)\n",
    "  clf = clf.fit(Xtrain_feat, Ytrain_actsnf)\n",
    "\n",
    "#print(clf)\n",
    "\n",
    "# Predict test set labels\n",
    "  Y_predsnf = clf.predict(Xtest_feat)\n",
    "# Evaluate test-set accuracy\n",
    "\n",
    "\n",
    "  mse.append(mean_squared_error(Ytest_actsnf, Y_predsnf))\n",
    "#plt.plot(Ytestlist-y_pred) \n",
    "\n",
    "\n",
    "fig = plt.figure(figsize=(10,7))\n",
    "plt.plot(mse)\n",
    "plt.xlabel('Depth')\n",
    "plt.ylabel('MSE')\n",
    "plt.xlim(0,20)\n",
    "plt.grid(True)\n",
    "#plt.scatter(y_pred, Ytestlist-y_pred)\n",
    "plt.title('Decision Tree Depth vs Mean Squared Error', fontsize = 16)\n",
    "\n",
    "plt.savefig('C:/Users/RAPP/Documents/Capstone/MS_CS_report/figs/TREE_depth_vs_mse_SFC.png',bbox_inches='tight')"
   ]
  },
  {
   "cell_type": "code",
   "execution_count": 15,
   "metadata": {},
   "outputs": [
    {
     "name": "stdout",
     "output_type": "stream",
     "text": [
      "180\n"
     ]
    },
    {
     "data": {
      "image/png": "[encoded data removed]",
      "text/plain": [
       "<Figure size 432x288 with 1 Axes>"
      ]
     },
     "metadata": {},
     "output_type": "display_data"
    }
   ],
   "source": [
    "#plt.plot(Ytest_actsnf)\n",
    "#asos_snotel_UA_df[train_yrs][good_vars_sfc][idx_train]\n",
    "print(len(asos_snotel_UA_df[train_yrs]['CMtn_Dewpoint_degC'][idx_train]))\n",
    "sns.regplot(asos_snotel_UA_df[train_yrs]['CMtn_Dewpoint_degC'][idx_train], asos_snotel_UA_df[train_yrs]['CMtnSNTL_Upcoming12hrSNOWFALL_gte3_in'][idx_train])\n",
    "plt.grid(True)"
   ]
  },
  {
   "cell_type": "code",
   "execution_count": 16,
   "metadata": {},
   "outputs": [
    {
     "name": "stdout",
     "output_type": "stream",
     "text": [
      "47\n"
     ]
    },
    {
     "data": {
      "image/png": "[encoded data removed]",
      "text/plain": [
       "<Figure size 432x288 with 1 Axes>"
      ]
     },
     "metadata": {},
     "output_type": "display_data"
    }
   ],
   "source": [
    "print(len(asos_snotel_UA_df[test_yrs]['CMtn_Dewpoint_degC'][idx_test]))\n",
    "sns.regplot(asos_snotel_UA_df[test_yrs]['CMtn_Dewpoint_degC'][idx_test], asos_snotel_UA_df[test_yrs]['CMtnSNTL_Upcoming12hrSNOWFALL_gte3_in'][idx_test])\n",
    "plt.grid(True)"
   ]
  }
 ],
 "metadata": {
  "kernelspec": {
   "display_name": "Python 3",
   "language": "python",
   "name": "python3"
  },
  "language_info": {
   "codemirror_mode": {
    "name": "ipython",
    "version": 3
   },
   "file_extension": ".py",
   "mimetype": "text/x-python",
   "name": "python",
   "nbconvert_exporter": "python",
   "pygments_lexer": "ipython3",
   "version": "3.6.5"
  }
 },
 "nbformat": 4,
 "nbformat_minor": 2
}
