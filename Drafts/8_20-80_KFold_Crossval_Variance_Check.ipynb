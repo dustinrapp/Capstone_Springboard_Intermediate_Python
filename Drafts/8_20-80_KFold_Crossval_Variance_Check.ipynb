{
 "cells": [
  {
   "cell_type": "markdown",
   "metadata": {},
   "source": [
    "## Data Prep"
   ]
  },
  {
   "cell_type": "markdown",
   "metadata": {},
   "source": [
    "**Import necessary modules and the ASOS/SNOTEL dataframes**"
   ]
  },
  {
   "cell_type": "code",
   "execution_count": 1,
   "metadata": {},
   "outputs": [
    {
     "name": "stdout",
     "output_type": "stream",
     "text": [
      "\n",
      "INSTALLED VERSIONS\n",
      "------------------\n",
      "commit: None\n",
      "python: 3.6.5.final.0\n",
      "python-bits: 32\n",
      "OS: Windows\n",
      "OS-release: 10\n",
      "machine: AMD64\n",
      "processor: Intel64 Family 6 Model 142 Stepping 9, GenuineIntel\n",
      "byteorder: little\n",
      "LC_ALL: None\n",
      "LANG: en_US.UTF-8\n",
      "LOCALE: None.None\n",
      "\n",
      "pandas: 0.24.0\n",
      "pytest: None\n",
      "pip: 18.1\n",
      "setuptools: 39.0.1\n",
      "Cython: None\n",
      "numpy: 1.14.3\n",
      "scipy: 1.1.0\n",
      "pyarrow: None\n",
      "xarray: None\n",
      "IPython: 6.4.0\n",
      "sphinx: None\n",
      "patsy: 0.5.1\n",
      "dateutil: 2.7.3\n",
      "pytz: 2018.4\n",
      "blosc: None\n",
      "bottleneck: None\n",
      "tables: None\n",
      "numexpr: None\n",
      "feather: None\n",
      "matplotlib: 2.2.2\n",
      "openpyxl: None\n",
      "xlrd: None\n",
      "xlwt: None\n",
      "xlsxwriter: None\n",
      "lxml.etree: 4.2.5\n",
      "bs4: None\n",
      "html5lib: 1.0.1\n",
      "sqlalchemy: None\n",
      "pymysql: None\n",
      "psycopg2: None\n",
      "jinja2: 2.10\n",
      "s3fs: None\n",
      "fastparquet: None\n",
      "pandas_gbq: None\n",
      "pandas_datareader: None\n",
      "gcsfs: None\n"
     ]
    },
    {
     "data": {
      "text/plain": [
       "'c:\\\\users\\\\rapp\\\\appdata\\\\local\\\\programs\\\\python\\\\python36-32\\\\python.exe'"
      ]
     },
     "execution_count": 1,
     "metadata": {},
     "output_type": "execute_result"
    }
   ],
   "source": [
    "import pandas as pd\n",
    "import matplotlib.pyplot as plt\n",
    "import numpy as np\n",
    "import datetime as dtb\n",
    "import os\n",
    "from glob import glob\n",
    "import datetime as dt\n",
    "import seaborn as sns\n",
    "pd.show_versions()\n",
    "import sys\n",
    "import graphviz\n",
    "sys.executable\n",
    "#import graphviz"
   ]
  },
  {
   "cell_type": "code",
   "execution_count": 2,
   "metadata": {},
   "outputs": [
    {
     "name": "stdout",
     "output_type": "stream",
     "text": [
      "Index(['CMtnSNTL_Temp_degC', 'CMtnSNTL_SnowDepth_in', 'CMtn_Temperature_degC',\n",
      "       'CMtn_Dewpoint_degC', 'CMtn_WindDirection_deg', 'CMtn_WindSpeed_mps',\n",
      "       'CMtn_CloudCover_oktas', 'CMtn_1hr_Precipitation_mm',\n",
      "       'LXV_Temperature_degC', 'LXV_Dewpoint_degC',\n",
      "       ...\n",
      "       'KGJT_d300_200_height_m', 'KGJT_d300_200_tmpc', 'KGJT_d300_200_dwpc',\n",
      "       'KGJT_d300_200_drct', 'KGJT_d300_200_speed_kts',\n",
      "       'KGJT_d250_200_height_m', 'KGJT_d250_200_tmpc', 'KGJT_d250_200_dwpc',\n",
      "       'KGJT_d250_200_drct', 'KGJT_d250_200_speed_kts'],\n",
      "      dtype='object', length=163)\n"
     ]
    }
   ],
   "source": [
    "data = [pd.read_csv('asos_snotel_UA_12hr_df.dat', parse_dates = True, index_col = 'Date_Time')]\n",
    "asos_snotel_UA_df = pd.concat(data)\n",
    "#asos_snotel_UA_df['LXV_WindSpeed_m/s']\n",
    "\n",
    "#asos_snotel_UA_df.rename(columns={'LXV_WindSpeed_m/s': 'LXV_WindSpeed_mps'}, inplace=True)\n",
    "\n",
    "asos_snotel_UA_df.astype('float16')\n",
    "pd.set_option('display.expand_frame_repr', True)\n",
    "\n",
    "\n",
    "print(asos_snotel_UA_df.keys())\n",
    "\n"
   ]
  },
  {
   "cell_type": "code",
   "execution_count": 3,
   "metadata": {},
   "outputs": [
    {
     "name": "stdout",
     "output_type": "stream",
     "text": [
      "Variables with >= 67% data match to snowfall: \n",
      "['CMtnSNTL_Temp_degC', 'CMtn_Temperature_degC', 'CMtn_Dewpoint_degC', 'CMtn_WindDirection_deg', 'CMtn_WindSpeed_mps', 'LXV_Temperature_degC', 'LXV_Dewpoint_degC', 'LXV_Pressure_hp', 'LXV_WindSpeed_mps', 'LXV_WindDirection_deg', 'LXV_12hr_delta_Pressure_hp', 'KGJT_200mb_height_m', 'KGJT_200mb_tmpc', 'KGJT_200mb_dwpc', 'KGJT_200mb_drct', 'KGJT_200mb_speed_kts', 'KGJT_250mb_height_m', 'KGJT_250mb_tmpc', 'KGJT_250mb_dwpc', 'KGJT_250mb_drct', 'KGJT_250mb_speed_kts', 'KGJT_300mb_height_m', 'KGJT_300mb_tmpc', 'KGJT_300mb_dwpc', 'KGJT_300mb_drct', 'KGJT_300mb_speed_kts', 'KGJT_400mb_height_m', 'KGJT_400mb_tmpc', 'KGJT_400mb_dwpc', 'KGJT_400mb_drct', 'KGJT_400mb_speed_kts', 'KGJT_500mb_height_m', 'KGJT_500mb_tmpc', 'KGJT_500mb_dwpc', 'KGJT_500mb_drct', 'KGJT_500mb_speed_kts', 'KGJT_700mb_height_m', 'KGJT_700mb_tmpc', 'KGJT_700mb_dwpc', 'KGJT_700mb_drct', 'KGJT_700mb_speed_kts', 'KGJT_850mb_height_m', 'KGJT_d850_700_height_m', 'KGJT_d850_500_height_m', 'KGJT_d850_400_height_m', 'KGJT_d850_300_height_m', 'KGJT_d850_250_height_m', 'KGJT_d850_200_height_m', 'KGJT_d700_500_height_m', 'KGJT_d700_500_tmpc', 'KGJT_d700_500_dwpc', 'KGJT_d700_500_drct', 'KGJT_d700_500_speed_kts', 'KGJT_d700_400_height_m', 'KGJT_d700_400_tmpc', 'KGJT_d700_400_dwpc', 'KGJT_d700_400_drct', 'KGJT_d700_400_speed_kts', 'KGJT_d700_300_height_m', 'KGJT_d700_300_tmpc', 'KGJT_d700_300_dwpc', 'KGJT_d700_300_drct', 'KGJT_d700_300_speed_kts', 'KGJT_d700_250_height_m', 'KGJT_d700_250_tmpc', 'KGJT_d700_250_dwpc', 'KGJT_d700_250_drct', 'KGJT_d700_250_speed_kts', 'KGJT_d700_200_height_m', 'KGJT_d700_200_tmpc', 'KGJT_d700_200_dwpc', 'KGJT_d700_200_drct', 'KGJT_d700_200_speed_kts', 'KGJT_d500_400_height_m', 'KGJT_d500_400_tmpc', 'KGJT_d500_400_dwpc', 'KGJT_d500_400_drct', 'KGJT_d500_400_speed_kts', 'KGJT_d500_300_height_m', 'KGJT_d500_300_tmpc', 'KGJT_d500_300_dwpc', 'KGJT_d500_300_drct', 'KGJT_d500_300_speed_kts', 'KGJT_d500_250_height_m', 'KGJT_d500_250_tmpc', 'KGJT_d500_250_dwpc', 'KGJT_d500_250_drct', 'KGJT_d500_250_speed_kts', 'KGJT_d500_200_height_m', 'KGJT_d500_200_tmpc', 'KGJT_d500_200_dwpc', 'KGJT_d500_200_drct', 'KGJT_d500_200_speed_kts', 'KGJT_d400_300_height_m', 'KGJT_d400_300_tmpc', 'KGJT_d400_300_dwpc', 'KGJT_d400_300_drct', 'KGJT_d400_300_speed_kts', 'KGJT_d400_250_height_m', 'KGJT_d400_250_tmpc', 'KGJT_d400_250_dwpc', 'KGJT_d400_250_drct', 'KGJT_d400_250_speed_kts', 'KGJT_d400_200_height_m', 'KGJT_d400_200_tmpc', 'KGJT_d400_200_dwpc', 'KGJT_d400_200_drct', 'KGJT_d400_200_speed_kts', 'KGJT_d300_250_height_m', 'KGJT_d300_250_tmpc', 'KGJT_d300_250_dwpc', 'KGJT_d300_250_drct', 'KGJT_d300_250_speed_kts', 'KGJT_d300_200_height_m', 'KGJT_d300_200_tmpc', 'KGJT_d300_200_dwpc', 'KGJT_d300_200_drct', 'KGJT_d300_200_speed_kts', 'KGJT_d250_200_height_m', 'KGJT_d250_200_tmpc', 'KGJT_d250_200_dwpc', 'KGJT_d250_200_drct', 'KGJT_d250_200_speed_kts']\n",
      "Variables with < 67% data match to snowfall: \n",
      "['CMtn_CloudCover_oktas', 'LXV_CloudCover_oktas', 'KGJT_850mb_tmpc', 'KGJT_850mb_dwpc', 'KGJT_850mb_drct', 'KGJT_850mb_speed_kts', 'KGJT_d850_700_tmpc', 'KGJT_d850_700_dwpc', 'KGJT_d850_700_drct', 'KGJT_d850_700_speed_kts', 'KGJT_d850_500_tmpc', 'KGJT_d850_500_dwpc', 'KGJT_d850_500_drct', 'KGJT_d850_500_speed_kts', 'KGJT_d850_400_tmpc', 'KGJT_d850_400_dwpc', 'KGJT_d850_400_drct', 'KGJT_d850_400_speed_kts', 'KGJT_d850_300_tmpc', 'KGJT_d850_300_dwpc', 'KGJT_d850_300_drct', 'KGJT_d850_300_speed_kts', 'KGJT_d850_250_tmpc', 'KGJT_d850_250_dwpc', 'KGJT_d850_250_drct', 'KGJT_d850_250_speed_kts', 'KGJT_d850_200_tmpc', 'KGJT_d850_200_dwpc', 'KGJT_d850_200_drct', 'KGJT_d850_200_speed_kts']\n"
     ]
    }
   ],
   "source": [
    "all_yrs = (asos_snotel_UA_df.index >= '01-01-2006') & (asos_snotel_UA_df.index < '01-01-2018')\n",
    "variables = ['CMtnSNTL_Temp_degC', 'CMtn_Temperature_degC', 'CMtn_Dewpoint_degC', 'CMtn_WindDirection_deg', 'CMtn_WindSpeed_mps', 'CMtn_CloudCover_oktas', \\\n",
    " 'LXV_Temperature_degC', 'LXV_Dewpoint_degC', 'LXV_Pressure_hp', 'LXV_WindSpeed_mps', 'LXV_WindDirection_deg', 'LXV_CloudCover_oktas', 'LXV_12hr_delta_Pressure_hp', \\\n",
    " 'KGJT_200mb_height_m', 'KGJT_200mb_tmpc', 'KGJT_200mb_dwpc', 'KGJT_200mb_drct', 'KGJT_200mb_speed_kts', \\\n",
    " 'KGJT_250mb_height_m', 'KGJT_250mb_tmpc', 'KGJT_250mb_dwpc', 'KGJT_250mb_drct', 'KGJT_250mb_speed_kts', \\\n",
    " 'KGJT_300mb_height_m', 'KGJT_300mb_tmpc', 'KGJT_300mb_dwpc', 'KGJT_300mb_drct', 'KGJT_300mb_speed_kts', \\\n",
    " 'KGJT_400mb_height_m', 'KGJT_400mb_tmpc', 'KGJT_400mb_dwpc', 'KGJT_400mb_drct', 'KGJT_400mb_speed_kts', \\\n",
    " 'KGJT_500mb_height_m', 'KGJT_500mb_tmpc', 'KGJT_500mb_dwpc', 'KGJT_500mb_drct', 'KGJT_500mb_speed_kts', \\\n",
    " 'KGJT_700mb_height_m', 'KGJT_700mb_tmpc', 'KGJT_700mb_dwpc', 'KGJT_700mb_drct', 'KGJT_700mb_speed_kts', \\\n",
    " 'KGJT_850mb_height_m', 'KGJT_850mb_tmpc', 'KGJT_850mb_dwpc', 'KGJT_850mb_drct', 'KGJT_850mb_speed_kts', \\\n",
    " 'KGJT_d850_700_height_m', 'KGJT_d850_700_tmpc', 'KGJT_d850_700_dwpc', 'KGJT_d850_700_drct', 'KGJT_d850_700_speed_kts', \\\n",
    " 'KGJT_d850_500_height_m', 'KGJT_d850_500_tmpc', 'KGJT_d850_500_dwpc', 'KGJT_d850_500_drct', 'KGJT_d850_500_speed_kts', \\\n",
    " 'KGJT_d850_400_height_m', 'KGJT_d850_400_tmpc', 'KGJT_d850_400_dwpc', 'KGJT_d850_400_drct', 'KGJT_d850_400_speed_kts', \\\n",
    " 'KGJT_d850_300_height_m', 'KGJT_d850_300_tmpc', 'KGJT_d850_300_dwpc', 'KGJT_d850_300_drct', 'KGJT_d850_300_speed_kts', \\\n",
    " 'KGJT_d850_250_height_m', 'KGJT_d850_250_tmpc', 'KGJT_d850_250_dwpc', 'KGJT_d850_250_drct', 'KGJT_d850_250_speed_kts', \\\n",
    " 'KGJT_d850_200_height_m', 'KGJT_d850_200_tmpc', 'KGJT_d850_200_dwpc', 'KGJT_d850_200_drct', 'KGJT_d850_200_speed_kts',\\\n",
    " 'KGJT_d700_500_height_m', 'KGJT_d700_500_tmpc', 'KGJT_d700_500_dwpc', 'KGJT_d700_500_drct', 'KGJT_d700_500_speed_kts', \\\n",
    " 'KGJT_d700_400_height_m', 'KGJT_d700_400_tmpc', 'KGJT_d700_400_dwpc', 'KGJT_d700_400_drct', 'KGJT_d700_400_speed_kts', \\\n",
    " 'KGJT_d700_300_height_m', 'KGJT_d700_300_tmpc', 'KGJT_d700_300_dwpc', 'KGJT_d700_300_drct', 'KGJT_d700_300_speed_kts', \\\n",
    " 'KGJT_d700_250_height_m', 'KGJT_d700_250_tmpc', 'KGJT_d700_250_dwpc', 'KGJT_d700_250_drct', 'KGJT_d700_250_speed_kts', \\\n",
    " 'KGJT_d700_200_height_m', 'KGJT_d700_200_tmpc', 'KGJT_d700_200_dwpc', 'KGJT_d700_200_drct', 'KGJT_d700_200_speed_kts', \\\n",
    " 'KGJT_d500_400_height_m', 'KGJT_d500_400_tmpc', 'KGJT_d500_400_dwpc', 'KGJT_d500_400_drct', 'KGJT_d500_400_speed_kts', \\\n",
    " 'KGJT_d500_300_height_m', 'KGJT_d500_300_tmpc', 'KGJT_d500_300_dwpc', 'KGJT_d500_300_drct', 'KGJT_d500_300_speed_kts', \\\n",
    " 'KGJT_d500_250_height_m', 'KGJT_d500_250_tmpc', 'KGJT_d500_250_dwpc', 'KGJT_d500_250_drct', 'KGJT_d500_250_speed_kts', \\\n",
    " 'KGJT_d500_200_height_m', 'KGJT_d500_200_tmpc', 'KGJT_d500_200_dwpc', 'KGJT_d500_200_drct', 'KGJT_d500_200_speed_kts', \\\n",
    " 'KGJT_d400_300_height_m', 'KGJT_d400_300_tmpc', 'KGJT_d400_300_dwpc', 'KGJT_d400_300_drct', 'KGJT_d400_300_speed_kts', \\\n",
    " 'KGJT_d400_250_height_m', 'KGJT_d400_250_tmpc', 'KGJT_d400_250_dwpc', 'KGJT_d400_250_drct', 'KGJT_d400_250_speed_kts', \\\n",
    " 'KGJT_d400_200_height_m', 'KGJT_d400_200_tmpc', 'KGJT_d400_200_dwpc', 'KGJT_d400_200_drct', 'KGJT_d400_200_speed_kts', \\\n",
    " 'KGJT_d300_250_height_m', 'KGJT_d300_250_tmpc', 'KGJT_d300_250_dwpc', 'KGJT_d300_250_drct', 'KGJT_d300_250_speed_kts', \\\n",
    " 'KGJT_d300_200_height_m', 'KGJT_d300_200_tmpc', 'KGJT_d300_200_dwpc', 'KGJT_d300_200_drct', 'KGJT_d300_200_speed_kts', \\\n",
    " 'KGJT_d250_200_height_m', 'KGJT_d250_200_tmpc', 'KGJT_d250_200_dwpc', 'KGJT_d250_200_drct', 'KGJT_d250_200_speed_kts']\n",
    "\n",
    "good_vars = []\n",
    "bad_vars = []\n",
    "for var in variables:\n",
    "    idx = np.isfinite(asos_snotel_UA_df[all_yrs]['CMtnSNTL_Upcoming12hrSNOWFALL_gte3_in']) & np.isfinite(asos_snotel_UA_df[all_yrs][var])\n",
    "    total_poss = len(asos_snotel_UA_df[all_yrs]['CMtnSNTL_Upcoming12hrSNOWFALL_gte3_in'][asos_snotel_UA_df[all_yrs]['CMtnSNTL_Upcoming12hrSNOWFALL_gte3_in']>=0])\n",
    "    total_avail =len(asos_snotel_UA_df[all_yrs][idx])\n",
    "    if total_avail/total_poss >= 0.67: \n",
    "        good_vars.append(var)\n",
    "    else:\n",
    "        bad_vars.append(var)\n",
    "        \n",
    "print('Variables with >= 67% data match to snowfall: ')\n",
    "print(good_vars)\n",
    "print('Variables with < 67% data match to snowfall: ')\n",
    "print(bad_vars)"
   ]
  },
  {
   "cell_type": "code",
   "execution_count": 4,
   "metadata": {},
   "outputs": [
    {
     "name": "stdout",
     "output_type": "stream",
     "text": [
      "['CMtnSNTL_Temp_degC', 'CMtn_Temperature_degC', 'CMtn_Dewpoint_degC', 'CMtn_WindDirection_deg', 'CMtn_WindSpeed_mps', 'LXV_Temperature_degC', 'LXV_Dewpoint_degC', 'LXV_Pressure_hp', 'LXV_WindSpeed_mps', 'LXV_WindDirection_deg', 'LXV_12hr_delta_Pressure_hp', 'KGJT_200mb_height_m', 'KGJT_200mb_tmpc', 'KGJT_200mb_dwpc', 'KGJT_200mb_drct', 'KGJT_200mb_speed_kts', 'KGJT_250mb_height_m', 'KGJT_250mb_tmpc', 'KGJT_250mb_dwpc', 'KGJT_250mb_drct', 'KGJT_250mb_speed_kts', 'KGJT_300mb_height_m', 'KGJT_300mb_tmpc', 'KGJT_300mb_dwpc', 'KGJT_300mb_drct', 'KGJT_300mb_speed_kts', 'KGJT_400mb_height_m', 'KGJT_400mb_tmpc', 'KGJT_400mb_dwpc', 'KGJT_400mb_drct', 'KGJT_400mb_speed_kts', 'KGJT_500mb_height_m', 'KGJT_500mb_tmpc', 'KGJT_500mb_dwpc', 'KGJT_500mb_drct', 'KGJT_500mb_speed_kts', 'KGJT_700mb_height_m', 'KGJT_700mb_tmpc', 'KGJT_700mb_dwpc', 'KGJT_700mb_drct', 'KGJT_700mb_speed_kts', 'KGJT_850mb_height_m', 'KGJT_d850_700_height_m', 'KGJT_d850_500_height_m', 'KGJT_d850_400_height_m', 'KGJT_d850_300_height_m', 'KGJT_d850_250_height_m', 'KGJT_d850_200_height_m', 'KGJT_d700_500_height_m', 'KGJT_d700_500_tmpc', 'KGJT_d700_500_dwpc', 'KGJT_d700_500_drct', 'KGJT_d700_500_speed_kts', 'KGJT_d700_400_height_m', 'KGJT_d700_400_tmpc', 'KGJT_d700_400_dwpc', 'KGJT_d700_400_drct', 'KGJT_d700_400_speed_kts', 'KGJT_d700_300_height_m', 'KGJT_d700_300_tmpc', 'KGJT_d700_300_dwpc', 'KGJT_d700_300_drct', 'KGJT_d700_300_speed_kts', 'KGJT_d700_250_height_m', 'KGJT_d700_250_tmpc', 'KGJT_d700_250_dwpc', 'KGJT_d700_250_drct', 'KGJT_d700_250_speed_kts', 'KGJT_d700_200_height_m', 'KGJT_d700_200_tmpc', 'KGJT_d700_200_dwpc', 'KGJT_d700_200_drct', 'KGJT_d700_200_speed_kts', 'KGJT_d500_400_height_m', 'KGJT_d500_400_tmpc', 'KGJT_d500_400_dwpc', 'KGJT_d500_400_drct', 'KGJT_d500_400_speed_kts', 'KGJT_d500_300_height_m', 'KGJT_d500_300_tmpc', 'KGJT_d500_300_dwpc', 'KGJT_d500_300_drct', 'KGJT_d500_300_speed_kts', 'KGJT_d500_250_height_m', 'KGJT_d500_250_tmpc', 'KGJT_d500_250_dwpc', 'KGJT_d500_250_drct', 'KGJT_d500_250_speed_kts', 'KGJT_d500_200_height_m', 'KGJT_d500_200_tmpc', 'KGJT_d500_200_dwpc', 'KGJT_d500_200_drct', 'KGJT_d500_200_speed_kts', 'KGJT_d400_300_height_m', 'KGJT_d400_300_tmpc', 'KGJT_d400_300_dwpc', 'KGJT_d400_300_drct', 'KGJT_d400_300_speed_kts', 'KGJT_d400_250_height_m', 'KGJT_d400_250_tmpc', 'KGJT_d400_250_dwpc', 'KGJT_d400_250_drct', 'KGJT_d400_250_speed_kts', 'KGJT_d400_200_height_m', 'KGJT_d400_200_tmpc', 'KGJT_d400_200_dwpc', 'KGJT_d400_200_drct', 'KGJT_d400_200_speed_kts', 'KGJT_d300_250_height_m', 'KGJT_d300_250_tmpc', 'KGJT_d300_250_dwpc', 'KGJT_d300_250_drct', 'KGJT_d300_250_speed_kts', 'KGJT_d300_200_height_m', 'KGJT_d300_200_tmpc', 'KGJT_d300_200_dwpc', 'KGJT_d300_200_drct', 'KGJT_d300_200_speed_kts', 'KGJT_d250_200_height_m', 'KGJT_d250_200_tmpc', 'KGJT_d250_200_dwpc', 'KGJT_d250_200_drct', 'KGJT_d250_200_speed_kts', 'CMtnSNTL_Upcoming12hrSNOWFALL_gte3_in']\n"
     ]
    }
   ],
   "source": [
    "good_vars_snf =[]\n",
    "filtered_asos_snotel_UA_df = pd.DataFrame()\n",
    "\n",
    "\n",
    "good_vars_snf = good_vars + ['CMtnSNTL_Upcoming12hrSNOWFALL_gte3_in']\n",
    "print(good_vars_snf )\n",
    "filtered_asos_snotel_UA_df=  asos_snotel_UA_df[good_vars_snf].copy()\n",
    "test_train_df = asos_snotel_UA_df[good_vars_snf].dropna()\n"
   ]
  },
  {
   "cell_type": "markdown",
   "metadata": {},
   "source": [
    "It is important to keep in mind that 'CMtnSNTL_12hr_SNWD_in contains snow depth info taken at the start of the respective 12hr period timestamp.  The snowfall calculated also gives the snowfall that fell in the 12hrs after the timestamp.  The OLS model will utilize hourly meteorological measurements at exactly 00:00 and 12:00 hours to predict the amount of snow which will fall in the next 12 hour period.  For example, the 00:00 meteorological measurements will be used to predict the snow which fell between 00:00 and 12:00."
   ]
  },
  {
   "cell_type": "markdown",
   "metadata": {},
   "source": [
    "# Now try Cross Validation using Timeseries split"
   ]
  },
  {
   "cell_type": "code",
   "execution_count": 5,
   "metadata": {},
   "outputs": [
    {
     "name": "stdout",
     "output_type": "stream",
     "text": [
      "[['CMtn_Dewpoint_degC', 'CMtn_WindSpeed_mps', 'LXV_12hr_delta_Pressure_hp'], ['LXV_12hr_delta_Pressure_hp', 'CMtn_WindDirection_deg', 'CMtn_WindSpeed_mps', 'CMtn_Dewpoint_degC'], ['KGJT_d400_250_dwpc', 'CMtnSNTL_Temp_degC', 'LXV_12hr_delta_Pressure_hp', 'KGJT_700mb_drct', 'KGJT_d500_300_drct', 'CMtn_Dewpoint_degC', 'KGJT_250mb_tmpc', 'KGJT_d250_200_dwpc', 'KGJT_d300_250_drct', 'KGJT_d400_200_tmpc', 'CMtn_WindSpeed_mps', 'KGJT_d500_400_height_m'], ['KGJT_d700_250_drct', 'KGJT_d400_300_drct', 'LXV_Temperature_degC', 'LXV_WindSpeed_mps', 'KGJT_400mb_drct', 'KGJT_d300_200_dwpc', 'CMtnSNTL_Temp_degC', 'KGJT_d700_400_tmpc', 'KGJT_d250_200_dwpc', 'KGJT_700mb_speed_kts', 'KGJT_500mb_drct', 'KGJT_d250_200_tmpc', 'KGJT_d500_200_height_m', 'KGJT_d300_250_drct', 'CMtn_WindDirection_deg', 'KGJT_d250_200_speed_kts', 'KGJT_250mb_drct', 'KGJT_400mb_dwpc', 'KGJT_d700_500_drct', 'CMtn_Dewpoint_degC']]\n",
      "4\n"
     ]
    }
   ],
   "source": [
    "#Create a lists of lists with best features for each test/train split set of interest such that\n",
    "# best_features = [ [#Best Features of Surface Data only 2006,2017 test/2007-2016  train split], [#Best Features of Surface Data only 2006,2017 test/2006-2013,2015-2017 train split], \\\n",
    "# [Best Features of Surface+UA Data only 2006,2017 test/2007-2016  train split], [#Best Features of Surface+UA Data only 2006,2017 test/2006-2013,2015-2017 train split]\n",
    "    \n",
    "best_feature_dictionary = { 'SFC-0617': ['CMtn_Dewpoint_degC', 'CMtn_WindSpeed_mps','LXV_12hr_delta_Pressure_hp'], \\\n",
    "                            'SFC-2014': ['LXV_12hr_delta_Pressure_hp', 'CMtn_WindDirection_deg', 'CMtn_WindSpeed_mps', 'CMtn_Dewpoint_degC'], \\\n",
    "                           'UASFC-0617':  ['KGJT_d400_250_dwpc', 'CMtnSNTL_Temp_degC', 'LXV_12hr_delta_Pressure_hp', 'KGJT_700mb_drct', \\\n",
    "                               'KGJT_d500_300_drct', 'CMtn_Dewpoint_degC', 'KGJT_250mb_tmpc', 'KGJT_d250_200_dwpc', 'KGJT_d300_250_drct', \\\n",
    "                               'KGJT_d400_200_tmpc', 'CMtn_WindSpeed_mps', 'KGJT_d500_400_height_m'], \\\n",
    "                           'UASFC-2014': ['KGJT_d700_250_drct', 'KGJT_d400_300_drct', 'LXV_Temperature_degC', 'LXV_WindSpeed_mps', 'KGJT_400mb_drct', \\\n",
    "                               'KGJT_d300_200_dwpc', 'CMtnSNTL_Temp_degC', 'KGJT_d700_400_tmpc', 'KGJT_d250_200_dwpc', 'KGJT_700mb_speed_kts', \\\n",
    "                               'KGJT_500mb_drct', 'KGJT_d250_200_tmpc', 'KGJT_d500_200_height_m', 'KGJT_d300_250_drct', 'CMtn_WindDirection_deg', \\\n",
    "                               'KGJT_d250_200_speed_kts', 'KGJT_250mb_drct', 'KGJT_400mb_dwpc', 'KGJT_d700_500_drct', 'CMtn_Dewpoint_degC']}\n",
    "                       \n",
    "\n",
    "                           \n",
    "                           \n",
    "descriptors = list(best_feature_dictionary.keys())\n",
    "best_features =  list(best_feature_dictionary.values())\n",
    "\n",
    "print(best_features)\n",
    "print(len(best_features))\n",
    "#print(descriptors)"
   ]
  },
  {
   "cell_type": "markdown",
   "metadata": {},
   "source": [
    "**Obtain feature data for each feature set in best_features, along with corresponding snowfall**"
   ]
  },
  {
   "cell_type": "code",
   "execution_count": null,
   "metadata": {},
   "outputs": [],
   "source": []
  },
  {
   "cell_type": "code",
   "execution_count": 6,
   "metadata": {},
   "outputs": [
    {
     "name": "stdout",
     "output_type": "stream",
     "text": [
      "-1\n",
      "SFC-0617 0 43\n",
      "SFC-0617 0 170\n",
      "SFC-0617 0 213\n",
      "4\n",
      "SFC-2014 1 37\n",
      "SFC-2014 1 176\n",
      "SFC-2014 1 213\n",
      "-1\n",
      "UASFC-0617 2 43\n",
      "UASFC-0617 2 170\n",
      "UASFC-0617 2 213\n",
      "6\n",
      "UASFC-2014 3 37\n",
      "UASFC-2014 3 176\n",
      "UASFC-2014 3 213\n"
     ]
    }
   ],
   "source": [
    "train_yrs, test_yrs, all_yrs = [],[], []\n",
    "X_feat_test,Y_actsnf_test = [], []\n",
    "X_feat_train,Y_actsnf_train = [], []\n",
    "X_feat_all,Y_actsnf_all = [], []\n",
    "X_dates = []\n",
    "\n",
    "#all_yrs = (test_train_df.index >= '01-01-2006') & (test_train_df.index < '01-01-2018')\n",
    "#train_yrs[0] = ((test_train_df.index >= '01-01-2006') & (test_train_df.index < '01-01-2014')) | ((test_train_df.index >= '01-01-2015') & (test_train_df.index < '01-01-2018'))\n",
    "#test_yrs[0] = (test_train_df.index >= '01-01-2014') & (test_train_df.index < '01-01-2015')\n",
    "\n",
    "#test_yrs[1]=  ((test_train_df.index >= '01-01-2006') & (test_train_df.index < '01-01-2007')) | ((test_train_df.index >= '01-01-2017') & (test_train_df.index< '01-01-2018'))\n",
    "#train_yrs[1] = (test_train_df.index >= '01-01-2007') & (test_train_df.index < '01-01-2017')\n",
    "\n",
    "\n",
    "\n",
    "#Loop through each feature set in best_features\n",
    "\n",
    "for bf in np.arange(0,len(best_features),1):               \n",
    "  X_temp, Y_temp = [], []\n",
    "\n",
    "  idx_test, idx_train = [], []\n",
    "  if descriptors[bf].find('2014')>0:\n",
    "    test_yrs = (test_train_df.index >= '01-01-2014') & (test_train_df.index < '01-01-2015')\n",
    "    train_yrs = ((test_train_df.index >= '01-01-2006') & (test_train_df.index < '01-01-2014')) | ((test_train_df.index >= '01-01-2015') & (test_train_df.index < '01-01-2018'))\n",
    "    all_yrs = (test_train_df.index >= '01-01-2006') & (test_train_df.index < '01-01-2018')\n",
    "   \n",
    "  if descriptors[bf].find('0617')>0:\n",
    "     test_yrs=  ((test_train_df.index >= '01-01-2006') & (test_train_df.index < '01-01-2007')) | ((test_train_df.index >= '01-01-2017') & (test_train_df.index< '01-01-2018'))\n",
    "     train_yrs = (test_train_df.index >= '01-01-2007') & (test_train_df.index < '01-01-2017')\n",
    "     all_yrs = (test_train_df.index >= '01-01-2006') & (test_train_df.index < '01-01-2018')\n",
    "  \n",
    "  print(descriptors[bf].find('2014')) \n",
    "            \n",
    "  idx_test = np.isfinite(test_train_df[test_yrs]['CMtnSNTL_Upcoming12hrSNOWFALL_gte3_in'])\n",
    "  #print(y,bf,len(idx_test))\n",
    "  idx_train = np.isfinite(test_train_df[train_yrs]['CMtnSNTL_Upcoming12hrSNOWFALL_gte3_in'])\n",
    "  idx_all = np.isfinite(test_train_df[all_yrs]['CMtnSNTL_Upcoming12hrSNOWFALL_gte3_in'])\n",
    "  #print(y,bf,len(idx_train))\n",
    "  \n",
    "  for v in best_features[bf]:\n",
    "    \n",
    "    idx_test = idx_test  & np.isfinite(test_train_df[test_yrs][v])\n",
    "    \n",
    "    idx_train = idx_train  & np.isfinite(test_train_df[train_yrs][v])\n",
    "    idx_all = idx_all  & np.isfinite(test_train_df[all_yrs][v])\n",
    "\n",
    "  print(descriptors[bf],bf,len(idx_test))\n",
    "  print(descriptors[bf],bf,len(idx_train))\n",
    "  print(descriptors[bf],bf,len(idx_all))\n",
    "\n",
    "  Y_temp_test= round(test_train_df['CMtnSNTL_Upcoming12hrSNOWFALL_gte3_in'][test_yrs][idx_test],0)\n",
    "  Y_temp_train= round(test_train_df['CMtnSNTL_Upcoming12hrSNOWFALL_gte3_in'][train_yrs][idx_train],0)\n",
    "  Y_temp_all= round(test_train_df['CMtnSNTL_Upcoming12hrSNOWFALL_gte3_in'][all_yrs][idx_all],0)\n",
    "  \n",
    "  Y_actsnf_test.append(Y_temp_test.tolist())\n",
    "  Y_actsnf_train.append(Y_temp_train.tolist())\n",
    "  Y_actsnf_all.append(Y_temp_all.tolist())\n",
    "\n",
    "  X_temp_test = test_train_df[test_yrs][best_features[bf]][idx_test].apply(lambda x: x.tolist(), axis=1)   # only want SFC variables \n",
    "  X_temp_train = test_train_df[train_yrs][best_features[bf]][idx_train].apply(lambda x: x.tolist(), axis=1)\n",
    "  X_temp_all = test_train_df[all_yrs][best_features[bf]][idx_all].apply(lambda x: x.tolist(), axis=1)   \n",
    "  \n",
    "  X_feat_test.append(X_temp_test.tolist())\n",
    "  X_feat_train.append(X_temp_train.tolist())\n",
    "  X_feat_all.append(X_temp_all.tolist())\n",
    "\n",
    " \n",
    "  #Need the timestamps which corresponds to each feature list generated above for some histogram plots\n",
    "#  X_dates.append(test_train_df['2006':'2017'][idx].index.tolist())          #.apply(lambda x: x.tolist(), axis=1)\n",
    "\n",
    "  #print(descriptors[bf],bf,len(Y_actsnf_test))"
   ]
  },
  {
   "cell_type": "code",
   "execution_count": null,
   "metadata": {},
   "outputs": [],
   "source": []
  },
  {
   "cell_type": "markdown",
   "metadata": {},
   "source": [
    "**Define our test/train folds using KFold**"
   ]
  },
  {
   "cell_type": "code",
   "execution_count": 7,
   "metadata": {},
   "outputs": [],
   "source": [
    "from sklearn.model_selection import TimeSeriesSplit # import KFold\n",
    "from sklearn.model_selection import KFold # import KFold\n",
    "\n",
    "from scipy.stats import pearsonr, linregress\n",
    "from sklearn.metrics import mean_squared_error\n",
    "from regressors import stats\n",
    "import csv\n",
    "\n"
   ]
  },
  {
   "cell_type": "code",
   "execution_count": 9,
   "metadata": {},
   "outputs": [
    {
     "name": "stdout",
     "output_type": "stream",
     "text": [
      "KFold(n_splits=5, random_state=5, shuffle=True)\n",
      "KFold(n_splits=5, random_state=5, shuffle=True)\n",
      "KFold(n_splits=5, random_state=5, shuffle=True)\n",
      "TRAIN: [ 1  2  4  6  7  8  9 10 11 12 13 14 15 16 17 20 21 24 25 26 27 28 29 30\n",
      " 31 33 34 35 36] TEST: [ 0  3  5 18 19 22 23 32]\n",
      "TRAIN: [ 0  1  3  4  5  7  8  9 11 12 13 14 15 16 17 18 19 21 22 23 25 26 27 28\n",
      " 29 30 32 34 35] TEST: [ 2  6 10 20 24 31 33 36]\n",
      "TRAIN: [ 0  2  3  4  5  6  7  8  9 10 12 14 15 16 17 18 19 20 22 23 24 27 28 30\n",
      " 31 32 33 34 35 36] TEST: [ 1 11 13 21 25 26 29]\n",
      "TRAIN: [ 0  1  2  3  4  5  6  7  8  9 10 11 13 14 16 18 19 20 21 22 23 24 25 26\n",
      " 29 31 32 33 35 36] TEST: [12 15 17 27 28 30 34]\n",
      "TRAIN: [ 0  1  2  3  5  6 10 11 12 13 15 17 18 19 20 21 22 23 24 25 26 27 28 29\n",
      " 30 31 32 33 34 36] TEST: [ 4  7  8  9 14 16 35]\n",
      "TRAIN: [ 0  1  2  5  7  8  9 10 11 12 13 14 15 16 17 18 19 20 21 22 26 27 30 31\n",
      " 32 33 34 35 36 38 39 40 41 42] TEST: [ 3  4  6 23 24 25 28 29 37]\n",
      "TRAIN: [ 1  3  4  6  7  8  9 11 12 13 14 15 16 17 18 20 21 23 24 25 27 28 29 30\n",
      " 31 32 33 34 35 36 37 38 39 40] TEST: [ 0  2  5 10 19 22 26 41 42]\n",
      "TRAIN: [ 0  2  3  4  5  6  7  8  9 10 12 14 15 16 17 19 21 22 23 24 25 26 27 28\n",
      " 29 30 32 35 36 37 38 39 41 42] TEST: [ 1 11 13 18 20 31 33 34 40]\n",
      "TRAIN: [ 0  1  2  3  4  5  6  8  9 10 11 13 14 16 18 19 20 22 23 24 25 26 27 28\n",
      " 29 31 33 34 35 36 37 38 40 41 42] TEST: [ 7 12 15 17 21 30 32 39]\n",
      "TRAIN: [ 0  1  2  3  4  5  6  7 10 11 12 13 15 17 18 19 20 21 22 23 24 25 26 28\n",
      " 29 30 31 32 33 34 37 39 40 41 42] TEST: [ 8  9 14 16 27 35 36 38]\n",
      "TRAIN: [  0   1   2   4   5   7   8   9  10  11  12  13  14  15  16  18  19  20\n",
      "  22  23  24  27  29  30  31  32  33  35  36  38  39  40  41  43  44  45\n",
      "  47  49  50  51  52  56  57  58  59  60  62  63  64  65  66  67  68  69\n",
      "  70  71  72  73  75  76  77  78  79  80  81  82  83  85  86  88  89  90\n",
      "  91  92  94  95  96  97  98  99 100 103 104 105 106 107 108 109 110 111\n",
      " 112 113 114 115 118 120 121 123 124 125 126 128 129 131 132 133 135 136\n",
      " 137 138 139 140 141 143 144 146 147 148 149 150 151 152 153 155 156 157\n",
      " 158 159 161 162 164 165 166 167 168 169 170 172 173 174 175 176 177 178\n",
      " 179 180 181 182 185 186 188 189 190 191 193 194 195 196 198 199 200 202\n",
      " 203 204 205 206 208 209 211 212] TEST: [  3   6  17  21  25  26  28  34  37  42  46  48  53  54  55  61  74  84\n",
      "  87  93 101 102 116 117 119 122 127 130 134 142 145 154 160 163 171 183\n",
      " 184 187 192 197 201 207 210]\n",
      "TRAIN: [  0   2   3   4   5   6   7   8   9  10  11  13  14  15  16  17  18  20\n",
      "  21  22  25  26  27  28  29  30  31  32  33  34  35  36  37  38  41  42\n",
      "  44  46  47  48  49  52  53  54  55  58  60  61  64  65  67  68  69  70\n",
      "  72  73  74  75  76  78  79  80  81  82  83  84  85  86  87  88  91  92\n",
      "  93  94  97  98  99 100 101 102 103 104 105 106 107 108 109 110 111 112\n",
      " 113 115 116 117 118 119 121 122 123 124 125 126 127 128 129 130 131 132\n",
      " 133 134 135 136 137 139 140 141 142 143 144 145 146 147 148 150 151 152\n",
      " 154 155 156 158 160 161 162 163 164 165 167 169 170 171 173 175 177 180\n",
      " 181 182 183 184 185 186 187 188 189 190 192 193 195 196 197 198 199 200\n",
      " 201 202 206 207 208 209 210 211] TEST: [  1  12  19  23  24  39  40  43  45  50  51  56  57  59  62  63  66  71\n",
      "  77  89  90  95  96 114 120 138 149 153 157 159 166 168 172 174 176 178\n",
      " 179 191 194 203 204 205 212]\n",
      "TRAIN: [  0   1   2   3   5   6   7   8   9  11  12  14  16  17  18  19  21  23\n",
      "  24  25  26  27  28  30  31  32  33  34  37  38  39  40  41  42  43  44\n",
      "  45  46  47  48  50  51  53  54  55  56  57  58  59  61  62  63  64  65\n",
      "  66  67  68  71  73  74  76  77  78  80  82  84  85  86  87  89  90  91\n",
      "  93  94  95  96  99 100 101 102 103 105 106 108 109 110 112 113 114 116\n",
      " 117 118 119 120 121 122 124 125 126 127 128 129 130 131 132 133 134 135\n",
      " 137 138 141 142 143 144 145 146 147 148 149 150 151 153 154 155 157 158\n",
      " 159 160 163 164 165 166 168 170 171 172 173 174 175 176 178 179 181 182\n",
      " 183 184 187 189 190 191 192 193 194 195 196 197 199 200 201 202 203 204\n",
      " 205 206 207 208 209 210 211 212] TEST: [  4  10  13  15  20  22  29  35  36  49  52  60  69  70  72  75  79  81\n",
      "  83  88  92  97  98 104 107 111 115 123 136 139 140 152 156 161 162 167\n",
      " 169 177 180 185 186 188 198]\n",
      "TRAIN: [  0   1   2   3   4   5   6   7   8  10  12  13  15  17  19  20  21  22\n",
      "  23  24  25  26  27  28  29  30  31  34  35  36  37  39  40  41  42  43\n",
      "  44  45  46  48  49  50  51  52  53  54  55  56  57  58  59  60  61  62\n",
      "  63  65  66  68  69  70  71  72  73  74  75  77  79  80  81  83  84  86\n",
      "  87  88  89  90  92  93  95  96  97  98  99 101 102 103 104 105 106 107\n",
      " 110 111 112 113 114 115 116 117 118 119 120 121 122 123 125 127 129 130\n",
      " 132 134 136 137 138 139 140 142 143 144 145 146 149 152 153 154 155 156\n",
      " 157 158 159 160 161 162 163 164 166 167 168 169 171 172 174 175 176 177\n",
      " 178 179 180 181 183 184 185 186 187 188 189 190 191 192 194 196 197 198\n",
      " 201 203 204 205 206 207 208 210 212] TEST: [  9  11  14  16  18  32  33  38  47  64  67  76  78  82  85  91  94 100\n",
      " 108 109 124 126 128 131 133 135 141 147 148 150 151 165 170 173 182 193\n",
      " 195 199 200 202 209 211]\n",
      "TRAIN: [  1   3   4   6   9  10  11  12  13  14  15  16  17  18  19  20  21  22\n",
      "  23  24  25  26  28  29  32  33  34  35  36  37  38  39  40  42  43  45\n",
      "  46  47  48  49  50  51  52  53  54  55  56  57  59  60  61  62  63  64\n",
      "  66  67  69  70  71  72  74  75  76  77  78  79  81  82  83  84  85  87\n",
      "  88  89  90  91  92  93  94  95  96  97  98 100 101 102 104 107 108 109\n",
      " 111 114 115 116 117 119 120 122 123 124 126 127 128 130 131 133 134 135\n",
      " 136 138 139 140 141 142 145 147 148 149 150 151 152 153 154 156 157 159\n",
      " 160 161 162 163 165 166 167 168 169 170 171 172 173 174 176 177 178 179\n",
      " 180 182 183 184 185 186 187 188 191 192 193 194 195 197 198 199 200 201\n",
      " 202 203 204 205 207 209 210 211 212] TEST: [  0   2   5   7   8  27  30  31  41  44  58  65  68  73  80  86  99 103\n",
      " 105 106 110 112 113 118 121 125 129 132 137 143 144 146 155 158 164 175\n",
      " 181 189 190 196 206 208]\n"
     ]
    }
   ],
   "source": [
    "from sklearn.model_selection import TimeSeriesSplit # import KFold\n",
    "from sklearn.model_selection import KFold # import KFold\n",
    "from sklearn import linear_model\n",
    "from sklearn.model_selection import cross_val_score, cross_val_predict\n",
    "lm = linear_model.LinearRegression()\n",
    "\n",
    "from scipy.stats import pearsonr, linregress\n",
    "from sklearn.metrics import mean_squared_error\n",
    "from sklearn import metrics\n",
    "\n",
    "\n",
    "kfcv_0617 = KFold(n_splits=5, shuffle = True, random_state = 5)\n",
    "print(kfcv_0617)\n",
    "\n",
    "kfcv_2014 = KFold(n_splits=5, shuffle = True, random_state = 5)\n",
    "print(kfcv_2014)\n",
    "\n",
    "kfcv_all = KFold(n_splits=5, shuffle = True, random_state = 5)\n",
    "print(kfcv_all) \n",
    "\n",
    "for train_index, test_index in kfcv_2014.split(X_feat_test[1]):\n",
    "  print(\"TRAIN:\", train_index, \"TEST:\", test_index)\n",
    "\n",
    "for train_index, test_index in kfcv_0617.split(X_feat_test[0]):\n",
    "  print(\"TRAIN:\", train_index, \"TEST:\", test_index)\n",
    "\n",
    "for train_index, test_index in kfcv_all.split(X_feat_all[2]):\n",
    "  print(\"TRAIN:\", train_index, \"TEST:\", test_index)"
   ]
  },
  {
   "cell_type": "markdown",
   "metadata": {},
   "source": [
    "**Cross Val on test datasets**"
   ]
  },
  {
   "cell_type": "code",
   "execution_count": 50,
   "metadata": {},
   "outputs": [
    {
     "name": "stdout",
     "output_type": "stream",
     "text": [
      "True\n",
      "43\n",
      "1.1597334928740548\n",
      "False\n",
      "37\n",
      "0.8642427940128522\n",
      "True\n",
      "43\n",
      "1.0444152856393423\n",
      "False\n",
      "37\n",
      "2.0337444676733014\n"
     ]
    },
    {
     "data": {
      "image/png": "[encoded data removed]",
      "text/plain": [
       "<Figure size 1152x864 with 4 Axes>"
      ]
     },
     "metadata": {},
     "output_type": "display_data"
    }
   ],
   "source": [
    "from sklearn.metrics import mean_squared_error\n",
    "fig = plt.figure(figsize=(16,12))\n",
    "fig.tight_layout()\n",
    "fig.suptitle('Test Datasets Only', fontsize=20)\n",
    "\n",
    "\n",
    "for f in np.arange(0,len(X_feat_test),1):\n",
    " lmmodel = lm\n",
    " print(descriptors[f].find('0617')>0)\n",
    " print(len(Y_actsnf_test[f]))\n",
    " if descriptors[f].find('0617')>0:\n",
    "#lmmodel_cv.fit(X_feat_train[f], Y_actsnf_train[f])\n",
    "   Ytest_predictions = cross_val_predict(lmmodel, X_feat_test[f], Y_actsnf_test[f], cv=kfcv_0617)\n",
    "   scores = cross_val_score(lmmodel, X_feat_test[f], Y_actsnf_test[f], \\\n",
    "                             scoring=\"neg_mean_squared_error\", cv=kfcv_0617)\n",
    "\n",
    " \n",
    " if descriptors[f].find('2014')>0:\n",
    "#lmmodel_cv.fit(X_feat_train[f], Y_actsnf_train[f])\n",
    "   Ytest_predictions = cross_val_predict(lmmodel, X_feat_test[f], Y_actsnf_test[f], cv=kfcv_2014)\n",
    "   scores = cross_val_score(lmmodel, X_feat_test[f], Y_actsnf_test[f], \\\n",
    "                             scoring=\"neg_mean_squared_error\", cv=kfcv_2014)\n",
    " \n",
    " std_dev = np.std(np.sqrt(-scores))\n",
    " print(std_dev)\n",
    " \n",
    " plt.subplot(3,2,f+1)\n",
    " plt.bar([p + 0 for p in np.arange(0, len(scores),1)], np.sqrt(-scores))\n",
    " plt.title(\"Feature Set from OLS Analysis: \" + descriptors[f])\n",
    " plt.xlabel(\"Fold Number\")\n",
    " plt.ylabel(\"RMSE (inches)\")\n",
    " #plt.annotate(\"Mean RMSE: \"+ str(round(mean_rmse,3)), xy=(0.03, 0.96), xycoords='axes fraction', fontsize=10)\n",
    " plt.annotate(\"std_dev: \"+ str(round(std_dev,3)), xy=(0.03, 0.96), xycoords='axes fraction', fontsize=10)\n",
    " #print(Ytest_predictions)\n",
    "\n",
    " \n",
    " rows = zip(Y_actsnf_test[f], Ytest_predictions)\n",
    " with open('C:/Users/RAPP/Documents/Capstone/Projects/model_predictions/'+descriptors[f]+'CVLM_testset.csv', \"w\") as file:\n",
    "  writer = csv.writer(file)\n",
    "  for row in rows:\n",
    "      writer.writerow(row)\n",
    "#plt.scatter(Y_actsnf_test[f], Ytest_predictions)\n",
    "plt.show()\n",
    " "
   ]
  },
  {
   "cell_type": "markdown",
   "metadata": {},
   "source": [
    "# All Data"
   ]
  },
  {
   "cell_type": "code",
   "execution_count": null,
   "metadata": {},
   "outputs": [],
   "source": []
  },
  {
   "cell_type": "code",
   "execution_count": 49,
   "metadata": {},
   "outputs": [
    {
     "name": "stdout",
     "output_type": "stream",
     "text": [
      "True\n",
      "213\n",
      "213\n",
      "[1.7234179  2.24141133 1.92168348 2.12906072 2.50778089]\n",
      "0.2685623633013698\n",
      "False\n",
      "213\n",
      "213\n",
      "[1.69773724 2.25154023 1.96584791 2.10349565 2.49651291]\n",
      "0.2683152796594915\n",
      "True\n",
      "213\n",
      "213\n",
      "[1.60342893 2.29428529 1.87262839 2.10383623 2.39136224]\n",
      "0.28633544230045327\n",
      "False\n",
      "213\n",
      "213\n",
      "[1.86299636 2.50425853 1.75320352 2.22927847 2.31956689]\n",
      "0.28250779485040173\n"
     ]
    },
    {
     "data": {
      "image/png": "[encoded data removed]",
      "text/plain": [
       "<Figure size 1296x1080 with 4 Axes>"
      ]
     },
     "metadata": {},
     "output_type": "display_data"
    }
   ],
   "source": [
    "from sklearn.metrics import mean_squared_error\n",
    "fig = plt.figure(figsize=(18,15))\n",
    "fig.tight_layout()\n",
    "fig.suptitle('Test+Train Datasets', fontsize=20)\n",
    "\n",
    "for f in np.arange(0,len(X_feat_all),1):\n",
    " Ytest_predictions, scores = [], []\n",
    " lmmodel = lm\n",
    " print(descriptors[f].find('0617')>0)\n",
    " print(len(Y_actsnf_all[f]))\n",
    "\n",
    "#lmmodel_cv.fit(X_feat_train[f], Y_actsnf_train[f])\n",
    " Ytest_predictions = cross_val_predict(lmmodel, X_feat_all[f], Y_actsnf_all[f], cv=kfcv_all)\n",
    " scores = cross_val_score(lmmodel, X_feat_all[f], Y_actsnf_all[f], \\\n",
    "                             scoring=\"neg_mean_squared_error\", cv=kfcv_all)\n",
    "\n",
    " print(len(Ytest_predictions))\n",
    " #rmse = np.sqrt(mean_squared_error(Y_actsnf_test[f], Ytest_predictions))\n",
    " #print(rmse)  \n",
    " print(np.sqrt(-scores))\n",
    " mean_rmse = np.mean(np.sqrt(-scores))\n",
    " std_dev = np.std(np.sqrt(-scores))\n",
    " print(std_dev)\n",
    " \n",
    " plt.subplot(3,2,f+1)\n",
    " plt.bar([p + 0 for p in np.arange(0, len(scores),1)], np.sqrt(-scores))\n",
    " plt.title(\"Feature Set from OLS Analysis: \" + descriptors[f])\n",
    " plt.xlabel(\"Fold Number\")\n",
    " plt.ylabel(\"RMSE (inches)\")\n",
    " #plt.annotate(\"Mean RMSE: \"+ str(round(mean_rmse,3)), xy=(0.03, 0.96), xycoords='axes fraction', fontsize=10)\n",
    " plt.annotate(\"std_dev: \"+ str(round(std_dev,3)), xy=(0.03, 0.96), xycoords='axes fraction', fontsize=10)\n",
    " #print(Ytest_predictions)\n",
    "\n",
    " \n",
    " rows = zip(Y_actsnf_test[f], Ytest_predictions)\n",
    " with open('C:/Users/RAPP/Documents/Capstone/Projects/model_predictions/'+descriptors[f]+'CVLM.csv', \"w\") as file:\n",
    "  writer = csv.writer(file)\n",
    "  for row in rows:\n",
    "      writer.writerow(row)\n",
    "#plt.scatter(Y_actsnf_test[f], Ytest_predictions)\n",
    "plt.show()\n",
    " "
   ]
  },
  {
   "cell_type": "code",
   "execution_count": null,
   "metadata": {},
   "outputs": [],
   "source": []
  }
 ],
 "metadata": {
  "kernelspec": {
   "display_name": "Python 3",
   "language": "python",
   "name": "python3"
  },
  "language_info": {
   "codemirror_mode": {
    "name": "ipython",
    "version": 3
   },
   "file_extension": ".py",
   "mimetype": "text/x-python",
   "name": "python",
   "nbconvert_exporter": "python",
   "pygments_lexer": "ipython3",
   "version": "3.6.5"
  }
 },
 "nbformat": 4,
 "nbformat_minor": 2
}
